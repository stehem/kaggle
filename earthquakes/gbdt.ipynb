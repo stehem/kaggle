{
 "cells": [
  {
   "cell_type": "code",
   "execution_count": 1,
   "metadata": {},
   "outputs": [
    {
     "data": {
      "text/html": [
       "<style>.container { width:100% !important; }</style>"
      ],
      "text/plain": [
       "<IPython.core.display.HTML object>"
      ]
     },
     "metadata": {},
     "output_type": "display_data"
    }
   ],
   "source": [
    "from IPython.core.display import display, HTML\n",
    "display(HTML(\"<style>.container { width:100% !important; }</style>\"))"
   ]
  },
  {
   "cell_type": "code",
   "execution_count": 2,
   "metadata": {},
   "outputs": [],
   "source": [
    "import pandas as pd\n",
    "import numpy as np\n",
    "import os\n",
    "\n",
    "\n",
    "import gc\n",
    "import pickle as pickle\n",
    "\n",
    "from sklearn.model_selection import KFold\n",
    "\n",
    "from catboost import CatBoostRegressor\n",
    "import lightgbm as lgbm\n",
    "\n",
    "import itertools\n",
    "\n",
    "import multiprocessing as mp\n",
    "import importlib\n",
    "from sklearn.model_selection import train_test_split"
   ]
  },
  {
   "cell_type": "code",
   "execution_count": 14,
   "metadata": {},
   "outputs": [],
   "source": [
    "#tail -n +2 train.csv | split -l 150000\n",
    "pd.set_option('display.max_columns', None)  \n",
    "pd.set_option('display.expand_frame_repr', False)\n",
    "pd.set_option('max_colwidth', -1)"
   ]
  },
  {
   "cell_type": "code",
   "execution_count": 4,
   "metadata": {},
   "outputs": [],
   "source": [
    "from os import listdir\n",
    "from os.path import isfile, join\n",
    "\n",
    "TRAIN_SPLITS='train'\n",
    "splits = [f for f in listdir(TRAIN_SPLITS) if isfile(join(TRAIN_SPLITS, f))]"
   ]
  },
  {
   "cell_type": "code",
   "execution_count": 5,
   "metadata": {},
   "outputs": [],
   "source": [
    "file = np.random.choice(splits)\n",
    "df = pd.read_csv(f'train/{file}', float_precision='round_trip', header=0)\n",
    "columns = ['acoustic_data','time_to_failure']\n",
    "df.columns = columns"
   ]
  },
  {
   "cell_type": "code",
   "execution_count": 12,
   "metadata": {},
   "outputs": [
    {
     "name": "stdout",
     "output_type": "stream",
     "text": [
      "0\n",
      "0\n",
      "0\n",
      "0\n",
      "0\n",
      "0\n",
      "0\n",
      "0\n",
      "100\n",
      "100\n",
      "100\n",
      "100\n",
      "100\n",
      "100\n",
      "100\n",
      "100\n",
      "200\n",
      "200\n",
      "200\n",
      "200\n",
      "200\n",
      "200\n",
      "200\n",
      "200\n",
      "300\n",
      "300\n",
      "300\n",
      "300\n",
      "300\n",
      "300\n",
      "300\n",
      "300\n",
      "400\n",
      "400\n",
      "400\n",
      "400\n",
      "400\n",
      "400\n",
      "400\n",
      "400\n",
      "500\n",
      "500\n",
      "500\n",
      "500\n",
      "500\n",
      "500\n",
      "500\n",
      "500\n"
     ]
    }
   ],
   "source": [
    "TIMESTEPS=1\n",
    "\n",
    "import build_segment\n",
    "importlib.reload(build_segment)\n",
    "\n",
    "from build_segment import build_segment_f\n",
    "\n",
    "split_chunks = np.array_split(splits,mp.cpu_count())\n",
    "\n",
    "#def build_segment_f(splits, number_of_groups,test=False, augment=False, scale=True, noise=0.5):\n",
    "\n",
    "param_test = False\n",
    "param_augment = False\n",
    "param_scale = False\n",
    "param_noise = 0.5\n",
    "\n",
    "\n",
    "if __name__ ==  '__main__':\n",
    "    pool = mp.Pool(mp.cpu_count())\n",
    "    res = [pool.apply_async(build_segment_f,args=[chunk,TIMESTEPS,param_test,param_augment,param_scale,param_noise]) for chunk in split_chunks]\n",
    "    pool.close()\n",
    "    pool.join()"
   ]
  },
  {
   "cell_type": "code",
   "execution_count": 15,
   "metadata": {
    "scrolled": false
   },
   "outputs": [
    {
     "data": {
      "text/html": [
       "<div>\n",
       "<style scoped>\n",
       "    .dataframe tbody tr th:only-of-type {\n",
       "        vertical-align: middle;\n",
       "    }\n",
       "\n",
       "    .dataframe tbody tr th {\n",
       "        vertical-align: top;\n",
       "    }\n",
       "\n",
       "    .dataframe thead th {\n",
       "        text-align: right;\n",
       "    }\n",
       "</style>\n",
       "<table border=\"1\" class=\"dataframe\">\n",
       "  <thead>\n",
       "    <tr style=\"text-align: right;\">\n",
       "      <th></th>\n",
       "      <th>mean</th>\n",
       "      <th>max</th>\n",
       "      <th>min</th>\n",
       "      <th>std</th>\n",
       "      <th>abs</th>\n",
       "      <th>q25</th>\n",
       "      <th>q50</th>\n",
       "      <th>q75</th>\n",
       "      <th>sum</th>\n",
       "      <th>uniq</th>\n",
       "      <th>pos</th>\n",
       "      <th>negs</th>\n",
       "      <th>ssum</th>\n",
       "      <th>imax</th>\n",
       "      <th>imin</th>\n",
       "      <th>abs_nrg</th>\n",
       "      <th>abs_sum_chg</th>\n",
       "      <th>autocorr_10</th>\n",
       "      <th>cid_ce</th>\n",
       "      <th>kurtosis</th>\n",
       "      <th>mean_chg</th>\n",
       "      <th>reocurring_pct</th>\n",
       "      <th>r_sigma</th>\n",
       "      <th>ratio_to_length</th>\n",
       "      <th>skewness</th>\n",
       "      <th>strike_below</th>\n",
       "      <th>strike_above</th>\n",
       "      <th>last_loc_max</th>\n",
       "      <th>first_loc_max</th>\n",
       "      <th>last_loc_min</th>\n",
       "      <th>first_loc_min</th>\n",
       "      <th>perc_reocurr_dp</th>\n",
       "      <th>perc_reocurr_all</th>\n",
       "      <th>sum_reoccurr_val</th>\n",
       "      <th>sum_reoccurr_dp</th>\n",
       "      <th>ratio_value_number</th>\n",
       "      <th>peaks</th>\n",
       "      <th>time_to_failure</th>\n",
       "      <th>augmented</th>\n",
       "    </tr>\n",
       "  </thead>\n",
       "  <tbody>\n",
       "    <tr>\n",
       "      <th>0</th>\n",
       "      <td>4.811387</td>\n",
       "      <td>108.0</td>\n",
       "      <td>-76.0</td>\n",
       "      <td>4.790863</td>\n",
       "      <td>184.0</td>\n",
       "      <td>3.0</td>\n",
       "      <td>5.0</td>\n",
       "      <td>7.0</td>\n",
       "      <td>721708.0</td>\n",
       "      <td>129.0</td>\n",
       "      <td>133141.0</td>\n",
       "      <td>11175.0</td>\n",
       "      <td>818076.0</td>\n",
       "      <td>143729.0</td>\n",
       "      <td>29498.0</td>\n",
       "      <td>6915272.0</td>\n",
       "      <td>389228.0</td>\n",
       "      <td>-0.410707</td>\n",
       "      <td>271.678952</td>\n",
       "      <td>22.444657</td>\n",
       "      <td>0.0</td>\n",
       "      <td>0.875969</td>\n",
       "      <td>0.038907</td>\n",
       "      <td>0.00086</td>\n",
       "      <td>0.210289</td>\n",
       "      <td>23.0</td>\n",
       "      <td>27.0</td>\n",
       "      <td>0.9582</td>\n",
       "      <td>0.958193</td>\n",
       "      <td>0.19666</td>\n",
       "      <td>0.196653</td>\n",
       "      <td>0.875969</td>\n",
       "      <td>0.999893</td>\n",
       "      <td>545.0</td>\n",
       "      <td>721173.0</td>\n",
       "      <td>0.00086</td>\n",
       "      <td>453.0</td>\n",
       "      <td>5.3051</td>\n",
       "      <td>False</td>\n",
       "    </tr>\n",
       "  </tbody>\n",
       "</table>\n",
       "</div>"
      ],
      "text/plain": [
       "       mean    max   min       std    abs  q25  q50  q75       sum   uniq       pos     negs      ssum      imax     imin    abs_nrg  abs_sum_chg  autocorr_10      cid_ce   kurtosis  mean_chg  reocurring_pct   r_sigma  ratio_to_length  skewness  strike_below  strike_above  last_loc_max  first_loc_max  last_loc_min  first_loc_min  perc_reocurr_dp  perc_reocurr_all  sum_reoccurr_val  sum_reoccurr_dp  ratio_value_number  peaks  time_to_failure  augmented\n",
       "0  4.811387  108.0 -76.0  4.790863  184.0  3.0  5.0  7.0  721708.0  129.0  133141.0  11175.0  818076.0  143729.0  29498.0  6915272.0  389228.0    -0.410707     271.678952  22.444657  0.0       0.875969        0.038907  0.00086          0.210289  23.0          27.0          0.9582        0.958193       0.19666       0.196653       0.875969         0.999893          545.0             721173.0         0.00086             453.0  5.3051           False    "
      ]
     },
     "execution_count": 15,
     "metadata": {},
     "output_type": "execute_result"
    }
   ],
   "source": [
    "res[0].get()[100]"
   ]
  },
  {
   "cell_type": "code",
   "execution_count": 33,
   "metadata": {},
   "outputs": [],
   "source": [
    "columns=res[0].get()[0].columns.values\n",
    "\n",
    "data = pd.DataFrame(columns=columns)\n",
    "\n",
    "\n",
    "i=0\n",
    "for r in res:\n",
    "    for df in r.get():\n",
    "        data = data.append(df)\n",
    "        i+=1\n",
    "        \n",
    "\n",
    "data.reset_index(drop=True,inplace=True)\n"
   ]
  },
  {
   "cell_type": "code",
   "execution_count": null,
   "metadata": {},
   "outputs": [],
   "source": [
    "\n",
    "data.sample(10)"
   ]
  },
  {
   "cell_type": "code",
   "execution_count": 34,
   "metadata": {},
   "outputs": [],
   "source": [
    "combinations2 = list(itertools.combinations(data.columns.values, 2))\n",
    "combinations3 = list(itertools.combinations(data.columns.values, 3))\n"
   ]
  },
  {
   "cell_type": "code",
   "execution_count": 22,
   "metadata": {},
   "outputs": [],
   "source": [
    "\n",
    "for combination in combinations2:\n",
    "    if 'augmented' in combination or 'time_to_failure' in combination:\n",
    "        continue\n",
    "    f1 = combination[0]\n",
    "    f2 = combination[1]\n",
    "    feature = f'{f1}_mult_{f2}'\n",
    "    data[feature] = data[f1] * data[f2]\n",
    "    feature = f'{f1}_plus_{f2}'\n",
    "    data[feature] = data[f1] + data[f2]\n",
    "    feature = f'{f1}_div_{f2}'\n",
    "    #print(feature)\n",
    "    data[feature] = data[f1] / data[f2]\n",
    "    data[feature] = pd.to_numeric(data[feature], downcast='float')\n"
   ]
  },
  {
   "cell_type": "code",
   "execution_count": 24,
   "metadata": {},
   "outputs": [],
   "source": [
    "\n",
    "for combination in combinations3:\n",
    "    if 'augmented' in combination or 'time_to_failure' in combination:\n",
    "        continue\n",
    "    f1 = combination[0]\n",
    "    f2 = combination[1]\n",
    "    f3 = combination[2]\n",
    "    feature = f'{f1}_mult_{f2}_mult_{f3}'\n",
    "    data[feature] = data[f1] * data[f2] * data[f3]\n",
    "    feature = f'{f1}_plus_{f2}_plus_{f3}'\n",
    "    data[feature] = data[f1] + data[f2] + data[f3]\n",
    "    feature = f'{f1}_div_{f2}_div_{f3}'\n",
    "    #print(feature)\n",
    "    data[feature] = data[f1] / data[f2] / data[f3]\n",
    "    data[feature] = pd.to_numeric(data[feature], downcast='float')\n",
    "    "
   ]
  },
  {
   "cell_type": "code",
   "execution_count": null,
   "metadata": {},
   "outputs": [],
   "source": [
    "len(combinations)"
   ]
  },
  {
   "cell_type": "code",
   "execution_count": 35,
   "metadata": {},
   "outputs": [],
   "source": [
    "\n",
    "test_size = 0.1\n",
    "#train_data, val_data, y_train, y_val = train_test_split(training, targets, test_size=test_size, random_state=42)\n",
    "\n",
    "val_size = int(len(data)*0.1)\n",
    "non_augmented = data[data['augmented'] == False]\n",
    "val_indices = np.random.choice(non_augmented.index.values, val_size)\n",
    "val_data = data[data.index.isin(val_indices)].drop('augmented', axis=1)\n",
    "train_data = data[~data.index.isin(val_indices)].drop('augmented', axis=1)\n",
    "\n",
    "train_y = train_data['time_to_failure']\n",
    "val_y = val_data['time_to_failure']\n",
    "\n",
    "train_data = train_data.drop('time_to_failure', axis=1)\n",
    "val_data = val_data.drop('time_to_failure', axis=1)"
   ]
  },
  {
   "cell_type": "code",
   "execution_count": 36,
   "metadata": {},
   "outputs": [],
   "source": [
    "features = train_data.columns.values"
   ]
  },
  {
   "cell_type": "code",
   "execution_count": 41,
   "metadata": {
    "scrolled": true
   },
   "outputs": [
    {
     "name": "stdout",
     "output_type": "stream",
     "text": [
      "0:\tlearn: 5.5387513\ttest: 5.3521091\tbest: 5.3521091 (0)\ttotal: 70.1ms\tremaining: 11m 41s\n",
      "1:\tlearn: 5.3840508\ttest: 5.1983856\tbest: 5.1983856 (1)\ttotal: 80.7ms\tremaining: 6m 43s\n",
      "2:\tlearn: 5.2338774\ttest: 5.0485769\tbest: 5.0485769 (2)\ttotal: 91.6ms\tremaining: 5m 5s\n",
      "3:\tlearn: 5.0899611\ttest: 4.9071396\tbest: 4.9071396 (3)\ttotal: 102ms\tremaining: 4m 15s\n",
      "4:\tlearn: 4.9519051\ttest: 4.7707590\tbest: 4.7707590 (4)\ttotal: 113ms\tremaining: 3m 45s\n",
      "5:\tlearn: 4.8207730\ttest: 4.6435209\tbest: 4.6435209 (5)\ttotal: 123ms\tremaining: 3m 24s\n",
      "6:\tlearn: 4.6951293\ttest: 4.5216865\tbest: 4.5216865 (6)\ttotal: 132ms\tremaining: 3m 7s\n",
      "7:\tlearn: 4.5749264\ttest: 4.4043618\tbest: 4.4043618 (7)\ttotal: 141ms\tremaining: 2m 56s\n",
      "8:\tlearn: 4.4582591\ttest: 4.2924304\tbest: 4.2924304 (8)\ttotal: 155ms\tremaining: 2m 52s\n",
      "9:\tlearn: 4.3472953\ttest: 4.1839236\tbest: 4.1839236 (9)\ttotal: 166ms\tremaining: 2m 45s\n",
      "10:\tlearn: 4.2412727\ttest: 4.0817149\tbest: 4.0817149 (10)\ttotal: 179ms\tremaining: 2m 42s\n",
      "11:\tlearn: 4.1396747\ttest: 3.9845188\tbest: 3.9845188 (11)\ttotal: 189ms\tremaining: 2m 36s\n",
      "12:\tlearn: 4.0422227\ttest: 3.8892741\tbest: 3.8892741 (12)\ttotal: 198ms\tremaining: 2m 32s\n",
      "13:\tlearn: 3.9497019\ttest: 3.7991166\tbest: 3.7991166 (13)\ttotal: 208ms\tremaining: 2m 28s\n",
      "14:\tlearn: 3.8604273\ttest: 3.7125095\tbest: 3.7125095 (14)\ttotal: 218ms\tremaining: 2m 25s\n",
      "15:\tlearn: 3.7741538\ttest: 3.6303044\tbest: 3.6303044 (15)\ttotal: 227ms\tremaining: 2m 21s\n",
      "16:\tlearn: 3.6914534\ttest: 3.5508121\tbest: 3.5508121 (16)\ttotal: 236ms\tremaining: 2m 18s\n",
      "17:\tlearn: 3.6126415\ttest: 3.4738869\tbest: 3.4738869 (17)\ttotal: 245ms\tremaining: 2m 16s\n",
      "18:\tlearn: 3.5359104\ttest: 3.3985079\tbest: 3.3985079 (18)\ttotal: 255ms\tremaining: 2m 13s\n",
      "19:\tlearn: 3.4642530\ttest: 3.3304927\tbest: 3.3304927 (19)\ttotal: 264ms\tremaining: 2m 11s\n",
      "20:\tlearn: 3.3937307\ttest: 3.2614862\tbest: 3.2614862 (20)\ttotal: 275ms\tremaining: 2m 10s\n",
      "21:\tlearn: 3.3253868\ttest: 3.1940373\tbest: 3.1940373 (21)\ttotal: 286ms\tremaining: 2m 9s\n",
      "22:\tlearn: 3.2598415\ttest: 3.1293256\tbest: 3.1293256 (22)\ttotal: 297ms\tremaining: 2m 8s\n",
      "23:\tlearn: 3.1970629\ttest: 3.0691885\tbest: 3.0691885 (23)\ttotal: 309ms\tremaining: 2m 8s\n",
      "24:\tlearn: 3.1383497\ttest: 3.0116755\tbest: 3.0116755 (24)\ttotal: 322ms\tremaining: 2m 8s\n",
      "25:\tlearn: 3.0811670\ttest: 2.9558782\tbest: 2.9558782 (25)\ttotal: 332ms\tremaining: 2m 7s\n",
      "26:\tlearn: 3.0271336\ttest: 2.9030116\tbest: 2.9030116 (26)\ttotal: 342ms\tremaining: 2m 6s\n",
      "27:\tlearn: 2.9763221\ttest: 2.8535611\tbest: 2.8535611 (27)\ttotal: 351ms\tremaining: 2m 5s\n",
      "28:\tlearn: 2.9276730\ttest: 2.8063870\tbest: 2.8063870 (28)\ttotal: 361ms\tremaining: 2m 4s\n",
      "29:\tlearn: 2.8801799\ttest: 2.7599370\tbest: 2.7599370 (29)\ttotal: 370ms\tremaining: 2m 2s\n",
      "30:\tlearn: 2.8358196\ttest: 2.7173020\tbest: 2.7173020 (30)\ttotal: 379ms\tremaining: 2m 1s\n",
      "31:\tlearn: 2.7927035\ttest: 2.6744014\tbest: 2.6744014 (31)\ttotal: 388ms\tremaining: 2m 1s\n",
      "32:\tlearn: 2.7518340\ttest: 2.6356148\tbest: 2.6356148 (32)\ttotal: 398ms\tremaining: 2m\n",
      "33:\tlearn: 2.7136409\ttest: 2.5990913\tbest: 2.5990913 (33)\ttotal: 407ms\tremaining: 1m 59s\n",
      "34:\tlearn: 2.6769229\ttest: 2.5620196\tbest: 2.5620196 (34)\ttotal: 416ms\tremaining: 1m 58s\n",
      "35:\tlearn: 2.6427744\ttest: 2.5277903\tbest: 2.5277903 (35)\ttotal: 425ms\tremaining: 1m 57s\n",
      "36:\tlearn: 2.6093726\ttest: 2.4935974\tbest: 2.4935974 (36)\ttotal: 435ms\tremaining: 1m 57s\n",
      "37:\tlearn: 2.5792806\ttest: 2.4615807\tbest: 2.4615807 (37)\ttotal: 445ms\tremaining: 1m 56s\n",
      "38:\tlearn: 2.5490212\ttest: 2.4325113\tbest: 2.4325113 (38)\ttotal: 453ms\tremaining: 1m 55s\n",
      "39:\tlearn: 2.5204995\ttest: 2.4047461\tbest: 2.4047461 (39)\ttotal: 463ms\tremaining: 1m 55s\n",
      "40:\tlearn: 2.4941865\ttest: 2.3794055\tbest: 2.3794055 (40)\ttotal: 473ms\tremaining: 1m 54s\n",
      "41:\tlearn: 2.4696634\ttest: 2.3546468\tbest: 2.3546468 (41)\ttotal: 484ms\tremaining: 1m 54s\n",
      "42:\tlearn: 2.4469178\ttest: 2.3322411\tbest: 2.3322411 (42)\ttotal: 496ms\tremaining: 1m 54s\n",
      "43:\tlearn: 2.4258795\ttest: 2.3111024\tbest: 2.3111024 (43)\ttotal: 508ms\tremaining: 1m 54s\n",
      "44:\tlearn: 2.4057204\ttest: 2.2915402\tbest: 2.2915402 (44)\ttotal: 521ms\tremaining: 1m 55s\n",
      "45:\tlearn: 2.3863504\ttest: 2.2725258\tbest: 2.2725258 (45)\ttotal: 531ms\tremaining: 1m 54s\n",
      "46:\tlearn: 2.3669666\ttest: 2.2530997\tbest: 2.2530997 (46)\ttotal: 540ms\tremaining: 1m 54s\n",
      "47:\tlearn: 2.3504412\ttest: 2.2367404\tbest: 2.2367404 (47)\ttotal: 549ms\tremaining: 1m 53s\n",
      "48:\tlearn: 2.3344573\ttest: 2.2203169\tbest: 2.2203169 (48)\ttotal: 558ms\tremaining: 1m 53s\n",
      "49:\tlearn: 2.3183222\ttest: 2.2049192\tbest: 2.2049192 (49)\ttotal: 567ms\tremaining: 1m 52s\n",
      "50:\tlearn: 2.3021165\ttest: 2.1891574\tbest: 2.1891574 (50)\ttotal: 577ms\tremaining: 1m 52s\n",
      "51:\tlearn: 2.2889837\ttest: 2.1769215\tbest: 2.1769215 (51)\ttotal: 586ms\tremaining: 1m 52s\n",
      "52:\tlearn: 2.2748216\ttest: 2.1645123\tbest: 2.1645123 (52)\ttotal: 595ms\tremaining: 1m 51s\n",
      "53:\tlearn: 2.2628625\ttest: 2.1527540\tbest: 2.1527540 (53)\ttotal: 604ms\tremaining: 1m 51s\n",
      "54:\tlearn: 2.2509748\ttest: 2.1410294\tbest: 2.1410294 (54)\ttotal: 614ms\tremaining: 1m 50s\n",
      "55:\tlearn: 2.2409064\ttest: 2.1311246\tbest: 2.1311246 (55)\ttotal: 623ms\tremaining: 1m 50s\n",
      "56:\tlearn: 2.2307912\ttest: 2.1202899\tbest: 2.1202899 (56)\ttotal: 632ms\tremaining: 1m 50s\n",
      "57:\tlearn: 2.2217988\ttest: 2.1126215\tbest: 2.1126215 (57)\ttotal: 642ms\tremaining: 1m 50s\n",
      "58:\tlearn: 2.2133961\ttest: 2.1050014\tbest: 2.1050014 (58)\ttotal: 652ms\tremaining: 1m 49s\n",
      "59:\tlearn: 2.2057771\ttest: 2.0988578\tbest: 2.0988578 (59)\ttotal: 662ms\tremaining: 1m 49s\n",
      "60:\tlearn: 2.1964713\ttest: 2.0915950\tbest: 2.0915950 (60)\ttotal: 671ms\tremaining: 1m 49s\n",
      "61:\tlearn: 2.1890058\ttest: 2.0862167\tbest: 2.0862167 (61)\ttotal: 680ms\tremaining: 1m 49s\n",
      "62:\tlearn: 2.1826044\ttest: 2.0815067\tbest: 2.0815067 (62)\ttotal: 696ms\tremaining: 1m 49s\n",
      "63:\tlearn: 2.1768195\ttest: 2.0770822\tbest: 2.0770822 (63)\ttotal: 709ms\tremaining: 1m 50s\n",
      "64:\tlearn: 2.1702668\ttest: 2.0728327\tbest: 2.0728327 (64)\ttotal: 722ms\tremaining: 1m 50s\n",
      "65:\tlearn: 2.1646928\ttest: 2.0688130\tbest: 2.0688130 (65)\ttotal: 731ms\tremaining: 1m 50s\n",
      "66:\tlearn: 2.1598026\ttest: 2.0652934\tbest: 2.0652934 (66)\ttotal: 740ms\tremaining: 1m 49s\n",
      "67:\tlearn: 2.1542183\ttest: 2.0604980\tbest: 2.0604980 (67)\ttotal: 750ms\tremaining: 1m 49s\n",
      "68:\tlearn: 2.1489348\ttest: 2.0566126\tbest: 2.0566126 (68)\ttotal: 759ms\tremaining: 1m 49s\n",
      "69:\tlearn: 2.1447222\ttest: 2.0539536\tbest: 2.0539536 (69)\ttotal: 768ms\tremaining: 1m 48s\n",
      "70:\tlearn: 2.1407042\ttest: 2.0511667\tbest: 2.0511667 (70)\ttotal: 778ms\tremaining: 1m 48s\n",
      "71:\tlearn: 2.1375377\ttest: 2.0484939\tbest: 2.0484939 (71)\ttotal: 789ms\tremaining: 1m 48s\n",
      "72:\tlearn: 2.1338244\ttest: 2.0453322\tbest: 2.0453322 (72)\ttotal: 798ms\tremaining: 1m 48s\n",
      "73:\tlearn: 2.1310275\ttest: 2.0427515\tbest: 2.0427515 (73)\ttotal: 807ms\tremaining: 1m 48s\n",
      "74:\tlearn: 2.1283850\ttest: 2.0410517\tbest: 2.0410517 (74)\ttotal: 816ms\tremaining: 1m 47s\n",
      "75:\tlearn: 2.1249255\ttest: 2.0392070\tbest: 2.0392070 (75)\ttotal: 825ms\tremaining: 1m 47s\n",
      "76:\tlearn: 2.1229869\ttest: 2.0378644\tbest: 2.0378644 (76)\ttotal: 835ms\tremaining: 1m 47s\n",
      "77:\tlearn: 2.1206712\ttest: 2.0362840\tbest: 2.0362840 (77)\ttotal: 844ms\tremaining: 1m 47s\n",
      "78:\tlearn: 2.1189229\ttest: 2.0360069\tbest: 2.0360069 (78)\ttotal: 853ms\tremaining: 1m 47s\n",
      "79:\tlearn: 2.1169672\ttest: 2.0357186\tbest: 2.0357186 (79)\ttotal: 862ms\tremaining: 1m 46s\n",
      "80:\tlearn: 2.1147416\ttest: 2.0350500\tbest: 2.0350500 (80)\ttotal: 872ms\tremaining: 1m 46s\n",
      "81:\tlearn: 2.1130626\ttest: 2.0345742\tbest: 2.0345742 (81)\ttotal: 881ms\tremaining: 1m 46s\n",
      "82:\tlearn: 2.1115048\ttest: 2.0343711\tbest: 2.0343711 (82)\ttotal: 890ms\tremaining: 1m 46s\n",
      "83:\tlearn: 2.1093841\ttest: 2.0329062\tbest: 2.0329062 (83)\ttotal: 900ms\tremaining: 1m 46s\n",
      "84:\tlearn: 2.1083350\ttest: 2.0329559\tbest: 2.0329062 (83)\ttotal: 911ms\tremaining: 1m 46s\n",
      "85:\tlearn: 2.1069799\ttest: 2.0327007\tbest: 2.0327007 (85)\ttotal: 927ms\tremaining: 1m 46s\n",
      "86:\tlearn: 2.1046622\ttest: 2.0322688\tbest: 2.0322688 (86)\ttotal: 936ms\tremaining: 1m 46s\n",
      "87:\tlearn: 2.1034191\ttest: 2.0315504\tbest: 2.0315504 (87)\ttotal: 945ms\tremaining: 1m 46s\n",
      "88:\tlearn: 2.1017011\ttest: 2.0311437\tbest: 2.0311437 (88)\ttotal: 954ms\tremaining: 1m 46s\n",
      "89:\tlearn: 2.1007780\ttest: 2.0307868\tbest: 2.0307868 (89)\ttotal: 965ms\tremaining: 1m 46s\n",
      "90:\tlearn: 2.0991554\ttest: 2.0304472\tbest: 2.0304472 (90)\ttotal: 976ms\tremaining: 1m 46s\n",
      "91:\tlearn: 2.0976913\ttest: 2.0293504\tbest: 2.0293504 (91)\ttotal: 985ms\tremaining: 1m 46s\n",
      "92:\tlearn: 2.0970339\ttest: 2.0290619\tbest: 2.0290619 (92)\ttotal: 995ms\tremaining: 1m 45s\n",
      "93:\tlearn: 2.0960209\ttest: 2.0288291\tbest: 2.0288291 (93)\ttotal: 1s\tremaining: 1m 45s\n",
      "94:\tlearn: 2.0948247\ttest: 2.0281619\tbest: 2.0281619 (94)\ttotal: 1.01s\tremaining: 1m 45s\n",
      "95:\tlearn: 2.0936212\ttest: 2.0284413\tbest: 2.0281619 (94)\ttotal: 1.02s\tremaining: 1m 45s\n",
      "96:\tlearn: 2.0923523\ttest: 2.0274694\tbest: 2.0274694 (96)\ttotal: 1.03s\tremaining: 1m 45s\n",
      "97:\tlearn: 2.0916741\ttest: 2.0277041\tbest: 2.0274694 (96)\ttotal: 1.04s\tremaining: 1m 45s\n",
      "98:\tlearn: 2.0912807\ttest: 2.0276801\tbest: 2.0274694 (96)\ttotal: 1.05s\tremaining: 1m 45s\n",
      "99:\tlearn: 2.0906364\ttest: 2.0273105\tbest: 2.0273105 (99)\ttotal: 1.06s\tremaining: 1m 45s\n",
      "100:\tlearn: 2.0896242\ttest: 2.0277427\tbest: 2.0273105 (99)\ttotal: 1.07s\tremaining: 1m 44s\n",
      "101:\tlearn: 2.0891028\ttest: 2.0281124\tbest: 2.0273105 (99)\ttotal: 1.08s\tremaining: 1m 45s\n",
      "102:\tlearn: 2.0877990\ttest: 2.0281215\tbest: 2.0273105 (99)\ttotal: 1.09s\tremaining: 1m 45s\n"
     ]
    },
    {
     "name": "stdout",
     "output_type": "stream",
     "text": [
      "103:\tlearn: 2.0871673\ttest: 2.0288161\tbest: 2.0273105 (99)\ttotal: 1.11s\tremaining: 1m 45s\n",
      "104:\tlearn: 2.0865142\ttest: 2.0293905\tbest: 2.0273105 (99)\ttotal: 1.12s\tremaining: 1m 45s\n",
      "105:\tlearn: 2.0861411\ttest: 2.0293667\tbest: 2.0273105 (99)\ttotal: 1.13s\tremaining: 1m 45s\n",
      "106:\tlearn: 2.0857106\ttest: 2.0299114\tbest: 2.0273105 (99)\ttotal: 1.14s\tremaining: 1m 45s\n",
      "107:\tlearn: 2.0852114\ttest: 2.0296968\tbest: 2.0273105 (99)\ttotal: 1.16s\tremaining: 1m 45s\n",
      "108:\tlearn: 2.0852973\ttest: 2.0298395\tbest: 2.0273105 (99)\ttotal: 1.17s\tremaining: 1m 45s\n",
      "109:\tlearn: 2.0846980\ttest: 2.0302147\tbest: 2.0273105 (99)\ttotal: 1.18s\tremaining: 1m 45s\n",
      "110:\tlearn: 2.0843015\ttest: 2.0305402\tbest: 2.0273105 (99)\ttotal: 1.19s\tremaining: 1m 45s\n",
      "111:\tlearn: 2.0840790\ttest: 2.0304022\tbest: 2.0273105 (99)\ttotal: 1.19s\tremaining: 1m 45s\n",
      "112:\tlearn: 2.0831813\ttest: 2.0296470\tbest: 2.0273105 (99)\ttotal: 1.2s\tremaining: 1m 45s\n",
      "113:\tlearn: 2.0833071\ttest: 2.0300333\tbest: 2.0273105 (99)\ttotal: 1.21s\tremaining: 1m 45s\n",
      "114:\tlearn: 2.0827446\ttest: 2.0297621\tbest: 2.0273105 (99)\ttotal: 1.22s\tremaining: 1m 45s\n",
      "115:\tlearn: 2.0828496\ttest: 2.0302466\tbest: 2.0273105 (99)\ttotal: 1.23s\tremaining: 1m 44s\n",
      "116:\tlearn: 2.0824044\ttest: 2.0305994\tbest: 2.0273105 (99)\ttotal: 1.24s\tremaining: 1m 44s\n",
      "117:\tlearn: 2.0819672\ttest: 2.0308785\tbest: 2.0273105 (99)\ttotal: 1.25s\tremaining: 1m 44s\n",
      "118:\tlearn: 2.0815195\ttest: 2.0310753\tbest: 2.0273105 (99)\ttotal: 1.26s\tremaining: 1m 44s\n",
      "119:\tlearn: 2.0806174\ttest: 2.0306743\tbest: 2.0273105 (99)\ttotal: 1.27s\tremaining: 1m 44s\n",
      "Stopped by overfitting detector  (20 iterations wait)\n",
      "\n",
      "bestTest = 2.027310477\n",
      "bestIteration = 99\n",
      "\n",
      "Shrink model to first 100 iterations.\n"
     ]
    },
    {
     "data": {
      "text/plain": [
       "[('negs', 22.00019706772714),\n",
       " ('abs_sum_chg', 21.307451594328242),\n",
       " ('pos', 13.68451466481485),\n",
       " ('ssum', 13.60870876511053),\n",
       " ('abs_nrg', 6.490830010597606),\n",
       " ('r_sigma', 5.500908633667382),\n",
       " ('sum_reoccurr_dp', 3.806805425885695),\n",
       " ('mean', 3.5122415481141354),\n",
       " ('kurtosis', 1.9104347360400766),\n",
       " ('strike_above', 0.8097808104072409),\n",
       " ('imin', 0.7971303020277785),\n",
       " ('max', 0.7835033773241783),\n",
       " ('reocurring_pct', 0.7269578792275802),\n",
       " ('sum_reoccurr_val', 0.6959273011405624),\n",
       " ('peaks', 0.6897052434064554),\n",
       " ('min', 0.6191711824085099),\n",
       " ('skewness', 0.4779916571627522),\n",
       " ('imax', 0.47553533216640087),\n",
       " ('mean_chg', 0.46435346087728185),\n",
       " ('last_loc_min', 0.4367972302523331),\n",
       " ('autocorr_10', 0.41317084836526685),\n",
       " ('perc_reocurr_all', 0.4110004254445803),\n",
       " ('strike_below', 0.3768825035034483)]"
      ]
     },
     "execution_count": 41,
     "metadata": {},
     "output_type": "execute_result"
    }
   ],
   "source": [
    "\n",
    "cb_model = CatBoostRegressor(iterations=10000,\n",
    "                             #learning_rate=0.05,\n",
    "                             eval_metric='MAE',\n",
    "                             #task_type = \"GPU\",\n",
    "                             use_best_model=True,\n",
    "                             od_type = \"Iter\",\n",
    "                             od_wait = 20,\n",
    "                             #depth=3,\n",
    "                             border_count=254,\n",
    "                             #bagging_temperature = 20,\n",
    "                             #cat_features=[0],\n",
    "                             random_seed = 42)\n",
    "\n",
    "\n",
    "\n",
    "cb_model.fit(train_data[features], train_y, #cat_features=categorical_features_indices,\n",
    "             eval_set=(val_data[features],val_y),\n",
    "             #cat_features=categorical_features_pos,         \n",
    "             verbose=True)\n",
    "\n",
    "scores = {}\n",
    "for i,score in enumerate(cb_model.get_feature_importance()):\n",
    "    scores[features[i]] = score\n",
    "\n",
    "sorted(scores.items(), key=lambda x: x[1])[::-1]"
   ]
  },
  {
   "cell_type": "code",
   "execution_count": 39,
   "metadata": {},
   "outputs": [
    {
     "name": "stdout",
     "output_type": "stream",
     "text": [
      "Training until validation scores don't improve for 30 rounds.\n",
      "[10]\tvalid_0's l1: 2.45127\n",
      "[20]\tvalid_0's l1: 2.22033\n",
      "[30]\tvalid_0's l1: 2.12379\n",
      "[40]\tvalid_0's l1: 2.09014\n",
      "[50]\tvalid_0's l1: 2.06915\n",
      "[60]\tvalid_0's l1: 2.06181\n",
      "[70]\tvalid_0's l1: 2.04493\n",
      "[80]\tvalid_0's l1: 2.03691\n",
      "[90]\tvalid_0's l1: 2.02596\n",
      "[100]\tvalid_0's l1: 2.02819\n",
      "[110]\tvalid_0's l1: 2.03394\n",
      "[120]\tvalid_0's l1: 2.03369\n",
      "Early stopping, best iteration is:\n",
      "[94]\tvalid_0's l1: 2.0253\n"
     ]
    },
    {
     "data": {
      "text/plain": [
       "[('negs', 209),\n",
       " ('mean', 199),\n",
       " ('ssum', 170),\n",
       " ('reocurring_pct', 163),\n",
       " ('sum_reoccurr_dp', 159),\n",
       " ('sum_reoccurr_val', 152),\n",
       " ('skewness', 152),\n",
       " ('pos', 151),\n",
       " ('imax', 130),\n",
       " ('autocorr_10', 128),\n",
       " ('r_sigma', 125),\n",
       " ('max', 120),\n",
       " ('strike_below', 112),\n",
       " ('peaks', 100),\n",
       " ('abs_sum_chg', 100),\n",
       " ('abs_nrg', 96),\n",
       " ('kurtosis', 91),\n",
       " ('last_loc_min', 90),\n",
       " ('strike_above', 84),\n",
       " ('imin', 83),\n",
       " ('min', 72),\n",
       " ('perc_reocurr_all', 68),\n",
       " ('mean_chg', 66)]"
      ]
     },
     "execution_count": 39,
     "metadata": {},
     "output_type": "execute_result"
    }
   ],
   "source": [
    "lgtrain = lgbm.Dataset(train_data[features], label=train_y)\n",
    "lgval = lgbm.Dataset(val_data[features], label=val_y)\n",
    "\n",
    "\n",
    "# needs to keep overfiting under control, default params don't cut it at all\n",
    "params = {\n",
    "        \"num_threads\": 8,\n",
    "        \"verbosity\": -1,\n",
    "        #\"zero_as_missing\": \"true\",\n",
    "        \"boosting\":'gbdt',\n",
    "        \"objective\" : \"regression\",\n",
    "        \"metric\" : \"mae\",\n",
    "        \"seed\": 42,\n",
    "        \"learning_rate\" : 0.05,\n",
    "        #\"min_data_in_leaf\": 100,\n",
    "        #\"num_leaves\": 10,\n",
    "        #\"max_depth\" : 4,\n",
    "        #\"bagging_fraction\": 0.7,\n",
    "        #\"bagging_freq\": 1,\n",
    "        #\"feature_fraction\": 0.7,\n",
    "        #\"lambda_l1\": 10,\n",
    "}\n",
    "\n",
    "evals_result = {}\n",
    "model_lgb = lgbm.train(params, lgtrain, 10000, \n",
    "                      valid_sets=[lgval], \n",
    "                      early_stopping_rounds=30, \n",
    "                      verbose_eval=10, \n",
    "                      evals_result=evals_result)\n",
    "\n",
    "\n",
    "scores = {}\n",
    "for i,score in enumerate(model_lgb.feature_importance()):\n",
    "    scores[features[i]] = score\n",
    "\n",
    "sorted(scores.items(), key=lambda x: x[1])[::-1]"
   ]
  },
  {
   "cell_type": "code",
   "execution_count": 38,
   "metadata": {},
   "outputs": [],
   "source": [
    "features = [item[0] for item in scores.items() if item[1] > 50]"
   ]
  },
  {
   "cell_type": "code",
   "execution_count": null,
   "metadata": {},
   "outputs": [],
   "source": [
    "from sklearn.linear_model import ElasticNet, Lasso, Ridge, LinearRegression,BayesianRidge, HuberRegressor\n",
    "\n",
    "lr_features = features[0:10]\n",
    "\n",
    "lr_model =  Lasso(alpha=0.5)\n",
    "lr_model.fit(train_data[lr_features], train_y)\n",
    "\n",
    "from sklearn.metrics import mean_absolute_error\n",
    "\n",
    "train_preds = lr_model.predict(val_data[lr_features])\n",
    "print(\"mae: \", mean_absolute_error(val_y, train_preds))"
   ]
  },
  {
   "cell_type": "code",
   "execution_count": null,
   "metadata": {},
   "outputs": [],
   "source": [
    "TEST_SPLITS='test'\n",
    "test_splits = [f for f in listdir(TEST_SPLITS) if isfile(join(TEST_SPLITS, f))]"
   ]
  },
  {
   "cell_type": "code",
   "execution_count": null,
   "metadata": {},
   "outputs": [],
   "source": [
    "test_split_chunks = np.array_split(test_splits,mp.cpu_count())\n",
    "    \n",
    "    \n",
    "param_test = True\n",
    "param_augment = False\n",
    "param_scale = False\n",
    "param_noise = 0.6\n",
    "\n",
    "\n",
    "if __name__ ==  '__main__':\n",
    "    pool = mp.Pool(mp.cpu_count())\n",
    "    res = [pool.apply_async(build_segment_f,args=[chunk,TIMESTEPS,param_test,param_augment,param_scale,param_noise]) for chunk in test_split_chunks]\n",
    "    pool.close()\n",
    "    pool.join()"
   ]
  },
  {
   "cell_type": "code",
   "execution_count": null,
   "metadata": {},
   "outputs": [],
   "source": [
    "columns=res[0].get()[0].columns.values\n",
    "\n",
    "test_data = pd.DataFrame(columns=columns)\n",
    "\n",
    "\n",
    "i=0\n",
    "for r in res:\n",
    "    for df in r.get():\n",
    "        #print(df)\n",
    "        test_data = test_data.append(df)\n",
    "        #print(len(test_data))\n",
    "        i+=1\n",
    "        \n",
    "\n",
    "test_data.reset_index(drop=True,inplace=True)\n",
    "print(len(test_data))"
   ]
  },
  {
   "cell_type": "code",
   "execution_count": null,
   "metadata": {},
   "outputs": [],
   "source": [
    "combinations2 = list(itertools.combinations(test_data.columns.values, 2))\n",
    "combinations3 = list(itertools.combinations(test_data.columns.values, 3))\n"
   ]
  },
  {
   "cell_type": "code",
   "execution_count": null,
   "metadata": {},
   "outputs": [],
   "source": [
    "\n",
    "for combination in combinations2:\n",
    "    if 'seg_id' in combination or 'time_to_failure' in combination:\n",
    "        continue\n",
    "    f1 = combination[0]\n",
    "    f2 = combination[1]\n",
    "    feature = f'{f1}_mult_{f2}'\n",
    "    test_data[feature] = test_data[f1] * test_data[f2]\n",
    "    feature = f'{f1}_plus_{f2}'\n",
    "    test_data[feature] = test_data[f1] + test_data[f2]\n",
    "    feature = f'{f1}_div_{f2}'\n",
    "    #print(feature)\n",
    "    test_data[feature] = test_data[f1] / test_data[f2]\n",
    "    test_data[feature] = pd.to_numeric(test_data[feature], downcast='float')\n"
   ]
  },
  {
   "cell_type": "code",
   "execution_count": null,
   "metadata": {},
   "outputs": [],
   "source": [
    "\n",
    "for combination in combinations3:\n",
    "    if 'seg_id' in combination or 'time_to_failure' in combination:\n",
    "        continue\n",
    "    f1 = combination[0]\n",
    "    f2 = combination[1]\n",
    "    f3 = combination[2]\n",
    "    feature = f'{f1}_mult_{f2}_mult_{f3}'\n",
    "    test_data[feature] = test_data[f1] * test_data[f2] * test_data[f3]\n",
    "    feature = f'{f1}_plus_{f2}_plus_{f3}'\n",
    "    test_data[feature] = test_data[f1] + test_data[f2] + test_data[f3]\n",
    "    feature = f'{f1}_div_{f2}_div_{f3}'\n",
    "    #print(feature)\n",
    "    test_data[feature] = test_data[f1] / test_data[f2] / test_data[f3]\n",
    "    test_data[feature] = pd.to_numeric(test_data[feature], downcast='float')\n",
    "    "
   ]
  },
  {
   "cell_type": "code",
   "execution_count": null,
   "metadata": {},
   "outputs": [],
   "source": [
    "ids = test_data['seg_id'].apply(lambda id: id.split('.')[0])"
   ]
  },
  {
   "cell_type": "code",
   "execution_count": null,
   "metadata": {},
   "outputs": [],
   "source": [
    "preds = cb_model.predict(test_data[features])\n"
   ]
  },
  {
   "cell_type": "code",
   "execution_count": null,
   "metadata": {},
   "outputs": [],
   "source": [
    "lg_preds = model_lgb.predict(test_data[features])"
   ]
  },
  {
   "cell_type": "code",
   "execution_count": null,
   "metadata": {},
   "outputs": [],
   "source": [
    "lr_preds = lr_model.predict(test_data[lr_features])"
   ]
  },
  {
   "cell_type": "code",
   "execution_count": null,
   "metadata": {},
   "outputs": [],
   "source": [
    "preds = (lg_preds * 0.5) + (lr_preds * 0.5)\n"
   ]
  },
  {
   "cell_type": "code",
   "execution_count": null,
   "metadata": {},
   "outputs": [],
   "source": [
    "\n",
    "submission = pd.DataFrame(ids)\n",
    "submission.columns = ['seg_id']\n",
    "submission['time_to_failure'] = lg_preds\n",
    "\n",
    "submission.to_csv('submission.csv', index=False)"
   ]
  },
  {
   "cell_type": "code",
   "execution_count": null,
   "metadata": {},
   "outputs": [],
   "source": [
    "submission[\"time_to_failure\"].describe()"
   ]
  },
  {
   "cell_type": "code",
   "execution_count": null,
   "metadata": {},
   "outputs": [],
   "source": [
    "submission[\"time_to_failure\"].describe()"
   ]
  },
  {
   "cell_type": "code",
   "execution_count": null,
   "metadata": {},
   "outputs": [],
   "source": [
    "submission.head()"
   ]
  },
  {
   "cell_type": "code",
   "execution_count": null,
   "metadata": {},
   "outputs": [],
   "source": [
    "lgbm_preds = pd.read_csv('lgbm.csv')['time_to_failure']\n",
    "cb_preds = pd.read_csv('cb1549.csv')['time_to_failure']\n",
    "lstm_preds = pd.read_csv('lstm1627.csv')['time_to_failure']\n",
    "\n",
    "\n",
    "preds = (cb_preds * 0.4) + (lgbm_preds * 0.5)\n",
    "\n",
    "preds.clip(0,20,out=preds)\n",
    "\n",
    "print(np.mean(preds))\n",
    "print(np.max(preds))\n",
    "\n",
    "submission = test.loc[:,['ID']]\n",
    "submission['item_cnt_month'] = preds\n",
    "\n",
    "submission.to_csv('submission.csv', index=False)"
   ]
  }
 ],
 "metadata": {
  "kernelspec": {
   "display_name": "Python 3",
   "language": "python",
   "name": "python3"
  },
  "language_info": {
   "codemirror_mode": {
    "name": "ipython",
    "version": 3
   },
   "file_extension": ".py",
   "mimetype": "text/x-python",
   "name": "python",
   "nbconvert_exporter": "python",
   "pygments_lexer": "ipython3",
   "version": "3.6.7"
  }
 },
 "nbformat": 4,
 "nbformat_minor": 2
}
