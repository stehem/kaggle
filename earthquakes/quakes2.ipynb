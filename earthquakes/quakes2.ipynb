{
 "cells": [
  {
   "cell_type": "code",
   "execution_count": 1,
   "metadata": {},
   "outputs": [
    {
     "data": {
      "text/html": [
       "<style>.container { width:100% !important; }</style>"
      ],
      "text/plain": [
       "<IPython.core.display.HTML object>"
      ]
     },
     "metadata": {},
     "output_type": "display_data"
    }
   ],
   "source": [
    "from IPython.core.display import display, HTML\n",
    "display(HTML(\"<style>.container { width:100% !important; }</style>\"))"
   ]
  },
  {
   "cell_type": "code",
   "execution_count": 2,
   "metadata": {},
   "outputs": [],
   "source": [
    "import pandas as pd\n",
    "import numpy as np\n",
    "import os\n",
    "\n",
    "from sklearn.ensemble import RandomForestRegressor\n",
    "from sklearn.tree import DecisionTreeRegressor\n",
    "from sklearn.tree import export_graphviz\n",
    "\n",
    "import gc\n",
    "import pickle as pickle\n",
    "\n",
    "from sklearn.model_selection import KFold\n",
    "from itertools import product\n",
    "import tensorflow as tf\n",
    "from sklearn.preprocessing import StandardScaler,MinMaxScaler \n",
    "import multiprocessing as mp\n",
    "import importlib\n",
    "from sklearn.model_selection import train_test_split"
   ]
  },
  {
   "cell_type": "code",
   "execution_count": 3,
   "metadata": {},
   "outputs": [],
   "source": [
    "#tail -n +2 train.csv | split -l 150000\n"
   ]
  },
  {
   "cell_type": "code",
   "execution_count": 4,
   "metadata": {},
   "outputs": [],
   "source": [
    "from os import listdir\n",
    "from os.path import isfile, join\n",
    "\n",
    "TRAIN_SPLITS='train'\n",
    "splits = [f for f in listdir(TRAIN_SPLITS) if isfile(join(TRAIN_SPLITS, f))]"
   ]
  },
  {
   "cell_type": "code",
   "execution_count": null,
   "metadata": {},
   "outputs": [],
   "source": [
    "path = 'train/%s' % (np.random.choice(splits))\n",
    "#\n",
    "columns = ['acoustic_data','time_to_failure']\n",
    "df = pd.read_csv(path, float_precision='round_trip', header=None)\n",
    "df.columns = columns\n",
    "\n",
    "df.describe()"
   ]
  },
  {
   "cell_type": "code",
   "execution_count": null,
   "metadata": {},
   "outputs": [],
   "source": [
    "path1 = 'train/%s' % (np.random.choice(splits))\n",
    "#\n",
    "columns = ['acoustic_data','time_to_failure']\n",
    "df1 = pd.read_csv(path1, float_precision='round_trip', header=None)\n",
    "df1.columns = columns\n",
    "\n",
    "path2 = 'train/%s' % (np.random.choice(splits))\n",
    "#\n",
    "columns = ['acoustic_data','time_to_failure']\n",
    "df2 = pd.read_csv(path2, float_precision='round_trip', header=None)\n",
    "df2.columns = columns"
   ]
  },
  {
   "cell_type": "code",
   "execution_count": null,
   "metadata": {},
   "outputs": [],
   "source": [
    "np.random.choice(np.array([1,2,3,4]))\n",
    "for i in range(0,20):\n",
    "    print(i)"
   ]
  },
  {
   "cell_type": "code",
   "execution_count": null,
   "metadata": {},
   "outputs": [],
   "source": [
    "acoustic_data = np.array_split(df['acoustic_data'].values, 300)\n",
    "\n",
    "np.random.choice(acoustic_data[0])"
   ]
  },
  {
   "cell_type": "code",
   "execution_count": null,
   "metadata": {},
   "outputs": [],
   "source": [
    "\n",
    "#last_n=int(SEGMENT_LENGTH/timesteps/4)\n",
    "acoustic_data = np.array_split(df['acoustic_data'].values, 500)\n",
    "#means = np.array([np.mean(sub[-last_n:], dtype=np.float64) for sub in acoustic_data])\n",
    "data = np.array([(np.mean(sub),np.max(sub),np.min(sub)) for sub in acoustic_data])\n",
    "target = df['time_to_failure'].values[-1]\n",
    "#\n",
    "df2 = pd.DataFrame(data)\n",
    "df2.columns = [\"mean\", \"max\", \"min\"]"
   ]
  },
  {
   "cell_type": "code",
   "execution_count": null,
   "metadata": {},
   "outputs": [],
   "source": [
    "df2"
   ]
  },
  {
   "cell_type": "code",
   "execution_count": null,
   "metadata": {},
   "outputs": [],
   "source": [
    "a = np.array([1,2,-3,4,50,-1,2,3])\n",
    "a[a > 3]"
   ]
  },
  {
   "cell_type": "code",
   "execution_count": 9,
   "metadata": {},
   "outputs": [
    {
     "name": "stdout",
     "output_type": "stream",
     "text": [
      "0\n",
      "0\n",
      "0\n",
      "0\n",
      "0\n",
      "0\n",
      "0\n",
      "0\n",
      "100\n",
      "100\n",
      "100\n",
      "100\n",
      "100\n",
      "100\n",
      "100\n",
      "100\n",
      "200\n",
      "200\n",
      "200\n",
      "200\n",
      "200\n",
      "200\n",
      "200\n",
      "200\n",
      "300\n",
      "300\n",
      "300\n",
      "300\n",
      "300\n",
      "300\n",
      "300\n",
      "300\n",
      "400\n",
      "400\n",
      "400\n",
      "400\n",
      "400\n",
      "400\n",
      "400\n",
      "400\n",
      "500\n",
      "500\n",
      "500\n",
      "500\n",
      "500\n",
      "500\n",
      "500\n",
      "500\n"
     ]
    }
   ],
   "source": [
    "TIMESTEPS=150\n",
    "\n",
    "import build_segment\n",
    "importlib.reload(build_segment)\n",
    "\n",
    "from build_segment import build_segment_f\n",
    "\n",
    "split_chunks = np.array_split(splits,mp.cpu_count())\n",
    "\n",
    "if __name__ ==  '__main__':\n",
    "    pool = mp.Pool(mp.cpu_count())\n",
    "    res = [pool.apply_async(build_segment_f,args=[chunk,TIMESTEPS]) for chunk in split_chunks]\n",
    "    pool.close()\n",
    "    pool.join()"
   ]
  },
  {
   "cell_type": "code",
   "execution_count": null,
   "metadata": {
    "scrolled": false
   },
   "outputs": [],
   "source": [
    "pd.set_option('display.max_columns', None)  \n",
    "pd.set_option('display.expand_frame_repr', False)\n",
    "pd.set_option('max_colwidth', -1)\n",
    "\n",
    "res[0].get()[100]"
   ]
  },
  {
   "cell_type": "code",
   "execution_count": 10,
   "metadata": {},
   "outputs": [],
   "source": [
    "NUMBER_OF_FEATURES=len(res[0].get()[0].drop('time_to_failure', axis=1).columns)\n",
    "\n",
    "training = np.empty((len(splits),TIMESTEPS,NUMBER_OF_FEATURES),dtype=float)\n",
    "targets = np.empty((len(splits),1),dtype=float)\n",
    "i=0\n",
    "for r in res:\n",
    "    for df in r.get():\n",
    "        training[i] = df.drop('time_to_failure', axis=1)\n",
    "        targets[i] = np.array([df['time_to_failure'].unique()])\n",
    "        i+=1"
   ]
  },
  {
   "cell_type": "code",
   "execution_count": null,
   "metadata": {
    "scrolled": false
   },
   "outputs": [],
   "source": [
    "res[0].get()[0]"
   ]
  },
  {
   "cell_type": "code",
   "execution_count": null,
   "metadata": {},
   "outputs": [],
   "source": [
    "res[0].get()[0][['acoustic_data', 'rolling_10', 'rolling_50', 'rolling_100', 'min_50',\n",
    "       'max_50', 'std_50']].shape"
   ]
  },
  {
   "cell_type": "code",
   "execution_count": null,
   "metadata": {},
   "outputs": [],
   "source": []
  },
  {
   "cell_type": "code",
   "execution_count": null,
   "metadata": {},
   "outputs": [],
   "source": [
    "\n"
   ]
  },
  {
   "cell_type": "code",
   "execution_count": 11,
   "metadata": {
    "scrolled": true
   },
   "outputs": [
    {
     "name": "stdout",
     "output_type": "stream",
     "text": [
      "_________________________________________________________________\n",
      "Layer (type)                 Output Shape              Param #   \n",
      "=================================================================\n",
      "lstm_3 (LSTM)                (None, 16)                2176      \n",
      "_________________________________________________________________\n",
      "dense_3 (Dense)              (None, 1)                 17        \n",
      "=================================================================\n",
      "Total params: 2,193\n",
      "Trainable params: 2,193\n",
      "Non-trainable params: 0\n",
      "_________________________________________________________________\n",
      "Train on 3775 samples, validate on 420 samples\n",
      "Epoch 1/100\n",
      "3775/3775 [==============================] - 8s 2ms/step - loss: 4.1846 - mean_absolute_error: 4.1846 - val_loss: 3.0721 - val_mean_absolute_error: 3.0721\n",
      "Epoch 2/100\n",
      "3775/3775 [==============================] - 7s 2ms/step - loss: 3.0351 - mean_absolute_error: 3.0351 - val_loss: 3.0361 - val_mean_absolute_error: 3.0361\n",
      "Epoch 3/100\n",
      "3775/3775 [==============================] - 7s 2ms/step - loss: 3.0069 - mean_absolute_error: 3.0069 - val_loss: 3.0124 - val_mean_absolute_error: 3.0124\n",
      "Epoch 4/100\n",
      "3775/3775 [==============================] - 8s 2ms/step - loss: 2.9775 - mean_absolute_error: 2.9775 - val_loss: 2.9738 - val_mean_absolute_error: 2.9738\n",
      "Epoch 5/100\n",
      "3775/3775 [==============================] - 8s 2ms/step - loss: 2.9227 - mean_absolute_error: 2.9227 - val_loss: 2.9071 - val_mean_absolute_error: 2.9071\n",
      "Epoch 6/100\n",
      "3775/3775 [==============================] - 9s 2ms/step - loss: 2.7824 - mean_absolute_error: 2.7824 - val_loss: 2.6980 - val_mean_absolute_error: 2.6980\n",
      "Epoch 7/100\n",
      "3775/3775 [==============================] - 9s 2ms/step - loss: 2.6250 - mean_absolute_error: 2.6250 - val_loss: 2.5476 - val_mean_absolute_error: 2.5476\n",
      "Epoch 8/100\n",
      "3775/3775 [==============================] - 8s 2ms/step - loss: 2.4623 - mean_absolute_error: 2.4623 - val_loss: 2.4646 - val_mean_absolute_error: 2.4646\n",
      "Epoch 9/100\n",
      "3775/3775 [==============================] - 8s 2ms/step - loss: 2.4506 - mean_absolute_error: 2.4506 - val_loss: 2.4471 - val_mean_absolute_error: 2.4471\n",
      "Epoch 10/100\n",
      "3775/3775 [==============================] - 9s 2ms/step - loss: 2.3974 - mean_absolute_error: 2.3974 - val_loss: 2.4226 - val_mean_absolute_error: 2.4226\n",
      "Epoch 11/100\n",
      "3775/3775 [==============================] - 9s 2ms/step - loss: 2.3455 - mean_absolute_error: 2.3455 - val_loss: 2.3720 - val_mean_absolute_error: 2.3720\n",
      "Epoch 12/100\n",
      "3775/3775 [==============================] - 9s 2ms/step - loss: 2.4801 - mean_absolute_error: 2.4801 - val_loss: 2.5181 - val_mean_absolute_error: 2.5181\n",
      "Epoch 13/100\n",
      "3775/3775 [==============================] - 9s 2ms/step - loss: 2.3682 - mean_absolute_error: 2.3682 - val_loss: 2.4162 - val_mean_absolute_error: 2.4162\n",
      "Epoch 14/100\n",
      "3775/3775 [==============================] - 9s 2ms/step - loss: 2.3795 - mean_absolute_error: 2.3795 - val_loss: 2.3826 - val_mean_absolute_error: 2.3826\n",
      "Epoch 15/100\n",
      "3775/3775 [==============================] - 9s 2ms/step - loss: 2.3311 - mean_absolute_error: 2.3311 - val_loss: 2.4478 - val_mean_absolute_error: 2.4478\n",
      "Epoch 16/100\n",
      "3775/3775 [==============================] - 9s 2ms/step - loss: 2.2793 - mean_absolute_error: 2.2793 - val_loss: 2.3902 - val_mean_absolute_error: 2.3902\n",
      "Epoch 17/100\n",
      "3775/3775 [==============================] - 8s 2ms/step - loss: 2.2728 - mean_absolute_error: 2.2728 - val_loss: 2.4749 - val_mean_absolute_error: 2.4749\n",
      "Epoch 18/100\n",
      "3775/3775 [==============================] - 8s 2ms/step - loss: 2.2672 - mean_absolute_error: 2.2672 - val_loss: 2.4009 - val_mean_absolute_error: 2.4009\n",
      "Epoch 19/100\n",
      "3775/3775 [==============================] - 8s 2ms/step - loss: 2.2793 - mean_absolute_error: 2.2793 - val_loss: 2.3828 - val_mean_absolute_error: 2.3828\n",
      "Epoch 20/100\n",
      "3775/3775 [==============================] - 8s 2ms/step - loss: 2.2902 - mean_absolute_error: 2.2902 - val_loss: 2.3976 - val_mean_absolute_error: 2.3976\n",
      "Epoch 21/100\n",
      "3775/3775 [==============================] - 8s 2ms/step - loss: 2.2596 - mean_absolute_error: 2.2596 - val_loss: 2.5608 - val_mean_absolute_error: 2.5608\n"
     ]
    },
    {
     "data": {
      "image/png": "[encoded data removed]",
      "text/plain": [
       "<Figure size 432x288 with 1 Axes>"
      ]
     },
     "metadata": {
      "needs_background": "light"
     },
     "output_type": "display_data"
    }
   ],
   "source": [
    "train_data, val_data, y_train, y_val = train_test_split(training, targets, test_size=0.1, random_state=42)\n",
    "\n",
    "from keras.models import Sequential\n",
    "from keras.layers import LSTM,Dense,Dropout,Flatten,GRU#,CuDNNGRU,CuDNNLSTM\n",
    "from keras.callbacks import EarlyStopping\n",
    "from keras.layers.normalization import BatchNormalization\n",
    "from keras.layers import Bidirectional\n",
    "\n",
    "\n",
    "\n",
    "dropout=0.2\n",
    "BATCH_SIZE=32\n",
    "\n",
    "\n",
    "my_model = Sequential()\n",
    "\n",
    "\n",
    "my_model.add(LSTM(use_bias = True,unit_forget_bias=True,\\\n",
    "                  units = 16,\\\n",
    "                  input_shape=(TIMESTEPS, NUMBER_OF_FEATURES),\n",
    "                  #dropout=dropout,recurrent_dropout=dropout,\n",
    "                  #return_sequences=True\n",
    "                  ))\n",
    "\n",
    "#my_model.add(BatchNormalization())\n",
    "\n",
    "\n",
    "                 \n",
    "                    \n",
    "#my_model.add(Dense(8))\n",
    "#my_model.add(BatchNormalization())\n",
    "my_model.add(Dense(1))\n",
    "\n",
    "my_model.compile(loss = 'mae',optimizer = 'adam', metrics = ['mean_absolute_error'])\n",
    "my_model.summary()\n",
    "\n",
    "from keras.callbacks import Callback\n",
    "\n",
    "class Reseter(Callback):\n",
    "    def on_epoch_end(self, epoch, logs=None):\n",
    "        self.reset_states()\n",
    "\n",
    "\n",
    "callbacks = [\n",
    "    EarlyStopping(monitor='val_loss', patience=10, verbose=0),\n",
    "    #Reseter()\n",
    "]\n",
    "\n",
    "history = my_model.fit(train_data, y_train, batch_size=BATCH_SIZE, epochs=100, shuffle=True,\n",
    "                      validation_data=(val_data,y_val), callbacks=callbacks\n",
    "                    )\n",
    "\n",
    "\n",
    "import matplotlib.pyplot as plt\n",
    "\n",
    "\n",
    "plt.plot(history.history['loss'])\n",
    "plt.plot(history.history['val_loss'])\n",
    "plt.title('model loss')\n",
    "plt.ylabel('loss')\n",
    "plt.xlabel('epoch')\n",
    "plt.legend(['train', 'test'], loc='upper left')\n",
    "plt.show()\n",
    "\n",
    "#import math\n",
    "#print(\"best rmse val:\", math.sqrt(my_model.history.history['val_mean_squared_error'][-1]))"
   ]
  },
  {
   "cell_type": "code",
   "execution_count": null,
   "metadata": {},
   "outputs": [],
   "source": []
  },
  {
   "cell_type": "code",
   "execution_count": null,
   "metadata": {},
   "outputs": [],
   "source": [
    "TEST_SPLITS='test'\n",
    "test_splits = [f for f in listdir(TEST_SPLITS) if isfile(join(TEST_SPLITS, f))]"
   ]
  },
  {
   "cell_type": "code",
   "execution_count": null,
   "metadata": {},
   "outputs": [],
   "source": [
    "test_splits"
   ]
  },
  {
   "cell_type": "code",
   "execution_count": null,
   "metadata": {},
   "outputs": [],
   "source": [
    "test_split_chunks = np.array_split(test_splits,mp.cpu_count())\n",
    "\n",
    "import build_segment\n",
    "importlib.reload(build_segment)\n",
    "\n",
    "from build_segment import build_segment_f\n",
    "\n",
    "if __name__ ==  '__main__':\n",
    "    pool = mp.Pool(mp.cpu_count())\n",
    "    res = [pool.apply_async(build_segment_f,args=[chunk,TIMESTEPS, True]) \\\n",
    "           for chunk in test_split_chunks]\n",
    "    pool.close()\n",
    "    pool.join()"
   ]
  },
  {
   "cell_type": "code",
   "execution_count": null,
   "metadata": {},
   "outputs": [],
   "source": [
    "ids = []\n",
    "preds = []\n",
    "i=0\n",
    "for r in res:\n",
    "    for df in r.get():\n",
    "        if i % 100 == 0:\n",
    "            print(i)\n",
    "        #training[i] = df.loc[:,df.columns != 'time_to_failure']\n",
    "        ids.append(df['seg_id'].unique()[0].split(\".\")[0])\n",
    "        test_df = df.drop('seg_id', axis=1)\n",
    "        preds.append(my_model.predict(test_df.values.reshape(1,-1,NUMBER_OF_FEATURES))[0][0])\n",
    "        i+=1"
   ]
  },
  {
   "cell_type": "code",
   "execution_count": null,
   "metadata": {},
   "outputs": [],
   "source": [
    "submission = pd.DataFrame(ids)\n",
    "submission.columns = ['seg_id']\n",
    "submission['time_to_failure'] = preds\n",
    "\n",
    "submission.to_csv('submission.csv', index=False)"
   ]
  },
  {
   "cell_type": "code",
   "execution_count": null,
   "metadata": {},
   "outputs": [],
   "source": [
    "submission[\"time_to_failure\"].describe()"
   ]
  },
  {
   "cell_type": "code",
   "execution_count": null,
   "metadata": {},
   "outputs": [],
   "source": [
    "submission[\"time_to_failure\"].describe()"
   ]
  },
  {
   "cell_type": "code",
   "execution_count": null,
   "metadata": {},
   "outputs": [],
   "source": [
    "submission.head()"
   ]
  },
  {
   "cell_type": "code",
   "execution_count": null,
   "metadata": {},
   "outputs": [],
   "source": [
    "preds"
   ]
  },
  {
   "cell_type": "code",
   "execution_count": null,
   "metadata": {
    "scrolled": false
   },
   "outputs": [],
   "source": [
    "res[0].get()[0]"
   ]
  },
  {
   "cell_type": "code",
   "execution_count": null,
   "metadata": {},
   "outputs": [],
   "source": []
  },
  {
   "cell_type": "code",
   "execution_count": null,
   "metadata": {},
   "outputs": [],
   "source": [
    "path = 'test/%s' % (np.random.choice(test_splits))\n",
    "#\n",
    "\n",
    "df = pd.read_csv(path, float_precision='round_trip', header=[0])\n",
    "\n",
    "\n",
    "df.describe()"
   ]
  },
  {
   "cell_type": "code",
   "execution_count": null,
   "metadata": {},
   "outputs": [],
   "source": []
  },
  {
   "cell_type": "code",
   "execution_count": null,
   "metadata": {},
   "outputs": [],
   "source": []
  },
  {
   "cell_type": "code",
   "execution_count": null,
   "metadata": {},
   "outputs": [],
   "source": []
  },
  {
   "cell_type": "code",
   "execution_count": null,
   "metadata": {},
   "outputs": [],
   "source": []
  },
  {
   "cell_type": "code",
   "execution_count": null,
   "metadata": {},
   "outputs": [],
   "source": []
  },
  {
   "cell_type": "code",
   "execution_count": null,
   "metadata": {},
   "outputs": [],
   "source": []
  },
  {
   "cell_type": "code",
   "execution_count": null,
   "metadata": {},
   "outputs": [],
   "source": []
  },
  {
   "cell_type": "code",
   "execution_count": null,
   "metadata": {},
   "outputs": [],
   "source": []
  },
  {
   "cell_type": "code",
   "execution_count": null,
   "metadata": {},
   "outputs": [],
   "source": []
  },
  {
   "cell_type": "code",
   "execution_count": null,
   "metadata": {},
   "outputs": [],
   "source": []
  }
 ],
 "metadata": {
  "kernelspec": {
   "display_name": "Python 3",
   "language": "python",
   "name": "python3"
  },
  "language_info": {
   "codemirror_mode": {
    "name": "ipython",
    "version": 3
   },
   "file_extension": ".py",
   "mimetype": "text/x-python",
   "name": "python",
   "nbconvert_exporter": "python",
   "pygments_lexer": "ipython3",
   "version": "3.6.7"
  }
 },
 "nbformat": 4,
 "nbformat_minor": 2
}
