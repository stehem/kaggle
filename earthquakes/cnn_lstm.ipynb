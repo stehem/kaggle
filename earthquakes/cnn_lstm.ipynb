{
 "cells": [
  {
   "cell_type": "code",
   "execution_count": 1,
   "metadata": {},
   "outputs": [
    {
     "data": {
      "text/html": [
       "<style>.container { width:100% !important; }</style>"
      ],
      "text/plain": [
       "<IPython.core.display.HTML object>"
      ]
     },
     "metadata": {},
     "output_type": "display_data"
    }
   ],
   "source": [
    "from IPython.core.display import display, HTML\n",
    "display(HTML(\"<style>.container { width:100% !important; }</style>\"))"
   ]
  },
  {
   "cell_type": "code",
   "execution_count": 2,
   "metadata": {},
   "outputs": [
    {
     "name": "stderr",
     "output_type": "stream",
     "text": [
      "Using TensorFlow backend.\n"
     ]
    }
   ],
   "source": [
    "import pandas as pd\n",
    "import numpy as np\n",
    "import os\n",
    "\n",
    "from sklearn.ensemble import RandomForestRegressor\n",
    "from sklearn.tree import DecisionTreeRegressor\n",
    "from sklearn.tree import export_graphviz\n",
    "\n",
    "import gc\n",
    "import pickle as pickle\n",
    "\n",
    "from sklearn.model_selection import KFold\n",
    "from itertools import product\n",
    "import tensorflow as tf\n",
    "from sklearn.preprocessing import StandardScaler,MinMaxScaler \n",
    "import multiprocessing as mp\n",
    "import importlib\n",
    "from sklearn.model_selection import train_test_split\n",
    "\n",
    "\n",
    "from keras.models import Sequential\n",
    "from keras.layers import LSTM,Dense,Dropout,Flatten,GRU,Conv1D,TimeDistributed,MaxPooling1D,Flatten,CuDNNGRU,CuDNNLSTM\n",
    "from keras.callbacks import EarlyStopping\n",
    "from keras.layers.normalization import BatchNormalization\n",
    "from keras.layers import Bidirectional\n",
    "from keras.regularizers import l2\n",
    "\n",
    "from keras import backend as K\n",
    "from keras.callbacks import ModelCheckpoint\n"
   ]
  },
  {
   "cell_type": "code",
   "execution_count": 3,
   "metadata": {},
   "outputs": [],
   "source": [
    "#tail -n +2 train.csv | split -l 150000\n",
    "\n",
    "\n",
    "from os import listdir\n",
    "from os.path import isfile, join\n",
    "\n",
    "TRAIN_SPLITS='train'\n",
    "splits = [f for f in listdir(TRAIN_SPLITS) if isfile(join(TRAIN_SPLITS, f))]"
   ]
  },
  {
   "cell_type": "code",
   "execution_count": 4,
   "metadata": {},
   "outputs": [],
   "source": [
    "#\n",
    "columns = ['acoustic_data','time_to_failure']\n",
    "\n"
   ]
  },
  {
   "cell_type": "code",
   "execution_count": null,
   "metadata": {},
   "outputs": [],
   "source": [
    "train_data, val_data = train_test_split(splits, test_size=0.1, random_state=42)"
   ]
  },
  {
   "cell_type": "code",
   "execution_count": null,
   "metadata": {},
   "outputs": [],
   "source": [
    "TIMESTEPS=150000\n",
    "BATCH_SIZE=32\n",
    "NUMBER_OF_BATCHES = int(np.ceil(len(train_data)/BATCH_SIZE))\n",
    "NUMBER_OF_VALIDATION_STEPS = int(np.ceil(len(val_data) / BATCH_SIZE))\n",
    "NUMBER_OF_FEATURES=3\n"
   ]
  },
  {
   "cell_type": "code",
   "execution_count": null,
   "metadata": {},
   "outputs": [],
   "source": [
    "train_data_batch = np.array_split(train_data, NUMBER_OF_BATCHES)\n",
    "val_data_batch = np.array_split(val_data, NUMBER_OF_VALIDATION_STEPS)"
   ]
  },
  {
   "cell_type": "code",
   "execution_count": null,
   "metadata": {},
   "outputs": [],
   "source": [
    "NOISE=0.75\n",
    "\n",
    "def add_noise(dff, pct=NOISE):\n",
    "    mu = dff['acoustic_data'].mean()\n",
    "    sigma = dff['acoustic_data'].std()\n",
    "\n",
    "    indices = np.random.choice(dff.index.values, int(len(dff)*pct))\n",
    "    dff.loc[indices, 'acoustic_data'] = np.random.normal(mu, sigma, len(indices)) \n",
    "    return dff\n",
    "\n",
    "\n",
    "def get_batch(list_of_files, valid=False):\n",
    "#     batch = np.empty((len(list_of_files),TIMESTEPS,1),dtype=float)\n",
    "#     target = np.empty((len(list_of_files),1),dtype=float)\n",
    "    #print(list_of_files)\n",
    "    batch = []\n",
    "    target = []\n",
    "\n",
    "    for idx, file in enumerate(list_of_files):\n",
    "        #print(idx,file)\n",
    "        path = f'train/{file}'\n",
    "        df = pd.read_csv(path, float_precision='round_trip', header=None)\n",
    "        df.columns = columns\n",
    "        df[['acoustic_data']] = StandardScaler().fit_transform(df[['acoustic_data']].astype('float'))\n",
    "        df['roll_1000'] = df['acoustic_data'].rolling(1000,min_periods=1000).mean()\n",
    "        df['roll_1000'].fillna(df['roll_1000'][1000],inplace=True)\n",
    "        df['shifted_1'] = df['roll_1000'].shift(1)\n",
    "        df['shifted_1'].fillna(df['roll_1000'][1000],inplace=True)\n",
    "        df[\"roll_diff_1\"] = df['shifted_1'] - df['roll_1000']\n",
    "        #df['shifted_1000'] = df['roll_1000'].shift(1000)\n",
    "        #df['shifted_1000'].fillna(df['roll_1000'][1000],inplace=True)\n",
    "        #df[\"roll_diff_1000\"] = df['shifted_1000'] - df['roll_1000']\n",
    "        #print(df.head())\n",
    "        #print(len(batch))\n",
    "        batch.append(df[['acoustic_data', 'roll_1000', 'roll_diff_1']].values)\n",
    "        target.append(df['time_to_failure'].values[-1])\n",
    "        #print(df_noise.head())\n",
    "        #if not valid:\n",
    "            #df_noise = add_noise(df)\n",
    "            #batch.append(df_noise['acoustic_data'].values)#.reshape(-1,TIMESTEPS,1))\n",
    "            #target.append(df_noise['time_to_failure'].values[-1])#.reshape(-1,1))\n",
    "        #print(np.array(batch).reshape(-1,TIMESTEPS,1).shape)\n",
    "        #batch = np.array(batch).reshape(-1,TIMESTEPS,1)\n",
    "        #target = np.array(target).reshape(-1,1)\n",
    "    return (batch, target)"
   ]
  },
  {
   "cell_type": "code",
   "execution_count": null,
   "metadata": {},
   "outputs": [],
   "source": [
    "from keras.utils import Sequence\n",
    "\n",
    "class MY_Generator(Sequence):\n",
    "\n",
    "    def __init__(self, list_of_files, steps,name):\n",
    "        self.list_of_files = list_of_files\n",
    "        self.steps = steps\n",
    "        self.name = name\n",
    "\n",
    "    #This function computes the number of batches that this generator is supposed to produce. \n",
    "    #So, we divide the number of total samples by the batch_size and return that value.    \n",
    "    def __len__(self):\n",
    "        return self.steps\n",
    "\n",
    "    #Here, given the batch numberidx you need to put together a list that consists of data \n",
    "    #batch and the ground-truth (GT). In this example, we read a batch images of size \n",
    "    #self.batch and return an array of form[image_batch, GT]\n",
    "    def __getitem__(self, idx):\n",
    "#         if self.name == 'val':\n",
    "        #print('idx', idx)\n",
    "        #print(\"DEBUG\", self.list_of_files[idx])\n",
    "        #if idx == len(self.list_of_files):\n",
    "            #print(idx, self.list_of_files)\n",
    "        if self.name == 'val':\n",
    "            valid = True\n",
    "        else:\n",
    "            valid=False\n",
    "        train,Y = get_batch(self.list_of_files[idx], valid)\n",
    "            \n",
    "        #print(np.array(train).reshape(-1,TIMESTEPS,1).shape)\n",
    "        #print(\"idx\",idx)\n",
    "        #print(\"LOLILOL\")\n",
    "        #print(train.shape, Y.shape)\n",
    "        train = np.array(train).reshape(-1,TIMESTEPS,NUMBER_OF_FEATURES)\n",
    "        #print(train.shape)\n",
    "        Y = np.array(Y).reshape(-1,1)\n",
    "\n",
    "        return (train,Y)"
   ]
  },
  {
   "cell_type": "code",
   "execution_count": null,
   "metadata": {
    "scrolled": true
   },
   "outputs": [
    {
     "name": "stdout",
     "output_type": "stream",
     "text": [
      "WARNING:tensorflow:From /home/stephane/.local/lib/python3.6/site-packages/tensorflow/python/framework/op_def_library.py:263: colocate_with (from tensorflow.python.framework.ops) is deprecated and will be removed in a future version.\n",
      "Instructions for updating:\n",
      "Colocations handled automatically by placer.\n",
      "WARNING:tensorflow:From /home/stephane/.local/lib/python3.6/site-packages/keras/backend/tensorflow_backend.py:3445: calling dropout (from tensorflow.python.ops.nn_ops) with keep_prob is deprecated and will be removed in a future version.\n",
      "Instructions for updating:\n",
      "Please use `rate` instead of `keep_prob`. Rate should be set to `rate = 1 - keep_prob`.\n",
      "_________________________________________________________________\n",
      "Layer (type)                 Output Shape              Param #   \n",
      "=================================================================\n",
      "conv1d_1 (Conv1D)            (None, 30000, 20)         320       \n",
      "_________________________________________________________________\n",
      "max_pooling1d_1 (MaxPooling1 (None, 15000, 20)         0         \n",
      "_________________________________________________________________\n",
      "batch_normalization_1 (Batch (None, 15000, 20)         80        \n",
      "_________________________________________________________________\n",
      "conv1d_2 (Conv1D)            (None, 3000, 20)          2020      \n",
      "_________________________________________________________________\n",
      "max_pooling1d_2 (MaxPooling1 (None, 1500, 20)          0         \n",
      "_________________________________________________________________\n",
      "batch_normalization_2 (Batch (None, 1500, 20)          80        \n",
      "_________________________________________________________________\n",
      "conv1d_3 (Conv1D)            (None, 300, 20)           2020      \n",
      "_________________________________________________________________\n",
      "max_pooling1d_3 (MaxPooling1 (None, 150, 20)           0         \n",
      "_________________________________________________________________\n",
      "batch_normalization_3 (Batch (None, 150, 20)           80        \n",
      "_________________________________________________________________\n",
      "gru_1 (GRU)                  (None, 24)                3240      \n",
      "_________________________________________________________________\n",
      "dense_1 (Dense)              (None, 10)                250       \n",
      "_________________________________________________________________\n",
      "batch_normalization_4 (Batch (None, 10)                40        \n",
      "_________________________________________________________________\n",
      "dense_2 (Dense)              (None, 1)                 11        \n",
      "=================================================================\n",
      "Total params: 8,141\n",
      "Trainable params: 8,001\n",
      "Non-trainable params: 140\n",
      "_________________________________________________________________\n",
      "WARNING:tensorflow:From /home/stephane/.local/lib/python3.6/site-packages/tensorflow/python/ops/math_ops.py:3066: to_int32 (from tensorflow.python.ops.math_ops) is deprecated and will be removed in a future version.\n",
      "Instructions for updating:\n",
      "Use tf.cast instead.\n",
      "Epoch 1/1000\n",
      "118/118 [==============================] - 69s 583ms/step - loss: 5.8351 - mean_absolute_error: 5.4172 - val_loss: 5.4767 - val_mean_absolute_error: 5.0931\n",
      "\n",
      "Epoch 00001: val_mean_absolute_error improved from inf to 5.09311, saving model to weights.01-5.48.hdf5\n",
      "Epoch 2/1000\n",
      "117/118 [============================>.] - ETA: 0s - loss: 4.9683 - mean_absolute_error: 4.6123\n",
      "Epoch 00001: val_mean_absolute_error improved from inf to 5.09311, saving model to weights.01-5.48.hdf5\n",
      "118/118 [==============================] - 59s 502ms/step - loss: 4.9634 - mean_absolute_error: 4.6076 - val_loss: 4.5638 - val_mean_absolute_error: 4.2327\n",
      "\n",
      "Epoch 00002: val_mean_absolute_error improved from 5.09311 to 4.23269, saving model to weights.02-4.56.hdf5\n",
      "Epoch 3/1000\n",
      "118/118 [==============================] - 63s 530ms/step - loss: 3.8522 - mean_absolute_error: 3.5404 - val_loss: 3.6314 - val_mean_absolute_error: 3.3367\n",
      "\n",
      "Epoch 00003: val_mean_absolute_error improved from 4.23269 to 3.33665, saving model to weights.03-3.63.hdf5\n",
      "Epoch 4/1000\n",
      "118/118 [==============================] - 61s 516ms/step - loss: 2.9487 - mean_absolute_error: 2.6677 - val_loss: 2.7548 - val_mean_absolute_error: 2.4867\n",
      "\n",
      "Epoch 00004: val_mean_absolute_error improved from 3.33665 to 2.48672, saving model to weights.04-2.75.hdf5\n",
      "Epoch 5/1000\n",
      "118/118 [==============================] - 61s 519ms/step - loss: 2.6358 - mean_absolute_error: 2.3790 - val_loss: 2.6999 - val_mean_absolute_error: 2.4544\n",
      "\n",
      "\b\n",
      "Epoch 00005: val_mean_absolute_error improved from 2.48672 to 2.45442, saving model to weights.05-2.70.hdf5\n",
      "Epoch 6/1000\n",
      "118/118 [==============================] - 62s 525ms/step - loss: 2.5619 - mean_absolute_error: 2.3265 - val_loss: 2.6300 - val_mean_absolute_error: 2.4046\n",
      "\n",
      "Epoch 00006: val_mean_absolute_error improved from 2.45442 to 2.40457, saving model to weights.06-2.63.hdf5\n",
      "Epoch 7/1000\n",
      "118/118 [==============================] - 62s 526ms/step - loss: 2.4949 - mean_absolute_error: 2.2782 - val_loss: 2.5718 - val_mean_absolute_error: 2.3633\n",
      "\n",
      "Epoch 00007: val_mean_absolute_error improved from 2.40457 to 2.36326, saving model to weights.07-2.57.hdf5\n",
      "Epoch 8/1000\n",
      "118/118 [==============================] - 61s 520ms/step - loss: 2.4576 - mean_absolute_error: 2.2556 - val_loss: 2.6497 - val_mean_absolute_error: 2.4540\n",
      "\n",
      "Epoch 00008: val_mean_absolute_error did not improve from 2.36326\n",
      "Epoch 9/1000\n",
      "118/118 [==============================] - 61s 521ms/step - loss: 2.4134 - mean_absolute_error: 2.2228 - val_loss: 2.5870 - val_mean_absolute_error: 2.4014\n",
      "\n",
      "Epoch 00009: val_mean_absolute_error did not improve from 2.36326\n",
      "Epoch 10/1000\n",
      "118/118 [==============================] - 61s 514ms/step - loss: 2.4094 - mean_absolute_error: 2.2281 - val_loss: 2.6414 - val_mean_absolute_error: 2.4635\n",
      "\n",
      "Epoch 00010: val_mean_absolute_error did not improve from 2.36326\n",
      "Epoch 11/1000\n",
      "118/118 [==============================] - 62s 525ms/step - loss: 2.3608 - mean_absolute_error: 2.1857 - val_loss: 2.5789 - val_mean_absolute_error: 2.4074\n",
      "\n",
      "Epoch 00011: val_mean_absolute_error did not improve from 2.36326\n",
      "Epoch 12/1000\n",
      " 26/118 [=====>........................] - ETA: 55s - loss: 2.2447 - mean_absolute_error: 2.0739"
     ]
    }
   ],
   "source": [
    "#train_data, val_data, y_train, y_val = train_test_split(training, targets, test_size=0.1, random_state=42)\n",
    "\n",
    "K.clear_session()\n",
    "\n",
    "TIMESTEPS=150000\n",
    "\n",
    "dropout=0.3\n",
    "\n",
    "kernel_size=5\n",
    "filters=20\n",
    "strides=5\n",
    "pool_size=2\n",
    "regularizer=l2(0.01)\n",
    "\n",
    "my_model = Sequential()\n",
    "my_model.add(\n",
    "        Conv1D(filters=filters, kernel_size=kernel_size, activation=\"relu\",\n",
    "               kernel_regularizer=regularizer,\n",
    "               strides=strides, input_shape=(TIMESTEPS,NUMBER_OF_FEATURES))\n",
    ")\n",
    "             \n",
    "my_model.add(MaxPooling1D(pool_size=pool_size))\n",
    "my_model.add(BatchNormalization())\n",
    "\n",
    "my_model.add(\n",
    "        Conv1D(filters=filters, kernel_size=kernel_size, activation='relu',\n",
    "               kernel_regularizer=regularizer,\n",
    "               strides=strides, input_shape=(TIMESTEPS,NUMBER_OF_FEATURES))\n",
    ")             \n",
    "my_model.add(MaxPooling1D(pool_size=pool_size))\n",
    "my_model.add(BatchNormalization())\n",
    "\n",
    "my_model.add(\n",
    "        Conv1D(filters=filters, kernel_size=kernel_size, activation='relu',\n",
    "               kernel_regularizer=regularizer,\n",
    "               strides=strides, input_shape=(TIMESTEPS,NUMBER_OF_FEATURES))\n",
    ")             \n",
    "my_model.add(MaxPooling1D(pool_size=pool_size))\n",
    "my_model.add(BatchNormalization())\n",
    "\n",
    "\n",
    "my_model.add(GRU(units = 24,dropout=dropout,recurrent_dropout=dropout))\n",
    "\n",
    "my_model.add(Dense(10, activation='relu'))\n",
    "\n",
    "\n",
    "my_model.add(BatchNormalization())\n",
    "\n",
    "\n",
    "my_model.add(Dense(1))\n",
    "\n",
    "\n",
    "\n",
    "my_model.compile(loss = 'mae',optimizer = 'adam', metrics = ['mean_absolute_error'])\n",
    "my_model.summary()\n",
    "\n",
    "\n",
    "filepath=\"weights.{epoch:02d}-{val_loss:.2f}.hdf5\"\n",
    "\n",
    "callbacks = [\n",
    "    #EarlyStopping(monitor='val_loss', patience=30, verbose=0),\n",
    "    ModelCheckpoint(filepath, monitor='val_mean_absolute_error', verbose=1, \n",
    "                    save_best_only=True, mode='min')\n",
    "]\n",
    "\n",
    "my_training_batch_generator = MY_Generator(train_data_batch, NUMBER_OF_BATCHES, 'train')\n",
    "my_validation_batch_generator = MY_Generator(val_data_batch, NUMBER_OF_VALIDATION_STEPS, 'val')\n",
    "\n",
    "\n",
    "history = my_model.fit_generator(generator=my_training_batch_generator,\n",
    "                                      #steps_per_epoch=NUMBER_OF_BATCHES,\n",
    "                                      epochs=1000,\n",
    "                                      validation_data=my_validation_batch_generator,\n",
    "                                      #validation_steps=NUMBER_OF_VALIDATION_STEPS,\n",
    "                                      callbacks=callbacks,\n",
    "                                      shuffle=True,\n",
    "                                      #verbose=1,\n",
    "                                      #validation_data=my_validation_batch_generator,\n",
    "                                      #validation_steps=(num_validation_samples // batch_size),\n",
    "                                      use_multiprocessing=True,\n",
    "                                      workers=8,\n",
    "                                      #max_queue_size=32\n",
    "                  )\n",
    "\n",
    "\n",
    "# import matplotlib.pyplot as plt\n",
    "\n",
    "\n",
    "# plt.plot(history.history['loss'])\n",
    "# plt.plot(history.history['val_loss'])\n",
    "# plt.title('model loss')\n",
    "# plt.ylabel('loss')\n",
    "# plt.xlabel('epoch')\n",
    "# plt.legend(['train', 'test'], loc='upper left')\n",
    "# plt.show()\n",
    "\n",
    "#import math\n",
    "#print(\"best rmse val:\", math.sqrt(my_model.history.history['val_mean_squared_error'][-1]))\n",
    "\n",
    "\n",
    "#my_model.load_weights('weights.515-2.17.hdf5')"
   ]
  },
  {
   "cell_type": "code",
   "execution_count": null,
   "metadata": {},
   "outputs": [],
   "source": []
  },
  {
   "cell_type": "code",
   "execution_count": null,
   "metadata": {},
   "outputs": [],
   "source": []
  },
  {
   "cell_type": "code",
   "execution_count": null,
   "metadata": {},
   "outputs": [],
   "source": [
    "len(val_data)"
   ]
  },
  {
   "cell_type": "code",
   "execution_count": null,
   "metadata": {},
   "outputs": [],
   "source": []
  },
  {
   "cell_type": "code",
   "execution_count": null,
   "metadata": {},
   "outputs": [],
   "source": []
  },
  {
   "cell_type": "code",
   "execution_count": null,
   "metadata": {},
   "outputs": [],
   "source": [
    "TEST_SPLITS='test'\n",
    "test_splits = [f for f in listdir(TEST_SPLITS) if isfile(join(TEST_SPLITS, f))]"
   ]
  },
  {
   "cell_type": "code",
   "execution_count": null,
   "metadata": {},
   "outputs": [],
   "source": [
    "test_splits\n",
    "\n",
    "ids = []\n",
    "preds = []\n",
    "\n",
    "i = 0\n",
    "for test_file in test_splits:\n",
    "    if i % 100 == 0:\n",
    "        print(i)\n",
    "    path = f'test/{test_file}'\n",
    "    df = pd.read_csv(path, float_precision='round_trip', header=0)\n",
    "    df.columns = ['acoustic_data']\n",
    "    df[['acoustic_data']] = StandardScaler().fit_transform(df[['acoustic_data']].astype('float'))\n",
    "    ids.append(test_file.split(\".\")[0])\n",
    "    preds.append(my_model.predict(df['acoustic_data'].values.reshape(1,TIMESTEPS,1))[0][0])\n",
    "    i+=1\n",
    "\n",
    "    "
   ]
  },
  {
   "cell_type": "code",
   "execution_count": null,
   "metadata": {},
   "outputs": [],
   "source": [
    "submission = pd.DataFrame(ids)\n",
    "submission.columns = ['seg_id']\n",
    "submission['time_to_failure'] = preds\n",
    "\n",
    "submission.to_csv('submission.csv', index=False)"
   ]
  },
  {
   "cell_type": "code",
   "execution_count": null,
   "metadata": {},
   "outputs": [],
   "source": [
    "submission[\"time_to_failure\"].describe()"
   ]
  },
  {
   "cell_type": "code",
   "execution_count": null,
   "metadata": {},
   "outputs": [],
   "source": [
    "submission[\"time_to_failure\"].describe()"
   ]
  },
  {
   "cell_type": "code",
   "execution_count": null,
   "metadata": {},
   "outputs": [],
   "source": [
    "submission.head()"
   ]
  },
  {
   "cell_type": "code",
   "execution_count": null,
   "metadata": {},
   "outputs": [],
   "source": [
    "preds"
   ]
  },
  {
   "cell_type": "code",
   "execution_count": null,
   "metadata": {
    "scrolled": false
   },
   "outputs": [],
   "source": [
    "res[0].get()[0]"
   ]
  },
  {
   "cell_type": "code",
   "execution_count": null,
   "metadata": {},
   "outputs": [],
   "source": []
  },
  {
   "cell_type": "code",
   "execution_count": null,
   "metadata": {},
   "outputs": [],
   "source": [
    "path = 'test/%s' % (np.random.choice(test_splits))\n",
    "#\n",
    "\n",
    "df = pd.read_csv(path, float_precision='round_trip', header=[0])\n",
    "\n",
    "\n",
    "df.describe()"
   ]
  },
  {
   "cell_type": "code",
   "execution_count": null,
   "metadata": {},
   "outputs": [],
   "source": []
  },
  {
   "cell_type": "code",
   "execution_count": null,
   "metadata": {},
   "outputs": [],
   "source": []
  },
  {
   "cell_type": "code",
   "execution_count": null,
   "metadata": {},
   "outputs": [],
   "source": []
  },
  {
   "cell_type": "code",
   "execution_count": null,
   "metadata": {},
   "outputs": [],
   "source": []
  },
  {
   "cell_type": "code",
   "execution_count": null,
   "metadata": {},
   "outputs": [],
   "source": []
  },
  {
   "cell_type": "code",
   "execution_count": null,
   "metadata": {},
   "outputs": [],
   "source": []
  },
  {
   "cell_type": "code",
   "execution_count": null,
   "metadata": {},
   "outputs": [],
   "source": []
  },
  {
   "cell_type": "code",
   "execution_count": null,
   "metadata": {},
   "outputs": [],
   "source": []
  },
  {
   "cell_type": "code",
   "execution_count": null,
   "metadata": {},
   "outputs": [],
   "source": []
  },
  {
   "cell_type": "code",
   "execution_count": null,
   "metadata": {},
   "outputs": [],
   "source": []
  }
 ],
 "metadata": {
  "kernelspec": {
   "display_name": "Python 3",
   "language": "python",
   "name": "python3"
  },
  "language_info": {
   "codemirror_mode": {
    "name": "ipython",
    "version": 3
   },
   "file_extension": ".py",
   "mimetype": "text/x-python",
   "name": "python",
   "nbconvert_exporter": "python",
   "pygments_lexer": "ipython3",
   "version": "3.6.7"
  }
 },
 "nbformat": 4,
 "nbformat_minor": 2
}
