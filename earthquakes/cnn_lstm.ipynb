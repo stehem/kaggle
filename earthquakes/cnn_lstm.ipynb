{
 "cells": [
  {
   "cell_type": "code",
   "execution_count": 1,
   "metadata": {},
   "outputs": [
    {
     "data": {
      "text/html": [
       "<style>.container { width:100% !important; }</style>"
      ],
      "text/plain": [
       "<IPython.core.display.HTML object>"
      ]
     },
     "metadata": {},
     "output_type": "display_data"
    }
   ],
   "source": [
    "from IPython.core.display import display, HTML\n",
    "display(HTML(\"<style>.container { width:100% !important; }</style>\"))"
   ]
  },
  {
   "cell_type": "code",
   "execution_count": 2,
   "metadata": {},
   "outputs": [],
   "source": [
    "import pandas as pd\n",
    "import numpy as np\n",
    "import os\n",
    "\n",
    "from sklearn.ensemble import RandomForestRegressor\n",
    "from sklearn.tree import DecisionTreeRegressor\n",
    "from sklearn.tree import export_graphviz\n",
    "\n",
    "import gc\n",
    "import pickle as pickle\n",
    "\n",
    "from sklearn.model_selection import KFold\n",
    "from itertools import product\n",
    "import tensorflow as tf\n",
    "from sklearn.preprocessing import StandardScaler,MinMaxScaler \n",
    "import multiprocessing as mp\n",
    "import importlib\n",
    "from sklearn.model_selection import train_test_split"
   ]
  },
  {
   "cell_type": "code",
   "execution_count": 3,
   "metadata": {},
   "outputs": [],
   "source": [
    "#tail -n +2 train.csv | split -l 150000\n",
    "\n",
    "\n",
    "from os import listdir\n",
    "from os.path import isfile, join\n",
    "\n",
    "TRAIN_SPLITS='train'\n",
    "splits = [f for f in listdir(TRAIN_SPLITS) if isfile(join(TRAIN_SPLITS, f))]"
   ]
  },
  {
   "cell_type": "code",
   "execution_count": 4,
   "metadata": {},
   "outputs": [],
   "source": [
    "#\n",
    "columns = ['acoustic_data','time_to_failure']\n",
    "\n"
   ]
  },
  {
   "cell_type": "code",
   "execution_count": 5,
   "metadata": {},
   "outputs": [],
   "source": [
    "train_data, val_data = train_test_split(splits, test_size=0.1, random_state=42)"
   ]
  },
  {
   "cell_type": "code",
   "execution_count": 6,
   "metadata": {},
   "outputs": [],
   "source": [
    "TIMESTEPS=150000\n",
    "BATCH_SIZE=16\n",
    "NUMBER_OF_BATCHES = int(np.ceil(len(train_data)/BATCH_SIZE))\n",
    "NUMBER_OF_VALIDATION_STEPS = int(np.ceil(len(val_data) / BATCH_SIZE))"
   ]
  },
  {
   "cell_type": "code",
   "execution_count": 7,
   "metadata": {},
   "outputs": [],
   "source": [
    "train_data_batch = np.array_split(train_data, NUMBER_OF_BATCHES)\n",
    "val_data_batch = np.array_split(val_data, NUMBER_OF_VALIDATION_STEPS)"
   ]
  },
  {
   "cell_type": "code",
   "execution_count": 8,
   "metadata": {},
   "outputs": [],
   "source": [
    "NOISE=0.66\n",
    "\n",
    "def add_noise(dff, pct=NOISE):\n",
    "    mu = dff['acoustic_data'].mean()\n",
    "    sigma = dff['acoustic_data'].std()\n",
    "\n",
    "    indices = np.random.choice(dff.index.values, int(len(dff)*pct))\n",
    "    dff.loc[indices, 'acoustic_data'] = np.random.normal(mu, sigma, len(indices)) \n",
    "    return dff\n",
    "\n",
    "\n",
    "def get_batch(list_of_files):\n",
    "#     batch = np.empty((len(list_of_files),TIMESTEPS,1),dtype=float)\n",
    "#     target = np.empty((len(list_of_files),1),dtype=float)\n",
    "    #print(list_of_files)\n",
    "    batch = []\n",
    "    target = []\n",
    "\n",
    "    for idx, file in enumerate(list_of_files):\n",
    "        #print(idx,file)\n",
    "        path = f'train/{file}'\n",
    "        df = pd.read_csv(path, float_precision='round_trip', header=None)\n",
    "        df.columns = columns\n",
    "        df[['acoustic_data']] = StandardScaler().fit_transform(df[['acoustic_data']].astype('float'))\n",
    "        #print(df.head())\n",
    "        #print(len(batch))\n",
    "        batch.append(df['acoustic_data'].values)\n",
    "        target.append(df['time_to_failure'].values[-1])\n",
    "        #df_noise = add_noise(df)\n",
    "        #print(df_noise.head())\n",
    "        #batch.append(df_noise['acoustic_data'].values)#.reshape(-1,TIMESTEPS,1))\n",
    "        #target.append(df_noise['time_to_failure'].values)#[-1].reshape(-1,1))\n",
    "        #print(np.array(batch).reshape(-1,TIMESTEPS,1).shape)\n",
    "        #batch = np.array(batch).reshape(-1,TIMESTEPS,1)\n",
    "        #target = np.array(target).reshape(-1,1)\n",
    "    return (batch, target)"
   ]
  },
  {
   "cell_type": "code",
   "execution_count": 9,
   "metadata": {},
   "outputs": [
    {
     "name": "stderr",
     "output_type": "stream",
     "text": [
      "Using TensorFlow backend.\n"
     ]
    }
   ],
   "source": [
    "from keras.utils import Sequence\n",
    "\n",
    "class MY_Generator(Sequence):\n",
    "\n",
    "    def __init__(self, list_of_files, steps,name):\n",
    "        self.list_of_files = list_of_files\n",
    "        self.steps = steps\n",
    "        self.name = name\n",
    "\n",
    "    #This function computes the number of batches that this generator is supposed to produce. \n",
    "    #So, we divide the number of total samples by the batch_size and return that value.    \n",
    "    def __len__(self):\n",
    "        return self.steps\n",
    "\n",
    "    #Here, given the batch numberidx you need to put together a list that consists of data \n",
    "    #batch and the ground-truth (GT). In this example, we read a batch images of size \n",
    "    #self.batch and return an array of form[image_batch, GT]\n",
    "    def __getitem__(self, idx):\n",
    "#         if self.name == 'val':\n",
    "        #print('idx', idx)\n",
    "        #print(\"DEBUG\", self.list_of_files[idx])\n",
    "        #if idx == len(self.list_of_files):\n",
    "            #print(idx, self.list_of_files)\n",
    "        train,Y = get_batch(self.list_of_files[idx])\n",
    "        #print(np.array(train).reshape(-1,TIMESTEPS,1).shape)\n",
    "        #print(\"idx\",idx)\n",
    "        #print(\"LOLILOL\")\n",
    "        #print(train.shape, Y.shape)\n",
    "        train = np.array(train).reshape(-1,TIMESTEPS,1)\n",
    "        #print(train.shape)\n",
    "        Y = np.array(Y).reshape(-1,1)\n",
    "\n",
    "        return (train,Y)"
   ]
  },
  {
   "cell_type": "code",
   "execution_count": null,
   "metadata": {
    "scrolled": true
   },
   "outputs": [
    {
     "name": "stdout",
     "output_type": "stream",
     "text": [
      "WARNING:tensorflow:From /home/stephane/.local/lib/python3.6/site-packages/tensorflow/python/framework/op_def_library.py:263: colocate_with (from tensorflow.python.framework.ops) is deprecated and will be removed in a future version.\n",
      "Instructions for updating:\n",
      "Colocations handled automatically by placer.\n",
      "_________________________________________________________________\n",
      "Layer (type)                 Output Shape              Param #   \n",
      "=================================================================\n",
      "conv1d_1 (Conv1D)            (None, 150, 10)           10010     \n",
      "_________________________________________________________________\n",
      "max_pooling1d_1 (MaxPooling1 (None, 75, 10)            0         \n",
      "_________________________________________________________________\n",
      "batch_normalization_1 (Batch (None, 75, 10)            40        \n",
      "_________________________________________________________________\n",
      "cu_dnngru_1 (CuDNNGRU)       (None, 16)                1344      \n",
      "_________________________________________________________________\n",
      "dense_1 (Dense)              (None, 1)                 17        \n",
      "=================================================================\n",
      "Total params: 11,411\n",
      "Trainable params: 11,391\n",
      "Non-trainable params: 20\n",
      "_________________________________________________________________\n",
      "WARNING:tensorflow:From /home/stephane/.local/lib/python3.6/site-packages/tensorflow/python/ops/math_ops.py:3066: to_int32 (from tensorflow.python.ops.math_ops) is deprecated and will be removed in a future version.\n",
      "Instructions for updating:\n",
      "Use tf.cast instead.\n",
      "Epoch 1/100\n",
      "236/236 [==============================] - 39s 166ms/step - loss: 3.7317 - mean_absolute_error: 3.7317 - val_loss: 2.9816 - val_mean_absolute_error: 2.9816\n",
      "Epoch 2/100\n",
      "174/236 [=====================>........] - ETA: 8s - loss: 3.0047 - mean_absolute_error: 3.0047"
     ]
    }
   ],
   "source": [
    "#train_data, val_data, y_train, y_val = train_test_split(training, targets, test_size=0.1, random_state=42)\n",
    "\n",
    "from keras.models import Sequential\n",
    "from keras.layers import LSTM,Dense,Dropout,Flatten,GRU,Conv1D,TimeDistributed,MaxPooling1D,Flatten,CuDNNGRU,CuDNNLSTM\n",
    "from keras.callbacks import EarlyStopping\n",
    "from keras.layers.normalization import BatchNormalization\n",
    "from keras.layers import Bidirectional\n",
    "\n",
    "from keras import backend as K\n",
    "K.clear_session()\n",
    "\n",
    "TIMESTEPS=150000\n",
    "\n",
    "dropout=0.2\n",
    "\n",
    "\n",
    "my_model = Sequential()\n",
    "my_model.add(\n",
    "        Conv1D(filters=10, kernel_size=1000, #activation='relu',\n",
    "               strides=1000, input_shape=(TIMESTEPS,1))\n",
    ")\n",
    "             \n",
    "my_model.add(MaxPooling1D(pool_size=2))\n",
    "\n",
    "my_model.add(BatchNormalization())\n",
    "\n",
    "# my_model.add(\n",
    "#         Conv1D(filters=2, kernel_size=50, #activation='relu',\n",
    "#                strides=10, input_shape=(TIMESTEPS,1))\n",
    "# )\n",
    "             \n",
    "#my_model.add(MaxPooling1D(pool_size=4))\n",
    "#my_model.add(Flatten())\n",
    "#my_model.add(BatchNormalization())\n",
    "\n",
    "\n",
    "my_model.add(CuDNNGRU(units = 16))\n",
    "\n",
    "my_model.add(Dense(1))\n",
    "\n",
    "\n",
    "\n",
    "my_model.compile(loss = 'mae',optimizer = 'adam', metrics = ['mean_absolute_error'])\n",
    "my_model.summary()\n",
    "\n",
    "\n",
    "\n",
    "\n",
    "callbacks = [\n",
    "    EarlyStopping(monitor='val_loss', patience=10, verbose=0),\n",
    "    #Reseter()\n",
    "]\n",
    "\n",
    "my_training_batch_generator = MY_Generator(train_data_batch, NUMBER_OF_BATCHES, 'train')\n",
    "my_validation_batch_generator = MY_Generator(val_data_batch, NUMBER_OF_VALIDATION_STEPS, 'val')\n",
    "\n",
    "\n",
    "history = my_model.fit_generator(generator=my_training_batch_generator,\n",
    "                                          #steps_per_epoch=NUMBER_OF_BATCHES,\n",
    "                                          epochs=100,\n",
    "                                          validation_data=my_validation_batch_generator,\n",
    "                                          #validation_steps=NUMBER_OF_VALIDATION_STEPS,\n",
    "                                          callbacks=callbacks,\n",
    "                                          shuffle=True,\n",
    "                                          #verbose=1,\n",
    "                                          #validation_data=my_validation_batch_generator,\n",
    "                                          #validation_steps=(num_validation_samples // batch_size),\n",
    "                                          use_multiprocessing=True,\n",
    "                                          workers=8,\n",
    "                                          #max_queue_size=32\n",
    "                      )\n",
    "\n",
    "\n",
    "import matplotlib.pyplot as plt\n",
    "\n",
    "\n",
    "plt.plot(history.history['loss'])\n",
    "plt.plot(history.history['val_loss'])\n",
    "plt.title('model loss')\n",
    "plt.ylabel('loss')\n",
    "plt.xlabel('epoch')\n",
    "plt.legend(['train', 'test'], loc='upper left')\n",
    "plt.show()\n",
    "\n",
    "#import math\n",
    "#print(\"best rmse val:\", math.sqrt(my_model.history.history['val_mean_squared_error'][-1]))"
   ]
  },
  {
   "cell_type": "code",
   "execution_count": null,
   "metadata": {},
   "outputs": [],
   "source": []
  },
  {
   "cell_type": "code",
   "execution_count": null,
   "metadata": {},
   "outputs": [],
   "source": [
    "TEST_SPLITS='test'\n",
    "test_splits = [f for f in listdir(TEST_SPLITS) if isfile(join(TEST_SPLITS, f))]"
   ]
  },
  {
   "cell_type": "code",
   "execution_count": null,
   "metadata": {},
   "outputs": [],
   "source": [
    "test_splits"
   ]
  },
  {
   "cell_type": "code",
   "execution_count": null,
   "metadata": {},
   "outputs": [],
   "source": [
    "test_split_chunks = np.array_split(test_splits,mp.cpu_count())\n",
    "\n",
    "import build_segment\n",
    "importlib.reload(build_segment)\n",
    "\n",
    "from build_segment import build_segment_f\n",
    "\n",
    "if __name__ ==  '__main__':\n",
    "    pool = mp.Pool(mp.cpu_count())\n",
    "    res = [pool.apply_async(build_segment_f,args=[chunk,TIMESTEPS, True]) \\\n",
    "           for chunk in test_split_chunks]\n",
    "    pool.close()\n",
    "    pool.join()"
   ]
  },
  {
   "cell_type": "code",
   "execution_count": null,
   "metadata": {},
   "outputs": [],
   "source": [
    "ids = []\n",
    "preds = []\n",
    "i=0\n",
    "for r in res:\n",
    "    for df in r.get():\n",
    "        if i % 100 == 0:\n",
    "            print(i)\n",
    "        #training[i] = df.loc[:,df.columns != 'time_to_failure']\n",
    "        ids.append(df['seg_id'].unique()[0].split(\".\")[0])\n",
    "        test_df = df.drop('seg_id', axis=1)\n",
    "        preds.append(my_model.predict(test_df.values.reshape(1,-1,NUMBER_OF_FEATURES))[0][0])\n",
    "        i+=1"
   ]
  },
  {
   "cell_type": "code",
   "execution_count": null,
   "metadata": {},
   "outputs": [],
   "source": [
    "submission = pd.DataFrame(ids)\n",
    "submission.columns = ['seg_id']\n",
    "submission['time_to_failure'] = preds\n",
    "\n",
    "submission.to_csv('submission.csv', index=False)"
   ]
  },
  {
   "cell_type": "code",
   "execution_count": null,
   "metadata": {},
   "outputs": [],
   "source": [
    "submission[\"time_to_failure\"].describe()"
   ]
  },
  {
   "cell_type": "code",
   "execution_count": null,
   "metadata": {},
   "outputs": [],
   "source": [
    "submission[\"time_to_failure\"].describe()"
   ]
  },
  {
   "cell_type": "code",
   "execution_count": null,
   "metadata": {},
   "outputs": [],
   "source": [
    "submission.head()"
   ]
  },
  {
   "cell_type": "code",
   "execution_count": null,
   "metadata": {},
   "outputs": [],
   "source": [
    "preds"
   ]
  },
  {
   "cell_type": "code",
   "execution_count": null,
   "metadata": {
    "scrolled": false
   },
   "outputs": [],
   "source": [
    "res[0].get()[0]"
   ]
  },
  {
   "cell_type": "code",
   "execution_count": null,
   "metadata": {},
   "outputs": [],
   "source": []
  },
  {
   "cell_type": "code",
   "execution_count": null,
   "metadata": {},
   "outputs": [],
   "source": [
    "path = 'test/%s' % (np.random.choice(test_splits))\n",
    "#\n",
    "\n",
    "df = pd.read_csv(path, float_precision='round_trip', header=[0])\n",
    "\n",
    "\n",
    "df.describe()"
   ]
  },
  {
   "cell_type": "code",
   "execution_count": null,
   "metadata": {},
   "outputs": [],
   "source": []
  },
  {
   "cell_type": "code",
   "execution_count": null,
   "metadata": {},
   "outputs": [],
   "source": []
  },
  {
   "cell_type": "code",
   "execution_count": null,
   "metadata": {},
   "outputs": [],
   "source": []
  },
  {
   "cell_type": "code",
   "execution_count": null,
   "metadata": {},
   "outputs": [],
   "source": []
  },
  {
   "cell_type": "code",
   "execution_count": null,
   "metadata": {},
   "outputs": [],
   "source": []
  },
  {
   "cell_type": "code",
   "execution_count": null,
   "metadata": {},
   "outputs": [],
   "source": []
  },
  {
   "cell_type": "code",
   "execution_count": null,
   "metadata": {},
   "outputs": [],
   "source": []
  },
  {
   "cell_type": "code",
   "execution_count": null,
   "metadata": {},
   "outputs": [],
   "source": []
  },
  {
   "cell_type": "code",
   "execution_count": null,
   "metadata": {},
   "outputs": [],
   "source": []
  },
  {
   "cell_type": "code",
   "execution_count": null,
   "metadata": {},
   "outputs": [],
   "source": []
  }
 ],
 "metadata": {
  "kernelspec": {
   "display_name": "Python 3",
   "language": "python",
   "name": "python3"
  },
  "language_info": {
   "codemirror_mode": {
    "name": "ipython",
    "version": 3
   },
   "file_extension": ".py",
   "mimetype": "text/x-python",
   "name": "python",
   "nbconvert_exporter": "python",
   "pygments_lexer": "ipython3",
   "version": "3.6.7"
  }
 },
 "nbformat": 4,
 "nbformat_minor": 2
}
