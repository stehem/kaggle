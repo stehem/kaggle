{
 "cells": [
  {
   "cell_type": "code",
   "execution_count": 1,
   "metadata": {},
   "outputs": [
    {
     "data": {
      "text/html": [
       "<style>.container { width:100% !important; }</style>"
      ],
      "text/plain": [
       "<IPython.core.display.HTML object>"
      ]
     },
     "metadata": {},
     "output_type": "display_data"
    }
   ],
   "source": [
    "from IPython.core.display import display, HTML\n",
    "display(HTML(\"<style>.container { width:100% !important; }</style>\"))"
   ]
  },
  {
   "cell_type": "code",
   "execution_count": 2,
   "metadata": {},
   "outputs": [],
   "source": [
    "import pandas as pd\n",
    "import numpy as np\n",
    "import os\n",
    "import matplotlib.pyplot as plt\n",
    "%matplotlib inline \n",
    "from sklearn.ensemble import RandomForestRegressor\n",
    "from sklearn.tree import DecisionTreeRegressor\n",
    "from sklearn.tree import export_graphviz\n",
    "import matplotlib.pyplot as plt\n",
    "import seaborn as sns\n",
    "\n",
    "import lightgbm as lgbm\n",
    "import gc\n",
    "import xgboost as xgb"
   ]
  },
  {
   "cell_type": "code",
   "execution_count": 3,
   "metadata": {},
   "outputs": [],
   "source": [
    "items           = pd.read_csv('items.csv')\n",
    "item_categories = pd.read_csv('item_categories.csv')\n",
    "shops           = pd.read_csv('shops.csv')\n",
    "sales_train     = pd.read_csv('sales_train_v2.csv')\n",
    "test            = pd.read_csv('test.csv')\n",
    "sample_submission            = pd.read_csv('sample_submission.csv')"
   ]
  },
  {
   "cell_type": "code",
   "execution_count": 4,
   "metadata": {},
   "outputs": [],
   "source": [
    "transactions = sales_train.copy()\n",
    "transactions[['day','month', 'year']] = transactions['date'].str.split('.', expand=True).astype(int)\n",
    "\n"
   ]
  },
  {
   "cell_type": "code",
   "execution_count": 5,
   "metadata": {},
   "outputs": [],
   "source": [
    "w_cat_ids = transactions.set_index('item_id').join(items.set_index('item_id'))\n",
    "w_cat_ids = w_cat_ids.reset_index()\n",
    "w_cat_ids['row_id'] = w_cat_ids.index\n",
    "\n",
    "w_cat_ids['item_shop_count_month'] = w_cat_ids.groupby(['month', 'year', 'shop_id', 'item_id'])['item_cnt_day'].transform('sum')\n",
    "#w_cat_ids['item_shop_count_month'] = w_cat_ids['item_shop_count_month'].clip(0 ,20)"
   ]
  },
  {
   "cell_type": "code",
   "execution_count": 6,
   "metadata": {},
   "outputs": [],
   "source": [
    "test_w_cat_ids = test.set_index('item_id').join(items.set_index('item_id'))\n",
    "test_w_cat_ids['item_id'] = test_w_cat_ids.index"
   ]
  },
  {
   "cell_type": "code",
   "execution_count": 7,
   "metadata": {},
   "outputs": [],
   "source": [
    "# categories test\n",
    "cat_counts_test = pd.DataFrame(test_w_cat_ids.groupby('item_category_id').size().reset_index(name=\"counts\"))\n",
    "cat_counts_test['percentage'] = cat_counts_test['counts'] * 100 / cat_counts_test.counts.sum()"
   ]
  },
  {
   "cell_type": "code",
   "execution_count": 8,
   "metadata": {},
   "outputs": [],
   "source": [
    "# categories train\n",
    "cat_counts = pd.DataFrame(w_cat_ids.groupby('item_category_id').size().reset_index(name=\"counts\"))\n",
    "cat_counts['percentage'] = cat_counts['counts'] * 100 / cat_counts.counts.sum()"
   ]
  },
  {
   "cell_type": "code",
   "execution_count": 9,
   "metadata": {},
   "outputs": [],
   "source": [
    "combined  = pd.merge(cat_counts, cat_counts_test,  how='left', left_on=['item_category_id'], right_on = ['item_category_id'])\n",
    "combined = combined.rename(index= str, columns={\"counts_x\": \"total_train\", \"percentage_x\": \"%train\", \"counts_y\": \"total_test\", \"percentage_y\": \"%test\"})"
   ]
  },
  {
   "cell_type": "code",
   "execution_count": 10,
   "metadata": {},
   "outputs": [
    {
     "data": {
      "text/html": [
       "<div>\n",
       "<style scoped>\n",
       "    .dataframe tbody tr th:only-of-type {\n",
       "        vertical-align: middle;\n",
       "    }\n",
       "\n",
       "    .dataframe tbody tr th {\n",
       "        vertical-align: top;\n",
       "    }\n",
       "\n",
       "    .dataframe thead th {\n",
       "        text-align: right;\n",
       "    }\n",
       "</style>\n",
       "<table border=\"1\" class=\"dataframe\">\n",
       "  <thead>\n",
       "    <tr style=\"text-align: right;\">\n",
       "      <th></th>\n",
       "      <th>item_category_id</th>\n",
       "      <th>total_train</th>\n",
       "      <th>%train</th>\n",
       "      <th>total_test</th>\n",
       "      <th>%test</th>\n",
       "    </tr>\n",
       "  </thead>\n",
       "  <tbody>\n",
       "    <tr>\n",
       "      <th>40</th>\n",
       "      <td>40</td>\n",
       "      <td>564652</td>\n",
       "      <td>19.233006</td>\n",
       "      <td>32340.0</td>\n",
       "      <td>15.098039</td>\n",
       "    </tr>\n",
       "    <tr>\n",
       "      <th>55</th>\n",
       "      <td>55</td>\n",
       "      <td>339585</td>\n",
       "      <td>11.566841</td>\n",
       "      <td>28224.0</td>\n",
       "      <td>13.176471</td>\n",
       "    </tr>\n",
       "    <tr>\n",
       "      <th>37</th>\n",
       "      <td>37</td>\n",
       "      <td>192674</td>\n",
       "      <td>6.562803</td>\n",
       "      <td>13902.0</td>\n",
       "      <td>6.490196</td>\n",
       "    </tr>\n",
       "    <tr>\n",
       "      <th>31</th>\n",
       "      <td>31</td>\n",
       "      <td>20649</td>\n",
       "      <td>0.703340</td>\n",
       "      <td>11634.0</td>\n",
       "      <td>5.431373</td>\n",
       "    </tr>\n",
       "    <tr>\n",
       "      <th>58</th>\n",
       "      <td>58</td>\n",
       "      <td>13702</td>\n",
       "      <td>0.466713</td>\n",
       "      <td>9366.0</td>\n",
       "      <td>4.372549</td>\n",
       "    </tr>\n",
       "    <tr>\n",
       "      <th>72</th>\n",
       "      <td>72</td>\n",
       "      <td>47177</td>\n",
       "      <td>1.606929</td>\n",
       "      <td>8064.0</td>\n",
       "      <td>3.764706</td>\n",
       "    </tr>\n",
       "    <tr>\n",
       "      <th>61</th>\n",
       "      <td>61</td>\n",
       "      <td>12237</td>\n",
       "      <td>0.416813</td>\n",
       "      <td>6342.0</td>\n",
       "      <td>2.960784</td>\n",
       "    </tr>\n",
       "    <tr>\n",
       "      <th>47</th>\n",
       "      <td>47</td>\n",
       "      <td>5657</td>\n",
       "      <td>0.192687</td>\n",
       "      <td>6258.0</td>\n",
       "      <td>2.921569</td>\n",
       "    </tr>\n",
       "    <tr>\n",
       "      <th>23</th>\n",
       "      <td>23</td>\n",
       "      <td>146789</td>\n",
       "      <td>4.999882</td>\n",
       "      <td>6216.0</td>\n",
       "      <td>2.901961</td>\n",
       "    </tr>\n",
       "    <tr>\n",
       "      <th>19</th>\n",
       "      <td>19</td>\n",
       "      <td>208219</td>\n",
       "      <td>7.092293</td>\n",
       "      <td>5880.0</td>\n",
       "      <td>2.745098</td>\n",
       "    </tr>\n",
       "    <tr>\n",
       "      <th>20</th>\n",
       "      <td>20</td>\n",
       "      <td>79058</td>\n",
       "      <td>2.692850</td>\n",
       "      <td>5754.0</td>\n",
       "      <td>2.686275</td>\n",
       "    </tr>\n",
       "    <tr>\n",
       "      <th>30</th>\n",
       "      <td>30</td>\n",
       "      <td>351591</td>\n",
       "      <td>11.975786</td>\n",
       "      <td>5712.0</td>\n",
       "      <td>2.666667</td>\n",
       "    </tr>\n",
       "    <tr>\n",
       "      <th>63</th>\n",
       "      <td>63</td>\n",
       "      <td>53845</td>\n",
       "      <td>1.834052</td>\n",
       "      <td>5502.0</td>\n",
       "      <td>2.568627</td>\n",
       "    </tr>\n",
       "    <tr>\n",
       "      <th>64</th>\n",
       "      <td>64</td>\n",
       "      <td>37635</td>\n",
       "      <td>1.281912</td>\n",
       "      <td>5376.0</td>\n",
       "      <td>2.509804</td>\n",
       "    </tr>\n",
       "    <tr>\n",
       "      <th>38</th>\n",
       "      <td>38</td>\n",
       "      <td>42718</td>\n",
       "      <td>1.455048</td>\n",
       "      <td>4578.0</td>\n",
       "      <td>2.137255</td>\n",
       "    </tr>\n",
       "  </tbody>\n",
       "</table>\n",
       "</div>"
      ],
      "text/plain": [
       "    item_category_id  total_train     %train  total_test      %test\n",
       "40                40       564652  19.233006     32340.0  15.098039\n",
       "55                55       339585  11.566841     28224.0  13.176471\n",
       "37                37       192674   6.562803     13902.0   6.490196\n",
       "31                31        20649   0.703340     11634.0   5.431373\n",
       "58                58        13702   0.466713      9366.0   4.372549\n",
       "72                72        47177   1.606929      8064.0   3.764706\n",
       "61                61        12237   0.416813      6342.0   2.960784\n",
       "47                47         5657   0.192687      6258.0   2.921569\n",
       "23                23       146789   4.999882      6216.0   2.901961\n",
       "19                19       208219   7.092293      5880.0   2.745098\n",
       "20                20        79058   2.692850      5754.0   2.686275\n",
       "30                30       351591  11.975786      5712.0   2.666667\n",
       "63                63        53845   1.834052      5502.0   2.568627\n",
       "64                64        37635   1.281912      5376.0   2.509804\n",
       "38                38        42718   1.455048      4578.0   2.137255"
      ]
     },
     "execution_count": 10,
     "metadata": {},
     "output_type": "execute_result"
    }
   ],
   "source": [
    "combined.sort_values('%test', ascending=False).head(15)"
   ]
  },
  {
   "cell_type": "code",
   "execution_count": 11,
   "metadata": {},
   "outputs": [],
   "source": [
    "shares = {}\n",
    "for _, row in combined.iterrows():\n",
    "    shares[row['item_category_id']] = row['%test']\n",
    "\n",
    "no_nans = [v for v in shares.values() if not np.isnan(v)] \n",
    "#sorted(no_nans, reverse=True)"
   ]
  },
  {
   "cell_type": "code",
   "execution_count": 12,
   "metadata": {},
   "outputs": [
    {
     "data": {
      "text/plain": [
       "array([20, 21, 22,  8,  9, 10, 32, 33])"
      ]
     },
     "execution_count": 12,
     "metadata": {},
     "output_type": "execute_result"
    }
   ],
   "source": [
    "w_cat_ids[w_cat_ids.month.isin([9,10,11])].date_block_num.unique()"
   ]
  },
  {
   "cell_type": "code",
   "execution_count": 13,
   "metadata": {},
   "outputs": [],
   "source": [
    "w_cat_ids = w_cat_ids.reset_index()"
   ]
  },
  {
   "cell_type": "code",
   "execution_count": 14,
   "metadata": {},
   "outputs": [
    {
     "name": "stdout",
     "output_type": "stream",
     "text": [
      "Needed 4 but only 1 available for cat_id 27 with share 0.019608\n",
      "Needed 171 but only 145 available for cat_id 45 with share 0.686275\n",
      "Needed 1093 but only 820 available for cat_id 58 with share 4.372549\n",
      "Needed 39 but only 33 available for cat_id 60 with share 0.156863\n",
      "Needed 299 but only 241 available for cat_id 76 with share 1.196078\n",
      "Needed 78 but only 66 available for cat_id 77 with share 0.313725\n",
      "Needed 240 but only 134 available for cat_id 78 with share 0.960784\n"
     ]
    }
   ],
   "source": [
    "val_len = 25000\n",
    "\n",
    "    \n",
    "def get_share_of_group(group):\n",
    "    #print(type(group))\n",
    "    cat_id = np.unique(group[['item_category_id']])[0]\n",
    "    share = shares[cat_id]\n",
    "\n",
    "    #print(share)\n",
    "    needed = val_len * share / 100\n",
    "    #print(needed)\n",
    "\n",
    "    if len(group) <= needed:\n",
    "        print(\"Needed %d but only %d available for cat_id %d with share %f\" % (needed, len(group), cat_id, share))\n",
    "    #else:\n",
    "        #print(\"OK\")\n",
    "    if np.isnan(needed):\n",
    "        return group.head(0)\n",
    "    return group.head(int(needed))\n",
    "\n",
    "\n",
    "#val_indices = w_cat_ids[w_cat_ids['date_block_num'].isin([32,33])].groupby(\"item_category_id\").apply(get_share_of_group).index\n",
    "val_indices = w_cat_ids[w_cat_ids['date_block_num'].isin([32,33])].groupby(\"item_category_id\").apply(get_share_of_group)['row_id'].values\n",
    "\n"
   ]
  },
  {
   "cell_type": "code",
   "execution_count": 15,
   "metadata": {},
   "outputs": [],
   "source": [
    "#test_w_cat_ids['item_shop_tuple'] = list(zip(test_w_cat_ids.item_id, test_w_cat_ids.shop_id))\n",
    "#w_cat_ids['item_shop_tuple'] = list(zip(w_cat_ids.item_id, w_cat_ids.shop_id))\n",
    "#w_cat_ids['cat_shop_tuple'] = list(zip(w_cat_ids.item_category_id, w_cat_ids.shop_id))"
   ]
  },
  {
   "cell_type": "code",
   "execution_count": 16,
   "metadata": {},
   "outputs": [
    {
     "name": "stdout",
     "output_type": "stream",
     "text": [
      "percentage of shared item ids in train:  21.722382721144587\n",
      "percentage of shared item ids in test:  92.88235294117646\n"
     ]
    }
   ],
   "source": [
    "# item ids both in train/test\n",
    "shared_ids = np.intersect1d(test_w_cat_ids.item_id, w_cat_ids.item_id)\n",
    "perc = len(shared_ids) * 100 / len(w_cat_ids.item_id.unique())\n",
    "print(\"percentage of shared item ids in train: \", perc)\n",
    "\n",
    "perc = len(shared_ids) * 100 / len(test_w_cat_ids.item_id.unique())\n",
    "print(\"percentage of shared item ids in test: \", perc)"
   ]
  },
  {
   "cell_type": "code",
   "execution_count": 17,
   "metadata": {},
   "outputs": [],
   "source": [
    "#unique_test_tuples = test_w_cat_ids['item_shop_tuple'].unique()\n",
    "#unique_train_tuples = w_cat_ids['item_shop_tuple'].unique()"
   ]
  },
  {
   "cell_type": "code",
   "execution_count": 18,
   "metadata": {},
   "outputs": [],
   "source": [
    "bins = [0, 50, 100, 250, 500, 1000, 5000, 10000, 500000]\n",
    "\n",
    "#w_cat_ids['price_binned'] = pd.cut(w_cat_ids['item_price'], bins)\n"
   ]
  },
  {
   "cell_type": "code",
   "execution_count": 19,
   "metadata": {},
   "outputs": [],
   "source": [
    "w_cat_ids['total_number_of_items_in_shop'] = w_cat_ids.groupby('shop_id')['item_id'].transform('nunique')\n",
    "w_cat_ids['total_number_of_items_in_cat'] = w_cat_ids.groupby('item_category_id')['item_id'].transform('nunique')\n",
    "w_cat_ids['shop_share_of_all_sold_items'] = w_cat_ids.groupby('shop_id')['item_cnt_day'].transform('sum') / w_cat_ids.item_cnt_day.sum()\n",
    "w_cat_ids['item_share_of_all_sold_items'] = w_cat_ids.groupby('item_id')['item_cnt_day'].transform('sum') / w_cat_ids.item_cnt_day.sum()\n",
    "w_cat_ids['total_sell_of_item'] =  w_cat_ids.groupby('item_id')['item_cnt_day'].transform('sum') \n",
    "w_cat_ids['shop_sell_share_of_item'] = w_cat_ids.groupby(['item_id', 'shop_id'])['item_cnt_day'].transform('sum') / w_cat_ids['total_sell_of_item'] \n",
    "w_cat_ids['total_sell_of_cat'] =  w_cat_ids.groupby('item_category_id')['item_cnt_day'].transform('sum') \n",
    "w_cat_ids['shop_sell_share_of_cat'] = w_cat_ids.groupby(['item_category_id', 'shop_id'])['item_cnt_day'].transform('sum') / w_cat_ids['total_sell_of_cat']"
   ]
  },
  {
   "cell_type": "code",
   "execution_count": 20,
   "metadata": {},
   "outputs": [],
   "source": [
    "w_cat_ids['shop_mean_month'] = w_cat_ids.groupby(['shop_id', 'month'])['item_cnt_day'].transform('sum') / w_cat_ids['total_number_of_items_in_shop']\n",
    "w_cat_ids['cat_mean_month'] = w_cat_ids.groupby(['item_category_id', 'month'])['item_cnt_day'].transform('sum') / w_cat_ids['total_number_of_items_in_cat']  / w_cat_ids.shop_id.nunique()\n",
    "w_cat_ids['item_mean_month'] = w_cat_ids.groupby(['item_id', 'month'])['item_cnt_day'].transform('sum') / w_cat_ids.shop_id.nunique()"
   ]
  },
  {
   "cell_type": "code",
   "execution_count": 21,
   "metadata": {},
   "outputs": [],
   "source": [
    "lag = 1\n",
    "lags = w_cat_ids.groupby(['item_id', 'date_block_num'])['item_mean_month'].first().groupby(level=[0,1]).shift(lag)\n",
    "w_cat_ids.set_index(['item_id', 'date_block_num'], inplace=True)\n",
    "w_cat_ids[\"item_mean_month_minus_1\"]  = lags\n",
    "w_cat_ids.reset_index(inplace=True)"
   ]
  },
  {
   "cell_type": "code",
   "execution_count": 22,
   "metadata": {},
   "outputs": [],
   "source": [
    "lag = 1\n",
    "lags = w_cat_ids.groupby(['item_category_id', 'date_block_num'])['cat_mean_month'].first().groupby(level=[0,1]).shift(lag)\n",
    "w_cat_ids.set_index(['item_category_id', 'date_block_num'], inplace=True)\n",
    "w_cat_ids[\"cat_mean_month_minus_1\"]  = lags\n",
    "w_cat_ids.reset_index(inplace=True)"
   ]
  },
  {
   "cell_type": "code",
   "execution_count": 27,
   "metadata": {},
   "outputs": [],
   "source": [
    "lag = 1\n",
    "lags = w_cat_ids.groupby(['shop_id', 'date_block_num'])['shop_mean_month'].first().groupby(level=[0,1]).shift(lag)\n",
    "w_cat_ids.set_index(['shop_id', 'date_block_num'], inplace=True)\n",
    "w_cat_ids[\"shop_mean_month_minus_1\"]  = lags\n",
    "w_cat_ids.reset_index(inplace=True)"
   ]
  },
  {
   "cell_type": "code",
   "execution_count": 28,
   "metadata": {},
   "outputs": [],
   "source": [
    "import datetime\n",
    "months = []\n",
    "for i in range(1,13):\n",
    "    months.append((i, str.lower(datetime.date(2008, i, 1).strftime('%B'))))\n",
    "    \n",
    "for i, month in months:\n",
    "    w_cat_ids[month] = w_cat_ids.month == i\n",
    "    \n",
    "years = w_cat_ids.year.unique()\n",
    "for year in years:\n",
    "    w_cat_ids[year] = w_cat_ids.year == year"
   ]
  },
  {
   "cell_type": "code",
   "execution_count": 29,
   "metadata": {},
   "outputs": [],
   "source": [
    "def get_coeffs_for_shop(shop_id, poly_degree=1, print_chart=False):\n",
    "\n",
    "    shop = w_cat_ids[w_cat_ids.shop_id == shop_id].groupby('date_block_num')['item_cnt_day'].sum().reset_index(name ='item_cnt')\n",
    "\n",
    "    datax = shop.date_block_num.values\n",
    "    datay = shop.item_cnt.values\n",
    "\n",
    "    z = np.polyfit(datax,datay, poly_degree) \n",
    "    p = np.poly1d(z)\n",
    "\n",
    "    shop['poly'] = shop['date_block_num'].apply(lambda x: p(x))\n",
    "\n",
    "    if print_chart:\n",
    "        sns.set()\n",
    "        fig, ax = plt.subplots()\n",
    "        shop.plot(x='date_block_num', y='item_cnt', ax=ax, legend=False, figsize=(15,7))\n",
    "        shop.plot(x='date_block_num', y='poly', ax=ax, legend=False, figsize=(15,7))\n",
    "\n",
    "    return p\n",
    "\n",
    "def get_coeffs_for_category(category_id, poly_degree=1, print_chart=False):\n",
    "\n",
    "    cat = w_cat_ids[w_cat_ids.item_category_id == category_id].groupby('date_block_num')['item_cnt_day'].sum().reset_index(name ='item_cnt')\n",
    "\n",
    "    datax = cat.date_block_num.values\n",
    "    datay = cat.item_cnt.values\n",
    "\n",
    "    z = np.polyfit(datax,datay, poly_degree) \n",
    "    p = np.poly1d(z)\n",
    "\n",
    "    cat['poly'] = cat['date_block_num'].apply(lambda x: p(x))\n",
    "\n",
    "    if print_chart:\n",
    "        sns.set()\n",
    "        fig, ax = plt.subplots()\n",
    "        cat.plot(x='date_block_num', y='item_cnt', ax=ax, legend=False, figsize=(15,7))\n",
    "        cat.plot(x='date_block_num', y='poly', ax=ax, legend=False, figsize=(15,7))\n",
    "\n",
    "    return p"
   ]
  },
  {
   "cell_type": "code",
   "execution_count": 30,
   "metadata": {},
   "outputs": [
    {
     "name": "stderr",
     "output_type": "stream",
     "text": [
      "/opt/conda/lib/python3.6/site-packages/ipykernel_launcher.py:8: RankWarning: Polyfit may be poorly conditioned\n",
      "  \n",
      "/opt/conda/lib/python3.6/site-packages/ipykernel_launcher.py:8: RankWarning: Polyfit may be poorly conditioned\n",
      "  \n"
     ]
    }
   ],
   "source": [
    "shop_ids = w_cat_ids.shop_id.unique()\n",
    "slopes = {}\n",
    "\n",
    "for shop_id in shop_ids:\n",
    "    slope = get_coeffs_for_shop(shop_id)[0]\n",
    "    slopes[shop_id] = slope\n",
    "\n",
    "w_cat_ids['shop_slope'] = w_cat_ids.apply(lambda row: slopes[row['shop_id']], axis=1)"
   ]
  },
  {
   "cell_type": "code",
   "execution_count": 31,
   "metadata": {},
   "outputs": [
    {
     "name": "stderr",
     "output_type": "stream",
     "text": [
      "/opt/conda/lib/python3.6/site-packages/ipykernel_launcher.py:28: RankWarning: Polyfit may be poorly conditioned\n",
      "/opt/conda/lib/python3.6/site-packages/ipykernel_launcher.py:28: RankWarning: Polyfit may be poorly conditioned\n",
      "/opt/conda/lib/python3.6/site-packages/ipykernel_launcher.py:28: RankWarning: Polyfit may be poorly conditioned\n",
      "/opt/conda/lib/python3.6/site-packages/ipykernel_launcher.py:28: RankWarning: Polyfit may be poorly conditioned\n"
     ]
    }
   ],
   "source": [
    "cat_ids = w_cat_ids.item_category_id.unique()\n",
    "slopes = {}\n",
    "\n",
    "for cat_id in cat_ids:\n",
    "    slope = get_coeffs_for_category(cat_id)[0]\n",
    "    slopes[cat_id] = slope\n",
    "\n",
    "w_cat_ids['cat_slope'] = w_cat_ids.apply(lambda row: slopes[row['item_category_id']], axis=1)"
   ]
  },
  {
   "cell_type": "code",
   "execution_count": 32,
   "metadata": {},
   "outputs": [],
   "source": [
    "w_cat_ids['item_shop_feature_1'] = w_cat_ids[['shop_mean_month', 'item_mean_month']].mean(axis=1)\n",
    "w_cat_ids['item_shop_feature_2'] = w_cat_ids[['item_share_of_all_sold_items', 'shop_share_of_all_sold_items']].mean(axis=1)"
   ]
  },
  {
   "cell_type": "code",
   "execution_count": 33,
   "metadata": {},
   "outputs": [],
   "source": [
    "w_cat_ids['shop_positive_trend'] = w_cat_ids.shop_slope > 0\n",
    "w_cat_ids['cat_positive_trend'] = w_cat_ids.cat_slope > 0"
   ]
  },
  {
   "cell_type": "code",
   "execution_count": 34,
   "metadata": {},
   "outputs": [],
   "source": [
    "global_mean = w_cat_ids.groupby('item_id')['item_cnt_day'].sum().mean()\n",
    "\n",
    "w_cat_ids['tmp'] = w_cat_ids.groupby('item_id')['item_cnt_day'].transform('sum')\n",
    "\n",
    "gc.collect()\n",
    "# YOUR CODE GOES HERE\n",
    "from sklearn.model_selection import KFold\n",
    "fold = KFold(n_splits=5, shuffle=False)\n",
    "\n",
    "split = list(fold.split(w_cat_ids))\n",
    "folds = [te for tr, te in split]\n",
    "\n",
    "\n",
    "for idx, fold in enumerate(folds):\n",
    "    other_folds = w_cat_ids[~w_cat_ids.index.isin(fold)]\n",
    "    mean = other_folds.groupby('item_id')['tmp'].mean()\n",
    "    w_cat_ids.loc[fold,'mean_enc_kfold'] = w_cat_ids.loc[fold,:].index.map(mean)\n",
    "\n",
    "\n",
    "# Fill NaNs\n",
    "w_cat_ids['mean_enc_kfold'].fillna(global_mean, inplace=True)"
   ]
  },
  {
   "cell_type": "code",
   "execution_count": 35,
   "metadata": {},
   "outputs": [
    {
     "data": {
      "text/plain": [
       "1247"
      ]
     },
     "execution_count": 35,
     "metadata": {},
     "output_type": "execute_result"
    }
   ],
   "source": [
    "w_cat_ids['mean_enc_kfold'].nunique()"
   ]
  },
  {
   "cell_type": "code",
   "execution_count": 36,
   "metadata": {},
   "outputs": [
    {
     "data": {
      "text/plain": [
       "Index([                      'shop_id',                'date_block_num',\n",
       "                    'item_category_id',                       'item_id',\n",
       "                               'index',                          'date',\n",
       "                          'item_price',                  'item_cnt_day',\n",
       "                                 'day',                         'month',\n",
       "                                'year',                     'item_name',\n",
       "                              'row_id',         'item_shop_count_month',\n",
       "       'total_number_of_items_in_shop',  'total_number_of_items_in_cat',\n",
       "        'shop_share_of_all_sold_items',  'item_share_of_all_sold_items',\n",
       "                  'total_sell_of_item',       'shop_sell_share_of_item',\n",
       "                   'total_sell_of_cat',        'shop_sell_share_of_cat',\n",
       "                     'shop_mean_month',                'cat_mean_month',\n",
       "                     'item_mean_month',       'item_mean_month_minus_1',\n",
       "              'cat_mean_month_minus_1',       'shop_mean_month_minus_1',\n",
       "                             'january',                      'february',\n",
       "                               'march',                         'april',\n",
       "                                 'may',                          'june',\n",
       "                                'july',                        'august',\n",
       "                           'september',                       'october',\n",
       "                            'november',                      'december',\n",
       "                                  2014,                            2015,\n",
       "                                  2013,                    'shop_slope',\n",
       "                           'cat_slope',           'item_shop_feature_1',\n",
       "                 'item_shop_feature_2',           'shop_positive_trend',\n",
       "                  'cat_positive_trend',                           'tmp',\n",
       "                      'mean_enc_kfold'],\n",
       "      dtype='object')"
      ]
     },
     "execution_count": 36,
     "metadata": {},
     "output_type": "execute_result"
    }
   ],
   "source": [
    "w_cat_ids.columns"
   ]
  },
  {
   "cell_type": "code",
   "execution_count": 97,
   "metadata": {},
   "outputs": [],
   "source": [
    "features = [                      'shop_id',                'date_block_num',\n",
    "                    'item_category_id',                       'item_id',\n",
    "                            \n",
    "                          'item_price',                 \n",
    "        'shop_share_of_all_sold_items',  'item_share_of_all_sold_items',\n",
    "                     'shop_mean_month',                'cat_mean_month',\n",
    "                     'item_mean_month',       'item_mean_month_minus_1',\n",
    "             'shop_mean_month_minus_1',        'cat_mean_month_minus_1',\n",
    "             'shop_sell_share_of_item',     \n",
    "              'shop_sell_share_of_cat',                       'january',\n",
    "                            'february',                         'march',\n",
    "                               'april',                           'may',\n",
    "                                'june',                          'july',\n",
    "                              'august',                     'september',\n",
    "                             'october',                      'november',\n",
    "                            'december',                            2014,\n",
    "                                  2015,                            2013,\n",
    "                 'shop_slope',                     'cat_slope',\n",
    "                 'item_shop_feature_1',           'item_shop_feature_2',\n",
    "                             'shop_positive_trend',            'cat_positive_trend',\n",
    "            'mean_enc_kfold'\n",
    "           ]"
   ]
  },
  {
   "cell_type": "code",
   "execution_count": 98,
   "metadata": {},
   "outputs": [],
   "source": [
    "x = w_cat_ids[features] \n",
    "y = w_cat_ids['item_shop_count_month']"
   ]
  },
  {
   "cell_type": "code",
   "execution_count": 99,
   "metadata": {},
   "outputs": [],
   "source": [
    "test_w_cat_ids = test.set_index('item_id').join(items.set_index('item_id'))\n",
    "test_w_cat_ids['item_id'] = test_w_cat_ids.index"
   ]
  },
  {
   "cell_type": "code",
   "execution_count": 100,
   "metadata": {},
   "outputs": [],
   "source": [
    "x_train = x[~x.index.isin(val_indices)]\n",
    "y_train = y[~y.index.isin(val_indices)]\n",
    "\n",
    "x_val = x[x.index.isin(val_indices)]\n",
    "y_val = y[y.index.isin(val_indices)]\n"
   ]
  },
  {
   "cell_type": "code",
   "execution_count": 101,
   "metadata": {},
   "outputs": [],
   "source": [
    "#eval_set = [(x_val, y_val)]\n",
    "\n",
    "#model_xgb = xgb.XGBClassifier()\n",
    "#model_xgb.fit(x_train, y_train, early_stopping_rounds=10, eval_metric=\"logloss\", eval_set=eval_set, verbose=True)"
   ]
  },
  {
   "cell_type": "code",
   "execution_count": 102,
   "metadata": {},
   "outputs": [],
   "source": [
    "lgtrain = lgbm.Dataset(x_train, label=y_train, categorical_feature = [0,1,2,3])\n",
    "lgval = lgbm.Dataset(x_val, label=y_val, categorical_feature = [0,1,2,3])\n",
    "\n",
    "\n",
    "\n",
    "#[0.00542047893814942, 29, 24, 0.39949465609514856, 1, 0.67943500, 10]\n",
    "params = {\n",
    "        \"num_threads\": 8,\n",
    "        \"verbosity\": -1,\n",
    "        #\"zero_as_missing\": \"true\",\n",
    "        \"boosting\":'gbdt',\n",
    "        \"objective\" : \"regression\",\n",
    "        \"metric\" : \"rmse\",\n",
    "        \"seed\": 42,\n",
    "        \"learning_rate\" : 0.1,\n",
    "      \n",
    "        #\"max_bin\": 200,\n",
    "        \"num_leaves\": 100\n",
    "        #\"num_leaves\": 29,\n",
    "        #\"max_depth\" : 24,\n",
    "        #\"bagging_fraction\": 0.4,\n",
    "        #\"bagging_freq\": 1,\n",
    "        #\"feature_fraction\": 0.68,\n",
    "        #\"lambda_l1\": 10,\n",
    "}"
   ]
  },
  {
   "cell_type": "code",
   "execution_count": 103,
   "metadata": {},
   "outputs": [
    {
     "name": "stderr",
     "output_type": "stream",
     "text": [
      "/opt/conda/lib/python3.6/site-packages/lightgbm/basic.py:1186: UserWarning: Using categorical_feature in Dataset.\n",
      "  warnings.warn('Using categorical_feature in Dataset.')\n",
      "/opt/conda/lib/python3.6/site-packages/lightgbm/basic.py:752: UserWarning: categorical_feature in param dict is overridden.\n",
      "  warnings.warn('categorical_feature in param dict is overridden.')\n"
     ]
    },
    {
     "name": "stdout",
     "output_type": "stream",
     "text": [
      "Training until validation scores don't improve for 100 rounds.\n",
      "[100]\tvalid_0's rmse: 3.09925\n",
      "[200]\tvalid_0's rmse: 3.03105\n",
      "[300]\tvalid_0's rmse: 3.01563\n",
      "[400]\tvalid_0's rmse: 2.99734\n",
      "[500]\tvalid_0's rmse: 2.99212\n",
      "Early stopping, best iteration is:\n",
      "[489]\tvalid_0's rmse: 2.98974\n"
     ]
    }
   ],
   "source": [
    "evals_result = {}\n",
    "model_lgb = lgbm.train(params, lgtrain, 10000, \n",
    "                      valid_sets=[lgval], \n",
    "                      early_stopping_rounds=100, \n",
    "                      verbose_eval=100, \n",
    "                      evals_result=evals_result)"
   ]
  },
  {
   "cell_type": "code",
   "execution_count": null,
   "metadata": {},
   "outputs": [],
   "source": [
    "test_w_cat_ids['date_block_num'] = 34\n",
    "test_w_cat_ids['month'] = 11\n",
    "test_w_cat_ids['year'] = 2015"
   ]
  },
  {
   "cell_type": "code",
   "execution_count": null,
   "metadata": {},
   "outputs": [],
   "source": [
    "item_level_data = w_cat_ids.drop_duplicates(['item_id'])[['item_id','item_price', 'item_mean_month', 'item_share_of_all_sold_items']]\n",
    "\n",
    "test_w_cat_ids = pd.merge(test_w_cat_ids, item_level_data,  how='left', left_on=['item_id'], right_on = ['item_id'])"
   ]
  },
  {
   "cell_type": "code",
   "execution_count": null,
   "metadata": {},
   "outputs": [],
   "source": [
    "shop_level_data = w_cat_ids.drop_duplicates(['shop_id'])[['shop_id','shop_mean_month', 'total_number_of_items_in_shop', 'shop_share_of_all_sold_items']]\n",
    "\n",
    "test_w_cat_ids = pd.merge(test_w_cat_ids, shop_level_data,  how='left', left_on=['shop_id'], right_on = ['shop_id'])"
   ]
  },
  {
   "cell_type": "code",
   "execution_count": null,
   "metadata": {},
   "outputs": [],
   "source": [
    "cat_level_data = w_cat_ids.drop_duplicates(['item_category_id'])[['item_category_id','cat_mean_month']]\n",
    "\n",
    "test_w_cat_ids = pd.merge(test_w_cat_ids, cat_level_data,  how='left', left_on=['item_category_id'], right_on = ['item_category_id'])"
   ]
  },
  {
   "cell_type": "code",
   "execution_count": null,
   "metadata": {},
   "outputs": [],
   "source": [
    "test_w_cat_ids[features].head()"
   ]
  },
  {
   "cell_type": "code",
   "execution_count": null,
   "metadata": {},
   "outputs": [],
   "source": [
    "preds = np.clip(model_lgb.predict(test_w_cat_ids[features]), 0,20)"
   ]
  },
  {
   "cell_type": "code",
   "execution_count": null,
   "metadata": {},
   "outputs": [],
   "source": [
    "submission = test.loc[:,['ID']]\n",
    "submission['item_cnt_month'] = preds.astype(int)\n",
    "\n",
    "submission.to_csv('submission.csv', index=False)"
   ]
  },
  {
   "cell_type": "markdown",
   "metadata": {},
   "source": [
    "3.45 val > 3.70 submit\n",
    "3.06 val > 3.65 submit"
   ]
  }
 ],
 "metadata": {
  "kernelspec": {
   "display_name": "Python 3",
   "language": "python",
   "name": "python3"
  },
  "language_info": {
   "codemirror_mode": {
    "name": "ipython",
    "version": 3
   },
   "file_extension": ".py",
   "mimetype": "text/x-python",
   "name": "python",
   "nbconvert_exporter": "python",
   "pygments_lexer": "ipython3",
   "version": "3.6.6"
  }
 },
 "nbformat": 4,
 "nbformat_minor": 2
}
