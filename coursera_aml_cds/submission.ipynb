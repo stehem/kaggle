{
 "cells": [
  {
   "cell_type": "markdown",
   "metadata": {},
   "source": [
    "How to produce the final file:  \n",
    "\n",
    "Run this notebook and produce a submission file, then run the catboost notebook (will need a lot of RAM and of time if not using a GPU) and also produce a submission file. Then just produce an ensembled submission file using the code in the cell below:"
   ]
  },
  {
   "cell_type": "code",
   "execution_count": null,
   "metadata": {},
   "outputs": [],
   "source": [
    "lgbm_preds = pd.read_csv('lgbm.csv')['item_cnt_month']\n",
    "cb_preds = pd.read_csv('catboost.csv')['item_cnt_month']\n",
    "\n",
    "preds = (lgbm_preds * 0.5) + (cb_preds * 0.5)\n",
    "\n",
    "preds.clip(0,20,out=preds)\n",
    "\n",
    "print(np.mean(preds))\n",
    "print(np.max(preds))\n",
    "\n",
    "submission = test.loc[:,['ID']]\n",
    "submission['item_cnt_month'] = preds\n",
    "\n",
    "submission.to_csv('submission.csv', index=False)"
   ]
  }
 ],
 "metadata": {
  "kernelspec": {
   "display_name": "Python 3",
   "language": "python",
   "name": "python3"
  },
  "language_info": {
   "codemirror_mode": {
    "name": "ipython",
    "version": 3
   },
   "file_extension": ".py",
   "mimetype": "text/x-python",
   "name": "python",
   "nbconvert_exporter": "python",
   "pygments_lexer": "ipython3",
   "version": "3.6.7"
  }
 },
 "nbformat": 4,
 "nbformat_minor": 2
}
