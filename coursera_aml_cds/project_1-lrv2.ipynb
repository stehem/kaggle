{
 "cells": [
  {
   "cell_type": "code",
   "execution_count": 1,
   "metadata": {},
   "outputs": [
    {
     "data": {
      "text/html": [
       "<style>.container { width:100% !important; }</style>"
      ],
      "text/plain": [
       "<IPython.core.display.HTML object>"
      ]
     },
     "metadata": {},
     "output_type": "display_data"
    }
   ],
   "source": [
    "from IPython.core.display import display, HTML\n",
    "display(HTML(\"<style>.container { width:100% !important; }</style>\"))"
   ]
  },
  {
   "cell_type": "code",
   "execution_count": 1,
   "metadata": {},
   "outputs": [],
   "source": [
    "import pandas as pd\n",
    "import numpy as np\n",
    "import os\n",
    "import matplotlib.pyplot as plt\n",
    "%matplotlib inline \n",
    "from sklearn.ensemble import RandomForestRegressor\n",
    "from sklearn.tree import DecisionTreeRegressor\n",
    "from sklearn.tree import export_graphviz\n",
    "import matplotlib.pyplot as plt\n",
    "\n",
    "import gc\n",
    "import pickle as pickle\n",
    "\n",
    "\n",
    "from sklearn.model_selection import KFold\n",
    "from itertools import product\n",
    "import tensorflow as tf"
   ]
  },
  {
   "cell_type": "code",
   "execution_count": 2,
   "metadata": {},
   "outputs": [],
   "source": [
    "gc.collect()\n",
    "\n",
    "items           = pd.read_csv('items.csv',usecols=[\"item_id\", \"item_category_id\"])\n",
    "item_categories = pd.read_csv('item_categories.csv')\n",
    "shops           = pd.read_csv('shops.csv')\n",
    "sales_train     = pd.read_csv('sales_train.csv.gz')\n",
    "test            = pd.read_csv('test.csv.gz')"
   ]
  },
  {
   "cell_type": "code",
   "execution_count": 3,
   "metadata": {},
   "outputs": [],
   "source": [
    "sales_train[['day','month', 'year']] = sales_train['date'].str.split('.', expand=True).astype(int)\n",
    "#sales_train = sales_train[sales_train['year'].isin([2013,2014]) == False]\n",
    "sales_train = sales_train[sales_train['date_block_num'] > 26]\n",
    "sales_train = sales_train.set_index('item_id').join(items.set_index('item_id'))\n",
    "sales_train.reset_index(inplace=True)"
   ]
  },
  {
   "cell_type": "code",
   "execution_count": 4,
   "metadata": {},
   "outputs": [],
   "source": [
    "max_sales=1000\n",
    "sums = sales_train.groupby('item_id')['item_cnt_day'].sum().reset_index().rename(columns={\"item_cnt_day\":\"item_total_sales\"}).sort_values(by='item_total_sales')\n",
    "\n",
    "ids_keep = sums[(sums['item_total_sales'] > 0) & (sums['item_total_sales'] < max_sales)]['item_id'].unique()\n",
    "#ids_keep = sums[(sums['item_total_sales'] > 0)]['item_id'].unique()"
   ]
  },
  {
   "cell_type": "code",
   "execution_count": 5,
   "metadata": {},
   "outputs": [],
   "source": [
    "train_item_ids = sales_train['item_id'].unique()\n",
    "#train_item_ids = np.setdiff1d(train_item_ids, ids_reject)\n",
    "#train_item_ids = ids_keep\n",
    "train_shop_ids = sales_train['shop_id'].unique()\n",
    "test_item_ids = test['item_id'].unique()\n",
    "test_shop_ids = test['shop_id'].unique()\n",
    "train_blocks = sales_train['date_block_num'].unique()\n",
    "\n",
    "#all_item_ids = np.unique(np.append(test_item_ids,train_item_ids))\n",
    "all_item_ids = test_item_ids\n",
    "\n",
    "#all_shop_ids = np.unique(np.append(train_shop_ids,test_shop_ids))\n",
    "all_shop_ids = test_shop_ids\n",
    "\n"
   ]
  },
  {
   "cell_type": "code",
   "execution_count": 6,
   "metadata": {},
   "outputs": [],
   "source": [
    "combinations = []\n",
    "\n",
    "for dbn in range(np.min(train_blocks), np.max(train_blocks)+1):\n",
    "    sales = sales_train[sales_train.date_block_num==dbn]\n",
    "    #item_ids = np.intersect1d(sales.item_id.unique(), test_item_ids)\n",
    "    item_ids = all_item_ids\n",
    "    #dbn_combos = list(product(sales.shop_id.unique(), item_ids, [dbn]))\n",
    "    dbn_combos = list(product(all_shop_ids, item_ids, [dbn]))\n",
    "    for combo in dbn_combos:\n",
    "        combinations.append(combo)\n",
    "        \n",
    "all_combos = pd.DataFrame(np.unique(np.vstack([combinations]), axis=0), columns=['shop_id','item_id','date_block_num'])"
   ]
  },
  {
   "cell_type": "code",
   "execution_count": 7,
   "metadata": {},
   "outputs": [],
   "source": [
    "ys = sales_train.groupby(['shop_id', 'item_id', 'date_block_num'], as_index=False)['item_cnt_day']\\\n",
    "                .sum().rename(columns={\"item_cnt_day\":\"shop_item_cnt_block\"})\n",
    "\n",
    "training = all_combos.merge(ys, on=['shop_id', 'item_id', 'date_block_num'], how='left').fillna(0)\n",
    "\n",
    "\n",
    "training['shop_item_cnt_block'] = training['shop_item_cnt_block'].clip(0,20).astype('int8')\n",
    "\n",
    "training = training.set_index('item_id').join(items.set_index('item_id'))\n",
    "training.reset_index(inplace=True)\n",
    "\n",
    "for col in ['item_id', 'shop_id', 'item_category_id']:\n",
    "    training[col] = pd.to_numeric(training[col], downcast='unsigned')"
   ]
  },
  {
   "cell_type": "code",
   "execution_count": 8,
   "metadata": {},
   "outputs": [],
   "source": [
    "dates = sales_train[['date_block_num', 'month', 'year']].drop_duplicates(['date_block_num', 'month', 'year'])\n",
    "\n",
    "dates_dict = {}\n",
    "\n",
    "for index,row in dates.iterrows():\n",
    "    dates_dict[row['date_block_num']] = {\"month\": row['month'], \"year\": row['year']}\n",
    "    \n",
    "training['month'] = pd.to_numeric(training['date_block_num'].apply(lambda block: dates_dict[block]['month']), downcast='unsigned')\n",
    "training['year'] = pd.to_numeric(training['date_block_num'].apply(lambda block: dates_dict[block]['year']), downcast='unsigned')\n",
    "\n"
   ]
  },
  {
   "cell_type": "code",
   "execution_count": 9,
   "metadata": {},
   "outputs": [],
   "source": [
    "ys = sales_train.groupby(['item_id', 'date_block_num'], as_index=False)['item_cnt_day']\\\n",
    "                .sum().rename(columns={\"item_cnt_day\":\"item_cnt_block\"})\n",
    "\n",
    "training = training.merge(ys, on=['item_id', 'date_block_num'], how='left').fillna(0)\n",
    "\n",
    "ys = sales_train.groupby(['shop_id', 'date_block_num'], as_index=False)['item_cnt_day']\\\n",
    "                .sum().rename(columns={\"item_cnt_day\":\"shop_cnt_block\"})\n",
    "\n",
    "training = training.merge(ys, on=['shop_id', 'date_block_num'], how='left').fillna(0)\n",
    "\n",
    "\n",
    "ys = sales_train.groupby(['item_category_id', 'date_block_num'], as_index=False)['item_cnt_day']\\\n",
    "                .sum().rename(columns={\"item_cnt_day\":\"category_cnt_block\"})\n",
    "\n",
    "\n",
    "training = training.merge(ys, on=['item_category_id', 'date_block_num'], how='left').fillna(0)\n",
    "\n",
    "\n",
    "ys = sales_train.groupby(['shop_id', 'item_category_id', 'date_block_num'], as_index=False)['item_cnt_day']\\\n",
    "                .sum().rename(columns={\"item_cnt_day\":\"shop_category_cnt_block\"})\n",
    "\n",
    "training = training.merge(ys, on=['shop_id', 'item_category_id', 'date_block_num'], how='left').fillna(0)\n"
   ]
  },
  {
   "cell_type": "code",
   "execution_count": 11,
   "metadata": {},
   "outputs": [],
   "source": [
    "training['item_cnt_block_mean'] = training.groupby(['date_block_num'])['item_cnt_block'].transform(np.mean)\n",
    "training['item_cnt_block_min'] = training.groupby(['date_block_num'])['item_cnt_block'].transform(np.min)\n",
    "training['item_cnt_block_max'] = training.groupby(['date_block_num'])['item_cnt_block'].transform(np.max)\n",
    "training['item_cnt_block_std'] = training.groupby(['date_block_num'])['item_cnt_block'].transform(np.std)\n",
    "training['item_cnt_block_med'] = training.groupby(['date_block_num'])['item_cnt_block'].transform(np.median)"
   ]
  },
  {
   "cell_type": "code",
   "execution_count": 12,
   "metadata": {},
   "outputs": [],
   "source": [
    "training['shop_cnt_block_mean'] = training.groupby(['date_block_num'])['shop_cnt_block'].transform(np.mean)\n",
    "training['shop_cnt_block_min'] = training.groupby(['date_block_num'])['shop_cnt_block'].transform(np.min)\n",
    "training['shop_cnt_block_max'] = training.groupby(['date_block_num'])['shop_cnt_block'].transform(np.max)\n",
    "training['shop_cnt_block_std'] = training.groupby(['date_block_num'])['shop_cnt_block'].transform(np.std)\n",
    "training['shop_cnt_block_med'] = training.groupby(['date_block_num'])['shop_cnt_block'].transform(np.median)"
   ]
  },
  {
   "cell_type": "code",
   "execution_count": 13,
   "metadata": {},
   "outputs": [],
   "source": [
    "training['category_cnt_block_mean'] = training.groupby(['date_block_num'])['category_cnt_block'].transform(np.mean)\n",
    "training['category_cnt_block_min'] = training.groupby(['date_block_num'])['category_cnt_block'].transform(np.min)\n",
    "training['category_cnt_block_max'] = training.groupby(['date_block_num'])['category_cnt_block'].transform(np.max)\n",
    "training['category_cnt_block_std'] = training.groupby(['date_block_num'])['category_cnt_block'].transform(np.std)\n",
    "training['category_cnt_block_med'] = training.groupby(['date_block_num'])['category_cnt_block'].transform(np.median)"
   ]
  },
  {
   "cell_type": "code",
   "execution_count": 14,
   "metadata": {},
   "outputs": [],
   "source": [
    "training['shop_category_cnt_block_mean'] = training.groupby(['date_block_num'])['shop_category_cnt_block'].transform(np.mean)\n",
    "training['shop_category_cnt_block_min'] = training.groupby(['date_block_num'])['shop_category_cnt_block'].transform(np.min)\n",
    "training['shop_category_cnt_block_max'] = training.groupby(['date_block_num'])['shop_category_cnt_block'].transform(np.max)\n",
    "training['shop_category_cnt_block_std'] = training.groupby(['date_block_num'])['shop_category_cnt_block'].transform(np.std)\n",
    "training['shop_category_cnt_block_med'] = training.groupby(['date_block_num'])['shop_category_cnt_block'].transform(np.median)"
   ]
  },
  {
   "cell_type": "code",
   "execution_count": 15,
   "metadata": {},
   "outputs": [],
   "source": [
    "training['shop_item_cnt_block_mean'] = training.groupby(['date_block_num'])['shop_item_cnt_block'].transform(np.mean)\n",
    "training['shop_item_cnt_block_min'] = training.groupby(['date_block_num'])['shop_item_cnt_block'].transform(np.min)\n",
    "training['shop_item_cnt_block_max'] = training.groupby(['date_block_num'])['shop_item_cnt_block'].transform(np.max)\n",
    "training['shop_item_cnt_block_std'] = training.groupby(['date_block_num'])['shop_item_cnt_block'].transform(np.std)\n",
    "training['shop_item_cnt_block_med'] = training.groupby(['date_block_num'])['shop_item_cnt_block'].transform(np.median)"
   ]
  },
  {
   "cell_type": "code",
   "execution_count": 10,
   "metadata": {},
   "outputs": [
    {
     "name": "stdout",
     "output_type": "stream",
     "text": [
      "fold 1\n",
      "fold 2\n",
      "fold 3\n",
      "fold 4\n",
      "fold 5\n"
     ]
    }
   ],
   "source": [
    "#https://maxhalford.github.io/blog/target-encoding-done-the-right-way/\n",
    "#https://www.kaggle.com/vprokopev/mean-likelihood-encodings-a-comprehensive-study\n",
    "\n",
    "from sklearn.model_selection import StratifiedKFold\n",
    "columns = [\"item_id\", \"shop_id\", \"item_category_id\"]\n",
    "\n",
    "\n",
    "\n",
    "y_train = training[\"shop_item_cnt_block\"].values\n",
    "folds = KFold(n_splits = 5, shuffle=True).split(training)\n",
    "\n",
    "i=1\n",
    "for in_fold_index, out_of_fold_index in folds:\n",
    "    print(\"fold\", i)\n",
    "    #print(np.intersect1d(training.loc[in_fold_index][\"shop_id\"].unique(), training.loc[out_of_fold_index][\"shop_id\"].unique()))\n",
    "    #print(len(in_fold_index))\n",
    "    for column in columns:\n",
    "        means = training.iloc[in_fold_index].groupby(column)['shop_item_cnt_block'].mean()\n",
    "            #x_validation[column + \"_mean_target\"] = means\\\n",
    "        name = column + '_mean_encoding'\n",
    "        training.loc[out_of_fold_index,name] = training.loc[out_of_fold_index][column].map(means)\n",
    "    i+=1"
   ]
  },
  {
   "cell_type": "code",
   "execution_count": 11,
   "metadata": {},
   "outputs": [],
   "source": [
    "training.fillna(0,inplace=True)"
   ]
  },
  {
   "cell_type": "code",
   "execution_count": 12,
   "metadata": {},
   "outputs": [
    {
     "data": {
      "text/html": [
       "<div>\n",
       "<style scoped>\n",
       "    .dataframe tbody tr th:only-of-type {\n",
       "        vertical-align: middle;\n",
       "    }\n",
       "\n",
       "    .dataframe tbody tr th {\n",
       "        vertical-align: top;\n",
       "    }\n",
       "\n",
       "    .dataframe thead th {\n",
       "        text-align: right;\n",
       "    }\n",
       "</style>\n",
       "<table border=\"1\" class=\"dataframe\">\n",
       "  <thead>\n",
       "    <tr style=\"text-align: right;\">\n",
       "      <th></th>\n",
       "      <th>item_id</th>\n",
       "      <th>shop_id</th>\n",
       "      <th>date_block_num</th>\n",
       "      <th>shop_item_cnt_block</th>\n",
       "      <th>item_category_id</th>\n",
       "      <th>month</th>\n",
       "      <th>year</th>\n",
       "      <th>item_cnt_block</th>\n",
       "      <th>shop_cnt_block</th>\n",
       "      <th>category_cnt_block</th>\n",
       "      <th>shop_category_cnt_block</th>\n",
       "      <th>item_id_mean_encoding</th>\n",
       "      <th>shop_id_mean_encoding</th>\n",
       "      <th>item_category_id_mean_encoding</th>\n",
       "    </tr>\n",
       "  </thead>\n",
       "  <tbody>\n",
       "    <tr>\n",
       "      <th>1287666</th>\n",
       "      <td>18686</td>\n",
       "      <td>50</td>\n",
       "      <td>29</td>\n",
       "      <td>0</td>\n",
       "      <td>55</td>\n",
       "      <td>6</td>\n",
       "      <td>2015</td>\n",
       "      <td>3.0</td>\n",
       "      <td>900.0</td>\n",
       "      <td>6017.0</td>\n",
       "      <td>109.0</td>\n",
       "      <td>0.079498</td>\n",
       "      <td>0.170318</td>\n",
       "      <td>0.192586</td>\n",
       "    </tr>\n",
       "    <tr>\n",
       "      <th>92266</th>\n",
       "      <td>1571</td>\n",
       "      <td>50</td>\n",
       "      <td>33</td>\n",
       "      <td>0</td>\n",
       "      <td>23</td>\n",
       "      <td>10</td>\n",
       "      <td>2015</td>\n",
       "      <td>18.0</td>\n",
       "      <td>949.0</td>\n",
       "      <td>2203.0</td>\n",
       "      <td>46.0</td>\n",
       "      <td>0.482759</td>\n",
       "      <td>0.167739</td>\n",
       "      <td>0.405845</td>\n",
       "    </tr>\n",
       "    <tr>\n",
       "      <th>1031671</th>\n",
       "      <td>15069</td>\n",
       "      <td>5</td>\n",
       "      <td>31</td>\n",
       "      <td>0</td>\n",
       "      <td>28</td>\n",
       "      <td>8</td>\n",
       "      <td>2015</td>\n",
       "      <td>0.0</td>\n",
       "      <td>1294.0</td>\n",
       "      <td>1722.0</td>\n",
       "      <td>28.0</td>\n",
       "      <td>2.053571</td>\n",
       "      <td>0.179963</td>\n",
       "      <td>0.703351</td>\n",
       "    </tr>\n",
       "    <tr>\n",
       "      <th>1094527</th>\n",
       "      <td>15760</td>\n",
       "      <td>55</td>\n",
       "      <td>27</td>\n",
       "      <td>0</td>\n",
       "      <td>40</td>\n",
       "      <td>4</td>\n",
       "      <td>2015</td>\n",
       "      <td>4.0</td>\n",
       "      <td>3422.0</td>\n",
       "      <td>10683.0</td>\n",
       "      <td>0.0</td>\n",
       "      <td>0.096491</td>\n",
       "      <td>0.191819</td>\n",
       "      <td>0.195860</td>\n",
       "    </tr>\n",
       "    <tr>\n",
       "      <th>1245880</th>\n",
       "      <td>18045</td>\n",
       "      <td>44</td>\n",
       "      <td>33</td>\n",
       "      <td>0</td>\n",
       "      <td>70</td>\n",
       "      <td>10</td>\n",
       "      <td>2015</td>\n",
       "      <td>12.0</td>\n",
       "      <td>779.0</td>\n",
       "      <td>1960.0</td>\n",
       "      <td>13.0</td>\n",
       "      <td>0.384937</td>\n",
       "      <td>0.131672</td>\n",
       "      <td>0.318802</td>\n",
       "    </tr>\n",
       "    <tr>\n",
       "      <th>553876</th>\n",
       "      <td>8219</td>\n",
       "      <td>57</td>\n",
       "      <td>28</td>\n",
       "      <td>0</td>\n",
       "      <td>55</td>\n",
       "      <td>5</td>\n",
       "      <td>2015</td>\n",
       "      <td>0.0</td>\n",
       "      <td>2408.0</td>\n",
       "      <td>6353.0</td>\n",
       "      <td>204.0</td>\n",
       "      <td>0.259414</td>\n",
       "      <td>0.401575</td>\n",
       "      <td>0.195230</td>\n",
       "    </tr>\n",
       "    <tr>\n",
       "      <th>1224284</th>\n",
       "      <td>17734</td>\n",
       "      <td>15</td>\n",
       "      <td>32</td>\n",
       "      <td>0</td>\n",
       "      <td>43</td>\n",
       "      <td>9</td>\n",
       "      <td>2015</td>\n",
       "      <td>2.0</td>\n",
       "      <td>1267.0</td>\n",
       "      <td>188.0</td>\n",
       "      <td>0.0</td>\n",
       "      <td>0.029661</td>\n",
       "      <td>0.211569</td>\n",
       "      <td>0.051144</td>\n",
       "    </tr>\n",
       "    <tr>\n",
       "      <th>980737</th>\n",
       "      <td>14262</td>\n",
       "      <td>52</td>\n",
       "      <td>29</td>\n",
       "      <td>0</td>\n",
       "      <td>38</td>\n",
       "      <td>6</td>\n",
       "      <td>2015</td>\n",
       "      <td>3.0</td>\n",
       "      <td>820.0</td>\n",
       "      <td>640.0</td>\n",
       "      <td>4.0</td>\n",
       "      <td>0.110204</td>\n",
       "      <td>0.157014</td>\n",
       "      <td>0.155497</td>\n",
       "    </tr>\n",
       "    <tr>\n",
       "      <th>768881</th>\n",
       "      <td>11520</td>\n",
       "      <td>16</td>\n",
       "      <td>28</td>\n",
       "      <td>0</td>\n",
       "      <td>69</td>\n",
       "      <td>5</td>\n",
       "      <td>2015</td>\n",
       "      <td>0.0</td>\n",
       "      <td>1187.0</td>\n",
       "      <td>630.0</td>\n",
       "      <td>9.0</td>\n",
       "      <td>0.024896</td>\n",
       "      <td>0.189311</td>\n",
       "      <td>0.164170</td>\n",
       "    </tr>\n",
       "    <tr>\n",
       "      <th>1418978</th>\n",
       "      <td>20744</td>\n",
       "      <td>31</td>\n",
       "      <td>28</td>\n",
       "      <td>0</td>\n",
       "      <td>72</td>\n",
       "      <td>5</td>\n",
       "      <td>2015</td>\n",
       "      <td>0.0</td>\n",
       "      <td>6327.0</td>\n",
       "      <td>1195.0</td>\n",
       "      <td>90.0</td>\n",
       "      <td>0.034335</td>\n",
       "      <td>0.886722</td>\n",
       "      <td>0.134023</td>\n",
       "    </tr>\n",
       "  </tbody>\n",
       "</table>\n",
       "</div>"
      ],
      "text/plain": [
       "         item_id  shop_id  date_block_num  shop_item_cnt_block  item_category_id  month  year  item_cnt_block  shop_cnt_block  category_cnt_block  shop_category_cnt_block  item_id_mean_encoding  shop_id_mean_encoding  item_category_id_mean_encoding\n",
       "1287666  18686    50       29              0                    55                6      2015  3.0             900.0           6017.0              109.0                    0.079498               0.170318               0.192586                      \n",
       "92266    1571     50       33              0                    23                10     2015  18.0            949.0           2203.0              46.0                     0.482759               0.167739               0.405845                      \n",
       "1031671  15069    5        31              0                    28                8      2015  0.0             1294.0          1722.0              28.0                     2.053571               0.179963               0.703351                      \n",
       "1094527  15760    55       27              0                    40                4      2015  4.0             3422.0          10683.0             0.0                      0.096491               0.191819               0.195860                      \n",
       "1245880  18045    44       33              0                    70                10     2015  12.0            779.0           1960.0              13.0                     0.384937               0.131672               0.318802                      \n",
       "553876   8219     57       28              0                    55                5      2015  0.0             2408.0          6353.0              204.0                    0.259414               0.401575               0.195230                      \n",
       "1224284  17734    15       32              0                    43                9      2015  2.0             1267.0          188.0               0.0                      0.029661               0.211569               0.051144                      \n",
       "980737   14262    52       29              0                    38                6      2015  3.0             820.0           640.0               4.0                      0.110204               0.157014               0.155497                      \n",
       "768881   11520    16       28              0                    69                5      2015  0.0             1187.0          630.0               9.0                      0.024896               0.189311               0.164170                      \n",
       "1418978  20744    31       28              0                    72                5      2015  0.0             6327.0          1195.0              90.0                     0.034335               0.886722               0.134023                      "
      ]
     },
     "execution_count": 12,
     "metadata": {},
     "output_type": "execute_result"
    }
   ],
   "source": [
    "\n",
    "pd.set_option('display.max_columns', None)  \n",
    "pd.set_option('display.expand_frame_repr', False)\n",
    "pd.set_option('max_colwidth', -1)\n",
    "training.sample(10)"
   ]
  },
  {
   "cell_type": "code",
   "execution_count": 14,
   "metadata": {},
   "outputs": [
    {
     "data": {
      "text/plain": [
       "array(['item_id', 'shop_id', 'date_block_num', 'shop_item_cnt_block',\n",
       "       'item_category_id', 'month', 'year', 'item_cnt_block',\n",
       "       'shop_cnt_block', 'category_cnt_block', 'shop_category_cnt_block',\n",
       "       'item_id_mean_encoding', 'shop_id_mean_encoding',\n",
       "       'item_category_id_mean_encoding'], dtype=object)"
      ]
     },
     "execution_count": 14,
     "metadata": {},
     "output_type": "execute_result"
    }
   ],
   "source": [
    "training.columns.values"
   ]
  },
  {
   "cell_type": "code",
   "execution_count": 15,
   "metadata": {},
   "outputs": [],
   "source": [
    "all_features = [\n",
    "    \n",
    "   'item_cnt_block',\n",
    "       'shop_cnt_block', 'category_cnt_block', 'shop_category_cnt_block',\n",
    "       'item_id_mean_encoding', 'shop_id_mean_encoding',\n",
    "       'item_category_id_mean_encoding'\n",
    "    \n",
    "]\n",
    "\n",
    "\n",
    "\n",
    "features = [\n",
    "    \n",
    "     'item_cnt_block',\n",
    "       'shop_cnt_block', 'category_cnt_block', 'shop_category_cnt_block',\n",
    "      \n",
    "     'item_id_mean_encoding', 'shop_id_mean_encoding',\n",
    "       'item_category_id_mean_encoding'\n",
    "]"
   ]
  },
  {
   "cell_type": "code",
   "execution_count": 16,
   "metadata": {},
   "outputs": [],
   "source": [
    "from sklearn.preprocessing import StandardScaler,MinMaxScaler \n",
    "\n",
    "\n",
    "training[all_features] = StandardScaler().fit_transform(training[all_features])\n",
    "\n"
   ]
  },
  {
   "cell_type": "code",
   "execution_count": 17,
   "metadata": {},
   "outputs": [],
   "source": [
    "training[all_features] = training[all_features].apply(pd.to_numeric, downcast='float')"
   ]
  },
  {
   "cell_type": "code",
   "execution_count": 18,
   "metadata": {},
   "outputs": [
    {
     "data": {
      "text/html": [
       "<div>\n",
       "<style scoped>\n",
       "    .dataframe tbody tr th:only-of-type {\n",
       "        vertical-align: middle;\n",
       "    }\n",
       "\n",
       "    .dataframe tbody tr th {\n",
       "        vertical-align: top;\n",
       "    }\n",
       "\n",
       "    .dataframe thead th {\n",
       "        text-align: right;\n",
       "    }\n",
       "</style>\n",
       "<table border=\"1\" class=\"dataframe\">\n",
       "  <thead>\n",
       "    <tr style=\"text-align: right;\">\n",
       "      <th></th>\n",
       "      <th>item_cnt_block</th>\n",
       "      <th>shop_cnt_block</th>\n",
       "      <th>category_cnt_block</th>\n",
       "      <th>shop_category_cnt_block</th>\n",
       "      <th>item_id_mean_encoding</th>\n",
       "      <th>shop_id_mean_encoding</th>\n",
       "      <th>item_category_id_mean_encoding</th>\n",
       "    </tr>\n",
       "  </thead>\n",
       "  <tbody>\n",
       "    <tr>\n",
       "      <th>317517</th>\n",
       "      <td>-0.126029</td>\n",
       "      <td>-0.270513</td>\n",
       "      <td>0.837917</td>\n",
       "      <td>0.042962</td>\n",
       "      <td>-0.330579</td>\n",
       "      <td>-0.421868</td>\n",
       "      <td>-0.110983</td>\n",
       "    </tr>\n",
       "    <tr>\n",
       "      <th>698169</th>\n",
       "      <td>0.053213</td>\n",
       "      <td>0.055143</td>\n",
       "      <td>-0.016453</td>\n",
       "      <td>0.104175</td>\n",
       "      <td>-0.150287</td>\n",
       "      <td>0.085138</td>\n",
       "      <td>-0.152492</td>\n",
       "    </tr>\n",
       "    <tr>\n",
       "      <th>7197</th>\n",
       "      <td>-0.151635</td>\n",
       "      <td>-0.883019</td>\n",
       "      <td>-1.027243</td>\n",
       "      <td>-0.514754</td>\n",
       "      <td>-0.414469</td>\n",
       "      <td>-0.961253</td>\n",
       "      <td>-0.568521</td>\n",
       "    </tr>\n",
       "    <tr>\n",
       "      <th>797165</th>\n",
       "      <td>1.384725</td>\n",
       "      <td>1.072436</td>\n",
       "      <td>1.074738</td>\n",
       "      <td>2.239818</td>\n",
       "      <td>0.590820</td>\n",
       "      <td>1.782804</td>\n",
       "      <td>-0.103894</td>\n",
       "    </tr>\n",
       "    <tr>\n",
       "      <th>867193</th>\n",
       "      <td>-0.062014</td>\n",
       "      <td>-0.672256</td>\n",
       "      <td>0.612984</td>\n",
       "      <td>0.396635</td>\n",
       "      <td>0.402974</td>\n",
       "      <td>-0.610801</td>\n",
       "      <td>1.880439</td>\n",
       "    </tr>\n",
       "    <tr>\n",
       "      <th>107302</th>\n",
       "      <td>-0.138832</td>\n",
       "      <td>-0.093989</td>\n",
       "      <td>-0.715653</td>\n",
       "      <td>-0.514754</td>\n",
       "      <td>-0.367136</td>\n",
       "      <td>0.181718</td>\n",
       "      <td>-0.529466</td>\n",
       "    </tr>\n",
       "    <tr>\n",
       "      <th>325658</th>\n",
       "      <td>-0.151635</td>\n",
       "      <td>-0.609103</td>\n",
       "      <td>0.900485</td>\n",
       "      <td>0.070168</td>\n",
       "      <td>4.179259</td>\n",
       "      <td>-0.612941</td>\n",
       "      <td>1.880439</td>\n",
       "    </tr>\n",
       "    <tr>\n",
       "      <th>19923</th>\n",
       "      <td>-0.126029</td>\n",
       "      <td>-0.349644</td>\n",
       "      <td>-0.878330</td>\n",
       "      <td>-0.507952</td>\n",
       "      <td>-0.390888</td>\n",
       "      <td>-0.236768</td>\n",
       "      <td>-0.213907</td>\n",
       "    </tr>\n",
       "    <tr>\n",
       "      <th>182516</th>\n",
       "      <td>-0.074817</td>\n",
       "      <td>-0.762800</td>\n",
       "      <td>0.077087</td>\n",
       "      <td>-0.188286</td>\n",
       "      <td>0.637688</td>\n",
       "      <td>-0.618822</td>\n",
       "      <td>0.497140</td>\n",
       "    </tr>\n",
       "    <tr>\n",
       "      <th>678764</th>\n",
       "      <td>-0.087620</td>\n",
       "      <td>-0.024749</td>\n",
       "      <td>-0.954038</td>\n",
       "      <td>-0.514754</td>\n",
       "      <td>-0.296837</td>\n",
       "      <td>0.053526</td>\n",
       "      <td>-0.509674</td>\n",
       "    </tr>\n",
       "  </tbody>\n",
       "</table>\n",
       "</div>"
      ],
      "text/plain": [
       "        item_cnt_block  shop_cnt_block  category_cnt_block  shop_category_cnt_block  item_id_mean_encoding  shop_id_mean_encoding  item_category_id_mean_encoding\n",
       "317517 -0.126029       -0.270513        0.837917            0.042962                -0.330579              -0.421868              -0.110983                      \n",
       "698169  0.053213        0.055143       -0.016453            0.104175                -0.150287               0.085138              -0.152492                      \n",
       "7197   -0.151635       -0.883019       -1.027243           -0.514754                -0.414469              -0.961253              -0.568521                      \n",
       "797165  1.384725        1.072436        1.074738            2.239818                 0.590820               1.782804              -0.103894                      \n",
       "867193 -0.062014       -0.672256        0.612984            0.396635                 0.402974              -0.610801               1.880439                      \n",
       "107302 -0.138832       -0.093989       -0.715653           -0.514754                -0.367136               0.181718              -0.529466                      \n",
       "325658 -0.151635       -0.609103        0.900485            0.070168                 4.179259              -0.612941               1.880439                      \n",
       "19923  -0.126029       -0.349644       -0.878330           -0.507952                -0.390888              -0.236768              -0.213907                      \n",
       "182516 -0.074817       -0.762800        0.077087           -0.188286                 0.637688              -0.618822               0.497140                      \n",
       "678764 -0.087620       -0.024749       -0.954038           -0.514754                -0.296837               0.053526              -0.509674                      "
      ]
     },
     "execution_count": 18,
     "metadata": {},
     "output_type": "execute_result"
    }
   ],
   "source": [
    "training[features].sample(10)"
   ]
  },
  {
   "cell_type": "code",
   "execution_count": 21,
   "metadata": {},
   "outputs": [
    {
     "name": "stdout",
     "output_type": "stream",
     "text": [
      "[0.33439728 0.31461756 0.17791174]\n"
     ]
    }
   ],
   "source": [
    "from sklearn.decomposition import PCA\n",
    "\n",
    "pca = PCA(n_components=3).fit(training[features])\n",
    "print(pca.explained_variance_ratio_) "
   ]
  },
  {
   "cell_type": "code",
   "execution_count": 23,
   "metadata": {},
   "outputs": [],
   "source": [
    "training_pca = pca.transform(training[features])"
   ]
  },
  {
   "cell_type": "code",
   "execution_count": 31,
   "metadata": {},
   "outputs": [],
   "source": [
    "training['pca1'] = np.array(training_pca).T[0]\n",
    "training['pca2'] = np.array(training_pca).T[1]\n",
    "training['pca3'] = np.array(training_pca).T[2]"
   ]
  },
  {
   "cell_type": "code",
   "execution_count": 33,
   "metadata": {},
   "outputs": [],
   "source": [
    "x_train = training[(training['date_block_num'] < 33)]\n",
    "y_train = x_train['item_cnt_block']\n",
    "x_train = x_train[['date_block_num', 'pca1', 'pca2', 'pca3']]\n",
    "\n",
    "\n",
    "\n",
    "\n",
    "x_val = training[training['date_block_num'] == 33]\n",
    "y_val = x_val['item_cnt_block']\n",
    "x_val = x_val[['date_block_num', 'pca1', 'pca2', 'pca3']]"
   ]
  },
  {
   "cell_type": "code",
   "execution_count": 32,
   "metadata": {},
   "outputs": [],
   "source": [
    "x = training[['date_block_num', 'pca1', 'pca2', 'pca3']]\n",
    "y = training['shop_item_cnt_block']"
   ]
  },
  {
   "cell_type": "code",
   "execution_count": 34,
   "metadata": {},
   "outputs": [
    {
     "name": "stdout",
     "output_type": "stream",
     "text": [
      "rmse:  0.667660375902045\n"
     ]
    }
   ],
   "source": [
    "from sklearn.linear_model import ElasticNet, Lasso, Ridge, LinearRegression,BayesianRidge, HuberRegressor\n",
    "\n",
    "\n",
    "lr_model =  LinearRegression()\n",
    "lr_model.fit(x_train, y_train)\n",
    "\n",
    "from sklearn.metrics import mean_squared_error\n",
    "from math import sqrt\n",
    "\n",
    "lr_val_preds = lr_model.predict(x_val)\n",
    "lr_val_preds.clip(0,20,out=lr_val_preds)\n",
    "rms = sqrt(mean_squared_error(y_val, lr_val_preds))\n",
    "print(\"rmse: \", rms)"
   ]
  },
  {
   "cell_type": "code",
   "execution_count": 38,
   "metadata": {},
   "outputs": [
    {
     "data": {
      "text/plain": [
       "array([-0.00414863,  0.30443285,  0.46836666,  0.14218729])"
      ]
     },
     "execution_count": 38,
     "metadata": {},
     "output_type": "execute_result"
    }
   ],
   "source": [
    "lr_model.coef_"
   ]
  },
  {
   "cell_type": "code",
   "execution_count": 35,
   "metadata": {},
   "outputs": [
    {
     "data": {
      "text/html": [
       "<div>\n",
       "<style scoped>\n",
       "    .dataframe tbody tr th:only-of-type {\n",
       "        vertical-align: middle;\n",
       "    }\n",
       "\n",
       "    .dataframe tbody tr th {\n",
       "        vertical-align: top;\n",
       "    }\n",
       "\n",
       "    .dataframe thead th {\n",
       "        text-align: right;\n",
       "    }\n",
       "</style>\n",
       "<table border=\"1\" class=\"dataframe\">\n",
       "  <thead>\n",
       "    <tr style=\"text-align: right;\">\n",
       "      <th></th>\n",
       "      <th>ID</th>\n",
       "      <th>shop_id</th>\n",
       "      <th>item_id</th>\n",
       "    </tr>\n",
       "  </thead>\n",
       "  <tbody>\n",
       "    <tr>\n",
       "      <th>0</th>\n",
       "      <td>0</td>\n",
       "      <td>5</td>\n",
       "      <td>5037</td>\n",
       "    </tr>\n",
       "    <tr>\n",
       "      <th>1</th>\n",
       "      <td>1</td>\n",
       "      <td>5</td>\n",
       "      <td>5320</td>\n",
       "    </tr>\n",
       "    <tr>\n",
       "      <th>2</th>\n",
       "      <td>2</td>\n",
       "      <td>5</td>\n",
       "      <td>5233</td>\n",
       "    </tr>\n",
       "    <tr>\n",
       "      <th>3</th>\n",
       "      <td>3</td>\n",
       "      <td>5</td>\n",
       "      <td>5232</td>\n",
       "    </tr>\n",
       "    <tr>\n",
       "      <th>4</th>\n",
       "      <td>4</td>\n",
       "      <td>5</td>\n",
       "      <td>5268</td>\n",
       "    </tr>\n",
       "  </tbody>\n",
       "</table>\n",
       "</div>"
      ],
      "text/plain": [
       "   ID  shop_id  item_id\n",
       "0  0   5        5037   \n",
       "1  1   5        5320   \n",
       "2  2   5        5233   \n",
       "3  3   5        5232   \n",
       "4  4   5        5268   "
      ]
     },
     "execution_count": 35,
     "metadata": {},
     "output_type": "execute_result"
    }
   ],
   "source": [
    "test.head()"
   ]
  },
  {
   "cell_type": "code",
   "execution_count": 37,
   "metadata": {},
   "outputs": [
    {
     "data": {
      "text/html": [
       "<div>\n",
       "<style scoped>\n",
       "    .dataframe tbody tr th:only-of-type {\n",
       "        vertical-align: middle;\n",
       "    }\n",
       "\n",
       "    .dataframe tbody tr th {\n",
       "        vertical-align: top;\n",
       "    }\n",
       "\n",
       "    .dataframe thead th {\n",
       "        text-align: right;\n",
       "    }\n",
       "</style>\n",
       "<table border=\"1\" class=\"dataframe\">\n",
       "  <thead>\n",
       "    <tr style=\"text-align: right;\">\n",
       "      <th></th>\n",
       "      <th>date_block_num</th>\n",
       "      <th>pca1</th>\n",
       "      <th>pca2</th>\n",
       "      <th>pca3</th>\n",
       "    </tr>\n",
       "  </thead>\n",
       "  <tbody>\n",
       "    <tr>\n",
       "      <th>351351</th>\n",
       "      <td>27</td>\n",
       "      <td>0.731397</td>\n",
       "      <td>2.104618</td>\n",
       "      <td>0.309323</td>\n",
       "    </tr>\n",
       "    <tr>\n",
       "      <th>351352</th>\n",
       "      <td>28</td>\n",
       "      <td>0.995487</td>\n",
       "      <td>2.291426</td>\n",
       "      <td>0.160860</td>\n",
       "    </tr>\n",
       "    <tr>\n",
       "      <th>351353</th>\n",
       "      <td>29</td>\n",
       "      <td>1.144876</td>\n",
       "      <td>2.563200</td>\n",
       "      <td>0.196425</td>\n",
       "    </tr>\n",
       "    <tr>\n",
       "      <th>351354</th>\n",
       "      <td>30</td>\n",
       "      <td>0.938040</td>\n",
       "      <td>2.305437</td>\n",
       "      <td>0.212331</td>\n",
       "    </tr>\n",
       "    <tr>\n",
       "      <th>351355</th>\n",
       "      <td>31</td>\n",
       "      <td>1.499120</td>\n",
       "      <td>2.306684</td>\n",
       "      <td>-0.211608</td>\n",
       "    </tr>\n",
       "    <tr>\n",
       "      <th>351356</th>\n",
       "      <td>32</td>\n",
       "      <td>1.365186</td>\n",
       "      <td>2.493867</td>\n",
       "      <td>0.003470</td>\n",
       "    </tr>\n",
       "    <tr>\n",
       "      <th>351357</th>\n",
       "      <td>33</td>\n",
       "      <td>0.760475</td>\n",
       "      <td>1.984824</td>\n",
       "      <td>0.302897</td>\n",
       "    </tr>\n",
       "  </tbody>\n",
       "</table>\n",
       "</div>"
      ],
      "text/plain": [
       "        date_block_num      pca1      pca2      pca3\n",
       "351351  27              0.731397  2.104618  0.309323\n",
       "351352  28              0.995487  2.291426  0.160860\n",
       "351353  29              1.144876  2.563200  0.196425\n",
       "351354  30              0.938040  2.305437  0.212331\n",
       "351355  31              1.499120  2.306684 -0.211608\n",
       "351356  32              1.365186  2.493867  0.003470\n",
       "351357  33              0.760475  1.984824  0.302897"
      ]
     },
     "execution_count": 37,
     "metadata": {},
     "output_type": "execute_result"
    }
   ],
   "source": [
    "training[(training['shop_id'] == 5) & ((training['item_id'] == 5037))][['date_block_num', 'pca1', 'pca2', 'pca3']]"
   ]
  },
  {
   "cell_type": "code",
   "execution_count": 59,
   "metadata": {},
   "outputs": [],
   "source": [
    "training_test = training[(training['shop_id'].isin(test['shop_id'].unique()))\\\n",
    "                         & (training['item_id'].isin(test['item_id'].unique()))]"
   ]
  },
  {
   "cell_type": "code",
   "execution_count": null,
   "metadata": {},
   "outputs": [],
   "source": [
    "import multiprocessing as mp\n",
    "\n",
    "import importlib\n",
    "import build_test\n",
    "importlib.reload(build_test_lr)\n",
    "\n",
    "window_size = len(windows[0])\n",
    "\n",
    "from build_test import build_test_lr_f\n",
    "\n",
    "if __name__ ==  '__main__':\n",
    "    pool = mp.Pool(mp.cpu_count())\n",
    "    res = [pool.apply_async(build_test_f,args=[interval, test, training_test, features, window_size]) for interval in intervals]\n",
    "    pool.close()\n",
    "    pool.join()"
   ]
  },
  {
   "cell_type": "code",
   "execution_count": 58,
   "metadata": {},
   "outputs": [
    {
     "name": "stdout",
     "output_type": "stream",
     "text": [
      "[[0.61879301]\n",
      " [1.02568211]\n",
      " [1.12818876]\n",
      " [0.84131057]\n",
      " [1.65103355]\n",
      " [1.18475855]\n",
      " [0.80324813]]\n",
      "1.0361449562106122\n",
      "[0.98192934]\n"
     ]
    }
   ],
   "source": [
    "a = training[(training['shop_id'] == 5) & ((training['item_id'] == 5233))][['pca1']].values\n",
    "print(a)\n",
    "print(np.mean(a))\n",
    "print(np.average(a, weights=[1,2,4,8,16,64,128], axis=0))"
   ]
  },
  {
   "cell_type": "code",
   "execution_count": 52,
   "metadata": {},
   "outputs": [
    {
     "data": {
      "text/plain": [
       "array([[0.35118505],\n",
       "       [0.18858851],\n",
       "       [0.404051  ],\n",
       "       ...,\n",
       "       [0.18795037],\n",
       "       [0.16009891],\n",
       "       [0.16940397]], dtype=float32)"
      ]
     },
     "execution_count": 52,
     "metadata": {},
     "output_type": "execute_result"
    }
   ],
   "source": [
    "preds = my_model.predict(np.array(test_lstm_data),batch_size=len(test_lstm_data))\n",
    "preds.clip(0,20,out=preds)"
   ]
  },
  {
   "cell_type": "code",
   "execution_count": 53,
   "metadata": {},
   "outputs": [
    {
     "name": "stdout",
     "output_type": "stream",
     "text": [
      "0.25428843\n",
      "20.0\n"
     ]
    }
   ],
   "source": [
    "\n",
    "print(np.mean(preds))\n",
    "print(np.max(preds))"
   ]
  },
  {
   "cell_type": "code",
   "execution_count": 54,
   "metadata": {},
   "outputs": [],
   "source": [
    "submission = test.loc[:,['ID']]\n",
    "submission['item_cnt_month'] = preds\n",
    "\n",
    "submission.to_csv('submission.csv', index=False)"
   ]
  },
  {
   "cell_type": "code",
   "execution_count": null,
   "metadata": {},
   "outputs": [],
   "source": [
    "bestpreds = pd.read_csv('submissionbest.csv')['item_cnt_month']\n",
    "print(np.mean(bestpreds))\n",
    "print(np.max(bestpreds))"
   ]
  },
  {
   "cell_type": "code",
   "execution_count": null,
   "metadata": {},
   "outputs": [],
   "source": [
    "lr_preds = pd.read_csv('lr110.csv')['item_cnt_month']\n",
    "lg_preds = pd.read_csv('lg110.csv')['item_cnt_month']\n",
    "#cb_preds = pd.read_csv('cb102.csv')['item_cnt_month']\n",
    "\n",
    "\n",
    "#preds = np.mean(np.array([lr_preds, lg_preds]),axis=0)\n",
    "\n",
    "preds = (lg_preds * 0.50) + (lr_preds * 0.50)"
   ]
  }
 ],
 "metadata": {
  "kernelspec": {
   "display_name": "Python 3",
   "language": "python",
   "name": "python3"
  },
  "language_info": {
   "codemirror_mode": {
    "name": "ipython",
    "version": 3
   },
   "file_extension": ".py",
   "mimetype": "text/x-python",
   "name": "python",
   "nbconvert_exporter": "python",
   "pygments_lexer": "ipython3",
   "version": "3.6.7"
  }
 },
 "nbformat": 4,
 "nbformat_minor": 2
}
