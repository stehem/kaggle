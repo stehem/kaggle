{
 "cells": [
  {
   "cell_type": "code",
   "execution_count": 1,
   "metadata": {},
   "outputs": [
    {
     "data": {
      "text/html": [
       "<style>.container { width:100% !important; }</style>"
      ],
      "text/plain": [
       "<IPython.core.display.HTML object>"
      ]
     },
     "metadata": {},
     "output_type": "display_data"
    }
   ],
   "source": [
    "from IPython.core.display import display, HTML\n",
    "display(HTML(\"<style>.container { width:100% !important; }</style>\"))"
   ]
  },
  {
   "cell_type": "code",
   "execution_count": 1,
   "metadata": {},
   "outputs": [
    {
     "ename": "ModuleNotFoundError",
     "evalue": "No module named 'tensorflow'",
     "output_type": "error",
     "traceback": [
      "\u001b[0;31m---------------------------------------------------------------------------\u001b[0m",
      "\u001b[0;31mModuleNotFoundError\u001b[0m                       Traceback (most recent call last)",
      "\u001b[0;32m<ipython-input-1-79fc344f5594>\u001b[0m in \u001b[0;36m<module>\u001b[0;34m\u001b[0m\n\u001b[1;32m     15\u001b[0m \u001b[0;32mfrom\u001b[0m \u001b[0msklearn\u001b[0m\u001b[0;34m.\u001b[0m\u001b[0mmodel_selection\u001b[0m \u001b[0;32mimport\u001b[0m \u001b[0mKFold\u001b[0m\u001b[0;34m\u001b[0m\u001b[0;34m\u001b[0m\u001b[0m\n\u001b[1;32m     16\u001b[0m \u001b[0;32mfrom\u001b[0m \u001b[0mitertools\u001b[0m \u001b[0;32mimport\u001b[0m \u001b[0mproduct\u001b[0m\u001b[0;34m\u001b[0m\u001b[0;34m\u001b[0m\u001b[0m\n\u001b[0;32m---> 17\u001b[0;31m \u001b[0;32mimport\u001b[0m \u001b[0mtensorflow\u001b[0m \u001b[0;32mas\u001b[0m \u001b[0mtf\u001b[0m\u001b[0;34m\u001b[0m\u001b[0;34m\u001b[0m\u001b[0m\n\u001b[0m",
      "\u001b[0;31mModuleNotFoundError\u001b[0m: No module named 'tensorflow'"
     ]
    }
   ],
   "source": [
    "import pandas as pd\n",
    "import numpy as np\n",
    "import os\n",
    "import matplotlib.pyplot as plt\n",
    "%matplotlib inline \n",
    "from sklearn.ensemble import RandomForestRegressor\n",
    "from sklearn.tree import DecisionTreeRegressor\n",
    "from sklearn.tree import export_graphviz\n",
    "import matplotlib.pyplot as plt\n",
    "\n",
    "import gc\n",
    "import pickle as pickle\n",
    "\n",
    "\n",
    "from sklearn.model_selection import KFold\n",
    "from itertools import product\n",
    "import tensorflow as tf"
   ]
  },
  {
   "cell_type": "code",
   "execution_count": 5,
   "metadata": {},
   "outputs": [],
   "source": [
    "gc.collect()\n",
    "\n",
    "items           = pd.read_csv('items.csv',usecols=[\"item_id\", \"item_category_id\"])\n",
    "item_categories = pd.read_csv('item_categories.csv')\n",
    "shops           = pd.read_csv('shops.csv')\n",
    "sales_train     = pd.read_csv('sales_train.csv.gz')\n",
    "test            = pd.read_csv('test.csv.gz')\n",
    "sales_train[['day','month', 'year']] = sales_train['date'].str.split('.', expand=True).astype(int)\n"
   ]
  },
  {
   "cell_type": "code",
   "execution_count": 25,
   "metadata": {},
   "outputs": [],
   "source": [
    "#sales_train = sales_train[sales_train['year'].isin([2013,2014]) == False]\n",
    "#sales_train = sales_train[sales_train['date_block_num'].isin([21,22])]\n",
    "sales_train = sales_train[sales_train['date_block_num'].isin([33])]\n",
    "\n",
    "sales_train = sales_train.set_index('item_id').join(items.set_index('item_id'))\n",
    "sales_train.reset_index(inplace=True)"
   ]
  },
  {
   "cell_type": "code",
   "execution_count": 26,
   "metadata": {},
   "outputs": [],
   "source": [
    "train_item_ids = sales_train['item_id'].unique()\n",
    "#train_item_ids = np.setdiff1d(train_item_ids, ids_reject)\n",
    "#train_item_ids = ids_keep\n",
    "train_shop_ids = sales_train['shop_id'].unique()\n",
    "test_item_ids = test['item_id'].unique()\n",
    "test_shop_ids = test['shop_id'].unique()\n",
    "train_blocks = sales_train['date_block_num'].unique()\n",
    "\n",
    "#all_item_ids = np.unique(np.append(test_item_ids,train_item_ids))\n",
    "all_item_ids = test_item_ids\n",
    "\n",
    "#all_shop_ids = np.unique(np.append(train_shop_ids,test_shop_ids))\n",
    "all_shop_ids = test_shop_ids\n",
    "\n"
   ]
  },
  {
   "cell_type": "code",
   "execution_count": 27,
   "metadata": {},
   "outputs": [],
   "source": [
    "combinations = []\n",
    "\n",
    "for dbn in range(np.min(train_blocks), np.max(train_blocks)+1):\n",
    "    sales = sales_train[sales_train.date_block_num==dbn]\n",
    "    #item_ids = np.intersect1d(sales.item_id.unique(), test_item_ids)\n",
    "    item_ids = all_item_ids\n",
    "    #dbn_combos = list(product(sales.shop_id.unique(), item_ids, [dbn]))\n",
    "    dbn_combos = list(product(all_shop_ids, item_ids, [dbn]))\n",
    "    for combo in dbn_combos:\n",
    "        combinations.append(combo)\n",
    "        \n",
    "all_combos = pd.DataFrame(np.unique(np.vstack([combinations]), axis=0), columns=['shop_id','item_id','date_block_num'])"
   ]
  },
  {
   "cell_type": "code",
   "execution_count": 28,
   "metadata": {},
   "outputs": [],
   "source": [
    "ys = sales_train.groupby(['shop_id', 'item_id', 'date_block_num'], as_index=False)['item_cnt_day']\\\n",
    "                .sum().rename(columns={\"item_cnt_day\":\"shop_item_cnt_block\"})\n",
    "\n",
    "training = all_combos.merge(ys, on=['shop_id', 'item_id', 'date_block_num'], how='left').fillna(0)\n",
    "\n",
    "\n",
    "training['shop_item_cnt_block'] = training['shop_item_cnt_block'].clip(0,20).astype('int8')\n",
    "\n",
    "training = training.set_index('item_id').join(items.set_index('item_id'))\n",
    "training.reset_index(inplace=True)\n",
    "\n",
    "for col in ['item_id', 'shop_id', 'item_category_id']:\n",
    "    training[col] = pd.to_numeric(training[col], downcast='unsigned')"
   ]
  },
  {
   "cell_type": "code",
   "execution_count": 29,
   "metadata": {},
   "outputs": [],
   "source": [
    "dates = sales_train[['date_block_num', 'month', 'year']].drop_duplicates(['date_block_num', 'month', 'year'])\n",
    "\n",
    "dates_dict = {}\n",
    "\n",
    "for index,row in dates.iterrows():\n",
    "    dates_dict[row['date_block_num']] = {\"month\": row['month'], \"year\": row['year']}\n",
    "    \n",
    "training['month'] = pd.to_numeric(training['date_block_num'].apply(lambda block: dates_dict[block]['month']), downcast='unsigned')\n",
    "training['year'] = pd.to_numeric(training['date_block_num'].apply(lambda block: dates_dict[block]['year']), downcast='unsigned')\n",
    "\n"
   ]
  },
  {
   "cell_type": "code",
   "execution_count": 30,
   "metadata": {},
   "outputs": [],
   "source": [
    "ys = sales_train.groupby(['item_id', 'date_block_num'], as_index=False)['item_cnt_day']\\\n",
    "                .sum().rename(columns={\"item_cnt_day\":\"item_cnt_block\"})\n",
    "\n",
    "training = training.merge(ys, on=['item_id', 'date_block_num'], how='left').fillna(0)\n",
    "\n",
    "ys = sales_train.groupby(['shop_id', 'date_block_num'], as_index=False)['item_cnt_day']\\\n",
    "                .sum().rename(columns={\"item_cnt_day\":\"shop_cnt_block\"})\n",
    "\n",
    "training = training.merge(ys, on=['shop_id', 'date_block_num'], how='left').fillna(0)\n",
    "\n",
    "\n",
    "ys = sales_train.groupby(['item_category_id', 'date_block_num'], as_index=False)['item_cnt_day']\\\n",
    "                .sum().rename(columns={\"item_cnt_day\":\"category_cnt_block\"})\n",
    "\n",
    "\n",
    "training = training.merge(ys, on=['item_category_id', 'date_block_num'], how='left').fillna(0)\n",
    "\n",
    "\n",
    "ys = sales_train.groupby(['shop_id', 'item_category_id', 'date_block_num'], as_index=False)['item_cnt_day']\\\n",
    "                .sum().rename(columns={\"item_cnt_day\":\"shop_category_cnt_block\"})\n",
    "\n",
    "training = training.merge(ys, on=['shop_id', 'item_category_id', 'date_block_num'], how='left').fillna(0)\n"
   ]
  },
  {
   "cell_type": "code",
   "execution_count": 31,
   "metadata": {},
   "outputs": [
    {
     "name": "stdout",
     "output_type": "stream",
     "text": [
      "fold 1\n",
      "fold 2\n",
      "fold 3\n",
      "fold 4\n",
      "fold 5\n"
     ]
    }
   ],
   "source": [
    "#https://maxhalford.github.io/blog/target-encoding-done-the-right-way/\n",
    "#https://www.kaggle.com/vprokopev/mean-likelihood-encodings-a-comprehensive-study\n",
    "\n",
    "from sklearn.model_selection import StratifiedKFold\n",
    "columns = [\"item_id\", \"shop_id\", \"item_category_id\"]\n",
    "\n",
    "\n",
    "\n",
    "y_train = training[\"shop_item_cnt_block\"].values\n",
    "folds = KFold(n_splits = 5, shuffle=True).split(training)\n",
    "\n",
    "i=1\n",
    "for in_fold_index, out_of_fold_index in folds:\n",
    "    print(\"fold\", i)\n",
    "    #print(np.intersect1d(training.loc[in_fold_index][\"shop_id\"].unique(), training.loc[out_of_fold_index][\"shop_id\"].unique()))\n",
    "    #print(len(in_fold_index))\n",
    "    for column in columns:\n",
    "        means = training.iloc[in_fold_index].groupby(column)['shop_item_cnt_block'].mean()\n",
    "            #x_validation[column + \"_mean_target\"] = means\\\n",
    "        name = column + '_mean_encoding'\n",
    "        training.loc[out_of_fold_index,name] = training.loc[out_of_fold_index][column].map(means)\n",
    "    i+=1"
   ]
  },
  {
   "cell_type": "code",
   "execution_count": 11,
   "metadata": {},
   "outputs": [
    {
     "name": "stdout",
     "output_type": "stream",
     "text": [
      "item_cnt_block 1\n",
      "shop_cnt_block 1\n",
      "category_cnt_block 1\n",
      "shop_category_cnt_block 1\n"
     ]
    }
   ],
   "source": [
    "def add_lags(df, cols, name, lags = [1]):\n",
    "    \n",
    "    for lag in lags:\n",
    "        print(name, lag)\n",
    "        lag_name = name + \"_lag_\" + str(lag)\n",
    "        \n",
    "        try:\n",
    "            df.drop(columns=[lag_name],inplace=True)\n",
    "        except:\n",
    "            pass       \n",
    "\n",
    "        result = df\\\n",
    "            .drop_duplicates(cols)\\\n",
    "            .sort_values(cols)\\\n",
    "            .set_index(cols)\\\n",
    "            .groupby(cols[0:len(cols)-1],as_index=False)\\\n",
    "            [name].shift(lag)\\\n",
    "            .rename(columns={name:lag_name}).reset_index()\n",
    "\n",
    "        df = df.merge(result, on=cols, how='left')\n",
    "        df[lag_name].fillna(0,inplace=True)\n",
    "        if \"mean\" in name:\n",
    "            df[lag_name] = pd.to_numeric(df[lag_name], downcast='float')\n",
    "        else:\n",
    "            df[lag_name] = pd.to_numeric(df[lag_name].astype(int), downcast='unsigned')\n",
    "        del result\n",
    "        gc.collect()\n",
    "    \n",
    "    return df\n",
    "                                         \n",
    "\n",
    "                                        \n",
    "training = add_lags(training, ['item_id','date_block_num'], 'item_cnt_block')\n",
    "#training = add_lags(training, ['item_id','date_block_num'], 'item_cnt_block_mean')\n",
    "training = add_lags(training, ['shop_id','date_block_num'], 'shop_cnt_block')\n",
    "#training = add_lags(training, ['shop_id','date_block_num'], 'shop_cnt_block_mean')\n",
    "training = add_lags(training, ['item_category_id','date_block_num'], 'category_cnt_block')\n",
    "#training = add_lags(training, ['item_category_id','date_block_num'], 'category_cnt_block_mean')\n",
    "training = add_lags(training, ['shop_id','item_category_id','date_block_num'], 'shop_category_cnt_block')\n",
    "#training = add_lags(training, ['shop_id','item_category_id','date_block_num'], 'shop_category_cnt_block_mean')"
   ]
  },
  {
   "cell_type": "code",
   "execution_count": 12,
   "metadata": {},
   "outputs": [
    {
     "data": {
      "text/plain": [
       "array(['item_id', 'shop_id', 'date_block_num', 'shop_item_cnt_block',\n",
       "       'item_category_id', 'month', 'year', 'item_cnt_block',\n",
       "       'shop_cnt_block', 'category_cnt_block', 'shop_category_cnt_block',\n",
       "       'item_id_mean_encoding', 'shop_id_mean_encoding',\n",
       "       'item_category_id_mean_encoding', 'item_cnt_block_lag_1',\n",
       "       'shop_cnt_block_lag_1', 'category_cnt_block_lag_1',\n",
       "       'shop_category_cnt_block_lag_1'], dtype=object)"
      ]
     },
     "execution_count": 12,
     "metadata": {},
     "output_type": "execute_result"
    }
   ],
   "source": [
    "training.columns.values"
   ]
  },
  {
   "cell_type": "code",
   "execution_count": 33,
   "metadata": {},
   "outputs": [],
   "source": [
    "all_features = [\n",
    " 'item_cnt_block',\n",
    "       'shop_cnt_block', 'category_cnt_block', 'shop_category_cnt_block',\n",
    "       'item_id_mean_encoding', 'shop_id_mean_encoding',\n",
    "       'item_category_id_mean_encoding', 'item_cnt_block_lag_1',\n",
    "       'shop_cnt_block_lag_1', 'category_cnt_block_lag_1',\n",
    "       'shop_category_cnt_block_lag_1'\n",
    "]"
   ]
  },
  {
   "cell_type": "code",
   "execution_count": 34,
   "metadata": {},
   "outputs": [],
   "source": [
    "from sklearn.preprocessing import StandardScaler,MinMaxScaler \n",
    "\n",
    "\n",
    "training[all_features] = StandardScaler().fit_transform(training[all_features])\n",
    "#StandardScaler().fit(training[all_features])\n",
    "\n",
    "\n",
    "#training[all_features] = training[all_features].apply(pd.to_numeric, downcast='float')"
   ]
  },
  {
   "cell_type": "code",
   "execution_count": 35,
   "metadata": {},
   "outputs": [],
   "source": [
    "training.fillna(0,inplace=True)"
   ]
  },
  {
   "cell_type": "code",
   "execution_count": 16,
   "metadata": {},
   "outputs": [],
   "source": [
    "#training = training[training['date_block_num'].isin([32,33])]"
   ]
  },
  {
   "cell_type": "code",
   "execution_count": 36,
   "metadata": {},
   "outputs": [
    {
     "data": {
      "text/html": [
       "<div>\n",
       "<style scoped>\n",
       "    .dataframe tbody tr th:only-of-type {\n",
       "        vertical-align: middle;\n",
       "    }\n",
       "\n",
       "    .dataframe tbody tr th {\n",
       "        vertical-align: top;\n",
       "    }\n",
       "\n",
       "    .dataframe thead th {\n",
       "        text-align: right;\n",
       "    }\n",
       "</style>\n",
       "<table border=\"1\" class=\"dataframe\">\n",
       "  <thead>\n",
       "    <tr style=\"text-align: right;\">\n",
       "      <th></th>\n",
       "      <th>item_id</th>\n",
       "      <th>shop_id</th>\n",
       "      <th>date_block_num</th>\n",
       "      <th>shop_item_cnt_block</th>\n",
       "      <th>item_category_id</th>\n",
       "      <th>month</th>\n",
       "      <th>year</th>\n",
       "      <th>item_cnt_block</th>\n",
       "      <th>shop_cnt_block</th>\n",
       "      <th>category_cnt_block</th>\n",
       "      <th>shop_category_cnt_block</th>\n",
       "      <th>item_id_mean_encoding</th>\n",
       "      <th>shop_id_mean_encoding</th>\n",
       "      <th>item_category_id_mean_encoding</th>\n",
       "    </tr>\n",
       "  </thead>\n",
       "  <tbody>\n",
       "    <tr>\n",
       "      <th>8174</th>\n",
       "      <td>1132</td>\n",
       "      <td>41</td>\n",
       "      <td>33</td>\n",
       "      <td>0</td>\n",
       "      <td>55</td>\n",
       "      <td>10</td>\n",
       "      <td>2015</td>\n",
       "      <td>-0.043643</td>\n",
       "      <td>-0.607444</td>\n",
       "      <td>0.968274</td>\n",
       "      <td>-0.032129</td>\n",
       "      <td>0.002243</td>\n",
       "      <td>-0.581245</td>\n",
       "      <td>-0.142205</td>\n",
       "    </tr>\n",
       "    <tr>\n",
       "      <th>106319</th>\n",
       "      <td>11117</td>\n",
       "      <td>26</td>\n",
       "      <td>33</td>\n",
       "      <td>0</td>\n",
       "      <td>40</td>\n",
       "      <td>10</td>\n",
       "      <td>2015</td>\n",
       "      <td>-0.176311</td>\n",
       "      <td>-0.108340</td>\n",
       "      <td>1.671072</td>\n",
       "      <td>0.821984</td>\n",
       "      <td>-0.348508</td>\n",
       "      <td>-0.043529</td>\n",
       "      <td>-0.089922</td>\n",
       "    </tr>\n",
       "    <tr>\n",
       "      <th>159007</th>\n",
       "      <td>16009</td>\n",
       "      <td>55</td>\n",
       "      <td>33</td>\n",
       "      <td>0</td>\n",
       "      <td>64</td>\n",
       "      <td>10</td>\n",
       "      <td>2015</td>\n",
       "      <td>-0.030376</td>\n",
       "      <td>0.312942</td>\n",
       "      <td>-0.885580</td>\n",
       "      <td>-0.540179</td>\n",
       "      <td>0.023500</td>\n",
       "      <td>-0.114272</td>\n",
       "      <td>-0.270725</td>\n",
       "    </tr>\n",
       "    <tr>\n",
       "      <th>45598</th>\n",
       "      <td>4610</td>\n",
       "      <td>44</td>\n",
       "      <td>33</td>\n",
       "      <td>0</td>\n",
       "      <td>55</td>\n",
       "      <td>10</td>\n",
       "      <td>2015</td>\n",
       "      <td>0.022691</td>\n",
       "      <td>-0.579758</td>\n",
       "      <td>0.968274</td>\n",
       "      <td>0.372839</td>\n",
       "      <td>0.064835</td>\n",
       "      <td>-0.585044</td>\n",
       "      <td>-0.144406</td>\n",
       "    </tr>\n",
       "    <tr>\n",
       "      <th>114564</th>\n",
       "      <td>12117</td>\n",
       "      <td>46</td>\n",
       "      <td>33</td>\n",
       "      <td>0</td>\n",
       "      <td>16</td>\n",
       "      <td>10</td>\n",
       "      <td>2015</td>\n",
       "      <td>-0.176311</td>\n",
       "      <td>-0.174938</td>\n",
       "      <td>-1.187422</td>\n",
       "      <td>-0.532816</td>\n",
       "      <td>-0.348508</td>\n",
       "      <td>-0.055269</td>\n",
       "      <td>-0.295039</td>\n",
       "    </tr>\n",
       "    <tr>\n",
       "      <th>25168</th>\n",
       "      <td>2865</td>\n",
       "      <td>16</td>\n",
       "      <td>33</td>\n",
       "      <td>0</td>\n",
       "      <td>25</td>\n",
       "      <td>10</td>\n",
       "      <td>2015</td>\n",
       "      <td>-0.096710</td>\n",
       "      <td>-0.442074</td>\n",
       "      <td>-1.111211</td>\n",
       "      <td>-0.451822</td>\n",
       "      <td>-0.153647</td>\n",
       "      <td>-0.378814</td>\n",
       "      <td>-0.244356</td>\n",
       "    </tr>\n",
       "    <tr>\n",
       "      <th>162232</th>\n",
       "      <td>16125</td>\n",
       "      <td>44</td>\n",
       "      <td>33</td>\n",
       "      <td>0</td>\n",
       "      <td>64</td>\n",
       "      <td>10</td>\n",
       "      <td>2015</td>\n",
       "      <td>0.009425</td>\n",
       "      <td>-0.579758</td>\n",
       "      <td>-0.885580</td>\n",
       "      <td>-0.341377</td>\n",
       "      <td>0.248256</td>\n",
       "      <td>-0.514844</td>\n",
       "      <td>-0.259238</td>\n",
       "    </tr>\n",
       "    <tr>\n",
       "      <th>97646</th>\n",
       "      <td>10304</td>\n",
       "      <td>56</td>\n",
       "      <td>33</td>\n",
       "      <td>0</td>\n",
       "      <td>38</td>\n",
       "      <td>10</td>\n",
       "      <td>2015</td>\n",
       "      <td>-0.017109</td>\n",
       "      <td>-0.217590</td>\n",
       "      <td>-0.843156</td>\n",
       "      <td>-0.363466</td>\n",
       "      <td>0.135503</td>\n",
       "      <td>-0.150203</td>\n",
       "      <td>-0.129196</td>\n",
       "    </tr>\n",
       "    <tr>\n",
       "      <th>85304</th>\n",
       "      <td>8850</td>\n",
       "      <td>4</td>\n",
       "      <td>33</td>\n",
       "      <td>0</td>\n",
       "      <td>40</td>\n",
       "      <td>10</td>\n",
       "      <td>2015</td>\n",
       "      <td>-0.176311</td>\n",
       "      <td>-0.540847</td>\n",
       "      <td>1.671072</td>\n",
       "      <td>0.196125</td>\n",
       "      <td>-0.348508</td>\n",
       "      <td>-0.601377</td>\n",
       "      <td>-0.094127</td>\n",
       "    </tr>\n",
       "    <tr>\n",
       "      <th>162168</th>\n",
       "      <td>16123</td>\n",
       "      <td>10</td>\n",
       "      <td>33</td>\n",
       "      <td>0</td>\n",
       "      <td>64</td>\n",
       "      <td>10</td>\n",
       "      <td>2015</td>\n",
       "      <td>-0.123244</td>\n",
       "      <td>-0.842405</td>\n",
       "      <td>-0.885580</td>\n",
       "      <td>-0.518090</td>\n",
       "      <td>-0.178004</td>\n",
       "      <td>-0.860339</td>\n",
       "      <td>-0.267336</td>\n",
       "    </tr>\n",
       "  </tbody>\n",
       "</table>\n",
       "</div>"
      ],
      "text/plain": [
       "        item_id  shop_id  date_block_num  shop_item_cnt_block  item_category_id  month  year  item_cnt_block  shop_cnt_block  category_cnt_block  shop_category_cnt_block  item_id_mean_encoding  shop_id_mean_encoding  item_category_id_mean_encoding\n",
       "8174    1132     41       33              0                    55                10     2015 -0.043643       -0.607444        0.968274           -0.032129                 0.002243              -0.581245              -0.142205                      \n",
       "106319  11117    26       33              0                    40                10     2015 -0.176311       -0.108340        1.671072            0.821984                -0.348508              -0.043529              -0.089922                      \n",
       "159007  16009    55       33              0                    64                10     2015 -0.030376        0.312942       -0.885580           -0.540179                 0.023500              -0.114272              -0.270725                      \n",
       "45598   4610     44       33              0                    55                10     2015  0.022691       -0.579758        0.968274            0.372839                 0.064835              -0.585044              -0.144406                      \n",
       "114564  12117    46       33              0                    16                10     2015 -0.176311       -0.174938       -1.187422           -0.532816                -0.348508              -0.055269              -0.295039                      \n",
       "25168   2865     16       33              0                    25                10     2015 -0.096710       -0.442074       -1.111211           -0.451822                -0.153647              -0.378814              -0.244356                      \n",
       "162232  16125    44       33              0                    64                10     2015  0.009425       -0.579758       -0.885580           -0.341377                 0.248256              -0.514844              -0.259238                      \n",
       "97646   10304    56       33              0                    38                10     2015 -0.017109       -0.217590       -0.843156           -0.363466                 0.135503              -0.150203              -0.129196                      \n",
       "85304   8850     4        33              0                    40                10     2015 -0.176311       -0.540847        1.671072            0.196125                -0.348508              -0.601377              -0.094127                      \n",
       "162168  16123    10       33              0                    64                10     2015 -0.123244       -0.842405       -0.885580           -0.518090                -0.178004              -0.860339              -0.267336                      "
      ]
     },
     "execution_count": 36,
     "metadata": {},
     "output_type": "execute_result"
    }
   ],
   "source": [
    "\n",
    "pd.set_option('display.max_columns', None)  \n",
    "pd.set_option('display.expand_frame_repr', False)\n",
    "pd.set_option('max_colwidth', -1)\n",
    "training.sample(10)"
   ]
  },
  {
   "cell_type": "code",
   "execution_count": 18,
   "metadata": {},
   "outputs": [
    {
     "name": "stdout",
     "output_type": "stream",
     "text": [
      "{21: 3.044522437723423, 22: 3.091042453358316}\n"
     ]
    }
   ],
   "source": [
    "scales = dict(zip([21,22],[np.log(x) for x in [21,22]]))\n",
    "print(scales)"
   ]
  },
  {
   "cell_type": "code",
   "execution_count": 19,
   "metadata": {},
   "outputs": [],
   "source": [
    "training['dbn_scaled'] = training['date_block_num'].apply(lambda dbn: scales[dbn])"
   ]
  },
  {
   "cell_type": "code",
   "execution_count": 20,
   "metadata": {},
   "outputs": [
    {
     "data": {
      "text/plain": [
       "array(['item_id', 'shop_id', 'date_block_num', 'shop_item_cnt_block',\n",
       "       'item_category_id', 'month', 'year', 'item_cnt_block',\n",
       "       'shop_cnt_block', 'category_cnt_block', 'shop_category_cnt_block',\n",
       "       'item_id_mean_encoding', 'shop_id_mean_encoding',\n",
       "       'item_category_id_mean_encoding', 'item_cnt_block_lag_1',\n",
       "       'shop_cnt_block_lag_1', 'category_cnt_block_lag_1',\n",
       "       'shop_category_cnt_block_lag_1', 'dbn_scaled'], dtype=object)"
      ]
     },
     "execution_count": 20,
     "metadata": {},
     "output_type": "execute_result"
    }
   ],
   "source": [
    "training.columns.values"
   ]
  },
  {
   "cell_type": "code",
   "execution_count": 21,
   "metadata": {},
   "outputs": [
    {
     "name": "stdout",
     "output_type": "stream",
     "text": [
      "rmse:  0.9007020386011617\n"
     ]
    }
   ],
   "source": [
    "from sklearn.linear_model import ElasticNet, Lasso, Ridge, LinearRegression,BayesianRidge, HuberRegressor\n",
    "\n",
    "features = [\n",
    "'item_id_mean_encoding', 'shop_id_mean_encoding', 'item_category_id_mean_encoding',\n",
    "    'item_cnt_block_lag_1',\n",
    "       'shop_cnt_block_lag_1', 'category_cnt_block_lag_1',\n",
    "       'shop_category_cnt_block_lag_1', 'dbn_scaled'\n",
    "]\n",
    "\n",
    "lr_model =  LinearRegression()\n",
    "train = training[training['date_block_num']==22]\n",
    "x_train = train[features]\n",
    "y_train = train['shop_item_cnt_block']\n",
    "lr_model.fit(x_train, y_train)\n",
    "\n",
    "from sklearn.metrics import mean_squared_error\n",
    "from math import sqrt\n",
    "\n",
    "train_preds = lr_model.predict(x_train)\n",
    "train_preds.clip(0,20,out=train_preds)\n",
    "rms = sqrt(mean_squared_error(y_train, train_preds))\n",
    "print(\"rmse: \", rms)"
   ]
  },
  {
   "cell_type": "code",
   "execution_count": 22,
   "metadata": {},
   "outputs": [
    {
     "data": {
      "text/plain": [
       "[('item_id_mean_encoding', 1.0161182349403604),\n",
       " ('shop_id_mean_encoding', 0.1457812840995624),\n",
       " ('item_category_id_mean_encoding', 0.08430661573847892),\n",
       " ('item_cnt_block_lag_1', -0.17789029305943854),\n",
       " ('shop_cnt_block_lag_1', -0.02709896353502962),\n",
       " ('category_cnt_block_lag_1', -0.07224189388879666),\n",
       " ('shop_category_cnt_block_lag_1', 0.09314177209902676),\n",
       " ('dbn_scaled', 0.0015124753549550498)]"
      ]
     },
     "execution_count": 22,
     "metadata": {},
     "output_type": "execute_result"
    }
   ],
   "source": [
    "list(zip(features,lr_model.coef_))"
   ]
  },
  {
   "cell_type": "code",
   "execution_count": 45,
   "metadata": {},
   "outputs": [
    {
     "data": {
      "text/html": [
       "<div>\n",
       "<style scoped>\n",
       "    .dataframe tbody tr th:only-of-type {\n",
       "        vertical-align: middle;\n",
       "    }\n",
       "\n",
       "    .dataframe tbody tr th {\n",
       "        vertical-align: top;\n",
       "    }\n",
       "\n",
       "    .dataframe thead th {\n",
       "        text-align: right;\n",
       "    }\n",
       "</style>\n",
       "<table border=\"1\" class=\"dataframe\">\n",
       "  <thead>\n",
       "    <tr style=\"text-align: right;\">\n",
       "      <th></th>\n",
       "      <th>ID</th>\n",
       "      <th>shop_id</th>\n",
       "      <th>item_id</th>\n",
       "      <th>item_id_mean_encoding</th>\n",
       "      <th>shop_id_mean_encoding</th>\n",
       "      <th>item_category_id_mean_encoding</th>\n",
       "      <th>item_cnt_block_lag_1</th>\n",
       "      <th>shop_cnt_block_lag_1</th>\n",
       "      <th>category_cnt_block_lag_1</th>\n",
       "      <th>shop_category_cnt_block_lag_1</th>\n",
       "      <th>dbn_scaled</th>\n",
       "    </tr>\n",
       "  </thead>\n",
       "  <tbody>\n",
       "    <tr>\n",
       "      <th>0</th>\n",
       "      <td>0</td>\n",
       "      <td>5</td>\n",
       "      <td>5037</td>\n",
       "      <td>0.547856</td>\n",
       "      <td>-0.278282</td>\n",
       "      <td>0.380675</td>\n",
       "      <td>0.155360</td>\n",
       "      <td>-0.375477</td>\n",
       "      <td>-0.295035</td>\n",
       "      <td>0.012049</td>\n",
       "      <td>3.526361</td>\n",
       "    </tr>\n",
       "    <tr>\n",
       "      <th>1</th>\n",
       "      <td>1</td>\n",
       "      <td>5</td>\n",
       "      <td>5320</td>\n",
       "      <td>-0.348508</td>\n",
       "      <td>-0.278282</td>\n",
       "      <td>-0.146701</td>\n",
       "      <td>-0.176311</td>\n",
       "      <td>-0.375477</td>\n",
       "      <td>0.968274</td>\n",
       "      <td>0.240304</td>\n",
       "      <td>3.526361</td>\n",
       "    </tr>\n",
       "    <tr>\n",
       "      <th>2</th>\n",
       "      <td>2</td>\n",
       "      <td>5</td>\n",
       "      <td>5233</td>\n",
       "      <td>0.895168</td>\n",
       "      <td>-0.278282</td>\n",
       "      <td>0.380675</td>\n",
       "      <td>0.380896</td>\n",
       "      <td>-0.375477</td>\n",
       "      <td>-0.295035</td>\n",
       "      <td>0.012049</td>\n",
       "      <td>3.526361</td>\n",
       "    </tr>\n",
       "    <tr>\n",
       "      <th>3</th>\n",
       "      <td>3</td>\n",
       "      <td>5</td>\n",
       "      <td>5232</td>\n",
       "      <td>0.636626</td>\n",
       "      <td>-0.324261</td>\n",
       "      <td>0.236785</td>\n",
       "      <td>0.195160</td>\n",
       "      <td>-0.375477</td>\n",
       "      <td>-0.385137</td>\n",
       "      <td>-0.135211</td>\n",
       "      <td>3.526361</td>\n",
       "    </tr>\n",
       "    <tr>\n",
       "      <th>4</th>\n",
       "      <td>4</td>\n",
       "      <td>5</td>\n",
       "      <td>5268</td>\n",
       "      <td>-0.348508</td>\n",
       "      <td>-0.319524</td>\n",
       "      <td>1.959103</td>\n",
       "      <td>-0.176311</td>\n",
       "      <td>-0.375477</td>\n",
       "      <td>1.264110</td>\n",
       "      <td>0.122495</td>\n",
       "      <td>3.526361</td>\n",
       "    </tr>\n",
       "  </tbody>\n",
       "</table>\n",
       "</div>"
      ],
      "text/plain": [
       "   ID  shop_id  item_id  item_id_mean_encoding  shop_id_mean_encoding  item_category_id_mean_encoding  item_cnt_block_lag_1  shop_cnt_block_lag_1  category_cnt_block_lag_1  shop_category_cnt_block_lag_1  dbn_scaled\n",
       "0  0   5        5037     0.547856              -0.278282               0.380675                        0.155360             -0.375477             -0.295035                  0.012049                       3.526361  \n",
       "1  1   5        5320    -0.348508              -0.278282              -0.146701                       -0.176311             -0.375477              0.968274                  0.240304                       3.526361  \n",
       "2  2   5        5233     0.895168              -0.278282               0.380675                        0.380896             -0.375477             -0.295035                  0.012049                       3.526361  \n",
       "3  3   5        5232     0.636626              -0.324261               0.236785                        0.195160             -0.375477             -0.385137                 -0.135211                       3.526361  \n",
       "4  4   5        5268    -0.348508              -0.319524               1.959103                       -0.176311             -0.375477              1.264110                  0.122495                       3.526361  "
      ]
     },
     "execution_count": 45,
     "metadata": {},
     "output_type": "execute_result"
    }
   ],
   "source": [
    "test.head()"
   ]
  },
  {
   "cell_type": "code",
   "execution_count": 38,
   "metadata": {},
   "outputs": [],
   "source": [
    "feats  = [\n",
    "    'item_id_mean_encoding', 'shop_id_mean_encoding', 'item_category_id_mean_encoding',\n",
    "    'item_cnt_block',\n",
    "       'shop_cnt_block', 'category_cnt_block',\n",
    "       'shop_category_cnt_block'\n",
    "    ]"
   ]
  },
  {
   "cell_type": "code",
   "execution_count": 39,
   "metadata": {},
   "outputs": [],
   "source": [
    "cols = ['item_id', 'shop_id']"
   ]
  },
  {
   "cell_type": "code",
   "execution_count": 40,
   "metadata": {},
   "outputs": [],
   "source": [
    "test = test.merge(training[training['date_block_num'] == 33][cols + feats], on=cols, how='left')"
   ]
  },
  {
   "cell_type": "code",
   "execution_count": 42,
   "metadata": {},
   "outputs": [],
   "source": [
    "test.rename(columns={\"item_cnt_block\":\"item_cnt_block_lag_1\", \"shop_cnt_block\":\"shop_cnt_block_lag_1\",\\\n",
    "                     \"category_cnt_block\":\"category_cnt_block_lag_1\", \"shop_category_cnt_block\":\"shop_category_cnt_block_lag_1\"},inplace=True)"
   ]
  },
  {
   "cell_type": "code",
   "execution_count": null,
   "metadata": {},
   "outputs": [],
   "source": [
    "len(test)"
   ]
  },
  {
   "cell_type": "code",
   "execution_count": 44,
   "metadata": {},
   "outputs": [],
   "source": [
    "test['dbn_scaled'] = np.log(34)"
   ]
  },
  {
   "cell_type": "code",
   "execution_count": 46,
   "metadata": {},
   "outputs": [
    {
     "data": {
      "text/plain": [
       "array([0.85794372, 0.        , 1.17073343, ..., 0.        , 0.        ,\n",
       "       0.        ])"
      ]
     },
     "execution_count": 46,
     "metadata": {},
     "output_type": "execute_result"
    }
   ],
   "source": [
    "preds = lr_model.predict(test[features])\n",
    "preds.clip(0,20,out=preds)"
   ]
  },
  {
   "cell_type": "code",
   "execution_count": 3,
   "metadata": {},
   "outputs": [
    {
     "name": "stdout",
     "output_type": "stream",
     "text": [
      "0.264143421233\n",
      "9.45581838102\n"
     ]
    }
   ],
   "source": [
    "\n",
    "print(np.mean(preds))\n",
    "print(np.max(preds))"
   ]
  },
  {
   "cell_type": "code",
   "execution_count": 6,
   "metadata": {},
   "outputs": [],
   "source": [
    "submission = test.loc[:,['ID']]\n",
    "submission['item_cnt_month'] = preds\n",
    "\n",
    "submission.to_csv('submission.csv', index=False)"
   ]
  },
  {
   "cell_type": "code",
   "execution_count": null,
   "metadata": {},
   "outputs": [],
   "source": [
    "bestpreds = pd.read_csv('submissionbest.csv')['item_cnt_month']\n",
    "print(np.mean(bestpreds))\n",
    "print(np.max(bestpreds))"
   ]
  },
  {
   "cell_type": "code",
   "execution_count": 2,
   "metadata": {},
   "outputs": [],
   "source": [
    "lgbm_preds = pd.read_csv('submission.csv')['item_cnt_month']\n",
    "lstm_preds = pd.read_csv('lstm104.csv')['item_cnt_month']\n",
    "#cb_preds = pd.read_csv('cb102.csv')['item_cnt_month']\n",
    "\n",
    "\n",
    "#preds = np.mean(np.array([lr_preds, lg_preds]),axis=0)\n",
    "\n",
    "preds = (lgbm_preds * 0.5) + (lstm_preds * 0.5)"
   ]
  },
  {
   "cell_type": "code",
   "execution_count": null,
   "metadata": {},
   "outputs": [],
   "source": []
  }
 ],
 "metadata": {
  "kernelspec": {
   "display_name": "Python 3",
   "language": "python",
   "name": "python3"
  },
  "language_info": {
   "codemirror_mode": {
    "name": "ipython",
    "version": 3
   },
   "file_extension": ".py",
   "mimetype": "text/x-python",
   "name": "python",
   "nbconvert_exporter": "python",
   "pygments_lexer": "ipython3",
   "version": "3.6.7"
  }
 },
 "nbformat": 4,
 "nbformat_minor": 2
}
