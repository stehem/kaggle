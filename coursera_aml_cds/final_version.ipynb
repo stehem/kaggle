{
 "cells": [
  {
   "cell_type": "code",
   "execution_count": 1,
   "metadata": {},
   "outputs": [
    {
     "data": {
      "text/html": [
       "<style>.container { width:100% !important; }</style>"
      ],
      "text/plain": [
       "<IPython.core.display.HTML object>"
      ]
     },
     "metadata": {},
     "output_type": "display_data"
    }
   ],
   "source": [
    "from IPython.core.display import display, HTML\n",
    "display(HTML(\"<style>.container { width:100% !important; }</style>\"))"
   ]
  },
  {
   "cell_type": "code",
   "execution_count": 2,
   "metadata": {},
   "outputs": [],
   "source": [
    "import pandas as pd\n",
    "import numpy as np\n",
    "import os\n",
    "import matplotlib.pyplot as plt\n",
    "%matplotlib inline \n",
    "from sklearn.ensemble import RandomForestRegressor\n",
    "from sklearn.tree import DecisionTreeRegressor\n",
    "from sklearn.tree import export_graphviz\n",
    "import matplotlib.pyplot as plt\n",
    "import seaborn as sns\n",
    "\n",
    "import lightgbm as lgbm\n",
    "import gc\n",
    "import xgboost as xgb\n",
    "from sklearn.linear_model import ElasticNet, Lasso, Ridge"
   ]
  },
  {
   "cell_type": "code",
   "execution_count": 3,
   "metadata": {},
   "outputs": [],
   "source": [
    "items           = pd.read_csv('items.csv')\n",
    "item_categories = pd.read_csv('item_categories.csv')\n",
    "shops           = pd.read_csv('shops.csv')\n",
    "sales_train     = pd.read_csv('sales_train_v2.csv')\n",
    "test            = pd.read_csv('test.csv')\n",
    "sample_submission            = pd.read_csv('sample_submission.csv')"
   ]
  },
  {
   "cell_type": "code",
   "execution_count": 4,
   "metadata": {},
   "outputs": [],
   "source": [
    "transactions = sales_train.copy()\n",
    "transactions[['day','month', 'year']] = transactions['date'].str.split('.', expand=True).astype(int)\n"
   ]
  },
  {
   "cell_type": "code",
   "execution_count": 5,
   "metadata": {},
   "outputs": [],
   "source": [
    "w_cat_ids = transactions.set_index('item_id').join(items.set_index('item_id'))\n",
    "w_cat_ids = w_cat_ids.reset_index()\n",
    "w_cat_ids['row_id'] = w_cat_ids.index\n",
    "w_cat_ids['y'] = w_cat_ids.groupby(['date_block_num', 'item_id', 'shop_id'])['item_cnt_day'].transform('sum').clip(0,20)\n",
    "w_cat_ids = w_cat_ids.drop_duplicates(['date_block_num', 'item_id', 'shop_id'])\n",
    "w_cat_ids = w_cat_ids[w_cat_ids['year'] != 2013]\n"
   ]
  },
  {
   "cell_type": "code",
   "execution_count": 6,
   "metadata": {},
   "outputs": [],
   "source": [
    "w_cat_ids['item_mean'] = w_cat_ids.groupby(['item_id'])['y'].transform('mean')\n",
    "w_cat_ids['item_mean_month'] = w_cat_ids.groupby(['item_id', 'month'])['y'].transform('mean')\n",
    "w_cat_ids['shop_mean_month'] = w_cat_ids.groupby(['shop_id', 'month'])['y'].transform('mean')\n",
    "w_cat_ids['category_mean_month'] = w_cat_ids.groupby(['item_category_id', 'month'])['y'].transform('mean')\n",
    "w_cat_ids['shop_category_mean_month'] = w_cat_ids.groupby(['shop_id','item_category_id', 'month'])['y'].transform('mean')"
   ]
  },
  {
   "cell_type": "code",
   "execution_count": 7,
   "metadata": {},
   "outputs": [],
   "source": [
    "X = w_cat_ids[(w_cat_ids['year'] == 2015) | ((w_cat_ids['year'] == 2014) & (w_cat_ids['month'].isin([11,12])))]"
   ]
  },
  {
   "cell_type": "code",
   "execution_count": 8,
   "metadata": {},
   "outputs": [],
   "source": [
    "rollings = X[['item_mean_month', 'date_block_num', 'item_id']].copy()\n",
    "rollings = rollings.drop_duplicates(['item_id', 'date_block_num'])\n",
    "rollings = rollings.set_index(['date_block_num', 'item_id'])\n",
    "a = rollings.sort_values(['item_id', 'date_block_num'])\\\n",
    "        .groupby(['item_id'])['item_mean_month'].shift(1)\n",
    "aa = rollings.sort_values(['item_id', 'date_block_num'])\\\n",
    "        .groupby(['item_id'])['item_mean_month'].shift(3)\n",
    "aaa = rollings.sort_values(['item_id', 'date_block_num'])\\\n",
    "        .groupby(['item_id'])['item_mean_month'].shift(6)"
   ]
  },
  {
   "cell_type": "code",
   "execution_count": 9,
   "metadata": {},
   "outputs": [],
   "source": [
    "b = pd.DataFrame(a)\n",
    "b.rename(columns={'item_mean_month': 'item_mean_month_minus_1'}, inplace=True)\n",
    "\n",
    "X = pd.merge(X, b, on=['item_id', 'date_block_num'], how='left')"
   ]
  },
  {
   "cell_type": "code",
   "execution_count": 10,
   "metadata": {},
   "outputs": [],
   "source": [
    "b = pd.DataFrame(aa)\n",
    "b.rename(columns={'item_mean_month': 'item_mean_month_minus_3'}, inplace=True)\n",
    "\n",
    "X = pd.merge(X, b, on=['item_id', 'date_block_num'], how='left')"
   ]
  },
  {
   "cell_type": "code",
   "execution_count": 11,
   "metadata": {},
   "outputs": [],
   "source": [
    "b = pd.DataFrame(aaa)\n",
    "b.rename(columns={'item_mean_month': 'item_mean_month_minus_6'}, inplace=True)\n",
    "\n",
    "X = pd.merge(X, b, on=['item_id', 'date_block_num'], how='left')"
   ]
  },
  {
   "cell_type": "code",
   "execution_count": 12,
   "metadata": {},
   "outputs": [],
   "source": [
    "rollings = X[['shop_mean_month', 'date_block_num', 'shop_id']].copy()\n",
    "rollings = rollings.drop_duplicates(['shop_id', 'date_block_num'])\n",
    "rollings = rollings.set_index(['date_block_num', 'shop_id'])\n",
    "a = rollings.sort_values(['shop_id', 'date_block_num'])\\\n",
    "        .groupby(['shop_id'])['shop_mean_month'].shift(1)\n",
    "aa = rollings.sort_values(['shop_id', 'date_block_num'])\\\n",
    "        .groupby(['shop_id'])['shop_mean_month'].shift(3)\n",
    "aaa = rollings.sort_values(['shop_id', 'date_block_num'])\\\n",
    "        .groupby(['shop_id'])['shop_mean_month'].shift(6)"
   ]
  },
  {
   "cell_type": "code",
   "execution_count": 13,
   "metadata": {},
   "outputs": [],
   "source": [
    "b = pd.DataFrame(a)\n",
    "b.rename(columns={'shop_mean_month': 'shop_mean_month_minus_1'}, inplace=True)\n",
    "\n",
    "X = pd.merge(X, b, on=['shop_id', 'date_block_num'], how='left')"
   ]
  },
  {
   "cell_type": "code",
   "execution_count": 14,
   "metadata": {},
   "outputs": [],
   "source": [
    "b = pd.DataFrame(aa)\n",
    "b.rename(columns={'shop_mean_month': 'shop_mean_month_minus_3'}, inplace=True)\n",
    "\n",
    "X = pd.merge(X, b, on=['shop_id', 'date_block_num'], how='left')"
   ]
  },
  {
   "cell_type": "code",
   "execution_count": 15,
   "metadata": {},
   "outputs": [],
   "source": [
    "b = pd.DataFrame(aaa)\n",
    "b.rename(columns={'shop_mean_month': 'shop_mean_month_minus_6'}, inplace=True)\n",
    "\n",
    "X = pd.merge(X, b, on=['shop_id', 'date_block_num'], how='left')"
   ]
  },
  {
   "cell_type": "code",
   "execution_count": 16,
   "metadata": {},
   "outputs": [],
   "source": [
    "rollings = X[['category_mean_month', 'date_block_num', 'item_category_id']].copy()\n",
    "rollings = rollings.drop_duplicates(['item_category_id', 'date_block_num'])\n",
    "rollings = rollings.set_index(['date_block_num', 'item_category_id'])\n",
    "a = rollings.sort_values(['item_category_id', 'date_block_num'])\\\n",
    "        .groupby(['item_category_id'])['category_mean_month'].shift(1)\n",
    "aa = rollings.sort_values(['item_category_id', 'date_block_num'])\\\n",
    "        .groupby(['item_category_id'])['category_mean_month'].shift(3)\n",
    "aaa = rollings.sort_values(['item_category_id', 'date_block_num'])\\\n",
    "        .groupby(['item_category_id'])['category_mean_month'].shift(6)"
   ]
  },
  {
   "cell_type": "code",
   "execution_count": 17,
   "metadata": {},
   "outputs": [],
   "source": [
    "b = pd.DataFrame(a)\n",
    "b.rename(columns={'category_mean_month': 'category_mean_month_minus_1'}, inplace=True)\n",
    "\n",
    "X = pd.merge(X, b, on=['item_category_id', 'date_block_num'], how='left')"
   ]
  },
  {
   "cell_type": "code",
   "execution_count": 18,
   "metadata": {},
   "outputs": [],
   "source": [
    "b = pd.DataFrame(aa)\n",
    "b.rename(columns={'category_mean_month': 'category_mean_month_minus_3'}, inplace=True)\n",
    "\n",
    "X = pd.merge(X, b, on=['item_category_id', 'date_block_num'], how='left')"
   ]
  },
  {
   "cell_type": "code",
   "execution_count": 19,
   "metadata": {},
   "outputs": [],
   "source": [
    "b = pd.DataFrame(aaa)\n",
    "b.rename(columns={'category_mean_month': 'category_mean_month_minus_6'}, inplace=True)\n",
    "\n",
    "X = pd.merge(X, b, on=['item_category_id', 'date_block_num'], how='left')"
   ]
  },
  {
   "cell_type": "code",
   "execution_count": 20,
   "metadata": {},
   "outputs": [],
   "source": [
    "rollings = X[['shop_category_mean_month', 'date_block_num', 'shop_id', 'item_category_id']].copy()\n",
    "rollings = rollings.drop_duplicates(['item_category_id', 'shop_id', 'date_block_num'])\n",
    "rollings = rollings.set_index(['date_block_num', 'item_category_id', 'shop_id'])\n",
    "a = rollings.sort_values(['item_category_id', 'shop_id', 'date_block_num'])\\\n",
    "        .groupby(['item_category_id', 'shop_id'])['shop_category_mean_month'].shift(1)\n",
    "aa = rollings.sort_values(['item_category_id', 'shop_id', 'date_block_num'])\\\n",
    "        .groupby(['item_category_id', 'shop_id'])['shop_category_mean_month'].shift(3)\n",
    "aaa = rollings.sort_values(['item_category_id', 'shop_id', 'date_block_num'])\\\n",
    "        .groupby(['item_category_id', 'shop_id'])['shop_category_mean_month'].shift(6)"
   ]
  },
  {
   "cell_type": "code",
   "execution_count": 21,
   "metadata": {},
   "outputs": [],
   "source": [
    "b = pd.DataFrame(a)\n",
    "b.rename(columns={'shop_category_mean_month': 'shop_category_mean_month_minus_1'}, inplace=True)\n",
    "\n",
    "X = pd.merge(X, b, on=['item_category_id', 'shop_id', 'date_block_num'], how='left')"
   ]
  },
  {
   "cell_type": "code",
   "execution_count": 22,
   "metadata": {},
   "outputs": [],
   "source": [
    "b = pd.DataFrame(aa)\n",
    "b.rename(columns={'shop_category_mean_month': 'shop_category_mean_month_minus_3'}, inplace=True)\n",
    "\n",
    "X = pd.merge(X, b, on=['item_category_id', 'shop_id', 'date_block_num'], how='left')"
   ]
  },
  {
   "cell_type": "code",
   "execution_count": 23,
   "metadata": {},
   "outputs": [],
   "source": [
    "b = pd.DataFrame(aaa)\n",
    "b.rename(columns={'shop_category_mean_month': 'shop_category_mean_month_minus_6'}, inplace=True)\n",
    "\n",
    "X = pd.merge(X, b, on=['item_category_id', 'shop_id', 'date_block_num'], how='left')"
   ]
  },
  {
   "cell_type": "code",
   "execution_count": 24,
   "metadata": {},
   "outputs": [
    {
     "data": {
      "text/html": [
       "<div>\n",
       "<style scoped>\n",
       "    .dataframe tbody tr th:only-of-type {\n",
       "        vertical-align: middle;\n",
       "    }\n",
       "\n",
       "    .dataframe tbody tr th {\n",
       "        vertical-align: top;\n",
       "    }\n",
       "\n",
       "    .dataframe thead th {\n",
       "        text-align: right;\n",
       "    }\n",
       "</style>\n",
       "<table border=\"1\" class=\"dataframe\">\n",
       "  <thead>\n",
       "    <tr style=\"text-align: right;\">\n",
       "      <th></th>\n",
       "      <th>item_id</th>\n",
       "      <th>month</th>\n",
       "      <th>year</th>\n",
       "      <th>item_mean_month</th>\n",
       "      <th>item_mean_month_minus_1</th>\n",
       "      <th>item_mean_month_minus_3</th>\n",
       "      <th>item_mean_month_minus_6</th>\n",
       "    </tr>\n",
       "  </thead>\n",
       "  <tbody>\n",
       "    <tr>\n",
       "      <th>10</th>\n",
       "      <td>30</td>\n",
       "      <td>11</td>\n",
       "      <td>2014</td>\n",
       "      <td>1.300000</td>\n",
       "      <td>NaN</td>\n",
       "      <td>NaN</td>\n",
       "      <td>NaN</td>\n",
       "    </tr>\n",
       "    <tr>\n",
       "      <th>20</th>\n",
       "      <td>30</td>\n",
       "      <td>12</td>\n",
       "      <td>2014</td>\n",
       "      <td>1.600000</td>\n",
       "      <td>1.300000</td>\n",
       "      <td>NaN</td>\n",
       "      <td>NaN</td>\n",
       "    </tr>\n",
       "    <tr>\n",
       "      <th>30</th>\n",
       "      <td>30</td>\n",
       "      <td>1</td>\n",
       "      <td>2015</td>\n",
       "      <td>1.894737</td>\n",
       "      <td>1.600000</td>\n",
       "      <td>NaN</td>\n",
       "      <td>NaN</td>\n",
       "    </tr>\n",
       "    <tr>\n",
       "      <th>41</th>\n",
       "      <td>30</td>\n",
       "      <td>2</td>\n",
       "      <td>2015</td>\n",
       "      <td>1.266667</td>\n",
       "      <td>1.894737</td>\n",
       "      <td>1.300000</td>\n",
       "      <td>NaN</td>\n",
       "    </tr>\n",
       "    <tr>\n",
       "      <th>53</th>\n",
       "      <td>30</td>\n",
       "      <td>3</td>\n",
       "      <td>2015</td>\n",
       "      <td>1.714286</td>\n",
       "      <td>1.266667</td>\n",
       "      <td>1.600000</td>\n",
       "      <td>NaN</td>\n",
       "    </tr>\n",
       "    <tr>\n",
       "      <th>58</th>\n",
       "      <td>30</td>\n",
       "      <td>4</td>\n",
       "      <td>2015</td>\n",
       "      <td>1.388889</td>\n",
       "      <td>1.714286</td>\n",
       "      <td>1.894737</td>\n",
       "      <td>NaN</td>\n",
       "    </tr>\n",
       "    <tr>\n",
       "      <th>62</th>\n",
       "      <td>30</td>\n",
       "      <td>5</td>\n",
       "      <td>2015</td>\n",
       "      <td>1.235294</td>\n",
       "      <td>1.388889</td>\n",
       "      <td>1.266667</td>\n",
       "      <td>1.300000</td>\n",
       "    </tr>\n",
       "    <tr>\n",
       "      <th>66</th>\n",
       "      <td>30</td>\n",
       "      <td>6</td>\n",
       "      <td>2015</td>\n",
       "      <td>1.133333</td>\n",
       "      <td>1.235294</td>\n",
       "      <td>1.714286</td>\n",
       "      <td>1.600000</td>\n",
       "    </tr>\n",
       "    <tr>\n",
       "      <th>70</th>\n",
       "      <td>30</td>\n",
       "      <td>7</td>\n",
       "      <td>2015</td>\n",
       "      <td>1.214286</td>\n",
       "      <td>1.133333</td>\n",
       "      <td>1.388889</td>\n",
       "      <td>1.894737</td>\n",
       "    </tr>\n",
       "    <tr>\n",
       "      <th>73</th>\n",
       "      <td>30</td>\n",
       "      <td>8</td>\n",
       "      <td>2015</td>\n",
       "      <td>1.285714</td>\n",
       "      <td>1.214286</td>\n",
       "      <td>1.235294</td>\n",
       "      <td>1.266667</td>\n",
       "    </tr>\n",
       "    <tr>\n",
       "      <th>79</th>\n",
       "      <td>30</td>\n",
       "      <td>9</td>\n",
       "      <td>2015</td>\n",
       "      <td>1.166667</td>\n",
       "      <td>1.285714</td>\n",
       "      <td>1.133333</td>\n",
       "      <td>1.714286</td>\n",
       "    </tr>\n",
       "    <tr>\n",
       "      <th>82</th>\n",
       "      <td>30</td>\n",
       "      <td>10</td>\n",
       "      <td>2015</td>\n",
       "      <td>1.555556</td>\n",
       "      <td>1.166667</td>\n",
       "      <td>1.214286</td>\n",
       "      <td>1.388889</td>\n",
       "    </tr>\n",
       "  </tbody>\n",
       "</table>\n",
       "</div>"
      ],
      "text/plain": [
       "    item_id  month  year  item_mean_month  item_mean_month_minus_1  \\\n",
       "10       30     11  2014         1.300000                      NaN   \n",
       "20       30     12  2014         1.600000                 1.300000   \n",
       "30       30      1  2015         1.894737                 1.600000   \n",
       "41       30      2  2015         1.266667                 1.894737   \n",
       "53       30      3  2015         1.714286                 1.266667   \n",
       "58       30      4  2015         1.388889                 1.714286   \n",
       "62       30      5  2015         1.235294                 1.388889   \n",
       "66       30      6  2015         1.133333                 1.235294   \n",
       "70       30      7  2015         1.214286                 1.133333   \n",
       "73       30      8  2015         1.285714                 1.214286   \n",
       "79       30      9  2015         1.166667                 1.285714   \n",
       "82       30     10  2015         1.555556                 1.166667   \n",
       "\n",
       "    item_mean_month_minus_3  item_mean_month_minus_6  \n",
       "10                      NaN                      NaN  \n",
       "20                      NaN                      NaN  \n",
       "30                      NaN                      NaN  \n",
       "41                 1.300000                      NaN  \n",
       "53                 1.600000                      NaN  \n",
       "58                 1.894737                      NaN  \n",
       "62                 1.266667                 1.300000  \n",
       "66                 1.714286                 1.600000  \n",
       "70                 1.388889                 1.894737  \n",
       "73                 1.235294                 1.266667  \n",
       "79                 1.133333                 1.714286  \n",
       "82                 1.214286                 1.388889  "
      ]
     },
     "execution_count": 24,
     "metadata": {},
     "output_type": "execute_result"
    }
   ],
   "source": [
    "X[X['item_id'] == 30].drop_duplicates(['item_id', 'date_block_num'])[['item_id', 'month', 'year', 'item_mean_month', 'item_mean_month_minus_1', 'item_mean_month_minus_3', 'item_mean_month_minus_6']]"
   ]
  },
  {
   "cell_type": "code",
   "execution_count": 25,
   "metadata": {},
   "outputs": [
    {
     "data": {
      "text/html": [
       "<div>\n",
       "<style scoped>\n",
       "    .dataframe tbody tr th:only-of-type {\n",
       "        vertical-align: middle;\n",
       "    }\n",
       "\n",
       "    .dataframe tbody tr th {\n",
       "        vertical-align: top;\n",
       "    }\n",
       "\n",
       "    .dataframe thead th {\n",
       "        text-align: right;\n",
       "    }\n",
       "</style>\n",
       "<table border=\"1\" class=\"dataframe\">\n",
       "  <thead>\n",
       "    <tr style=\"text-align: right;\">\n",
       "      <th></th>\n",
       "      <th>shop_id</th>\n",
       "      <th>month</th>\n",
       "      <th>year</th>\n",
       "      <th>shop_mean_month</th>\n",
       "      <th>shop_mean_month_minus_1</th>\n",
       "      <th>shop_mean_month_minus_3</th>\n",
       "      <th>shop_mean_month_minus_6</th>\n",
       "    </tr>\n",
       "  </thead>\n",
       "  <tbody>\n",
       "    <tr>\n",
       "      <th>11</th>\n",
       "      <td>30</td>\n",
       "      <td>11</td>\n",
       "      <td>2014</td>\n",
       "      <td>1.873958</td>\n",
       "      <td>NaN</td>\n",
       "      <td>NaN</td>\n",
       "      <td>NaN</td>\n",
       "    </tr>\n",
       "    <tr>\n",
       "      <th>35</th>\n",
       "      <td>30</td>\n",
       "      <td>1</td>\n",
       "      <td>2015</td>\n",
       "      <td>1.736099</td>\n",
       "      <td>2.118103</td>\n",
       "      <td>NaN</td>\n",
       "      <td>NaN</td>\n",
       "    </tr>\n",
       "    <tr>\n",
       "      <th>130</th>\n",
       "      <td>30</td>\n",
       "      <td>2</td>\n",
       "      <td>2015</td>\n",
       "      <td>1.670232</td>\n",
       "      <td>1.736099</td>\n",
       "      <td>1.873958</td>\n",
       "      <td>NaN</td>\n",
       "    </tr>\n",
       "    <tr>\n",
       "      <th>245</th>\n",
       "      <td>30</td>\n",
       "      <td>12</td>\n",
       "      <td>2014</td>\n",
       "      <td>2.118103</td>\n",
       "      <td>1.873958</td>\n",
       "      <td>NaN</td>\n",
       "      <td>NaN</td>\n",
       "    </tr>\n",
       "  </tbody>\n",
       "</table>\n",
       "</div>"
      ],
      "text/plain": [
       "     shop_id  month  year  shop_mean_month  shop_mean_month_minus_1  \\\n",
       "11        30     11  2014         1.873958                      NaN   \n",
       "35        30      1  2015         1.736099                 2.118103   \n",
       "130       30      2  2015         1.670232                 1.736099   \n",
       "245       30     12  2014         2.118103                 1.873958   \n",
       "\n",
       "     shop_mean_month_minus_3  shop_mean_month_minus_6  \n",
       "11                       NaN                      NaN  \n",
       "35                       NaN                      NaN  \n",
       "130                 1.873958                      NaN  \n",
       "245                      NaN                      NaN  "
      ]
     },
     "execution_count": 25,
     "metadata": {},
     "output_type": "execute_result"
    }
   ],
   "source": [
    "X[X['shop_id'] == 30].drop_duplicates(['shop_id', 'date_block_num'])[['shop_id', 'month', 'year', 'shop_mean_month', 'shop_mean_month_minus_1', 'shop_mean_month_minus_3', 'shop_mean_month_minus_6']]"
   ]
  },
  {
   "cell_type": "code",
   "execution_count": 26,
   "metadata": {},
   "outputs": [
    {
     "data": {
      "text/html": [
       "<div>\n",
       "<style scoped>\n",
       "    .dataframe tbody tr th:only-of-type {\n",
       "        vertical-align: middle;\n",
       "    }\n",
       "\n",
       "    .dataframe tbody tr th {\n",
       "        vertical-align: top;\n",
       "    }\n",
       "\n",
       "    .dataframe thead th {\n",
       "        text-align: right;\n",
       "    }\n",
       "</style>\n",
       "<table border=\"1\" class=\"dataframe\">\n",
       "  <thead>\n",
       "    <tr style=\"text-align: right;\">\n",
       "      <th></th>\n",
       "      <th>item_category_id</th>\n",
       "      <th>month</th>\n",
       "      <th>year</th>\n",
       "      <th>category_mean_month</th>\n",
       "      <th>category_mean_month_minus_1</th>\n",
       "    </tr>\n",
       "  </thead>\n",
       "  <tbody>\n",
       "    <tr>\n",
       "      <th>3762</th>\n",
       "      <td>30</td>\n",
       "      <td>10</td>\n",
       "      <td>2015</td>\n",
       "      <td>3.070205</td>\n",
       "      <td>2.746511</td>\n",
       "    </tr>\n",
       "    <tr>\n",
       "      <th>11027</th>\n",
       "      <td>30</td>\n",
       "      <td>1</td>\n",
       "      <td>2015</td>\n",
       "      <td>3.009862</td>\n",
       "      <td>3.101948</td>\n",
       "    </tr>\n",
       "    <tr>\n",
       "      <th>11028</th>\n",
       "      <td>30</td>\n",
       "      <td>7</td>\n",
       "      <td>2015</td>\n",
       "      <td>2.670056</td>\n",
       "      <td>2.788012</td>\n",
       "    </tr>\n",
       "    <tr>\n",
       "      <th>12837</th>\n",
       "      <td>30</td>\n",
       "      <td>11</td>\n",
       "      <td>2014</td>\n",
       "      <td>2.843284</td>\n",
       "      <td>NaN</td>\n",
       "    </tr>\n",
       "    <tr>\n",
       "      <th>12854</th>\n",
       "      <td>30</td>\n",
       "      <td>12</td>\n",
       "      <td>2014</td>\n",
       "      <td>3.101948</td>\n",
       "      <td>2.843284</td>\n",
       "    </tr>\n",
       "    <tr>\n",
       "      <th>12897</th>\n",
       "      <td>30</td>\n",
       "      <td>2</td>\n",
       "      <td>2015</td>\n",
       "      <td>2.905608</td>\n",
       "      <td>3.009862</td>\n",
       "    </tr>\n",
       "    <tr>\n",
       "      <th>12904</th>\n",
       "      <td>30</td>\n",
       "      <td>3</td>\n",
       "      <td>2015</td>\n",
       "      <td>2.889822</td>\n",
       "      <td>2.905608</td>\n",
       "    </tr>\n",
       "    <tr>\n",
       "      <th>12913</th>\n",
       "      <td>30</td>\n",
       "      <td>4</td>\n",
       "      <td>2015</td>\n",
       "      <td>2.892322</td>\n",
       "      <td>2.889822</td>\n",
       "    </tr>\n",
       "    <tr>\n",
       "      <th>12925</th>\n",
       "      <td>30</td>\n",
       "      <td>5</td>\n",
       "      <td>2015</td>\n",
       "      <td>2.702312</td>\n",
       "      <td>2.892322</td>\n",
       "    </tr>\n",
       "    <tr>\n",
       "      <th>12933</th>\n",
       "      <td>30</td>\n",
       "      <td>6</td>\n",
       "      <td>2015</td>\n",
       "      <td>2.788012</td>\n",
       "      <td>2.702312</td>\n",
       "    </tr>\n",
       "    <tr>\n",
       "      <th>12945</th>\n",
       "      <td>30</td>\n",
       "      <td>8</td>\n",
       "      <td>2015</td>\n",
       "      <td>2.927029</td>\n",
       "      <td>2.670056</td>\n",
       "    </tr>\n",
       "    <tr>\n",
       "      <th>12949</th>\n",
       "      <td>30</td>\n",
       "      <td>9</td>\n",
       "      <td>2015</td>\n",
       "      <td>2.746511</td>\n",
       "      <td>2.927029</td>\n",
       "    </tr>\n",
       "  </tbody>\n",
       "</table>\n",
       "</div>"
      ],
      "text/plain": [
       "       item_category_id  month  year  category_mean_month  \\\n",
       "3762                 30     10  2015             3.070205   \n",
       "11027                30      1  2015             3.009862   \n",
       "11028                30      7  2015             2.670056   \n",
       "12837                30     11  2014             2.843284   \n",
       "12854                30     12  2014             3.101948   \n",
       "12897                30      2  2015             2.905608   \n",
       "12904                30      3  2015             2.889822   \n",
       "12913                30      4  2015             2.892322   \n",
       "12925                30      5  2015             2.702312   \n",
       "12933                30      6  2015             2.788012   \n",
       "12945                30      8  2015             2.927029   \n",
       "12949                30      9  2015             2.746511   \n",
       "\n",
       "       category_mean_month_minus_1  \n",
       "3762                      2.746511  \n",
       "11027                     3.101948  \n",
       "11028                     2.788012  \n",
       "12837                          NaN  \n",
       "12854                     2.843284  \n",
       "12897                     3.009862  \n",
       "12904                     2.905608  \n",
       "12913                     2.889822  \n",
       "12925                     2.892322  \n",
       "12933                     2.702312  \n",
       "12945                     2.670056  \n",
       "12949                     2.927029  "
      ]
     },
     "execution_count": 26,
     "metadata": {},
     "output_type": "execute_result"
    }
   ],
   "source": [
    "X[X['item_category_id'] == 30].drop_duplicates(['item_category_id', 'date_block_num'])[['item_category_id', 'month', 'year', 'category_mean_month', 'category_mean_month_minus_1']]"
   ]
  },
  {
   "cell_type": "code",
   "execution_count": 27,
   "metadata": {},
   "outputs": [
    {
     "data": {
      "text/html": [
       "<div>\n",
       "<style scoped>\n",
       "    .dataframe tbody tr th:only-of-type {\n",
       "        vertical-align: middle;\n",
       "    }\n",
       "\n",
       "    .dataframe tbody tr th {\n",
       "        vertical-align: top;\n",
       "    }\n",
       "\n",
       "    .dataframe thead th {\n",
       "        text-align: right;\n",
       "    }\n",
       "</style>\n",
       "<table border=\"1\" class=\"dataframe\">\n",
       "  <thead>\n",
       "    <tr style=\"text-align: right;\">\n",
       "      <th></th>\n",
       "      <th>item_category_id</th>\n",
       "      <th>shop_id</th>\n",
       "      <th>month</th>\n",
       "      <th>year</th>\n",
       "      <th>shop_category_mean_month</th>\n",
       "      <th>shop_category_mean_month_minus_1</th>\n",
       "    </tr>\n",
       "  </thead>\n",
       "  <tbody>\n",
       "    <tr>\n",
       "      <th>16939</th>\n",
       "      <td>30</td>\n",
       "      <td>30</td>\n",
       "      <td>11</td>\n",
       "      <td>2014</td>\n",
       "      <td>1.864198</td>\n",
       "      <td>NaN</td>\n",
       "    </tr>\n",
       "    <tr>\n",
       "      <th>16992</th>\n",
       "      <td>30</td>\n",
       "      <td>30</td>\n",
       "      <td>12</td>\n",
       "      <td>2014</td>\n",
       "      <td>2.421687</td>\n",
       "      <td>1.864198</td>\n",
       "    </tr>\n",
       "    <tr>\n",
       "      <th>17043</th>\n",
       "      <td>30</td>\n",
       "      <td>30</td>\n",
       "      <td>1</td>\n",
       "      <td>2015</td>\n",
       "      <td>2.597633</td>\n",
       "      <td>2.421687</td>\n",
       "    </tr>\n",
       "    <tr>\n",
       "      <th>17087</th>\n",
       "      <td>30</td>\n",
       "      <td>30</td>\n",
       "      <td>2</td>\n",
       "      <td>2015</td>\n",
       "      <td>2.488550</td>\n",
       "      <td>2.597633</td>\n",
       "    </tr>\n",
       "  </tbody>\n",
       "</table>\n",
       "</div>"
      ],
      "text/plain": [
       "       item_category_id  shop_id  month  year  shop_category_mean_month  \\\n",
       "16939                30       30     11  2014                  1.864198   \n",
       "16992                30       30     12  2014                  2.421687   \n",
       "17043                30       30      1  2015                  2.597633   \n",
       "17087                30       30      2  2015                  2.488550   \n",
       "\n",
       "       shop_category_mean_month_minus_1  \n",
       "16939                               NaN  \n",
       "16992                          1.864198  \n",
       "17043                          2.421687  \n",
       "17087                          2.597633  "
      ]
     },
     "execution_count": 27,
     "metadata": {},
     "output_type": "execute_result"
    }
   ],
   "source": [
    "X[(X['item_category_id'] == 30) & (X['shop_id'] == 30)].drop_duplicates(['item_category_id', 'shop_id', 'date_block_num'])[['item_category_id', 'shop_id' ,  'month', 'year', 'shop_category_mean_month', 'shop_category_mean_month_minus_1']]"
   ]
  },
  {
   "cell_type": "code",
   "execution_count": 28,
   "metadata": {},
   "outputs": [
    {
     "data": {
      "text/plain": [
       "Index(['item_id', 'date', 'date_block_num', 'shop_id', 'item_price',\n",
       "       'item_cnt_day', 'day', 'month', 'year', 'item_name', 'item_category_id',\n",
       "       'row_id', 'y', 'item_mean', 'item_mean_month', 'shop_mean_month',\n",
       "       'category_mean_month', 'shop_category_mean_month',\n",
       "       'item_mean_month_minus_1', 'item_mean_month_minus_3',\n",
       "       'item_mean_month_minus_6', 'shop_mean_month_minus_1',\n",
       "       'shop_mean_month_minus_3', 'shop_mean_month_minus_6',\n",
       "       'category_mean_month_minus_1', 'category_mean_month_minus_3',\n",
       "       'category_mean_month_minus_6', 'shop_category_mean_month_minus_1',\n",
       "       'shop_category_mean_month_minus_3', 'shop_category_mean_month_minus_6'],\n",
       "      dtype='object')"
      ]
     },
     "execution_count": 28,
     "metadata": {},
     "output_type": "execute_result"
    }
   ],
   "source": [
    "X.columns"
   ]
  },
  {
   "cell_type": "code",
   "execution_count": 29,
   "metadata": {},
   "outputs": [
    {
     "data": {
      "text/html": [
       "<div>\n",
       "<style scoped>\n",
       "    .dataframe tbody tr th:only-of-type {\n",
       "        vertical-align: middle;\n",
       "    }\n",
       "\n",
       "    .dataframe tbody tr th {\n",
       "        vertical-align: top;\n",
       "    }\n",
       "\n",
       "    .dataframe thead th {\n",
       "        text-align: right;\n",
       "    }\n",
       "</style>\n",
       "<table border=\"1\" class=\"dataframe\">\n",
       "  <thead>\n",
       "    <tr style=\"text-align: right;\">\n",
       "      <th></th>\n",
       "      <th>column_name</th>\n",
       "      <th>percent_missing</th>\n",
       "    </tr>\n",
       "  </thead>\n",
       "  <tbody>\n",
       "    <tr>\n",
       "      <th>item_id</th>\n",
       "      <td>item_id</td>\n",
       "      <td>0.000000</td>\n",
       "    </tr>\n",
       "    <tr>\n",
       "      <th>date</th>\n",
       "      <td>date</td>\n",
       "      <td>0.000000</td>\n",
       "    </tr>\n",
       "    <tr>\n",
       "      <th>date_block_num</th>\n",
       "      <td>date_block_num</td>\n",
       "      <td>0.000000</td>\n",
       "    </tr>\n",
       "    <tr>\n",
       "      <th>shop_id</th>\n",
       "      <td>shop_id</td>\n",
       "      <td>0.000000</td>\n",
       "    </tr>\n",
       "    <tr>\n",
       "      <th>item_price</th>\n",
       "      <td>item_price</td>\n",
       "      <td>0.000000</td>\n",
       "    </tr>\n",
       "    <tr>\n",
       "      <th>item_cnt_day</th>\n",
       "      <td>item_cnt_day</td>\n",
       "      <td>0.000000</td>\n",
       "    </tr>\n",
       "    <tr>\n",
       "      <th>day</th>\n",
       "      <td>day</td>\n",
       "      <td>0.000000</td>\n",
       "    </tr>\n",
       "    <tr>\n",
       "      <th>month</th>\n",
       "      <td>month</td>\n",
       "      <td>0.000000</td>\n",
       "    </tr>\n",
       "    <tr>\n",
       "      <th>year</th>\n",
       "      <td>year</td>\n",
       "      <td>0.000000</td>\n",
       "    </tr>\n",
       "    <tr>\n",
       "      <th>item_name</th>\n",
       "      <td>item_name</td>\n",
       "      <td>0.000000</td>\n",
       "    </tr>\n",
       "    <tr>\n",
       "      <th>item_category_id</th>\n",
       "      <td>item_category_id</td>\n",
       "      <td>0.000000</td>\n",
       "    </tr>\n",
       "    <tr>\n",
       "      <th>row_id</th>\n",
       "      <td>row_id</td>\n",
       "      <td>0.000000</td>\n",
       "    </tr>\n",
       "    <tr>\n",
       "      <th>y</th>\n",
       "      <td>y</td>\n",
       "      <td>0.000000</td>\n",
       "    </tr>\n",
       "    <tr>\n",
       "      <th>item_mean</th>\n",
       "      <td>item_mean</td>\n",
       "      <td>0.000000</td>\n",
       "    </tr>\n",
       "    <tr>\n",
       "      <th>item_mean_month</th>\n",
       "      <td>item_mean_month</td>\n",
       "      <td>0.000000</td>\n",
       "    </tr>\n",
       "    <tr>\n",
       "      <th>shop_mean_month</th>\n",
       "      <td>shop_mean_month</td>\n",
       "      <td>0.000000</td>\n",
       "    </tr>\n",
       "    <tr>\n",
       "      <th>category_mean_month</th>\n",
       "      <td>category_mean_month</td>\n",
       "      <td>0.000000</td>\n",
       "    </tr>\n",
       "    <tr>\n",
       "      <th>shop_category_mean_month</th>\n",
       "      <td>shop_category_mean_month</td>\n",
       "      <td>0.000000</td>\n",
       "    </tr>\n",
       "    <tr>\n",
       "      <th>item_mean_month_minus_1</th>\n",
       "      <td>item_mean_month_minus_1</td>\n",
       "      <td>16.482997</td>\n",
       "    </tr>\n",
       "    <tr>\n",
       "      <th>item_mean_month_minus_3</th>\n",
       "      <td>item_mean_month_minus_3</td>\n",
       "      <td>47.173257</td>\n",
       "    </tr>\n",
       "    <tr>\n",
       "      <th>item_mean_month_minus_6</th>\n",
       "      <td>item_mean_month_minus_6</td>\n",
       "      <td>73.289604</td>\n",
       "    </tr>\n",
       "    <tr>\n",
       "      <th>shop_mean_month_minus_1</th>\n",
       "      <td>shop_mean_month_minus_1</td>\n",
       "      <td>10.192532</td>\n",
       "    </tr>\n",
       "    <tr>\n",
       "      <th>shop_mean_month_minus_3</th>\n",
       "      <td>shop_mean_month_minus_3</td>\n",
       "      <td>33.387886</td>\n",
       "    </tr>\n",
       "    <tr>\n",
       "      <th>shop_mean_month_minus_6</th>\n",
       "      <td>shop_mean_month_minus_6</td>\n",
       "      <td>58.368872</td>\n",
       "    </tr>\n",
       "    <tr>\n",
       "      <th>category_mean_month_minus_1</th>\n",
       "      <td>category_mean_month_minus_1</td>\n",
       "      <td>9.985726</td>\n",
       "    </tr>\n",
       "    <tr>\n",
       "      <th>category_mean_month_minus_3</th>\n",
       "      <td>category_mean_month_minus_3</td>\n",
       "      <td>33.193720</td>\n",
       "    </tr>\n",
       "    <tr>\n",
       "      <th>category_mean_month_minus_6</th>\n",
       "      <td>category_mean_month_minus_6</td>\n",
       "      <td>58.564782</td>\n",
       "    </tr>\n",
       "    <tr>\n",
       "      <th>shop_category_mean_month_minus_1</th>\n",
       "      <td>shop_category_mean_month_minus_1</td>\n",
       "      <td>10.474738</td>\n",
       "    </tr>\n",
       "    <tr>\n",
       "      <th>shop_category_mean_month_minus_3</th>\n",
       "      <td>shop_category_mean_month_minus_3</td>\n",
       "      <td>33.829827</td>\n",
       "    </tr>\n",
       "    <tr>\n",
       "      <th>shop_category_mean_month_minus_6</th>\n",
       "      <td>shop_category_mean_month_minus_6</td>\n",
       "      <td>59.388082</td>\n",
       "    </tr>\n",
       "  </tbody>\n",
       "</table>\n",
       "</div>"
      ],
      "text/plain": [
       "                                                       column_name  \\\n",
       "item_id                                                    item_id   \n",
       "date                                                          date   \n",
       "date_block_num                                      date_block_num   \n",
       "shop_id                                                    shop_id   \n",
       "item_price                                              item_price   \n",
       "item_cnt_day                                          item_cnt_day   \n",
       "day                                                            day   \n",
       "month                                                        month   \n",
       "year                                                          year   \n",
       "item_name                                                item_name   \n",
       "item_category_id                                  item_category_id   \n",
       "row_id                                                      row_id   \n",
       "y                                                                y   \n",
       "item_mean                                                item_mean   \n",
       "item_mean_month                                    item_mean_month   \n",
       "shop_mean_month                                    shop_mean_month   \n",
       "category_mean_month                            category_mean_month   \n",
       "shop_category_mean_month                  shop_category_mean_month   \n",
       "item_mean_month_minus_1                    item_mean_month_minus_1   \n",
       "item_mean_month_minus_3                    item_mean_month_minus_3   \n",
       "item_mean_month_minus_6                    item_mean_month_minus_6   \n",
       "shop_mean_month_minus_1                    shop_mean_month_minus_1   \n",
       "shop_mean_month_minus_3                    shop_mean_month_minus_3   \n",
       "shop_mean_month_minus_6                    shop_mean_month_minus_6   \n",
       "category_mean_month_minus_1            category_mean_month_minus_1   \n",
       "category_mean_month_minus_3            category_mean_month_minus_3   \n",
       "category_mean_month_minus_6            category_mean_month_minus_6   \n",
       "shop_category_mean_month_minus_1  shop_category_mean_month_minus_1   \n",
       "shop_category_mean_month_minus_3  shop_category_mean_month_minus_3   \n",
       "shop_category_mean_month_minus_6  shop_category_mean_month_minus_6   \n",
       "\n",
       "                                  percent_missing  \n",
       "item_id                                  0.000000  \n",
       "date                                     0.000000  \n",
       "date_block_num                           0.000000  \n",
       "shop_id                                  0.000000  \n",
       "item_price                               0.000000  \n",
       "item_cnt_day                             0.000000  \n",
       "day                                      0.000000  \n",
       "month                                    0.000000  \n",
       "year                                     0.000000  \n",
       "item_name                                0.000000  \n",
       "item_category_id                         0.000000  \n",
       "row_id                                   0.000000  \n",
       "y                                        0.000000  \n",
       "item_mean                                0.000000  \n",
       "item_mean_month                          0.000000  \n",
       "shop_mean_month                          0.000000  \n",
       "category_mean_month                      0.000000  \n",
       "shop_category_mean_month                 0.000000  \n",
       "item_mean_month_minus_1                 16.482997  \n",
       "item_mean_month_minus_3                 47.173257  \n",
       "item_mean_month_minus_6                 73.289604  \n",
       "shop_mean_month_minus_1                 10.192532  \n",
       "shop_mean_month_minus_3                 33.387886  \n",
       "shop_mean_month_minus_6                 58.368872  \n",
       "category_mean_month_minus_1              9.985726  \n",
       "category_mean_month_minus_3             33.193720  \n",
       "category_mean_month_minus_6             58.564782  \n",
       "shop_category_mean_month_minus_1        10.474738  \n",
       "shop_category_mean_month_minus_3        33.829827  \n",
       "shop_category_mean_month_minus_6        59.388082  "
      ]
     },
     "execution_count": 29,
     "metadata": {},
     "output_type": "execute_result"
    }
   ],
   "source": [
    "columns = X.columns\n",
    "percent_missing = X.isna().sum() * 100 / len(X)\n",
    "pd.DataFrame({'column_name': columns,\n",
    "                                 'percent_missing': percent_missing})"
   ]
  },
  {
   "cell_type": "code",
   "execution_count": 30,
   "metadata": {},
   "outputs": [],
   "source": [
    "test_w_cat_ids = test.set_index('item_id').join(items.set_index('item_id'))\n",
    "test_w_cat_ids['item_id'] = test_w_cat_ids.index"
   ]
  },
  {
   "cell_type": "code",
   "execution_count": 31,
   "metadata": {},
   "outputs": [],
   "source": [
    "#features = ['item_id', 'date_block_num', 'shop_id', #'item_price',\n",
    "lgbm_features = ['item_id', 'shop_id',  'month', 'item_category_id',\n",
    "       'item_mean', 'item_mean_month', 'shop_mean_month',\n",
    "       'category_mean_month', 'shop_category_mean_month',\n",
    "       'item_mean_month_minus_1', 'item_mean_month_minus_3',\n",
    "       'item_mean_month_minus_6', 'shop_mean_month_minus_1',\n",
    "       'shop_mean_month_minus_3', 'shop_mean_month_minus_6',\n",
    "       'category_mean_month_minus_1', 'category_mean_month_minus_3',\n",
    "       'category_mean_month_minus_6', 'shop_category_mean_month_minus_1',\n",
    "       'shop_category_mean_month_minus_3', 'shop_category_mean_month_minus_6']\n",
    "    \n",
    "lr_features = [\n",
    "       'item_mean', 'item_mean_month', 'shop_mean_month',\n",
    "       'category_mean_month', 'shop_category_mean_month',\n",
    "       'item_mean_month_minus_1', \n",
    "       'shop_mean_month_minus_1',\n",
    "       'category_mean_month_minus_1',\n",
    "       'shop_category_mean_month_minus_1',]\n"
   ]
  },
  {
   "cell_type": "code",
   "execution_count": 32,
   "metadata": {},
   "outputs": [],
   "source": [
    "val_indices = X[(X['year'] == 2015) & (X['month'].isin([9,10]))].index"
   ]
  },
  {
   "cell_type": "code",
   "execution_count": 33,
   "metadata": {},
   "outputs": [],
   "source": [
    "x = X\n",
    "y = X['y']\n",
    "\n",
    "\n",
    "x_train = x[~x.index.isin(val_indices)]\n",
    "y_train = y[~y.index.isin(val_indices)]\n",
    "\n",
    "x_val = x[x.index.isin(val_indices)]\n",
    "y_val = y[y.index.isin(val_indices)]"
   ]
  },
  {
   "cell_type": "code",
   "execution_count": 34,
   "metadata": {},
   "outputs": [
    {
     "name": "stderr",
     "output_type": "stream",
     "text": [
      "/opt/conda/lib/python3.6/site-packages/lightgbm/basic.py:1186: UserWarning: Using categorical_feature in Dataset.\n",
      "  warnings.warn('Using categorical_feature in Dataset.')\n",
      "/opt/conda/lib/python3.6/site-packages/lightgbm/basic.py:752: UserWarning: categorical_feature in param dict is overridden.\n",
      "  warnings.warn('categorical_feature in param dict is overridden.')\n"
     ]
    },
    {
     "name": "stdout",
     "output_type": "stream",
     "text": [
      "Training until validation scores don't improve for 100 rounds.\n",
      "[500]\tvalid_0's rmse: 1.81865\n",
      "[1000]\tvalid_0's rmse: 1.73614\n",
      "[1500]\tvalid_0's rmse: 1.69838\n",
      "[2000]\tvalid_0's rmse: 1.67381\n",
      "[2500]\tvalid_0's rmse: 1.65572\n",
      "[3000]\tvalid_0's rmse: 1.64298\n",
      "[3500]\tvalid_0's rmse: 1.63354\n",
      "[4000]\tvalid_0's rmse: 1.62574\n"
     ]
    },
    {
     "ename": "KeyboardInterrupt",
     "evalue": "",
     "output_type": "error",
     "traceback": [
      "\u001b[0;31m---------------------------------------------------------------------------\u001b[0m",
      "\u001b[0;31mKeyboardInterrupt\u001b[0m                         Traceback (most recent call last)",
      "\u001b[0;32m<ipython-input-34-13bb40baac01>\u001b[0m in \u001b[0;36m<module>\u001b[0;34m\u001b[0m\n\u001b[1;32m     29\u001b[0m                       \u001b[0mearly_stopping_rounds\u001b[0m\u001b[0;34m=\u001b[0m\u001b[0;36m100\u001b[0m\u001b[0;34m,\u001b[0m\u001b[0;34m\u001b[0m\u001b[0m\n\u001b[1;32m     30\u001b[0m                       \u001b[0mverbose_eval\u001b[0m\u001b[0;34m=\u001b[0m\u001b[0;36m500\u001b[0m\u001b[0;34m,\u001b[0m\u001b[0;34m\u001b[0m\u001b[0m\n\u001b[0;32m---> 31\u001b[0;31m                       evals_result=evals_result)\n\u001b[0m",
      "\u001b[0;32m/opt/conda/lib/python3.6/site-packages/lightgbm/engine.py\u001b[0m in \u001b[0;36mtrain\u001b[0;34m(params, train_set, num_boost_round, valid_sets, valid_names, fobj, feval, init_model, feature_name, categorical_feature, early_stopping_rounds, evals_result, verbose_eval, learning_rates, keep_training_booster, callbacks)\u001b[0m\n\u001b[1;32m    214\u001b[0m                                     evaluation_result_list=None))\n\u001b[1;32m    215\u001b[0m \u001b[0;34m\u001b[0m\u001b[0m\n\u001b[0;32m--> 216\u001b[0;31m         \u001b[0mbooster\u001b[0m\u001b[0;34m.\u001b[0m\u001b[0mupdate\u001b[0m\u001b[0;34m(\u001b[0m\u001b[0mfobj\u001b[0m\u001b[0;34m=\u001b[0m\u001b[0mfobj\u001b[0m\u001b[0;34m)\u001b[0m\u001b[0;34m\u001b[0m\u001b[0m\n\u001b[0m\u001b[1;32m    217\u001b[0m \u001b[0;34m\u001b[0m\u001b[0m\n\u001b[1;32m    218\u001b[0m         \u001b[0mevaluation_result_list\u001b[0m \u001b[0;34m=\u001b[0m \u001b[0;34m[\u001b[0m\u001b[0;34m]\u001b[0m\u001b[0;34m\u001b[0m\u001b[0m\n",
      "\u001b[0;32m/opt/conda/lib/python3.6/site-packages/lightgbm/basic.py\u001b[0m in \u001b[0;36mupdate\u001b[0;34m(self, train_set, fobj)\u001b[0m\n\u001b[1;32m   1758\u001b[0m             _safe_call(_LIB.LGBM_BoosterUpdateOneIter(\n\u001b[1;32m   1759\u001b[0m                 \u001b[0mself\u001b[0m\u001b[0;34m.\u001b[0m\u001b[0mhandle\u001b[0m\u001b[0;34m,\u001b[0m\u001b[0;34m\u001b[0m\u001b[0m\n\u001b[0;32m-> 1760\u001b[0;31m                 ctypes.byref(is_finished)))\n\u001b[0m\u001b[1;32m   1761\u001b[0m             \u001b[0mself\u001b[0m\u001b[0;34m.\u001b[0m\u001b[0m__is_predicted_cur_iter\u001b[0m \u001b[0;34m=\u001b[0m \u001b[0;34m[\u001b[0m\u001b[0;32mFalse\u001b[0m \u001b[0;32mfor\u001b[0m \u001b[0m_\u001b[0m \u001b[0;32min\u001b[0m \u001b[0mrange_\u001b[0m\u001b[0;34m(\u001b[0m\u001b[0mself\u001b[0m\u001b[0;34m.\u001b[0m\u001b[0m__num_dataset\u001b[0m\u001b[0;34m)\u001b[0m\u001b[0;34m]\u001b[0m\u001b[0;34m\u001b[0m\u001b[0m\n\u001b[1;32m   1762\u001b[0m             \u001b[0;32mreturn\u001b[0m \u001b[0mis_finished\u001b[0m\u001b[0;34m.\u001b[0m\u001b[0mvalue\u001b[0m \u001b[0;34m==\u001b[0m \u001b[0;36m1\u001b[0m\u001b[0;34m\u001b[0m\u001b[0m\n",
      "\u001b[0;31mKeyboardInterrupt\u001b[0m: "
     ]
    }
   ],
   "source": [
    "lgtrain = lgbm.Dataset(x_train[lgbm_features], label=y_train, categorical_feature=[0,1,2,3])\n",
    "lgval = lgbm.Dataset(x_val[lgbm_features], label=y_val, categorical_feature=[0,1,2,3])\n",
    "\n",
    "\n",
    "\n",
    "#[0.00542047893814942, 29, 24, 0.39949465609514856, 1, 0.67943500, 10]\n",
    "params = {\n",
    "        \"num_threads\": 8,\n",
    "        \"verbosity\": -1,\n",
    "        #\"zero_as_missing\": \"true\",\n",
    "        \"boosting\":'gbdt',\n",
    "        \"objective\" : \"regression\",\n",
    "        \"metric\" : \"rmse\",\n",
    "        \"seed\": 42,\n",
    "        #\"max_bin\": 10,\n",
    "        #\"num_leaves\": 10,\n",
    "        \"bagging_fraction\": 0.3,\n",
    "        \"bagging_freq\": 1,\n",
    "        \"min_data_in_leaf\": 5000,\n",
    "        \"feature_fraction\": 0.5,\n",
    "        #\"lambda_l2\": 3,\n",
    "        #\"max_depth\": 2,\n",
    "        \"learning_rate\" : 0.01\n",
    "}\n",
    "\n",
    "evals_result = {}\n",
    "model_lgb = lgbm.train(params, lgtrain, 50000, \n",
    "                      valid_sets=[lgval], \n",
    "                      early_stopping_rounds=100, \n",
    "                      verbose_eval=500, \n",
    "                      evals_result=evals_result)"
   ]
  },
  {
   "cell_type": "code",
   "execution_count": 92,
   "metadata": {},
   "outputs": [],
   "source": [
    "x_train_lr = x[~x.index.isin(val_indices)].copy()[lr_features]\n",
    "x_train_lr.fillna(x_train_lr.mean(), inplace=True)\n",
    "\n",
    "x_val_lr = x[x.index.isin(val_indices)].copy()[lr_features]\n",
    "x_val_lr.fillna(x_train_lr.mean(), inplace=True)\n"
   ]
  },
  {
   "cell_type": "code",
   "execution_count": 93,
   "metadata": {},
   "outputs": [
    {
     "data": {
      "text/plain": [
       "Ridge(alpha=0.5, copy_X=True, fit_intercept=True, max_iter=None,\n",
       "   normalize=False, random_state=None, solver='auto', tol=0.001)"
      ]
     },
     "execution_count": 93,
     "metadata": {},
     "output_type": "execute_result"
    }
   ],
   "source": [
    "lr_model = Ridge(alpha=0.5)\n",
    "lr_model.fit(x_train_lr, y_train)"
   ]
  },
  {
   "cell_type": "code",
   "execution_count": 95,
   "metadata": {},
   "outputs": [
    {
     "name": "stdout",
     "output_type": "stream",
     "text": [
      "rmse:  1.6796097341448792\n"
     ]
    }
   ],
   "source": [
    "from sklearn.metrics import mean_squared_error\n",
    "from math import sqrt\n",
    "\n",
    "lr_val_preds = lr_model.predict(x_val_lr)\n",
    "lr_val_preds.clip(0,20,out=lr_val_preds)\n",
    "rms = sqrt(mean_squared_error(y_val, lr_val_preds))\n",
    "print(\"rmse: \", rms)"
   ]
  },
  {
   "cell_type": "code",
   "execution_count": 90,
   "metadata": {},
   "outputs": [
    {
     "data": {
      "text/plain": [
       "array([22, 23, 24, 25, 26, 27, 28, 29, 30, 31, 32, 33])"
      ]
     },
     "execution_count": 90,
     "metadata": {},
     "output_type": "execute_result"
    }
   ],
   "source": [
    "train_meta['date_block_num'].unique()"
   ]
  },
  {
   "cell_type": "code",
   "execution_count": 98,
   "metadata": {},
   "outputs": [],
   "source": [
    "#stacking\n",
    "blocks = [28, 29, 30, 31, 32, 33]\n",
    "\n",
    "train_meta = X.copy()\n",
    "train_meta = train_meta.sort_values(by=['date_block_num']).reset_index()\n",
    "\n",
    "lr_preds = np.zeros(len(train_meta))\n",
    "\n",
    "\n",
    "for block in blocks:\n",
    "    \n",
    "    fold = train_meta[train_meta['date_block_num'] == block]\n",
    "    train = train_meta[train_meta['date_block_num'] < block]\n",
    "    y = train['y']\n",
    "    \n",
    "    #lr\n",
    "    x_lr = train[lr_features].copy()\n",
    "    x_lr.fillna(x_lr.mean(), inplace=True)\n",
    "    \n",
    "    lr_model = Ridge(alpha=0.5)\n",
    "    lr_model.fit(x_lr, y)\n",
    "    oof = fold[lr_features].copy()\n",
    "    oof.fillna(oof.mean(), inplace=True)\n",
    "    oof_pred = lr_model.predict(oof)\n",
    "    oof_pred.clip(0,20,out=oof_pred)\n",
    "\n",
    "    lr_preds[fold.index] = oof_pred\n",
    "    \n",
    "train_meta['lr_pred'] = lr_preds\n",
    "\n",
    "\n"
   ]
  },
  {
   "cell_type": "code",
   "execution_count": 104,
   "metadata": {},
   "outputs": [
    {
     "name": "stdout",
     "output_type": "stream",
     "text": [
      "26653\n"
     ]
    },
    {
     "name": "stderr",
     "output_type": "stream",
     "text": [
      "/opt/conda/lib/python3.6/site-packages/lightgbm/basic.py:1186: UserWarning: Using categorical_feature in Dataset.\n",
      "  warnings.warn('Using categorical_feature in Dataset.')\n",
      "/opt/conda/lib/python3.6/site-packages/lightgbm/basic.py:752: UserWarning: categorical_feature in param dict is overridden.\n",
      "  warnings.warn('categorical_feature in param dict is overridden.')\n"
     ]
    },
    {
     "name": "stdout",
     "output_type": "stream",
     "text": [
      "Training until validation scores don't improve for 100 rounds.\n",
      "[500]\tvalid_0's rmse: 1.92042\n",
      "[1000]\tvalid_0's rmse: 1.85143\n",
      "[1500]\tvalid_0's rmse: 1.8128\n",
      "[2000]\tvalid_0's rmse: 1.79155\n",
      "[2500]\tvalid_0's rmse: 1.77334\n",
      "[3000]\tvalid_0's rmse: 1.76044\n",
      "[3500]\tvalid_0's rmse: 1.74919\n",
      "[4000]\tvalid_0's rmse: 1.74005\n",
      "[4500]\tvalid_0's rmse: 1.733\n",
      "[5000]\tvalid_0's rmse: 1.72626\n",
      "[5500]\tvalid_0's rmse: 1.72051\n",
      "[6000]\tvalid_0's rmse: 1.71578\n",
      "[6500]\tvalid_0's rmse: 1.71186\n",
      "[7000]\tvalid_0's rmse: 1.70756\n",
      "[7500]\tvalid_0's rmse: 1.70392\n",
      "[8000]\tvalid_0's rmse: 1.70124\n",
      "[8500]\tvalid_0's rmse: 1.69761\n",
      "[9000]\tvalid_0's rmse: 1.69429\n",
      "[9500]\tvalid_0's rmse: 1.69166\n",
      "[10000]\tvalid_0's rmse: 1.68907\n",
      "[10500]\tvalid_0's rmse: 1.68709\n",
      "[11000]\tvalid_0's rmse: 1.68503\n",
      "[11500]\tvalid_0's rmse: 1.68203\n",
      "[12000]\tvalid_0's rmse: 1.68022\n",
      "[12500]\tvalid_0's rmse: 1.67811\n",
      "[13000]\tvalid_0's rmse: 1.67641\n",
      "[13500]\tvalid_0's rmse: 1.67416\n",
      "[14000]\tvalid_0's rmse: 1.67208\n",
      "[14500]\tvalid_0's rmse: 1.67022\n",
      "[15000]\tvalid_0's rmse: 1.66864\n",
      "[15500]\tvalid_0's rmse: 1.66679\n",
      "[16000]\tvalid_0's rmse: 1.66531\n",
      "[16500]\tvalid_0's rmse: 1.66391\n",
      "[17000]\tvalid_0's rmse: 1.6623\n",
      "[17500]\tvalid_0's rmse: 1.66129\n",
      "[18000]\tvalid_0's rmse: 1.65976\n",
      "Early stopping, best iteration is:\n",
      "[18392]\tvalid_0's rmse: 1.65845\n",
      "29875\n"
     ]
    },
    {
     "name": "stderr",
     "output_type": "stream",
     "text": [
      "/opt/conda/lib/python3.6/site-packages/lightgbm/basic.py:1186: UserWarning: Using categorical_feature in Dataset.\n",
      "  warnings.warn('Using categorical_feature in Dataset.')\n",
      "/opt/conda/lib/python3.6/site-packages/lightgbm/basic.py:752: UserWarning: categorical_feature in param dict is overridden.\n",
      "  warnings.warn('categorical_feature in param dict is overridden.')\n"
     ]
    },
    {
     "name": "stdout",
     "output_type": "stream",
     "text": [
      "Training until validation scores don't improve for 100 rounds.\n",
      "[500]\tvalid_0's rmse: 1.79144\n",
      "[1000]\tvalid_0's rmse: 1.7112\n",
      "[1500]\tvalid_0's rmse: 1.66996\n",
      "[2000]\tvalid_0's rmse: 1.64124\n",
      "[2500]\tvalid_0's rmse: 1.62209\n",
      "[3000]\tvalid_0's rmse: 1.60648\n",
      "[3500]\tvalid_0's rmse: 1.59446\n",
      "[4000]\tvalid_0's rmse: 1.58459\n",
      "[4500]\tvalid_0's rmse: 1.57622\n",
      "[5000]\tvalid_0's rmse: 1.57014\n",
      "[5500]\tvalid_0's rmse: 1.56415\n",
      "[6000]\tvalid_0's rmse: 1.55914\n",
      "[6500]\tvalid_0's rmse: 1.55442\n",
      "[7000]\tvalid_0's rmse: 1.55013\n",
      "[7500]\tvalid_0's rmse: 1.54647\n",
      "[8000]\tvalid_0's rmse: 1.54352\n",
      "[8500]\tvalid_0's rmse: 1.54028\n",
      "[9000]\tvalid_0's rmse: 1.53732\n",
      "[9500]\tvalid_0's rmse: 1.53457\n",
      "[10000]\tvalid_0's rmse: 1.53231\n",
      "[10500]\tvalid_0's rmse: 1.52972\n",
      "[11000]\tvalid_0's rmse: 1.52723\n",
      "[11500]\tvalid_0's rmse: 1.52513\n",
      "[12000]\tvalid_0's rmse: 1.52345\n",
      "[12500]\tvalid_0's rmse: 1.52133\n",
      "[13000]\tvalid_0's rmse: 1.51915\n",
      "[13500]\tvalid_0's rmse: 1.51715\n",
      "[14000]\tvalid_0's rmse: 1.51582\n",
      "[14500]\tvalid_0's rmse: 1.51407\n",
      "[15000]\tvalid_0's rmse: 1.51276\n",
      "[15500]\tvalid_0's rmse: 1.51121\n",
      "[16000]\tvalid_0's rmse: 1.50965\n",
      "[16500]\tvalid_0's rmse: 1.50826\n",
      "[17000]\tvalid_0's rmse: 1.50687\n",
      "[17500]\tvalid_0's rmse: 1.50602\n",
      "Early stopping, best iteration is:\n",
      "[17679]\tvalid_0's rmse: 1.50555\n",
      "33066\n"
     ]
    },
    {
     "name": "stderr",
     "output_type": "stream",
     "text": [
      "/opt/conda/lib/python3.6/site-packages/lightgbm/basic.py:1186: UserWarning: Using categorical_feature in Dataset.\n",
      "  warnings.warn('Using categorical_feature in Dataset.')\n",
      "/opt/conda/lib/python3.6/site-packages/lightgbm/basic.py:752: UserWarning: categorical_feature in param dict is overridden.\n",
      "  warnings.warn('categorical_feature in param dict is overridden.')\n"
     ]
    },
    {
     "name": "stdout",
     "output_type": "stream",
     "text": [
      "Training until validation scores don't improve for 100 rounds.\n",
      "[500]\tvalid_0's rmse: 1.63621\n",
      "[1000]\tvalid_0's rmse: 1.56529\n",
      "[1500]\tvalid_0's rmse: 1.53139\n",
      "[2000]\tvalid_0's rmse: 1.50672\n",
      "[2500]\tvalid_0's rmse: 1.49008\n",
      "[3000]\tvalid_0's rmse: 1.47681\n",
      "[3500]\tvalid_0's rmse: 1.46564\n",
      "[4000]\tvalid_0's rmse: 1.45752\n",
      "[4500]\tvalid_0's rmse: 1.45064\n",
      "[5000]\tvalid_0's rmse: 1.44511\n",
      "[5500]\tvalid_0's rmse: 1.43984\n",
      "[6000]\tvalid_0's rmse: 1.4354\n",
      "[6500]\tvalid_0's rmse: 1.43171\n",
      "[7000]\tvalid_0's rmse: 1.42804\n",
      "[7500]\tvalid_0's rmse: 1.42463\n",
      "[8000]\tvalid_0's rmse: 1.42213\n",
      "[8500]\tvalid_0's rmse: 1.41957\n",
      "[9000]\tvalid_0's rmse: 1.41737\n",
      "[9500]\tvalid_0's rmse: 1.41494\n",
      "[10000]\tvalid_0's rmse: 1.41312\n",
      "[10500]\tvalid_0's rmse: 1.41128\n",
      "[11000]\tvalid_0's rmse: 1.40993\n",
      "[11500]\tvalid_0's rmse: 1.40811\n",
      "[12000]\tvalid_0's rmse: 1.40665\n",
      "[12500]\tvalid_0's rmse: 1.40532\n",
      "Early stopping, best iteration is:\n",
      "[12524]\tvalid_0's rmse: 1.40525\n",
      "36419\n"
     ]
    },
    {
     "name": "stderr",
     "output_type": "stream",
     "text": [
      "/opt/conda/lib/python3.6/site-packages/lightgbm/basic.py:1186: UserWarning: Using categorical_feature in Dataset.\n",
      "  warnings.warn('Using categorical_feature in Dataset.')\n",
      "/opt/conda/lib/python3.6/site-packages/lightgbm/basic.py:752: UserWarning: categorical_feature in param dict is overridden.\n",
      "  warnings.warn('categorical_feature in param dict is overridden.')\n"
     ]
    },
    {
     "name": "stdout",
     "output_type": "stream",
     "text": [
      "Training until validation scores don't improve for 100 rounds.\n",
      "[500]\tvalid_0's rmse: 1.51077\n",
      "[1000]\tvalid_0's rmse: 1.44267\n",
      "[1500]\tvalid_0's rmse: 1.40808\n",
      "[2000]\tvalid_0's rmse: 1.38562\n",
      "[2500]\tvalid_0's rmse: 1.36929\n",
      "[3000]\tvalid_0's rmse: 1.35844\n",
      "[3500]\tvalid_0's rmse: 1.34996\n",
      "[4000]\tvalid_0's rmse: 1.34341\n",
      "[4500]\tvalid_0's rmse: 1.33774\n",
      "[5000]\tvalid_0's rmse: 1.33366\n",
      "[5500]\tvalid_0's rmse: 1.33001\n",
      "[6000]\tvalid_0's rmse: 1.32725\n",
      "[6500]\tvalid_0's rmse: 1.32437\n",
      "[7000]\tvalid_0's rmse: 1.32185\n",
      "[7500]\tvalid_0's rmse: 1.31979\n",
      "[8000]\tvalid_0's rmse: 1.31787\n",
      "[8500]\tvalid_0's rmse: 1.31618\n",
      "[9000]\tvalid_0's rmse: 1.31501\n",
      "[9500]\tvalid_0's rmse: 1.31313\n",
      "[10000]\tvalid_0's rmse: 1.31182\n",
      "Early stopping, best iteration is:\n",
      "[10389]\tvalid_0's rmse: 1.31085\n",
      "39767\n"
     ]
    },
    {
     "name": "stderr",
     "output_type": "stream",
     "text": [
      "/opt/conda/lib/python3.6/site-packages/lightgbm/basic.py:1186: UserWarning: Using categorical_feature in Dataset.\n",
      "  warnings.warn('Using categorical_feature in Dataset.')\n",
      "/opt/conda/lib/python3.6/site-packages/lightgbm/basic.py:752: UserWarning: categorical_feature in param dict is overridden.\n",
      "  warnings.warn('categorical_feature in param dict is overridden.')\n"
     ]
    },
    {
     "name": "stdout",
     "output_type": "stream",
     "text": [
      "Training until validation scores don't improve for 100 rounds.\n",
      "[500]\tvalid_0's rmse: 1.49355\n",
      "[1000]\tvalid_0's rmse: 1.43757\n",
      "[1500]\tvalid_0's rmse: 1.41135\n",
      "[2000]\tvalid_0's rmse: 1.39347\n",
      "[2500]\tvalid_0's rmse: 1.38128\n",
      "[3000]\tvalid_0's rmse: 1.37304\n",
      "[3500]\tvalid_0's rmse: 1.36693\n",
      "[4000]\tvalid_0's rmse: 1.36201\n",
      "[4500]\tvalid_0's rmse: 1.35836\n",
      "[5000]\tvalid_0's rmse: 1.35546\n",
      "[5500]\tvalid_0's rmse: 1.35264\n",
      "[6000]\tvalid_0's rmse: 1.35052\n",
      "[6500]\tvalid_0's rmse: 1.34821\n",
      "[7000]\tvalid_0's rmse: 1.34633\n",
      "[7500]\tvalid_0's rmse: 1.34493\n",
      "[8000]\tvalid_0's rmse: 1.34359\n",
      "[8500]\tvalid_0's rmse: 1.3421\n",
      "[9000]\tvalid_0's rmse: 1.34085\n",
      "[9500]\tvalid_0's rmse: 1.33945\n",
      "[10000]\tvalid_0's rmse: 1.33813\n",
      "[10500]\tvalid_0's rmse: 1.33722\n",
      "[11000]\tvalid_0's rmse: 1.33651\n",
      "[11500]\tvalid_0's rmse: 1.33558\n",
      "[12000]\tvalid_0's rmse: 1.33468\n",
      "[12500]\tvalid_0's rmse: 1.33384\n",
      "Early stopping, best iteration is:\n",
      "[12869]\tvalid_0's rmse: 1.33306\n",
      "42735\n"
     ]
    },
    {
     "name": "stderr",
     "output_type": "stream",
     "text": [
      "/opt/conda/lib/python3.6/site-packages/lightgbm/basic.py:1186: UserWarning: Using categorical_feature in Dataset.\n",
      "  warnings.warn('Using categorical_feature in Dataset.')\n",
      "/opt/conda/lib/python3.6/site-packages/lightgbm/basic.py:752: UserWarning: categorical_feature in param dict is overridden.\n",
      "  warnings.warn('categorical_feature in param dict is overridden.')\n"
     ]
    },
    {
     "name": "stdout",
     "output_type": "stream",
     "text": [
      "Training until validation scores don't improve for 100 rounds.\n",
      "[500]\tvalid_0's rmse: 1.70263\n",
      "[1000]\tvalid_0's rmse: 1.63411\n",
      "[1500]\tvalid_0's rmse: 1.60018\n",
      "[2000]\tvalid_0's rmse: 1.57759\n",
      "[2500]\tvalid_0's rmse: 1.56215\n",
      "[3000]\tvalid_0's rmse: 1.55133\n",
      "[3500]\tvalid_0's rmse: 1.54281\n",
      "[4000]\tvalid_0's rmse: 1.5363\n",
      "[4500]\tvalid_0's rmse: 1.53026\n",
      "[5000]\tvalid_0's rmse: 1.52641\n",
      "[5500]\tvalid_0's rmse: 1.52258\n",
      "[6000]\tvalid_0's rmse: 1.52006\n",
      "[6500]\tvalid_0's rmse: 1.51685\n",
      "[7000]\tvalid_0's rmse: 1.51499\n",
      "[7500]\tvalid_0's rmse: 1.5124\n",
      "[8000]\tvalid_0's rmse: 1.51063\n",
      "[8500]\tvalid_0's rmse: 1.50877\n",
      "[9000]\tvalid_0's rmse: 1.50738\n",
      "[9500]\tvalid_0's rmse: 1.50551\n",
      "[10000]\tvalid_0's rmse: 1.50387\n",
      "[10500]\tvalid_0's rmse: 1.5027\n",
      "[11000]\tvalid_0's rmse: 1.5012\n",
      "[11500]\tvalid_0's rmse: 1.5003\n",
      "[12000]\tvalid_0's rmse: 1.49931\n",
      "[12500]\tvalid_0's rmse: 1.49848\n",
      "[13000]\tvalid_0's rmse: 1.4973\n",
      "[13500]\tvalid_0's rmse: 1.49643\n",
      "[14000]\tvalid_0's rmse: 1.49589\n",
      "[14500]\tvalid_0's rmse: 1.49507\n",
      "Early stopping, best iteration is:\n",
      "[14566]\tvalid_0's rmse: 1.49489\n"
     ]
    }
   ],
   "source": [
    "lgbm_preds = np.zeros(len(train_meta))\n",
    "\n",
    "for block in blocks:\n",
    "    \n",
    "    fold = train_meta[train_meta['date_block_num'] == block]\n",
    "    train = train_meta[train_meta['date_block_num'] < block]\n",
    "    y = train['y']\n",
    "    \n",
    "    #lgbm\n",
    "    val_len = int(10 * len(train) / 100)\n",
    "    print(val_len)\n",
    "    val_indices = sorted(train.index)[-val_len:]\n",
    "\n",
    "\n",
    "    x_train = train[~train.index.isin(val_indices)]\n",
    "    y_train = y[~y.index.isin(val_indices)]\n",
    "\n",
    "    x_val = train[train.index.isin(val_indices)]\n",
    "    y_val = y[y.index.isin(val_indices)]\n",
    "    \n",
    "    \n",
    "    \n",
    "    lgtrain = lgbm.Dataset(x_train[lgbm_features], label=y_train, categorical_feature=[0,1,2,3])\n",
    "    lgval = lgbm.Dataset(x_val[lgbm_features], label=y_val, categorical_feature=[0,1,2,3])\n",
    "    \n",
    "    \n",
    "    \n",
    "    params = {\n",
    "        \"num_threads\": 8,\n",
    "        \"verbosity\": -1,\n",
    "        #\"zero_as_missing\": \"true\",\n",
    "        \"boosting\":'gbdt',\n",
    "        \"objective\" : \"regression\",\n",
    "        \"metric\" : \"rmse\",\n",
    "        \"seed\": 42,\n",
    "        #\"max_bin\": 10,\n",
    "        #\"num_leaves\": 10,\n",
    "        \"bagging_fraction\": 0.3,\n",
    "        \"bagging_freq\": 1,\n",
    "        \"min_data_in_leaf\": 5000,\n",
    "        \"feature_fraction\": 0.5,\n",
    "        #\"lambda_l2\": 3,\n",
    "        #\"max_depth\": 2,\n",
    "        \"learning_rate\" : 0.01\n",
    "    }\n",
    "\n",
    "    evals_result = {}\n",
    "    model_lgb = lgbm.train(params, lgtrain, 50000, \n",
    "                      valid_sets=[lgval], \n",
    "                      early_stopping_rounds=100, \n",
    "                      verbose_eval=500, \n",
    "                      evals_result=evals_result)\n",
    "    \n",
    "    oof = fold[lgbm_features]\n",
    "\n",
    "    oof_preds = model_lgb.predict(oof)\n",
    "    oof_preds.clip(0,20,out=oof_preds)\n",
    "\n",
    "    lgbm_preds[fold.index] = oof_preds\n",
    "    \n",
    "train_meta['lgbm_pred'] = lgbm_preds\n",
    "\n",
    "import pickle\n"
   ]
  },
  {
   "cell_type": "code",
   "execution_count": 102,
   "metadata": {},
   "outputs": [
    {
     "data": {
      "text/plain": [
       "(32220,)"
      ]
     },
     "execution_count": 102,
     "metadata": {},
     "output_type": "execute_result"
    }
   ],
   "source": [
    "lgbm_preds.shape"
   ]
  },
  {
   "cell_type": "code",
   "execution_count": 73,
   "metadata": {},
   "outputs": [
    {
     "data": {
      "text/plain": [
       "0    0.896845\n",
       "1    1.721766\n",
       "2    1.946306\n",
       "3    2.229214\n",
       "4    2.253534\n",
       "Name: lr_preds, dtype: float64"
      ]
     },
     "execution_count": 73,
     "metadata": {},
     "output_type": "execute_result"
    }
   ],
   "source": [
    "train_meta['lr_preds'].head()"
   ]
  },
  {
   "cell_type": "code",
   "execution_count": null,
   "metadata": {},
   "outputs": [],
   "source": [
    "test_w_cat_ids = test.set_index('item_id').join(items.set_index('item_id'))\n",
    "test_w_cat_ids['item_id'] = test_w_cat_ids.index"
   ]
  },
  {
   "cell_type": "code",
   "execution_count": null,
   "metadata": {},
   "outputs": [],
   "source": [
    "test_w_cat_ids['month'] = 11"
   ]
  },
  {
   "cell_type": "code",
   "execution_count": null,
   "metadata": {},
   "outputs": [],
   "source": [
    "item_level = X.drop_duplicates(['item_id'])[['item_id','item_mean', 'item_price']]\n",
    "\n",
    "test_w_cat_ids = pd.merge(test_w_cat_ids, item_level, on=['item_id'], how='left')"
   ]
  },
  {
   "cell_type": "code",
   "execution_count": null,
   "metadata": {},
   "outputs": [],
   "source": [
    "item_month_level = X[(X.month == 11)].drop_duplicates(['item_id'])[['item_id','item_mean_month']]\n",
    "\n",
    "test_w_cat_ids = pd.merge(test_w_cat_ids, item_month_level, on=['item_id'], how='left')"
   ]
  },
  {
   "cell_type": "code",
   "execution_count": null,
   "metadata": {},
   "outputs": [],
   "source": [
    "item_month_level_ = X[X.month == 10].drop_duplicates(['item_id'])[['item_id','item_mean_month']]\\\n",
    "                                   .copy().rename(columns={'item_mean_month':'item_mean_month_minus_1'})\n",
    "\n",
    "\n",
    "test_w_cat_ids = pd.merge(test_w_cat_ids, item_month_level_, on=['item_id'], how='left')"
   ]
  },
  {
   "cell_type": "code",
   "execution_count": null,
   "metadata": {},
   "outputs": [],
   "source": [
    "item_month_level_ = X[X.month == 8].drop_duplicates(['item_id'])[['item_id','item_mean_month']]\\\n",
    "                                   .copy().rename(columns={'item_mean_month':'item_mean_month_minus_3'})\n",
    "\n",
    "\n",
    "test_w_cat_ids = pd.merge(test_w_cat_ids, item_month_level_, on=['item_id'], how='left')"
   ]
  },
  {
   "cell_type": "code",
   "execution_count": null,
   "metadata": {},
   "outputs": [],
   "source": [
    "item_month_level_ = X[X.month == 5].drop_duplicates(['item_id'])[['item_id','item_mean_month']]\\\n",
    "                                   .copy().rename(columns={'item_mean_month':'item_mean_month_minus_6'})\n",
    "\n",
    "\n",
    "test_w_cat_ids = pd.merge(test_w_cat_ids, item_month_level_, on=['item_id'], how='left')"
   ]
  },
  {
   "cell_type": "code",
   "execution_count": null,
   "metadata": {},
   "outputs": [],
   "source": [
    "shop_month_level_ = X[(X.month == 11)].drop_duplicates(['shop_id'])[['shop_id','shop_mean_month']]\n",
    "\n",
    "test_w_cat_ids = pd.merge(test_w_cat_ids, shop_month_level_, on=['shop_id'], how='left')"
   ]
  },
  {
   "cell_type": "code",
   "execution_count": null,
   "metadata": {},
   "outputs": [],
   "source": [
    "shop_month_level_ = X[X.month == 10].drop_duplicates(['shop_id'])[['shop_id','shop_mean_month']]\\\n",
    "                                   .copy().rename(columns={'shop_mean_month':'shop_mean_month_minus_1'})\n",
    "\n",
    "\n",
    "test_w_cat_ids = pd.merge(test_w_cat_ids, shop_month_level_, on=['shop_id'], how='left')"
   ]
  },
  {
   "cell_type": "code",
   "execution_count": null,
   "metadata": {},
   "outputs": [],
   "source": [
    "shop_month_level_ = X[X.month == 8].drop_duplicates(['shop_id'])[['shop_id','shop_mean_month']]\\\n",
    "                                   .copy().rename(columns={'shop_mean_month':'shop_mean_month_minus_3'})\n",
    "\n",
    "\n",
    "test_w_cat_ids = pd.merge(test_w_cat_ids, shop_month_level_, on=['shop_id'], how='left')"
   ]
  },
  {
   "cell_type": "code",
   "execution_count": null,
   "metadata": {},
   "outputs": [],
   "source": [
    "shop_month_level_ = X[X.month == 5].drop_duplicates(['shop_id'])[['shop_id','shop_mean_month']]\\\n",
    "                                   .copy().rename(columns={'shop_mean_month':'shop_mean_month_minus_6'})\n",
    "\n",
    "\n",
    "test_w_cat_ids = pd.merge(test_w_cat_ids, shop_month_level_, on=['shop_id'], how='left')"
   ]
  },
  {
   "cell_type": "code",
   "execution_count": null,
   "metadata": {},
   "outputs": [],
   "source": [
    "cat_month_level_ = X[(X.month == 11)].drop_duplicates(['item_category_id'])[['item_category_id','category_mean_month']]\n",
    "\n",
    "test_w_cat_ids = pd.merge(test_w_cat_ids, cat_month_level_, on=['item_category_id'], how='left')"
   ]
  },
  {
   "cell_type": "code",
   "execution_count": null,
   "metadata": {},
   "outputs": [],
   "source": [
    "cat_month_level_ = X[X.month == 10].drop_duplicates(['item_category_id'])[['item_category_id','category_mean_month']]\\\n",
    "                                   .copy().rename(columns={'category_mean_month':'category_mean_month_minus_1'})\n",
    "\n",
    "\n",
    "test_w_cat_ids = pd.merge(test_w_cat_ids, cat_month_level_, on=['item_category_id'], how='left')"
   ]
  },
  {
   "cell_type": "code",
   "execution_count": null,
   "metadata": {},
   "outputs": [],
   "source": [
    "cat_month_level_ = X[X.month == 8].drop_duplicates(['item_category_id'])[['item_category_id','category_mean_month']]\\\n",
    "                                   .copy().rename(columns={'category_mean_month':'category_mean_month_minus_3'})\n",
    "\n",
    "\n",
    "test_w_cat_ids = pd.merge(test_w_cat_ids, cat_month_level_, on=['item_category_id'], how='left')"
   ]
  },
  {
   "cell_type": "code",
   "execution_count": null,
   "metadata": {},
   "outputs": [],
   "source": [
    "cat_month_level_ = X[X.month == 5].drop_duplicates(['item_category_id'])[['item_category_id','category_mean_month']]\\\n",
    "                                   .copy().rename(columns={'category_mean_month':'category_mean_month_minus_6'})\n",
    "\n",
    "\n",
    "test_w_cat_ids = pd.merge(test_w_cat_ids, cat_month_level_, on=['item_category_id'], how='left')"
   ]
  },
  {
   "cell_type": "code",
   "execution_count": null,
   "metadata": {},
   "outputs": [],
   "source": [
    "shop_cat_month_level_ = X[(X.month == 11)].drop_duplicates(['item_category_id', 'shop_id'])[['item_category_id', 'shop_id', 'shop_category_mean_month']]\n",
    "\n",
    "test_w_cat_ids = pd.merge(test_w_cat_ids, shop_cat_month_level_, on=['item_category_id', 'shop_id'], how='left')"
   ]
  },
  {
   "cell_type": "code",
   "execution_count": null,
   "metadata": {},
   "outputs": [],
   "source": [
    "shop_cat_month_level_ = X[X.month == 10].drop_duplicates(['item_category_id', 'shop_id'])[['item_category_id', 'shop_id', 'shop_category_mean_month']]\\\n",
    "                                   .copy().rename(columns={'shop_category_mean_month':'shop_category_mean_month_minus_1'})\n",
    "\n",
    "\n",
    "test_w_cat_ids = pd.merge(test_w_cat_ids, shop_cat_month_level_, on=['item_category_id', 'shop_id'], how='left')"
   ]
  },
  {
   "cell_type": "code",
   "execution_count": null,
   "metadata": {},
   "outputs": [],
   "source": [
    "shop_cat_month_level_ = X[X.month == 8].drop_duplicates(['item_category_id', 'shop_id'])[['item_category_id', 'shop_id', 'shop_category_mean_month']]\\\n",
    "                                   .copy().rename(columns={'shop_category_mean_month':'shop_category_mean_month_minus_3'})\n",
    "\n",
    "\n",
    "test_w_cat_ids = pd.merge(test_w_cat_ids, shop_cat_month_level_, on=['item_category_id', 'shop_id'], how='left')"
   ]
  },
  {
   "cell_type": "code",
   "execution_count": null,
   "metadata": {},
   "outputs": [],
   "source": [
    "shop_cat_month_level_ = X[X.month == 5].drop_duplicates(['item_category_id', 'shop_id'])[['item_category_id', 'shop_id', 'shop_category_mean_month']]\\\n",
    "                                   .copy().rename(columns={'shop_category_mean_month':'shop_category_mean_month_minus_6'})\n",
    "\n",
    "\n",
    "test_w_cat_ids = pd.merge(test_w_cat_ids, shop_cat_month_level_, on=['item_category_id', 'shop_id'], how='left')"
   ]
  },
  {
   "cell_type": "code",
   "execution_count": null,
   "metadata": {},
   "outputs": [],
   "source": [
    "test_w_cat_ids[features].head()"
   ]
  },
  {
   "cell_type": "code",
   "execution_count": null,
   "metadata": {},
   "outputs": [],
   "source": [
    "columns = X.columns\n",
    "percent_missing = X.isna().sum() * 100 / len(X)\n",
    "pd.DataFrame({'column_name': columns,\n",
    "                                 'percent_missing': percent_missing})"
   ]
  },
  {
   "cell_type": "code",
   "execution_count": null,
   "metadata": {},
   "outputs": [],
   "source": [
    "columns = test_w_cat_ids.columns\n",
    "percent_missing = test_w_cat_ids.isna().sum() * 100 / len(test_w_cat_ids)\n",
    "pd.DataFrame({'column_name': columns,\n",
    "                                 'percent_missing': percent_missing})"
   ]
  },
  {
   "cell_type": "code",
   "execution_count": null,
   "metadata": {},
   "outputs": [],
   "source": [
    "lr_preds = lr_model.predict(test_w_cat_ids[lr_features])"
   ]
  },
  {
   "cell_type": "code",
   "execution_count": null,
   "metadata": {},
   "outputs": [],
   "source": [
    "preds = model_lgb.predict(test_w_cat_ids[features])\n",
    "preds.clip(0,20,out=preds)"
   ]
  },
  {
   "cell_type": "code",
   "execution_count": null,
   "metadata": {},
   "outputs": [],
   "source": [
    "submission = test.loc[:,['ID']]\n",
    "submission['item_cnt_month'] = preds.astype(int)\n",
    "\n",
    "submission.to_csv('submission.csv', index=False)"
   ]
  },
  {
   "cell_type": "code",
   "execution_count": null,
   "metadata": {},
   "outputs": [],
   "source": [
    "print('Plotting feature importances...')\n",
    "ax = lgbm.plot_importance(model_lgb, max_num_features=20)\n",
    "plt.show()"
   ]
  },
  {
   "cell_type": "markdown",
   "metadata": {},
   "source": [
    "3.45 val > 3.70 submit\n",
    "3.06 val > 3.65 submit"
   ]
  }
 ],
 "metadata": {
  "kernelspec": {
   "display_name": "Python 3",
   "language": "python",
   "name": "python3"
  },
  "language_info": {
   "codemirror_mode": {
    "name": "ipython",
    "version": 3
   },
   "file_extension": ".py",
   "mimetype": "text/x-python",
   "name": "python",
   "nbconvert_exporter": "python",
   "pygments_lexer": "ipython3",
   "version": "3.6.6"
  }
 },
 "nbformat": 4,
 "nbformat_minor": 2
}
