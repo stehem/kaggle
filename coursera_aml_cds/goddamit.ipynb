{
 "cells": [
  {
   "cell_type": "code",
   "execution_count": 375,
   "metadata": {},
   "outputs": [
    {
     "data": {
      "text/html": [
       "<style>.container { width:100% !important; }</style>"
      ],
      "text/plain": [
       "<IPython.core.display.HTML object>"
      ]
     },
     "metadata": {},
     "output_type": "display_data"
    }
   ],
   "source": [
    "from IPython.core.display import display, HTML\n",
    "display(HTML(\"<style>.container { width:100% !important; }</style>\"))"
   ]
  },
  {
   "cell_type": "code",
   "execution_count": 376,
   "metadata": {},
   "outputs": [],
   "source": [
    "import pandas as pd\n",
    "import numpy as np\n",
    "import os\n",
    "import matplotlib.pyplot as plt\n",
    "%matplotlib inline \n",
    "from sklearn.ensemble import RandomForestRegressor\n",
    "from sklearn.tree import DecisionTreeRegressor\n",
    "from sklearn.tree import export_graphviz\n",
    "import matplotlib.pyplot as plt\n",
    "import seaborn as sns\n",
    "\n",
    "import lightgbm as lgbm\n",
    "import gc\n",
    "import xgboost as xgb"
   ]
  },
  {
   "cell_type": "code",
   "execution_count": 377,
   "metadata": {},
   "outputs": [],
   "source": [
    "items           = pd.read_csv('items.csv')\n",
    "item_categories = pd.read_csv('item_categories.csv')\n",
    "shops           = pd.read_csv('shops.csv')\n",
    "sales_train     = pd.read_csv('sales_train.csv.gz')\n",
    "test            = pd.read_csv('test.csv.gz')"
   ]
  },
  {
   "cell_type": "code",
   "execution_count": 378,
   "metadata": {},
   "outputs": [],
   "source": [
    "transactions = sales_train\n",
    "transactions[['day','month', 'year']] = transactions['date'].str.split('.', expand=True).astype(int)\n"
   ]
  },
  {
   "cell_type": "code",
   "execution_count": 379,
   "metadata": {},
   "outputs": [],
   "source": [
    "transactions = transactions.set_index('item_id').join(items.set_index('item_id'))\n",
    "transactions.reset_index(inplace=True)\n",
    "transactions = transactions[transactions['year'] != 2013]\n",
    "transactions['y'] = transactions.groupby(['date_block_num', 'item_id', 'shop_id'])['item_cnt_day'].transform('sum').clip(0,20)\n"
   ]
  },
  {
   "cell_type": "code",
   "execution_count": 380,
   "metadata": {},
   "outputs": [
    {
     "name": "stdout",
     "output_type": "stream",
     "text": [
      "1668287\n"
     ]
    },
    {
     "data": {
      "text/html": [
       "<div>\n",
       "<style scoped>\n",
       "    .dataframe tbody tr th:only-of-type {\n",
       "        vertical-align: middle;\n",
       "    }\n",
       "\n",
       "    .dataframe tbody tr th {\n",
       "        vertical-align: top;\n",
       "    }\n",
       "\n",
       "    .dataframe thead th {\n",
       "        text-align: right;\n",
       "    }\n",
       "</style>\n",
       "<table border=\"1\" class=\"dataframe\">\n",
       "  <thead>\n",
       "    <tr style=\"text-align: right;\">\n",
       "      <th></th>\n",
       "      <th>item_id</th>\n",
       "      <th>date</th>\n",
       "      <th>date_block_num</th>\n",
       "      <th>shop_id</th>\n",
       "      <th>item_price</th>\n",
       "      <th>item_cnt_day</th>\n",
       "      <th>day</th>\n",
       "      <th>month</th>\n",
       "      <th>year</th>\n",
       "      <th>item_name</th>\n",
       "      <th>item_category_id</th>\n",
       "      <th>y</th>\n",
       "    </tr>\n",
       "  </thead>\n",
       "  <tbody>\n",
       "    <tr>\n",
       "      <th>0</th>\n",
       "      <td>0</td>\n",
       "      <td>01.09.2014</td>\n",
       "      <td>20</td>\n",
       "      <td>54</td>\n",
       "      <td>58.0</td>\n",
       "      <td>1.0</td>\n",
       "      <td>1</td>\n",
       "      <td>9</td>\n",
       "      <td>2014</td>\n",
       "      <td>! ВО ВЛАСТИ НАВАЖДЕНИЯ (ПЛАСТ.)         D</td>\n",
       "      <td>40</td>\n",
       "      <td>1.0</td>\n",
       "    </tr>\n",
       "    <tr>\n",
       "      <th>1</th>\n",
       "      <td>1</td>\n",
       "      <td>04.04.2014</td>\n",
       "      <td>15</td>\n",
       "      <td>55</td>\n",
       "      <td>4490.0</td>\n",
       "      <td>1.0</td>\n",
       "      <td>4</td>\n",
       "      <td>4</td>\n",
       "      <td>2014</td>\n",
       "      <td>!ABBYY FineReader 12 Professional Edition Full [PC, Цифровая версия]</td>\n",
       "      <td>76</td>\n",
       "      <td>2.0</td>\n",
       "    </tr>\n",
       "    <tr>\n",
       "      <th>2</th>\n",
       "      <td>1</td>\n",
       "      <td>02.04.2014</td>\n",
       "      <td>15</td>\n",
       "      <td>55</td>\n",
       "      <td>4490.0</td>\n",
       "      <td>1.0</td>\n",
       "      <td>2</td>\n",
       "      <td>4</td>\n",
       "      <td>2014</td>\n",
       "      <td>!ABBYY FineReader 12 Professional Edition Full [PC, Цифровая версия]</td>\n",
       "      <td>76</td>\n",
       "      <td>2.0</td>\n",
       "    </tr>\n",
       "    <tr>\n",
       "      <th>3</th>\n",
       "      <td>1</td>\n",
       "      <td>06.07.2014</td>\n",
       "      <td>18</td>\n",
       "      <td>55</td>\n",
       "      <td>4490.0</td>\n",
       "      <td>1.0</td>\n",
       "      <td>6</td>\n",
       "      <td>7</td>\n",
       "      <td>2014</td>\n",
       "      <td>!ABBYY FineReader 12 Professional Edition Full [PC, Цифровая версия]</td>\n",
       "      <td>76</td>\n",
       "      <td>1.0</td>\n",
       "    </tr>\n",
       "    <tr>\n",
       "      <th>4</th>\n",
       "      <td>1</td>\n",
       "      <td>04.08.2014</td>\n",
       "      <td>19</td>\n",
       "      <td>55</td>\n",
       "      <td>4490.0</td>\n",
       "      <td>1.0</td>\n",
       "      <td>4</td>\n",
       "      <td>8</td>\n",
       "      <td>2014</td>\n",
       "      <td>!ABBYY FineReader 12 Professional Edition Full [PC, Цифровая версия]</td>\n",
       "      <td>76</td>\n",
       "      <td>1.0</td>\n",
       "    </tr>\n",
       "  </tbody>\n",
       "</table>\n",
       "</div>"
      ],
      "text/plain": [
       "   item_id        date  date_block_num  shop_id  item_price  item_cnt_day  day  month  year                                                             item_name  item_category_id    y\n",
       "0  0        01.09.2014  20              54       58.0        1.0           1    9      2014  ! ВО ВЛАСТИ НАВАЖДЕНИЯ (ПЛАСТ.)         D                             40                1.0\n",
       "1  1        04.04.2014  15              55       4490.0      1.0           4    4      2014  !ABBYY FineReader 12 Professional Edition Full [PC, Цифровая версия]  76                2.0\n",
       "2  1        02.04.2014  15              55       4490.0      1.0           2    4      2014  !ABBYY FineReader 12 Professional Edition Full [PC, Цифровая версия]  76                2.0\n",
       "3  1        06.07.2014  18              55       4490.0      1.0           6    7      2014  !ABBYY FineReader 12 Professional Edition Full [PC, Цифровая версия]  76                1.0\n",
       "4  1        04.08.2014  19              55       4490.0      1.0           4    8      2014  !ABBYY FineReader 12 Professional Edition Full [PC, Цифровая версия]  76                1.0"
      ]
     },
     "execution_count": 380,
     "metadata": {},
     "output_type": "execute_result"
    }
   ],
   "source": [
    "print(len(transactions))\n",
    "transactions.head()"
   ]
  },
  {
   "cell_type": "code",
   "execution_count": 381,
   "metadata": {},
   "outputs": [
    {
     "data": {
      "text/plain": [
       "1668287"
      ]
     },
     "execution_count": 381,
     "metadata": {},
     "output_type": "execute_result"
    }
   ],
   "source": [
    "len(transactions)"
   ]
  },
  {
   "cell_type": "code",
   "execution_count": 382,
   "metadata": {},
   "outputs": [],
   "source": [
    "transactions['turnover'] = transactions['item_price'] * transactions['item_cnt_day']"
   ]
  },
  {
   "cell_type": "code",
   "execution_count": 383,
   "metadata": {},
   "outputs": [],
   "source": [
    "transactions['item_first_block'] = transactions.groupby('item_id')['date_block_num'].transform(np.min)\n",
    "transactions['item_last_block'] = transactions.groupby('item_id')['date_block_num'].transform(np.max)\n",
    "\n",
    "transactions['is_first_two_blocks'] = transactions['date_block_num'].isin([transactions['item_first_block']+1,transactions['item_first_block']+2])\n",
    "transactions['is_last_two_blocks'] = transactions['date_block_num'].isin([transactions['item_last_block']-1,transactions['item_last_block']])\n"
   ]
  },
  {
   "cell_type": "code",
   "execution_count": 384,
   "metadata": {},
   "outputs": [
    {
     "name": "stdout",
     "output_type": "stream",
     "text": [
      "number_of_items: 17054\n",
      "number_of_categories: 79\n",
      "number_of_shops: 55\n",
      "number_of_days: 669\n",
      "number_of_blocks: 22\n",
      "total_sales: 2085473.0\n",
      "total_turnover: 2181401610.589987\n",
      "average_price: 1015.5023073770728\n"
     ]
    }
   ],
   "source": [
    "number_of_items = transactions['item_id'].nunique()\n",
    "print(\"number_of_items:\", number_of_items)\n",
    "number_of_categories = transactions['item_category_id'].nunique()\n",
    "print(\"number_of_categories:\", number_of_categories)\n",
    "number_of_shops = transactions['shop_id'].nunique()\n",
    "print(\"number_of_shops:\", number_of_shops)\n",
    "number_of_days = 365 + 365 - 30 - 31\n",
    "print(\"number_of_days:\", number_of_days)\n",
    "number_of_blocks = transactions['date_block_num'].nunique()\n",
    "print(\"number_of_blocks:\", number_of_blocks)\n",
    "total_sales = transactions['item_cnt_day'].sum()\n",
    "print(\"total_sales:\", total_sales)\n",
    "total_turnover = transactions['turnover'].sum()\n",
    "print(\"total_turnover:\", total_turnover)\n",
    "average_price = transactions['item_price'].mean()\n",
    "print(\"average_price:\", average_price)"
   ]
  },
  {
   "cell_type": "markdown",
   "metadata": {},
   "source": [
    "#ITEM\n",
    "\n",
    "-UNITS\n",
    "item_units\n",
    "item_block_units\n",
    "item_mean_units_block\n",
    "item_day_units\n",
    "item_mean_units_day\n",
    "item_max_units_block\n",
    "item_min_units_block\n",
    "item_max_units_day\n",
    "item_min_units_day\n",
    "\n",
    "-TURNOVER\n",
    "item_turnover\n",
    "item_block_turnover\n",
    "item_mean_turnover_block\n",
    "item_day_turnover\n",
    "item_mean_turnover_day\n",
    "item_max_turnover_block\n",
    "item_min_turnover_block\n",
    "item_max_turnover_day\n",
    "item_min_turnover_day\n",
    "\n",
    "\n",
    "-TIME\n",
    "item_days_of_activity\n",
    "item_blocks_of_activity\n",
    "item_mean_day_between_activity\n",
    "item_longest_stretch_days_without_activity\n",
    "item_longest_stretch_blocks_without_activity\n",
    "item_longest_stretch_block_with_activity\n",
    "item_number_of_consecutive_days_with_activity\n",
    "item_days_between_start_and_first_activity\n",
    "item_blocks_between_start_and_first_activity\n",
    "item_first_block\n",
    "item_last_block\n",
    "item_first_day\n",
    "item_last_day\n",
    "item_activity_on_all_blocks\n",
    "\n",
    "\n",
    "-PRICE\n",
    "item_mean_price\n",
    "item_mean_price_block\n",
    "item_min_price\n",
    "item_max_price\n",
    "item_number_different_prices\n",
    "item_price_amplitude (%age min/max)\n",
    "item_deviation_mean_category_price\n",
    "\n",
    "\n",
    "-TREND\n",
    "is_first_two_full_blocks (actually second/third to make sure we have a \"full\" block if this was a new release !!!!\n",
    "is_last_two_blocks\n",
    "item_first_two_blocks_units\n",
    "item_last_two_blocks_units\n",
    "item_fluctuation_units_first_last_blocks\n",
    "item_first_two_blocks_mean_price\n",
    "item_last_two_blocks_mean_price\n",
    "item_fluctuation_price_first_last_blocks\n",
    "\n",
    "-ENCODINGS\n",
    "item_share_of_total_units\n",
    "item_share_of_total_gross\n",
    "item_share_of_category_units\n",
    "item_share_of_category_turnover"
   ]
  },
  {
   "cell_type": "code",
   "execution_count": 439,
   "metadata": {},
   "outputs": [],
   "source": [
    "gc.collect()\n",
    "transactions_items = transactions.copy()\n",
    "transactions_items_blocks = transactions.copy()"
   ]
  },
  {
   "cell_type": "code",
   "execution_count": 440,
   "metadata": {},
   "outputs": [],
   "source": [
    "transactions_items_blocks['item_block_units'] = transactions_items_blocks.groupby(['item_id','date_block_num'])['item_cnt_day'].transform(np.sum)\n",
    "transactions_items_blocks['item_block_turnover'] = transactions_items_blocks.groupby(['item_id','date_block_num'])['turnover'].transform(np.sum)\n",
    "transactions_items_blocks['item_mean_price_block'] = transactions_items_blocks.groupby(['item_id', 'date_block_num'])['item_price'].transform(np.mean)"
   ]
  },
  {
   "cell_type": "code",
   "execution_count": 443,
   "metadata": {},
   "outputs": [],
   "source": [
    "transactions_items['item_units'] = transactions_items.groupby(['item_id'])['item_cnt_day'].transform(np.sum)\n",
    "transactions_items['item_mean_units_block'] = transactions_items_blocks.groupby(['item_id'])['item_block_units'].transform(np.mean)\n",
    "transactions_items['item_day_units'] = transactions_items.groupby(['item_id','date'])['item_cnt_day'].transform(np.sum)\n",
    "transactions_items['item_mean_units_day'] = transactions_items.groupby(['item_id'])['item_day_units'].transform(np.mean)\n",
    "transactions_items['item_max_units_block'] = transactions_items_blocks.groupby(['item_id'])['item_block_units'].transform(np.max)\n",
    "transactions_items['item_min_units_block'] = transactions_items_blocks.groupby(['item_id'])['item_block_units'].transform(np.min)\n",
    "transactions_items['item_max_units_day'] = transactions_items.groupby(['item_id'])['item_day_units'].transform(np.max)\n",
    "transactions_items['item_min_units_day'] = transactions_items.groupby(['item_id'])['item_day_units'].transform(np.min)"
   ]
  },
  {
   "cell_type": "code",
   "execution_count": 444,
   "metadata": {},
   "outputs": [],
   "source": [
    "transactions_items['item_turnover'] = transactions_items.groupby(['item_id'])['turnover'].transform(np.sum)\n",
    "transactions_items['item_mean_turnover_block'] = transactions_items_blocks.groupby(['item_id'])['item_block_turnover'].transform(np.mean)\n",
    "transactions_items['item_day_turnover'] = transactions_items.groupby(['item_id','date'])['turnover'].transform(np.sum)\n",
    "transactions_items['item_mean_turnover_day'] = transactions_items.groupby(['item_id'])['turnover'].transform(np.mean)\n",
    "transactions_items['item_max_turnover_block'] = transactions_items_blocks.groupby(['item_id'])['item_block_turnover'].transform(np.max)\n",
    "transactions_items['item_min_turnover_block'] = transactions_items_blocks.groupby(['item_id'])['item_block_turnover'].transform(np.min)\n",
    "transactions_items['item_max_turnover_day'] = transactions_items.groupby(['item_id'])['item_day_turnover'].transform(np.max)\n",
    "transactions_items['item_min_turnover_day'] = transactions_items.groupby(['item_id'])['item_day_turnover'].transform(np.min)"
   ]
  },
  {
   "cell_type": "code",
   "execution_count": 445,
   "metadata": {},
   "outputs": [],
   "source": [
    "transactions_items['item_days_of_activity'] = transactions_items.groupby(['item_id'])['date'].transform(\"nunique\")\n",
    "transactions_items['item_blocks_of_activity'] = transactions_items.groupby(['item_id'])['date_block_num'].transform(\"nunique\")\n",
    "\n",
    "def get_number_of_days_since_start(day,month, year):\n",
    "    days = 0\n",
    "    if year == 2015:\n",
    "        days = 365\n",
    "    def is_even(num):\n",
    "        return num % 2 == 0\n",
    "    half_of_month = int(month/2)\n",
    "    even = (30*half_of_month) + (31*half_of_month)\n",
    "    if is_even(month):\n",
    "        days = days + even - 30 - day\n",
    "    else:\n",
    "        days = days + even + day\n",
    "    return days\n",
    "\n",
    "transactions_items['item_days_since_start'] = transactions_items.apply(lambda row: get_number_of_days_since_start(row['day'],row['month'], row['year']),axis=1)\n",
    "\n",
    "def get_average_days_between_sales(days):\n",
    "    days = sorted(np.unique(days))\n",
    "    if len(days) == 0:\n",
    "        return 9999\n",
    "    if len(days) == 1:\n",
    "        return 999\n",
    "    return np.mean(np.ediff1d(days)) / len(days)\n",
    "\n",
    "average_days_between_sales = transactions_items.groupby(['item_id'])['item_days_since_start'].apply(list).apply(lambda x: get_average_days_between_sales(x))\n",
    "\n",
    "transactions_items['item_mean_day_between_activity'] = transactions_items['item_id'].map(average_days_between_sales)\n",
    "\n",
    "\n",
    "def get_max_stretch_without_sales_days(days):\n",
    "    days = np.unique(days)\n",
    "    max_stretch = 0\n",
    "    len_days = len(days)\n",
    "    for index,day in enumerate(sorted(days)):\n",
    "        if index == len_days - 1:\n",
    "            return max_stretch\n",
    "        next_day = days[index+1]\n",
    "        stretch = next_day - day\n",
    "        if stretch > max_stretch:\n",
    "            max_stretch = stretch\n",
    "            \n",
    "\n",
    "        \n",
    "max_stretch_without_sales_day = transactions_items.groupby(['item_id'])['item_days_since_start'].apply(list).apply(lambda x: get_max_stretch_without_sales_days(x))\n",
    "\n",
    "transactions_items['item_longest_stretch_days_without_activity'] = transactions_items['item_id'].map(max_stretch_without_sales_day)"
   ]
  },
  {
   "cell_type": "code",
   "execution_count": 446,
   "metadata": {},
   "outputs": [],
   "source": [
    "gc.collect()\n",
    "\n",
    "def get_max_stretch_without_sales_block(blocks):\n",
    "    blocks = np.unique(blocks)\n",
    "    max_stretch = 0\n",
    "    len_blocks = len(blocks)\n",
    "    for index,block in enumerate(sorted(blocks)):\n",
    "        if index == len_blocks - 1:\n",
    "            return max_stretch\n",
    "        next_block = blocks[index+1]\n",
    "        stretch = next_block - block\n",
    "        if stretch > max_stretch:\n",
    "            max_stretch = stretch\n",
    "            \n",
    "\n",
    "        \n",
    "item_longest_stretch_blocks_without_activity = transactions_items.groupby(['item_id'])['date_block_num']\\\n",
    "                                    .apply(list).apply(lambda x: get_max_stretch_without_sales_block(x))\n",
    "\n",
    "transactions_items['item_longest_stretch_blocks_without_activity'] = transactions_items['item_id'].map(item_longest_stretch_blocks_without_activity)\n",
    "\n",
    "\n",
    "\n",
    "def get_longest_stretch(following_pairs, n=1,new_n=1):\n",
    "    #print(\"following_pairs\", following_pairs, \" n: \", n, \" new_n: \", new_n)\n",
    "    len_pairs = len(following_pairs)\n",
    "    if len_pairs == 0:\n",
    "        return 0\n",
    "    if len_pairs == 1:\n",
    "        if new_n > n:\n",
    "            return new_n\n",
    "        return n\n",
    "    if following_pairs[1][0] == following_pairs[0][1]:\n",
    "        new_n+=1\n",
    "    else:\n",
    "        if new_n > n:\n",
    "            n=new_n\n",
    "        new_n=1\n",
    "    return get_longest_stretch(following_pairs[1:], n,new_n)\n",
    "\n",
    "\n",
    "assert(get_longest_stretch([]) == 0)\n",
    "assert(get_longest_stretch([[1, 2], [2,3], [3, 4], [4,5] ,[8,9], [11, 12]]) == 4)\n",
    "assert(get_longest_stretch([[-1, 0],[1, 2], [2,3], [3, 4], [4,5] ,[8,9], [11, 12]]) == 4)\n",
    "assert(get_longest_stretch([[1, 2], [4,5] ,[8,9], [9,10],[10, 11]]) == 3)\n",
    "assert(get_longest_stretch([[1, 2], [4,5] ,[8,9], [9,10],[10, 11],[20, 21], [25,26]]) == 3)\n",
    "assert(get_longest_stretch([[1, 2], [4,5] ,[8,9], [9,10],[10, 11],[14, 15], [15,16]]) == 3)\n",
    "assert(get_longest_stretch([[1, 2], [4,5] ,[8,9], [9,10],[10, 11],[14, 15], [15,16],[18,19] ,[22,23], [23,24],[24, 25]]) == 3)\n",
    "assert(get_longest_stretch([[1, 2], [4,5], [7, 8]]) == 1)\n",
    "assert(get_longest_stretch([[1, 2], [5, 6], [6, 7], [7,8], [14, 15]]) == 3)\n",
    "assert(get_longest_stretch([[1, 2], [5, 6], [6, 7], [7,8], [14, 15], [15, 16]]) == 3)\n",
    "assert(get_longest_stretch([[1, 2], [5, 6], [6, 7], [7,8], [14, 15], [15, 16], [16, 17]]) == 3)\n",
    "assert(get_longest_stretch([[1, 2], [5, 6], [6, 7], [14, 15], [15, 16], [16, 17]]) == 3)\n",
    "assert(get_longest_stretch([[1, 2], [5, 6], [6, 7], [7,8], [14, 15], [20, 21], [21, 22], [22,23],[23,24]]) == 4)\n",
    "\n",
    "\n",
    "def get_following_pairs(pairs):\n",
    "    pairs = np.unique(pairs)\n",
    "    len_pairs = len(pairs)\n",
    "    following = []\n",
    "    for index,pair in enumerate(sorted(pairs)):\n",
    "        if index == len_pairs - 1:\n",
    "            return following\n",
    "        next_pair = pairs[index+1]\n",
    "        if next_pair == pair + 1:\n",
    "            following.append([pair, next_pair])\n",
    "        \n",
    "assert(get_following_pairs([1,2,5,6,7,8,9,11,12,15]) == [[1, 2], [5, 6], [6, 7], [7, 8], [8, 9], [11, 12]])\n",
    "assert(get_following_pairs([1,2,5,6,7,10]) == [[1, 2], [5, 6], [6, 7]])\n",
    "assert(get_following_pairs([1,2,4,5,7,9,10]) == [[1, 2], [4, 5], [9,10]])\n",
    "assert(get_following_pairs([1,2,4,5,7,9,10,11,12,15]) == [[1, 2], [4, 5], [9,10],[10,11],[11,12]])\n",
    "\n",
    "\n",
    "item_longest_stretch_block_with_activity = transactions_items.groupby(['item_id'])['date_block_num']\\\n",
    "                                    .apply(list).apply(lambda x: get_longest_stretch(get_following_pairs(x)))\n",
    "\n",
    "transactions_items['item_longest_stretch_block_with_activity'] = transactions_items['item_id'].map(item_longest_stretch_block_with_activity)\n",
    "\n",
    "\n",
    "item_number_of_consecutive_days_with_activity = transactions_items.groupby(['item_id'])['item_days_since_start']\\\n",
    "                                    .apply(list).apply(lambda x: len(get_following_pairs(x)))\n",
    "    \n",
    "transactions_items['item_number_of_consecutive_days_with_activity'] = transactions_items['item_id'].map(item_number_of_consecutive_days_with_activity)"
   ]
  },
  {
   "cell_type": "code",
   "execution_count": 447,
   "metadata": {},
   "outputs": [],
   "source": [
    "def get_units_between_first_and_last(units):\n",
    "    return np.max(units) - np.min(units)\n",
    "\n",
    "item_days_between_start_and_first_activity = transactions_items.groupby(['item_id'])['item_days_since_start'].apply(list).apply(lambda x: get_units_between_first_and_last(x))\n",
    "transactions_items['item_days_between_start_and_first_activity'] = transactions_items['item_id'].map(item_days_between_start_and_first_activity)\n",
    "\n",
    "item_blocks_between_start_and_first_activity = transactions_items.groupby(['item_id'])['date_block_num'].apply(list).apply(lambda x: get_units_between_first_and_last(x))\n",
    "transactions_items['item_blocks_between_start_and_first_activity'] = transactions_items['item_id'].map(item_blocks_between_start_and_first_activity)"
   ]
  },
  {
   "cell_type": "code",
   "execution_count": 448,
   "metadata": {},
   "outputs": [],
   "source": [
    "\n",
    "transactions_items['item_first_day'] = transactions_items.groupby('item_id')['item_days_since_start'].transform(np.min)\n",
    "transactions_items['item_last_day'] = transactions_items.groupby('item_id')['item_days_since_start'].transform(np.max)\n",
    "\n",
    "item_activity_on_all_blocks = transactions_items.groupby('item_id')['date_block_num'].nunique().apply(lambda x: x==number_of_blocks)\n",
    "transactions_items['item_activity_on_all_blocks'] = transactions_items['item_id'].map(item_activity_on_all_blocks)"
   ]
  },
  {
   "cell_type": "code",
   "execution_count": 449,
   "metadata": {},
   "outputs": [],
   "source": [
    "transactions_items['item_mean_price'] = transactions_items.groupby('item_id')['item_price'].transform(np.mean)\n",
    "transactions_items['item_min_price'] = transactions_items.groupby('item_id')['item_price'].transform(np.min)\n",
    "transactions_items['item_max_price'] = transactions_items.groupby('item_id')['item_price'].transform(np.max)\n",
    "transactions_items['item_number_different_prices'] = transactions_items.groupby('item_id')['item_price'].transform('nunique')\n",
    "transactions_items['item_price_amplitude'] = ((transactions_items['item_max_price'] - transactions_items['item_min_price'] ) / transactions_items['item_min_price']) * 100\n",
    "transactions_items['category_mean_price'] = transactions_items.groupby('item_category_id')['item_price'].transform(np.mean)\n",
    "transactions_items['item_deviation_mean_category_price'] =  ((transactions_items['item_mean_price'] - transactions_items['category_mean_price'] ) / transactions_items['category_mean_price']) * 100"
   ]
  },
  {
   "cell_type": "code",
   "execution_count": 450,
   "metadata": {},
   "outputs": [],
   "source": [
    "item_first_two_blocks_units = transactions_items.groupby(['item_id','is_first_two_blocks'], as_index=False)['item_cnt_day'].sum()\n",
    "item_first_two_blocks_units = item_first_two_blocks_units[item_first_two_blocks_units['is_first_two_blocks'] == True].set_index('item_id').iloc[:,1]\n",
    "transactions_items['item_first_two_blocks_units'] = transactions_items['item_id'].map(item_first_two_blocks_units)\n",
    "\n",
    "item_last_two_blocks_units = transactions_items.groupby(['item_id','is_last_two_blocks'], as_index=False)['item_cnt_day'].sum()\n",
    "item_last_two_blocks_units = item_last_two_blocks_units[item_last_two_blocks_units['is_last_two_blocks'] == True].set_index('item_id').iloc[:,1]\n",
    "transactions_items['item_last_two_blocks_units'] = transactions_items['item_id'].map(item_last_two_blocks_units)\n",
    "\n",
    "transactions_items['item_fluctuation_units_first_last_blocks'] =  ((transactions_items['item_first_two_blocks_units'] - transactions_items['item_last_two_blocks_units'] ) / \\\n",
    "                                                             transactions_items['item_first_two_blocks_units']) * 100 * -1\n",
    "\n",
    "\n",
    "item_first_two_blocks_mean_price = transactions_items.groupby(['item_id','is_first_two_blocks'], as_index=False)['item_price'].mean()\n",
    "item_first_two_blocks_mean_price = item_first_two_blocks_mean_price[item_first_two_blocks_mean_price['is_first_two_blocks'] == True].set_index('item_id').iloc[:,1]\n",
    "transactions_items['item_first_two_blocks_mean_price'] = transactions_items['item_id'].map(item_first_two_blocks_mean_price)\n",
    "\n",
    "item_last_two_blocks_mean_price = transactions_items.groupby(['item_id','is_last_two_blocks'], as_index=False)['item_price'].mean()\n",
    "item_last_two_blocks_mean_price = item_last_two_blocks_mean_price[item_last_two_blocks_mean_price['is_last_two_blocks'] == True].set_index('item_id').iloc[:,1]\n",
    "transactions_items['item_last_two_blocks_mean_price'] = transactions_items['item_id'].map(item_last_two_blocks_mean_price)\n",
    "\n",
    "transactions_items['item_fluctuation_price_first_last_blocks'] =  ((transactions_items['item_first_two_blocks_mean_price'] - transactions_items['item_last_two_blocks_mean_price'] ) / \\\n",
    "                                                             transactions_items['item_first_two_blocks_mean_price'])  * 100 * -1"
   ]
  },
  {
   "cell_type": "code",
   "execution_count": 451,
   "metadata": {},
   "outputs": [],
   "source": [
    "transactions_items['item_share_of_total_units'] = transactions_items['item_units'] * 100 / total_sales \n",
    "\n",
    "transactions_items['item_share_of_total_turnover'] = transactions_items['item_turnover'] * 100 / total_turnover\n",
    "\n",
    "transactions_items['category_units'] = transactions_items.groupby('item_category_id')['item_cnt_day'].transform(np.sum)\n",
    "transactions_items['item_share_of_category_units'] = transactions_items['item_units'] * 100 / transactions_items['category_units']\n",
    "\n",
    "transactions_items['category_turnover'] = transactions_items.groupby('item_category_id')['turnover'].transform(np.sum)\n",
    "transactions_items['item_share_of_category_turnover'] = transactions_items['item_turnover'] * 100 / transactions_items['category_turnover']\n"
   ]
  },
  {
   "cell_type": "markdown",
   "metadata": {},
   "source": [
    "#CATEGORY\n",
    "\n",
    "-UNITS\n",
    "category_units\n",
    "category_block_units\n",
    "category_mean_units_block\n",
    "category_day_units\n",
    "category_mean_units_day\n",
    "category_max_units_block\n",
    "category_min_units_block\n",
    "category_max_units_day\n",
    "category_min_units_day\n",
    "\n",
    "-TURNOVER\n",
    "category_turnover\n",
    "category_block_turnover\n",
    "category_mean_turnover_block\n",
    "category_day_turnover\n",
    "category_mean_turnover_day\n",
    "category_max_turnover_block\n",
    "category_min_turnover_block\n",
    "category_max_turnover_day\n",
    "category_min_turnover_day\n",
    "\n",
    "\n",
    "-PRICE\n",
    "category_mean_price\n",
    "category_mean_price_block\n",
    "category_min_price\n",
    "category_max_price\n",
    "\n",
    "\n",
    "-TREND\n",
    "category_first_two_blocks_units\n",
    "category_last_two_blocks_units\n",
    "category_fluctuation_units_first_last_blocks\n",
    "category_first_two_blocks_mean_price\n",
    "category_last_two_blocks_mean_price\n",
    "category_fluctuation_price_first_last_blocks\n",
    "\n",
    "-SUBCATEGORY\n",
    "subcategory\n",
    "subcategory 1hot\n",
    "\n",
    "-UNITS\n",
    "subcategory_units\n",
    "subcategory_block_units\n",
    "subcategory_mean_units_block\n",
    "subcategory_day_units\n",
    "subcategory_mean_units_day\n",
    "subcategory_max_units_block\n",
    "subcategory_min_units_block\n",
    "subcategory_max_units_day\n",
    "subcategory_min_units_day\n",
    "\n",
    "-TURNOVER\n",
    "subcategory_turnover\n",
    "subcategory_block_turnover\n",
    "subcategory_mean_turnover_block\n",
    "subcategory_day_turnover\n",
    "subcategory_mean_turnover_day\n",
    "subcategory_max_turnover_block\n",
    "subcategory_min_turnover_block\n",
    "subcategory_max_turnover_day\n",
    "subcategory_min_turnover_day\n",
    "\n",
    "-ENCODINGS\n",
    "category_share_of_total_units\n",
    "category_share_of_total_gross\n",
    "subcategory_share_of_total_units\n",
    "subcategory_share_of_total_gross\n",
    "\n",
    "-TREND\n",
    "subcategory_first_two_blocks_units\n",
    "subcategory_last_two_blocks_units\n",
    "subcategory_fluctuation_units_first_last_blocks\n",
    "subcategory_first_two_blocks_mean_price\n",
    "subcategory_last_two_blocks_mean_price\n",
    "subcategory_fluctuation_price_first_last_blocks"
   ]
  },
  {
   "cell_type": "code",
   "execution_count": 452,
   "metadata": {},
   "outputs": [],
   "source": [
    "gc.collect()\n",
    "transactions_categories = transactions.copy()\n",
    "transactions_categories_blocks = transactions.copy()"
   ]
  },
  {
   "cell_type": "code",
   "execution_count": 453,
   "metadata": {},
   "outputs": [],
   "source": [
    "transactions_categories_blocks['category_block_units'] = transactions_categories_blocks.groupby(['item_category_id','date_block_num'])['item_cnt_day'].transform(np.sum)\n",
    "transactions_categories_blocks['category_block_turnover'] = transactions_categories_blocks.groupby(['item_category_id','date_block_num'])['turnover'].transform(np.sum)\n",
    "transactions_categories_blocks['category_mean_price_block'] = transactions_categories_blocks.groupby(['item_category_id', 'date_block_num'])['item_price'].transform(np.mean)\n"
   ]
  },
  {
   "cell_type": "code",
   "execution_count": 454,
   "metadata": {},
   "outputs": [],
   "source": [
    "transactions_categories['category_units'] = transactions_categories.groupby(['item_category_id'])['item_cnt_day'].transform(np.sum)\n",
    "transactions_categories['category_mean_units_block'] = transactions_categories_blocks.groupby(['item_category_id'])['category_block_units'].transform(np.mean)\n",
    "transactions_categories['category_day_units'] = transactions_categories.groupby(['item_category_id','date'])['item_cnt_day'].transform(np.sum)\n",
    "transactions_categories['category_mean_units_day'] = transactions_categories.groupby(['item_category_id'])['category_day_units'].transform(np.mean)\n",
    "transactions_categories['category_max_units_block'] = transactions_categories_blocks.groupby(['item_category_id'])['category_block_units'].transform(np.max)\n",
    "transactions_categories['category_min_units_block'] = transactions_categories_blocks.groupby(['item_category_id'])['category_block_units'].transform(np.min)\n",
    "transactions_categories['category_max_units_day'] = transactions_categories.groupby(['item_category_id'])['category_day_units'].transform(np.max)\n",
    "transactions_categories['category_min_units_day'] = transactions_categories.groupby(['item_category_id'])['category_day_units'].transform(np.min)"
   ]
  },
  {
   "cell_type": "code",
   "execution_count": 455,
   "metadata": {},
   "outputs": [],
   "source": [
    "transactions_categories['category_turnover'] = transactions_categories.groupby(['item_category_id'])['turnover'].transform(np.sum)\n",
    "transactions_categories['category_mean_turnover_block'] = transactions_categories_blocks.groupby(['item_category_id'])['category_block_turnover'].transform(np.mean)\n",
    "transactions_categories['category_day_turnover'] = transactions_categories.groupby(['item_category_id','date'])['turnover'].transform(np.sum)\n",
    "transactions_categories['category_mean_turnover_day'] = transactions_categories.groupby(['item_category_id'])['category_day_turnover'].transform(np.mean)\n",
    "transactions_categories['category_max_turnover_block'] = transactions_categories_blocks.groupby(['item_category_id'])['category_block_turnover'].transform(np.max)\n",
    "transactions_categories['category_min_turnover_block'] = transactions_categories_blocks.groupby(['item_category_id'])['category_block_turnover'].transform(np.min)\n",
    "transactions_categories['category_max_turnover_day'] = transactions_categories.groupby(['item_category_id'])['category_day_turnover'].transform(np.max)\n",
    "transactions_categories['category_min_turnover_day'] = transactions_categories.groupby(['item_category_id'])['category_day_turnover'].transform(np.min)"
   ]
  },
  {
   "cell_type": "code",
   "execution_count": 456,
   "metadata": {},
   "outputs": [],
   "source": [
    "transactions_categories['category_mean_price'] = transactions_categories.groupby('item_category_id')['item_price'].transform(np.mean)\n",
    "transactions_categories['category_min_price'] = transactions_categories.groupby('item_category_id')['item_price'].transform(np.min)\n",
    "transactions_categories['category_max_price'] = transactions_categories.groupby('item_category_id')['item_price'].transform(np.max)"
   ]
  },
  {
   "cell_type": "code",
   "execution_count": 457,
   "metadata": {},
   "outputs": [],
   "source": [
    "category_first_two_blocks_units = transactions_categories.groupby(['item_category_id','is_first_two_blocks'], as_index=False)['item_cnt_day'].sum()\n",
    "category_first_two_blocks_units = category_first_two_blocks_units[category_first_two_blocks_units['is_first_two_blocks'] == True].set_index('item_category_id').iloc[:,1]\n",
    "transactions_categories['category_first_two_blocks_units'] = transactions_categories['item_category_id'].map(category_first_two_blocks_units)\n",
    "\n",
    "category_last_two_blocks_units = transactions_categories.groupby(['item_category_id','is_last_two_blocks'], as_index=False)['item_cnt_day'].sum()\n",
    "category_last_two_blocks_units = category_last_two_blocks_units[category_last_two_blocks_units['is_last_two_blocks'] == True].set_index('item_category_id').iloc[:,1]\n",
    "transactions_categories['category_last_two_blocks_units'] = transactions_categories['item_category_id'].map(category_last_two_blocks_units)\n",
    "\n",
    "transactions_categories['category_fluctuation_units_first_last_blocks'] =  ((transactions_categories['category_first_two_blocks_units'] - transactions_categories['category_last_two_blocks_units'] ) / \\\n",
    "                                                             transactions_categories['category_first_two_blocks_units']) * 100 * -1\n",
    "\n",
    "\n",
    "category_first_two_blocks_mean_price = transactions_categories.groupby(['item_category_id','is_first_two_blocks'], as_index=False)['item_price'].mean()\n",
    "category_first_two_blocks_mean_price = category_first_two_blocks_mean_price[category_first_two_blocks_mean_price['is_first_two_blocks'] == True].set_index('item_category_id').iloc[:,1]\n",
    "transactions_categories['category_first_two_blocks_mean_price'] = transactions_categories['item_category_id'].map(category_first_two_blocks_mean_price)\n",
    "\n",
    "category_last_two_blocks_mean_price = transactions_categories.groupby(['item_category_id','is_last_two_blocks'], as_index=False)['item_price'].mean()\n",
    "category_last_two_blocks_mean_price = category_last_two_blocks_mean_price[category_last_two_blocks_mean_price['is_last_two_blocks'] == True].set_index('item_category_id').iloc[:,1]\n",
    "transactions_categories['category_last_two_blocks_mean_price'] = transactions_categories['item_category_id'].map(category_last_two_blocks_mean_price)\n",
    "\n",
    "transactions_categories['category_fluctuation_price_first_last_blocks'] =  ((transactions_categories['category_first_two_blocks_mean_price'] - transactions_categories['category_last_two_blocks_mean_price'] ) / \\\n",
    "                                                             transactions_categories['category_first_two_blocks_mean_price'])  * 100 * -1"
   ]
  },
  {
   "cell_type": "code",
   "execution_count": 458,
   "metadata": {},
   "outputs": [],
   "source": [
    "sub_cats = {}\n",
    "for i in range(1,8):\n",
    "    sub_cats[i] = \"Accessories\"\n",
    "sub_cats[8] = \"Tickets\"\n",
    "sub_cats[9] = \"Delivery of goods\"\n",
    "for i in range(10,18):\n",
    "    sub_cats[i] = \"Consoles\"\n",
    "for i in range(18,25):\n",
    "    sub_cats[i] = \"Game for Consoles\"\n",
    "sub_cats[25] = \"Accessories for Games\"\n",
    "sub_cats[26] = \"Android Games\"\n",
    "sub_cats[27] = \"MAC Games\"\n",
    "for i in range(28,32):\n",
    "    sub_cats[i] = \"PC Games\"\n",
    "for i in range(32,37):\n",
    "    sub_cats[i] = \"Payment Cards\"\n",
    "for i in range(37,40):\n",
    "    sub_cats[i] = \"Cinema - Blu-ray\"\n",
    "sub_cats[40] = \"Cinema - DVD\"\n",
    "sub_cats[41] = \"Cinema - Collectible\"\n",
    "for i in range(42,46):\n",
    "    sub_cats[i] = \"Audiobooks\"\n",
    "for i in range(46,55):\n",
    "    sub_cats[i] = \"Books\"\n",
    "for i in range(55,57):\n",
    "    sub_cats[i] = \"Music - CD\"\n",
    "sub_cats[57] = \"Music - MP3\"\n",
    "sub_cats[58] = \"Music - Vinyl\"\n",
    "sub_cats[59] = \"Music - Music Video\"\n",
    "sub_cats[60] = \"Music - Gift Edition\"\n",
    "for i in range(61,74):\n",
    "    sub_cats[i] = \"Gifts\"\n",
    "for i in range(73,79):\n",
    "    sub_cats[i] = \"Software\"\n",
    "sub_cats[79] = \"Utility\"\n",
    "for i in range(80,84):\n",
    "    sub_cats[i] = \"Misc\"\n",
    "    \n",
    "    \n",
    "transactions_categories['subcategory'] = transactions_categories['item_category_id'].apply(lambda x: sub_cats[x])\n",
    "\n",
    "transactions_categories['video_game'] = transactions_categories[\"item_category_id\"].isin(list(range(18,32)))\n",
    "transactions_categories['gaming_old_gen'] = transactions_categories[\"item_category_id\"].isin([10,11,15,18,19,23])\n",
    "transactions_categories['gaming_new_gen'] = transactions_categories[\"item_category_id\"].isin([12,14,16,20,22,24])\n",
    "transactions_categories['pc_games'] = transactions_categories[\"item_category_id\"].isin(list(range(27,32)))\n",
    "transactions_categories['payment_cards'] = transactions_categories[\"item_category_id\"].isin(list(range(32,37)))\n",
    "transactions_categories['movies'] = transactions_categories[\"item_category_id\"].isin(list(range(37,42)))\n",
    "transactions_categories['movies_niche'] = transactions_categories[\"item_category_id\"].isin([38,39])\n",
    "transactions_categories['books'] = transactions_categories[\"item_category_id\"].isin([42,55])\n",
    "transactions_categories['music'] = transactions_categories[\"item_category_id\"].isin(list(range(55,61)))\n",
    "transactions_categories['music_CD'] = transactions_categories[\"item_category_id\"].isin([55,56])\n",
    "transactions_categories['music_vinyl'] = transactions_categories[\"item_category_id\"].isin([58])\n",
    "transactions_categories['gifts'] = transactions_categories[\"item_category_id\"].isin(list(range(61,72)))\n",
    "transactions_categories['software'] = transactions_categories[\"item_category_id\"].isin(list(range(73,79)))"
   ]
  },
  {
   "cell_type": "code",
   "execution_count": 459,
   "metadata": {},
   "outputs": [],
   "source": [
    "transactions_categories['subcategory_units'] = transactions_categories.groupby(['subcategory'])['item_cnt_day'].transform(np.sum)\n",
    "transactions_categories['subcategory_block_units'] = transactions_categories.groupby(['subcategory','date_block_num'])['item_cnt_day'].transform(np.sum)\n",
    "transactions_categories['subcategory_mean_units_block'] = transactions_categories.groupby(['subcategory'])['subcategory_block_units'].transform(np.mean)\n",
    "transactions_categories['subcategory_day_units'] = transactions_categories.groupby(['subcategory','date'])['item_cnt_day'].transform(np.sum)\n",
    "transactions_categories['subcategory_mean_units_day'] = transactions_categories.groupby(['subcategory'])['subcategory_day_units'].transform(np.mean)\n",
    "transactions_categories['subcategory_max_units_block'] = transactions_categories.groupby(['subcategory'])['subcategory_block_units'].transform(np.max)\n",
    "transactions_categories['subcategory_min_units_block'] = transactions_categories.groupby(['subcategory'])['subcategory_block_units'].transform(np.min)\n",
    "transactions_categories['subcategory_max_units_day'] = transactions_categories.groupby(['subcategory'])['subcategory_day_units'].transform(np.max)\n",
    "transactions_categories['subcategory_min_units_day'] = transactions_categories.groupby(['subcategory'])['subcategory_day_units'].transform(np.min)"
   ]
  },
  {
   "cell_type": "code",
   "execution_count": 460,
   "metadata": {},
   "outputs": [],
   "source": [
    "transactions_categories['subcategory_turnover'] = transactions_categories.groupby(['subcategory'])['turnover'].transform(np.sum)\n",
    "transactions_categories['subcategory_block_turnover'] = transactions_categories.groupby(['subcategory','date_block_num'])['turnover'].transform(np.sum)\n",
    "transactions_categories['subcategory_mean_turnover_block'] = transactions_categories.groupby(['subcategory'])['subcategory_block_turnover'].transform(np.mean)\n",
    "transactions_categories['subcategory_day_turnover'] = transactions_categories.groupby(['subcategory','date'])['turnover'].transform(np.sum)\n",
    "transactions_categories['subcategory_mean_turnover_day'] = transactions_categories.groupby(['subcategory'])['subcategory_day_turnover'].transform(np.mean)\n",
    "transactions_categories['subcategory_max_turnover_block'] = transactions_categories.groupby(['subcategory'])['subcategory_block_turnover'].transform(np.max)\n",
    "transactions_categories['subcategory_min_turnover_block'] = transactions_categories.groupby(['subcategory'])['subcategory_block_turnover'].transform(np.min)\n",
    "transactions_categories['subcategory_max_turnover_day'] = transactions_categories.groupby(['subcategory'])['subcategory_day_turnover'].transform(np.max)\n",
    "transactions_categories['subcategory_min_turnover_day'] = transactions_categories.groupby(['subcategory'])['subcategory_day_turnover'].transform(np.min)"
   ]
  },
  {
   "cell_type": "code",
   "execution_count": 461,
   "metadata": {},
   "outputs": [],
   "source": [
    "transactions_categories['category_share_of_total_units'] = transactions_categories['category_units'] * 100 / total_sales \n",
    "transactions_categories['category_share_of_total_turnover'] = transactions_categories['category_turnover']* 100 / total_turnover\n",
    "\n",
    "transactions_categories['subcategory_units'] = transactions_categories.groupby(\"subcategory\")['item_cnt_day'].transform(np.sum)\n",
    "transactions_categories['subcategory_share_of_total_units'] = transactions_categories['subcategory_units'] * 100 / total_sales\n",
    "transactions_categories['subcategory_turnover'] = transactions_categories.groupby(\"subcategory\")['turnover'].transform(np.sum)\n",
    "transactions_categories['subcategory_share_of_total_turnover'] = transactions_categories['subcategory_turnover']* 100 / total_turnover"
   ]
  },
  {
   "cell_type": "code",
   "execution_count": 462,
   "metadata": {},
   "outputs": [],
   "source": [
    "subcategory_first_two_blocks_units = transactions_categories.groupby(['subcategory','is_first_two_blocks'], as_index=False)['item_cnt_day'].sum()\n",
    "subcategory_first_two_blocks_units = subcategory_first_two_blocks_units[subcategory_first_two_blocks_units['is_first_two_blocks'] == True].set_index('subcategory').iloc[:,1]\n",
    "transactions_categories['subcategory_first_two_blocks_units'] = transactions_categories['subcategory'].map(subcategory_first_two_blocks_units)\n",
    "\n",
    "subcategory_last_two_blocks_units = transactions_categories.groupby(['subcategory','is_last_two_blocks'], as_index=False)['item_cnt_day'].sum()\n",
    "subcategory_last_two_blocks_units = subcategory_last_two_blocks_units[subcategory_last_two_blocks_units['is_last_two_blocks'] == True].set_index('subcategory').iloc[:,1]\n",
    "transactions_categories['subcategory_last_two_blocks_units'] = transactions_categories['subcategory'].map(subcategory_last_two_blocks_units)\n",
    "\n",
    "transactions_categories['subcategory_fluctuation_units_first_last_blocks'] =  ((transactions_categories['subcategory_first_two_blocks_units'] - transactions_categories['subcategory_last_two_blocks_units'] ) / \\\n",
    "                                                             transactions_categories['subcategory_first_two_blocks_units']) * 100 * -1\n",
    "\n",
    "\n",
    "subcategory_first_two_blocks_mean_price = transactions_categories.groupby(['subcategory','is_first_two_blocks'], as_index=False)['item_price'].mean()\n",
    "subcategory_first_two_blocks_mean_price = subcategory_first_two_blocks_mean_price[subcategory_first_two_blocks_mean_price['is_first_two_blocks'] == True].set_index('subcategory').iloc[:,1]\n",
    "transactions_categories['subcategory_first_two_blocks_mean_price'] = transactions_categories['subcategory'].map(subcategory_first_two_blocks_mean_price)\n",
    "\n",
    "subcategory_last_two_blocks_mean_price = transactions_categories.groupby(['subcategory','is_last_two_blocks'], as_index=False)['item_price'].mean()\n",
    "subcategory_last_two_blocks_mean_price = subcategory_last_two_blocks_mean_price[subcategory_last_two_blocks_mean_price['is_last_two_blocks'] == True].set_index('subcategory').iloc[:,1]\n",
    "transactions_categories['subcategory_last_two_blocks_mean_price'] = transactions_categories['subcategory'].map(subcategory_last_two_blocks_mean_price)\n",
    "\n",
    "transactions_categories['subcategory_fluctuation_price_first_last_blocks'] =  ((transactions_categories['subcategory_first_two_blocks_mean_price'] - transactions_categories['subcategory_last_two_blocks_mean_price'] ) / \\\n",
    "                                                             transactions_categories['subcategory_first_two_blocks_mean_price'])  * 100 * -1"
   ]
  },
  {
   "cell_type": "markdown",
   "metadata": {},
   "source": [
    "#SHOP\n",
    "\n",
    "-UNITS\n",
    "shop_units\n",
    "shop_block_units\n",
    "shop_mean_units_block\n",
    "shop_day_units\n",
    "shop_mean_units_day\n",
    "shop_max_units_block\n",
    "shop_min_units_block\n",
    "shop_max_units_day\n",
    "shop_min_units_day\n",
    "\n",
    "-TURNOVER\n",
    "shop_turnover\n",
    "shop_block_turnover\n",
    "shop_mean_turnover_block\n",
    "shop_day_turnover\n",
    "shop_mean_turnover_day\n",
    "shop_max_turnover_block\n",
    "shop_min_turnover_block\n",
    "shop_max_turnover_day\n",
    "shop_min_turnover_day\n",
    "\n",
    "-PRICE\n",
    "shop_mean_price\n",
    "shop_mean_price_block\n",
    "\n",
    "\n",
    "-TREND\n",
    "shop_first_two_blocks_units\n",
    "shop_last_two_blocks_units\n",
    "shop_fluctuation_units_first_last_blocks\n",
    "shop_first_two_blocks_mean_price\n",
    "shop_last_two_blocks_mean_price\n",
    "shop_fluctuation_price_first_last_blocks\n",
    "\n",
    "-ENCODINGS\n",
    "shop_share_of_total_units\n",
    "shop_share_of_total_gross\n",
    "\n",
    "-MISC\n",
    "shop_ids_TC\n",
    "shop_ids_TRK\n",
    "shop_ids_SEC\n",
    "shop_ids_shopping_center\n",
    "shop_ids_moscow\n",
    "\n",
    "-CATEGORY\n",
    "shop_top_category_units\n",
    "shop_top_category_turnover\n",
    "shop_top_subcategory_units\n",
    "shop_top_subcategory_turnover"
   ]
  },
  {
   "cell_type": "code",
   "execution_count": 463,
   "metadata": {},
   "outputs": [],
   "source": [
    "gc.collect()\n",
    "transactions_shops = transactions.copy()\n",
    "transactions_shops_blocks = transactions.copy()"
   ]
  },
  {
   "cell_type": "code",
   "execution_count": 464,
   "metadata": {},
   "outputs": [],
   "source": [
    "transactions_shops_blocks['shop_block_units'] = transactions_shops_blocks.groupby(['shop_id','date_block_num'])['item_cnt_day'].transform(np.sum)\n",
    "transactions_shops_blocks['shop_block_turnover'] = transactions_shops_blocks.groupby(['shop_id','date_block_num'])['turnover'].transform(np.sum)\n",
    "transactions_shops_blocks['shop_mean_price_block'] = transactions_shops_blocks.groupby(['shop_id', 'date_block_num'])['item_price'].transform(np.mean)"
   ]
  },
  {
   "cell_type": "code",
   "execution_count": 465,
   "metadata": {},
   "outputs": [],
   "source": [
    "transactions_shops['shop_units'] = transactions_shops.groupby(['shop_id'])['item_cnt_day'].transform(np.sum)\n",
    "transactions_shops['shop_mean_units_block'] = transactions_shops_blocks.groupby(['shop_id'])['shop_block_units'].transform(np.mean)\n",
    "transactions_shops['shop_day_units'] = transactions_shops.groupby(['shop_id','date'])['item_cnt_day'].transform(np.sum)\n",
    "transactions_shops['shop_mean_units_day'] = transactions_shops.groupby(['shop_id'])['shop_day_units'].transform(np.mean)\n",
    "transactions_shops['shop_max_units_block'] = transactions_shops_blocks.groupby(['shop_id'])['shop_block_units'].transform(np.max)\n",
    "transactions_shops['shop_min_units_block'] = transactions_shops_blocks.groupby(['shop_id'])['shop_block_units'].transform(np.min)\n",
    "transactions_shops['shop_max_units_day'] = transactions_shops.groupby(['shop_id'])['shop_day_units'].transform(np.max)\n",
    "transactions_shops['shop_min_units_day'] = transactions_shops.groupby(['shop_id'])['shop_day_units'].transform(np.min)"
   ]
  },
  {
   "cell_type": "code",
   "execution_count": 466,
   "metadata": {},
   "outputs": [],
   "source": [
    "transactions_shops['shop_turnover'] = transactions_shops.groupby(['shop_id'])['turnover'].transform(np.sum)\n",
    "transactions_shops['shop_mean_turnover_block'] = transactions_shops_blocks.groupby(['shop_id'])['shop_block_turnover'].transform(np.mean)\n",
    "transactions_shops['shop_day_turnover'] = transactions_shops.groupby(['shop_id','date'])['turnover'].transform(np.sum)\n",
    "transactions_shops['shop_mean_turnover_day'] = transactions_shops.groupby(['shop_id'])['shop_day_turnover'].transform(np.mean)\n",
    "transactions_shops['shop_max_turnover_block'] = transactions_shops_blocks.groupby(['shop_id'])['shop_block_turnover'].transform(np.max)\n",
    "transactions_shops['shop_min_turnover_block'] = transactions_shops_blocks.groupby(['shop_id'])['shop_block_turnover'].transform(np.min)\n",
    "transactions_shops['shop_max_turnover_day'] = transactions_shops.groupby(['shop_id'])['shop_day_turnover'].transform(np.max)\n",
    "transactions_shops['shop_min_turnover_day'] = transactions_shops.groupby(['shop_id'])['shop_day_turnover'].transform(np.min)"
   ]
  },
  {
   "cell_type": "code",
   "execution_count": 467,
   "metadata": {},
   "outputs": [],
   "source": [
    "transactions_shops['shop_mean_price'] = transactions_shops.groupby('shop_id')['item_price'].transform(np.mean)\n"
   ]
  },
  {
   "cell_type": "code",
   "execution_count": 468,
   "metadata": {},
   "outputs": [],
   "source": [
    "shop_first_two_blocks_units = transactions_shops.groupby(['shop_id','is_first_two_blocks'], as_index=False)['item_cnt_day'].sum()\n",
    "shop_first_two_blocks_units = shop_first_two_blocks_units[shop_first_two_blocks_units['is_first_two_blocks'] == True].set_index('shop_id').iloc[:,1]\n",
    "transactions_shops['shop_first_two_blocks_units'] = transactions_shops['shop_id'].map(shop_first_two_blocks_units)\n",
    "\n",
    "shop_last_two_blocks_units = transactions_shops.groupby(['shop_id','is_last_two_blocks'], as_index=False)['item_cnt_day'].sum()\n",
    "shop_last_two_blocks_units = shop_last_two_blocks_units[shop_last_two_blocks_units['is_last_two_blocks'] == True].set_index('shop_id').iloc[:,1]\n",
    "transactions_shops['shop_last_two_blocks_units'] = transactions_shops['shop_id'].map(shop_last_two_blocks_units)\n",
    "\n",
    "transactions_shops['shop_fluctuation_units_first_last_blocks'] =  ((transactions_shops['shop_first_two_blocks_units'] - transactions_shops['shop_last_two_blocks_units'] ) / \\\n",
    "                                                             transactions_shops['shop_first_two_blocks_units']) * 100 * -1\n",
    "\n",
    "\n",
    "shop_first_two_blocks_mean_price = transactions_shops.groupby(['shop_id','is_first_two_blocks'], as_index=False)['item_price'].mean()\n",
    "shop_first_two_blocks_mean_price = shop_first_two_blocks_mean_price[shop_first_two_blocks_mean_price['is_first_two_blocks'] == True].set_index('shop_id').iloc[:,1]\n",
    "transactions_shops['shop_first_two_blocks_mean_price'] = transactions_shops['shop_id'].map(shop_first_two_blocks_mean_price)\n",
    "\n",
    "shop_last_two_blocks_mean_price = transactions_shops.groupby(['shop_id','is_last_two_blocks'], as_index=False)['item_price'].mean()\n",
    "shop_last_two_blocks_mean_price = shop_last_two_blocks_mean_price[shop_last_two_blocks_mean_price['is_last_two_blocks'] == True].set_index('shop_id').iloc[:,1]\n",
    "transactions_shops['shop_last_two_blocks_mean_price'] = transactions_shops['shop_id'].map(shop_last_two_blocks_mean_price)\n",
    "\n",
    "transactions_shops['shop_fluctuation_price_first_last_blocks'] =  ((transactions_shops['shop_first_two_blocks_mean_price'] - transactions_shops['shop_last_two_blocks_mean_price'] ) / \\\n",
    "                                                             transactions_shops['shop_first_two_blocks_mean_price'])  * 100 * -1"
   ]
  },
  {
   "cell_type": "code",
   "execution_count": 469,
   "metadata": {},
   "outputs": [],
   "source": [
    "transactions_shops['shop_share_of_units'] = transactions_shops['shop_units'] * 100 / total_sales\n",
    "transactions_shops['shop_share_of_turnover'] = transactions_shops['shop_turnover'] * 100 / total_turnover"
   ]
  },
  {
   "cell_type": "code",
   "execution_count": 470,
   "metadata": {},
   "outputs": [],
   "source": [
    "shop_ids_TC = [1,2,13,14,16,23,24,26,28,31,37,38,42,43,44,46,50,54,58]\n",
    "shop_ids_TRK = [3,33,39,40]\n",
    "shop_ids_SEC = [7,34,36,47,48,49,56]\n",
    "shop_ids_shopping_center = [4,5,8,15,17,18,19,27,29,30,32,41,45,51,53,59]\n",
    "shop_ids_moscow = list(range(20,33))\n",
    "\n",
    "\n",
    "transactions_shops['shop_TC'] = transactions_shops['shop_id'].isin(shop_ids_TC)\n",
    "transactions_shops['shop_TRK'] = transactions_shops['shop_id'].isin(shop_ids_TRK)\n",
    "transactions_shops['shop_SEC'] = transactions_shops['shop_id'].isin(shop_ids_SEC)\n",
    "transactions_shops['shop_shopping_center'] = transactions_shops['shop_id'].isin(shop_ids_shopping_center)\n",
    "transactions_shops['shop_moscow'] = transactions_shops['shop_id'].isin(shop_ids_moscow)"
   ]
  },
  {
   "cell_type": "code",
   "execution_count": 471,
   "metadata": {
    "scrolled": false
   },
   "outputs": [],
   "source": [
    "a = transactions_shops.groupby(['shop_id', 'item_category_id'],as_index=False)['item_cnt_day'].sum()\n",
    "\n",
    "b = pd.DataFrame(transactions_shops.groupby(['shop_id', 'item_category_id'],as_index=False)['item_cnt_day'].sum()\\\n",
    "                  .groupby(['shop_id'])['item_cnt_day'].max()).reset_index()\n",
    "\n",
    "c = b.merge(a, on=['shop_id', 'item_cnt_day'],how='left')[['shop_id', 'item_category_id']].rename(columns={'item_category_id':'max_category_units'})\n",
    "\n",
    "transactions_shops = transactions_shops.merge(c, on=['shop_id'], how='left')"
   ]
  },
  {
   "cell_type": "code",
   "execution_count": 472,
   "metadata": {
    "scrolled": false
   },
   "outputs": [],
   "source": [
    "a = transactions_shops.groupby(['shop_id', 'item_category_id'],as_index=False)['turnover'].sum()\n",
    "\n",
    "b = pd.DataFrame(transactions_shops.groupby(['shop_id', 'item_category_id'],as_index=False)['turnover'].sum()\\\n",
    "                  .groupby(['shop_id'])['turnover'].max()).reset_index()\n",
    "\n",
    "c = b.merge(a, on=['shop_id', 'turnover'],how='left')[['shop_id', 'item_category_id']].rename(columns={'item_category_id':'max_category_turnover'})\n",
    "\n",
    "transactions_shops = transactions_shops.merge(c, on=['shop_id'], how='left')"
   ]
  },
  {
   "cell_type": "markdown",
   "metadata": {},
   "source": [
    "-AREA\n",
    "area\n",
    "\n",
    "\n",
    "\n",
    "-UNITS\n",
    "area_units\n",
    "area_block_units\n",
    "area_mean_units_block\n",
    "area_day_units\n",
    "area_mean_units_day\n",
    "area_max_units_block\n",
    "area_min_units_block\n",
    "area_max_units_day\n",
    "area_min_units_day\n",
    "\n",
    "-TURNOVER\n",
    "area_turnover\n",
    "area_block_turnover\n",
    "area_mean_turnover_block\n",
    "area_day_turnover\n",
    "area_mean_turnover_day\n",
    "area_max_turnover_block\n",
    "area_min_turnover_block\n",
    "area_max_turnover_day\n",
    "area_min_turnover_day\n",
    "\n",
    "-PRICE\n",
    "area_mean_price\n",
    "area_mean_price_block\n",
    "\n",
    "\n",
    "-TREND\n",
    "area_first_two_blocks_units\n",
    "area_last_two_blocks_units\n",
    "area_fluctuation_units_first_last_blocks\n",
    "area_first_two_blocks_mean_price\n",
    "area_last_two_blocks_mean_price\n",
    "area_fluctuation_price_first_last_blocks\n",
    "\n",
    "-ENCODINGS\n",
    "area_share_of_total_units\n",
    "area_share_of_total_gross"
   ]
  },
  {
   "cell_type": "code",
   "execution_count": 473,
   "metadata": {},
   "outputs": [],
   "source": [
    "shop_areas = {}\n",
    "for i in range(0,2):\n",
    "    shop_areas[i] = \"Yakutsk\"\n",
    "shop_areas[2] = \"Adygea\"\n",
    "shop_areas[3] = \"Balashikha\"\n",
    "shop_areas[4] = \"Volga\"\n",
    "shop_areas[5] = \"Vologda\"\n",
    "for i in range(6,9):\n",
    "    shop_areas[i] = \"Voronezh\"\n",
    "shop_areas[9] = \"Outbound Trading\"\n",
    "for i in range(10,12):\n",
    "    shop_areas[i] = \"Zhukovsky\"\n",
    "shop_areas[12] = \"Online store emergency\"\n",
    "for i in range(13,15):\n",
    "    shop_areas[i] = \"Kazan\"\n",
    "shop_areas[15] = \"Kaluga\"\n",
    "shop_areas[16] = \"Kolomna\"\n",
    "for i in range(17,19):\n",
    "    shop_areas[i] = \"Krasnoyarsk\"\n",
    "shop_areas[19] = \"Kursk\"\n",
    "for i in range(20,33):\n",
    "    shop_areas[i] = \"Moscow\"\n",
    "shop_areas[33] = \"Mytishchi\"\n",
    "for i in range(34,36):\n",
    "    shop_areas[i] = \"N.Novgorod\"\n",
    "for i in range(36,38):\n",
    "    shop_areas[i] = \"Novosibirsk\"\n",
    "shop_areas[38] = \"Omsk\"\n",
    "for i in range(39,42):\n",
    "    shop_areas[i] = \"RostovNaDonu\"\n",
    "for i in range(42,44):\n",
    "    shop_areas[i] = \"St. Petersburg\"\n",
    "for i in range(44,46):\n",
    "    shop_areas[i] = \"Samara\"\n",
    "shop_areas[46] = \"Sergiev Posad\"\n",
    "shop_areas[47] = \"Surgut\"\n",
    "shop_areas[48] = \"Tomsk\"\n",
    "for i in range(49,52):\n",
    "    shop_areas[i] = \"Tyumen TC\"\n",
    "for i in range(52,54):\n",
    "    shop_areas[i] = \"Ufa\"\n",
    "shop_areas[54] = \"Khimki\"\n",
    "shop_areas[55] = \"Digital warehouse\"\n",
    "shop_areas[56] = \"Chekhov\"\n",
    "for i in range(57,59):\n",
    "    shop_areas[i] = \"Yakutsk\"\n",
    "shop_areas[59] = \"Yaroslavl\"\n",
    "\n",
    "transactions_shops['area'] = transactions_shops['shop_id'].apply(lambda x: shop_areas[x])\n",
    "\n",
    "\n"
   ]
  },
  {
   "cell_type": "code",
   "execution_count": 474,
   "metadata": {},
   "outputs": [],
   "source": [
    "transactions_shops['area_units'] = transactions_shops.groupby(['area'])['item_cnt_day'].transform(np.sum)\n",
    "transactions_shops['area_block_units'] = transactions_shops.groupby(['area','date_block_num'])['item_cnt_day'].transform(np.sum)\n",
    "transactions_shops['area_mean_units_block'] = transactions_shops.groupby(['area'])['area_block_units'].transform(np.mean)\n",
    "transactions_shops['area_day_units'] = transactions_shops.groupby(['area','date'])['item_cnt_day'].transform(np.sum)\n",
    "transactions_shops['area_mean_units_day'] = transactions_shops.groupby(['area'])['area_day_units'].transform(np.mean)\n",
    "transactions_shops['area_max_units_block'] = transactions_shops.groupby(['area'])['area_block_units'].transform(np.max)\n",
    "transactions_shops['area_min_units_block'] = transactions_shops.groupby(['area'])['area_block_units'].transform(np.min)\n",
    "transactions_shops['area_max_units_day'] = transactions_shops.groupby(['area'])['area_day_units'].transform(np.max)\n",
    "transactions_shops['area_min_units_day'] = transactions_shops.groupby(['area'])['area_day_units'].transform(np.min)"
   ]
  },
  {
   "cell_type": "code",
   "execution_count": 475,
   "metadata": {},
   "outputs": [],
   "source": [
    "transactions_shops['area_turnover'] = transactions_shops.groupby(['area'])['turnover'].transform(np.sum)\n",
    "transactions_shops['area_block_turnover'] = transactions_shops.groupby(['area','date_block_num'])['turnover'].transform(np.sum)\n",
    "transactions_shops['area_mean_turnover_block'] = transactions_shops.groupby(['area'])['area_block_turnover'].transform(np.mean)\n",
    "transactions_shops['area_day_turnover'] = transactions_shops.groupby(['area','date'])['turnover'].transform(np.sum)\n",
    "transactions_shops['area_mean_turnover_day'] = transactions_shops.groupby(['area'])['area_day_turnover'].transform(np.mean)\n",
    "transactions_shops['area_max_turnover_block'] = transactions_shops.groupby(['area'])['area_block_turnover'].transform(np.max)\n",
    "transactions_shops['area_min_turnover_block'] = transactions_shops.groupby(['area'])['area_block_turnover'].transform(np.min)\n",
    "transactions_shops['area_max_turnover_day'] = transactions_shops.groupby(['area'])['area_day_turnover'].transform(np.max)\n",
    "transactions_shops['area_min_turnover_day'] = transactions_shops.groupby(['area'])['area_day_turnover'].transform(np.min)"
   ]
  },
  {
   "cell_type": "code",
   "execution_count": 476,
   "metadata": {},
   "outputs": [],
   "source": [
    "transactions_shops['area_mean_price'] = transactions_shops.groupby('area')['item_price'].transform(np.mean)\n",
    "transactions_shops['area_mean_price_block'] = transactions_shops.groupby(['area', 'date_block_num'])['item_price'].transform(np.mean)\n"
   ]
  },
  {
   "cell_type": "code",
   "execution_count": 477,
   "metadata": {},
   "outputs": [],
   "source": [
    "area_first_two_blocks_units = transactions_shops.groupby(['area','is_first_two_blocks'], as_index=False)['item_cnt_day'].sum()\n",
    "area_first_two_blocks_units = area_first_two_blocks_units[area_first_two_blocks_units['is_first_two_blocks'] == True].set_index('area').iloc[:,1]\n",
    "transactions_shops['area_first_two_blocks_units'] = transactions_shops['area'].map(area_first_two_blocks_units)\n",
    "\n",
    "area_last_two_blocks_units = transactions_shops.groupby(['area','is_last_two_blocks'], as_index=False)['item_cnt_day'].sum()\n",
    "area_last_two_blocks_units = area_last_two_blocks_units[area_last_two_blocks_units['is_last_two_blocks'] == True].set_index('area').iloc[:,1]\n",
    "transactions_shops['area_last_two_blocks_units'] = transactions_shops['area'].map(area_last_two_blocks_units)\n",
    "\n",
    "transactions_shops['area_fluctuation_units_first_last_blocks'] =  ((transactions_shops['area_first_two_blocks_units'] - transactions_shops['area_last_two_blocks_units'] ) / \\\n",
    "                                                             transactions_shops['area_first_two_blocks_units']) * 100 * -1\n",
    "\n",
    "\n",
    "area_first_two_blocks_mean_price = transactions_shops.groupby(['area','is_first_two_blocks'], as_index=False)['item_price'].mean()\n",
    "area_first_two_blocks_mean_price = area_first_two_blocks_mean_price[area_first_two_blocks_mean_price['is_first_two_blocks'] == True].set_index('area').iloc[:,1]\n",
    "transactions_shops['area_first_two_blocks_mean_price'] = transactions_shops['area'].map(area_first_two_blocks_mean_price)\n",
    "\n",
    "area_last_two_blocks_mean_price = transactions_shops.groupby(['area','is_last_two_blocks'], as_index=False)['item_price'].mean()\n",
    "area_last_two_blocks_mean_price = area_last_two_blocks_mean_price[area_last_two_blocks_mean_price['is_last_two_blocks'] == True].set_index('area').iloc[:,1]\n",
    "transactions_shops['area_last_two_blocks_mean_price'] = transactions_shops['area'].map(area_last_two_blocks_mean_price)\n",
    "\n",
    "transactions_shops['area_fluctuation_price_first_last_blocks'] =  ((transactions_shops['area_first_two_blocks_mean_price'] - transactions_shops['area_last_two_blocks_mean_price'] ) / \\\n",
    "                                                             transactions_shops['area_first_two_blocks_mean_price'])  * 100 * -1"
   ]
  },
  {
   "cell_type": "markdown",
   "metadata": {},
   "source": [
    "shop_category\n",
    "\n",
    "\n",
    "-UNITS\n",
    "shop_category_units\n",
    "shop_category_block_units\n",
    "shop_category_mean_units_block\n",
    "shop_category_day_units\n",
    "shop_category_mean_units_day\n",
    "shop_category_max_units_block\n",
    "shop_category_min_units_block\n",
    "shop_category_max_units_day\n",
    "shop_category_min_units_day\n",
    "\n",
    "-TURNOVER\n",
    "shop_category_turnover\n",
    "shop_category_block_turnover\n",
    "shop_category_mean_turnover_block\n",
    "shop_category_day_turnover\n",
    "shop_category_mean_turnover_day\n",
    "shop_category_max_turnover_block\n",
    "shop_category_min_turnover_block\n",
    "shop_category_max_turnover_day\n",
    "shop_category_min_turnover_day\n",
    "\n",
    "-PRICE\n",
    "shop_category_mean_price\n",
    "shop_category_mean_price_block\n",
    "\n",
    "\n",
    "-TREND\n",
    "shop_category_first_two_blocks_units\n",
    "shop_category_last_two_blocks_units\n",
    "shop_category_fluctuation_units_first_last_blocks\n",
    "shop_category_first_two_blocks_mean_price\n",
    "shop_category_last_two_blocks_mean_price\n",
    "shop_category_fluctuation_price_first_last_blocks\n",
    "\n",
    "-ENCODINGS\n",
    "shop_category_share_of_total_units\n",
    "shop_category_share_of_total_gross"
   ]
  },
  {
   "cell_type": "code",
   "execution_count": 478,
   "metadata": {},
   "outputs": [],
   "source": [
    "gc.collect()\n",
    "transactions_shops_categories = transactions.copy()\n",
    "transactions_shops_categories_blocks = transactions.copy()"
   ]
  },
  {
   "cell_type": "code",
   "execution_count": 479,
   "metadata": {},
   "outputs": [],
   "source": [
    "transactions_shops_categories_blocks['shop_category_block_units'] = transactions_shops_categories_blocks.groupby(['shop_id','item_category_id','date_block_num'])['item_cnt_day'].transform(np.sum)\n",
    "transactions_shops_categories_blocks['shop_category_block_turnover'] = transactions_shops_categories_blocks.groupby(['shop_id','item_category_id','date_block_num'])['turnover'].transform(np.sum)\n",
    "transactions_shops_categories_blocks['shop_category_mean_price_block'] = transactions_shops_categories_blocks.groupby(['shop_id','item_category_id', 'date_block_num'])['item_price'].transform(np.mean)"
   ]
  },
  {
   "cell_type": "code",
   "execution_count": 480,
   "metadata": {},
   "outputs": [],
   "source": [
    "transactions_shops_categories['shop_category_units'] = transactions_shops_categories.groupby(['shop_id','item_category_id'])['item_cnt_day'].transform(np.sum)\n",
    "transactions_shops_categories['shop_category_mean_units_block'] = transactions_shops_categories_blocks.groupby(['shop_id','item_category_id'])['shop_category_block_units'].transform(np.mean)\n",
    "transactions_shops_categories['shop_category_day_units'] = transactions_shops_categories.groupby(['shop_id','item_category_id','date'])['item_cnt_day'].transform(np.sum)\n",
    "transactions_shops_categories['shop_category_mean_units_day'] = transactions_shops_categories.groupby(['shop_id','item_category_id'])['shop_category_day_units'].transform(np.mean)\n",
    "transactions_shops_categories['shop_category_max_units_block'] = transactions_shops_categories_blocks.groupby(['shop_id','item_category_id'])['shop_category_block_units'].transform(np.max)\n",
    "transactions_shops_categories['shop_category_min_units_block'] = transactions_shops_categories_blocks.groupby(['shop_id','item_category_id'])['shop_category_block_units'].transform(np.min)\n",
    "transactions_shops_categories['shop_category_max_units_day'] = transactions_shops_categories.groupby(['shop_id','item_category_id'])['shop_category_day_units'].transform(np.max)\n",
    "transactions_shops_categories['shop_category_min_units_day'] = transactions_shops_categories.groupby(['shop_id','item_category_id'])['shop_category_day_units'].transform(np.min)\n"
   ]
  },
  {
   "cell_type": "code",
   "execution_count": 481,
   "metadata": {},
   "outputs": [],
   "source": [
    "transactions_shops_categories['shop_category_turnover'] = transactions_shops_categories.groupby(['shop_id','item_category_id'])['turnover'].transform(np.sum)\n",
    "transactions_shops_categories['shop_category_mean_turnover_block'] = transactions_shops_categories_blocks.groupby(['shop_id','item_category_id'])['shop_category_block_turnover'].transform(np.mean)\n",
    "transactions_shops_categories['shop_category_day_turnover'] = transactions_shops_categories.groupby(['shop_id','item_category_id','date'])['turnover'].transform(np.sum)\n",
    "transactions_shops_categories['shop_category_mean_turnover_day'] = transactions_shops_categories.groupby(['shop_id','item_category_id'])['shop_category_day_turnover'].transform(np.mean)\n",
    "transactions_shops_categories['shop_category_max_turnover_block'] = transactions_shops_categories_blocks.groupby(['shop_id','item_category_id'])['shop_category_block_turnover'].transform(np.max)\n",
    "transactions_shops_categories['shop_category_min_turnover_block'] = transactions_shops_categories_blocks.groupby(['shop_id','item_category_id'])['shop_category_block_turnover'].transform(np.min)\n",
    "transactions_shops_categories['shop_category_max_turnover_day'] = transactions_shops_categories.groupby(['shop_id','item_category_id'])['shop_category_day_turnover'].transform(np.max)\n",
    "transactions_shops_categories['shop_category_min_turnover_day'] = transactions_shops_categories.groupby(['shop_id','item_category_id'])['shop_category_day_turnover'].transform(np.min)"
   ]
  },
  {
   "cell_type": "code",
   "execution_count": 482,
   "metadata": {},
   "outputs": [],
   "source": [
    "transactions_shops_categories['shop_category_mean_price'] = transactions_shops_categories.groupby(['shop_id','item_category_id'])['item_price'].transform(np.mean)\n"
   ]
  },
  {
   "cell_type": "code",
   "execution_count": 535,
   "metadata": {},
   "outputs": [],
   "source": [
    "###\n",
    "#DEBUG\n",
    "###\n",
    "\n",
    "\n",
    "pd.set_option('display.max_columns', None)  \n",
    "pd.set_option('display.expand_frame_repr', False)\n",
    "pd.set_option('max_colwidth', -1)\n",
    "#transactions.sample(10).sort_values(by=['item_units'], ascending=False)\n",
    "#transactions[transactions['item_category_id'] == 58].sample(10).sort_values(by=['total_sales_units'], ascending=False)"
   ]
  },
  {
   "cell_type": "code",
   "execution_count": 429,
   "metadata": {},
   "outputs": [
    {
     "name": "stdout",
     "output_type": "stream",
     "text": [
      "['item_id' 'date' 'date_block_num' 'shop_id' 'item_price' 'item_cnt_day'\n",
      " 'day' 'month' 'year' 'item_name' 'item_category_id' 'y' 'turnover'\n",
      " 'item_first_block' 'item_last_block' 'is_first_two_blocks'\n",
      " 'is_last_two_blocks' 'shop_category_units' 'shop_category_block_units'\n",
      " 'shop_category_mean_units_block' 'shop_category_day_units'\n",
      " 'shop_category_mean_units_day' 'shop_category_max_units_block'\n",
      " 'shop_category_min_units_block' 'shop_category_max_units_day'\n",
      " 'shop_category_min_units_day' 'shop_category_turnover'\n",
      " 'shop_category_block_turnover' 'shop_category_mean_turnover_block'\n",
      " 'shop_category_day_turnover' 'shop_category_mean_turnover_day'\n",
      " 'shop_category_max_turnover_block' 'shop_category_min_turnover_block'\n",
      " 'shop_category_max_turnover_day' 'shop_category_min_turnover_day'\n",
      " 'shop_category_mean_price' 'shop_category_mean_price_block']\n"
     ]
    }
   ],
   "source": [
    "chunks = [transactions_items, transactions_categories, transactions_shops, transactions_shops_categories]\n",
    "\n",
    "print(chunks[3].columns.values)"
   ]
  },
  {
   "cell_type": "code",
   "execution_count": 483,
   "metadata": {},
   "outputs": [],
   "source": [
    "train_item_ids = transactions['item_id'].unique()\n",
    "train_shop_ids = transactions['shop_id'].unique()\n",
    "test_item_ids = test['item_id'].unique()\n",
    "test_shop_ids = test['shop_id'].unique()\n",
    "train_blocks = transactions['date_block_num'].unique()\n",
    "\n",
    "all_item_ids = np.unique(np.append(test_item_ids,train_item_ids))\n",
    "all_shop_ids = np.unique(np.append(train_shop_ids,test_shop_ids))"
   ]
  },
  {
   "cell_type": "code",
   "execution_count": 484,
   "metadata": {},
   "outputs": [],
   "source": [
    "combinations = []\n",
    "for shop in all_shop_ids:\n",
    "    #get all article ids ever associated to this shop\n",
    "    train_ids = transactions[transactions['shop_id'] == shop]['item_id'].unique()\n",
    "    test_ids = test[test['shop_id'] == shop]['item_id'].unique()\n",
    "    all_shop = np.unique(np.append(train_ids, test_ids))\n",
    "    all_shop_combo = [[item, shop, block] for item in all_shop for block in train_blocks]\n",
    "    for combo in all_shop_combo:\n",
    "        combinations.append(combo)"
   ]
  },
  {
   "cell_type": "code",
   "execution_count": 545,
   "metadata": {},
   "outputs": [],
   "source": [
    "all_combos = pd.DataFrame(np.unique(np.vstack([combinations]), axis=0), columns=['item_id', 'shop_id', 'date_block_num'])"
   ]
  },
  {
   "cell_type": "code",
   "execution_count": 546,
   "metadata": {},
   "outputs": [
    {
     "data": {
      "text/html": [
       "<div>\n",
       "<style scoped>\n",
       "    .dataframe tbody tr th:only-of-type {\n",
       "        vertical-align: middle;\n",
       "    }\n",
       "\n",
       "    .dataframe tbody tr th {\n",
       "        vertical-align: top;\n",
       "    }\n",
       "\n",
       "    .dataframe thead th {\n",
       "        text-align: right;\n",
       "    }\n",
       "</style>\n",
       "<table border=\"1\" class=\"dataframe\">\n",
       "  <thead>\n",
       "    <tr style=\"text-align: right;\">\n",
       "      <th></th>\n",
       "      <th>item_id</th>\n",
       "      <th>shop_id</th>\n",
       "      <th>date_block_num</th>\n",
       "    </tr>\n",
       "  </thead>\n",
       "  <tbody>\n",
       "    <tr>\n",
       "      <th>0</th>\n",
       "      <td>0</td>\n",
       "      <td>54</td>\n",
       "      <td>12</td>\n",
       "    </tr>\n",
       "    <tr>\n",
       "      <th>1</th>\n",
       "      <td>0</td>\n",
       "      <td>54</td>\n",
       "      <td>13</td>\n",
       "    </tr>\n",
       "    <tr>\n",
       "      <th>2</th>\n",
       "      <td>0</td>\n",
       "      <td>54</td>\n",
       "      <td>14</td>\n",
       "    </tr>\n",
       "    <tr>\n",
       "      <th>3</th>\n",
       "      <td>0</td>\n",
       "      <td>54</td>\n",
       "      <td>15</td>\n",
       "    </tr>\n",
       "    <tr>\n",
       "      <th>4</th>\n",
       "      <td>0</td>\n",
       "      <td>54</td>\n",
       "      <td>16</td>\n",
       "    </tr>\n",
       "  </tbody>\n",
       "</table>\n",
       "</div>"
      ],
      "text/plain": [
       "   item_id  shop_id  date_block_num\n",
       "0  0        54       12            \n",
       "1  0        54       13            \n",
       "2  0        54       14            \n",
       "3  0        54       15            \n",
       "4  0        54       16            "
      ]
     },
     "execution_count": 546,
     "metadata": {},
     "output_type": "execute_result"
    }
   ],
   "source": [
    "all_combos.head()"
   ]
  },
  {
   "cell_type": "code",
   "execution_count": 547,
   "metadata": {},
   "outputs": [
    {
     "data": {
      "text/plain": [
       "8333930"
      ]
     },
     "execution_count": 547,
     "metadata": {},
     "output_type": "execute_result"
    }
   ],
   "source": [
    "len(all_combos)"
   ]
  },
  {
   "cell_type": "code",
   "execution_count": 548,
   "metadata": {},
   "outputs": [],
   "source": [
    "all_combos = pd.merge(all_combos, items[['item_id', 'item_category_id']], on='item_id', how='left')"
   ]
  },
  {
   "cell_type": "code",
   "execution_count": 549,
   "metadata": {},
   "outputs": [
    {
     "data": {
      "text/plain": [
       "{20: {'month': 9, 'year': 2014},\n",
       " 15: {'month': 4, 'year': 2014},\n",
       " 18: {'month': 7, 'year': 2014},\n",
       " 19: {'month': 8, 'year': 2014},\n",
       " 21: {'month': 10, 'year': 2014},\n",
       " 22: {'month': 11, 'year': 2014},\n",
       " 23: {'month': 12, 'year': 2014},\n",
       " 24: {'month': 1, 'year': 2015},\n",
       " 27: {'month': 4, 'year': 2015},\n",
       " 25: {'month': 2, 'year': 2015},\n",
       " 12: {'month': 1, 'year': 2014},\n",
       " 14: {'month': 3, 'year': 2014},\n",
       " 16: {'month': 5, 'year': 2014},\n",
       " 17: {'month': 6, 'year': 2014},\n",
       " 13: {'month': 2, 'year': 2014},\n",
       " 26: {'month': 3, 'year': 2015},\n",
       " 28: {'month': 5, 'year': 2015},\n",
       " 29: {'month': 6, 'year': 2015},\n",
       " 30: {'month': 7, 'year': 2015},\n",
       " 31: {'month': 8, 'year': 2015},\n",
       " 32: {'month': 9, 'year': 2015},\n",
       " 33: {'month': 10, 'year': 2015}}"
      ]
     },
     "execution_count": 549,
     "metadata": {},
     "output_type": "execute_result"
    }
   ],
   "source": [
    "dates = transactions[['date_block_num', 'month', 'year']].drop_duplicates(['date_block_num', 'month', 'year'])\n",
    "\n",
    "dates_dict = {}\n",
    "\n",
    "for index,row in dates.iterrows():\n",
    "    dates_dict[row['date_block_num']] = {\"month\": row['month'], \"year\": row['year']}\n",
    "    \n",
    "dates_dict"
   ]
  },
  {
   "cell_type": "code",
   "execution_count": 550,
   "metadata": {},
   "outputs": [],
   "source": [
    "all_combos['month'] = all_combos['date_block_num'].apply(lambda block: dates_dict[block]['month'])\n",
    "all_combos['year'] = all_combos['date_block_num'].apply(lambda block: dates_dict[block]['year'])"
   ]
  },
  {
   "cell_type": "code",
   "execution_count": 551,
   "metadata": {},
   "outputs": [],
   "source": [
    "transactions_items_columns = ['item_id', 'item_first_block',\n",
    "       'item_last_block', 'is_first_two_blocks', 'is_last_two_blocks',\n",
    "       'item_units', 'item_mean_units_block', 'item_day_units',\n",
    "       'item_mean_units_day', 'item_max_units_block',\n",
    "       'item_min_units_block', 'item_max_units_day', 'item_min_units_day',\n",
    "       'item_turnover', 'item_mean_turnover_block', 'item_day_turnover',\n",
    "       'item_mean_turnover_day', 'item_max_turnover_block',\n",
    "       'item_min_turnover_block', 'item_max_turnover_day',\n",
    "       'item_min_turnover_day', 'item_days_of_activity',\n",
    "       'item_blocks_of_activity', 'item_days_since_start',\n",
    "       'item_mean_day_between_activity',\n",
    "       'item_longest_stretch_days_without_activity',\n",
    "       'item_longest_stretch_blocks_without_activity',\n",
    "       'item_longest_stretch_block_with_activity',\n",
    "       'item_number_of_consecutive_days_with_activity',\n",
    "       'item_days_between_start_and_first_activity',\n",
    "       'item_blocks_between_start_and_first_activity', 'item_first_day',\n",
    "       'item_last_day', 'item_activity_on_all_blocks', 'item_mean_price',\n",
    "       'item_min_price', 'item_max_price', 'item_number_different_prices',\n",
    "       'item_price_amplitude', 'category_mean_price',\n",
    "       'item_deviation_mean_category_price',\n",
    "       'item_first_two_blocks_units', 'item_last_two_blocks_units',\n",
    "       'item_fluctuation_units_first_last_blocks',\n",
    "       'item_first_two_blocks_mean_price',\n",
    "       'item_last_two_blocks_mean_price',\n",
    "       'item_fluctuation_price_first_last_blocks',\n",
    "       'item_share_of_total_units', 'item_share_of_total_turnover',\n",
    "       'category_units', 'item_share_of_category_units',\n",
    "       'category_turnover', 'item_share_of_category_turnover']"
   ]
  },
  {
   "cell_type": "code",
   "execution_count": 553,
   "metadata": {},
   "outputs": [],
   "source": [
    "del training\n",
    "gc.collect()\n",
    "training = pd.merge(all_combos, transactions_items[transactions_items_columns].drop_duplicates('item_id'), on=['item_id'], how='left', copy=False)"
   ]
  },
  {
   "cell_type": "code",
   "execution_count": 554,
   "metadata": {},
   "outputs": [],
   "source": [
    "transactions_items_blocks_columns = ['item_id', 'date_block_num', 'item_block_units', 'item_block_turnover', 'item_mean_price_block']"
   ]
  },
  {
   "cell_type": "code",
   "execution_count": 555,
   "metadata": {},
   "outputs": [],
   "source": [
    "gc.collect()\n",
    "training = pd.merge(training, transactions_items_blocks[transactions_items_blocks_columns]\\\n",
    "                    .drop_duplicates(['item_id', 'date_block_num']), on=['item_id','date_block_num'], how='left', copy=False)"
   ]
  },
  {
   "cell_type": "code",
   "execution_count": null,
   "metadata": {},
   "outputs": [],
   "source": []
  },
  {
   "cell_type": "code",
   "execution_count": 556,
   "metadata": {},
   "outputs": [],
   "source": [
    "transactions_categories_columns = [\n",
    "       'item_category_id',\n",
    "       'category_units', 'category_mean_units_block',\n",
    "       'category_day_units', 'category_mean_units_day',\n",
    "       'category_max_units_block', 'category_min_units_block',\n",
    "       'category_max_units_day', 'category_min_units_day',\n",
    "       'category_turnover', 'category_mean_turnover_block',\n",
    "       'category_day_turnover', 'category_mean_turnover_day',\n",
    "       'category_max_turnover_block', 'category_min_turnover_block',\n",
    "       'category_max_turnover_day', 'category_min_turnover_day',\n",
    "       'category_mean_price', 'category_min_price', 'category_max_price',\n",
    "       'category_first_two_blocks_units',\n",
    "       'category_last_two_blocks_units',\n",
    "       'category_fluctuation_units_first_last_blocks',\n",
    "       'category_first_two_blocks_mean_price',\n",
    "       'category_last_two_blocks_mean_price',\n",
    "       'category_fluctuation_price_first_last_blocks', 'subcategory',\n",
    "       'video_game', 'gaming_old_gen', 'gaming_new_gen', 'pc_games',\n",
    "       'payment_cards', 'movies', 'movies_niche', 'books', 'music',\n",
    "       'music_CD', 'music_vinyl', 'gifts', 'software',\n",
    "       'subcategory_units', 'subcategory_block_units',\n",
    "       'subcategory_mean_units_block', 'subcategory_day_units',\n",
    "       'subcategory_mean_units_day', 'subcategory_max_units_block',\n",
    "       'subcategory_min_units_block', 'subcategory_max_units_day',\n",
    "       'subcategory_min_units_day', 'subcategory_turnover',\n",
    "       'subcategory_block_turnover', 'subcategory_mean_turnover_block',\n",
    "       'subcategory_day_turnover', 'subcategory_mean_turnover_day',\n",
    "       'subcategory_max_turnover_block', 'subcategory_min_turnover_block',\n",
    "       'subcategory_max_turnover_day', 'subcategory_min_turnover_day',\n",
    "       'category_share_of_total_units',\n",
    "       'category_share_of_total_turnover',\n",
    "       'subcategory_share_of_total_units',\n",
    "       'subcategory_share_of_total_turnover',\n",
    "       'subcategory_first_two_blocks_units',\n",
    "       'subcategory_last_two_blocks_units',\n",
    "       'subcategory_fluctuation_units_first_last_blocks',\n",
    "       'subcategory_first_two_blocks_mean_price',\n",
    "       'subcategory_last_two_blocks_mean_price',\n",
    "       'subcategory_fluctuation_price_first_last_blocks']\n"
   ]
  },
  {
   "cell_type": "code",
   "execution_count": null,
   "metadata": {},
   "outputs": [],
   "source": [
    "gc.collect()\n",
    "training = pd.merge(training, transactions_categories[transactions_categories_columns]\\\n",
    "                    .drop_duplicates('item_category_id'), on=['item_category_id'], how='left', copy=False)"
   ]
  },
  {
   "cell_type": "code",
   "execution_count": null,
   "metadata": {},
   "outputs": [],
   "source": [
    "transactions_categories_blocks_columns = ['item_category_id', 'date_block_num', 'category_block_units',\n",
    " 'category_block_turnover',\n",
    " 'category_mean_price_block', 'subcategory_block_units',\n",
    " 'subcategory_block_turnover',\n",
    " 'subcategory_mean_price_block']"
   ]
  },
  {
   "cell_type": "code",
   "execution_count": null,
   "metadata": {},
   "outputs": [],
   "source": [
    "gc.collect()\n",
    "training = pd.merge(training, transactions_categories_blocks[transactions_categories_blocks_columns]\\\n",
    "                    .drop_duplicates(['item_category_id', 'date_block_num']), on=['item_category_id','date_block_num'], how='left', copy=False)"
   ]
  },
  {
   "cell_type": "code",
   "execution_count": null,
   "metadata": {},
   "outputs": [],
   "source": []
  },
  {
   "cell_type": "code",
   "execution_count": null,
   "metadata": {},
   "outputs": [],
   "source": [
    "transactions_shops_columns = ['shop_id', \n",
    "       'shop_units', 'shop_mean_units_block', 'shop_day_units',\n",
    "       'shop_mean_units_day', 'shop_max_units_block',\n",
    "       'shop_min_units_block', 'shop_max_units_day', 'shop_min_units_day',\n",
    "       'shop_turnover', 'shop_mean_turnover_block', 'shop_day_turnover',\n",
    "       'shop_mean_turnover_day', 'shop_max_turnover_block',\n",
    "       'shop_min_turnover_block', 'shop_max_turnover_day',\n",
    "       'shop_min_turnover_day', 'shop_mean_price',\n",
    "       'shop_first_two_blocks_units', 'shop_last_two_blocks_units',\n",
    "       'shop_fluctuation_units_first_last_blocks',\n",
    "       'shop_first_two_blocks_mean_price',\n",
    "       'shop_last_two_blocks_mean_price',\n",
    "       'shop_fluctuation_price_first_last_blocks', 'shop_share_of_units',\n",
    "       'shop_share_of_turnover', 'shop_TC', 'shop_TRK', 'shop_SEC',\n",
    "       'shop_shopping_center', 'shop_moscow', 'max_category_units',\n",
    "       'max_category_turnover', 'area', 'area_units', 'area_block_units',\n",
    "       'area_mean_units_block', 'area_day_units', 'area_mean_units_day',\n",
    "       'area_max_units_block', 'area_min_units_block',\n",
    "       'area_max_units_day', 'area_min_units_day', 'area_turnover',\n",
    "       'area_block_turnover', 'area_mean_turnover_block',\n",
    "       'area_day_turnover', 'area_mean_turnover_day',\n",
    "       'area_max_turnover_block', 'area_min_turnover_block',\n",
    "       'area_max_turnover_day', 'area_min_turnover_day',\n",
    "       'area_mean_price', 'area_mean_price_block',\n",
    "       'area_first_two_blocks_units', 'area_last_two_blocks_units',\n",
    "       'area_fluctuation_units_first_last_blocks',\n",
    "       'area_first_two_blocks_mean_price',\n",
    "       'area_last_two_blocks_mean_price',\n",
    "       'area_fluctuation_price_first_last_blocks']"
   ]
  },
  {
   "cell_type": "code",
   "execution_count": null,
   "metadata": {},
   "outputs": [],
   "source": [
    "gc.collect()\n",
    "training = pd.merge(training, transactions_shops[transactions_shops_columns]\\\n",
    "                    .drop_duplicates('shop_id'), on=['shop_id'], how='left', copy=False)"
   ]
  },
  {
   "cell_type": "code",
   "execution_count": null,
   "metadata": {},
   "outputs": [],
   "source": [
    "transactions_shops_blocks_columns = ['shop_id', 'date_block_num',  'shop_block_units',\n",
    " 'shop_block_turnover',\n",
    " 'shop_mean_price_block', 'area_block_units',\n",
    " 'area_block_turnover',\n",
    " 'area_mean_price_block']"
   ]
  },
  {
   "cell_type": "code",
   "execution_count": null,
   "metadata": {},
   "outputs": [],
   "source": [
    "gc.collect()\n",
    "training = pd.merge(training, transactions_shops_blocks[transactions_shops_blocks_columns]\\\n",
    "                    .drop_duplicates(['shop_id', 'date_block_num']), on=['shop_id', 'date_block_num'], how='left', copy=False)"
   ]
  },
  {
   "cell_type": "code",
   "execution_count": null,
   "metadata": {},
   "outputs": [],
   "source": []
  },
  {
   "cell_type": "code",
   "execution_count": null,
   "metadata": {},
   "outputs": [],
   "source": [
    "transactions_shops_categories_columns = [ 'shop_id', \n",
    "       'item_category_id',\n",
    "       'shop_category_units', 'shop_category_mean_units_block',\n",
    "       'shop_category_day_units', 'shop_category_mean_units_day',\n",
    "       'shop_category_max_units_block', 'shop_category_min_units_block',\n",
    "       'shop_category_max_units_day', 'shop_category_min_units_day',\n",
    "       'shop_category_turnover', 'shop_category_mean_turnover_block',\n",
    "       'shop_category_day_turnover', 'shop_category_mean_turnover_day',\n",
    "       'shop_category_max_turnover_block',\n",
    "       'shop_category_min_turnover_block',\n",
    "       'shop_category_max_turnover_day', 'shop_category_min_turnover_day',\n",
    "       'shop_category_mean_price']"
   ]
  },
  {
   "cell_type": "code",
   "execution_count": null,
   "metadata": {},
   "outputs": [],
   "source": [
    "gc.collect()\n",
    "training = pd.merge(training, transactions_shops_categories[transactions_shops_categories_columns]\\\n",
    "                    .drop_duplicates(['shop_id','item_category_id']), on=['shop_id','item_category_id'], how='left', copy=False)"
   ]
  },
  {
   "cell_type": "code",
   "execution_count": null,
   "metadata": {},
   "outputs": [],
   "source": [
    "transactions_shops_categories_blocks_columns = ['shop_id', 'item_category_id', 'date_block_num',   'shop_category_block_units',\n",
    " 'shop_category_block_turnover',\n",
    " 'shop_category_mean_price_block']"
   ]
  },
  {
   "cell_type": "code",
   "execution_count": null,
   "metadata": {},
   "outputs": [],
   "source": [
    "gc.collect()\n",
    "training = pd.merge(training, transactions_shops_categories_blocks[transactions_shops_categories_blocks_columns]\\\n",
    "                    .drop_duplicates(['shop_id','item_category_id','date_block_num']), \\\n",
    "                    on=['shop_id','item_category_id','date_block_num'], how='left', copy=False)"
   ]
  },
  {
   "cell_type": "code",
   "execution_count": null,
   "metadata": {},
   "outputs": [],
   "source": [
    "training.head()"
   ]
  },
  {
   "cell_type": "code",
   "execution_count": null,
   "metadata": {},
   "outputs": [],
   "source": [
    "len(training)"
   ]
  },
  {
   "cell_type": "code",
   "execution_count": null,
   "metadata": {},
   "outputs": [],
   "source": []
  },
  {
   "cell_type": "code",
   "execution_count": null,
   "metadata": {},
   "outputs": [],
   "source": [
    "lag_columns = [\n",
    " 'item_block_units',\n",
    " 'item_block_turnover',\n",
    " 'item_mean_price_block',\n",
    " 'category_block_units',\n",
    " 'category_block_turnover',\n",
    " 'category_mean_price_block',\n",
    " 'subcategory_block_units',\n",
    " 'subcategory_block_turnover',\n",
    " 'subcategory_mean_price_block',\n",
    " 'shop_block_units',\n",
    " 'shop_block_turnover',\n",
    " 'shop_mean_price_block',\n",
    " 'area_block_units',\n",
    " 'area_block_turnover',\n",
    " 'area_mean_price_block',\n",
    " 'shop_category_block_units',\n",
    " 'shop_category_turnover',\n",
    " 'shop_category_mean_price_block'\n",
    " ]"
   ]
  }
 ],
 "metadata": {
  "kernelspec": {
   "display_name": "Python 3",
   "language": "python",
   "name": "python3"
  },
  "language_info": {
   "codemirror_mode": {
    "name": "ipython",
    "version": 3
   },
   "file_extension": ".py",
   "mimetype": "text/x-python",
   "name": "python",
   "nbconvert_exporter": "python",
   "pygments_lexer": "ipython3",
   "version": "3.6.5"
  }
 },
 "nbformat": 4,
 "nbformat_minor": 2
}
