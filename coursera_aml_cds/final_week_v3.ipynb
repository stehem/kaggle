{
 "cells": [
  {
   "cell_type": "code",
   "execution_count": 1,
   "metadata": {},
   "outputs": [
    {
     "data": {
      "text/html": [
       "<style>.container { width:100% !important; }</style>"
      ],
      "text/plain": [
       "<IPython.core.display.HTML object>"
      ]
     },
     "metadata": {},
     "output_type": "display_data"
    }
   ],
   "source": [
    "from IPython.core.display import display, HTML\n",
    "display(HTML(\"<style>.container { width:100% !important; }</style>\"))"
   ]
  },
  {
   "cell_type": "code",
   "execution_count": 2,
   "metadata": {},
   "outputs": [],
   "source": [
    "import pandas as pd\n",
    "import numpy as np\n",
    "import os\n",
    "import matplotlib.pyplot as plt\n",
    "%matplotlib inline \n",
    "from sklearn.ensemble import RandomForestRegressor\n",
    "from sklearn.tree import DecisionTreeRegressor\n",
    "from sklearn.tree import export_graphviz\n",
    "import matplotlib.pyplot as plt\n",
    "import seaborn as sns\n",
    "\n",
    "import lightgbm as lgbm\n",
    "import gc"
   ]
  },
  {
   "cell_type": "code",
   "execution_count": 3,
   "metadata": {},
   "outputs": [],
   "source": [
    "items           = pd.read_csv('items.csv')\n",
    "item_categories = pd.read_csv('item_categories.csv')\n",
    "shops           = pd.read_csv('shops.csv')\n",
    "sales_train     = pd.read_csv('sales_train_v2.csv')\n",
    "test            = pd.read_csv('test.csv')\n",
    "sample_submission            = pd.read_csv('sample_submission.csv')"
   ]
  },
  {
   "cell_type": "code",
   "execution_count": 4,
   "metadata": {},
   "outputs": [],
   "source": [
    "transactions = sales_train.copy()\n",
    "transactions[['day','month', 'year']] = transactions['date'].str.split('.', expand=True).astype(int)\n",
    "\n"
   ]
  },
  {
   "cell_type": "code",
   "execution_count": 5,
   "metadata": {},
   "outputs": [
    {
     "name": "stderr",
     "output_type": "stream",
     "text": [
      "/opt/conda/lib/python3.6/site-packages/ipykernel_launcher.py:4: FutureWarning: 'item_id' is both an index level and a column label.\n",
      "Defaulting to column, but this will raise an ambiguity error in a future version\n",
      "  after removing the cwd from sys.path.\n"
     ]
    }
   ],
   "source": [
    "w_cat_ids = transactions.set_index('item_id').join(items.set_index('item_id'))\n",
    "w_cat_ids['item_id'] = w_cat_ids.index\n",
    "\n",
    "w_cat_ids['item_shop_count_month'] = w_cat_ids.groupby(['month', 'year', 'shop_id', 'item_id'])['item_cnt_day'].transform('sum')\n",
    "w_cat_ids['item_shop_count_month'] = w_cat_ids['item_shop_count_month'].clip(0 ,20)"
   ]
  },
  {
   "cell_type": "code",
   "execution_count": 6,
   "metadata": {},
   "outputs": [],
   "source": [
    "total_articles = len(w_cat_ids.item_id.unique())\n",
    "total_shops = len(w_cat_ids.shop_id.unique())\n",
    "total_categories = len(w_cat_ids.item_category_id.unique())\n",
    "avg_item_per_cat = w_cat_ids.groupby('item_category_id')['item_id'].nunique().mean()\n",
    "total_sold_items = w_cat_ids.item_cnt_day.sum()"
   ]
  },
  {
   "cell_type": "code",
   "execution_count": 7,
   "metadata": {},
   "outputs": [],
   "source": [
    "w_cat_ids['total_articles_sold_by_shop'] = w_cat_ids.groupby(['shop_id'])['item_cnt_day'].transform('sum')\n",
    "w_cat_ids['number_of_items_linked_to_shop'] = w_cat_ids.groupby(['shop_id'])['item_id'].transform(\"nunique\")\n",
    "w_cat_ids['shop_percentage_of_all_sold_items'] = w_cat_ids.groupby(['shop_id'])['item_cnt_day'].transform(\"sum\") / total_sold_items\n",
    "w_cat_ids['category_percentage_of_all_sold_items'] = w_cat_ids.groupby(['item_category_id'])['item_cnt_day'].transform(\"sum\")  / total_sold_items\n",
    "w_cat_ids['number_of_items_in_category'] = w_cat_ids.groupby(['item_category_id'])['item_id'].transform(\"nunique\")\n"
   ]
  },
  {
   "cell_type": "code",
   "execution_count": 8,
   "metadata": {},
   "outputs": [
    {
     "name": "stderr",
     "output_type": "stream",
     "text": [
      "/opt/conda/lib/python3.6/site-packages/ipykernel_launcher.py:2: FutureWarning: 'item_id' is both an index level and a column label.\n",
      "Defaulting to column, but this will raise an ambiguity error in a future version\n",
      "  \n"
     ]
    }
   ],
   "source": [
    "w_cat_ids['global_count_month_avg'] = w_cat_ids.groupby(['month', 'year'])['item_cnt_day'].transform('sum') / total_shops / total_articles\n",
    "w_cat_ids['global_item_count_month_avg'] = w_cat_ids.groupby(['month', 'year', 'item_id'])['item_cnt_day'].transform('sum') * w_cat_ids.shop_percentage_of_all_sold_items\n",
    "w_cat_ids['global_category_count_month_avg'] = w_cat_ids.groupby(['month', 'year', 'item_category_id'])['item_cnt_day'].transform('sum')  * w_cat_ids.category_percentage_of_all_sold_items\\\n",
    "/ total_shops / w_cat_ids.number_of_items_in_category\n",
    "w_cat_ids['global_shop_count_month_avg'] = w_cat_ids.groupby(['month', 'year', 'shop_id'])['item_cnt_day'].transform('sum') * w_cat_ids.shop_percentage_of_all_sold_items\\\n",
    "/ w_cat_ids.number_of_items_linked_to_shop\n",
    "w_cat_ids['category_shop_count_month_avg'] = w_cat_ids.groupby(['month', 'year', 'shop_id', 'item_category_id'])['item_cnt_day'].transform('sum') * w_cat_ids.category_percentage_of_all_sold_items / w_cat_ids.number_of_items_in_category\n"
   ]
  },
  {
   "cell_type": "code",
   "execution_count": 9,
   "metadata": {},
   "outputs": [],
   "source": [
    "w_cat_ids['item_shop_mean'] = w_cat_ids.groupby([w_cat_ids.item_id, w_cat_ids.shop_id])['item_shop_count_month'].transform(np.mean)"
   ]
  },
  {
   "cell_type": "code",
   "execution_count": 10,
   "metadata": {},
   "outputs": [
    {
     "name": "stderr",
     "output_type": "stream",
     "text": [
      "/opt/conda/lib/python3.6/site-packages/ipykernel_launcher.py:3: FutureWarning: 'item_id' is both an index level and a column label.\n",
      "Defaulting to column, but this will raise an ambiguity error in a future version\n",
      "  This is separate from the ipykernel package so we can avoid doing imports until\n"
     ]
    }
   ],
   "source": [
    "gc.collect()\n",
    "\n",
    "cumsums = w_cat_ids.groupby(['shop_id','item_id', 'date_block_num'])['item_shop_count_month'].first().groupby(level=[0,1]).cumsum()\n",
    "w_cat_ids.set_index(['shop_id','item_id', 'date_block_num'], inplace=True)\n",
    "w_cat_ids['cumulative_item_shop_month'] = cumsums\n",
    "w_cat_ids.reset_index(inplace=True)"
   ]
  },
  {
   "cell_type": "code",
   "execution_count": 11,
   "metadata": {},
   "outputs": [],
   "source": [
    "w_cat_ids = w_cat_ids.sort_values(['date_block_num', 'shop_id', 'item_id'])"
   ]
  },
  {
   "cell_type": "code",
   "execution_count": 12,
   "metadata": {},
   "outputs": [],
   "source": [
    "for lag in [1,2,3]:\n",
    "    lags = w_cat_ids.groupby(['shop_id','item_id', 'date_block_num'])['item_shop_count_month'].first().groupby(level=[0,1]).shift(lag)\n",
    "    w_cat_ids.set_index(['shop_id','item_id', 'date_block_num'], inplace=True)\n",
    "    w_cat_ids[\"item_shop_count_month_minus_%d\" % (lag)]  = lags\n",
    "    w_cat_ids.reset_index(inplace=True)"
   ]
  },
  {
   "cell_type": "code",
   "execution_count": 13,
   "metadata": {},
   "outputs": [],
   "source": [
    "w_cat_ids['item_shop_count_month_avg_previous_3'] = w_cat_ids[['item_shop_count_month_minus_1', 'item_shop_count_month_minus_2', 'item_shop_count_month_minus_3']].mean(axis=1)"
   ]
  },
  {
   "cell_type": "code",
   "execution_count": 14,
   "metadata": {},
   "outputs": [],
   "source": [
    "import datetime\n",
    "months = []\n",
    "for i in range(1,13):\n",
    "    months.append((i, str.lower(datetime.date(2008, i, 1).strftime('%B'))))\n",
    "    \n",
    "for i, month in months:\n",
    "    w_cat_ids[month] = w_cat_ids.month == i\n",
    "    \n",
    "years = w_cat_ids.year.unique()\n",
    "for year in years:\n",
    "    w_cat_ids[year] = w_cat_ids.year == year"
   ]
  },
  {
   "cell_type": "code",
   "execution_count": 15,
   "metadata": {},
   "outputs": [],
   "source": [
    "def get_coeffs_for_shop(shop_id, poly_degree=1, print_chart=False):\n",
    "\n",
    "    shop = w_cat_ids[w_cat_ids.shop_id == shop_id].groupby('date_block_num')['item_shop_count_month'].sum().reset_index(name ='item_cnt')\n",
    "\n",
    "    datax = shop.date_block_num.values\n",
    "    datay = shop.item_cnt.values\n",
    "\n",
    "    z = np.polyfit(datax,datay, poly_degree) \n",
    "    p = np.poly1d(z)\n",
    "\n",
    "    shop['poly'] = shop['date_block_num'].apply(lambda x: p(x))\n",
    "\n",
    "    if print_chart:\n",
    "        sns.set()\n",
    "        fig, ax = plt.subplots()\n",
    "        shop.plot(x='date_block_num', y='item_cnt', ax=ax, legend=False, figsize=(15,7))\n",
    "        shop.plot(x='date_block_num', y='poly', ax=ax, legend=False, figsize=(15,7))\n",
    "\n",
    "    return p.coefficients"
   ]
  },
  {
   "cell_type": "code",
   "execution_count": 16,
   "metadata": {},
   "outputs": [
    {
     "name": "stderr",
     "output_type": "stream",
     "text": [
      "/opt/conda/lib/python3.6/site-packages/ipykernel_launcher.py:8: RankWarning: Polyfit may be poorly conditioned\n",
      "  \n",
      "/opt/conda/lib/python3.6/site-packages/ipykernel_launcher.py:8: RankWarning: Polyfit may be poorly conditioned\n",
      "  \n"
     ]
    }
   ],
   "source": [
    "shop_ids = w_cat_ids.shop_id.unique()\n",
    "slopes = {}\n",
    "\n",
    "for shop_id in shop_ids:\n",
    "    slope = get_coeffs_for_shop(shop_id)[0]\n",
    "    slopes[shop_id] = slope\n"
   ]
  },
  {
   "cell_type": "code",
   "execution_count": 17,
   "metadata": {},
   "outputs": [],
   "source": [
    "w_cat_ids['shop_slope'] = w_cat_ids.apply(lambda row: slopes[row['shop_id']], axis=1)"
   ]
  },
  {
   "cell_type": "code",
   "execution_count": 18,
   "metadata": {},
   "outputs": [],
   "source": [
    "w_cat_ids['positive_trend'] = w_cat_ids.shop_slope > 0"
   ]
  },
  {
   "cell_type": "code",
   "execution_count": 35,
   "metadata": {},
   "outputs": [],
   "source": [
    "global_mean = w_cat_ids.groupby('item_id')['item_shop_count_month'].mean().mean()"
   ]
  },
  {
   "cell_type": "code",
   "execution_count": 36,
   "metadata": {},
   "outputs": [],
   "source": [
    "gc.collect()\n",
    "# YOUR CODE GOES HERE\n",
    "from sklearn.model_selection import KFold\n",
    "fold = KFold(n_splits=5, shuffle=False)\n",
    "\n",
    "split = list(fold.split(w_cat_ids))\n",
    "folds = [te for tr, te in split]\n",
    "\n",
    "\n",
    "for idx, fold in enumerate(folds):\n",
    "    other_folds = w_cat_ids[~w_cat_ids.index.isin(fold)]\n",
    "    mean = other_folds.groupby('item_id')['item_shop_count_month'].mean()\n",
    "    w_cat_ids.loc[fold,'mean_enc_kfold'] = w_cat_ids.loc[fold,:]['item_id'].map(mean)\n",
    "\n",
    "\n",
    "# Fill NaNs\n",
    "w_cat_ids['mean_enc_kfold'].fillna(global_mean, inplace=True) "
   ]
  },
  {
   "cell_type": "code",
   "execution_count": 37,
   "metadata": {},
   "outputs": [
    {
     "data": {
      "text/html": [
       "<div>\n",
       "<style scoped>\n",
       "    .dataframe tbody tr th:only-of-type {\n",
       "        vertical-align: middle;\n",
       "    }\n",
       "\n",
       "    .dataframe tbody tr th {\n",
       "        vertical-align: top;\n",
       "    }\n",
       "\n",
       "    .dataframe thead th {\n",
       "        text-align: right;\n",
       "    }\n",
       "</style>\n",
       "<table border=\"1\" class=\"dataframe\">\n",
       "  <thead>\n",
       "    <tr style=\"text-align: right;\">\n",
       "      <th></th>\n",
       "      <th>ID</th>\n",
       "      <th>shop_id</th>\n",
       "      <th>item_name</th>\n",
       "      <th>item_category_id</th>\n",
       "      <th>item_id</th>\n",
       "    </tr>\n",
       "    <tr>\n",
       "      <th>item_id</th>\n",
       "      <th></th>\n",
       "      <th></th>\n",
       "      <th></th>\n",
       "      <th></th>\n",
       "      <th></th>\n",
       "    </tr>\n",
       "  </thead>\n",
       "  <tbody>\n",
       "    <tr>\n",
       "      <th>30</th>\n",
       "      <td>2587</td>\n",
       "      <td>5</td>\n",
       "      <td>007: КООРДИНАТЫ «СКАЙФОЛЛ»</td>\n",
       "      <td>40</td>\n",
       "      <td>30</td>\n",
       "    </tr>\n",
       "    <tr>\n",
       "      <th>30</th>\n",
       "      <td>7687</td>\n",
       "      <td>4</td>\n",
       "      <td>007: КООРДИНАТЫ «СКАЙФОЛЛ»</td>\n",
       "      <td>40</td>\n",
       "      <td>30</td>\n",
       "    </tr>\n",
       "    <tr>\n",
       "      <th>30</th>\n",
       "      <td>12787</td>\n",
       "      <td>6</td>\n",
       "      <td>007: КООРДИНАТЫ «СКАЙФОЛЛ»</td>\n",
       "      <td>40</td>\n",
       "      <td>30</td>\n",
       "    </tr>\n",
       "    <tr>\n",
       "      <th>30</th>\n",
       "      <td>17887</td>\n",
       "      <td>3</td>\n",
       "      <td>007: КООРДИНАТЫ «СКАЙФОЛЛ»</td>\n",
       "      <td>40</td>\n",
       "      <td>30</td>\n",
       "    </tr>\n",
       "    <tr>\n",
       "      <th>30</th>\n",
       "      <td>22987</td>\n",
       "      <td>2</td>\n",
       "      <td>007: КООРДИНАТЫ «СКАЙФОЛЛ»</td>\n",
       "      <td>40</td>\n",
       "      <td>30</td>\n",
       "    </tr>\n",
       "  </tbody>\n",
       "</table>\n",
       "</div>"
      ],
      "text/plain": [
       "            ID  shop_id                   item_name  item_category_id  item_id\n",
       "item_id                                                                       \n",
       "30        2587        5  007: КООРДИНАТЫ «СКАЙФОЛЛ»                40       30\n",
       "30        7687        4  007: КООРДИНАТЫ «СКАЙФОЛЛ»                40       30\n",
       "30       12787        6  007: КООРДИНАТЫ «СКАЙФОЛЛ»                40       30\n",
       "30       17887        3  007: КООРДИНАТЫ «СКАЙФОЛЛ»                40       30\n",
       "30       22987        2  007: КООРДИНАТЫ «СКАЙФОЛЛ»                40       30"
      ]
     },
     "execution_count": 37,
     "metadata": {},
     "output_type": "execute_result"
    }
   ],
   "source": [
    "test_w_cat_ids = test.set_index('item_id').join(items.set_index('item_id'))\n",
    "test_w_cat_ids['item_id'] = test_w_cat_ids.index\n",
    "\n",
    "test_w_cat_ids.head()"
   ]
  },
  {
   "cell_type": "code",
   "execution_count": 38,
   "metadata": {},
   "outputs": [],
   "source": [
    "item_shop_level_data = w_cat_ids.drop_duplicates(['item_id', 'shop_id'])[['item_id', 'shop_id', 'item_shop_mean']]\n",
    "\n",
    "test_w_cat_ids = pd.merge(test_w_cat_ids, item_shop_level_data,  how='left', left_on=['item_id','shop_id'], right_on = ['item_id','shop_id'])"
   ]
  },
  {
   "cell_type": "code",
   "execution_count": 39,
   "metadata": {},
   "outputs": [],
   "source": [
    "category_shop_level_data = w_cat_ids.drop_duplicates(['item_category_id', 'shop_id'])[['item_category_id', 'shop_id', 'category_shop_count_month_avg']]\n",
    "\n",
    "test_w_cat_ids = pd.merge(test_w_cat_ids, category_shop_level_data,  how='left', left_on=['item_category_id','shop_id'], right_on = ['item_category_id','shop_id'])"
   ]
  },
  {
   "cell_type": "code",
   "execution_count": 40,
   "metadata": {},
   "outputs": [],
   "source": [
    "shop_level_data = w_cat_ids.drop_duplicates(['shop_id'])\n",
    "shop_level_data = shop_level_data.set_index('shop_id')\n",
    "\n",
    "test_w_cat_ids['total_articles_sold_by_shop'] = test_w_cat_ids.shop_id.map(shop_level_data.total_articles_sold_by_shop)\n",
    "test_w_cat_ids['number_of_items_linked_to_shop'] = test_w_cat_ids.shop_id.map(shop_level_data.number_of_items_linked_to_shop)\n",
    "test_w_cat_ids['shop_percentage_of_all_sold_items'] = test_w_cat_ids.shop_id.map(shop_level_data.shop_percentage_of_all_sold_items)\n",
    "test_w_cat_ids['global_shop_count_month_avg'] = test_w_cat_ids.shop_id.map(shop_level_data.global_shop_count_month_avg)"
   ]
  },
  {
   "cell_type": "code",
   "execution_count": 41,
   "metadata": {},
   "outputs": [],
   "source": [
    "category_level_data = w_cat_ids.drop_duplicates(['item_category_id'])\n",
    "category_level_data = category_level_data.set_index('item_category_id')\n",
    "\n",
    "test_w_cat_ids['global_category_count_month_avg'] = test_w_cat_ids.item_category_id.map(category_level_data.global_category_count_month_avg)\n",
    "test_w_cat_ids['category_percentage_of_all_sold_items'] = test_w_cat_ids.item_category_id.map(category_level_data.category_percentage_of_all_sold_items)\n",
    "test_w_cat_ids['number_of_items_in_category'] = test_w_cat_ids.item_category_id.map(category_level_data.number_of_items_in_category)\n",
    "\n"
   ]
  },
  {
   "cell_type": "code",
   "execution_count": 42,
   "metadata": {},
   "outputs": [],
   "source": [
    "item_level_data = w_cat_ids.drop_duplicates(['item_id'])\n",
    "item_level_data = item_level_data.set_index('item_id')\n",
    "\n",
    "test_w_cat_ids['global_item_count_month_avg'] = test_w_cat_ids.item_id.map(item_level_data.global_item_count_month_avg)"
   ]
  },
  {
   "cell_type": "code",
   "execution_count": 43,
   "metadata": {},
   "outputs": [],
   "source": [
    "test_w_cat_ids['global_count_month_avg'] = w_cat_ids[w_cat_ids.month == 11].groupby(['year'])['item_cnt_day'].transform('sum') / total_shops / total_articles"
   ]
  },
  {
   "cell_type": "code",
   "execution_count": 44,
   "metadata": {},
   "outputs": [],
   "source": [
    "gc.collect()\n",
    "\n",
    "w_cat_ids['cumsums_nov'] = w_cat_ids.groupby(['shop_id','item_id', 'date_block_num'])['cumulative_item_shop_month'].transform('last') + w_cat_ids.global_item_count_month_avg\n",
    "\n",
    "\n",
    "cumsums_nov = w_cat_ids.drop_duplicates(['shop_id', 'item_id'])[['shop_id', 'item_id', 'cumsums_nov']]\n",
    "test_w_cat_ids = pd.merge(test_w_cat_ids, cumsums_nov,  how='left', left_on=['item_id','shop_id'], right_on = ['item_id','shop_id'])\n",
    "test_w_cat_ids['cumulative_item_shop_month'] = test_w_cat_ids.cumsums_nov"
   ]
  },
  {
   "cell_type": "code",
   "execution_count": 45,
   "metadata": {},
   "outputs": [],
   "source": [
    "gc.collect()\n",
    " \n",
    "item_shop_level_data = w_cat_ids[w_cat_ids.date_block_num.isin([33])][['item_id', 'shop_id', 'date_block_num', 'item_shop_count_month', 'item_shop_count_month_minus_1',\\\n",
    "               'item_shop_count_month_minus_2','item_shop_count_month_minus_3', 'item_shop_count_month_avg_previous_3']].drop_duplicates(['shop_id', 'item_id'])\n",
    "\n",
    "test_w_cat_ids = pd.merge(test_w_cat_ids, item_shop_level_data,  how='left', left_on=['item_id','shop_id'], right_on = ['item_id','shop_id'])\n",
    "\n",
    "\n",
    "test_w_cat_ids.item_shop_count_month_minus_1 = test_w_cat_ids['item_shop_count_month']\n",
    "test_w_cat_ids.item_shop_count_month_minus_2 = test_w_cat_ids['item_shop_count_month_minus_1']\n",
    "test_w_cat_ids.item_shop_count_month_minus_3 = test_w_cat_ids['item_shop_count_month_minus_2']\n",
    "\n",
    "test_w_cat_ids['item_shop_count_month_avg_previous_3'] = test_w_cat_ids[['item_shop_count_month_minus_1', 'item_shop_count_month_minus_2', 'item_shop_count_month_minus_3']].mean(axis=1)"
   ]
  },
  {
   "cell_type": "code",
   "execution_count": 46,
   "metadata": {},
   "outputs": [
    {
     "data": {
      "text/plain": [
       "Index(['ID', 'shop_id', 'item_name', 'item_category_id', 'item_id',\n",
       "       'item_shop_mean', 'category_shop_count_month_avg',\n",
       "       'total_articles_sold_by_shop', 'number_of_items_linked_to_shop',\n",
       "       'shop_percentage_of_all_sold_items', 'global_shop_count_month_avg',\n",
       "       'global_category_count_month_avg',\n",
       "       'category_percentage_of_all_sold_items', 'number_of_items_in_category',\n",
       "       'global_item_count_month_avg', 'global_count_month_avg', 'cumsums_nov',\n",
       "       'cumulative_item_shop_month', 'date_block_num', 'item_shop_count_month',\n",
       "       'item_shop_count_month_minus_1', 'item_shop_count_month_minus_2',\n",
       "       'item_shop_count_month_minus_3',\n",
       "       'item_shop_count_month_avg_previous_3'],\n",
       "      dtype='object')"
      ]
     },
     "execution_count": 46,
     "metadata": {},
     "output_type": "execute_result"
    }
   ],
   "source": [
    "test_w_cat_ids.columns"
   ]
  },
  {
   "cell_type": "code",
   "execution_count": 47,
   "metadata": {},
   "outputs": [],
   "source": [
    "x = w_cat_ids.drop(['item_price', 'date', 'item_cnt_day', 'day', 'month', 'year', 'item_name', 'item_shop_count_month'], axis=1)  \n",
    "y = w_cat_ids['item_shop_count_month']"
   ]
  },
  {
   "cell_type": "code",
   "execution_count": 48,
   "metadata": {},
   "outputs": [],
   "source": [
    "val_indices = w_cat_ids[w_cat_ids.date_block_num.isin([32,33])].index\n",
    "\n",
    "x_train = x[~x.index.isin(val_indices)]\n",
    "y_train = y[~y.index.isin(val_indices)]\n",
    "\n",
    "x_val = x[x.index.isin(val_indices)]\n",
    "y_val = y[y.index.isin(val_indices)]\n"
   ]
  },
  {
   "cell_type": "code",
   "execution_count": 49,
   "metadata": {},
   "outputs": [],
   "source": [
    "lgtrain = lgbm.Dataset(x_train, label=y_train)\n",
    "lgval = lgbm.Dataset(x_val, label=y_val)\n",
    "\n",
    "\n",
    "\n",
    "#[0.00542047893814942, 29, 24, 0.39949465609514856, 1, 0.67943500, 10]\n",
    "params = {\n",
    "        \"num_threads\": 8,\n",
    "        \"verbosity\": -1,\n",
    "        #\"zero_as_missing\": \"true\",\n",
    "        \"boosting\":'gbdt',\n",
    "        \"objective\" : \"regression\",\n",
    "        \"metric\" : \"rmse\",\n",
    "        \"seed\": 42,\n",
    "        \"learning_rate\" : 0.05,\n",
    "        #\"num_leaves\": 29,\n",
    "        #\"max_depth\" : 24,\n",
    "        #\"bagging_fraction\": 0.4,\n",
    "        #\"bagging_freq\": 1,\n",
    "        #\"feature_fraction\": 0.68,\n",
    "        #\"lambda_l1\": 10,\n",
    "}"
   ]
  },
  {
   "cell_type": "code",
   "execution_count": 50,
   "metadata": {},
   "outputs": [
    {
     "name": "stdout",
     "output_type": "stream",
     "text": [
      "Training until validation scores don't improve for 100 rounds.\n",
      "[100]\tvalid_0's rmse: 1.52031\n",
      "[200]\tvalid_0's rmse: 1.40593\n",
      "[300]\tvalid_0's rmse: 1.35467\n",
      "[400]\tvalid_0's rmse: 1.32828\n",
      "[500]\tvalid_0's rmse: 1.31036\n",
      "[600]\tvalid_0's rmse: 1.29825\n",
      "[700]\tvalid_0's rmse: 1.28826\n",
      "[800]\tvalid_0's rmse: 1.28141\n",
      "[900]\tvalid_0's rmse: 1.27462\n",
      "[1000]\tvalid_0's rmse: 1.27002\n",
      "[1100]\tvalid_0's rmse: 1.26547\n",
      "[1200]\tvalid_0's rmse: 1.26014\n",
      "[1300]\tvalid_0's rmse: 1.25707\n",
      "[1400]\tvalid_0's rmse: 1.25283\n",
      "[1500]\tvalid_0's rmse: 1.25124\n",
      "[1600]\tvalid_0's rmse: 1.24871\n",
      "[1700]\tvalid_0's rmse: 1.24862\n",
      "[1800]\tvalid_0's rmse: 1.24608\n",
      "[1900]\tvalid_0's rmse: 1.24489\n",
      "[2000]\tvalid_0's rmse: 1.24431\n",
      "[2100]\tvalid_0's rmse: 1.24367\n",
      "[2200]\tvalid_0's rmse: 1.24383\n",
      "[2300]\tvalid_0's rmse: 1.24309\n",
      "[2400]\tvalid_0's rmse: 1.24258\n",
      "[2500]\tvalid_0's rmse: 1.24146\n",
      "[2600]\tvalid_0's rmse: 1.24113\n",
      "[2700]\tvalid_0's rmse: 1.24015\n",
      "[2800]\tvalid_0's rmse: 1.24004\n",
      "Early stopping, best iteration is:\n",
      "[2751]\tvalid_0's rmse: 1.23952\n"
     ]
    }
   ],
   "source": [
    "evals_result = {}\n",
    "model_lgb = lgbm.train(params, lgtrain, 50000, \n",
    "                      valid_sets=[lgval], \n",
    "                      early_stopping_rounds=100, \n",
    "                      verbose_eval=100, \n",
    "                      evals_result=evals_result)"
   ]
  },
  {
   "cell_type": "code",
   "execution_count": 51,
   "metadata": {},
   "outputs": [
    {
     "ename": "ValueError",
     "evalue": "DataFrame.dtypes for data must be int, float or bool.\nDid not expect the data types in fields item_name",
     "output_type": "error",
     "traceback": [
      "\u001b[0;31m---------------------------------------------------------------------------\u001b[0m",
      "\u001b[0;31mValueError\u001b[0m                                Traceback (most recent call last)",
      "\u001b[0;32m<ipython-input-51-68e33b6265a5>\u001b[0m in \u001b[0;36m<module>\u001b[0;34m\u001b[0m\n\u001b[0;32m----> 1\u001b[0;31m \u001b[0mpreds\u001b[0m \u001b[0;34m=\u001b[0m \u001b[0mmodel_lgb\u001b[0m\u001b[0;34m.\u001b[0m\u001b[0mpredict\u001b[0m\u001b[0;34m(\u001b[0m\u001b[0mtest_w_cat_ids\u001b[0m\u001b[0;34m)\u001b[0m\u001b[0;34m\u001b[0m\u001b[0m\n\u001b[0m",
      "\u001b[0;32m/opt/conda/lib/python3.6/site-packages/lightgbm/basic.py\u001b[0m in \u001b[0;36mpredict\u001b[0;34m(self, data, num_iteration, raw_score, pred_leaf, pred_contrib, data_has_header, is_reshape, **kwargs)\u001b[0m\n\u001b[1;32m   2159\u001b[0m         return predictor.predict(data, num_iteration,\n\u001b[1;32m   2160\u001b[0m                                  \u001b[0mraw_score\u001b[0m\u001b[0;34m,\u001b[0m \u001b[0mpred_leaf\u001b[0m\u001b[0;34m,\u001b[0m \u001b[0mpred_contrib\u001b[0m\u001b[0;34m,\u001b[0m\u001b[0;34m\u001b[0m\u001b[0m\n\u001b[0;32m-> 2161\u001b[0;31m                                  data_has_header, is_reshape)\n\u001b[0m\u001b[1;32m   2162\u001b[0m \u001b[0;34m\u001b[0m\u001b[0m\n\u001b[1;32m   2163\u001b[0m     \u001b[0;32mdef\u001b[0m \u001b[0mrefit\u001b[0m\u001b[0;34m(\u001b[0m\u001b[0mself\u001b[0m\u001b[0;34m,\u001b[0m \u001b[0mdata\u001b[0m\u001b[0;34m,\u001b[0m \u001b[0mlabel\u001b[0m\u001b[0;34m,\u001b[0m \u001b[0mdecay_rate\u001b[0m\u001b[0;34m=\u001b[0m\u001b[0;36m0.9\u001b[0m\u001b[0;34m,\u001b[0m \u001b[0;34m**\u001b[0m\u001b[0mkwargs\u001b[0m\u001b[0;34m)\u001b[0m\u001b[0;34m:\u001b[0m\u001b[0;34m\u001b[0m\u001b[0m\n",
      "\u001b[0;32m/opt/conda/lib/python3.6/site-packages/lightgbm/basic.py\u001b[0m in \u001b[0;36mpredict\u001b[0;34m(self, data, num_iteration, raw_score, pred_leaf, pred_contrib, data_has_header, is_reshape)\u001b[0m\n\u001b[1;32m    427\u001b[0m         \u001b[0;32mif\u001b[0m \u001b[0misinstance\u001b[0m\u001b[0;34m(\u001b[0m\u001b[0mdata\u001b[0m\u001b[0;34m,\u001b[0m \u001b[0mDataset\u001b[0m\u001b[0;34m)\u001b[0m\u001b[0;34m:\u001b[0m\u001b[0;34m\u001b[0m\u001b[0m\n\u001b[1;32m    428\u001b[0m             \u001b[0;32mraise\u001b[0m \u001b[0mTypeError\u001b[0m\u001b[0;34m(\u001b[0m\u001b[0;34m\"Cannot use Dataset instance for prediction, please use raw data instead\"\u001b[0m\u001b[0;34m)\u001b[0m\u001b[0;34m\u001b[0m\u001b[0m\n\u001b[0;32m--> 429\u001b[0;31m         \u001b[0mdata\u001b[0m \u001b[0;34m=\u001b[0m \u001b[0m_data_from_pandas\u001b[0m\u001b[0;34m(\u001b[0m\u001b[0mdata\u001b[0m\u001b[0;34m,\u001b[0m \u001b[0;32mNone\u001b[0m\u001b[0;34m,\u001b[0m \u001b[0;32mNone\u001b[0m\u001b[0;34m,\u001b[0m \u001b[0mself\u001b[0m\u001b[0;34m.\u001b[0m\u001b[0mpandas_categorical\u001b[0m\u001b[0;34m)\u001b[0m\u001b[0;34m[\u001b[0m\u001b[0;36m0\u001b[0m\u001b[0;34m]\u001b[0m\u001b[0;34m\u001b[0m\u001b[0m\n\u001b[0m\u001b[1;32m    430\u001b[0m         \u001b[0mpredict_type\u001b[0m \u001b[0;34m=\u001b[0m \u001b[0mC_API_PREDICT_NORMAL\u001b[0m\u001b[0;34m\u001b[0m\u001b[0m\n\u001b[1;32m    431\u001b[0m         \u001b[0;32mif\u001b[0m \u001b[0mraw_score\u001b[0m\u001b[0;34m:\u001b[0m\u001b[0;34m\u001b[0m\u001b[0m\n",
      "\u001b[0;32m/opt/conda/lib/python3.6/site-packages/lightgbm/basic.py\u001b[0m in \u001b[0;36m_data_from_pandas\u001b[0;34m(data, feature_name, categorical_feature, pandas_categorical)\u001b[0m\n\u001b[1;32m    275\u001b[0m             msg = (\"DataFrame.dtypes for data must be int, float or bool.\\n\"\n\u001b[1;32m    276\u001b[0m                    \"Did not expect the data types in fields \")\n\u001b[0;32m--> 277\u001b[0;31m             \u001b[0;32mraise\u001b[0m \u001b[0mValueError\u001b[0m\u001b[0;34m(\u001b[0m\u001b[0mmsg\u001b[0m \u001b[0;34m+\u001b[0m \u001b[0;34m', '\u001b[0m\u001b[0;34m.\u001b[0m\u001b[0mjoin\u001b[0m\u001b[0;34m(\u001b[0m\u001b[0mbad_fields\u001b[0m\u001b[0;34m)\u001b[0m\u001b[0;34m)\u001b[0m\u001b[0;34m\u001b[0m\u001b[0m\n\u001b[0m\u001b[1;32m    278\u001b[0m         \u001b[0mdata\u001b[0m \u001b[0;34m=\u001b[0m \u001b[0mdata\u001b[0m\u001b[0;34m.\u001b[0m\u001b[0mvalues\u001b[0m\u001b[0;34m.\u001b[0m\u001b[0mastype\u001b[0m\u001b[0;34m(\u001b[0m\u001b[0;34m'float'\u001b[0m\u001b[0;34m)\u001b[0m\u001b[0;34m\u001b[0m\u001b[0m\n\u001b[1;32m    279\u001b[0m     \u001b[0;32melse\u001b[0m\u001b[0;34m:\u001b[0m\u001b[0;34m\u001b[0m\u001b[0m\n",
      "\u001b[0;31mValueError\u001b[0m: DataFrame.dtypes for data must be int, float or bool.\nDid not expect the data types in fields item_name"
     ]
    }
   ],
   "source": [
    "preds = model_lgb.predict(test_w_cat_ids)"
   ]
  },
  {
   "cell_type": "code",
   "execution_count": null,
   "metadata": {},
   "outputs": [],
   "source": [
    "submission = test.loc[:,['ID']]\n",
    "submission['Prediction'] = pred.astype(int)\n",
    "\n",
    "submission.to_csv('submission.csv', index=False)"
   ]
  },
  {
   "cell_type": "code",
   "execution_count": null,
   "metadata": {},
   "outputs": [],
   "source": []
  }
 ],
 "metadata": {
  "kernelspec": {
   "display_name": "Python 3",
   "language": "python",
   "name": "python3"
  },
  "language_info": {
   "codemirror_mode": {
    "name": "ipython",
    "version": 3
   },
   "file_extension": ".py",
   "mimetype": "text/x-python",
   "name": "python",
   "nbconvert_exporter": "python",
   "pygments_lexer": "ipython3",
   "version": "3.6.5"
  }
 },
 "nbformat": 4,
 "nbformat_minor": 2
}
