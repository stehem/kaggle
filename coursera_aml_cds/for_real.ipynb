{
 "cells": [
  {
   "cell_type": "code",
   "execution_count": 1,
   "metadata": {},
   "outputs": [
    {
     "data": {
      "text/html": [
       "<style>.container { width:100% !important; }</style>"
      ],
      "text/plain": [
       "<IPython.core.display.HTML object>"
      ]
     },
     "metadata": {},
     "output_type": "display_data"
    }
   ],
   "source": [
    "from IPython.core.display import display, HTML\n",
    "display(HTML(\"<style>.container { width:100% !important; }</style>\"))"
   ]
  },
  {
   "cell_type": "code",
   "execution_count": 2,
   "metadata": {},
   "outputs": [],
   "source": [
    "import pandas as pd\n",
    "import numpy as np\n",
    "import os\n",
    "import matplotlib.pyplot as plt\n",
    "%matplotlib inline \n",
    "from sklearn.ensemble import RandomForestRegressor\n",
    "from sklearn.tree import DecisionTreeRegressor\n",
    "from sklearn.tree import export_graphviz\n",
    "import matplotlib.pyplot as plt\n",
    "import seaborn as sns\n",
    "\n",
    "import lightgbm as lgbm\n",
    "import gc\n",
    "import xgboost as xgb\n",
    "from sklearn.linear_model import ElasticNet, Lasso, Ridge, LinearRegression\n",
    "import pickle\n",
    "from sklearn.model_selection import KFold\n",
    "from catboost import CatBoostRegressor\n",
    "from sklearn.metrics import mean_squared_error\n",
    "from math import sqrt"
   ]
  },
  {
   "cell_type": "code",
   "execution_count": 33,
   "metadata": {},
   "outputs": [],
   "source": [
    "transactions    = pd.read_csv('sales_train.csv.gz')\n",
    "items           = pd.read_csv('items.csv')\n",
    "item_categories = pd.read_csv('item_categories.csv')\n",
    "shops           = pd.read_csv('shops.csv')\n",
    "test            = pd.read_csv('test.csv.gz')"
   ]
  },
  {
   "cell_type": "code",
   "execution_count": 34,
   "metadata": {},
   "outputs": [],
   "source": [
    "INDEX_COLS = ['item_id', 'shop_id', 'date_block_num']"
   ]
  },
  {
   "cell_type": "code",
   "execution_count": 35,
   "metadata": {},
   "outputs": [
    {
     "data": {
      "text/html": [
       "<div>\n",
       "<style scoped>\n",
       "    .dataframe tbody tr th:only-of-type {\n",
       "        vertical-align: middle;\n",
       "    }\n",
       "\n",
       "    .dataframe tbody tr th {\n",
       "        vertical-align: top;\n",
       "    }\n",
       "\n",
       "    .dataframe thead th {\n",
       "        text-align: right;\n",
       "    }\n",
       "</style>\n",
       "<table border=\"1\" class=\"dataframe\">\n",
       "  <thead>\n",
       "    <tr style=\"text-align: right;\">\n",
       "      <th></th>\n",
       "      <th>date</th>\n",
       "      <th>date_block_num</th>\n",
       "      <th>shop_id</th>\n",
       "      <th>item_id</th>\n",
       "      <th>item_price</th>\n",
       "      <th>item_cnt_day</th>\n",
       "      <th>item_category_id</th>\n",
       "    </tr>\n",
       "  </thead>\n",
       "  <tbody>\n",
       "    <tr>\n",
       "      <th>1366911</th>\n",
       "      <td>01.02.2014</td>\n",
       "      <td>13</td>\n",
       "      <td>27</td>\n",
       "      <td>15242</td>\n",
       "      <td>699.0</td>\n",
       "      <td>1.0</td>\n",
       "      <td>63</td>\n",
       "    </tr>\n",
       "    <tr>\n",
       "      <th>1366912</th>\n",
       "      <td>25.02.2014</td>\n",
       "      <td>13</td>\n",
       "      <td>27</td>\n",
       "      <td>15200</td>\n",
       "      <td>299.0</td>\n",
       "      <td>1.0</td>\n",
       "      <td>69</td>\n",
       "    </tr>\n",
       "    <tr>\n",
       "      <th>1366913</th>\n",
       "      <td>19.02.2014</td>\n",
       "      <td>13</td>\n",
       "      <td>27</td>\n",
       "      <td>15279</td>\n",
       "      <td>799.0</td>\n",
       "      <td>1.0</td>\n",
       "      <td>63</td>\n",
       "    </tr>\n",
       "    <tr>\n",
       "      <th>1366914</th>\n",
       "      <td>26.02.2014</td>\n",
       "      <td>13</td>\n",
       "      <td>27</td>\n",
       "      <td>15202</td>\n",
       "      <td>299.0</td>\n",
       "      <td>1.0</td>\n",
       "      <td>69</td>\n",
       "    </tr>\n",
       "    <tr>\n",
       "      <th>1366915</th>\n",
       "      <td>01.02.2014</td>\n",
       "      <td>13</td>\n",
       "      <td>27</td>\n",
       "      <td>14888</td>\n",
       "      <td>549.0</td>\n",
       "      <td>1.0</td>\n",
       "      <td>55</td>\n",
       "    </tr>\n",
       "  </tbody>\n",
       "</table>\n",
       "</div>"
      ],
      "text/plain": [
       "               date  date_block_num  shop_id  item_id  item_price  \\\n",
       "1366911  01.02.2014              13       27    15242       699.0   \n",
       "1366912  25.02.2014              13       27    15200       299.0   \n",
       "1366913  19.02.2014              13       27    15279       799.0   \n",
       "1366914  26.02.2014              13       27    15202       299.0   \n",
       "1366915  01.02.2014              13       27    14888       549.0   \n",
       "\n",
       "         item_cnt_day  item_category_id  \n",
       "1366911           1.0                63  \n",
       "1366912           1.0                69  \n",
       "1366913           1.0                63  \n",
       "1366914           1.0                69  \n",
       "1366915           1.0                55  "
      ]
     },
     "execution_count": 35,
     "metadata": {},
     "output_type": "execute_result"
    }
   ],
   "source": [
    "transactions = pd.merge(transactions, items, on='item_id', how='left')\n",
    "transactions = transactions.drop('item_name', axis=1)\n",
    "transactions = transactions[transactions['date_block_num'] > 12]\n",
    "transactions.head()"
   ]
  },
  {
   "cell_type": "code",
   "execution_count": 36,
   "metadata": {},
   "outputs": [],
   "source": [
    "train_item_ids = transactions['item_id'].unique()\n",
    "train_shop_ids = transactions['shop_id'].unique()\n",
    "test_item_ids = test['item_id'].unique()\n",
    "test_shop_ids = test['shop_id'].unique()\n",
    "train_blocks = transactions['date_block_num'].unique()\n",
    "\n",
    "all_item_ids = np.unique(np.append(test_item_ids,train_item_ids))\n",
    "all_shop_ids = np.unique(np.append(train_shop_ids,test_shop_ids))"
   ]
  },
  {
   "cell_type": "code",
   "execution_count": 53,
   "metadata": {},
   "outputs": [],
   "source": [
    "combinations = []\n",
    "for shop in all_shop_ids:\n",
    "    #get all article ids ever associated to this shop\n",
    "    train_ids = transactions[transactions['shop_id'] == shop]['item_id'].unique()\n",
    "    test_ids = test[test['shop_id'] == shop]['item_id'].unique()\n",
    "    all_shop = np.unique(np.append(train_ids, test_ids))\n",
    "    all_shop_combo = [[item, shop, block] for item in all_shop for block in train_blocks]\n",
    "    for combo in all_shop_combo:\n",
    "        combinations.append(combo)"
   ]
  },
  {
   "cell_type": "code",
   "execution_count": 69,
   "metadata": {},
   "outputs": [],
   "source": [
    "all_combos = pd.DataFrame(np.unique(np.vstack([combinations]), axis=0), columns=['item_id', 'shop_id', 'date_block_num'])"
   ]
  },
  {
   "cell_type": "code",
   "execution_count": 70,
   "metadata": {},
   "outputs": [
    {
     "data": {
      "text/plain": [
       "7722666"
      ]
     },
     "execution_count": 70,
     "metadata": {},
     "output_type": "execute_result"
    }
   ],
   "source": [
    "len(all_combos)"
   ]
  },
  {
   "cell_type": "code",
   "execution_count": 71,
   "metadata": {},
   "outputs": [],
   "source": [
    "all_combos = pd.merge(all_combos, items[['item_id', 'item_category_id']], on='item_id', how='left')"
   ]
  },
  {
   "cell_type": "code",
   "execution_count": 72,
   "metadata": {},
   "outputs": [
    {
     "data": {
      "text/plain": [
       "7722666"
      ]
     },
     "execution_count": 72,
     "metadata": {},
     "output_type": "execute_result"
    }
   ],
   "source": [
    "len(all_combos)"
   ]
  },
  {
   "cell_type": "code",
   "execution_count": 73,
   "metadata": {},
   "outputs": [],
   "source": [
    "all_combos = pd.merge(all_combos, transactions[['item_price', 'item_id', 'shop_id']].drop_duplicates(['item_id', 'shop_id']), \\\n",
    "                      on=['item_id', 'shop_id'], how='left')"
   ]
  },
  {
   "cell_type": "code",
   "execution_count": 74,
   "metadata": {},
   "outputs": [
    {
     "data": {
      "text/plain": [
       "7722666"
      ]
     },
     "execution_count": 74,
     "metadata": {},
     "output_type": "execute_result"
    }
   ],
   "source": [
    "len(all_combos)"
   ]
  },
  {
   "cell_type": "code",
   "execution_count": 75,
   "metadata": {},
   "outputs": [
    {
     "data": {
      "text/html": [
       "<div>\n",
       "<style scoped>\n",
       "    .dataframe tbody tr th:only-of-type {\n",
       "        vertical-align: middle;\n",
       "    }\n",
       "\n",
       "    .dataframe tbody tr th {\n",
       "        vertical-align: top;\n",
       "    }\n",
       "\n",
       "    .dataframe thead th {\n",
       "        text-align: right;\n",
       "    }\n",
       "</style>\n",
       "<table border=\"1\" class=\"dataframe\">\n",
       "  <thead>\n",
       "    <tr style=\"text-align: right;\">\n",
       "      <th></th>\n",
       "      <th>item_id</th>\n",
       "      <th>shop_id</th>\n",
       "      <th>date_block_num</th>\n",
       "      <th>item_category_id</th>\n",
       "      <th>item_price</th>\n",
       "    </tr>\n",
       "  </thead>\n",
       "  <tbody>\n",
       "    <tr>\n",
       "      <th>0</th>\n",
       "      <td>0</td>\n",
       "      <td>54</td>\n",
       "      <td>13</td>\n",
       "      <td>40</td>\n",
       "      <td>58.0</td>\n",
       "    </tr>\n",
       "    <tr>\n",
       "      <th>1</th>\n",
       "      <td>0</td>\n",
       "      <td>54</td>\n",
       "      <td>14</td>\n",
       "      <td>40</td>\n",
       "      <td>58.0</td>\n",
       "    </tr>\n",
       "    <tr>\n",
       "      <th>2</th>\n",
       "      <td>0</td>\n",
       "      <td>54</td>\n",
       "      <td>15</td>\n",
       "      <td>40</td>\n",
       "      <td>58.0</td>\n",
       "    </tr>\n",
       "    <tr>\n",
       "      <th>3</th>\n",
       "      <td>0</td>\n",
       "      <td>54</td>\n",
       "      <td>16</td>\n",
       "      <td>40</td>\n",
       "      <td>58.0</td>\n",
       "    </tr>\n",
       "    <tr>\n",
       "      <th>4</th>\n",
       "      <td>0</td>\n",
       "      <td>54</td>\n",
       "      <td>17</td>\n",
       "      <td>40</td>\n",
       "      <td>58.0</td>\n",
       "    </tr>\n",
       "  </tbody>\n",
       "</table>\n",
       "</div>"
      ],
      "text/plain": [
       "   item_id  shop_id  date_block_num  item_category_id  item_price\n",
       "0        0       54              13                40        58.0\n",
       "1        0       54              14                40        58.0\n",
       "2        0       54              15                40        58.0\n",
       "3        0       54              16                40        58.0\n",
       "4        0       54              17                40        58.0"
      ]
     },
     "execution_count": 75,
     "metadata": {},
     "output_type": "execute_result"
    }
   ],
   "source": [
    "all_combos.head()"
   ]
  },
  {
   "cell_type": "code",
   "execution_count": 76,
   "metadata": {},
   "outputs": [],
   "source": [
    "transactions['y'] = transactions.groupby(['date_block_num','shop_id','item_id'])['item_cnt_day'].transform(np.sum).clip(0,20)"
   ]
  },
  {
   "cell_type": "code",
   "execution_count": 77,
   "metadata": {},
   "outputs": [],
   "source": [
    "gc.collect()\n",
    "\n",
    "transactions['item_cnt_sum'] = transactions.groupby(['item_id', 'date_block_num'])['item_cnt_day'].transform(np.sum)\n",
    "transactions['item_cnt_mean'] = transactions.groupby(['item_id', 'date_block_num'])['item_cnt_day'].transform(np.mean)\n",
    "transactions['item_cnt_min'] = transactions.groupby(['item_id', 'date_block_num'])['item_cnt_day'].transform(np.min)\n",
    "transactions['item_cnt_max'] = transactions.groupby(['item_id', 'date_block_num'])['item_cnt_day'].transform(np.max)\n",
    "transactions['item_price_mean'] = transactions.groupby(['item_id', 'date_block_num'])['item_price'].transform(np.mean)\n",
    "\n",
    "\n",
    "transactions['shop_cnt_sum'] = transactions.groupby(['shop_id', 'date_block_num'])['item_cnt_day'].transform(np.sum)\n",
    "transactions['shop_cnt_mean'] = transactions.groupby(['shop_id', 'date_block_num'])['item_cnt_day'].transform(np.mean)\n",
    "transactions['shop_cnt_min'] = transactions.groupby(['shop_id', 'date_block_num'])['item_cnt_day'].transform(np.min)\n",
    "transactions['shop_cnt_max'] = transactions.groupby(['shop_id', 'date_block_num'])['item_cnt_day'].transform(np.max)\n",
    "transactions['shop_price_mean'] = transactions.groupby(['shop_id', 'date_block_num'])['item_price'].transform(np.mean)\n",
    "\n",
    "transactions['category_cnt_sum'] = transactions.groupby(['item_category_id', 'date_block_num'])['item_cnt_day'].transform(np.sum)\n",
    "transactions['category_cnt_mean'] = transactions.groupby(['item_category_id', 'date_block_num'])['item_cnt_day'].transform(np.mean)\n",
    "transactions['category_cnt_min'] = transactions.groupby(['item_category_id', 'date_block_num'])['item_cnt_day'].transform(np.min)\n",
    "transactions['category_cnt_max'] = transactions.groupby(['item_category_id', 'date_block_num'])['item_cnt_day'].transform(np.max)\n",
    "transactions['category_price_mean'] = transactions.groupby(['item_category_id', 'date_block_num'])['item_price'].transform(np.mean)\n",
    "\n",
    "\n",
    "transactions['shop_category_cnt_sum'] = transactions.groupby(['shop_id', 'item_category_id', 'date_block_num'])['item_cnt_day'].transform(np.sum)\n",
    "transactions['shop_category_cnt_mean'] = transactions.groupby(['shop_id', 'item_category_id', 'date_block_num'])['item_cnt_day'].transform(np.mean)\n",
    "transactions['shop_category_cnt_min'] = transactions.groupby(['shop_id', 'item_category_id', 'date_block_num'])['item_cnt_day'].transform(np.min)\n",
    "transactions['shop_category_cnt_max'] = transactions.groupby(['shop_id', 'item_category_id', 'date_block_num'])['item_cnt_day'].transform(np.max)\n",
    "transactions['shop_category_price_mean'] = transactions.groupby(['shop_id', 'item_category_id', 'date_block_num'])['item_price'].transform(np.mean)"
   ]
  },
  {
   "cell_type": "code",
   "execution_count": null,
   "metadata": {},
   "outputs": [],
   "source": [
    "#shop"
   ]
  },
  {
   "cell_type": "code",
   "execution_count": 78,
   "metadata": {},
   "outputs": [],
   "source": [
    "total_sales = transactions['item_cnt_day'].sum()\n",
    "transactions['shop_share_of_all_sales'] = transactions.groupby(['shop_id'])['item_cnt_day'].transform(np.sum) * 100 / total_sales\n",
    "\n",
    "transactions['block_total'] = transactions.groupby(['date_block_num'])['item_cnt_day'].transform(np.sum)\n",
    "transactions['shop_share_of_block_sales'] = transactions.groupby(['shop_id', 'date_block_num'])['item_cnt_day'].transform(np.sum)\\\n",
    "                        * 100 / transactions['block_total']\n",
    "transactions.drop('block_total', inplace=True, axis=1)"
   ]
  },
  {
   "cell_type": "code",
   "execution_count": 79,
   "metadata": {},
   "outputs": [],
   "source": [
    "total_gross = (transactions['item_price'] * transactions['item_cnt_day']).sum()\n",
    "\n",
    "transactions['gross'] = transactions['item_price'] * transactions['item_cnt_day']\n",
    "transactions['shop_share_of_total_gross'] = transactions.groupby(['shop_id'])['gross'].transform(np.sum) * 100 / total_gross\n",
    "transactions.drop('gross', inplace=True, axis=1)"
   ]
  },
  {
   "cell_type": "code",
   "execution_count": 80,
   "metadata": {},
   "outputs": [],
   "source": [
    "transactions['gross'] = transactions['item_price'] * transactions['item_cnt_day']\n",
    "transactions['block_gross'] = transactions.groupby(['date_block_num'])['gross'].transform(np.sum)\n",
    "\n",
    "transactions['shop_share_of_block_gross'] = transactions.groupby(['shop_id', 'date_block_num'])['gross'].transform(np.sum)\\\n",
    "                        * 100 / transactions['block_gross']\n",
    "transactions.drop('block_gross', inplace=True, axis=1)"
   ]
  },
  {
   "cell_type": "code",
   "execution_count": 81,
   "metadata": {},
   "outputs": [],
   "source": [
    "#category"
   ]
  },
  {
   "cell_type": "code",
   "execution_count": 82,
   "metadata": {},
   "outputs": [],
   "source": [
    "total_sales = transactions['item_cnt_day'].sum()\n",
    "transactions['category_share_of_all_sales'] = transactions.groupby(['item_category_id'])['item_cnt_day'].transform(np.sum) * 100 / total_sales\n",
    "\n",
    "transactions['block_total'] = transactions.groupby(['date_block_num'])['item_cnt_day'].transform(np.sum)\n",
    "transactions['category_share_of_block_sales'] = transactions.groupby(['item_category_id', 'date_block_num'])['item_cnt_day'].transform(np.sum)\\\n",
    "                        * 100 / transactions['block_total']\n",
    "transactions.drop('block_total', inplace=True, axis=1)"
   ]
  },
  {
   "cell_type": "code",
   "execution_count": 83,
   "metadata": {},
   "outputs": [],
   "source": [
    "total_gross = (transactions['item_price'] * transactions['item_cnt_day']).sum()\n",
    "\n",
    "transactions['gross'] = transactions['item_price'] * transactions['item_cnt_day']\n",
    "transactions['category_share_of_total_gross'] = transactions.groupby(['item_category_id'])['gross'].transform(np.sum) * 100 / total_gross\n",
    "transactions.drop('gross', inplace=True, axis=1)"
   ]
  },
  {
   "cell_type": "code",
   "execution_count": 101,
   "metadata": {},
   "outputs": [],
   "source": [
    "total_gross = (transactions['item_price'] * transactions['item_cnt_day']).sum()\n",
    "\n",
    "transactions['gross'] = transactions['item_price'] * transactions['item_cnt_day']\n",
    "transactions['category_share_of_block_gross'] = transactions.groupby(['item_category_id', 'date_block_num'])['gross'].transform(np.sum) * 100 / total_gross\n",
    "transactions.drop('gross', inplace=True, axis=1)"
   ]
  },
  {
   "cell_type": "code",
   "execution_count": 85,
   "metadata": {},
   "outputs": [],
   "source": [
    "#item"
   ]
  },
  {
   "cell_type": "code",
   "execution_count": 86,
   "metadata": {},
   "outputs": [],
   "source": [
    "total_sales = transactions['item_cnt_day'].sum()\n",
    "transactions['item_share_of_all_sales'] = transactions.groupby(['item_id'])['item_cnt_day'].transform(np.sum) * 100 / total_sales\n",
    "\n",
    "transactions['block_total'] = transactions.groupby(['date_block_num'])['item_cnt_day'].transform(np.sum)\n",
    "transactions['item_share_of_block_sales'] = transactions.groupby(['item_id', 'date_block_num'])['item_cnt_day'].transform(np.sum)\\\n",
    "                        * 100 / transactions['block_total']\n",
    "transactions.drop('block_total', inplace=True, axis=1)"
   ]
  },
  {
   "cell_type": "code",
   "execution_count": 87,
   "metadata": {},
   "outputs": [],
   "source": [
    "total_gross = (transactions['item_price'] * transactions['item_cnt_day']).sum()\n",
    "\n",
    "transactions['gross'] = transactions['item_price'] * transactions['item_cnt_day']\n",
    "transactions['item_share_of_total_gross'] = transactions.groupby(['item_id'])['gross'].transform(np.sum) * 100 / total_gross\n",
    "transactions.drop('gross', inplace=True, axis=1)"
   ]
  },
  {
   "cell_type": "code",
   "execution_count": 102,
   "metadata": {},
   "outputs": [],
   "source": [
    "total_gross = (transactions['item_price'] * transactions['item_cnt_day']).sum()\n",
    "\n",
    "transactions['gross'] = transactions['item_price'] * transactions['item_cnt_day']\n",
    "transactions['item_share_of_block_gross'] = transactions.groupby(['item_id', 'date_block_num'])['gross'].transform(np.sum) * 100 / total_gross\n",
    "transactions.drop('gross', inplace=True, axis=1)"
   ]
  },
  {
   "cell_type": "code",
   "execution_count": 89,
   "metadata": {},
   "outputs": [
    {
     "data": {
      "text/plain": [
       "100.00000000000006"
      ]
     },
     "execution_count": 89,
     "metadata": {},
     "output_type": "execute_result"
    }
   ],
   "source": [
    "transactions['shop_share_of_total_gross'].unique().sum()"
   ]
  },
  {
   "cell_type": "code",
   "execution_count": 90,
   "metadata": {},
   "outputs": [
    {
     "data": {
      "text/plain": [
       "7722666"
      ]
     },
     "execution_count": 90,
     "metadata": {},
     "output_type": "execute_result"
    }
   ],
   "source": [
    "len(all_combos)"
   ]
  },
  {
   "cell_type": "code",
   "execution_count": 91,
   "metadata": {},
   "outputs": [],
   "source": [
    "gc.collect()\n",
    "transactions.drop_duplicates(['item_id', 'shop_id', 'date_block_num'],inplace=True)\n",
    "training = pd.merge(all_combos,transactions,on=['item_id', 'shop_id', 'date_block_num'],how='left')\n"
   ]
  },
  {
   "cell_type": "code",
   "execution_count": 92,
   "metadata": {},
   "outputs": [
    {
     "data": {
      "text/html": [
       "<div>\n",
       "<style scoped>\n",
       "    .dataframe tbody tr th:only-of-type {\n",
       "        vertical-align: middle;\n",
       "    }\n",
       "\n",
       "    .dataframe tbody tr th {\n",
       "        vertical-align: top;\n",
       "    }\n",
       "\n",
       "    .dataframe thead th {\n",
       "        text-align: right;\n",
       "    }\n",
       "</style>\n",
       "<table border=\"1\" class=\"dataframe\">\n",
       "  <thead>\n",
       "    <tr style=\"text-align: right;\">\n",
       "      <th></th>\n",
       "      <th>item_id</th>\n",
       "      <th>shop_id</th>\n",
       "      <th>date_block_num</th>\n",
       "      <th>item_category_id</th>\n",
       "      <th>item_price</th>\n",
       "      <th>date</th>\n",
       "      <th>item_cnt_day</th>\n",
       "      <th>y</th>\n",
       "      <th>item_cnt_sum</th>\n",
       "      <th>item_cnt_mean</th>\n",
       "      <th>...</th>\n",
       "      <th>shop_share_of_all_sales</th>\n",
       "      <th>shop_share_of_block_sales</th>\n",
       "      <th>shop_share_of_total_gross</th>\n",
       "      <th>shop_share_of_block_gross</th>\n",
       "      <th>category_share_of_all_sales</th>\n",
       "      <th>category_share_of_block_sales</th>\n",
       "      <th>category_share_of_total_gross</th>\n",
       "      <th>item_share_of_all_sales</th>\n",
       "      <th>item_share_of_block_sales</th>\n",
       "      <th>item_share_of_total_gross</th>\n",
       "    </tr>\n",
       "  </thead>\n",
       "  <tbody>\n",
       "    <tr>\n",
       "      <th>5834611</th>\n",
       "      <td>16527</td>\n",
       "      <td>50</td>\n",
       "      <td>26</td>\n",
       "      <td>40</td>\n",
       "      <td>399.0</td>\n",
       "      <td>0</td>\n",
       "      <td>0.0</td>\n",
       "      <td>0.0</td>\n",
       "      <td>0.0</td>\n",
       "      <td>0.0</td>\n",
       "      <td>...</td>\n",
       "      <td>0.0</td>\n",
       "      <td>0.0</td>\n",
       "      <td>0.0</td>\n",
       "      <td>0.0</td>\n",
       "      <td>0.0</td>\n",
       "      <td>0.0</td>\n",
       "      <td>0.0</td>\n",
       "      <td>0.0</td>\n",
       "      <td>0.0</td>\n",
       "      <td>0.0</td>\n",
       "    </tr>\n",
       "    <tr>\n",
       "      <th>3536758</th>\n",
       "      <td>10676</td>\n",
       "      <td>25</td>\n",
       "      <td>14</td>\n",
       "      <td>67</td>\n",
       "      <td>750.0</td>\n",
       "      <td>0</td>\n",
       "      <td>0.0</td>\n",
       "      <td>0.0</td>\n",
       "      <td>0.0</td>\n",
       "      <td>0.0</td>\n",
       "      <td>...</td>\n",
       "      <td>0.0</td>\n",
       "      <td>0.0</td>\n",
       "      <td>0.0</td>\n",
       "      <td>0.0</td>\n",
       "      <td>0.0</td>\n",
       "      <td>0.0</td>\n",
       "      <td>0.0</td>\n",
       "      <td>0.0</td>\n",
       "      <td>0.0</td>\n",
       "      <td>0.0</td>\n",
       "    </tr>\n",
       "    <tr>\n",
       "      <th>6079789</th>\n",
       "      <td>17292</td>\n",
       "      <td>56</td>\n",
       "      <td>29</td>\n",
       "      <td>40</td>\n",
       "      <td>149.0</td>\n",
       "      <td>0</td>\n",
       "      <td>0.0</td>\n",
       "      <td>0.0</td>\n",
       "      <td>0.0</td>\n",
       "      <td>0.0</td>\n",
       "      <td>...</td>\n",
       "      <td>0.0</td>\n",
       "      <td>0.0</td>\n",
       "      <td>0.0</td>\n",
       "      <td>0.0</td>\n",
       "      <td>0.0</td>\n",
       "      <td>0.0</td>\n",
       "      <td>0.0</td>\n",
       "      <td>0.0</td>\n",
       "      <td>0.0</td>\n",
       "      <td>0.0</td>\n",
       "    </tr>\n",
       "    <tr>\n",
       "      <th>3489943</th>\n",
       "      <td>10549</td>\n",
       "      <td>25</td>\n",
       "      <td>29</td>\n",
       "      <td>40</td>\n",
       "      <td>149.0</td>\n",
       "      <td>0</td>\n",
       "      <td>0.0</td>\n",
       "      <td>0.0</td>\n",
       "      <td>0.0</td>\n",
       "      <td>0.0</td>\n",
       "      <td>...</td>\n",
       "      <td>0.0</td>\n",
       "      <td>0.0</td>\n",
       "      <td>0.0</td>\n",
       "      <td>0.0</td>\n",
       "      <td>0.0</td>\n",
       "      <td>0.0</td>\n",
       "      <td>0.0</td>\n",
       "      <td>0.0</td>\n",
       "      <td>0.0</td>\n",
       "      <td>0.0</td>\n",
       "    </tr>\n",
       "    <tr>\n",
       "      <th>6642346</th>\n",
       "      <td>18944</td>\n",
       "      <td>59</td>\n",
       "      <td>17</td>\n",
       "      <td>40</td>\n",
       "      <td>0.0</td>\n",
       "      <td>0</td>\n",
       "      <td>0.0</td>\n",
       "      <td>0.0</td>\n",
       "      <td>0.0</td>\n",
       "      <td>0.0</td>\n",
       "      <td>...</td>\n",
       "      <td>0.0</td>\n",
       "      <td>0.0</td>\n",
       "      <td>0.0</td>\n",
       "      <td>0.0</td>\n",
       "      <td>0.0</td>\n",
       "      <td>0.0</td>\n",
       "      <td>0.0</td>\n",
       "      <td>0.0</td>\n",
       "      <td>0.0</td>\n",
       "      <td>0.0</td>\n",
       "    </tr>\n",
       "    <tr>\n",
       "      <th>1364056</th>\n",
       "      <td>4188</td>\n",
       "      <td>48</td>\n",
       "      <td>14</td>\n",
       "      <td>76</td>\n",
       "      <td>0.0</td>\n",
       "      <td>0</td>\n",
       "      <td>0.0</td>\n",
       "      <td>0.0</td>\n",
       "      <td>0.0</td>\n",
       "      <td>0.0</td>\n",
       "      <td>...</td>\n",
       "      <td>0.0</td>\n",
       "      <td>0.0</td>\n",
       "      <td>0.0</td>\n",
       "      <td>0.0</td>\n",
       "      <td>0.0</td>\n",
       "      <td>0.0</td>\n",
       "      <td>0.0</td>\n",
       "      <td>0.0</td>\n",
       "      <td>0.0</td>\n",
       "      <td>0.0</td>\n",
       "    </tr>\n",
       "    <tr>\n",
       "      <th>7338507</th>\n",
       "      <td>20928</td>\n",
       "      <td>47</td>\n",
       "      <td>28</td>\n",
       "      <td>72</td>\n",
       "      <td>1229.0</td>\n",
       "      <td>0</td>\n",
       "      <td>0.0</td>\n",
       "      <td>0.0</td>\n",
       "      <td>0.0</td>\n",
       "      <td>0.0</td>\n",
       "      <td>...</td>\n",
       "      <td>0.0</td>\n",
       "      <td>0.0</td>\n",
       "      <td>0.0</td>\n",
       "      <td>0.0</td>\n",
       "      <td>0.0</td>\n",
       "      <td>0.0</td>\n",
       "      <td>0.0</td>\n",
       "      <td>0.0</td>\n",
       "      <td>0.0</td>\n",
       "      <td>0.0</td>\n",
       "    </tr>\n",
       "    <tr>\n",
       "      <th>1705818</th>\n",
       "      <td>5156</td>\n",
       "      <td>19</td>\n",
       "      <td>22</td>\n",
       "      <td>67</td>\n",
       "      <td>0.0</td>\n",
       "      <td>0</td>\n",
       "      <td>0.0</td>\n",
       "      <td>0.0</td>\n",
       "      <td>0.0</td>\n",
       "      <td>0.0</td>\n",
       "      <td>...</td>\n",
       "      <td>0.0</td>\n",
       "      <td>0.0</td>\n",
       "      <td>0.0</td>\n",
       "      <td>0.0</td>\n",
       "      <td>0.0</td>\n",
       "      <td>0.0</td>\n",
       "      <td>0.0</td>\n",
       "      <td>0.0</td>\n",
       "      <td>0.0</td>\n",
       "      <td>0.0</td>\n",
       "    </tr>\n",
       "    <tr>\n",
       "      <th>6866397</th>\n",
       "      <td>19621</td>\n",
       "      <td>15</td>\n",
       "      <td>19</td>\n",
       "      <td>40</td>\n",
       "      <td>0.0</td>\n",
       "      <td>0</td>\n",
       "      <td>0.0</td>\n",
       "      <td>0.0</td>\n",
       "      <td>0.0</td>\n",
       "      <td>0.0</td>\n",
       "      <td>...</td>\n",
       "      <td>0.0</td>\n",
       "      <td>0.0</td>\n",
       "      <td>0.0</td>\n",
       "      <td>0.0</td>\n",
       "      <td>0.0</td>\n",
       "      <td>0.0</td>\n",
       "      <td>0.0</td>\n",
       "      <td>0.0</td>\n",
       "      <td>0.0</td>\n",
       "      <td>0.0</td>\n",
       "    </tr>\n",
       "    <tr>\n",
       "      <th>6885263</th>\n",
       "      <td>19659</td>\n",
       "      <td>22</td>\n",
       "      <td>27</td>\n",
       "      <td>40</td>\n",
       "      <td>399.0</td>\n",
       "      <td>0</td>\n",
       "      <td>0.0</td>\n",
       "      <td>0.0</td>\n",
       "      <td>0.0</td>\n",
       "      <td>0.0</td>\n",
       "      <td>...</td>\n",
       "      <td>0.0</td>\n",
       "      <td>0.0</td>\n",
       "      <td>0.0</td>\n",
       "      <td>0.0</td>\n",
       "      <td>0.0</td>\n",
       "      <td>0.0</td>\n",
       "      <td>0.0</td>\n",
       "      <td>0.0</td>\n",
       "      <td>0.0</td>\n",
       "      <td>0.0</td>\n",
       "    </tr>\n",
       "  </tbody>\n",
       "</table>\n",
       "<p>10 rows × 38 columns</p>\n",
       "</div>"
      ],
      "text/plain": [
       "         item_id  shop_id  date_block_num  item_category_id  item_price date  \\\n",
       "5834611    16527       50              26                40       399.0    0   \n",
       "3536758    10676       25              14                67       750.0    0   \n",
       "6079789    17292       56              29                40       149.0    0   \n",
       "3489943    10549       25              29                40       149.0    0   \n",
       "6642346    18944       59              17                40         0.0    0   \n",
       "1364056     4188       48              14                76         0.0    0   \n",
       "7338507    20928       47              28                72      1229.0    0   \n",
       "1705818     5156       19              22                67         0.0    0   \n",
       "6866397    19621       15              19                40         0.0    0   \n",
       "6885263    19659       22              27                40       399.0    0   \n",
       "\n",
       "         item_cnt_day    y  item_cnt_sum  item_cnt_mean  \\\n",
       "5834611           0.0  0.0           0.0            0.0   \n",
       "3536758           0.0  0.0           0.0            0.0   \n",
       "6079789           0.0  0.0           0.0            0.0   \n",
       "3489943           0.0  0.0           0.0            0.0   \n",
       "6642346           0.0  0.0           0.0            0.0   \n",
       "1364056           0.0  0.0           0.0            0.0   \n",
       "7338507           0.0  0.0           0.0            0.0   \n",
       "1705818           0.0  0.0           0.0            0.0   \n",
       "6866397           0.0  0.0           0.0            0.0   \n",
       "6885263           0.0  0.0           0.0            0.0   \n",
       "\n",
       "                   ...              shop_share_of_all_sales  \\\n",
       "5834611            ...                                  0.0   \n",
       "3536758            ...                                  0.0   \n",
       "6079789            ...                                  0.0   \n",
       "3489943            ...                                  0.0   \n",
       "6642346            ...                                  0.0   \n",
       "1364056            ...                                  0.0   \n",
       "7338507            ...                                  0.0   \n",
       "1705818            ...                                  0.0   \n",
       "6866397            ...                                  0.0   \n",
       "6885263            ...                                  0.0   \n",
       "\n",
       "         shop_share_of_block_sales  shop_share_of_total_gross  \\\n",
       "5834611                        0.0                        0.0   \n",
       "3536758                        0.0                        0.0   \n",
       "6079789                        0.0                        0.0   \n",
       "3489943                        0.0                        0.0   \n",
       "6642346                        0.0                        0.0   \n",
       "1364056                        0.0                        0.0   \n",
       "7338507                        0.0                        0.0   \n",
       "1705818                        0.0                        0.0   \n",
       "6866397                        0.0                        0.0   \n",
       "6885263                        0.0                        0.0   \n",
       "\n",
       "         shop_share_of_block_gross  category_share_of_all_sales  \\\n",
       "5834611                        0.0                          0.0   \n",
       "3536758                        0.0                          0.0   \n",
       "6079789                        0.0                          0.0   \n",
       "3489943                        0.0                          0.0   \n",
       "6642346                        0.0                          0.0   \n",
       "1364056                        0.0                          0.0   \n",
       "7338507                        0.0                          0.0   \n",
       "1705818                        0.0                          0.0   \n",
       "6866397                        0.0                          0.0   \n",
       "6885263                        0.0                          0.0   \n",
       "\n",
       "         category_share_of_block_sales  category_share_of_total_gross  \\\n",
       "5834611                            0.0                            0.0   \n",
       "3536758                            0.0                            0.0   \n",
       "6079789                            0.0                            0.0   \n",
       "3489943                            0.0                            0.0   \n",
       "6642346                            0.0                            0.0   \n",
       "1364056                            0.0                            0.0   \n",
       "7338507                            0.0                            0.0   \n",
       "1705818                            0.0                            0.0   \n",
       "6866397                            0.0                            0.0   \n",
       "6885263                            0.0                            0.0   \n",
       "\n",
       "         item_share_of_all_sales  item_share_of_block_sales  \\\n",
       "5834611                      0.0                        0.0   \n",
       "3536758                      0.0                        0.0   \n",
       "6079789                      0.0                        0.0   \n",
       "3489943                      0.0                        0.0   \n",
       "6642346                      0.0                        0.0   \n",
       "1364056                      0.0                        0.0   \n",
       "7338507                      0.0                        0.0   \n",
       "1705818                      0.0                        0.0   \n",
       "6866397                      0.0                        0.0   \n",
       "6885263                      0.0                        0.0   \n",
       "\n",
       "         item_share_of_total_gross  \n",
       "5834611                        0.0  \n",
       "3536758                        0.0  \n",
       "6079789                        0.0  \n",
       "3489943                        0.0  \n",
       "6642346                        0.0  \n",
       "1364056                        0.0  \n",
       "7338507                        0.0  \n",
       "1705818                        0.0  \n",
       "6866397                        0.0  \n",
       "6885263                        0.0  \n",
       "\n",
       "[10 rows x 38 columns]"
      ]
     },
     "execution_count": 92,
     "metadata": {},
     "output_type": "execute_result"
    }
   ],
   "source": [
    "training.drop('item_category_id_y', inplace=True, axis=1)\n",
    "training.drop('item_price_y', inplace=True, axis=1)\n",
    "training.rename(columns={'item_category_id_x': 'item_category_id'}, inplace=True)\n",
    "training.rename(columns={'item_price_x': 'item_price'}, inplace=True)\n",
    "training.fillna(0, inplace=True)\n",
    "training.sample(10)"
   ]
  },
  {
   "cell_type": "code",
   "execution_count": 103,
   "metadata": {},
   "outputs": [
    {
     "data": {
      "text/plain": [
       "Index(['date', 'date_block_num', 'shop_id', 'item_id', 'item_price',\n",
       "       'item_cnt_day', 'item_category_id', 'y', 'item_cnt_sum',\n",
       "       'item_cnt_mean', 'item_cnt_min', 'item_cnt_max', 'item_price_mean',\n",
       "       'shop_cnt_sum', 'shop_cnt_mean', 'shop_cnt_min', 'shop_cnt_max',\n",
       "       'shop_price_mean', 'category_cnt_sum', 'category_cnt_mean',\n",
       "       'category_cnt_min', 'category_cnt_max', 'category_price_mean',\n",
       "       'shop_category_cnt_sum', 'shop_category_cnt_mean',\n",
       "       'shop_category_cnt_min', 'shop_category_cnt_max',\n",
       "       'shop_category_price_mean', 'shop_share_of_all_sales',\n",
       "       'shop_share_of_block_sales', 'shop_share_of_total_gross',\n",
       "       'shop_share_of_block_gross', 'category_share_of_all_sales',\n",
       "       'category_share_of_block_sales', 'category_share_of_total_gross',\n",
       "       'item_share_of_all_sales', 'item_share_of_block_sales',\n",
       "       'item_share_of_total_gross', 'category_share_of_block_gross',\n",
       "       'item_share_of_block_gross'],\n",
       "      dtype='object')"
      ]
     },
     "execution_count": 103,
     "metadata": {},
     "output_type": "execute_result"
    }
   ],
   "source": [
    "transactions.columns"
   ]
  },
  {
   "cell_type": "code",
   "execution_count": 94,
   "metadata": {},
   "outputs": [],
   "source": [
    "training = training.sample(frac=1)"
   ]
  },
  {
   "cell_type": "code",
   "execution_count": 95,
   "metadata": {},
   "outputs": [
    {
     "name": "stdout",
     "output_type": "stream",
     "text": [
      "58.92 MB\n",
      "58.92 MB\n"
     ]
    },
    {
     "data": {
      "text/html": [
       "<div>\n",
       "<style scoped>\n",
       "    .dataframe tbody tr th:only-of-type {\n",
       "        vertical-align: middle;\n",
       "    }\n",
       "\n",
       "    .dataframe tbody tr th {\n",
       "        vertical-align: top;\n",
       "    }\n",
       "\n",
       "    .dataframe thead th {\n",
       "        text-align: right;\n",
       "    }\n",
       "</style>\n",
       "<table border=\"1\" class=\"dataframe\">\n",
       "  <thead>\n",
       "    <tr style=\"text-align: right;\">\n",
       "      <th></th>\n",
       "      <th>before</th>\n",
       "      <th>after</th>\n",
       "    </tr>\n",
       "  </thead>\n",
       "  <tbody>\n",
       "  </tbody>\n",
       "</table>\n",
       "</div>"
      ],
      "text/plain": [
       "Empty DataFrame\n",
       "Columns: [before, after]\n",
       "Index: []"
      ]
     },
     "execution_count": 95,
     "metadata": {},
     "output_type": "execute_result"
    }
   ],
   "source": [
    "def mem_usage(pandas_obj):\n",
    "    if isinstance(pandas_obj,pd.DataFrame):\n",
    "        usage_b = pandas_obj.memory_usage(deep=True).sum()\n",
    "    else: # we assume if not a df it's a series\n",
    "        usage_b = pandas_obj.memory_usage(deep=True)\n",
    "    usage_mb = usage_b / 1024 ** 2 # convert bytes to megabytes\n",
    "    return \"{:03.2f} MB\".format(usage_mb)\n",
    "\n",
    "training_int = training.select_dtypes(include=['int'])\n",
    "converted_int = training_int.apply(pd.to_numeric,downcast='unsigned')\n",
    "\n",
    "print(mem_usage(training_int))\n",
    "print(mem_usage(converted_int))\n",
    "\n",
    "compare_ints = pd.concat([training_int.dtypes,converted_int.dtypes],axis=1)\n",
    "compare_ints.columns = ['before','after']\n",
    "compare_ints.apply(pd.Series.value_counts)"
   ]
  },
  {
   "cell_type": "code",
   "execution_count": 96,
   "metadata": {},
   "outputs": [
    {
     "name": "stdout",
     "output_type": "stream",
     "text": [
      "2003.26 MB\n",
      "1031.09 MB\n"
     ]
    },
    {
     "data": {
      "text/html": [
       "<div>\n",
       "<style scoped>\n",
       "    .dataframe tbody tr th:only-of-type {\n",
       "        vertical-align: middle;\n",
       "    }\n",
       "\n",
       "    .dataframe tbody tr th {\n",
       "        vertical-align: top;\n",
       "    }\n",
       "\n",
       "    .dataframe thead th {\n",
       "        text-align: right;\n",
       "    }\n",
       "</style>\n",
       "<table border=\"1\" class=\"dataframe\">\n",
       "  <thead>\n",
       "    <tr style=\"text-align: right;\">\n",
       "      <th></th>\n",
       "      <th>before</th>\n",
       "      <th>after</th>\n",
       "    </tr>\n",
       "  </thead>\n",
       "  <tbody>\n",
       "    <tr>\n",
       "      <th>float32</th>\n",
       "      <td>NaN</td>\n",
       "      <td>33.0</td>\n",
       "    </tr>\n",
       "    <tr>\n",
       "      <th>float64</th>\n",
       "      <td>33.0</td>\n",
       "      <td>NaN</td>\n",
       "    </tr>\n",
       "  </tbody>\n",
       "</table>\n",
       "</div>"
      ],
      "text/plain": [
       "         before  after\n",
       "float32     NaN   33.0\n",
       "float64    33.0    NaN"
      ]
     },
     "execution_count": 96,
     "metadata": {},
     "output_type": "execute_result"
    }
   ],
   "source": [
    "training_float = training.select_dtypes(include=['float'])\n",
    "converted_float = training_float.apply(pd.to_numeric,downcast='float')\n",
    "\n",
    "print(mem_usage(training_float))\n",
    "print(mem_usage(converted_float))\n",
    "\n",
    "compare_floats = pd.concat([training_float.dtypes,converted_float.dtypes],axis=1)\n",
    "compare_floats.columns = ['before','after']\n",
    "compare_floats.apply(pd.Series.value_counts)"
   ]
  },
  {
   "cell_type": "code",
   "execution_count": 97,
   "metadata": {},
   "outputs": [
    {
     "name": "stdout",
     "output_type": "stream",
     "text": [
      "2503.58 MB\n",
      "1531.42 MB\n"
     ]
    }
   ],
   "source": [
    "optimized_training = training.copy()\n",
    "\n",
    "optimized_training[converted_int.columns] = converted_int\n",
    "optimized_training[converted_float.columns] = converted_float\n",
    "\n",
    "print(mem_usage(training))\n",
    "print(mem_usage(optimized_training))"
   ]
  },
  {
   "cell_type": "code",
   "execution_count": 98,
   "metadata": {},
   "outputs": [
    {
     "data": {
      "text/plain": [
       "0"
      ]
     },
     "execution_count": 98,
     "metadata": {},
     "output_type": "execute_result"
    }
   ],
   "source": [
    "training = optimized_training\n",
    "del optimized_training\n",
    "gc.collect()"
   ]
  },
  {
   "cell_type": "code",
   "execution_count": 104,
   "metadata": {},
   "outputs": [],
   "source": [
    "lag_columns = ['item_cnt_sum', 'item_cnt_mean', 'item_cnt_min', 'item_cnt_max',\n",
    "       'item_price_mean', 'shop_cnt_sum', 'shop_cnt_mean', 'shop_cnt_min',\n",
    "       'shop_cnt_max', 'shop_price_mean', 'category_cnt_sum',\n",
    "       'category_cnt_mean', 'category_cnt_min', 'category_cnt_max',\n",
    "       'category_price_mean', 'shop_category_cnt_sum',\n",
    "       'shop_category_cnt_mean', 'shop_category_cnt_min',\n",
    "       'shop_category_cnt_max', 'shop_category_price_mean',\n",
    "      'shop_share_of_block_sales',\n",
    "       'shop_share_of_block_gross',\n",
    "       'category_share_of_block_sales','category_share_of_block_gross',\n",
    "       'item_share_of_block_sales', 'item_share_of_block_gross']\n",
    "\n",
    "\n",
    "lags = [1,3,6,12]"
   ]
  },
  {
   "cell_type": "code",
   "execution_count": 105,
   "metadata": {},
   "outputs": [
    {
     "data": {
      "text/plain": [
       "['item_cnt_sum',\n",
       " 'item_cnt_mean',\n",
       " 'item_cnt_min',\n",
       " 'item_cnt_max',\n",
       " 'item_price_mean',\n",
       " 'shop_cnt_sum',\n",
       " 'shop_cnt_mean',\n",
       " 'shop_cnt_min',\n",
       " 'shop_cnt_max',\n",
       " 'shop_price_mean',\n",
       " 'category_cnt_sum',\n",
       " 'category_cnt_mean',\n",
       " 'category_cnt_min',\n",
       " 'category_cnt_max',\n",
       " 'category_price_mean',\n",
       " 'shop_category_cnt_sum',\n",
       " 'shop_category_cnt_mean',\n",
       " 'shop_category_cnt_min',\n",
       " 'shop_category_cnt_max',\n",
       " 'shop_category_price_mean',\n",
       " 'shop_share_of_block_sales',\n",
       " 'shop_share_of_block_gross',\n",
       " 'category_share_of_block_sales',\n",
       " 'category_share_of_block_gross',\n",
       " 'item_share_of_block_sales',\n",
       " 'item_share_of_block_gross']"
      ]
     },
     "execution_count": 105,
     "metadata": {},
     "output_type": "execute_result"
    }
   ],
   "source": [
    "lag_columns"
   ]
  },
  {
   "cell_type": "code",
   "execution_count": 106,
   "metadata": {},
   "outputs": [
    {
     "name": "stdout",
     "output_type": "stream",
     "text": [
      "1\n",
      "3\n",
      "6\n",
      "12\n"
     ]
    }
   ],
   "source": [
    "gc.collect()\n",
    "def lagged_name(lag_column, lag):\n",
    "    return \"%s_lag_%d\" % (lag_column, lag)\n",
    "\n",
    "merge_columns = ['lagged_block','item_id','shop_id']\n",
    "\n",
    "for lag in lags:\n",
    "    print(lag)\n",
    "    lagged = transactions.copy()\n",
    "    lagged.rename(columns={'date_block_num':'lagged_block'},inplace=True)\n",
    "    training['lagged_block'] = training['date_block_num'] - lag\n",
    "    lagged_names = [lagged_name(c,lag) for c in lag_columns]\n",
    "    lag_mapping = dict(zip(lag_columns, lagged_names))\n",
    "    lagged.rename(columns=lag_mapping,inplace=True)\n",
    "    training = pd.merge(training,lagged[lagged_names+merge_columns],on=merge_columns,how='left')\n",
    "    del lagged\n",
    "    gc.collect()"
   ]
  },
  {
   "cell_type": "code",
   "execution_count": 25,
   "metadata": {},
   "outputs": [
    {
     "data": {
      "text/plain": [
       "7722666"
      ]
     },
     "execution_count": 25,
     "metadata": {},
     "output_type": "execute_result"
    }
   ],
   "source": [
    "len(training)"
   ]
  },
  {
   "cell_type": "code",
   "execution_count": null,
   "metadata": {},
   "outputs": [],
   "source": [
    "pd.set_option('display.max_columns', None)  \n",
    "pd.set_option('display.expand_frame_repr', False)\n",
    "pd.set_option('max_colwidth', -1)\n",
    "training[(training['item_id'] == 30) & (training['shop_id'] == 30)].sort_values(by='date_block_num')"
   ]
  },
  {
   "cell_type": "code",
   "execution_count": 70,
   "metadata": {},
   "outputs": [
    {
     "data": {
      "text/plain": [
       "Index(['item_id', 'shop_id', 'date_block_num', 'item_category_id', 'date',\n",
       "       'item_price', 'item_cnt_day', 'y', 'item_cnt_sum', 'item_cnt_mean',\n",
       "       'item_price_mean', 'shop_cnt_sum', 'shop_cnt_mean', 'shop_price_mean',\n",
       "       'category_cnt_sum', 'category_cnt_mean', 'category_price_mean',\n",
       "       'shop_category_cnt_sum', 'shop_category_cnt_mean',\n",
       "       'shop_category_price_mean', 'item_cnt_sum_lag_1', 'item_cnt_mean_lag_1',\n",
       "       'item_price_mean_lag_1', 'shop_cnt_sum_lag_1', 'shop_cnt_mean_lag_1',\n",
       "       'shop_price_mean_lag_1', 'category_cnt_sum_lag_1',\n",
       "       'category_cnt_mean_lag_1', 'category_price_mean_lag_1',\n",
       "       'shop_category_cnt_sum_lag_1', 'shop_category_cnt_mean_lag_1',\n",
       "       'shop_category_price_mean_lag_1', 'item_cnt_sum_lag_2',\n",
       "       'item_cnt_mean_lag_2', 'item_price_mean_lag_2', 'shop_cnt_sum_lag_2',\n",
       "       'shop_cnt_mean_lag_2', 'shop_price_mean_lag_2',\n",
       "       'category_cnt_sum_lag_2', 'category_cnt_mean_lag_2',\n",
       "       'category_price_mean_lag_2', 'shop_category_cnt_sum_lag_2',\n",
       "       'shop_category_cnt_mean_lag_2', 'shop_category_price_mean_lag_2',\n",
       "       'item_cnt_sum_lag_3', 'item_cnt_mean_lag_3', 'item_price_mean_lag_3',\n",
       "       'shop_cnt_sum_lag_3', 'shop_cnt_mean_lag_3', 'shop_price_mean_lag_3',\n",
       "       'category_cnt_sum_lag_3', 'category_cnt_mean_lag_3',\n",
       "       'category_price_mean_lag_3', 'shop_category_cnt_sum_lag_3',\n",
       "       'shop_category_cnt_mean_lag_3', 'shop_category_price_mean_lag_3',\n",
       "       'item_cnt_sum_lag_6', 'item_cnt_mean_lag_6', 'item_price_mean_lag_6',\n",
       "       'shop_cnt_sum_lag_6', 'shop_cnt_mean_lag_6', 'shop_price_mean_lag_6',\n",
       "       'category_cnt_sum_lag_6', 'category_cnt_mean_lag_6',\n",
       "       'category_price_mean_lag_6', 'shop_category_cnt_sum_lag_6',\n",
       "       'shop_category_cnt_mean_lag_6', 'shop_category_price_mean_lag_6',\n",
       "       'item_cnt_sum_lag_12', 'item_cnt_mean_lag_12', 'item_price_mean_lag_12',\n",
       "       'shop_cnt_sum_lag_12', 'shop_cnt_mean_lag_12', 'shop_price_mean_lag_12',\n",
       "       'category_cnt_sum_lag_12', 'category_cnt_mean_lag_12',\n",
       "       'category_price_mean_lag_12', 'shop_category_cnt_sum_lag_12',\n",
       "       'shop_category_cnt_mean_lag_12', 'shop_category_price_mean_lag_12'],\n",
       "      dtype='object')"
      ]
     },
     "execution_count": 70,
     "metadata": {},
     "output_type": "execute_result"
    }
   ],
   "source": [
    "training.columns"
   ]
  },
  {
   "cell_type": "code",
   "execution_count": 27,
   "metadata": {},
   "outputs": [],
   "source": [
    "import pickle as pickle\n",
    "\n",
    "pickle.dump(training, open( \"training\", \"wb\"), protocol=4)\n",
    "\n",
    "#training = pickle.load( open( \"training\", \"rb\" ) )"
   ]
  },
  {
   "cell_type": "code",
   "execution_count": 107,
   "metadata": {},
   "outputs": [],
   "source": [
    "training.drop('lagged_block', inplace=True, axis=1)"
   ]
  },
  {
   "cell_type": "code",
   "execution_count": 108,
   "metadata": {},
   "outputs": [
    {
     "data": {
      "text/plain": [
       "array(['item_id', 'shop_id', 'item_category_id', 'date_block_num',\n",
       "       'shop_price_mean', 'category_cnt_sum', 'category_cnt_mean',\n",
       "       'category_cnt_min', 'category_cnt_max', 'category_price_mean',\n",
       "       'shop_category_cnt_sum', 'shop_category_cnt_mean',\n",
       "       'shop_category_cnt_min', 'shop_category_cnt_max',\n",
       "       'shop_category_price_mean', 'shop_share_of_all_sales',\n",
       "       'shop_share_of_block_sales', 'shop_share_of_total_gross',\n",
       "       'shop_share_of_block_gross', 'category_share_of_all_sales',\n",
       "       'category_share_of_block_sales', 'category_share_of_total_gross',\n",
       "       'item_share_of_all_sales', 'item_share_of_block_sales',\n",
       "       'item_share_of_total_gross', 'item_cnt_sum_lag_1',\n",
       "       'item_cnt_mean_lag_1', 'item_cnt_min_lag_1', 'item_cnt_max_lag_1',\n",
       "       'item_price_mean_lag_1', 'shop_cnt_sum_lag_1',\n",
       "       'shop_cnt_mean_lag_1', 'shop_cnt_min_lag_1', 'shop_cnt_max_lag_1',\n",
       "       'shop_price_mean_lag_1', 'category_cnt_sum_lag_1',\n",
       "       'category_cnt_mean_lag_1', 'category_cnt_min_lag_1',\n",
       "       'category_cnt_max_lag_1', 'category_price_mean_lag_1',\n",
       "       'shop_category_cnt_sum_lag_1', 'shop_category_cnt_mean_lag_1',\n",
       "       'shop_category_cnt_min_lag_1', 'shop_category_cnt_max_lag_1',\n",
       "       'shop_category_price_mean_lag_1',\n",
       "       'shop_share_of_block_sales_lag_1',\n",
       "       'shop_share_of_block_gross_lag_1',\n",
       "       'category_share_of_block_sales_lag_1',\n",
       "       'category_share_of_block_gross_lag_1',\n",
       "       'item_share_of_block_sales_lag_1',\n",
       "       'item_share_of_block_gross_lag_1', 'item_cnt_sum_lag_3',\n",
       "       'item_cnt_mean_lag_3', 'item_cnt_min_lag_3', 'item_cnt_max_lag_3',\n",
       "       'item_price_mean_lag_3', 'shop_cnt_sum_lag_3',\n",
       "       'shop_cnt_mean_lag_3', 'shop_cnt_min_lag_3', 'shop_cnt_max_lag_3',\n",
       "       'shop_price_mean_lag_3', 'category_cnt_sum_lag_3',\n",
       "       'category_cnt_mean_lag_3', 'category_cnt_min_lag_3',\n",
       "       'category_cnt_max_lag_3', 'category_price_mean_lag_3',\n",
       "       'shop_category_cnt_sum_lag_3', 'shop_category_cnt_mean_lag_3',\n",
       "       'shop_category_cnt_min_lag_3', 'shop_category_cnt_max_lag_3',\n",
       "       'shop_category_price_mean_lag_3',\n",
       "       'shop_share_of_block_sales_lag_3',\n",
       "       'shop_share_of_block_gross_lag_3',\n",
       "       'category_share_of_block_sales_lag_3',\n",
       "       'category_share_of_block_gross_lag_3',\n",
       "       'item_share_of_block_sales_lag_3',\n",
       "       'item_share_of_block_gross_lag_3', 'item_cnt_sum_lag_6',\n",
       "       'item_cnt_mean_lag_6', 'item_cnt_min_lag_6', 'item_cnt_max_lag_6',\n",
       "       'item_price_mean_lag_6', 'shop_cnt_sum_lag_6',\n",
       "       'shop_cnt_mean_lag_6', 'shop_cnt_min_lag_6', 'shop_cnt_max_lag_6',\n",
       "       'shop_price_mean_lag_6', 'category_cnt_sum_lag_6',\n",
       "       'category_cnt_mean_lag_6', 'category_cnt_min_lag_6',\n",
       "       'category_cnt_max_lag_6', 'category_price_mean_lag_6',\n",
       "       'shop_category_cnt_sum_lag_6', 'shop_category_cnt_mean_lag_6',\n",
       "       'shop_category_cnt_min_lag_6', 'shop_category_cnt_max_lag_6',\n",
       "       'shop_category_price_mean_lag_6',\n",
       "       'shop_share_of_block_sales_lag_6',\n",
       "       'shop_share_of_block_gross_lag_6',\n",
       "       'category_share_of_block_sales_lag_6',\n",
       "       'category_share_of_block_gross_lag_6',\n",
       "       'item_share_of_block_sales_lag_6',\n",
       "       'item_share_of_block_gross_lag_6', 'item_cnt_sum_lag_12',\n",
       "       'item_cnt_mean_lag_12', 'item_cnt_min_lag_12',\n",
       "       'item_cnt_max_lag_12', 'item_price_mean_lag_12',\n",
       "       'shop_cnt_sum_lag_12', 'shop_cnt_mean_lag_12',\n",
       "       'shop_cnt_min_lag_12', 'shop_cnt_max_lag_12',\n",
       "       'shop_price_mean_lag_12', 'category_cnt_sum_lag_12',\n",
       "       'category_cnt_mean_lag_12', 'category_cnt_min_lag_12',\n",
       "       'category_cnt_max_lag_12', 'category_price_mean_lag_12',\n",
       "       'shop_category_cnt_sum_lag_12', 'shop_category_cnt_mean_lag_12',\n",
       "       'shop_category_cnt_min_lag_12', 'shop_category_cnt_max_lag_12',\n",
       "       'shop_category_price_mean_lag_12',\n",
       "       'shop_share_of_block_sales_lag_12',\n",
       "       'shop_share_of_block_gross_lag_12',\n",
       "       'category_share_of_block_sales_lag_12',\n",
       "       'category_share_of_block_gross_lag_12',\n",
       "       'item_share_of_block_sales_lag_12',\n",
       "       'item_share_of_block_gross_lag_12'], dtype=object)"
      ]
     },
     "execution_count": 108,
     "metadata": {},
     "output_type": "execute_result"
    }
   ],
   "source": [
    "lgbm_features = training.columns[17:]\n",
    "lgbm_features = np.append( ['item_id', 'shop_id', 'item_category_id', 'date_block_num'], lgbm_features)\n",
    "lgbm_features"
   ]
  },
  {
   "cell_type": "code",
   "execution_count": 54,
   "metadata": {},
   "outputs": [],
   "source": [
    "lgbm_features = ['item_id', 'shop_category_cnt_mean', 'date_block_num',\n",
    "       'shop_category_cnt_sum', 'shop_id', 'item_cnt_mean_lag_1',\n",
    "       'item_category_id', 'shop_category_price_mean',\n",
    "       'item_cnt_sum_lag_1', 'category_cnt_sum_lag_1',\n",
    "       'category_cnt_mean_lag_1', 'item_price_mean_lag_1']"
   ]
  },
  {
   "cell_type": "code",
   "execution_count": 111,
   "metadata": {},
   "outputs": [],
   "source": [
    "categorical_features_indices = [0,1,2,3]"
   ]
  },
  {
   "cell_type": "code",
   "execution_count": 109,
   "metadata": {},
   "outputs": [],
   "source": [
    "x_train = training[training['date_block_num'] < 32]\n",
    "\n",
    "non_zeros_train = x_train[x_train['y'] != 0]\n",
    "zeros_train = x_train[x_train['y'] == 0]\n",
    "zeros_keep_train = zeros_train.sample(int(len(non_zeros_train)*0.1))\n",
    "x_train = non_zeros_train.append(zeros_keep_train)\n",
    "\n",
    "y_train = x_train['y']\n",
    "\n",
    "\n",
    "val = training[training['date_block_num'].isin([32,33])]\n",
    "non_zeros_val = val[val['y'] != 0]\n",
    "zeros_val = val[val['y'] == 0]\n",
    "zeros_keep_val = zeros_val.sample(int(len(non_zeros_val)*0.5))\n",
    "x_val = non_zeros_val.append(zeros_keep_val)\n",
    "y_val = x_val['y']\n"
   ]
  },
  {
   "cell_type": "code",
   "execution_count": 113,
   "metadata": {},
   "outputs": [
    {
     "name": "stdout",
     "output_type": "stream",
     "text": [
      "0:\tlearn: 1.1914751\ttest: 1.1429253\tbest: 1.1429253 (0)\ttotal: 92.1ms\tremaining: 15m 21s\n",
      "1:\tlearn: 1.1814102\ttest: 1.1343865\tbest: 1.1343865 (1)\ttotal: 175ms\tremaining: 14m 34s\n",
      "2:\tlearn: 1.1714636\ttest: 1.1260118\tbest: 1.1260118 (2)\ttotal: 257ms\tremaining: 14m 15s\n",
      "3:\tlearn: 1.1615817\ttest: 1.1176478\tbest: 1.1176478 (3)\ttotal: 337ms\tremaining: 14m 2s\n",
      "4:\tlearn: 1.1518627\ttest: 1.1094627\tbest: 1.1094627 (4)\ttotal: 416ms\tremaining: 13m 51s\n",
      "5:\tlearn: 1.1422372\ttest: 1.1012502\tbest: 1.1012502 (5)\ttotal: 495ms\tremaining: 13m 44s\n",
      "6:\tlearn: 1.1327234\ttest: 1.0928449\tbest: 1.0928449 (6)\ttotal: 587ms\tremaining: 13m 57s\n",
      "7:\tlearn: 1.1233119\ttest: 1.0849518\tbest: 1.0849518 (7)\ttotal: 665ms\tremaining: 13m 50s\n",
      "8:\tlearn: 1.1140187\ttest: 1.0771701\tbest: 1.0771701 (8)\ttotal: 743ms\tremaining: 13m 45s\n",
      "9:\tlearn: 1.1048302\ttest: 1.0694134\tbest: 1.0694134 (9)\ttotal: 826ms\tremaining: 13m 44s\n",
      "10:\tlearn: 1.0957580\ttest: 1.0619398\tbest: 1.0619398 (10)\ttotal: 907ms\tremaining: 13m 43s\n",
      "11:\tlearn: 1.0867426\ttest: 1.0543544\tbest: 1.0543544 (11)\ttotal: 988ms\tremaining: 13m 42s\n",
      "12:\tlearn: 1.0778314\ttest: 1.0468208\tbest: 1.0468208 (12)\ttotal: 1.07s\tremaining: 13m 42s\n",
      "13:\tlearn: 1.0690573\ttest: 1.0390317\tbest: 1.0390317 (13)\ttotal: 1.16s\tremaining: 13m 49s\n",
      "14:\tlearn: 1.0603937\ttest: 1.0318499\tbest: 1.0318499 (14)\ttotal: 1.24s\tremaining: 13m 46s\n",
      "15:\tlearn: 1.0518002\ttest: 1.0246518\tbest: 1.0246518 (15)\ttotal: 1.32s\tremaining: 13m 44s\n",
      "16:\tlearn: 1.0432959\ttest: 1.0174953\tbest: 1.0174953 (16)\ttotal: 1.4s\tremaining: 13m 44s\n",
      "17:\tlearn: 1.0348812\ttest: 1.0104643\tbest: 1.0104643 (17)\ttotal: 1.48s\tremaining: 13m 41s\n",
      "18:\tlearn: 1.0265763\ttest: 1.0030860\tbest: 1.0030860 (18)\ttotal: 1.58s\tremaining: 13m 48s\n",
      "19:\tlearn: 1.0183805\ttest: 0.9963678\tbest: 0.9963678 (19)\ttotal: 1.66s\tremaining: 13m 47s\n",
      "20:\tlearn: 1.0102686\ttest: 0.9895247\tbest: 0.9895247 (20)\ttotal: 1.74s\tremaining: 13m 45s\n",
      "21:\tlearn: 1.0022885\ttest: 0.9826249\tbest: 0.9826249 (21)\ttotal: 1.82s\tremaining: 13m 44s\n",
      "22:\tlearn: 0.9943926\ttest: 0.9759159\tbest: 0.9759159 (22)\ttotal: 1.9s\tremaining: 13m 42s\n",
      "23:\tlearn: 0.9865852\ttest: 0.9693526\tbest: 0.9693526 (23)\ttotal: 1.98s\tremaining: 13m 41s\n",
      "24:\tlearn: 0.9788877\ttest: 0.9630914\tbest: 0.9630914 (24)\ttotal: 2.06s\tremaining: 13m 39s\n",
      "25:\tlearn: 0.9712408\ttest: 0.9563263\tbest: 0.9563263 (25)\ttotal: 2.15s\tremaining: 13m 43s\n",
      "26:\tlearn: 0.9636994\ttest: 0.9500994\tbest: 0.9500994 (26)\ttotal: 2.23s\tremaining: 13m 43s\n",
      "27:\tlearn: 0.9562346\ttest: 0.9438062\tbest: 0.9438062 (27)\ttotal: 2.31s\tremaining: 13m 43s\n",
      "28:\tlearn: 0.9488636\ttest: 0.9377611\tbest: 0.9377611 (28)\ttotal: 2.39s\tremaining: 13m 43s\n",
      "29:\tlearn: 0.9415730\ttest: 0.9316614\tbest: 0.9316614 (29)\ttotal: 2.47s\tremaining: 13m 41s\n",
      "30:\tlearn: 0.9343646\ttest: 0.9256846\tbest: 0.9256846 (30)\ttotal: 2.55s\tremaining: 13m 41s\n",
      "31:\tlearn: 0.9272423\ttest: 0.9198061\tbest: 0.9198061 (31)\ttotal: 2.63s\tremaining: 13m 40s\n",
      "32:\tlearn: 0.9202088\ttest: 0.9139841\tbest: 0.9139841 (32)\ttotal: 2.71s\tremaining: 13m 39s\n",
      "33:\tlearn: 0.9132593\ttest: 0.9081797\tbest: 0.9081797 (33)\ttotal: 2.79s\tremaining: 13m 39s\n",
      "34:\tlearn: 0.9064095\ttest: 0.9025136\tbest: 0.9025136 (34)\ttotal: 2.87s\tremaining: 13m 38s\n",
      "35:\tlearn: 0.8996506\ttest: 0.8970381\tbest: 0.8970381 (35)\ttotal: 2.95s\tremaining: 13m 37s\n",
      "36:\tlearn: 0.8929845\ttest: 0.8914547\tbest: 0.8914547 (36)\ttotal: 3.03s\tremaining: 13m 37s\n",
      "37:\tlearn: 0.8863837\ttest: 0.8859508\tbest: 0.8859508 (37)\ttotal: 3.12s\tremaining: 13m 36s\n",
      "38:\tlearn: 0.8798747\ttest: 0.8805411\tbest: 0.8805411 (38)\ttotal: 3.19s\tremaining: 13m 35s\n",
      "39:\tlearn: 0.8734107\ttest: 0.8753714\tbest: 0.8753714 (39)\ttotal: 3.28s\tremaining: 13m 35s\n",
      "40:\tlearn: 0.8670309\ttest: 0.8701202\tbest: 0.8701202 (40)\ttotal: 3.36s\tremaining: 13m 35s\n",
      "41:\tlearn: 0.8607554\ttest: 0.8650648\tbest: 0.8650648 (41)\ttotal: 3.44s\tremaining: 13m 35s\n",
      "42:\tlearn: 0.8545378\ttest: 0.8596873\tbest: 0.8596873 (42)\ttotal: 3.53s\tremaining: 13m 37s\n",
      "43:\tlearn: 0.8483731\ttest: 0.8542116\tbest: 0.8542116 (43)\ttotal: 3.62s\tremaining: 13m 38s\n",
      "44:\tlearn: 0.8423076\ttest: 0.8493060\tbest: 0.8493060 (44)\ttotal: 3.7s\tremaining: 13m 37s\n",
      "45:\tlearn: 0.8363149\ttest: 0.8443929\tbest: 0.8443929 (45)\ttotal: 3.78s\tremaining: 13m 37s\n",
      "46:\tlearn: 0.8303848\ttest: 0.8394813\tbest: 0.8394813 (46)\ttotal: 3.86s\tremaining: 13m 37s\n",
      "47:\tlearn: 0.8245345\ttest: 0.8346602\tbest: 0.8346602 (47)\ttotal: 3.94s\tremaining: 13m 36s\n",
      "48:\tlearn: 0.8187744\ttest: 0.8299104\tbest: 0.8299104 (48)\ttotal: 4.02s\tremaining: 13m 35s\n",
      "49:\tlearn: 0.8130759\ttest: 0.8254039\tbest: 0.8254039 (49)\ttotal: 4.1s\tremaining: 13m 35s\n",
      "50:\tlearn: 0.8074267\ttest: 0.8207393\tbest: 0.8207393 (50)\ttotal: 4.18s\tremaining: 13m 36s\n",
      "51:\tlearn: 0.8018980\ttest: 0.8163373\tbest: 0.8163373 (51)\ttotal: 4.26s\tremaining: 13m 35s\n",
      "52:\tlearn: 0.7964190\ttest: 0.8117531\tbest: 0.8117531 (52)\ttotal: 4.34s\tremaining: 13m 35s\n",
      "53:\tlearn: 0.7909970\ttest: 0.8072718\tbest: 0.8072718 (53)\ttotal: 4.43s\tremaining: 13m 35s\n",
      "54:\tlearn: 0.7856530\ttest: 0.8028593\tbest: 0.8028593 (54)\ttotal: 4.51s\tremaining: 13m 35s\n",
      "55:\tlearn: 0.7803743\ttest: 0.7985375\tbest: 0.7985375 (55)\ttotal: 4.59s\tremaining: 13m 35s\n",
      "56:\tlearn: 0.7751608\ttest: 0.7943812\tbest: 0.7943812 (56)\ttotal: 4.67s\tremaining: 13m 35s\n",
      "57:\tlearn: 0.7700007\ttest: 0.7897967\tbest: 0.7897967 (57)\ttotal: 4.76s\tremaining: 13m 36s\n",
      "58:\tlearn: 0.7649233\ttest: 0.7856597\tbest: 0.7856597 (58)\ttotal: 4.85s\tremaining: 13m 36s\n",
      "59:\tlearn: 0.7599051\ttest: 0.7815461\tbest: 0.7815461 (59)\ttotal: 4.93s\tremaining: 13m 36s\n",
      "60:\tlearn: 0.7549560\ttest: 0.7774405\tbest: 0.7774405 (60)\ttotal: 5.01s\tremaining: 13m 36s\n",
      "61:\tlearn: 0.7500493\ttest: 0.7730936\tbest: 0.7730936 (61)\ttotal: 5.1s\tremaining: 13m 37s\n",
      "62:\tlearn: 0.7452085\ttest: 0.7688428\tbest: 0.7688428 (62)\ttotal: 5.19s\tremaining: 13m 38s\n",
      "63:\tlearn: 0.7404444\ttest: 0.7648818\tbest: 0.7648818 (63)\ttotal: 5.27s\tremaining: 13m 38s\n",
      "64:\tlearn: 0.7357272\ttest: 0.7607274\tbest: 0.7607274 (64)\ttotal: 5.36s\tremaining: 13m 39s\n",
      "65:\tlearn: 0.7310964\ttest: 0.7569063\tbest: 0.7569063 (65)\ttotal: 5.44s\tremaining: 13m 38s\n",
      "66:\tlearn: 0.7265279\ttest: 0.7533294\tbest: 0.7533294 (66)\ttotal: 5.52s\tremaining: 13m 38s\n",
      "67:\tlearn: 0.7220306\ttest: 0.7496161\tbest: 0.7496161 (67)\ttotal: 5.61s\tremaining: 13m 38s\n",
      "68:\tlearn: 0.7175604\ttest: 0.7459935\tbest: 0.7459935 (68)\ttotal: 5.68s\tremaining: 13m 38s\n",
      "69:\tlearn: 0.7131813\ttest: 0.7423373\tbest: 0.7423373 (69)\ttotal: 5.76s\tremaining: 13m 37s\n",
      "70:\tlearn: 0.7088470\ttest: 0.7387672\tbest: 0.7387672 (70)\ttotal: 5.84s\tremaining: 13m 37s\n",
      "71:\tlearn: 0.7045612\ttest: 0.7349691\tbest: 0.7349691 (71)\ttotal: 5.93s\tremaining: 13m 38s\n",
      "72:\tlearn: 0.7003380\ttest: 0.7315811\tbest: 0.7315811 (72)\ttotal: 6.01s\tremaining: 13m 37s\n",
      "73:\tlearn: 0.6961605\ttest: 0.7281961\tbest: 0.7281961 (73)\ttotal: 6.09s\tremaining: 13m 37s\n",
      "74:\tlearn: 0.6920445\ttest: 0.7248010\tbest: 0.7248010 (74)\ttotal: 6.17s\tremaining: 13m 36s\n",
      "75:\tlearn: 0.6879870\ttest: 0.7216697\tbest: 0.7216697 (75)\ttotal: 6.25s\tremaining: 13m 36s\n",
      "76:\tlearn: 0.6839704\ttest: 0.7184644\tbest: 0.7184644 (76)\ttotal: 6.33s\tremaining: 13m 35s\n",
      "77:\tlearn: 0.6800124\ttest: 0.7150655\tbest: 0.7150655 (77)\ttotal: 6.42s\tremaining: 13m 36s\n",
      "78:\tlearn: 0.6761364\ttest: 0.7119792\tbest: 0.7119792 (78)\ttotal: 6.5s\tremaining: 13m 36s\n",
      "79:\tlearn: 0.6722657\ttest: 0.7088826\tbest: 0.7088826 (79)\ttotal: 6.58s\tremaining: 13m 36s\n",
      "80:\tlearn: 0.6684652\ttest: 0.7058289\tbest: 0.7058289 (80)\ttotal: 6.67s\tremaining: 13m 36s\n",
      "81:\tlearn: 0.6646908\ttest: 0.7028649\tbest: 0.7028649 (81)\ttotal: 6.75s\tremaining: 13m 36s\n",
      "82:\tlearn: 0.6609852\ttest: 0.6998814\tbest: 0.6998814 (82)\ttotal: 6.83s\tremaining: 13m 35s\n",
      "83:\tlearn: 0.6573493\ttest: 0.6970320\tbest: 0.6970320 (83)\ttotal: 6.91s\tremaining: 13m 35s\n",
      "84:\tlearn: 0.6537629\ttest: 0.6941100\tbest: 0.6941100 (84)\ttotal: 6.99s\tremaining: 13m 35s\n",
      "85:\tlearn: 0.6501984\ttest: 0.6910510\tbest: 0.6910510 (85)\ttotal: 7.07s\tremaining: 13m 35s\n",
      "86:\tlearn: 0.6466942\ttest: 0.6882391\tbest: 0.6882391 (86)\ttotal: 7.15s\tremaining: 13m 34s\n",
      "87:\tlearn: 0.6432351\ttest: 0.6854639\tbest: 0.6854639 (87)\ttotal: 7.23s\tremaining: 13m 34s\n",
      "88:\tlearn: 0.6398205\ttest: 0.6828127\tbest: 0.6828127 (88)\ttotal: 7.31s\tremaining: 13m 34s\n",
      "89:\tlearn: 0.6364868\ttest: 0.6801352\tbest: 0.6801352 (89)\ttotal: 7.4s\tremaining: 13m 34s\n",
      "90:\tlearn: 0.6331668\ttest: 0.6774934\tbest: 0.6774934 (90)\ttotal: 7.48s\tremaining: 13m 34s\n",
      "91:\tlearn: 0.6298949\ttest: 0.6748370\tbest: 0.6748370 (91)\ttotal: 7.57s\tremaining: 13m 34s\n",
      "92:\tlearn: 0.6266804\ttest: 0.6723328\tbest: 0.6723328 (92)\ttotal: 7.64s\tremaining: 13m 34s\n"
     ]
    },
    {
     "name": "stdout",
     "output_type": "stream",
     "text": [
      "93:\tlearn: 0.6234891\ttest: 0.6695896\tbest: 0.6695896 (93)\ttotal: 7.72s\tremaining: 13m 34s\n",
      "94:\tlearn: 0.6203556\ttest: 0.6670523\tbest: 0.6670523 (94)\ttotal: 7.81s\tremaining: 13m 33s\n",
      "95:\tlearn: 0.6172587\ttest: 0.6644676\tbest: 0.6644676 (95)\ttotal: 7.89s\tremaining: 13m 33s\n",
      "96:\tlearn: 0.6142031\ttest: 0.6620158\tbest: 0.6620158 (96)\ttotal: 7.97s\tremaining: 13m 33s\n",
      "97:\tlearn: 0.6112082\ttest: 0.6596881\tbest: 0.6596881 (97)\ttotal: 8.05s\tremaining: 13m 33s\n",
      "98:\tlearn: 0.6082413\ttest: 0.6572655\tbest: 0.6572655 (98)\ttotal: 8.13s\tremaining: 13m 33s\n",
      "99:\tlearn: 0.6053015\ttest: 0.6546807\tbest: 0.6546807 (99)\ttotal: 8.22s\tremaining: 13m 34s\n",
      "100:\tlearn: 0.6024693\ttest: 0.6525200\tbest: 0.6525200 (100)\ttotal: 8.3s\tremaining: 13m 33s\n",
      "101:\tlearn: 0.5996227\ttest: 0.6500201\tbest: 0.6500201 (101)\ttotal: 8.39s\tremaining: 13m 33s\n",
      "102:\tlearn: 0.5968378\ttest: 0.6476151\tbest: 0.6476151 (102)\ttotal: 8.47s\tremaining: 13m 33s\n",
      "103:\tlearn: 0.5940721\ttest: 0.6452536\tbest: 0.6452536 (103)\ttotal: 8.55s\tremaining: 13m 33s\n",
      "104:\tlearn: 0.5913381\ttest: 0.6430871\tbest: 0.6430871 (104)\ttotal: 8.63s\tremaining: 13m 33s\n",
      "105:\tlearn: 0.5886607\ttest: 0.6409561\tbest: 0.6409561 (105)\ttotal: 8.72s\tremaining: 13m 33s\n",
      "106:\tlearn: 0.5860208\ttest: 0.6386569\tbest: 0.6386569 (106)\ttotal: 8.8s\tremaining: 13m 33s\n",
      "107:\tlearn: 0.5834678\ttest: 0.6359768\tbest: 0.6359768 (107)\ttotal: 8.89s\tremaining: 13m 34s\n",
      "108:\tlearn: 0.5809147\ttest: 0.6337876\tbest: 0.6337876 (108)\ttotal: 8.97s\tremaining: 13m 34s\n",
      "109:\tlearn: 0.5783750\ttest: 0.6317665\tbest: 0.6317665 (109)\ttotal: 9.05s\tremaining: 13m 34s\n",
      "110:\tlearn: 0.5758825\ttest: 0.6296658\tbest: 0.6296658 (110)\ttotal: 9.14s\tremaining: 13m 34s\n",
      "111:\tlearn: 0.5734123\ttest: 0.6275565\tbest: 0.6275565 (111)\ttotal: 9.22s\tremaining: 13m 33s\n",
      "112:\tlearn: 0.5709925\ttest: 0.6256578\tbest: 0.6256578 (112)\ttotal: 9.3s\tremaining: 13m 33s\n",
      "113:\tlearn: 0.5686057\ttest: 0.6235499\tbest: 0.6235499 (113)\ttotal: 9.39s\tremaining: 13m 34s\n",
      "114:\tlearn: 0.5662465\ttest: 0.6216636\tbest: 0.6216636 (114)\ttotal: 9.47s\tremaining: 13m 33s\n",
      "115:\tlearn: 0.5639401\ttest: 0.6198978\tbest: 0.6198978 (115)\ttotal: 9.55s\tremaining: 13m 33s\n",
      "116:\tlearn: 0.5616566\ttest: 0.6180955\tbest: 0.6180955 (116)\ttotal: 9.63s\tremaining: 13m 33s\n",
      "117:\tlearn: 0.5594005\ttest: 0.6162162\tbest: 0.6162162 (117)\ttotal: 9.71s\tremaining: 13m 33s\n",
      "118:\tlearn: 0.5571873\ttest: 0.6143238\tbest: 0.6143238 (118)\ttotal: 9.8s\tremaining: 13m 33s\n",
      "119:\tlearn: 0.5550077\ttest: 0.6123971\tbest: 0.6123971 (119)\ttotal: 9.88s\tremaining: 13m 33s\n",
      "120:\tlearn: 0.5528442\ttest: 0.6107529\tbest: 0.6107529 (120)\ttotal: 9.97s\tremaining: 13m 33s\n",
      "121:\tlearn: 0.5507742\ttest: 0.6089413\tbest: 0.6089413 (121)\ttotal: 10s\tremaining: 13m 33s\n",
      "122:\tlearn: 0.5486691\ttest: 0.6071832\tbest: 0.6071832 (122)\ttotal: 10.1s\tremaining: 13m 33s\n",
      "123:\tlearn: 0.5466567\ttest: 0.6054314\tbest: 0.6054314 (123)\ttotal: 10.2s\tremaining: 13m 33s\n",
      "124:\tlearn: 0.5446149\ttest: 0.6037587\tbest: 0.6037587 (124)\ttotal: 10.3s\tremaining: 13m 33s\n",
      "125:\tlearn: 0.5426177\ttest: 0.6019909\tbest: 0.6019909 (125)\ttotal: 10.4s\tremaining: 13m 32s\n",
      "126:\tlearn: 0.5406296\ttest: 0.6002742\tbest: 0.6002742 (126)\ttotal: 10.5s\tremaining: 13m 32s\n",
      "127:\tlearn: 0.5386886\ttest: 0.5985981\tbest: 0.5985981 (127)\ttotal: 10.5s\tremaining: 13m 32s\n",
      "128:\tlearn: 0.5367286\ttest: 0.5968452\tbest: 0.5968452 (128)\ttotal: 10.6s\tremaining: 13m 33s\n",
      "129:\tlearn: 0.5348444\ttest: 0.5954275\tbest: 0.5954275 (129)\ttotal: 10.7s\tremaining: 13m 33s\n",
      "130:\tlearn: 0.5330004\ttest: 0.5937991\tbest: 0.5937991 (130)\ttotal: 10.8s\tremaining: 13m 33s\n",
      "131:\tlearn: 0.5311649\ttest: 0.5922657\tbest: 0.5922657 (131)\ttotal: 10.9s\tremaining: 13m 32s\n",
      "132:\tlearn: 0.5293194\ttest: 0.5907100\tbest: 0.5907100 (132)\ttotal: 11s\tremaining: 13m 32s\n",
      "133:\tlearn: 0.5275767\ttest: 0.5891722\tbest: 0.5891722 (133)\ttotal: 11s\tremaining: 13m 32s\n",
      "134:\tlearn: 0.5258442\ttest: 0.5876397\tbest: 0.5876397 (134)\ttotal: 11.1s\tremaining: 13m 32s\n",
      "135:\tlearn: 0.5241258\ttest: 0.5863548\tbest: 0.5863548 (135)\ttotal: 11.2s\tremaining: 13m 32s\n",
      "136:\tlearn: 0.5224228\ttest: 0.5848621\tbest: 0.5848621 (136)\ttotal: 11.3s\tremaining: 13m 33s\n",
      "137:\tlearn: 0.5207042\ttest: 0.5831405\tbest: 0.5831405 (137)\ttotal: 11.4s\tremaining: 13m 33s\n",
      "138:\tlearn: 0.5190751\ttest: 0.5816778\tbest: 0.5816778 (138)\ttotal: 11.5s\tremaining: 13m 33s\n",
      "139:\tlearn: 0.5174179\ttest: 0.5802830\tbest: 0.5802830 (139)\ttotal: 11.6s\tremaining: 13m 34s\n",
      "140:\tlearn: 0.5158257\ttest: 0.5790240\tbest: 0.5790240 (140)\ttotal: 11.6s\tremaining: 13m 33s\n",
      "141:\tlearn: 0.5142997\ttest: 0.5777247\tbest: 0.5777247 (141)\ttotal: 11.7s\tremaining: 13m 33s\n",
      "142:\tlearn: 0.5127346\ttest: 0.5764753\tbest: 0.5764753 (142)\ttotal: 11.8s\tremaining: 13m 33s\n",
      "143:\tlearn: 0.5112170\ttest: 0.5751804\tbest: 0.5751804 (143)\ttotal: 11.9s\tremaining: 13m 33s\n",
      "144:\tlearn: 0.5096971\ttest: 0.5738739\tbest: 0.5738739 (144)\ttotal: 12s\tremaining: 13m 33s\n",
      "145:\tlearn: 0.5082271\ttest: 0.5727439\tbest: 0.5727439 (145)\ttotal: 12.1s\tremaining: 13m 33s\n",
      "146:\tlearn: 0.5068126\ttest: 0.5715421\tbest: 0.5715421 (146)\ttotal: 12.1s\tremaining: 13m 33s\n",
      "147:\tlearn: 0.5054234\ttest: 0.5703502\tbest: 0.5703502 (147)\ttotal: 12.2s\tremaining: 13m 33s\n",
      "148:\tlearn: 0.5040102\ttest: 0.5692492\tbest: 0.5692492 (148)\ttotal: 12.3s\tremaining: 13m 33s\n",
      "149:\tlearn: 0.5026076\ttest: 0.5680597\tbest: 0.5680597 (149)\ttotal: 12.4s\tremaining: 13m 33s\n",
      "150:\tlearn: 0.5012905\ttest: 0.5667289\tbest: 0.5667289 (150)\ttotal: 12.5s\tremaining: 13m 33s\n",
      "151:\tlearn: 0.4999856\ttest: 0.5656088\tbest: 0.5656088 (151)\ttotal: 12.6s\tremaining: 13m 33s\n",
      "152:\tlearn: 0.4987045\ttest: 0.5645051\tbest: 0.5645051 (152)\ttotal: 12.6s\tremaining: 13m 33s\n",
      "153:\tlearn: 0.4974293\ttest: 0.5634015\tbest: 0.5634015 (153)\ttotal: 12.7s\tremaining: 13m 33s\n",
      "154:\tlearn: 0.4961217\ttest: 0.5624284\tbest: 0.5624284 (154)\ttotal: 12.8s\tremaining: 13m 33s\n",
      "155:\tlearn: 0.4948526\ttest: 0.5612956\tbest: 0.5612956 (155)\ttotal: 12.9s\tremaining: 13m 33s\n",
      "156:\tlearn: 0.4935983\ttest: 0.5602967\tbest: 0.5602967 (156)\ttotal: 13s\tremaining: 13m 33s\n",
      "157:\tlearn: 0.4923706\ttest: 0.5591994\tbest: 0.5591994 (157)\ttotal: 13.1s\tremaining: 13m 33s\n",
      "158:\tlearn: 0.4911786\ttest: 0.5581682\tbest: 0.5581682 (158)\ttotal: 13.1s\tremaining: 13m 33s\n",
      "159:\tlearn: 0.4899929\ttest: 0.5571404\tbest: 0.5571404 (159)\ttotal: 13.2s\tremaining: 13m 33s\n",
      "160:\tlearn: 0.4887820\ttest: 0.5561336\tbest: 0.5561336 (160)\ttotal: 13.3s\tremaining: 13m 33s\n",
      "161:\tlearn: 0.4876621\ttest: 0.5552012\tbest: 0.5552012 (161)\ttotal: 13.4s\tremaining: 13m 33s\n",
      "162:\tlearn: 0.4865578\ttest: 0.5542797\tbest: 0.5542797 (162)\ttotal: 13.5s\tremaining: 13m 33s\n",
      "163:\tlearn: 0.4854605\ttest: 0.5533453\tbest: 0.5533453 (163)\ttotal: 13.6s\tremaining: 13m 32s\n",
      "164:\tlearn: 0.4843809\ttest: 0.5523731\tbest: 0.5523731 (164)\ttotal: 13.6s\tremaining: 13m 33s\n",
      "165:\tlearn: 0.4832546\ttest: 0.5513575\tbest: 0.5513575 (165)\ttotal: 13.7s\tremaining: 13m 33s\n",
      "166:\tlearn: 0.4821940\ttest: 0.5505315\tbest: 0.5505315 (166)\ttotal: 13.8s\tremaining: 13m 33s\n",
      "167:\tlearn: 0.4811648\ttest: 0.5496583\tbest: 0.5496583 (167)\ttotal: 13.9s\tremaining: 13m 33s\n",
      "168:\tlearn: 0.4801660\ttest: 0.5487784\tbest: 0.5487784 (168)\ttotal: 14s\tremaining: 13m 33s\n",
      "169:\tlearn: 0.4791581\ttest: 0.5479902\tbest: 0.5479902 (169)\ttotal: 14.1s\tremaining: 13m 33s\n",
      "170:\tlearn: 0.4781906\ttest: 0.5471934\tbest: 0.5471934 (170)\ttotal: 14.1s\tremaining: 13m 33s\n",
      "171:\tlearn: 0.4772270\ttest: 0.5463750\tbest: 0.5463750 (171)\ttotal: 14.2s\tremaining: 13m 33s\n",
      "172:\tlearn: 0.4762789\ttest: 0.5455841\tbest: 0.5455841 (172)\ttotal: 14.3s\tremaining: 13m 33s\n",
      "173:\tlearn: 0.4752871\ttest: 0.5446674\tbest: 0.5446674 (173)\ttotal: 14.4s\tremaining: 13m 33s\n",
      "174:\tlearn: 0.4743548\ttest: 0.5438212\tbest: 0.5438212 (174)\ttotal: 14.5s\tremaining: 13m 33s\n",
      "175:\tlearn: 0.4734355\ttest: 0.5430691\tbest: 0.5430691 (175)\ttotal: 14.6s\tremaining: 13m 32s\n",
      "176:\tlearn: 0.4725362\ttest: 0.5423802\tbest: 0.5423802 (176)\ttotal: 14.6s\tremaining: 13m 32s\n",
      "177:\tlearn: 0.4716578\ttest: 0.5416427\tbest: 0.5416427 (177)\ttotal: 14.7s\tremaining: 13m 32s\n",
      "178:\tlearn: 0.4708232\ttest: 0.5407018\tbest: 0.5407018 (178)\ttotal: 14.8s\tremaining: 13m 33s\n",
      "179:\tlearn: 0.4699548\ttest: 0.5399947\tbest: 0.5399947 (179)\ttotal: 14.9s\tremaining: 13m 33s\n",
      "180:\tlearn: 0.4691265\ttest: 0.5337611\tbest: 0.5337611 (180)\ttotal: 15s\tremaining: 13m 33s\n",
      "181:\tlearn: 0.4682966\ttest: 0.5331066\tbest: 0.5331066 (181)\ttotal: 15.1s\tremaining: 13m 33s\n",
      "182:\tlearn: 0.4675265\ttest: 0.5325703\tbest: 0.5325703 (182)\ttotal: 15.2s\tremaining: 13m 33s\n"
     ]
    },
    {
     "name": "stdout",
     "output_type": "stream",
     "text": [
      "183:\tlearn: 0.4667242\ttest: 0.5319165\tbest: 0.5319165 (183)\ttotal: 15.2s\tremaining: 13m 33s\n",
      "184:\tlearn: 0.4658998\ttest: 0.5312769\tbest: 0.5312769 (184)\ttotal: 15.3s\tremaining: 13m 33s\n",
      "185:\tlearn: 0.4651195\ttest: 0.5306423\tbest: 0.5306423 (185)\ttotal: 15.4s\tremaining: 13m 33s\n",
      "186:\tlearn: 0.4643260\ttest: 0.5300059\tbest: 0.5300059 (186)\ttotal: 15.5s\tremaining: 13m 33s\n",
      "187:\tlearn: 0.4635721\ttest: 0.5294001\tbest: 0.5294001 (187)\ttotal: 15.6s\tremaining: 13m 32s\n",
      "188:\tlearn: 0.4628555\ttest: 0.5286300\tbest: 0.5286300 (188)\ttotal: 15.7s\tremaining: 13m 33s\n",
      "189:\tlearn: 0.4621391\ttest: 0.5280651\tbest: 0.5280651 (189)\ttotal: 15.7s\tremaining: 13m 32s\n",
      "190:\tlearn: 0.4614044\ttest: 0.5274570\tbest: 0.5274570 (190)\ttotal: 15.8s\tremaining: 13m 32s\n",
      "191:\tlearn: 0.4606890\ttest: 0.5269576\tbest: 0.5269576 (191)\ttotal: 15.9s\tremaining: 13m 32s\n",
      "192:\tlearn: 0.4599499\ttest: 0.5264857\tbest: 0.5264857 (192)\ttotal: 16s\tremaining: 13m 32s\n",
      "193:\tlearn: 0.4592056\ttest: 0.5258562\tbest: 0.5258562 (193)\ttotal: 16.1s\tremaining: 13m 32s\n",
      "194:\tlearn: 0.4585414\ttest: 0.5253586\tbest: 0.5253586 (194)\ttotal: 16.2s\tremaining: 13m 32s\n",
      "195:\tlearn: 0.4578137\ttest: 0.5249062\tbest: 0.5249062 (195)\ttotal: 16.2s\tremaining: 13m 32s\n",
      "196:\tlearn: 0.4571447\ttest: 0.5240880\tbest: 0.5240880 (196)\ttotal: 16.3s\tremaining: 13m 32s\n",
      "197:\tlearn: 0.4564677\ttest: 0.5232796\tbest: 0.5232796 (197)\ttotal: 16.4s\tremaining: 13m 33s\n",
      "198:\tlearn: 0.4558104\ttest: 0.5226587\tbest: 0.5226587 (198)\ttotal: 16.5s\tremaining: 13m 33s\n",
      "199:\tlearn: 0.4550911\ttest: 0.5221021\tbest: 0.5221021 (199)\ttotal: 16.6s\tremaining: 13m 33s\n",
      "200:\tlearn: 0.4544226\ttest: 0.5192571\tbest: 0.5192571 (200)\ttotal: 16.7s\tremaining: 13m 34s\n",
      "201:\tlearn: 0.4537731\ttest: 0.5188560\tbest: 0.5188560 (201)\ttotal: 16.8s\tremaining: 13m 34s\n",
      "202:\tlearn: 0.4531692\ttest: 0.5184364\tbest: 0.5184364 (202)\ttotal: 16.9s\tremaining: 13m 35s\n",
      "203:\tlearn: 0.4525094\ttest: 0.5180302\tbest: 0.5180302 (203)\ttotal: 17s\tremaining: 13m 35s\n",
      "204:\tlearn: 0.4519298\ttest: 0.5176619\tbest: 0.5176619 (204)\ttotal: 17.1s\tremaining: 13m 35s\n",
      "205:\tlearn: 0.4513345\ttest: 0.5172560\tbest: 0.5172560 (205)\ttotal: 17.2s\tremaining: 13m 36s\n",
      "206:\tlearn: 0.4507957\ttest: 0.5168709\tbest: 0.5168709 (206)\ttotal: 17.3s\tremaining: 13m 36s\n",
      "207:\tlearn: 0.4502351\ttest: 0.5165104\tbest: 0.5165104 (207)\ttotal: 17.3s\tremaining: 13m 36s\n",
      "208:\tlearn: 0.4496238\ttest: 0.5161356\tbest: 0.5161356 (208)\ttotal: 17.4s\tremaining: 13m 36s\n",
      "209:\tlearn: 0.4489815\ttest: 0.5156585\tbest: 0.5156585 (209)\ttotal: 17.5s\tremaining: 13m 36s\n",
      "210:\tlearn: 0.4484264\ttest: 0.5152451\tbest: 0.5152451 (210)\ttotal: 17.6s\tremaining: 13m 36s\n",
      "211:\tlearn: 0.4478170\ttest: 0.5148128\tbest: 0.5148128 (211)\ttotal: 17.7s\tremaining: 13m 37s\n",
      "212:\tlearn: 0.4472860\ttest: 0.5144501\tbest: 0.5144501 (212)\ttotal: 17.8s\tremaining: 13m 37s\n",
      "213:\tlearn: 0.4467006\ttest: 0.5136529\tbest: 0.5136529 (213)\ttotal: 17.9s\tremaining: 13m 36s\n",
      "214:\tlearn: 0.4461758\ttest: 0.5132293\tbest: 0.5132293 (214)\ttotal: 18s\tremaining: 13m 37s\n",
      "215:\tlearn: 0.4456748\ttest: 0.5128683\tbest: 0.5128683 (215)\ttotal: 18s\tremaining: 13m 37s\n",
      "216:\tlearn: 0.4451388\ttest: 0.5127281\tbest: 0.5127281 (216)\ttotal: 18.1s\tremaining: 13m 37s\n",
      "217:\tlearn: 0.4445976\ttest: 0.5123645\tbest: 0.5123645 (217)\ttotal: 18.2s\tremaining: 13m 37s\n",
      "218:\tlearn: 0.4441199\ttest: 0.5119995\tbest: 0.5119995 (218)\ttotal: 18.3s\tremaining: 13m 37s\n",
      "219:\tlearn: 0.4435863\ttest: 0.5117982\tbest: 0.5117982 (219)\ttotal: 18.4s\tremaining: 13m 37s\n",
      "220:\tlearn: 0.4430426\ttest: 0.5114569\tbest: 0.5114569 (220)\ttotal: 18.5s\tremaining: 13m 38s\n",
      "221:\tlearn: 0.4424983\ttest: 0.5111787\tbest: 0.5111787 (221)\ttotal: 18.6s\tremaining: 13m 37s\n",
      "222:\tlearn: 0.4420155\ttest: 0.5108942\tbest: 0.5108942 (222)\ttotal: 18.6s\tremaining: 13m 37s\n",
      "223:\tlearn: 0.4415615\ttest: 0.5105666\tbest: 0.5105666 (223)\ttotal: 18.7s\tremaining: 13m 37s\n",
      "224:\tlearn: 0.4411341\ttest: 0.5102701\tbest: 0.5102701 (224)\ttotal: 18.8s\tremaining: 13m 37s\n",
      "225:\tlearn: 0.4407377\ttest: 0.5100107\tbest: 0.5100107 (225)\ttotal: 18.9s\tremaining: 13m 37s\n",
      "226:\tlearn: 0.4402887\ttest: 0.5097512\tbest: 0.5097512 (226)\ttotal: 19s\tremaining: 13m 37s\n",
      "227:\tlearn: 0.4398630\ttest: 0.5094690\tbest: 0.5094690 (227)\ttotal: 19.1s\tremaining: 13m 37s\n",
      "228:\tlearn: 0.4393988\ttest: 0.5091799\tbest: 0.5091799 (228)\ttotal: 19.2s\tremaining: 13m 37s\n",
      "229:\tlearn: 0.4389898\ttest: 0.5088864\tbest: 0.5088864 (229)\ttotal: 19.2s\tremaining: 13m 37s\n",
      "230:\tlearn: 0.4385113\ttest: 0.5090843\tbest: 0.5088864 (229)\ttotal: 19.3s\tremaining: 13m 37s\n",
      "231:\tlearn: 0.4380107\ttest: 0.5088111\tbest: 0.5088111 (231)\ttotal: 19.4s\tremaining: 13m 36s\n",
      "232:\tlearn: 0.4375933\ttest: 0.5084925\tbest: 0.5084925 (232)\ttotal: 19.5s\tremaining: 13m 37s\n",
      "233:\tlearn: 0.4372050\ttest: 0.5082963\tbest: 0.5082963 (233)\ttotal: 19.6s\tremaining: 13m 36s\n",
      "234:\tlearn: 0.4368474\ttest: 0.5080730\tbest: 0.5080730 (234)\ttotal: 19.7s\tremaining: 13m 36s\n",
      "235:\tlearn: 0.4363627\ttest: 0.5077971\tbest: 0.5077971 (235)\ttotal: 19.7s\tremaining: 13m 36s\n",
      "236:\tlearn: 0.4359863\ttest: 0.5075670\tbest: 0.5075670 (236)\ttotal: 19.8s\tremaining: 13m 36s\n",
      "237:\tlearn: 0.4355557\ttest: 0.5083866\tbest: 0.5075670 (236)\ttotal: 19.9s\tremaining: 13m 36s\n",
      "238:\tlearn: 0.4351452\ttest: 0.5101483\tbest: 0.5075670 (236)\ttotal: 20s\tremaining: 13m 36s\n",
      "239:\tlearn: 0.4347534\ttest: 0.5100138\tbest: 0.5075670 (236)\ttotal: 20.1s\tremaining: 13m 36s\n",
      "240:\tlearn: 0.4344041\ttest: 0.5098940\tbest: 0.5075670 (236)\ttotal: 20.2s\tremaining: 13m 36s\n",
      "241:\tlearn: 0.4340622\ttest: 0.5097173\tbest: 0.5075670 (236)\ttotal: 20.2s\tremaining: 13m 36s\n",
      "242:\tlearn: 0.4336929\ttest: 0.5095191\tbest: 0.5075670 (236)\ttotal: 20.3s\tremaining: 13m 36s\n",
      "243:\tlearn: 0.4333582\ttest: 0.5093339\tbest: 0.5075670 (236)\ttotal: 20.4s\tremaining: 13m 36s\n",
      "244:\tlearn: 0.4329974\ttest: 0.5091577\tbest: 0.5075670 (236)\ttotal: 20.5s\tremaining: 13m 36s\n",
      "245:\tlearn: 0.4326335\ttest: 0.5093315\tbest: 0.5075670 (236)\ttotal: 20.6s\tremaining: 13m 36s\n",
      "246:\tlearn: 0.4323387\ttest: 0.5091419\tbest: 0.5075670 (236)\ttotal: 20.7s\tremaining: 13m 36s\n",
      "247:\tlearn: 0.4319632\ttest: 0.5090849\tbest: 0.5075670 (236)\ttotal: 20.8s\tremaining: 13m 36s\n",
      "248:\tlearn: 0.4315386\ttest: 0.5088575\tbest: 0.5075670 (236)\ttotal: 20.8s\tremaining: 13m 36s\n",
      "249:\tlearn: 0.4312165\ttest: 0.5086881\tbest: 0.5075670 (236)\ttotal: 20.9s\tremaining: 13m 36s\n",
      "250:\tlearn: 0.4308105\ttest: 0.5085137\tbest: 0.5075670 (236)\ttotal: 21s\tremaining: 13m 36s\n",
      "251:\tlearn: 0.4305187\ttest: 0.5083968\tbest: 0.5075670 (236)\ttotal: 21.1s\tremaining: 13m 36s\n",
      "252:\tlearn: 0.4302172\ttest: 0.5082292\tbest: 0.5075670 (236)\ttotal: 21.2s\tremaining: 13m 36s\n",
      "253:\tlearn: 0.4299322\ttest: 0.5080486\tbest: 0.5075670 (236)\ttotal: 21.3s\tremaining: 13m 36s\n",
      "254:\tlearn: 0.4296438\ttest: 0.5078374\tbest: 0.5075670 (236)\ttotal: 21.4s\tremaining: 13m 36s\n",
      "255:\tlearn: 0.4293404\ttest: 0.5077030\tbest: 0.5075670 (236)\ttotal: 21.4s\tremaining: 13m 36s\n",
      "256:\tlearn: 0.4290363\ttest: 0.5076392\tbest: 0.5075670 (236)\ttotal: 21.6s\tremaining: 13m 37s\n",
      "257:\tlearn: 0.4287508\ttest: 0.5075321\tbest: 0.5075321 (257)\ttotal: 21.6s\tremaining: 13m 37s\n",
      "258:\tlearn: 0.4284581\ttest: 0.5074040\tbest: 0.5074040 (258)\ttotal: 21.7s\tremaining: 13m 37s\n",
      "259:\tlearn: 0.4282095\ttest: 0.5088503\tbest: 0.5074040 (258)\ttotal: 21.8s\tremaining: 13m 37s\n",
      "260:\tlearn: 0.4279499\ttest: 0.5087185\tbest: 0.5074040 (258)\ttotal: 21.9s\tremaining: 13m 37s\n",
      "261:\tlearn: 0.4276623\ttest: 0.5087530\tbest: 0.5074040 (258)\ttotal: 22s\tremaining: 13m 37s\n",
      "262:\tlearn: 0.4273895\ttest: 0.5091101\tbest: 0.5074040 (258)\ttotal: 22.1s\tremaining: 13m 37s\n",
      "263:\tlearn: 0.4270981\ttest: 0.5089228\tbest: 0.5074040 (258)\ttotal: 22.2s\tremaining: 13m 37s\n",
      "264:\tlearn: 0.4268050\ttest: 0.5109930\tbest: 0.5074040 (258)\ttotal: 22.3s\tremaining: 13m 37s\n",
      "265:\tlearn: 0.4265637\ttest: 0.5109034\tbest: 0.5074040 (258)\ttotal: 22.3s\tremaining: 13m 37s\n",
      "266:\tlearn: 0.4263142\ttest: 0.5108078\tbest: 0.5074040 (258)\ttotal: 22.4s\tremaining: 13m 37s\n",
      "267:\tlearn: 0.4260557\ttest: 0.5107713\tbest: 0.5074040 (258)\ttotal: 22.5s\tremaining: 13m 37s\n",
      "268:\tlearn: 0.4257829\ttest: 0.5106667\tbest: 0.5074040 (258)\ttotal: 22.6s\tremaining: 13m 37s\n",
      "269:\tlearn: 0.4255162\ttest: 0.5105805\tbest: 0.5074040 (258)\ttotal: 22.7s\tremaining: 13m 37s\n",
      "270:\tlearn: 0.4252761\ttest: 0.5106594\tbest: 0.5074040 (258)\ttotal: 22.8s\tremaining: 13m 37s\n",
      "271:\tlearn: 0.4250172\ttest: 0.5106967\tbest: 0.5074040 (258)\ttotal: 22.9s\tremaining: 13m 37s\n",
      "272:\tlearn: 0.4248000\ttest: 0.5106309\tbest: 0.5074040 (258)\ttotal: 22.9s\tremaining: 13m 37s\n"
     ]
    },
    {
     "name": "stdout",
     "output_type": "stream",
     "text": [
      "273:\tlearn: 0.4245675\ttest: 0.5105158\tbest: 0.5074040 (258)\ttotal: 23s\tremaining: 13m 37s\n",
      "274:\tlearn: 0.4243307\ttest: 0.5104112\tbest: 0.5074040 (258)\ttotal: 23.1s\tremaining: 13m 37s\n",
      "275:\tlearn: 0.4240905\ttest: 0.5102867\tbest: 0.5074040 (258)\ttotal: 23.2s\tremaining: 13m 38s\n",
      "276:\tlearn: 0.4238440\ttest: 0.5144338\tbest: 0.5074040 (258)\ttotal: 23.3s\tremaining: 13m 38s\n",
      "277:\tlearn: 0.4235502\ttest: 0.5143523\tbest: 0.5074040 (258)\ttotal: 23.4s\tremaining: 13m 38s\n",
      "278:\tlearn: 0.4233322\ttest: 0.5143294\tbest: 0.5074040 (258)\ttotal: 23.5s\tremaining: 13m 38s\n",
      "279:\tlearn: 0.4230953\ttest: 0.5142775\tbest: 0.5074040 (258)\ttotal: 23.6s\tremaining: 13m 38s\n",
      "280:\tlearn: 0.4228091\ttest: 0.5141030\tbest: 0.5074040 (258)\ttotal: 23.7s\tremaining: 13m 38s\n",
      "281:\tlearn: 0.4225762\ttest: 0.5140390\tbest: 0.5074040 (258)\ttotal: 23.7s\tremaining: 13m 38s\n",
      "282:\tlearn: 0.4223586\ttest: 0.5140072\tbest: 0.5074040 (258)\ttotal: 23.8s\tremaining: 13m 38s\n",
      "283:\tlearn: 0.4221170\ttest: 0.5145610\tbest: 0.5074040 (258)\ttotal: 23.9s\tremaining: 13m 38s\n",
      "284:\tlearn: 0.4218533\ttest: 0.5170206\tbest: 0.5074040 (258)\ttotal: 24s\tremaining: 13m 37s\n",
      "285:\tlearn: 0.4215954\ttest: 0.5170994\tbest: 0.5074040 (258)\ttotal: 24.1s\tremaining: 13m 38s\n",
      "286:\tlearn: 0.4213749\ttest: 0.5169850\tbest: 0.5074040 (258)\ttotal: 24.2s\tremaining: 13m 38s\n",
      "287:\tlearn: 0.4212025\ttest: 0.5170075\tbest: 0.5074040 (258)\ttotal: 24.3s\tremaining: 13m 38s\n",
      "288:\tlearn: 0.4209827\ttest: 0.5169491\tbest: 0.5074040 (258)\ttotal: 24.3s\tremaining: 13m 38s\n",
      "bestTest = 0.5074040421\n",
      "bestIteration = 258\n",
      "Shrink model to first 259 iterations.\n"
     ]
    },
    {
     "data": {
      "text/plain": [
       "<catboost.core.CatBoostRegressor at 0x1a3c4011cc0>"
      ]
     },
     "execution_count": 113,
     "metadata": {},
     "output_type": "execute_result"
    }
   ],
   "source": [
    "cb_model = CatBoostRegressor(iterations=10000,\n",
    "                             learning_rate=0.01,\n",
    "                             eval_metric='RMSE',\n",
    "                             #thread_count=16,\n",
    "                             task_type = \"GPU\",\n",
    "                             use_best_model=True,\n",
    "                             #l2_leaf_reg = 1000,\n",
    "                            od_type = \"Iter\",\n",
    "                            od_wait = 30,\n",
    "                             #random_strength = 10,\n",
    "                             #bagging_temperature = 1,\n",
    "                             #one_hot_max_size = 2,\n",
    "                             random_seed = 23)\n",
    "\n",
    "\n",
    "cb_model.fit(x_train[lgbm_features], y_train, cat_features=categorical_features_indices,\n",
    "             eval_set=(x_val[lgbm_features],y_val),\n",
    "             #cat_features=categorical_features_pos,         \n",
    "             verbose=True)"
   ]
  },
  {
   "cell_type": "code",
   "execution_count": 114,
   "metadata": {},
   "outputs": [
    {
     "data": {
      "text/plain": [
       "array(['item_share_of_block_sales', 'shop_category_cnt_max',\n",
       "       'item_share_of_all_sales', 'shop_category_cnt_mean',\n",
       "       'item_share_of_total_gross', 'category_share_of_all_sales',\n",
       "       'category_share_of_block_sales', 'category_share_of_total_gross',\n",
       "       'shop_share_of_total_gross', 'shop_share_of_block_gross',\n",
       "       'category_cnt_sum', 'shop_category_price_mean',\n",
       "       'category_cnt_mean', 'shop_share_of_block_sales',\n",
       "       'category_cnt_max', 'shop_price_mean',\n",
       "       'category_share_of_block_gross_lag_1', 'item_id',\n",
       "       'item_category_id', 'shop_category_cnt_min',\n",
       "       'shop_share_of_all_sales', 'category_cnt_max_lag_1',\n",
       "       'date_block_num', 'category_share_of_block_sales_lag_1',\n",
       "       'item_cnt_mean_lag_1', 'shop_category_price_mean_lag_1',\n",
       "       'item_share_of_block_sales_lag_1', 'item_cnt_max_lag_1',\n",
       "       'shop_category_cnt_sum', 'item_share_of_block_gross_lag_1',\n",
       "       'category_price_mean_lag_1', 'category_price_mean',\n",
       "       'shop_cnt_sum_lag_1', 'category_cnt_mean_lag_1',\n",
       "       'item_cnt_min_lag_3', 'item_cnt_min_lag_1', 'shop_id',\n",
       "       'item_cnt_sum_lag_3', 'item_cnt_mean_lag_3',\n",
       "       'category_cnt_sum_lag_3', 'shop_cnt_sum_lag_3',\n",
       "       'item_cnt_max_lag_3', 'item_price_mean_lag_3',\n",
       "       'shop_cnt_mean_lag_3', 'shop_cnt_max_lag_3',\n",
       "       'shop_price_mean_lag_3', 'shop_cnt_min_lag_3',\n",
       "       'shop_cnt_mean_lag_1', 'shop_share_of_block_gross_lag_1',\n",
       "       'shop_share_of_block_sales_lag_1', 'shop_category_cnt_max_lag_1',\n",
       "       'shop_category_cnt_min_lag_1', 'shop_category_cnt_mean_lag_1',\n",
       "       'shop_category_cnt_sum_lag_1', 'category_cnt_min_lag_1',\n",
       "       'category_cnt_sum_lag_1', 'shop_price_mean_lag_1',\n",
       "       'shop_cnt_max_lag_1', 'shop_cnt_min_lag_1',\n",
       "       'category_cnt_min_lag_3', 'item_price_mean_lag_1',\n",
       "       'item_cnt_sum_lag_1', 'category_cnt_min',\n",
       "       'category_cnt_mean_lag_3', 'item_share_of_block_gross_lag_12',\n",
       "       'item_share_of_block_sales_lag_12', 'category_price_mean_lag_3',\n",
       "       'shop_share_of_block_gross_lag_6',\n",
       "       'category_share_of_block_sales_lag_6',\n",
       "       'category_share_of_block_gross_lag_6',\n",
       "       'item_share_of_block_sales_lag_6',\n",
       "       'item_share_of_block_gross_lag_6', 'item_cnt_sum_lag_12',\n",
       "       'item_cnt_mean_lag_12', 'item_cnt_min_lag_12',\n",
       "       'item_cnt_max_lag_12', 'item_price_mean_lag_12',\n",
       "       'shop_cnt_sum_lag_12', 'shop_cnt_mean_lag_12',\n",
       "       'shop_cnt_min_lag_12', 'shop_cnt_max_lag_12',\n",
       "       'shop_price_mean_lag_12', 'category_cnt_sum_lag_12',\n",
       "       'category_cnt_mean_lag_12', 'category_cnt_min_lag_12',\n",
       "       'category_cnt_max_lag_12', 'category_price_mean_lag_12',\n",
       "       'shop_category_cnt_sum_lag_12', 'shop_category_cnt_mean_lag_12',\n",
       "       'shop_category_cnt_min_lag_12', 'shop_category_cnt_max_lag_12',\n",
       "       'shop_category_price_mean_lag_12',\n",
       "       'shop_share_of_block_sales_lag_12',\n",
       "       'shop_share_of_block_gross_lag_12',\n",
       "       'category_share_of_block_sales_lag_12',\n",
       "       'category_share_of_block_gross_lag_12',\n",
       "       'shop_share_of_block_sales_lag_6',\n",
       "       'shop_category_price_mean_lag_6', 'shop_category_cnt_max_lag_6',\n",
       "       'item_cnt_min_lag_6', 'shop_category_cnt_sum_lag_3',\n",
       "       'shop_category_cnt_mean_lag_3', 'shop_category_cnt_min_lag_3',\n",
       "       'shop_category_cnt_max_lag_3', 'shop_category_price_mean_lag_3',\n",
       "       'shop_share_of_block_sales_lag_3',\n",
       "       'shop_share_of_block_gross_lag_3',\n",
       "       'category_share_of_block_sales_lag_3',\n",
       "       'category_share_of_block_gross_lag_3',\n",
       "       'item_share_of_block_sales_lag_3',\n",
       "       'item_share_of_block_gross_lag_3', 'item_cnt_sum_lag_6',\n",
       "       'item_cnt_mean_lag_6', 'item_cnt_max_lag_6',\n",
       "       'shop_category_cnt_min_lag_6', 'item_price_mean_lag_6',\n",
       "       'shop_cnt_sum_lag_6', 'shop_cnt_mean_lag_6', 'shop_cnt_min_lag_6',\n",
       "       'shop_cnt_max_lag_6', 'shop_price_mean_lag_6',\n",
       "       'category_cnt_sum_lag_6', 'category_cnt_mean_lag_6',\n",
       "       'category_cnt_min_lag_6', 'category_cnt_max_lag_6',\n",
       "       'category_price_mean_lag_6', 'shop_category_cnt_sum_lag_6',\n",
       "       'shop_category_cnt_mean_lag_6', 'category_cnt_max_lag_3'],\n",
       "      dtype=object)"
      ]
     },
     "execution_count": 114,
     "metadata": {},
     "output_type": "execute_result"
    }
   ],
   "source": [
    "lgbm_features[np.argsort(cb_model.get_feature_importance())[::-1]]"
   ]
  },
  {
   "cell_type": "code",
   "execution_count": 47,
   "metadata": {},
   "outputs": [
    {
     "data": {
      "text/plain": [
       "79"
      ]
     },
     "execution_count": 47,
     "metadata": {},
     "output_type": "execute_result"
    }
   ],
   "source": [
    "len(training.item_category_id.unique())"
   ]
  },
  {
   "cell_type": "code",
   "execution_count": null,
   "metadata": {},
   "outputs": [],
   "source": [
    "print('Plotting feature importances...')\n",
    "ax = lgbm.plot_importance(model_lgb, max_num_features=10)\n",
    "plt.show()"
   ]
  },
  {
   "cell_type": "code",
   "execution_count": null,
   "metadata": {},
   "outputs": [],
   "source": [
    "best_features_indices = np.argsort(model_lgb.feature_importance())[::-1][0:5]\n",
    "lgbm_features[best_features_indices]"
   ]
  },
  {
   "cell_type": "code",
   "execution_count": 115,
   "metadata": {},
   "outputs": [],
   "source": [
    "test_w_cat_ids = test.set_index('item_id').join(items.set_index('item_id'))\n",
    "test_w_cat_ids['date_block_num'] = 34"
   ]
  },
  {
   "cell_type": "code",
   "execution_count": 116,
   "metadata": {},
   "outputs": [
    {
     "data": {
      "text/plain": [
       "['item_cnt_sum',\n",
       " 'item_cnt_mean',\n",
       " 'item_cnt_min',\n",
       " 'item_cnt_max',\n",
       " 'item_price_mean',\n",
       " 'shop_cnt_sum',\n",
       " 'shop_cnt_mean',\n",
       " 'shop_cnt_min',\n",
       " 'shop_cnt_max',\n",
       " 'shop_price_mean',\n",
       " 'category_cnt_sum',\n",
       " 'category_cnt_mean',\n",
       " 'category_cnt_min',\n",
       " 'category_cnt_max',\n",
       " 'category_price_mean',\n",
       " 'shop_category_cnt_sum',\n",
       " 'shop_category_cnt_mean',\n",
       " 'shop_category_cnt_min',\n",
       " 'shop_category_cnt_max',\n",
       " 'shop_category_price_mean',\n",
       " 'shop_share_of_block_sales',\n",
       " 'shop_share_of_block_gross',\n",
       " 'category_share_of_block_sales',\n",
       " 'category_share_of_block_gross',\n",
       " 'item_share_of_block_sales',\n",
       " 'item_share_of_block_gross']"
      ]
     },
     "execution_count": 116,
     "metadata": {},
     "output_type": "execute_result"
    }
   ],
   "source": [
    "lag_columns"
   ]
  },
  {
   "cell_type": "code",
   "execution_count": 117,
   "metadata": {},
   "outputs": [
    {
     "name": "stdout",
     "output_type": "stream",
     "text": [
      "1\n",
      "3\n",
      "6\n",
      "12\n"
     ]
    }
   ],
   "source": [
    "gc.collect()\n",
    "def lagged_name(lag_column, lag):\n",
    "    return \"%s_lag_%d\" % (lag_column, lag)\n",
    "\n",
    "merge_columns = ['lagged_block','item_id','shop_id']\n",
    "\n",
    "for lag in lags:\n",
    "    print(lag)\n",
    "    lagged = transactions.copy()\n",
    "    lagged.rename(columns={'date_block_num':'lagged_block'},inplace=True)\n",
    "    test_w_cat_ids['lagged_block'] = test_w_cat_ids['date_block_num'] - lag\n",
    "    lagged_names = [lagged_name(c,lag) for c in lag_columns]\n",
    "    lag_mapping = dict(zip(lag_columns, lagged_names))\n",
    "    lagged.rename(columns=lag_mapping,inplace=True)\n",
    "    test_w_cat_ids = pd.merge(test_w_cat_ids,lagged[lagged_names+merge_columns],on=merge_columns,how='left')\n",
    "    del lagged\n",
    "    gc.collect()"
   ]
  },
  {
   "cell_type": "code",
   "execution_count": 120,
   "metadata": {},
   "outputs": [
    {
     "data": {
      "text/plain": [
       "Index(['ID', 'item_id', 'shop_id', 'item_name', 'item_category_id',\n",
       "       'date_block_num', 'lagged_block', 'item_cnt_sum_lag_1',\n",
       "       'item_cnt_mean_lag_1', 'item_cnt_min_lag_1',\n",
       "       ...\n",
       "       'shop_category_cnt_mean_lag_12', 'shop_category_cnt_min_lag_12',\n",
       "       'shop_category_cnt_max_lag_12', 'shop_category_price_mean_lag_12',\n",
       "       'shop_share_of_block_sales_lag_12', 'shop_share_of_block_gross_lag_12',\n",
       "       'category_share_of_block_sales_lag_12',\n",
       "       'category_share_of_block_gross_lag_12',\n",
       "       'item_share_of_block_sales_lag_12', 'item_share_of_block_gross_lag_12'],\n",
       "      dtype='object', length=111)"
      ]
     },
     "execution_count": 120,
     "metadata": {},
     "output_type": "execute_result"
    }
   ],
   "source": [
    "test_w_cat_ids.columns"
   ]
  },
  {
   "cell_type": "code",
   "execution_count": null,
   "metadata": {},
   "outputs": [],
   "source": [
    "len(test_w_cat_ids)"
   ]
  },
  {
   "cell_type": "code",
   "execution_count": null,
   "metadata": {},
   "outputs": [],
   "source": [
    "preds = model_lgb.predict(test_w_cat_ids[lgbm_features])\n",
    "preds.clip(0,20,out=preds)"
   ]
  },
  {
   "cell_type": "code",
   "execution_count": 119,
   "metadata": {},
   "outputs": [
    {
     "ename": "KeyError",
     "evalue": "\"['shop_price_mean' 'category_cnt_sum' 'category_cnt_mean'\\n 'category_cnt_min' 'category_cnt_max' 'category_price_mean'\\n 'shop_category_cnt_sum' 'shop_category_cnt_mean' 'shop_category_cnt_min'\\n 'shop_category_cnt_max' 'shop_category_price_mean'\\n 'shop_share_of_all_sales' 'shop_share_of_block_sales'\\n 'shop_share_of_total_gross' 'shop_share_of_block_gross'\\n 'category_share_of_all_sales' 'category_share_of_block_sales'\\n 'category_share_of_total_gross' 'item_share_of_all_sales'\\n 'item_share_of_block_sales' 'item_share_of_total_gross'] not in index\"",
     "output_type": "error",
     "traceback": [
      "\u001b[1;31m---------------------------------------------------------------------------\u001b[0m",
      "\u001b[1;31mKeyError\u001b[0m                                  Traceback (most recent call last)",
      "\u001b[1;32m<ipython-input-119-2fe8a7d5481d>\u001b[0m in \u001b[0;36m<module>\u001b[1;34m()\u001b[0m\n\u001b[1;32m----> 1\u001b[1;33m \u001b[0mtest_w_cat_ids\u001b[0m\u001b[1;33m[\u001b[0m\u001b[0mlgbm_features\u001b[0m\u001b[1;33m]\u001b[0m\u001b[1;33m\u001b[0m\u001b[0m\n\u001b[0m",
      "\u001b[1;32m~\\Anaconda3\\lib\\site-packages\\pandas\\core\\frame.py\u001b[0m in \u001b[0;36m__getitem__\u001b[1;34m(self, key)\u001b[0m\n\u001b[0;32m   2677\u001b[0m         \u001b[1;32mif\u001b[0m \u001b[0misinstance\u001b[0m\u001b[1;33m(\u001b[0m\u001b[0mkey\u001b[0m\u001b[1;33m,\u001b[0m \u001b[1;33m(\u001b[0m\u001b[0mSeries\u001b[0m\u001b[1;33m,\u001b[0m \u001b[0mnp\u001b[0m\u001b[1;33m.\u001b[0m\u001b[0mndarray\u001b[0m\u001b[1;33m,\u001b[0m \u001b[0mIndex\u001b[0m\u001b[1;33m,\u001b[0m \u001b[0mlist\u001b[0m\u001b[1;33m)\u001b[0m\u001b[1;33m)\u001b[0m\u001b[1;33m:\u001b[0m\u001b[1;33m\u001b[0m\u001b[0m\n\u001b[0;32m   2678\u001b[0m             \u001b[1;31m# either boolean or fancy integer index\u001b[0m\u001b[1;33m\u001b[0m\u001b[1;33m\u001b[0m\u001b[0m\n\u001b[1;32m-> 2679\u001b[1;33m             \u001b[1;32mreturn\u001b[0m \u001b[0mself\u001b[0m\u001b[1;33m.\u001b[0m\u001b[0m_getitem_array\u001b[0m\u001b[1;33m(\u001b[0m\u001b[0mkey\u001b[0m\u001b[1;33m)\u001b[0m\u001b[1;33m\u001b[0m\u001b[0m\n\u001b[0m\u001b[0;32m   2680\u001b[0m         \u001b[1;32melif\u001b[0m \u001b[0misinstance\u001b[0m\u001b[1;33m(\u001b[0m\u001b[0mkey\u001b[0m\u001b[1;33m,\u001b[0m \u001b[0mDataFrame\u001b[0m\u001b[1;33m)\u001b[0m\u001b[1;33m:\u001b[0m\u001b[1;33m\u001b[0m\u001b[0m\n\u001b[0;32m   2681\u001b[0m             \u001b[1;32mreturn\u001b[0m \u001b[0mself\u001b[0m\u001b[1;33m.\u001b[0m\u001b[0m_getitem_frame\u001b[0m\u001b[1;33m(\u001b[0m\u001b[0mkey\u001b[0m\u001b[1;33m)\u001b[0m\u001b[1;33m\u001b[0m\u001b[0m\n",
      "\u001b[1;32m~\\Anaconda3\\lib\\site-packages\\pandas\\core\\frame.py\u001b[0m in \u001b[0;36m_getitem_array\u001b[1;34m(self, key)\u001b[0m\n\u001b[0;32m   2721\u001b[0m             \u001b[1;32mreturn\u001b[0m \u001b[0mself\u001b[0m\u001b[1;33m.\u001b[0m\u001b[0m_take\u001b[0m\u001b[1;33m(\u001b[0m\u001b[0mindexer\u001b[0m\u001b[1;33m,\u001b[0m \u001b[0maxis\u001b[0m\u001b[1;33m=\u001b[0m\u001b[1;36m0\u001b[0m\u001b[1;33m)\u001b[0m\u001b[1;33m\u001b[0m\u001b[0m\n\u001b[0;32m   2722\u001b[0m         \u001b[1;32melse\u001b[0m\u001b[1;33m:\u001b[0m\u001b[1;33m\u001b[0m\u001b[0m\n\u001b[1;32m-> 2723\u001b[1;33m             \u001b[0mindexer\u001b[0m \u001b[1;33m=\u001b[0m \u001b[0mself\u001b[0m\u001b[1;33m.\u001b[0m\u001b[0mloc\u001b[0m\u001b[1;33m.\u001b[0m\u001b[0m_convert_to_indexer\u001b[0m\u001b[1;33m(\u001b[0m\u001b[0mkey\u001b[0m\u001b[1;33m,\u001b[0m \u001b[0maxis\u001b[0m\u001b[1;33m=\u001b[0m\u001b[1;36m1\u001b[0m\u001b[1;33m)\u001b[0m\u001b[1;33m\u001b[0m\u001b[0m\n\u001b[0m\u001b[0;32m   2724\u001b[0m             \u001b[1;32mreturn\u001b[0m \u001b[0mself\u001b[0m\u001b[1;33m.\u001b[0m\u001b[0m_take\u001b[0m\u001b[1;33m(\u001b[0m\u001b[0mindexer\u001b[0m\u001b[1;33m,\u001b[0m \u001b[0maxis\u001b[0m\u001b[1;33m=\u001b[0m\u001b[1;36m1\u001b[0m\u001b[1;33m)\u001b[0m\u001b[1;33m\u001b[0m\u001b[0m\n\u001b[0;32m   2725\u001b[0m \u001b[1;33m\u001b[0m\u001b[0m\n",
      "\u001b[1;32m~\\Anaconda3\\lib\\site-packages\\pandas\\core\\indexing.py\u001b[0m in \u001b[0;36m_convert_to_indexer\u001b[1;34m(self, obj, axis, is_setter)\u001b[0m\n\u001b[0;32m   1325\u001b[0m                 \u001b[1;32mif\u001b[0m \u001b[0mmask\u001b[0m\u001b[1;33m.\u001b[0m\u001b[0many\u001b[0m\u001b[1;33m(\u001b[0m\u001b[1;33m)\u001b[0m\u001b[1;33m:\u001b[0m\u001b[1;33m\u001b[0m\u001b[0m\n\u001b[0;32m   1326\u001b[0m                     raise KeyError('{mask} not in index'\n\u001b[1;32m-> 1327\u001b[1;33m                                    .format(mask=objarr[mask]))\n\u001b[0m\u001b[0;32m   1328\u001b[0m \u001b[1;33m\u001b[0m\u001b[0m\n\u001b[0;32m   1329\u001b[0m                 \u001b[1;32mreturn\u001b[0m \u001b[0mcom\u001b[0m\u001b[1;33m.\u001b[0m\u001b[0m_values_from_object\u001b[0m\u001b[1;33m(\u001b[0m\u001b[0mindexer\u001b[0m\u001b[1;33m)\u001b[0m\u001b[1;33m\u001b[0m\u001b[0m\n",
      "\u001b[1;31mKeyError\u001b[0m: \"['shop_price_mean' 'category_cnt_sum' 'category_cnt_mean'\\n 'category_cnt_min' 'category_cnt_max' 'category_price_mean'\\n 'shop_category_cnt_sum' 'shop_category_cnt_mean' 'shop_category_cnt_min'\\n 'shop_category_cnt_max' 'shop_category_price_mean'\\n 'shop_share_of_all_sales' 'shop_share_of_block_sales'\\n 'shop_share_of_total_gross' 'shop_share_of_block_gross'\\n 'category_share_of_all_sales' 'category_share_of_block_sales'\\n 'category_share_of_total_gross' 'item_share_of_all_sales'\\n 'item_share_of_block_sales' 'item_share_of_total_gross'] not in index\""
     ]
    }
   ],
   "source": [
    "test_w_cat_ids[lgbm_features]"
   ]
  },
  {
   "cell_type": "code",
   "execution_count": 118,
   "metadata": {},
   "outputs": [
    {
     "ename": "KeyError",
     "evalue": "\"['shop_price_mean' 'category_cnt_sum' 'category_cnt_mean'\\n 'category_cnt_min' 'category_cnt_max' 'category_price_mean'\\n 'shop_category_cnt_sum' 'shop_category_cnt_mean' 'shop_category_cnt_min'\\n 'shop_category_cnt_max' 'shop_category_price_mean'\\n 'shop_share_of_all_sales' 'shop_share_of_block_sales'\\n 'shop_share_of_total_gross' 'shop_share_of_block_gross'\\n 'category_share_of_all_sales' 'category_share_of_block_sales'\\n 'category_share_of_total_gross' 'item_share_of_all_sales'\\n 'item_share_of_block_sales' 'item_share_of_total_gross'] not in index\"",
     "output_type": "error",
     "traceback": [
      "\u001b[1;31m---------------------------------------------------------------------------\u001b[0m",
      "\u001b[1;31mKeyError\u001b[0m                                  Traceback (most recent call last)",
      "\u001b[1;32m<ipython-input-118-339c85b0a8dd>\u001b[0m in \u001b[0;36m<module>\u001b[1;34m()\u001b[0m\n\u001b[1;32m----> 1\u001b[1;33m \u001b[0mpreds\u001b[0m \u001b[1;33m=\u001b[0m \u001b[0mcb_model\u001b[0m\u001b[1;33m.\u001b[0m\u001b[0mpredict\u001b[0m\u001b[1;33m(\u001b[0m\u001b[0mtest_w_cat_ids\u001b[0m\u001b[1;33m[\u001b[0m\u001b[0mlgbm_features\u001b[0m\u001b[1;33m]\u001b[0m\u001b[1;33m)\u001b[0m\u001b[1;33m\u001b[0m\u001b[0m\n\u001b[0m\u001b[0;32m      2\u001b[0m \u001b[0mpreds\u001b[0m\u001b[1;33m.\u001b[0m\u001b[0mclip\u001b[0m\u001b[1;33m(\u001b[0m\u001b[1;36m0\u001b[0m\u001b[1;33m,\u001b[0m\u001b[1;36m20\u001b[0m\u001b[1;33m,\u001b[0m\u001b[0mout\u001b[0m\u001b[1;33m=\u001b[0m\u001b[0mpreds\u001b[0m\u001b[1;33m)\u001b[0m\u001b[1;33m\u001b[0m\u001b[0m\n",
      "\u001b[1;32m~\\Anaconda3\\lib\\site-packages\\pandas\\core\\frame.py\u001b[0m in \u001b[0;36m__getitem__\u001b[1;34m(self, key)\u001b[0m\n\u001b[0;32m   2677\u001b[0m         \u001b[1;32mif\u001b[0m \u001b[0misinstance\u001b[0m\u001b[1;33m(\u001b[0m\u001b[0mkey\u001b[0m\u001b[1;33m,\u001b[0m \u001b[1;33m(\u001b[0m\u001b[0mSeries\u001b[0m\u001b[1;33m,\u001b[0m \u001b[0mnp\u001b[0m\u001b[1;33m.\u001b[0m\u001b[0mndarray\u001b[0m\u001b[1;33m,\u001b[0m \u001b[0mIndex\u001b[0m\u001b[1;33m,\u001b[0m \u001b[0mlist\u001b[0m\u001b[1;33m)\u001b[0m\u001b[1;33m)\u001b[0m\u001b[1;33m:\u001b[0m\u001b[1;33m\u001b[0m\u001b[0m\n\u001b[0;32m   2678\u001b[0m             \u001b[1;31m# either boolean or fancy integer index\u001b[0m\u001b[1;33m\u001b[0m\u001b[1;33m\u001b[0m\u001b[0m\n\u001b[1;32m-> 2679\u001b[1;33m             \u001b[1;32mreturn\u001b[0m \u001b[0mself\u001b[0m\u001b[1;33m.\u001b[0m\u001b[0m_getitem_array\u001b[0m\u001b[1;33m(\u001b[0m\u001b[0mkey\u001b[0m\u001b[1;33m)\u001b[0m\u001b[1;33m\u001b[0m\u001b[0m\n\u001b[0m\u001b[0;32m   2680\u001b[0m         \u001b[1;32melif\u001b[0m \u001b[0misinstance\u001b[0m\u001b[1;33m(\u001b[0m\u001b[0mkey\u001b[0m\u001b[1;33m,\u001b[0m \u001b[0mDataFrame\u001b[0m\u001b[1;33m)\u001b[0m\u001b[1;33m:\u001b[0m\u001b[1;33m\u001b[0m\u001b[0m\n\u001b[0;32m   2681\u001b[0m             \u001b[1;32mreturn\u001b[0m \u001b[0mself\u001b[0m\u001b[1;33m.\u001b[0m\u001b[0m_getitem_frame\u001b[0m\u001b[1;33m(\u001b[0m\u001b[0mkey\u001b[0m\u001b[1;33m)\u001b[0m\u001b[1;33m\u001b[0m\u001b[0m\n",
      "\u001b[1;32m~\\Anaconda3\\lib\\site-packages\\pandas\\core\\frame.py\u001b[0m in \u001b[0;36m_getitem_array\u001b[1;34m(self, key)\u001b[0m\n\u001b[0;32m   2721\u001b[0m             \u001b[1;32mreturn\u001b[0m \u001b[0mself\u001b[0m\u001b[1;33m.\u001b[0m\u001b[0m_take\u001b[0m\u001b[1;33m(\u001b[0m\u001b[0mindexer\u001b[0m\u001b[1;33m,\u001b[0m \u001b[0maxis\u001b[0m\u001b[1;33m=\u001b[0m\u001b[1;36m0\u001b[0m\u001b[1;33m)\u001b[0m\u001b[1;33m\u001b[0m\u001b[0m\n\u001b[0;32m   2722\u001b[0m         \u001b[1;32melse\u001b[0m\u001b[1;33m:\u001b[0m\u001b[1;33m\u001b[0m\u001b[0m\n\u001b[1;32m-> 2723\u001b[1;33m             \u001b[0mindexer\u001b[0m \u001b[1;33m=\u001b[0m \u001b[0mself\u001b[0m\u001b[1;33m.\u001b[0m\u001b[0mloc\u001b[0m\u001b[1;33m.\u001b[0m\u001b[0m_convert_to_indexer\u001b[0m\u001b[1;33m(\u001b[0m\u001b[0mkey\u001b[0m\u001b[1;33m,\u001b[0m \u001b[0maxis\u001b[0m\u001b[1;33m=\u001b[0m\u001b[1;36m1\u001b[0m\u001b[1;33m)\u001b[0m\u001b[1;33m\u001b[0m\u001b[0m\n\u001b[0m\u001b[0;32m   2724\u001b[0m             \u001b[1;32mreturn\u001b[0m \u001b[0mself\u001b[0m\u001b[1;33m.\u001b[0m\u001b[0m_take\u001b[0m\u001b[1;33m(\u001b[0m\u001b[0mindexer\u001b[0m\u001b[1;33m,\u001b[0m \u001b[0maxis\u001b[0m\u001b[1;33m=\u001b[0m\u001b[1;36m1\u001b[0m\u001b[1;33m)\u001b[0m\u001b[1;33m\u001b[0m\u001b[0m\n\u001b[0;32m   2725\u001b[0m \u001b[1;33m\u001b[0m\u001b[0m\n",
      "\u001b[1;32m~\\Anaconda3\\lib\\site-packages\\pandas\\core\\indexing.py\u001b[0m in \u001b[0;36m_convert_to_indexer\u001b[1;34m(self, obj, axis, is_setter)\u001b[0m\n\u001b[0;32m   1325\u001b[0m                 \u001b[1;32mif\u001b[0m \u001b[0mmask\u001b[0m\u001b[1;33m.\u001b[0m\u001b[0many\u001b[0m\u001b[1;33m(\u001b[0m\u001b[1;33m)\u001b[0m\u001b[1;33m:\u001b[0m\u001b[1;33m\u001b[0m\u001b[0m\n\u001b[0;32m   1326\u001b[0m                     raise KeyError('{mask} not in index'\n\u001b[1;32m-> 1327\u001b[1;33m                                    .format(mask=objarr[mask]))\n\u001b[0m\u001b[0;32m   1328\u001b[0m \u001b[1;33m\u001b[0m\u001b[0m\n\u001b[0;32m   1329\u001b[0m                 \u001b[1;32mreturn\u001b[0m \u001b[0mcom\u001b[0m\u001b[1;33m.\u001b[0m\u001b[0m_values_from_object\u001b[0m\u001b[1;33m(\u001b[0m\u001b[0mindexer\u001b[0m\u001b[1;33m)\u001b[0m\u001b[1;33m\u001b[0m\u001b[0m\n",
      "\u001b[1;31mKeyError\u001b[0m: \"['shop_price_mean' 'category_cnt_sum' 'category_cnt_mean'\\n 'category_cnt_min' 'category_cnt_max' 'category_price_mean'\\n 'shop_category_cnt_sum' 'shop_category_cnt_mean' 'shop_category_cnt_min'\\n 'shop_category_cnt_max' 'shop_category_price_mean'\\n 'shop_share_of_all_sales' 'shop_share_of_block_sales'\\n 'shop_share_of_total_gross' 'shop_share_of_block_gross'\\n 'category_share_of_all_sales' 'category_share_of_block_sales'\\n 'category_share_of_total_gross' 'item_share_of_all_sales'\\n 'item_share_of_block_sales' 'item_share_of_total_gross'] not in index\""
     ]
    }
   ],
   "source": [
    "preds = cb_model.predict(test_w_cat_ids[lgbm_features])\n",
    "preds.clip(0,20,out=preds)"
   ]
  },
  {
   "cell_type": "code",
   "execution_count": 60,
   "metadata": {},
   "outputs": [
    {
     "data": {
      "text/plain": [
       "96340.428045824"
      ]
     },
     "execution_count": 60,
     "metadata": {},
     "output_type": "execute_result"
    }
   ],
   "source": [
    "np.sum(preds)"
   ]
  },
  {
   "cell_type": "code",
   "execution_count": 57,
   "metadata": {},
   "outputs": [],
   "source": [
    "from sklearn import preprocessing\n",
    "x_train_scaled = x_train[lgbm_features].copy()\n",
    "x_train_scaled.fillna(0,inplace=True)\n",
    "x_val_scaled = x_val[lgbm_features].copy()\n",
    "x_val_scaled.fillna(0,inplace=True)\n",
    "\n",
    "\n",
    "x_train_scaled = preprocessing.scale(x_train_scaled)\n",
    "x_val_scaled = preprocessing.scale(x_val_scaled)"
   ]
  },
  {
   "cell_type": "code",
   "execution_count": 60,
   "metadata": {},
   "outputs": [
    {
     "name": "stdout",
     "output_type": "stream",
     "text": [
      "rmse:  2.205736313122704\n"
     ]
    }
   ],
   "source": [
    "lr_model = LinearRegression().fit(x_train_scaled, y_train)\n",
    "lr_val_preds = lr_model.predict(x_val_scaled).clip(0,20)\n",
    "rmse = sqrt(mean_squared_error(y_val, lr_val_preds))\n",
    "print(\"rmse: \", rmse)"
   ]
  },
  {
   "cell_type": "code",
   "execution_count": 63,
   "metadata": {},
   "outputs": [
    {
     "name": "stderr",
     "output_type": "stream",
     "text": [
      "[Parallel(n_jobs=8)]: Done   6 out of  10 | elapsed:   29.8s remaining:   19.9s\n",
      "[Parallel(n_jobs=8)]: Done  10 out of  10 | elapsed:   37.4s finished\n"
     ]
    }
   ],
   "source": [
    "rf_model = RandomForestRegressor(random_state=0, n_jobs = 8, verbose=1).fit(x_train_scaled, y_train)"
   ]
  },
  {
   "cell_type": "code",
   "execution_count": 64,
   "metadata": {},
   "outputs": [
    {
     "name": "stdout",
     "output_type": "stream",
     "text": [
      "rmse:  3.0751675439681896\n"
     ]
    },
    {
     "name": "stderr",
     "output_type": "stream",
     "text": [
      "[Parallel(n_jobs=8)]: Done   6 out of  10 | elapsed:    0.1s remaining:    0.1s\n",
      "[Parallel(n_jobs=8)]: Done  10 out of  10 | elapsed:    0.1s finished\n"
     ]
    }
   ],
   "source": [
    "rf_val_preds = rf_model.predict(x_val_scaled).clip(0,20)\n",
    "rmse = sqrt(mean_squared_error(y_val, rf_val_preds))\n",
    "print(\"rmse: \", rmse)"
   ]
  },
  {
   "cell_type": "code",
   "execution_count": 61,
   "metadata": {},
   "outputs": [],
   "source": [
    "submission = test.loc[:,['ID']]\n",
    "submission['item_cnt_month'] = preds.astype(int)\n",
    "#submission['item_cnt_month'] = ensemble_preds.astype(int)\n",
    "\n",
    "\n",
    "submission.to_csv('submission.csv', index=False)"
   ]
  },
  {
   "cell_type": "code",
   "execution_count": null,
   "metadata": {},
   "outputs": [],
   "source": []
  }
 ],
 "metadata": {
  "kernelspec": {
   "display_name": "Python 3",
   "language": "python",
   "name": "python3"
  },
  "language_info": {
   "codemirror_mode": {
    "name": "ipython",
    "version": 3
   },
   "file_extension": ".py",
   "mimetype": "text/x-python",
   "name": "python",
   "nbconvert_exporter": "python",
   "pygments_lexer": "ipython3",
   "version": "3.6.5"
  }
 },
 "nbformat": 4,
 "nbformat_minor": 2
}
