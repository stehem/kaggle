{
 "cells": [
  {
   "cell_type": "code",
   "execution_count": 1,
   "metadata": {},
   "outputs": [
    {
     "data": {
      "text/html": [
       "<style>.container { width:100% !important; }</style>"
      ],
      "text/plain": [
       "<IPython.core.display.HTML object>"
      ]
     },
     "metadata": {},
     "output_type": "display_data"
    }
   ],
   "source": [
    "from IPython.core.display import display, HTML\n",
    "display(HTML(\"<style>.container { width:100% !important; }</style>\"))"
   ]
  },
  {
   "cell_type": "code",
   "execution_count": 2,
   "metadata": {},
   "outputs": [],
   "source": [
    "import pandas as pd\n",
    "import numpy as np\n",
    "import os\n",
    "import matplotlib.pyplot as plt\n",
    "%matplotlib inline \n",
    "from sklearn.ensemble import RandomForestRegressor\n",
    "from sklearn.tree import DecisionTreeRegressor\n",
    "from sklearn.tree import export_graphviz\n",
    "import matplotlib.pyplot as plt\n",
    "import seaborn as sns\n",
    "\n",
    "import lightgbm as lgbm\n",
    "import gc\n",
    "import xgboost as xgb\n",
    "from sklearn.linear_model import ElasticNet, Lasso, Ridge, LinearRegression\n",
    "import pickle\n",
    "from sklearn.model_selection import KFold\n",
    "from catboost import CatBoostRegressor\n",
    "from sklearn.metrics import mean_squared_error\n",
    "from math import sqrt"
   ]
  },
  {
   "cell_type": "code",
   "execution_count": 20,
   "metadata": {},
   "outputs": [],
   "source": [
    "transactions    = pd.read_csv('sales_train.csv.gz')\n",
    "items           = pd.read_csv('items.csv')\n",
    "item_categories = pd.read_csv('item_categories.csv')\n",
    "shops           = pd.read_csv('shops.csv')\n",
    "test            = pd.read_csv('test.csv.gz')"
   ]
  },
  {
   "cell_type": "code",
   "execution_count": 21,
   "metadata": {},
   "outputs": [],
   "source": [
    "INDEX_COLS = ['item_id', 'shop_id', 'date_block_num']"
   ]
  },
  {
   "cell_type": "code",
   "execution_count": 22,
   "metadata": {},
   "outputs": [
    {
     "data": {
      "text/html": [
       "<div>\n",
       "<style scoped>\n",
       "    .dataframe tbody tr th:only-of-type {\n",
       "        vertical-align: middle;\n",
       "    }\n",
       "\n",
       "    .dataframe tbody tr th {\n",
       "        vertical-align: top;\n",
       "    }\n",
       "\n",
       "    .dataframe thead th {\n",
       "        text-align: right;\n",
       "    }\n",
       "</style>\n",
       "<table border=\"1\" class=\"dataframe\">\n",
       "  <thead>\n",
       "    <tr style=\"text-align: right;\">\n",
       "      <th></th>\n",
       "      <th>date</th>\n",
       "      <th>date_block_num</th>\n",
       "      <th>shop_id</th>\n",
       "      <th>item_id</th>\n",
       "      <th>item_price</th>\n",
       "      <th>item_cnt_day</th>\n",
       "      <th>item_category_id</th>\n",
       "    </tr>\n",
       "  </thead>\n",
       "  <tbody>\n",
       "    <tr>\n",
       "      <th>1366911</th>\n",
       "      <td>01.02.2014</td>\n",
       "      <td>13</td>\n",
       "      <td>27</td>\n",
       "      <td>15242</td>\n",
       "      <td>699.0</td>\n",
       "      <td>1.0</td>\n",
       "      <td>63</td>\n",
       "    </tr>\n",
       "    <tr>\n",
       "      <th>1366912</th>\n",
       "      <td>25.02.2014</td>\n",
       "      <td>13</td>\n",
       "      <td>27</td>\n",
       "      <td>15200</td>\n",
       "      <td>299.0</td>\n",
       "      <td>1.0</td>\n",
       "      <td>69</td>\n",
       "    </tr>\n",
       "    <tr>\n",
       "      <th>1366913</th>\n",
       "      <td>19.02.2014</td>\n",
       "      <td>13</td>\n",
       "      <td>27</td>\n",
       "      <td>15279</td>\n",
       "      <td>799.0</td>\n",
       "      <td>1.0</td>\n",
       "      <td>63</td>\n",
       "    </tr>\n",
       "    <tr>\n",
       "      <th>1366914</th>\n",
       "      <td>26.02.2014</td>\n",
       "      <td>13</td>\n",
       "      <td>27</td>\n",
       "      <td>15202</td>\n",
       "      <td>299.0</td>\n",
       "      <td>1.0</td>\n",
       "      <td>69</td>\n",
       "    </tr>\n",
       "    <tr>\n",
       "      <th>1366915</th>\n",
       "      <td>01.02.2014</td>\n",
       "      <td>13</td>\n",
       "      <td>27</td>\n",
       "      <td>14888</td>\n",
       "      <td>549.0</td>\n",
       "      <td>1.0</td>\n",
       "      <td>55</td>\n",
       "    </tr>\n",
       "  </tbody>\n",
       "</table>\n",
       "</div>"
      ],
      "text/plain": [
       "               date  date_block_num  shop_id  item_id  item_price  \\\n",
       "1366911  01.02.2014              13       27    15242       699.0   \n",
       "1366912  25.02.2014              13       27    15200       299.0   \n",
       "1366913  19.02.2014              13       27    15279       799.0   \n",
       "1366914  26.02.2014              13       27    15202       299.0   \n",
       "1366915  01.02.2014              13       27    14888       549.0   \n",
       "\n",
       "         item_cnt_day  item_category_id  \n",
       "1366911           1.0                63  \n",
       "1366912           1.0                69  \n",
       "1366913           1.0                63  \n",
       "1366914           1.0                69  \n",
       "1366915           1.0                55  "
      ]
     },
     "execution_count": 22,
     "metadata": {},
     "output_type": "execute_result"
    }
   ],
   "source": [
    "transactions = pd.merge(transactions, items, on='item_id', how='left')\n",
    "transactions = transactions.drop('item_name', axis=1)\n",
    "transactions = transactions[transactions['date_block_num'] > 12]\n",
    "transactions.head()"
   ]
  },
  {
   "cell_type": "code",
   "execution_count": 23,
   "metadata": {},
   "outputs": [],
   "source": [
    "train_item_ids = transactions['item_id'].unique()\n",
    "train_shop_ids = transactions['shop_id'].unique()\n",
    "test_item_ids = test['item_id'].unique()\n",
    "test_shop_ids = test['shop_id'].unique()\n",
    "train_blocks = transactions['date_block_num'].unique()\n",
    "\n",
    "all_item_ids = np.unique(np.append(test_item_ids,train_item_ids))\n",
    "all_shop_ids = np.unique(np.append(train_shop_ids,test_shop_ids))"
   ]
  },
  {
   "cell_type": "code",
   "execution_count": 24,
   "metadata": {},
   "outputs": [],
   "source": [
    "combinations = []\n",
    "for shop in all_shop_ids:\n",
    "    #get all article ids ever associated to this shop\n",
    "    train_ids = transactions[transactions['shop_id'] == shop]['item_id'].unique()\n",
    "    test_ids = test[test['shop_id'] == shop]['item_id'].unique()\n",
    "    all_shop = np.unique(np.append(train_ids, test_ids))\n",
    "    all_shop_combo = [[item, shop, block] for item in all_shop for block in train_blocks]\n",
    "    for combo in all_shop_combo:\n",
    "        combinations.append(combo)"
   ]
  },
  {
   "cell_type": "code",
   "execution_count": 25,
   "metadata": {},
   "outputs": [],
   "source": [
    "all_combos = pd.DataFrame(np.unique(np.vstack([combinations]), axis=0), columns=['item_id', 'shop_id', 'date_block_num'])"
   ]
  },
  {
   "cell_type": "code",
   "execution_count": 26,
   "metadata": {},
   "outputs": [],
   "source": [
    "all_combos = pd.merge(all_combos, items[['item_id', 'item_category_id']], on='item_id', how='left')"
   ]
  },
  {
   "cell_type": "code",
   "execution_count": 27,
   "metadata": {},
   "outputs": [],
   "source": [
    "all_combos = pd.merge(all_combos, transactions[['item_price', 'item_id', 'shop_id']], on=['item_id', 'shop_id'], how='left')"
   ]
  },
  {
   "cell_type": "code",
   "execution_count": 28,
   "metadata": {},
   "outputs": [
    {
     "data": {
      "text/html": [
       "<div>\n",
       "<style scoped>\n",
       "    .dataframe tbody tr th:only-of-type {\n",
       "        vertical-align: middle;\n",
       "    }\n",
       "\n",
       "    .dataframe tbody tr th {\n",
       "        vertical-align: top;\n",
       "    }\n",
       "\n",
       "    .dataframe thead th {\n",
       "        text-align: right;\n",
       "    }\n",
       "</style>\n",
       "<table border=\"1\" class=\"dataframe\">\n",
       "  <thead>\n",
       "    <tr style=\"text-align: right;\">\n",
       "      <th></th>\n",
       "      <th>item_id</th>\n",
       "      <th>shop_id</th>\n",
       "      <th>date_block_num</th>\n",
       "      <th>item_category_id</th>\n",
       "      <th>item_price</th>\n",
       "    </tr>\n",
       "  </thead>\n",
       "  <tbody>\n",
       "    <tr>\n",
       "      <th>0</th>\n",
       "      <td>0</td>\n",
       "      <td>54</td>\n",
       "      <td>13</td>\n",
       "      <td>40</td>\n",
       "      <td>58.0</td>\n",
       "    </tr>\n",
       "    <tr>\n",
       "      <th>1</th>\n",
       "      <td>0</td>\n",
       "      <td>54</td>\n",
       "      <td>14</td>\n",
       "      <td>40</td>\n",
       "      <td>58.0</td>\n",
       "    </tr>\n",
       "    <tr>\n",
       "      <th>2</th>\n",
       "      <td>0</td>\n",
       "      <td>54</td>\n",
       "      <td>15</td>\n",
       "      <td>40</td>\n",
       "      <td>58.0</td>\n",
       "    </tr>\n",
       "    <tr>\n",
       "      <th>3</th>\n",
       "      <td>0</td>\n",
       "      <td>54</td>\n",
       "      <td>16</td>\n",
       "      <td>40</td>\n",
       "      <td>58.0</td>\n",
       "    </tr>\n",
       "    <tr>\n",
       "      <th>4</th>\n",
       "      <td>0</td>\n",
       "      <td>54</td>\n",
       "      <td>17</td>\n",
       "      <td>40</td>\n",
       "      <td>58.0</td>\n",
       "    </tr>\n",
       "  </tbody>\n",
       "</table>\n",
       "</div>"
      ],
      "text/plain": [
       "   item_id  shop_id  date_block_num  item_category_id  item_price\n",
       "0        0       54              13                40        58.0\n",
       "1        0       54              14                40        58.0\n",
       "2        0       54              15                40        58.0\n",
       "3        0       54              16                40        58.0\n",
       "4        0       54              17                40        58.0"
      ]
     },
     "execution_count": 28,
     "metadata": {},
     "output_type": "execute_result"
    }
   ],
   "source": [
    "all_combos.head()"
   ]
  },
  {
   "cell_type": "code",
   "execution_count": 29,
   "metadata": {},
   "outputs": [],
   "source": [
    "transactions['y'] = transactions.groupby(['date_block_num','shop_id','item_id'])['item_cnt_day'].transform(np.sum).clip(0,20)"
   ]
  },
  {
   "cell_type": "code",
   "execution_count": 30,
   "metadata": {},
   "outputs": [],
   "source": [
    "training = pd.merge(all_combos,transactions,on=['item_id', 'shop_id', 'date_block_num'],how='left')"
   ]
  },
  {
   "cell_type": "code",
   "execution_count": 32,
   "metadata": {},
   "outputs": [],
   "source": [
    "training.drop('date',inplace=True, axis=1)"
   ]
  },
  {
   "cell_type": "code",
   "execution_count": 34,
   "metadata": {},
   "outputs": [],
   "source": [
    "training.drop('item_category_id_y', inplace=True, axis=1)"
   ]
  },
  {
   "cell_type": "code",
   "execution_count": 33,
   "metadata": {},
   "outputs": [],
   "source": [
    "training.drop('item_price_y', inplace=True, axis=1)"
   ]
  },
  {
   "cell_type": "code",
   "execution_count": 35,
   "metadata": {},
   "outputs": [],
   "source": [
    "training.rename(columns={'item_category_id_x': 'item_category_id'}, inplace=True)"
   ]
  },
  {
   "cell_type": "code",
   "execution_count": 36,
   "metadata": {},
   "outputs": [],
   "source": [
    "training.rename(columns={'item_price_x': 'item_price'}, inplace=True)"
   ]
  },
  {
   "cell_type": "code",
   "execution_count": 37,
   "metadata": {},
   "outputs": [
    {
     "data": {
      "text/html": [
       "<div>\n",
       "<style scoped>\n",
       "    .dataframe tbody tr th:only-of-type {\n",
       "        vertical-align: middle;\n",
       "    }\n",
       "\n",
       "    .dataframe tbody tr th {\n",
       "        vertical-align: top;\n",
       "    }\n",
       "\n",
       "    .dataframe thead th {\n",
       "        text-align: right;\n",
       "    }\n",
       "</style>\n",
       "<table border=\"1\" class=\"dataframe\">\n",
       "  <thead>\n",
       "    <tr style=\"text-align: right;\">\n",
       "      <th></th>\n",
       "      <th>item_id</th>\n",
       "      <th>shop_id</th>\n",
       "      <th>date_block_num</th>\n",
       "      <th>item_category_id</th>\n",
       "      <th>item_price</th>\n",
       "      <th>item_cnt_day</th>\n",
       "      <th>y</th>\n",
       "    </tr>\n",
       "  </thead>\n",
       "  <tbody>\n",
       "    <tr>\n",
       "      <th>0</th>\n",
       "      <td>0</td>\n",
       "      <td>54</td>\n",
       "      <td>13</td>\n",
       "      <td>40</td>\n",
       "      <td>58.0</td>\n",
       "      <td>NaN</td>\n",
       "      <td>NaN</td>\n",
       "    </tr>\n",
       "    <tr>\n",
       "      <th>1</th>\n",
       "      <td>0</td>\n",
       "      <td>54</td>\n",
       "      <td>14</td>\n",
       "      <td>40</td>\n",
       "      <td>58.0</td>\n",
       "      <td>NaN</td>\n",
       "      <td>NaN</td>\n",
       "    </tr>\n",
       "    <tr>\n",
       "      <th>2</th>\n",
       "      <td>0</td>\n",
       "      <td>54</td>\n",
       "      <td>15</td>\n",
       "      <td>40</td>\n",
       "      <td>58.0</td>\n",
       "      <td>NaN</td>\n",
       "      <td>NaN</td>\n",
       "    </tr>\n",
       "    <tr>\n",
       "      <th>3</th>\n",
       "      <td>0</td>\n",
       "      <td>54</td>\n",
       "      <td>16</td>\n",
       "      <td>40</td>\n",
       "      <td>58.0</td>\n",
       "      <td>NaN</td>\n",
       "      <td>NaN</td>\n",
       "    </tr>\n",
       "    <tr>\n",
       "      <th>4</th>\n",
       "      <td>0</td>\n",
       "      <td>54</td>\n",
       "      <td>17</td>\n",
       "      <td>40</td>\n",
       "      <td>58.0</td>\n",
       "      <td>NaN</td>\n",
       "      <td>NaN</td>\n",
       "    </tr>\n",
       "  </tbody>\n",
       "</table>\n",
       "</div>"
      ],
      "text/plain": [
       "   item_id  shop_id  date_block_num  item_category_id  item_price  \\\n",
       "0        0       54              13                40        58.0   \n",
       "1        0       54              14                40        58.0   \n",
       "2        0       54              15                40        58.0   \n",
       "3        0       54              16                40        58.0   \n",
       "4        0       54              17                40        58.0   \n",
       "\n",
       "   item_cnt_day   y  \n",
       "0           NaN NaN  \n",
       "1           NaN NaN  \n",
       "2           NaN NaN  \n",
       "3           NaN NaN  \n",
       "4           NaN NaN  "
      ]
     },
     "execution_count": 37,
     "metadata": {},
     "output_type": "execute_result"
    }
   ],
   "source": [
    "training.head()"
   ]
  },
  {
   "cell_type": "code",
   "execution_count": 67,
   "metadata": {},
   "outputs": [],
   "source": [
    "gc.collect()\n",
    "\n",
    "transactions['item_cnt_sum'] = transactions.groupby(['item_id', 'date_block_num'])['item_cnt_day'].transform(np.sum)\n",
    "transactions['item_cnt_mean'] = transactions.groupby(['item_id', 'date_block_num'])['item_cnt_day'].transform(np.mean)\n",
    "transactions['item_cnt_min'] = transactions.groupby(['item_id', 'date_block_num'])['item_cnt_day'].transform(np.min)\n",
    "transactions['item_cnt_max'] = transactions.groupby(['item_id', 'date_block_num'])['item_cnt_day'].transform(np.max)\n",
    "transactions['item_price_mean'] = transactions.groupby(['item_id', 'date_block_num'])['item_price'].transform(np.mean)\n",
    "\n",
    "\n",
    "transactions['shop_cnt_sum'] = transactions.groupby(['shop_id', 'date_block_num'])['item_cnt_day'].transform(np.sum)\n",
    "transactions['shop_cnt_mean'] = transactions.groupby(['shop_id', 'date_block_num'])['item_cnt_day'].transform(np.mean)\n",
    "transactions['shop_cnt_min'] = transactions.groupby(['shop_id', 'date_block_num'])['item_cnt_day'].transform(np.min)\n",
    "transactions['shop_cnt_max'] = transactions.groupby(['shop_id', 'date_block_num'])['item_cnt_day'].transform(np.max)\n",
    "transactions['shop_price_mean'] = transactions.groupby(['shop_id', 'date_block_num'])['item_price'].transform(np.mean)\n",
    "\n",
    "transactions['category_cnt_sum'] = transactions.groupby(['item_category_id', 'date_block_num'])['item_cnt_day'].transform(np.sum)\n",
    "transactions['category_cnt_mean'] = transactions.groupby(['item_category_id', 'date_block_num'])['item_cnt_day'].transform(np.mean)\n",
    "transactions['category_cnt_min'] = transactions.groupby(['item_category_id', 'date_block_num'])['item_cnt_day'].transform(np.min)\n",
    "transactions['category_cnt_max'] = transactions.groupby(['item_category_id', 'date_block_num'])['item_cnt_day'].transform(np.max)\n",
    "transactions['category_price_mean'] = transactions.groupby(['item_category_id', 'date_block_num'])['item_price'].transform(np.mean)\n",
    "\n",
    "\n",
    "transactions['shop_category_cnt_sum'] = transactions.groupby(['shop_id', 'item_category_id', 'date_block_num'])['item_cnt_day'].transform(np.sum)\n",
    "transactions['shop_category_cnt_mean'] = transactions.groupby(['shop_id', 'item_category_id', 'date_block_num'])['item_cnt_day'].transform(np.mean)\n",
    "transactions['shop_category_cnt_min'] = transactions.groupby(['shop_id', 'item_category_id', 'date_block_num'])['item_cnt_day'].transform(np.min)\n",
    "transactions['shop_category_cnt_max'] = transactions.groupby(['shop_id', 'item_category_id', 'date_block_num'])['item_cnt_day'].transform(np.max)\n",
    "transactions['shop_category_price_mean'] = transactions.groupby(['shop_id', 'item_category_id', 'date_block_num'])['item_price'].transform(np.mean)"
   ]
  },
  {
   "cell_type": "code",
   "execution_count": null,
   "metadata": {},
   "outputs": [],
   "source": []
  },
  {
   "cell_type": "code",
   "execution_count": 65,
   "metadata": {},
   "outputs": [
    {
     "data": {
      "text/plain": [
       "Index(['date', 'date_block_num', 'shop_id', 'item_id', 'item_price',\n",
       "       'item_cnt_day', 'item_category_id', 'y', 'item_cnt_sum',\n",
       "       'item_cnt_mean', 'item_price_mean', 'shop_cnt_sum', 'shop_cnt_mean',\n",
       "       'shop_price_mean', 'category_cnt_sum', 'category_cnt_mean',\n",
       "       'category_price_mean', 'shop_category_cnt_sum',\n",
       "       'shop_category_cnt_mean', 'shop_category_price_mean'],\n",
       "      dtype='object')"
      ]
     },
     "execution_count": 65,
     "metadata": {},
     "output_type": "execute_result"
    }
   ],
   "source": [
    "transactions.columns"
   ]
  },
  {
   "cell_type": "code",
   "execution_count": 16,
   "metadata": {},
   "outputs": [],
   "source": [
    "training['y'] = training['y'].fillna(0)"
   ]
  },
  {
   "cell_type": "code",
   "execution_count": 17,
   "metadata": {},
   "outputs": [],
   "source": [
    "training = training.sample(frac=1)"
   ]
  },
  {
   "cell_type": "code",
   "execution_count": 18,
   "metadata": {},
   "outputs": [
    {
     "name": "stdout",
     "output_type": "stream",
     "text": [
      "294.60 MB\n",
      "95.74 MB\n"
     ]
    },
    {
     "data": {
      "text/html": [
       "<div>\n",
       "<style scoped>\n",
       "    .dataframe tbody tr th:only-of-type {\n",
       "        vertical-align: middle;\n",
       "    }\n",
       "\n",
       "    .dataframe tbody tr th {\n",
       "        vertical-align: top;\n",
       "    }\n",
       "\n",
       "    .dataframe thead th {\n",
       "        text-align: right;\n",
       "    }\n",
       "</style>\n",
       "<table border=\"1\" class=\"dataframe\">\n",
       "  <thead>\n",
       "    <tr style=\"text-align: right;\">\n",
       "      <th></th>\n",
       "      <th>before</th>\n",
       "      <th>after</th>\n",
       "    </tr>\n",
       "  </thead>\n",
       "  <tbody>\n",
       "    <tr>\n",
       "      <th>uint8</th>\n",
       "      <td>NaN</td>\n",
       "      <td>3.0</td>\n",
       "    </tr>\n",
       "    <tr>\n",
       "      <th>uint16</th>\n",
       "      <td>NaN</td>\n",
       "      <td>1.0</td>\n",
       "    </tr>\n",
       "    <tr>\n",
       "      <th>int64</th>\n",
       "      <td>4.0</td>\n",
       "      <td>NaN</td>\n",
       "    </tr>\n",
       "  </tbody>\n",
       "</table>\n",
       "</div>"
      ],
      "text/plain": [
       "        before  after\n",
       "uint8      NaN    3.0\n",
       "uint16     NaN    1.0\n",
       "int64      4.0    NaN"
      ]
     },
     "execution_count": 18,
     "metadata": {},
     "output_type": "execute_result"
    }
   ],
   "source": [
    "def mem_usage(pandas_obj):\n",
    "    if isinstance(pandas_obj,pd.DataFrame):\n",
    "        usage_b = pandas_obj.memory_usage(deep=True).sum()\n",
    "    else: # we assume if not a df it's a series\n",
    "        usage_b = pandas_obj.memory_usage(deep=True)\n",
    "    usage_mb = usage_b / 1024 ** 2 # convert bytes to megabytes\n",
    "    return \"{:03.2f} MB\".format(usage_mb)\n",
    "\n",
    "training_int = training.select_dtypes(include=['int'])\n",
    "converted_int = training_int.apply(pd.to_numeric,downcast='unsigned')\n",
    "\n",
    "print(mem_usage(training_int))\n",
    "print(mem_usage(converted_int))\n",
    "\n",
    "compare_ints = pd.concat([training_int.dtypes,converted_int.dtypes],axis=1)\n",
    "compare_ints.columns = ['before','after']\n",
    "compare_ints.apply(pd.Series.value_counts)"
   ]
  },
  {
   "cell_type": "code",
   "execution_count": 19,
   "metadata": {},
   "outputs": [
    {
     "name": "stdout",
     "output_type": "stream",
     "text": [
      "942.71 MB\n",
      "500.81 MB\n"
     ]
    },
    {
     "data": {
      "text/html": [
       "<div>\n",
       "<style scoped>\n",
       "    .dataframe tbody tr th:only-of-type {\n",
       "        vertical-align: middle;\n",
       "    }\n",
       "\n",
       "    .dataframe tbody tr th {\n",
       "        vertical-align: top;\n",
       "    }\n",
       "\n",
       "    .dataframe thead th {\n",
       "        text-align: right;\n",
       "    }\n",
       "</style>\n",
       "<table border=\"1\" class=\"dataframe\">\n",
       "  <thead>\n",
       "    <tr style=\"text-align: right;\">\n",
       "      <th></th>\n",
       "      <th>before</th>\n",
       "      <th>after</th>\n",
       "    </tr>\n",
       "  </thead>\n",
       "  <tbody>\n",
       "    <tr>\n",
       "      <th>float32</th>\n",
       "      <td>NaN</td>\n",
       "      <td>15.0</td>\n",
       "    </tr>\n",
       "    <tr>\n",
       "      <th>float64</th>\n",
       "      <td>15.0</td>\n",
       "      <td>NaN</td>\n",
       "    </tr>\n",
       "  </tbody>\n",
       "</table>\n",
       "</div>"
      ],
      "text/plain": [
       "         before  after\n",
       "float32     NaN   15.0\n",
       "float64    15.0    NaN"
      ]
     },
     "execution_count": 19,
     "metadata": {},
     "output_type": "execute_result"
    }
   ],
   "source": [
    "training_float = training.select_dtypes(include=['float'])\n",
    "converted_float = training_float.apply(pd.to_numeric,downcast='float')\n",
    "\n",
    "print(mem_usage(training_float))\n",
    "print(mem_usage(converted_float))\n",
    "\n",
    "compare_floats = pd.concat([training_float.dtypes,converted_float.dtypes],axis=1)\n",
    "compare_floats.columns = ['before','after']\n",
    "compare_floats.apply(pd.Series.value_counts)"
   ]
  },
  {
   "cell_type": "code",
   "execution_count": 20,
   "metadata": {},
   "outputs": [
    {
     "name": "stdout",
     "output_type": "stream",
     "text": [
      "1443.04 MB\n",
      "802.29 MB\n"
     ]
    }
   ],
   "source": [
    "optimized_training = training.copy()\n",
    "\n",
    "optimized_training[converted_int.columns] = converted_int\n",
    "optimized_training[converted_float.columns] = converted_float\n",
    "\n",
    "print(mem_usage(training))\n",
    "print(mem_usage(optimized_training))"
   ]
  },
  {
   "cell_type": "code",
   "execution_count": 21,
   "metadata": {},
   "outputs": [
    {
     "data": {
      "text/plain": [
       "14"
      ]
     },
     "execution_count": 21,
     "metadata": {},
     "output_type": "execute_result"
    }
   ],
   "source": [
    "training = optimized_training\n",
    "del optimized_training\n",
    "gc.collect()"
   ]
  },
  {
   "cell_type": "code",
   "execution_count": 68,
   "metadata": {},
   "outputs": [],
   "source": [
    "lag_columns = training.columns[8:]\n",
    "lags = [1,2,3,6,12]"
   ]
  },
  {
   "cell_type": "code",
   "execution_count": 69,
   "metadata": {},
   "outputs": [
    {
     "data": {
      "text/plain": [
       "Index(['item_cnt_sum', 'item_cnt_mean', 'item_price_mean', 'shop_cnt_sum',\n",
       "       'shop_cnt_mean', 'shop_price_mean', 'category_cnt_sum',\n",
       "       'category_cnt_mean', 'category_price_mean', 'shop_category_cnt_sum',\n",
       "       'shop_category_cnt_mean', 'shop_category_price_mean',\n",
       "       'item_cnt_sum_lag_1', 'item_cnt_mean_lag_1', 'item_price_mean_lag_1',\n",
       "       'shop_cnt_sum_lag_1', 'shop_cnt_mean_lag_1', 'shop_price_mean_lag_1',\n",
       "       'category_cnt_sum_lag_1', 'category_cnt_mean_lag_1',\n",
       "       'category_price_mean_lag_1', 'shop_category_cnt_sum_lag_1',\n",
       "       'shop_category_cnt_mean_lag_1', 'shop_category_price_mean_lag_1',\n",
       "       'item_cnt_sum_lag_2', 'item_cnt_mean_lag_2', 'item_price_mean_lag_2',\n",
       "       'shop_cnt_sum_lag_2', 'shop_cnt_mean_lag_2', 'shop_price_mean_lag_2',\n",
       "       'category_cnt_sum_lag_2', 'category_cnt_mean_lag_2',\n",
       "       'category_price_mean_lag_2', 'shop_category_cnt_sum_lag_2',\n",
       "       'shop_category_cnt_mean_lag_2', 'shop_category_price_mean_lag_2',\n",
       "       'item_cnt_sum_lag_3', 'item_cnt_mean_lag_3', 'item_price_mean_lag_3',\n",
       "       'shop_cnt_sum_lag_3', 'shop_cnt_mean_lag_3', 'shop_price_mean_lag_3',\n",
       "       'category_cnt_sum_lag_3', 'category_cnt_mean_lag_3',\n",
       "       'category_price_mean_lag_3', 'shop_category_cnt_sum_lag_3',\n",
       "       'shop_category_cnt_mean_lag_3', 'shop_category_price_mean_lag_3',\n",
       "       'item_cnt_sum_lag_6', 'item_cnt_mean_lag_6', 'item_price_mean_lag_6',\n",
       "       'shop_cnt_sum_lag_6', 'shop_cnt_mean_lag_6', 'shop_price_mean_lag_6',\n",
       "       'category_cnt_sum_lag_6', 'category_cnt_mean_lag_6',\n",
       "       'category_price_mean_lag_6', 'shop_category_cnt_sum_lag_6',\n",
       "       'shop_category_cnt_mean_lag_6', 'shop_category_price_mean_lag_6',\n",
       "       'item_cnt_sum_lag_12', 'item_cnt_mean_lag_12', 'item_price_mean_lag_12',\n",
       "       'shop_cnt_sum_lag_12', 'shop_cnt_mean_lag_12', 'shop_price_mean_lag_12',\n",
       "       'category_cnt_sum_lag_12', 'category_cnt_mean_lag_12',\n",
       "       'category_price_mean_lag_12', 'shop_category_cnt_sum_lag_12',\n",
       "       'shop_category_cnt_mean_lag_12', 'shop_category_price_mean_lag_12'],\n",
       "      dtype='object')"
      ]
     },
     "execution_count": 69,
     "metadata": {},
     "output_type": "execute_result"
    }
   ],
   "source": [
    "lag_columns"
   ]
  },
  {
   "cell_type": "code",
   "execution_count": 24,
   "metadata": {},
   "outputs": [
    {
     "name": "stdout",
     "output_type": "stream",
     "text": [
      "1\n",
      "2\n",
      "3\n",
      "6\n",
      "12\n"
     ]
    }
   ],
   "source": [
    "gc.collect()\n",
    "def lagged_name(lag_column, lag):\n",
    "    return \"%s_lag_%d\" % (lag_column, lag)\n",
    "\n",
    "merge_columns = ['lagged_block','item_id','shop_id']\n",
    "\n",
    "for lag in lags:\n",
    "    print(lag)\n",
    "    lagged = transactions.copy()\n",
    "    lagged.rename(columns={'date_block_num':'lagged_block'},inplace=True)\n",
    "    training['lagged_block'] = training['date_block_num'] - lag\n",
    "    lagged_names = [lagged_name(c,lag) for c in lag_columns]\n",
    "    lag_mapping = dict(zip(lag_columns, lagged_names))\n",
    "    lagged.rename(columns=lag_mapping,inplace=True)\n",
    "    training = pd.merge(training,lagged[lagged_names+merge_columns],on=merge_columns,how='left')\n",
    "    del lagged\n",
    "    gc.collect()"
   ]
  },
  {
   "cell_type": "code",
   "execution_count": 25,
   "metadata": {},
   "outputs": [
    {
     "data": {
      "text/plain": [
       "7722666"
      ]
     },
     "execution_count": 25,
     "metadata": {},
     "output_type": "execute_result"
    }
   ],
   "source": [
    "len(training)"
   ]
  },
  {
   "cell_type": "code",
   "execution_count": null,
   "metadata": {},
   "outputs": [],
   "source": [
    "pd.set_option('display.max_columns', None)  \n",
    "pd.set_option('display.expand_frame_repr', False)\n",
    "pd.set_option('max_colwidth', -1)\n",
    "training[(training['item_id'] == 30) & (training['shop_id'] == 30)].sort_values(by='date_block_num')"
   ]
  },
  {
   "cell_type": "code",
   "execution_count": 70,
   "metadata": {},
   "outputs": [
    {
     "data": {
      "text/plain": [
       "Index(['item_id', 'shop_id', 'date_block_num', 'item_category_id', 'date',\n",
       "       'item_price', 'item_cnt_day', 'y', 'item_cnt_sum', 'item_cnt_mean',\n",
       "       'item_price_mean', 'shop_cnt_sum', 'shop_cnt_mean', 'shop_price_mean',\n",
       "       'category_cnt_sum', 'category_cnt_mean', 'category_price_mean',\n",
       "       'shop_category_cnt_sum', 'shop_category_cnt_mean',\n",
       "       'shop_category_price_mean', 'item_cnt_sum_lag_1', 'item_cnt_mean_lag_1',\n",
       "       'item_price_mean_lag_1', 'shop_cnt_sum_lag_1', 'shop_cnt_mean_lag_1',\n",
       "       'shop_price_mean_lag_1', 'category_cnt_sum_lag_1',\n",
       "       'category_cnt_mean_lag_1', 'category_price_mean_lag_1',\n",
       "       'shop_category_cnt_sum_lag_1', 'shop_category_cnt_mean_lag_1',\n",
       "       'shop_category_price_mean_lag_1', 'item_cnt_sum_lag_2',\n",
       "       'item_cnt_mean_lag_2', 'item_price_mean_lag_2', 'shop_cnt_sum_lag_2',\n",
       "       'shop_cnt_mean_lag_2', 'shop_price_mean_lag_2',\n",
       "       'category_cnt_sum_lag_2', 'category_cnt_mean_lag_2',\n",
       "       'category_price_mean_lag_2', 'shop_category_cnt_sum_lag_2',\n",
       "       'shop_category_cnt_mean_lag_2', 'shop_category_price_mean_lag_2',\n",
       "       'item_cnt_sum_lag_3', 'item_cnt_mean_lag_3', 'item_price_mean_lag_3',\n",
       "       'shop_cnt_sum_lag_3', 'shop_cnt_mean_lag_3', 'shop_price_mean_lag_3',\n",
       "       'category_cnt_sum_lag_3', 'category_cnt_mean_lag_3',\n",
       "       'category_price_mean_lag_3', 'shop_category_cnt_sum_lag_3',\n",
       "       'shop_category_cnt_mean_lag_3', 'shop_category_price_mean_lag_3',\n",
       "       'item_cnt_sum_lag_6', 'item_cnt_mean_lag_6', 'item_price_mean_lag_6',\n",
       "       'shop_cnt_sum_lag_6', 'shop_cnt_mean_lag_6', 'shop_price_mean_lag_6',\n",
       "       'category_cnt_sum_lag_6', 'category_cnt_mean_lag_6',\n",
       "       'category_price_mean_lag_6', 'shop_category_cnt_sum_lag_6',\n",
       "       'shop_category_cnt_mean_lag_6', 'shop_category_price_mean_lag_6',\n",
       "       'item_cnt_sum_lag_12', 'item_cnt_mean_lag_12', 'item_price_mean_lag_12',\n",
       "       'shop_cnt_sum_lag_12', 'shop_cnt_mean_lag_12', 'shop_price_mean_lag_12',\n",
       "       'category_cnt_sum_lag_12', 'category_cnt_mean_lag_12',\n",
       "       'category_price_mean_lag_12', 'shop_category_cnt_sum_lag_12',\n",
       "       'shop_category_cnt_mean_lag_12', 'shop_category_price_mean_lag_12'],\n",
       "      dtype='object')"
      ]
     },
     "execution_count": 70,
     "metadata": {},
     "output_type": "execute_result"
    }
   ],
   "source": [
    "training.columns"
   ]
  },
  {
   "cell_type": "code",
   "execution_count": 27,
   "metadata": {},
   "outputs": [],
   "source": [
    "import pickle as pickle\n",
    "\n",
    "pickle.dump(training, open( \"training\", \"wb\"), protocol=4)\n",
    "\n",
    "#training = pickle.load( open( \"training\", \"rb\" ) )"
   ]
  },
  {
   "cell_type": "code",
   "execution_count": null,
   "metadata": {},
   "outputs": [],
   "source": [
    "training.drop('lagged_block', inplace=True, axis=1)"
   ]
  },
  {
   "cell_type": "code",
   "execution_count": 47,
   "metadata": {},
   "outputs": [
    {
     "data": {
      "text/plain": [
       "array(['item_id', 'shop_id', 'item_category_id', 'date_block_num',\n",
       "       'shop_category_cnt_sum', 'shop_category_cnt_mean',\n",
       "       'shop_category_price_mean', 'item_cnt_sum_lag_1',\n",
       "       'item_cnt_mean_lag_1', 'item_price_mean_lag_1',\n",
       "       'shop_cnt_sum_lag_1', 'shop_cnt_mean_lag_1',\n",
       "       'shop_price_mean_lag_1', 'category_cnt_sum_lag_1',\n",
       "       'category_cnt_mean_lag_1', 'category_price_mean_lag_1',\n",
       "       'shop_category_cnt_sum_lag_1', 'shop_category_cnt_mean_lag_1',\n",
       "       'shop_category_price_mean_lag_1', 'item_cnt_sum_lag_2',\n",
       "       'item_cnt_mean_lag_2', 'item_price_mean_lag_2',\n",
       "       'shop_cnt_sum_lag_2', 'shop_cnt_mean_lag_2',\n",
       "       'shop_price_mean_lag_2', 'category_cnt_sum_lag_2',\n",
       "       'category_cnt_mean_lag_2', 'category_price_mean_lag_2',\n",
       "       'shop_category_cnt_sum_lag_2', 'shop_category_cnt_mean_lag_2',\n",
       "       'shop_category_price_mean_lag_2', 'item_cnt_sum_lag_3',\n",
       "       'item_cnt_mean_lag_3', 'item_price_mean_lag_3',\n",
       "       'shop_cnt_sum_lag_3', 'shop_cnt_mean_lag_3',\n",
       "       'shop_price_mean_lag_3', 'category_cnt_sum_lag_3',\n",
       "       'category_cnt_mean_lag_3', 'category_price_mean_lag_3',\n",
       "       'shop_category_cnt_sum_lag_3', 'shop_category_cnt_mean_lag_3',\n",
       "       'shop_category_price_mean_lag_3', 'item_cnt_sum_lag_6',\n",
       "       'item_cnt_mean_lag_6', 'item_price_mean_lag_6',\n",
       "       'shop_cnt_sum_lag_6', 'shop_cnt_mean_lag_6',\n",
       "       'shop_price_mean_lag_6', 'category_cnt_sum_lag_6',\n",
       "       'category_cnt_mean_lag_6', 'category_price_mean_lag_6',\n",
       "       'shop_category_cnt_sum_lag_6', 'shop_category_cnt_mean_lag_6',\n",
       "       'shop_category_price_mean_lag_6', 'item_cnt_sum_lag_12',\n",
       "       'item_cnt_mean_lag_12', 'item_price_mean_lag_12',\n",
       "       'shop_cnt_sum_lag_12', 'shop_cnt_mean_lag_12',\n",
       "       'shop_price_mean_lag_12', 'category_cnt_sum_lag_12',\n",
       "       'category_cnt_mean_lag_12', 'category_price_mean_lag_12',\n",
       "       'shop_category_cnt_sum_lag_12', 'shop_category_cnt_mean_lag_12',\n",
       "       'shop_category_price_mean_lag_12'], dtype=object)"
      ]
     },
     "execution_count": 47,
     "metadata": {},
     "output_type": "execute_result"
    }
   ],
   "source": [
    "lgbm_features = training.columns[17:]\n",
    "lgbm_features = np.append( ['item_id', 'shop_id', 'item_category_id', 'date_block_num'], lgbm_features)\n",
    "lgbm_features"
   ]
  },
  {
   "cell_type": "code",
   "execution_count": 54,
   "metadata": {},
   "outputs": [],
   "source": [
    "lgbm_features = ['item_id', 'shop_category_cnt_mean', 'date_block_num',\n",
    "       'shop_category_cnt_sum', 'shop_id', 'item_cnt_mean_lag_1',\n",
    "       'item_category_id', 'shop_category_price_mean',\n",
    "       'item_cnt_sum_lag_1', 'category_cnt_sum_lag_1',\n",
    "       'category_cnt_mean_lag_1', 'item_price_mean_lag_1']"
   ]
  },
  {
   "cell_type": "code",
   "execution_count": 55,
   "metadata": {},
   "outputs": [],
   "source": [
    "categorical_features_indices = [0,2,4,6]"
   ]
  },
  {
   "cell_type": "code",
   "execution_count": 49,
   "metadata": {},
   "outputs": [],
   "source": [
    "x_train = training[training['date_block_num'] < 32]\n",
    "\n",
    "non_zeros_train = x_train[x_train['y'] != 0]\n",
    "zeros_train = x_train[x_train['y'] == 0]\n",
    "zeros_keep_train = zeros_train.sample(int(len(non_zeros_train)*0.1))\n",
    "x_train = non_zeros_train.append(zeros_keep_train)\n",
    "\n",
    "y_train = x_train['y']\n",
    "\n",
    "\n",
    "val = training[training['date_block_num'].isin([32,33])]\n",
    "non_zeros_val = val[val['y'] != 0]\n",
    "zeros_val = val[val['y'] == 0]\n",
    "zeros_keep_val = zeros_val.sample(int(len(non_zeros_val)*0.5))\n",
    "x_val = non_zeros_val.append(zeros_keep_val)\n",
    "y_val = x_val['y']\n"
   ]
  },
  {
   "cell_type": "code",
   "execution_count": 45,
   "metadata": {},
   "outputs": [
    {
     "data": {
      "text/html": [
       "<div>\n",
       "<style scoped>\n",
       "    .dataframe tbody tr th:only-of-type {\n",
       "        vertical-align: middle;\n",
       "    }\n",
       "\n",
       "    .dataframe tbody tr th {\n",
       "        vertical-align: top;\n",
       "    }\n",
       "\n",
       "    .dataframe thead th {\n",
       "        text-align: right;\n",
       "    }\n",
       "</style>\n",
       "<table border=\"1\" class=\"dataframe\">\n",
       "  <thead>\n",
       "    <tr style=\"text-align: right;\">\n",
       "      <th></th>\n",
       "      <th>column_name</th>\n",
       "      <th>percent_missing</th>\n",
       "    </tr>\n",
       "  </thead>\n",
       "  <tbody>\n",
       "    <tr>\n",
       "      <th>item_id</th>\n",
       "      <td>item_id</td>\n",
       "      <td>0.000000</td>\n",
       "    </tr>\n",
       "    <tr>\n",
       "      <th>shop_id</th>\n",
       "      <td>shop_id</td>\n",
       "      <td>0.000000</td>\n",
       "    </tr>\n",
       "    <tr>\n",
       "      <th>date_block_num</th>\n",
       "      <td>date_block_num</td>\n",
       "      <td>0.000000</td>\n",
       "    </tr>\n",
       "    <tr>\n",
       "      <th>item_category_id</th>\n",
       "      <td>item_category_id</td>\n",
       "      <td>0.000000</td>\n",
       "    </tr>\n",
       "    <tr>\n",
       "      <th>date</th>\n",
       "      <td>date</td>\n",
       "      <td>88.759322</td>\n",
       "    </tr>\n",
       "    <tr>\n",
       "      <th>item_price</th>\n",
       "      <td>item_price</td>\n",
       "      <td>88.759322</td>\n",
       "    </tr>\n",
       "    <tr>\n",
       "      <th>item_cnt_day</th>\n",
       "      <td>item_cnt_day</td>\n",
       "      <td>88.759322</td>\n",
       "    </tr>\n",
       "    <tr>\n",
       "      <th>y</th>\n",
       "      <td>y</td>\n",
       "      <td>0.000000</td>\n",
       "    </tr>\n",
       "    <tr>\n",
       "      <th>item_cnt_sum</th>\n",
       "      <td>item_cnt_sum</td>\n",
       "      <td>88.759322</td>\n",
       "    </tr>\n",
       "    <tr>\n",
       "      <th>item_cnt_mean</th>\n",
       "      <td>item_cnt_mean</td>\n",
       "      <td>88.759322</td>\n",
       "    </tr>\n",
       "    <tr>\n",
       "      <th>item_price_mean</th>\n",
       "      <td>item_price_mean</td>\n",
       "      <td>88.759322</td>\n",
       "    </tr>\n",
       "    <tr>\n",
       "      <th>shop_cnt_sum</th>\n",
       "      <td>shop_cnt_sum</td>\n",
       "      <td>88.759322</td>\n",
       "    </tr>\n",
       "    <tr>\n",
       "      <th>shop_cnt_mean</th>\n",
       "      <td>shop_cnt_mean</td>\n",
       "      <td>88.759322</td>\n",
       "    </tr>\n",
       "    <tr>\n",
       "      <th>shop_price_mean</th>\n",
       "      <td>shop_price_mean</td>\n",
       "      <td>88.759322</td>\n",
       "    </tr>\n",
       "    <tr>\n",
       "      <th>category_cnt_sum</th>\n",
       "      <td>category_cnt_sum</td>\n",
       "      <td>88.759322</td>\n",
       "    </tr>\n",
       "    <tr>\n",
       "      <th>category_cnt_mean</th>\n",
       "      <td>category_cnt_mean</td>\n",
       "      <td>88.759322</td>\n",
       "    </tr>\n",
       "    <tr>\n",
       "      <th>category_price_mean</th>\n",
       "      <td>category_price_mean</td>\n",
       "      <td>88.759322</td>\n",
       "    </tr>\n",
       "    <tr>\n",
       "      <th>shop_category_cnt_sum</th>\n",
       "      <td>shop_category_cnt_sum</td>\n",
       "      <td>88.759322</td>\n",
       "    </tr>\n",
       "    <tr>\n",
       "      <th>shop_category_cnt_mean</th>\n",
       "      <td>shop_category_cnt_mean</td>\n",
       "      <td>88.759322</td>\n",
       "    </tr>\n",
       "    <tr>\n",
       "      <th>shop_category_price_mean</th>\n",
       "      <td>shop_category_price_mean</td>\n",
       "      <td>88.759322</td>\n",
       "    </tr>\n",
       "    <tr>\n",
       "      <th>item_cnt_sum_lag_1</th>\n",
       "      <td>item_cnt_sum_lag_1</td>\n",
       "      <td>89.167614</td>\n",
       "    </tr>\n",
       "    <tr>\n",
       "      <th>item_cnt_mean_lag_1</th>\n",
       "      <td>item_cnt_mean_lag_1</td>\n",
       "      <td>89.167614</td>\n",
       "    </tr>\n",
       "    <tr>\n",
       "      <th>item_price_mean_lag_1</th>\n",
       "      <td>item_price_mean_lag_1</td>\n",
       "      <td>89.167614</td>\n",
       "    </tr>\n",
       "    <tr>\n",
       "      <th>shop_cnt_sum_lag_1</th>\n",
       "      <td>shop_cnt_sum_lag_1</td>\n",
       "      <td>89.167614</td>\n",
       "    </tr>\n",
       "    <tr>\n",
       "      <th>shop_cnt_mean_lag_1</th>\n",
       "      <td>shop_cnt_mean_lag_1</td>\n",
       "      <td>89.167614</td>\n",
       "    </tr>\n",
       "    <tr>\n",
       "      <th>shop_price_mean_lag_1</th>\n",
       "      <td>shop_price_mean_lag_1</td>\n",
       "      <td>89.167614</td>\n",
       "    </tr>\n",
       "    <tr>\n",
       "      <th>category_cnt_sum_lag_1</th>\n",
       "      <td>category_cnt_sum_lag_1</td>\n",
       "      <td>89.167614</td>\n",
       "    </tr>\n",
       "    <tr>\n",
       "      <th>category_cnt_mean_lag_1</th>\n",
       "      <td>category_cnt_mean_lag_1</td>\n",
       "      <td>89.167614</td>\n",
       "    </tr>\n",
       "    <tr>\n",
       "      <th>category_price_mean_lag_1</th>\n",
       "      <td>category_price_mean_lag_1</td>\n",
       "      <td>89.167614</td>\n",
       "    </tr>\n",
       "    <tr>\n",
       "      <th>shop_category_cnt_sum_lag_1</th>\n",
       "      <td>shop_category_cnt_sum_lag_1</td>\n",
       "      <td>89.167614</td>\n",
       "    </tr>\n",
       "    <tr>\n",
       "      <th>...</th>\n",
       "      <td>...</td>\n",
       "      <td>...</td>\n",
       "    </tr>\n",
       "    <tr>\n",
       "      <th>category_cnt_sum_lag_3</th>\n",
       "      <td>category_cnt_sum_lag_3</td>\n",
       "      <td>89.985518</td>\n",
       "    </tr>\n",
       "    <tr>\n",
       "      <th>category_cnt_mean_lag_3</th>\n",
       "      <td>category_cnt_mean_lag_3</td>\n",
       "      <td>89.985518</td>\n",
       "    </tr>\n",
       "    <tr>\n",
       "      <th>category_price_mean_lag_3</th>\n",
       "      <td>category_price_mean_lag_3</td>\n",
       "      <td>89.985518</td>\n",
       "    </tr>\n",
       "    <tr>\n",
       "      <th>shop_category_cnt_sum_lag_3</th>\n",
       "      <td>shop_category_cnt_sum_lag_3</td>\n",
       "      <td>89.985518</td>\n",
       "    </tr>\n",
       "    <tr>\n",
       "      <th>shop_category_cnt_mean_lag_3</th>\n",
       "      <td>shop_category_cnt_mean_lag_3</td>\n",
       "      <td>89.985518</td>\n",
       "    </tr>\n",
       "    <tr>\n",
       "      <th>shop_category_price_mean_lag_3</th>\n",
       "      <td>shop_category_price_mean_lag_3</td>\n",
       "      <td>89.985518</td>\n",
       "    </tr>\n",
       "    <tr>\n",
       "      <th>item_cnt_sum_lag_6</th>\n",
       "      <td>item_cnt_sum_lag_6</td>\n",
       "      <td>91.250055</td>\n",
       "    </tr>\n",
       "    <tr>\n",
       "      <th>item_cnt_mean_lag_6</th>\n",
       "      <td>item_cnt_mean_lag_6</td>\n",
       "      <td>91.250055</td>\n",
       "    </tr>\n",
       "    <tr>\n",
       "      <th>item_price_mean_lag_6</th>\n",
       "      <td>item_price_mean_lag_6</td>\n",
       "      <td>91.250055</td>\n",
       "    </tr>\n",
       "    <tr>\n",
       "      <th>shop_cnt_sum_lag_6</th>\n",
       "      <td>shop_cnt_sum_lag_6</td>\n",
       "      <td>91.250055</td>\n",
       "    </tr>\n",
       "    <tr>\n",
       "      <th>shop_cnt_mean_lag_6</th>\n",
       "      <td>shop_cnt_mean_lag_6</td>\n",
       "      <td>91.250055</td>\n",
       "    </tr>\n",
       "    <tr>\n",
       "      <th>shop_price_mean_lag_6</th>\n",
       "      <td>shop_price_mean_lag_6</td>\n",
       "      <td>91.250055</td>\n",
       "    </tr>\n",
       "    <tr>\n",
       "      <th>category_cnt_sum_lag_6</th>\n",
       "      <td>category_cnt_sum_lag_6</td>\n",
       "      <td>91.250055</td>\n",
       "    </tr>\n",
       "    <tr>\n",
       "      <th>category_cnt_mean_lag_6</th>\n",
       "      <td>category_cnt_mean_lag_6</td>\n",
       "      <td>91.250055</td>\n",
       "    </tr>\n",
       "    <tr>\n",
       "      <th>category_price_mean_lag_6</th>\n",
       "      <td>category_price_mean_lag_6</td>\n",
       "      <td>91.250055</td>\n",
       "    </tr>\n",
       "    <tr>\n",
       "      <th>shop_category_cnt_sum_lag_6</th>\n",
       "      <td>shop_category_cnt_sum_lag_6</td>\n",
       "      <td>91.250055</td>\n",
       "    </tr>\n",
       "    <tr>\n",
       "      <th>shop_category_cnt_mean_lag_6</th>\n",
       "      <td>shop_category_cnt_mean_lag_6</td>\n",
       "      <td>91.250055</td>\n",
       "    </tr>\n",
       "    <tr>\n",
       "      <th>shop_category_price_mean_lag_6</th>\n",
       "      <td>shop_category_price_mean_lag_6</td>\n",
       "      <td>91.250055</td>\n",
       "    </tr>\n",
       "    <tr>\n",
       "      <th>item_cnt_sum_lag_12</th>\n",
       "      <td>item_cnt_sum_lag_12</td>\n",
       "      <td>94.701376</td>\n",
       "    </tr>\n",
       "    <tr>\n",
       "      <th>item_cnt_mean_lag_12</th>\n",
       "      <td>item_cnt_mean_lag_12</td>\n",
       "      <td>94.701376</td>\n",
       "    </tr>\n",
       "    <tr>\n",
       "      <th>item_price_mean_lag_12</th>\n",
       "      <td>item_price_mean_lag_12</td>\n",
       "      <td>94.701376</td>\n",
       "    </tr>\n",
       "    <tr>\n",
       "      <th>shop_cnt_sum_lag_12</th>\n",
       "      <td>shop_cnt_sum_lag_12</td>\n",
       "      <td>94.701376</td>\n",
       "    </tr>\n",
       "    <tr>\n",
       "      <th>shop_cnt_mean_lag_12</th>\n",
       "      <td>shop_cnt_mean_lag_12</td>\n",
       "      <td>94.701376</td>\n",
       "    </tr>\n",
       "    <tr>\n",
       "      <th>shop_price_mean_lag_12</th>\n",
       "      <td>shop_price_mean_lag_12</td>\n",
       "      <td>94.701376</td>\n",
       "    </tr>\n",
       "    <tr>\n",
       "      <th>category_cnt_sum_lag_12</th>\n",
       "      <td>category_cnt_sum_lag_12</td>\n",
       "      <td>94.701376</td>\n",
       "    </tr>\n",
       "    <tr>\n",
       "      <th>category_cnt_mean_lag_12</th>\n",
       "      <td>category_cnt_mean_lag_12</td>\n",
       "      <td>94.701376</td>\n",
       "    </tr>\n",
       "    <tr>\n",
       "      <th>category_price_mean_lag_12</th>\n",
       "      <td>category_price_mean_lag_12</td>\n",
       "      <td>94.701376</td>\n",
       "    </tr>\n",
       "    <tr>\n",
       "      <th>shop_category_cnt_sum_lag_12</th>\n",
       "      <td>shop_category_cnt_sum_lag_12</td>\n",
       "      <td>94.701376</td>\n",
       "    </tr>\n",
       "    <tr>\n",
       "      <th>shop_category_cnt_mean_lag_12</th>\n",
       "      <td>shop_category_cnt_mean_lag_12</td>\n",
       "      <td>94.701376</td>\n",
       "    </tr>\n",
       "    <tr>\n",
       "      <th>shop_category_price_mean_lag_12</th>\n",
       "      <td>shop_category_price_mean_lag_12</td>\n",
       "      <td>94.701376</td>\n",
       "    </tr>\n",
       "  </tbody>\n",
       "</table>\n",
       "<p>80 rows × 2 columns</p>\n",
       "</div>"
      ],
      "text/plain": [
       "                                                     column_name  \\\n",
       "item_id                                                  item_id   \n",
       "shop_id                                                  shop_id   \n",
       "date_block_num                                    date_block_num   \n",
       "item_category_id                                item_category_id   \n",
       "date                                                        date   \n",
       "item_price                                            item_price   \n",
       "item_cnt_day                                        item_cnt_day   \n",
       "y                                                              y   \n",
       "item_cnt_sum                                        item_cnt_sum   \n",
       "item_cnt_mean                                      item_cnt_mean   \n",
       "item_price_mean                                  item_price_mean   \n",
       "shop_cnt_sum                                        shop_cnt_sum   \n",
       "shop_cnt_mean                                      shop_cnt_mean   \n",
       "shop_price_mean                                  shop_price_mean   \n",
       "category_cnt_sum                                category_cnt_sum   \n",
       "category_cnt_mean                              category_cnt_mean   \n",
       "category_price_mean                          category_price_mean   \n",
       "shop_category_cnt_sum                      shop_category_cnt_sum   \n",
       "shop_category_cnt_mean                    shop_category_cnt_mean   \n",
       "shop_category_price_mean                shop_category_price_mean   \n",
       "item_cnt_sum_lag_1                            item_cnt_sum_lag_1   \n",
       "item_cnt_mean_lag_1                          item_cnt_mean_lag_1   \n",
       "item_price_mean_lag_1                      item_price_mean_lag_1   \n",
       "shop_cnt_sum_lag_1                            shop_cnt_sum_lag_1   \n",
       "shop_cnt_mean_lag_1                          shop_cnt_mean_lag_1   \n",
       "shop_price_mean_lag_1                      shop_price_mean_lag_1   \n",
       "category_cnt_sum_lag_1                    category_cnt_sum_lag_1   \n",
       "category_cnt_mean_lag_1                  category_cnt_mean_lag_1   \n",
       "category_price_mean_lag_1              category_price_mean_lag_1   \n",
       "shop_category_cnt_sum_lag_1          shop_category_cnt_sum_lag_1   \n",
       "...                                                          ...   \n",
       "category_cnt_sum_lag_3                    category_cnt_sum_lag_3   \n",
       "category_cnt_mean_lag_3                  category_cnt_mean_lag_3   \n",
       "category_price_mean_lag_3              category_price_mean_lag_3   \n",
       "shop_category_cnt_sum_lag_3          shop_category_cnt_sum_lag_3   \n",
       "shop_category_cnt_mean_lag_3        shop_category_cnt_mean_lag_3   \n",
       "shop_category_price_mean_lag_3    shop_category_price_mean_lag_3   \n",
       "item_cnt_sum_lag_6                            item_cnt_sum_lag_6   \n",
       "item_cnt_mean_lag_6                          item_cnt_mean_lag_6   \n",
       "item_price_mean_lag_6                      item_price_mean_lag_6   \n",
       "shop_cnt_sum_lag_6                            shop_cnt_sum_lag_6   \n",
       "shop_cnt_mean_lag_6                          shop_cnt_mean_lag_6   \n",
       "shop_price_mean_lag_6                      shop_price_mean_lag_6   \n",
       "category_cnt_sum_lag_6                    category_cnt_sum_lag_6   \n",
       "category_cnt_mean_lag_6                  category_cnt_mean_lag_6   \n",
       "category_price_mean_lag_6              category_price_mean_lag_6   \n",
       "shop_category_cnt_sum_lag_6          shop_category_cnt_sum_lag_6   \n",
       "shop_category_cnt_mean_lag_6        shop_category_cnt_mean_lag_6   \n",
       "shop_category_price_mean_lag_6    shop_category_price_mean_lag_6   \n",
       "item_cnt_sum_lag_12                          item_cnt_sum_lag_12   \n",
       "item_cnt_mean_lag_12                        item_cnt_mean_lag_12   \n",
       "item_price_mean_lag_12                    item_price_mean_lag_12   \n",
       "shop_cnt_sum_lag_12                          shop_cnt_sum_lag_12   \n",
       "shop_cnt_mean_lag_12                        shop_cnt_mean_lag_12   \n",
       "shop_price_mean_lag_12                    shop_price_mean_lag_12   \n",
       "category_cnt_sum_lag_12                  category_cnt_sum_lag_12   \n",
       "category_cnt_mean_lag_12                category_cnt_mean_lag_12   \n",
       "category_price_mean_lag_12            category_price_mean_lag_12   \n",
       "shop_category_cnt_sum_lag_12        shop_category_cnt_sum_lag_12   \n",
       "shop_category_cnt_mean_lag_12      shop_category_cnt_mean_lag_12   \n",
       "shop_category_price_mean_lag_12  shop_category_price_mean_lag_12   \n",
       "\n",
       "                                 percent_missing  \n",
       "item_id                                 0.000000  \n",
       "shop_id                                 0.000000  \n",
       "date_block_num                          0.000000  \n",
       "item_category_id                        0.000000  \n",
       "date                                   88.759322  \n",
       "item_price                             88.759322  \n",
       "item_cnt_day                           88.759322  \n",
       "y                                       0.000000  \n",
       "item_cnt_sum                           88.759322  \n",
       "item_cnt_mean                          88.759322  \n",
       "item_price_mean                        88.759322  \n",
       "shop_cnt_sum                           88.759322  \n",
       "shop_cnt_mean                          88.759322  \n",
       "shop_price_mean                        88.759322  \n",
       "category_cnt_sum                       88.759322  \n",
       "category_cnt_mean                      88.759322  \n",
       "category_price_mean                    88.759322  \n",
       "shop_category_cnt_sum                  88.759322  \n",
       "shop_category_cnt_mean                 88.759322  \n",
       "shop_category_price_mean               88.759322  \n",
       "item_cnt_sum_lag_1                     89.167614  \n",
       "item_cnt_mean_lag_1                    89.167614  \n",
       "item_price_mean_lag_1                  89.167614  \n",
       "shop_cnt_sum_lag_1                     89.167614  \n",
       "shop_cnt_mean_lag_1                    89.167614  \n",
       "shop_price_mean_lag_1                  89.167614  \n",
       "category_cnt_sum_lag_1                 89.167614  \n",
       "category_cnt_mean_lag_1                89.167614  \n",
       "category_price_mean_lag_1              89.167614  \n",
       "shop_category_cnt_sum_lag_1            89.167614  \n",
       "...                                          ...  \n",
       "category_cnt_sum_lag_3                 89.985518  \n",
       "category_cnt_mean_lag_3                89.985518  \n",
       "category_price_mean_lag_3              89.985518  \n",
       "shop_category_cnt_sum_lag_3            89.985518  \n",
       "shop_category_cnt_mean_lag_3           89.985518  \n",
       "shop_category_price_mean_lag_3         89.985518  \n",
       "item_cnt_sum_lag_6                     91.250055  \n",
       "item_cnt_mean_lag_6                    91.250055  \n",
       "item_price_mean_lag_6                  91.250055  \n",
       "shop_cnt_sum_lag_6                     91.250055  \n",
       "shop_cnt_mean_lag_6                    91.250055  \n",
       "shop_price_mean_lag_6                  91.250055  \n",
       "category_cnt_sum_lag_6                 91.250055  \n",
       "category_cnt_mean_lag_6                91.250055  \n",
       "category_price_mean_lag_6              91.250055  \n",
       "shop_category_cnt_sum_lag_6            91.250055  \n",
       "shop_category_cnt_mean_lag_6           91.250055  \n",
       "shop_category_price_mean_lag_6         91.250055  \n",
       "item_cnt_sum_lag_12                    94.701376  \n",
       "item_cnt_mean_lag_12                   94.701376  \n",
       "item_price_mean_lag_12                 94.701376  \n",
       "shop_cnt_sum_lag_12                    94.701376  \n",
       "shop_cnt_mean_lag_12                   94.701376  \n",
       "shop_price_mean_lag_12                 94.701376  \n",
       "category_cnt_sum_lag_12                94.701376  \n",
       "category_cnt_mean_lag_12               94.701376  \n",
       "category_price_mean_lag_12             94.701376  \n",
       "shop_category_cnt_sum_lag_12           94.701376  \n",
       "shop_category_cnt_mean_lag_12          94.701376  \n",
       "shop_category_price_mean_lag_12        94.701376  \n",
       "\n",
       "[80 rows x 2 columns]"
      ]
     },
     "execution_count": 45,
     "metadata": {},
     "output_type": "execute_result"
    }
   ],
   "source": [
    "columns = training.columns\n",
    "percent_missing = training.isna().sum() * 100 / len(training)\n",
    "pd.DataFrame({'column_name': columns,\n",
    "                                 'percent_missing': percent_missing})"
   ]
  },
  {
   "cell_type": "code",
   "execution_count": 56,
   "metadata": {},
   "outputs": [
    {
     "name": "stdout",
     "output_type": "stream",
     "text": [
      "0:\tlearn: 3.2514231\ttest: 2.8014817\tbest: 2.8014817 (0)\ttotal: 736ms\tremaining: 2h 2m 39s\n",
      "1:\tlearn: 3.2343019\ttest: 2.7875272\tbest: 2.7875272 (1)\ttotal: 1.42s\tremaining: 1h 58m 11s\n",
      "2:\tlearn: 3.2176510\ttest: 2.7737440\tbest: 2.7737440 (2)\ttotal: 2.18s\tremaining: 2h 59s\n",
      "3:\tlearn: 3.2010470\ttest: 2.7609437\tbest: 2.7609437 (3)\ttotal: 2.92s\tremaining: 2h 1m 31s\n",
      "4:\tlearn: 3.1847869\ttest: 2.7473764\tbest: 2.7473764 (4)\ttotal: 3.48s\tremaining: 1h 55m 58s\n",
      "5:\tlearn: 3.1687048\ttest: 2.7343785\tbest: 2.7343785 (5)\ttotal: 4.21s\tremaining: 1h 56m 45s\n",
      "6:\tlearn: 3.1528034\ttest: 2.7218842\tbest: 2.7218842 (6)\ttotal: 4.82s\tremaining: 1h 54m 47s\n",
      "7:\tlearn: 3.1372456\ttest: 2.7090952\tbest: 2.7090952 (7)\ttotal: 5.5s\tremaining: 1h 54m 26s\n",
      "8:\tlearn: 3.1219054\ttest: 2.6967922\tbest: 2.6967922 (8)\ttotal: 6.07s\tremaining: 1h 52m 21s\n",
      "9:\tlearn: 3.1068597\ttest: 2.6843942\tbest: 2.6843942 (9)\ttotal: 6.73s\tremaining: 1h 52m 6s\n",
      "10:\tlearn: 3.0921314\ttest: 2.6724134\tbest: 2.6724134 (10)\ttotal: 7.33s\tremaining: 1h 50m 53s\n",
      "11:\tlearn: 3.0773731\ttest: 2.6603124\tbest: 2.6603124 (11)\ttotal: 7.96s\tremaining: 1h 50m 27s\n",
      "12:\tlearn: 3.0627566\ttest: 2.6488980\tbest: 2.6488980 (12)\ttotal: 8.65s\tremaining: 1h 50m 46s\n",
      "13:\tlearn: 3.0485853\ttest: 2.6370103\tbest: 2.6370103 (13)\ttotal: 9.36s\tremaining: 1h 51m 14s\n",
      "14:\tlearn: 3.0335457\ttest: 2.6259176\tbest: 2.6259176 (14)\ttotal: 10.2s\tremaining: 1h 52m 38s\n",
      "15:\tlearn: 3.0186293\ttest: 2.6142117\tbest: 2.6142117 (15)\ttotal: 10.8s\tremaining: 1h 52m 15s\n",
      "16:\tlearn: 3.0040030\ttest: 2.6034512\tbest: 2.6034512 (16)\ttotal: 11.5s\tremaining: 1h 52m 7s\n",
      "17:\tlearn: 2.9894366\ttest: 2.5927718\tbest: 2.5927718 (17)\ttotal: 12.2s\tremaining: 1h 52m 54s\n",
      "18:\tlearn: 2.9750397\ttest: 2.5820336\tbest: 2.5820336 (18)\ttotal: 13s\tremaining: 1h 54m 2s\n",
      "19:\tlearn: 2.9608777\ttest: 2.5709681\tbest: 2.5709681 (19)\ttotal: 13.7s\tremaining: 1h 54m 11s\n",
      "20:\tlearn: 2.9469420\ttest: 2.5601043\tbest: 2.5601043 (20)\ttotal: 14.4s\tremaining: 1h 54m 26s\n",
      "21:\tlearn: 2.9331481\ttest: 2.5496421\tbest: 2.5496421 (21)\ttotal: 15.1s\tremaining: 1h 53m 58s\n",
      "22:\tlearn: 2.9196600\ttest: 2.5400376\tbest: 2.5400376 (22)\ttotal: 16s\tremaining: 1h 55m 31s\n",
      "23:\tlearn: 2.9063944\ttest: 2.5309816\tbest: 2.5309816 (23)\ttotal: 16.7s\tremaining: 1h 55m 41s\n"
     ]
    },
    {
     "ename": "KeyboardInterrupt",
     "evalue": "",
     "output_type": "error",
     "traceback": [
      "\u001b[0;31m---------------------------------------------------------------------------\u001b[0m",
      "\u001b[0;31mKeyboardInterrupt\u001b[0m                         Traceback (most recent call last)",
      "\u001b[0;32m<ipython-input-56-6ebd550d8cfc>\u001b[0m in \u001b[0;36m<module>\u001b[0;34m\u001b[0m\n\u001b[1;32m     17\u001b[0m              \u001b[0meval_set\u001b[0m\u001b[0;34m=\u001b[0m\u001b[0;34m(\u001b[0m\u001b[0mx_val\u001b[0m\u001b[0;34m[\u001b[0m\u001b[0mlgbm_features\u001b[0m\u001b[0;34m]\u001b[0m\u001b[0;34m,\u001b[0m\u001b[0my_val\u001b[0m\u001b[0;34m)\u001b[0m\u001b[0;34m,\u001b[0m\u001b[0;34m\u001b[0m\u001b[0m\n\u001b[1;32m     18\u001b[0m              \u001b[0;31m#cat_features=categorical_features_pos,\u001b[0m\u001b[0;34m\u001b[0m\u001b[0;34m\u001b[0m\u001b[0m\n\u001b[0;32m---> 19\u001b[0;31m              verbose=True)\n\u001b[0m",
      "\u001b[0;32m/opt/conda/lib/python3.6/site-packages/catboost/core.py\u001b[0m in \u001b[0;36mfit\u001b[0;34m(self, X, y, cat_features, sample_weight, baseline, use_best_model, eval_set, verbose, logging_level, plot, column_description, verbose_eval, metric_period, silent, early_stopping_rounds, save_snapshot, snapshot_file, snapshot_interval)\u001b[0m\n\u001b[1;32m   2541\u001b[0m                          \u001b[0muse_best_model\u001b[0m\u001b[0;34m,\u001b[0m \u001b[0meval_set\u001b[0m\u001b[0;34m,\u001b[0m \u001b[0mverbose\u001b[0m\u001b[0;34m,\u001b[0m \u001b[0mlogging_level\u001b[0m\u001b[0;34m,\u001b[0m \u001b[0mplot\u001b[0m\u001b[0;34m,\u001b[0m \u001b[0mcolumn_description\u001b[0m\u001b[0;34m,\u001b[0m\u001b[0;34m\u001b[0m\u001b[0m\n\u001b[1;32m   2542\u001b[0m                          \u001b[0mverbose_eval\u001b[0m\u001b[0;34m,\u001b[0m \u001b[0mmetric_period\u001b[0m\u001b[0;34m,\u001b[0m \u001b[0msilent\u001b[0m\u001b[0;34m,\u001b[0m \u001b[0mearly_stopping_rounds\u001b[0m\u001b[0;34m,\u001b[0m\u001b[0;34m\u001b[0m\u001b[0m\n\u001b[0;32m-> 2543\u001b[0;31m                          save_snapshot, snapshot_file, snapshot_interval)\n\u001b[0m\u001b[1;32m   2544\u001b[0m \u001b[0;34m\u001b[0m\u001b[0m\n\u001b[1;32m   2545\u001b[0m     \u001b[0;32mdef\u001b[0m \u001b[0mpredict\u001b[0m\u001b[0;34m(\u001b[0m\u001b[0mself\u001b[0m\u001b[0;34m,\u001b[0m \u001b[0mdata\u001b[0m\u001b[0;34m,\u001b[0m \u001b[0mntree_start\u001b[0m\u001b[0;34m=\u001b[0m\u001b[0;36m0\u001b[0m\u001b[0;34m,\u001b[0m \u001b[0mntree_end\u001b[0m\u001b[0;34m=\u001b[0m\u001b[0;36m0\u001b[0m\u001b[0;34m,\u001b[0m \u001b[0mthread_count\u001b[0m\u001b[0;34m=\u001b[0m\u001b[0;34m-\u001b[0m\u001b[0;36m1\u001b[0m\u001b[0;34m,\u001b[0m \u001b[0mverbose\u001b[0m\u001b[0;34m=\u001b[0m\u001b[0;32mNone\u001b[0m\u001b[0;34m)\u001b[0m\u001b[0;34m:\u001b[0m\u001b[0;34m\u001b[0m\u001b[0m\n",
      "\u001b[0;32m/opt/conda/lib/python3.6/site-packages/catboost/core.py\u001b[0m in \u001b[0;36m_fit\u001b[0;34m(self, X, y, cat_features, pairs, sample_weight, group_id, group_weight, subgroup_id, pairs_weight, baseline, use_best_model, eval_set, verbose, logging_level, plot, column_description, verbose_eval, metric_period, silent, early_stopping_rounds, save_snapshot, snapshot_file, snapshot_interval)\u001b[0m\n\u001b[1;32m   1124\u001b[0m \u001b[0;34m\u001b[0m\u001b[0m\n\u001b[1;32m   1125\u001b[0m         \u001b[0;32mwith\u001b[0m \u001b[0mlog_fixup\u001b[0m\u001b[0;34m(\u001b[0m\u001b[0;34m)\u001b[0m\u001b[0;34m,\u001b[0m \u001b[0mplot_wrapper\u001b[0m\u001b[0;34m(\u001b[0m\u001b[0mplot\u001b[0m\u001b[0;34m,\u001b[0m \u001b[0mself\u001b[0m\u001b[0;34m.\u001b[0m\u001b[0mget_params\u001b[0m\u001b[0;34m(\u001b[0m\u001b[0;34m)\u001b[0m\u001b[0;34m)\u001b[0m\u001b[0;34m:\u001b[0m\u001b[0;34m\u001b[0m\u001b[0m\n\u001b[0;32m-> 1126\u001b[0;31m             \u001b[0mself\u001b[0m\u001b[0;34m.\u001b[0m\u001b[0m_train\u001b[0m\u001b[0;34m(\u001b[0m\u001b[0mtrain_pool\u001b[0m\u001b[0;34m,\u001b[0m \u001b[0meval_sets\u001b[0m\u001b[0;34m,\u001b[0m \u001b[0mparams\u001b[0m\u001b[0;34m,\u001b[0m \u001b[0mallow_clear_pool\u001b[0m\u001b[0;34m)\u001b[0m\u001b[0;34m\u001b[0m\u001b[0m\n\u001b[0m\u001b[1;32m   1127\u001b[0m \u001b[0;34m\u001b[0m\u001b[0m\n\u001b[1;32m   1128\u001b[0m         \u001b[0;32mif\u001b[0m \u001b[0;34m(\u001b[0m\u001b[0;32mnot\u001b[0m \u001b[0mself\u001b[0m\u001b[0;34m.\u001b[0m\u001b[0m_object\u001b[0m\u001b[0;34m.\u001b[0m\u001b[0m_has_leaf_weights_in_model\u001b[0m\u001b[0;34m(\u001b[0m\u001b[0;34m)\u001b[0m\u001b[0;34m)\u001b[0m \u001b[0;32mand\u001b[0m \u001b[0mallow_clear_pool\u001b[0m\u001b[0;34m:\u001b[0m\u001b[0;34m\u001b[0m\u001b[0m\n",
      "\u001b[0;32m/opt/conda/lib/python3.6/site-packages/catboost/core.py\u001b[0m in \u001b[0;36m_train\u001b[0;34m(self, train_pool, test_pool, params, allow_clear_pool)\u001b[0m\n\u001b[1;32m    826\u001b[0m \u001b[0;34m\u001b[0m\u001b[0m\n\u001b[1;32m    827\u001b[0m     \u001b[0;32mdef\u001b[0m \u001b[0m_train\u001b[0m\u001b[0;34m(\u001b[0m\u001b[0mself\u001b[0m\u001b[0;34m,\u001b[0m \u001b[0mtrain_pool\u001b[0m\u001b[0;34m,\u001b[0m \u001b[0mtest_pool\u001b[0m\u001b[0;34m,\u001b[0m \u001b[0mparams\u001b[0m\u001b[0;34m,\u001b[0m \u001b[0mallow_clear_pool\u001b[0m\u001b[0;34m)\u001b[0m\u001b[0;34m:\u001b[0m\u001b[0;34m\u001b[0m\u001b[0m\n\u001b[0;32m--> 828\u001b[0;31m         \u001b[0mself\u001b[0m\u001b[0;34m.\u001b[0m\u001b[0m_object\u001b[0m\u001b[0;34m.\u001b[0m\u001b[0m_train\u001b[0m\u001b[0;34m(\u001b[0m\u001b[0mtrain_pool\u001b[0m\u001b[0;34m,\u001b[0m \u001b[0mtest_pool\u001b[0m\u001b[0;34m,\u001b[0m \u001b[0mparams\u001b[0m\u001b[0;34m,\u001b[0m \u001b[0mallow_clear_pool\u001b[0m\u001b[0;34m)\u001b[0m\u001b[0;34m\u001b[0m\u001b[0m\n\u001b[0m\u001b[1;32m    829\u001b[0m         \u001b[0mself\u001b[0m\u001b[0;34m.\u001b[0m\u001b[0m_set_trained_model_attributes\u001b[0m\u001b[0;34m(\u001b[0m\u001b[0;34m)\u001b[0m\u001b[0;34m\u001b[0m\u001b[0m\n\u001b[1;32m    830\u001b[0m \u001b[0;34m\u001b[0m\u001b[0m\n",
      "\u001b[0;32m_catboost.pyx\u001b[0m in \u001b[0;36m_catboost._CatBoost._train\u001b[0;34m()\u001b[0m\n",
      "\u001b[0;32m_catboost.pyx\u001b[0m in \u001b[0;36m_catboost._CatBoost._train\u001b[0;34m()\u001b[0m\n",
      "\u001b[0;31mKeyboardInterrupt\u001b[0m: "
     ]
    }
   ],
   "source": [
    "cb_model = CatBoostRegressor(iterations=10000,\n",
    "                             learning_rate=0.01,\n",
    "                             eval_metric='RMSE',\n",
    "                             #thread_count=16,\n",
    "                             #task_type = \"GPU\",\n",
    "                             use_best_model=True,\n",
    "                             #l2_leaf_reg = 1000,\n",
    "                            od_type = \"Iter\",\n",
    "                            od_wait = 30,\n",
    "                             #random_strength = 10,\n",
    "                             #bagging_temperature = 1,\n",
    "                             #one_hot_max_size = 2,\n",
    "                             random_seed = 23)\n",
    "\n",
    "\n",
    "cb_model.fit(x_train[lgbm_features], y_train, cat_features=categorical_features_indices,\n",
    "             eval_set=(x_val[lgbm_features],y_val),\n",
    "             #cat_features=categorical_features_pos,         \n",
    "             verbose=True)"
   ]
  },
  {
   "cell_type": "code",
   "execution_count": 144,
   "metadata": {},
   "outputs": [
    {
     "data": {
      "text/plain": [
       "array(['item_id', 'shop_category_cnt_mean', 'date_block_num',\n",
       "       'shop_category_cnt_sum', 'shop_id', 'item_cnt_mean_lag_1',\n",
       "       'item_category_id', 'shop_category_price_mean',\n",
       "       'item_cnt_sum_lag_1', 'category_cnt_sum_lag_1',\n",
       "       'category_cnt_mean_lag_1', 'item_price_mean_lag_1',\n",
       "       'category_cnt_sum_lag_3', 'category_cnt_sum_lag_6',\n",
       "       'category_price_mean_lag_1', 'category_cnt_sum_lag_2',\n",
       "       'shop_category_cnt_sum_lag_1', 'shop_cnt_sum_lag_6',\n",
       "       'shop_category_cnt_mean_lag_1', 'lagged_block',\n",
       "       'category_cnt_mean_lag_6', 'shop_cnt_sum_lag_3',\n",
       "       'item_cnt_sum_lag_2', 'shop_cnt_sum_lag_1',\n",
       "       'category_cnt_mean_lag_2', 'item_cnt_sum_lag_3',\n",
       "       'category_cnt_mean_lag_3', 'shop_category_cnt_mean_lag_3',\n",
       "       'shop_category_price_mean_lag_1', 'item_cnt_mean_lag_3',\n",
       "       'shop_cnt_sum_lag_2', 'item_price_mean_lag_2',\n",
       "       'item_cnt_mean_lag_2', 'shop_cnt_mean_lag_12',\n",
       "       'shop_category_price_mean_lag_3', 'item_price_mean_lag_3',\n",
       "       'shop_cnt_sum_lag_12', 'shop_cnt_mean_lag_6',\n",
       "       'category_price_mean_lag_2', 'shop_category_cnt_mean_lag_2',\n",
       "       'shop_category_cnt_sum_lag_2', 'shop_price_mean_lag_2',\n",
       "       'item_cnt_sum_lag_6', 'shop_price_mean_lag_1',\n",
       "       'shop_price_mean_lag_12', 'category_cnt_sum_lag_12',\n",
       "       'category_cnt_mean_lag_12', 'category_price_mean_lag_12',\n",
       "       'shop_category_cnt_sum_lag_12', 'item_price_mean_lag_12',\n",
       "       'item_cnt_mean_lag_12', 'item_cnt_sum_lag_12',\n",
       "       'shop_category_price_mean_lag_6', 'shop_cnt_mean_lag_1',\n",
       "       'shop_price_mean_lag_3', 'shop_category_cnt_mean_lag_6',\n",
       "       'shop_category_cnt_sum_lag_6', 'category_price_mean_lag_6',\n",
       "       'shop_price_mean_lag_6', 'shop_cnt_mean_lag_3',\n",
       "       'item_price_mean_lag_6', 'item_cnt_mean_lag_6',\n",
       "       'shop_cnt_mean_lag_2', 'shop_category_price_mean_lag_2',\n",
       "       'shop_category_cnt_sum_lag_3', 'shop_category_cnt_mean_lag_12',\n",
       "       'category_price_mean_lag_3', 'shop_category_price_mean_lag_12'],\n",
       "      dtype=object)"
      ]
     },
     "execution_count": 144,
     "metadata": {},
     "output_type": "execute_result"
    }
   ],
   "source": [
    "lgbm_features[np.argsort(cb_model.get_feature_importance())[::-1]]"
   ]
  },
  {
   "cell_type": "code",
   "execution_count": 47,
   "metadata": {},
   "outputs": [
    {
     "data": {
      "text/plain": [
       "79"
      ]
     },
     "execution_count": 47,
     "metadata": {},
     "output_type": "execute_result"
    }
   ],
   "source": [
    "len(training.item_category_id.unique())"
   ]
  },
  {
   "cell_type": "code",
   "execution_count": null,
   "metadata": {},
   "outputs": [],
   "source": [
    "print('Plotting feature importances...')\n",
    "ax = lgbm.plot_importance(model_lgb, max_num_features=10)\n",
    "plt.show()"
   ]
  },
  {
   "cell_type": "code",
   "execution_count": null,
   "metadata": {},
   "outputs": [],
   "source": [
    "best_features_indices = np.argsort(model_lgb.feature_importance())[::-1][0:5]\n",
    "lgbm_features[best_features_indices]"
   ]
  },
  {
   "cell_type": "code",
   "execution_count": 150,
   "metadata": {},
   "outputs": [],
   "source": [
    "test_w_cat_ids = test.set_index('item_id').join(items.set_index('item_id'))\n",
    "test_w_cat_ids['date_block_num'] = 34"
   ]
  },
  {
   "cell_type": "code",
   "execution_count": 156,
   "metadata": {},
   "outputs": [
    {
     "data": {
      "text/plain": [
       "Index(['item_cnt_sum', 'item_cnt_mean', 'item_price_mean', 'shop_cnt_sum',\n",
       "       'shop_cnt_mean', 'shop_price_mean', 'category_cnt_sum',\n",
       "       'category_cnt_mean', 'category_price_mean', 'shop_category_cnt_sum',\n",
       "       'shop_category_cnt_mean', 'shop_category_price_mean'],\n",
       "      dtype='object')"
      ]
     },
     "execution_count": 156,
     "metadata": {},
     "output_type": "execute_result"
    }
   ],
   "source": [
    "lag_columns"
   ]
  },
  {
   "cell_type": "code",
   "execution_count": 151,
   "metadata": {},
   "outputs": [
    {
     "name": "stdout",
     "output_type": "stream",
     "text": [
      "1\n",
      "2\n",
      "3\n",
      "6\n",
      "12\n"
     ]
    }
   ],
   "source": [
    "gc.collect()\n",
    "def lagged_name(lag_column, lag):\n",
    "    return \"%s_lag_%d\" % (lag_column, lag)\n",
    "\n",
    "merge_columns = ['lagged_block','item_id','shop_id']\n",
    "\n",
    "for lag in lags:\n",
    "    print(lag)\n",
    "    lagged = transactions.copy()\n",
    "    lagged.rename(columns={'date_block_num':'lagged_block'},inplace=True)\n",
    "    test_w_cat_ids['lagged_block'] = test_w_cat_ids['date_block_num'] - lag\n",
    "    lagged_names = [lagged_name(c,lag) for c in lag_columns]\n",
    "    lag_mapping = dict(zip(lag_columns, lagged_names))\n",
    "    lagged.rename(columns=lag_mapping,inplace=True)\n",
    "    test_w_cat_ids = pd.merge(test_w_cat_ids,lagged[lagged_names+merge_columns],on=merge_columns,how='left')\n",
    "    del lagged\n",
    "    gc.collect()"
   ]
  },
  {
   "cell_type": "code",
   "execution_count": 155,
   "metadata": {},
   "outputs": [
    {
     "data": {
      "text/plain": [
       "Index(['ID', 'item_id', 'shop_id', 'item_name', 'item_category_id',\n",
       "       'date_block_num', 'lagged_block', 'item_cnt_sum_lag_1',\n",
       "       'item_cnt_mean_lag_1', 'item_price_mean_lag_1', 'shop_cnt_sum_lag_1',\n",
       "       'shop_cnt_mean_lag_1', 'shop_price_mean_lag_1',\n",
       "       'category_cnt_sum_lag_1', 'category_cnt_mean_lag_1',\n",
       "       'category_price_mean_lag_1', 'shop_category_cnt_sum_lag_1',\n",
       "       'shop_category_cnt_mean_lag_1', 'shop_category_price_mean_lag_1',\n",
       "       'item_cnt_sum_lag_2', 'item_cnt_mean_lag_2', 'item_price_mean_lag_2',\n",
       "       'shop_cnt_sum_lag_2', 'shop_cnt_mean_lag_2', 'shop_price_mean_lag_2',\n",
       "       'category_cnt_sum_lag_2', 'category_cnt_mean_lag_2',\n",
       "       'category_price_mean_lag_2', 'shop_category_cnt_sum_lag_2',\n",
       "       'shop_category_cnt_mean_lag_2', 'shop_category_price_mean_lag_2',\n",
       "       'item_cnt_sum_lag_3', 'item_cnt_mean_lag_3', 'item_price_mean_lag_3',\n",
       "       'shop_cnt_sum_lag_3', 'shop_cnt_mean_lag_3', 'shop_price_mean_lag_3',\n",
       "       'category_cnt_sum_lag_3', 'category_cnt_mean_lag_3',\n",
       "       'category_price_mean_lag_3', 'shop_category_cnt_sum_lag_3',\n",
       "       'shop_category_cnt_mean_lag_3', 'shop_category_price_mean_lag_3',\n",
       "       'item_cnt_sum_lag_6', 'item_cnt_mean_lag_6', 'item_price_mean_lag_6',\n",
       "       'shop_cnt_sum_lag_6', 'shop_cnt_mean_lag_6', 'shop_price_mean_lag_6',\n",
       "       'category_cnt_sum_lag_6', 'category_cnt_mean_lag_6',\n",
       "       'category_price_mean_lag_6', 'shop_category_cnt_sum_lag_6',\n",
       "       'shop_category_cnt_mean_lag_6', 'shop_category_price_mean_lag_6',\n",
       "       'item_cnt_sum_lag_12', 'item_cnt_mean_lag_12', 'item_price_mean_lag_12',\n",
       "       'shop_cnt_sum_lag_12', 'shop_cnt_mean_lag_12', 'shop_price_mean_lag_12',\n",
       "       'category_cnt_sum_lag_12', 'category_cnt_mean_lag_12',\n",
       "       'category_price_mean_lag_12', 'shop_category_cnt_sum_lag_12',\n",
       "       'shop_category_cnt_mean_lag_12', 'shop_category_price_mean_lag_12'],\n",
       "      dtype='object')"
      ]
     },
     "execution_count": 155,
     "metadata": {},
     "output_type": "execute_result"
    }
   ],
   "source": [
    "test_w_cat_ids.columns"
   ]
  },
  {
   "cell_type": "code",
   "execution_count": null,
   "metadata": {},
   "outputs": [],
   "source": [
    "len(test_w_cat_ids)"
   ]
  },
  {
   "cell_type": "code",
   "execution_count": null,
   "metadata": {},
   "outputs": [],
   "source": [
    "preds = model_lgb.predict(test_w_cat_ids[lgbm_features])\n",
    "preds.clip(0,20,out=preds)"
   ]
  },
  {
   "cell_type": "code",
   "execution_count": 154,
   "metadata": {},
   "outputs": [
    {
     "ename": "KeyError",
     "evalue": "\"['shop_category_cnt_mean' 'shop_category_cnt_sum'\\n 'shop_category_price_mean'] not in index\"",
     "output_type": "error",
     "traceback": [
      "\u001b[1;31m---------------------------------------------------------------------------\u001b[0m",
      "\u001b[1;31mKeyError\u001b[0m                                  Traceback (most recent call last)",
      "\u001b[1;32m<ipython-input-154-339c85b0a8dd>\u001b[0m in \u001b[0;36m<module>\u001b[1;34m()\u001b[0m\n\u001b[1;32m----> 1\u001b[1;33m \u001b[0mpreds\u001b[0m \u001b[1;33m=\u001b[0m \u001b[0mcb_model\u001b[0m\u001b[1;33m.\u001b[0m\u001b[0mpredict\u001b[0m\u001b[1;33m(\u001b[0m\u001b[0mtest_w_cat_ids\u001b[0m\u001b[1;33m[\u001b[0m\u001b[0mlgbm_features\u001b[0m\u001b[1;33m]\u001b[0m\u001b[1;33m)\u001b[0m\u001b[1;33m\u001b[0m\u001b[0m\n\u001b[0m\u001b[0;32m      2\u001b[0m \u001b[0mpreds\u001b[0m\u001b[1;33m.\u001b[0m\u001b[0mclip\u001b[0m\u001b[1;33m(\u001b[0m\u001b[1;36m0\u001b[0m\u001b[1;33m,\u001b[0m\u001b[1;36m20\u001b[0m\u001b[1;33m,\u001b[0m\u001b[0mout\u001b[0m\u001b[1;33m=\u001b[0m\u001b[0mpreds\u001b[0m\u001b[1;33m)\u001b[0m\u001b[1;33m\u001b[0m\u001b[0m\n",
      "\u001b[1;32m~\\Anaconda3\\lib\\site-packages\\pandas\\core\\frame.py\u001b[0m in \u001b[0;36m__getitem__\u001b[1;34m(self, key)\u001b[0m\n\u001b[0;32m   2677\u001b[0m         \u001b[1;32mif\u001b[0m \u001b[0misinstance\u001b[0m\u001b[1;33m(\u001b[0m\u001b[0mkey\u001b[0m\u001b[1;33m,\u001b[0m \u001b[1;33m(\u001b[0m\u001b[0mSeries\u001b[0m\u001b[1;33m,\u001b[0m \u001b[0mnp\u001b[0m\u001b[1;33m.\u001b[0m\u001b[0mndarray\u001b[0m\u001b[1;33m,\u001b[0m \u001b[0mIndex\u001b[0m\u001b[1;33m,\u001b[0m \u001b[0mlist\u001b[0m\u001b[1;33m)\u001b[0m\u001b[1;33m)\u001b[0m\u001b[1;33m:\u001b[0m\u001b[1;33m\u001b[0m\u001b[0m\n\u001b[0;32m   2678\u001b[0m             \u001b[1;31m# either boolean or fancy integer index\u001b[0m\u001b[1;33m\u001b[0m\u001b[1;33m\u001b[0m\u001b[0m\n\u001b[1;32m-> 2679\u001b[1;33m             \u001b[1;32mreturn\u001b[0m \u001b[0mself\u001b[0m\u001b[1;33m.\u001b[0m\u001b[0m_getitem_array\u001b[0m\u001b[1;33m(\u001b[0m\u001b[0mkey\u001b[0m\u001b[1;33m)\u001b[0m\u001b[1;33m\u001b[0m\u001b[0m\n\u001b[0m\u001b[0;32m   2680\u001b[0m         \u001b[1;32melif\u001b[0m \u001b[0misinstance\u001b[0m\u001b[1;33m(\u001b[0m\u001b[0mkey\u001b[0m\u001b[1;33m,\u001b[0m \u001b[0mDataFrame\u001b[0m\u001b[1;33m)\u001b[0m\u001b[1;33m:\u001b[0m\u001b[1;33m\u001b[0m\u001b[0m\n\u001b[0;32m   2681\u001b[0m             \u001b[1;32mreturn\u001b[0m \u001b[0mself\u001b[0m\u001b[1;33m.\u001b[0m\u001b[0m_getitem_frame\u001b[0m\u001b[1;33m(\u001b[0m\u001b[0mkey\u001b[0m\u001b[1;33m)\u001b[0m\u001b[1;33m\u001b[0m\u001b[0m\n",
      "\u001b[1;32m~\\Anaconda3\\lib\\site-packages\\pandas\\core\\frame.py\u001b[0m in \u001b[0;36m_getitem_array\u001b[1;34m(self, key)\u001b[0m\n\u001b[0;32m   2721\u001b[0m             \u001b[1;32mreturn\u001b[0m \u001b[0mself\u001b[0m\u001b[1;33m.\u001b[0m\u001b[0m_take\u001b[0m\u001b[1;33m(\u001b[0m\u001b[0mindexer\u001b[0m\u001b[1;33m,\u001b[0m \u001b[0maxis\u001b[0m\u001b[1;33m=\u001b[0m\u001b[1;36m0\u001b[0m\u001b[1;33m)\u001b[0m\u001b[1;33m\u001b[0m\u001b[0m\n\u001b[0;32m   2722\u001b[0m         \u001b[1;32melse\u001b[0m\u001b[1;33m:\u001b[0m\u001b[1;33m\u001b[0m\u001b[0m\n\u001b[1;32m-> 2723\u001b[1;33m             \u001b[0mindexer\u001b[0m \u001b[1;33m=\u001b[0m \u001b[0mself\u001b[0m\u001b[1;33m.\u001b[0m\u001b[0mloc\u001b[0m\u001b[1;33m.\u001b[0m\u001b[0m_convert_to_indexer\u001b[0m\u001b[1;33m(\u001b[0m\u001b[0mkey\u001b[0m\u001b[1;33m,\u001b[0m \u001b[0maxis\u001b[0m\u001b[1;33m=\u001b[0m\u001b[1;36m1\u001b[0m\u001b[1;33m)\u001b[0m\u001b[1;33m\u001b[0m\u001b[0m\n\u001b[0m\u001b[0;32m   2724\u001b[0m             \u001b[1;32mreturn\u001b[0m \u001b[0mself\u001b[0m\u001b[1;33m.\u001b[0m\u001b[0m_take\u001b[0m\u001b[1;33m(\u001b[0m\u001b[0mindexer\u001b[0m\u001b[1;33m,\u001b[0m \u001b[0maxis\u001b[0m\u001b[1;33m=\u001b[0m\u001b[1;36m1\u001b[0m\u001b[1;33m)\u001b[0m\u001b[1;33m\u001b[0m\u001b[0m\n\u001b[0;32m   2725\u001b[0m \u001b[1;33m\u001b[0m\u001b[0m\n",
      "\u001b[1;32m~\\Anaconda3\\lib\\site-packages\\pandas\\core\\indexing.py\u001b[0m in \u001b[0;36m_convert_to_indexer\u001b[1;34m(self, obj, axis, is_setter)\u001b[0m\n\u001b[0;32m   1325\u001b[0m                 \u001b[1;32mif\u001b[0m \u001b[0mmask\u001b[0m\u001b[1;33m.\u001b[0m\u001b[0many\u001b[0m\u001b[1;33m(\u001b[0m\u001b[1;33m)\u001b[0m\u001b[1;33m:\u001b[0m\u001b[1;33m\u001b[0m\u001b[0m\n\u001b[0;32m   1326\u001b[0m                     raise KeyError('{mask} not in index'\n\u001b[1;32m-> 1327\u001b[1;33m                                    .format(mask=objarr[mask]))\n\u001b[0m\u001b[0;32m   1328\u001b[0m \u001b[1;33m\u001b[0m\u001b[0m\n\u001b[0;32m   1329\u001b[0m                 \u001b[1;32mreturn\u001b[0m \u001b[0mcom\u001b[0m\u001b[1;33m.\u001b[0m\u001b[0m_values_from_object\u001b[0m\u001b[1;33m(\u001b[0m\u001b[0mindexer\u001b[0m\u001b[1;33m)\u001b[0m\u001b[1;33m\u001b[0m\u001b[0m\n",
      "\u001b[1;31mKeyError\u001b[0m: \"['shop_category_cnt_mean' 'shop_category_cnt_sum'\\n 'shop_category_price_mean'] not in index\""
     ]
    }
   ],
   "source": [
    "preds = cb_model.predict(test_w_cat_ids[lgbm_features])\n",
    "preds.clip(0,20,out=preds)"
   ]
  },
  {
   "cell_type": "code",
   "execution_count": 60,
   "metadata": {},
   "outputs": [
    {
     "data": {
      "text/plain": [
       "96340.428045824"
      ]
     },
     "execution_count": 60,
     "metadata": {},
     "output_type": "execute_result"
    }
   ],
   "source": [
    "np.sum(preds)"
   ]
  },
  {
   "cell_type": "code",
   "execution_count": 57,
   "metadata": {},
   "outputs": [],
   "source": [
    "from sklearn import preprocessing\n",
    "x_train_scaled = x_train[lgbm_features].copy()\n",
    "x_train_scaled.fillna(0,inplace=True)\n",
    "x_val_scaled = x_val[lgbm_features].copy()\n",
    "x_val_scaled.fillna(0,inplace=True)\n",
    "\n",
    "\n",
    "x_train_scaled = preprocessing.scale(x_train_scaled)\n",
    "x_val_scaled = preprocessing.scale(x_val_scaled)"
   ]
  },
  {
   "cell_type": "code",
   "execution_count": 60,
   "metadata": {},
   "outputs": [
    {
     "name": "stdout",
     "output_type": "stream",
     "text": [
      "rmse:  2.205736313122704\n"
     ]
    }
   ],
   "source": [
    "lr_model = LinearRegression().fit(x_train_scaled, y_train)\n",
    "lr_val_preds = lr_model.predict(x_val_scaled).clip(0,20)\n",
    "rmse = sqrt(mean_squared_error(y_val, lr_val_preds))\n",
    "print(\"rmse: \", rmse)"
   ]
  },
  {
   "cell_type": "code",
   "execution_count": 63,
   "metadata": {},
   "outputs": [
    {
     "name": "stderr",
     "output_type": "stream",
     "text": [
      "[Parallel(n_jobs=8)]: Done   6 out of  10 | elapsed:   29.8s remaining:   19.9s\n",
      "[Parallel(n_jobs=8)]: Done  10 out of  10 | elapsed:   37.4s finished\n"
     ]
    }
   ],
   "source": [
    "rf_model = RandomForestRegressor(random_state=0, n_jobs = 8, verbose=1).fit(x_train_scaled, y_train)"
   ]
  },
  {
   "cell_type": "code",
   "execution_count": 64,
   "metadata": {},
   "outputs": [
    {
     "name": "stdout",
     "output_type": "stream",
     "text": [
      "rmse:  3.0751675439681896\n"
     ]
    },
    {
     "name": "stderr",
     "output_type": "stream",
     "text": [
      "[Parallel(n_jobs=8)]: Done   6 out of  10 | elapsed:    0.1s remaining:    0.1s\n",
      "[Parallel(n_jobs=8)]: Done  10 out of  10 | elapsed:    0.1s finished\n"
     ]
    }
   ],
   "source": [
    "rf_val_preds = rf_model.predict(x_val_scaled).clip(0,20)\n",
    "rmse = sqrt(mean_squared_error(y_val, rf_val_preds))\n",
    "print(\"rmse: \", rmse)"
   ]
  },
  {
   "cell_type": "code",
   "execution_count": 61,
   "metadata": {},
   "outputs": [],
   "source": [
    "submission = test.loc[:,['ID']]\n",
    "submission['item_cnt_month'] = preds.astype(int)\n",
    "#submission['item_cnt_month'] = ensemble_preds.astype(int)\n",
    "\n",
    "\n",
    "submission.to_csv('submission.csv', index=False)"
   ]
  },
  {
   "cell_type": "code",
   "execution_count": null,
   "metadata": {},
   "outputs": [],
   "source": []
  }
 ],
 "metadata": {
  "kernelspec": {
   "display_name": "Python 3",
   "language": "python",
   "name": "python3"
  },
  "language_info": {
   "codemirror_mode": {
    "name": "ipython",
    "version": 3
   },
   "file_extension": ".py",
   "mimetype": "text/x-python",
   "name": "python",
   "nbconvert_exporter": "python",
   "pygments_lexer": "ipython3",
   "version": "3.6.6"
  }
 },
 "nbformat": 4,
 "nbformat_minor": 2
}
