{
 "cells": [
  {
   "cell_type": "code",
   "execution_count": 1,
   "metadata": {},
   "outputs": [
    {
     "data": {
      "text/html": [
       "<style>.container { width:100% !important; }</style>"
      ],
      "text/plain": [
       "<IPython.core.display.HTML object>"
      ]
     },
     "metadata": {},
     "output_type": "display_data"
    }
   ],
   "source": [
    "from IPython.core.display import display, HTML\n",
    "display(HTML(\"<style>.container { width:100% !important; }</style>\"))"
   ]
  },
  {
   "cell_type": "code",
   "execution_count": 2,
   "metadata": {},
   "outputs": [],
   "source": [
    "import pandas as pd\n",
    "import numpy as np\n",
    "import os\n",
    "import matplotlib.pyplot as plt\n",
    "%matplotlib inline \n",
    "from sklearn.ensemble import RandomForestRegressor\n",
    "from sklearn.tree import DecisionTreeRegressor\n",
    "from sklearn.tree import export_graphviz\n",
    "import matplotlib.pyplot as plt\n",
    "import seaborn as sns\n",
    "\n",
    "import lightgbm as lgbm\n",
    "import gc\n",
    "import xgboost as xgb\n",
    "from sklearn.linear_model import ElasticNet, Lasso, Ridge, LinearRegression\n",
    "import pickle"
   ]
  },
  {
   "cell_type": "code",
   "execution_count": 3,
   "metadata": {},
   "outputs": [],
   "source": [
    "items           = pd.read_csv('items.csv')\n",
    "item_categories = pd.read_csv('item_categories.csv')\n",
    "shops           = pd.read_csv('shops.csv')\n",
    "sales           = pd.read_csv('sales_train_v2.csv')\n",
    "test            = pd.read_csv('test.csv')\n",
    "sample_submission            = pd.read_csv('sample_submission.csv')"
   ]
  },
  {
   "cell_type": "code",
   "execution_count": 4,
   "metadata": {},
   "outputs": [
    {
     "data": {
      "text/plain": [
       "2935849"
      ]
     },
     "execution_count": 4,
     "metadata": {},
     "output_type": "execute_result"
    }
   ],
   "source": [
    "transactions = sales\n",
    "len(transactions)"
   ]
  },
  {
   "cell_type": "code",
   "execution_count": 117,
   "metadata": {},
   "outputs": [],
   "source": [
    "transactions = sales\n",
    "transactions[['day','month', 'year']] = transactions['date'].str.split('.', expand=True).astype(int)\n",
    "transactions['y'] = transactions.groupby(['date_block_num', 'item_id', 'shop_id'])['item_cnt_day'].transform('sum').clip(0,40)\n",
    "transactions = transactions.drop_duplicates(['date_block_num', 'item_id', 'shop_id'])\n",
    "transactions = transactions[transactions['year'] != 2013]\n"
   ]
  },
  {
   "cell_type": "code",
   "execution_count": 6,
   "metadata": {},
   "outputs": [
    {
     "data": {
      "text/html": [
       "<div>\n",
       "<style scoped>\n",
       "    .dataframe tbody tr th:only-of-type {\n",
       "        vertical-align: middle;\n",
       "    }\n",
       "\n",
       "    .dataframe tbody tr th {\n",
       "        vertical-align: top;\n",
       "    }\n",
       "\n",
       "    .dataframe thead th {\n",
       "        text-align: right;\n",
       "    }\n",
       "</style>\n",
       "<table border=\"1\" class=\"dataframe\">\n",
       "  <thead>\n",
       "    <tr style=\"text-align: right;\">\n",
       "      <th></th>\n",
       "      <th>date</th>\n",
       "      <th>date_block_num</th>\n",
       "      <th>shop_id</th>\n",
       "      <th>item_id</th>\n",
       "      <th>item_price</th>\n",
       "      <th>item_cnt_day</th>\n",
       "      <th>day</th>\n",
       "      <th>month</th>\n",
       "      <th>year</th>\n",
       "      <th>y</th>\n",
       "    </tr>\n",
       "  </thead>\n",
       "  <tbody>\n",
       "    <tr>\n",
       "      <th>1267562</th>\n",
       "      <td>02.01.2014</td>\n",
       "      <td>12</td>\n",
       "      <td>54</td>\n",
       "      <td>10297</td>\n",
       "      <td>749.0</td>\n",
       "      <td>1.0</td>\n",
       "      <td>2</td>\n",
       "      <td>1</td>\n",
       "      <td>2014</td>\n",
       "      <td>4.0</td>\n",
       "    </tr>\n",
       "    <tr>\n",
       "      <th>1267565</th>\n",
       "      <td>24.01.2014</td>\n",
       "      <td>12</td>\n",
       "      <td>54</td>\n",
       "      <td>10296</td>\n",
       "      <td>1599.0</td>\n",
       "      <td>1.0</td>\n",
       "      <td>24</td>\n",
       "      <td>1</td>\n",
       "      <td>2014</td>\n",
       "      <td>3.0</td>\n",
       "    </tr>\n",
       "    <tr>\n",
       "      <th>1267567</th>\n",
       "      <td>03.01.2014</td>\n",
       "      <td>12</td>\n",
       "      <td>54</td>\n",
       "      <td>10298</td>\n",
       "      <td>399.0</td>\n",
       "      <td>3.0</td>\n",
       "      <td>3</td>\n",
       "      <td>1</td>\n",
       "      <td>2014</td>\n",
       "      <td>14.0</td>\n",
       "    </tr>\n",
       "    <tr>\n",
       "      <th>1267570</th>\n",
       "      <td>15.01.2014</td>\n",
       "      <td>12</td>\n",
       "      <td>54</td>\n",
       "      <td>10300</td>\n",
       "      <td>699.0</td>\n",
       "      <td>1.0</td>\n",
       "      <td>15</td>\n",
       "      <td>1</td>\n",
       "      <td>2014</td>\n",
       "      <td>3.0</td>\n",
       "    </tr>\n",
       "    <tr>\n",
       "      <th>1267579</th>\n",
       "      <td>13.01.2014</td>\n",
       "      <td>12</td>\n",
       "      <td>54</td>\n",
       "      <td>10284</td>\n",
       "      <td>299.0</td>\n",
       "      <td>1.0</td>\n",
       "      <td>13</td>\n",
       "      <td>1</td>\n",
       "      <td>2014</td>\n",
       "      <td>1.0</td>\n",
       "    </tr>\n",
       "  </tbody>\n",
       "</table>\n",
       "</div>"
      ],
      "text/plain": [
       "               date  date_block_num  shop_id  item_id  item_price  \\\n",
       "1267562  02.01.2014              12       54    10297       749.0   \n",
       "1267565  24.01.2014              12       54    10296      1599.0   \n",
       "1267567  03.01.2014              12       54    10298       399.0   \n",
       "1267570  15.01.2014              12       54    10300       699.0   \n",
       "1267579  13.01.2014              12       54    10284       299.0   \n",
       "\n",
       "         item_cnt_day  day  month  year     y  \n",
       "1267562           1.0    2      1  2014   4.0  \n",
       "1267565           1.0   24      1  2014   3.0  \n",
       "1267567           3.0    3      1  2014  14.0  \n",
       "1267570           1.0   15      1  2014   3.0  \n",
       "1267579           1.0   13      1  2014   1.0  "
      ]
     },
     "execution_count": 6,
     "metadata": {},
     "output_type": "execute_result"
    }
   ],
   "source": [
    "len(transactions)\n",
    "transactions.head()"
   ]
  },
  {
   "cell_type": "code",
   "execution_count": 50,
   "metadata": {},
   "outputs": [],
   "source": [
    "item_ids = transactions['item_id'].unique()\n",
    "shop_ids = transactions['shop_id'].unique()\n",
    "months = transactions['month'].unique()\n",
    "years = transactions['year'].unique()\n",
    "blocks = transactions['date_block_num'].unique()"
   ]
  },
  {
   "cell_type": "code",
   "execution_count": 115,
   "metadata": {},
   "outputs": [],
   "source": [
    "from itertools import product\n",
    "index_cols = ['shop_id', 'item_id', 'date_block_num']\n",
    "\n",
    "grid = []\n",
    "for block_num in transactions['date_block_num'].unique():\n",
    "    cur_shops = transactions.loc[transactions['date_block_num'] == block_num, 'shop_id'].unique()\n",
    "    cur_items = transactions.loc[transactions['date_block_num'] == block_num, 'item_id'].unique()\n",
    "    grid.append(np.array(list(product(*[cur_shops, cur_items, [block_num]])), dtype='int32'))\n",
    "grid = pd.DataFrame(np.vstack(grid), columns = index_cols, dtype=np.int32)"
   ]
  },
  {
   "cell_type": "code",
   "execution_count": 116,
   "metadata": {},
   "outputs": [
    {
     "data": {
      "text/plain": [
       "6425094"
      ]
     },
     "execution_count": 116,
     "metadata": {},
     "output_type": "execute_result"
    }
   ],
   "source": [
    "len(grid)"
   ]
  },
  {
   "cell_type": "code",
   "execution_count": 51,
   "metadata": {},
   "outputs": [],
   "source": [
    "combinations = []\n",
    "for shop_id in shop_ids:\n",
    "    #get all item ever sold by this shop\n",
    "    sold_items = transactions[transactions['shop_id'] == shop_id]['item_id'].unique()\n",
    "    shop_combos = [[item, shop_id, block] for item in sold_items for block in blocks]\n",
    "    for shop_combo in shop_combos:\n",
    "        combinations.append(shop_combo)"
   ]
  },
  {
   "cell_type": "code",
   "execution_count": 52,
   "metadata": {},
   "outputs": [],
   "source": [
    "combinations_test = []\n",
    "for shop_id in test['shop_id'].unique():\n",
    "    #get all item ever sold by this shop\n",
    "    sold_items = test[test['shop_id'] == shop_id]['item_id'].unique()\n",
    "    shop_combos = [[item, shop_id, block] for item in sold_items for block in blocks]\n",
    "    for shop_combo in shop_combos:\n",
    "        combinations_test.append(shop_combo)"
   ]
  },
  {
   "cell_type": "code",
   "execution_count": 53,
   "metadata": {},
   "outputs": [],
   "source": [
    "#combinations = [[item, shop, block] for item in item_ids for shop in shop_ids for block in blocks]"
   ]
  },
  {
   "cell_type": "code",
   "execution_count": 54,
   "metadata": {},
   "outputs": [
    {
     "data": {
      "text/plain": [
       "4712400"
      ]
     },
     "execution_count": 54,
     "metadata": {},
     "output_type": "execute_result"
    }
   ],
   "source": [
    "len(combinations_test)"
   ]
  },
  {
   "cell_type": "code",
   "execution_count": 55,
   "metadata": {},
   "outputs": [],
   "source": [
    "combos = pd.DataFrame(combinations, columns=['item_id', 'shop_id', 'date_block_num'])"
   ]
  },
  {
   "cell_type": "code",
   "execution_count": 56,
   "metadata": {},
   "outputs": [],
   "source": [
    "combos_test = pd.DataFrame(combinations_test, columns=['item_id', 'shop_id', 'date_block_num'])"
   ]
  },
  {
   "cell_type": "code",
   "execution_count": 119,
   "metadata": {},
   "outputs": [],
   "source": [
    "combos = pd.DataFrame(grid, columns=[ 'shop_id', 'item_id', 'date_block_num'])"
   ]
  },
  {
   "cell_type": "code",
   "execution_count": 57,
   "metadata": {},
   "outputs": [
    {
     "data": {
      "text/plain": [
       "{12: {'month': 1, 'year': 2014},\n",
       " 13: {'month': 2, 'year': 2014},\n",
       " 14: {'month': 3, 'year': 2014},\n",
       " 15: {'month': 4, 'year': 2014},\n",
       " 16: {'month': 5, 'year': 2014},\n",
       " 17: {'month': 6, 'year': 2014},\n",
       " 18: {'month': 7, 'year': 2014},\n",
       " 19: {'month': 8, 'year': 2014},\n",
       " 20: {'month': 9, 'year': 2014},\n",
       " 21: {'month': 10, 'year': 2014},\n",
       " 22: {'month': 11, 'year': 2014},\n",
       " 23: {'month': 12, 'year': 2014},\n",
       " 24: {'month': 1, 'year': 2015},\n",
       " 25: {'month': 2, 'year': 2015},\n",
       " 26: {'month': 3, 'year': 2015},\n",
       " 27: {'month': 4, 'year': 2015},\n",
       " 28: {'month': 5, 'year': 2015},\n",
       " 29: {'month': 6, 'year': 2015},\n",
       " 30: {'month': 7, 'year': 2015},\n",
       " 31: {'month': 8, 'year': 2015},\n",
       " 32: {'month': 9, 'year': 2015},\n",
       " 33: {'month': 10, 'year': 2015}}"
      ]
     },
     "execution_count": 57,
     "metadata": {},
     "output_type": "execute_result"
    }
   ],
   "source": [
    "dates = transactions[['date_block_num', 'month', 'year']].drop_duplicates(['date_block_num', 'month', 'year'])\n",
    "\n",
    "dates_dict = {}\n",
    "\n",
    "for index,row in dates.iterrows():\n",
    "    dates_dict[row['date_block_num']] = {\"month\": row['month'], \"year\": row['year']}\n",
    "    \n",
    "dates_dict"
   ]
  },
  {
   "cell_type": "code",
   "execution_count": 120,
   "metadata": {},
   "outputs": [],
   "source": [
    "combos['y'] = 0\n",
    "combos['date'] = 0\n",
    "combos['item_price'] = 0\n",
    "combos['item_cnt_day'] = 0\n",
    "combos['day'] = 0\n",
    "\n",
    "combos['month'] = combos['date_block_num'].apply(lambda block: dates_dict[block]['month'])\n",
    "combos['year'] = combos['date_block_num'].apply(lambda block: dates_dict[block]['year'])"
   ]
  },
  {
   "cell_type": "code",
   "execution_count": 59,
   "metadata": {},
   "outputs": [],
   "source": [
    "combos_test['y'] = 0\n",
    "combos_test['date'] = 0\n",
    "combos_test['item_price'] = 0\n",
    "combos_test['item_cnt_day'] = 0\n",
    "combos_test['day'] = 0\n",
    "\n",
    "combos_test['month'] = combos['date_block_num'].apply(lambda block: dates_dict[block]['month'])\n",
    "combos_test['year'] = combos['date_block_num'].apply(lambda block: dates_dict[block]['year'])"
   ]
  },
  {
   "cell_type": "code",
   "execution_count": 60,
   "metadata": {},
   "outputs": [
    {
     "name": "stderr",
     "output_type": "stream",
     "text": [
      "/opt/conda/lib/python3.6/site-packages/ipykernel_launcher.py:1: FutureWarning: Sorting because non-concatenation axis is not aligned. A future version\n",
      "of pandas will change to not sort by default.\n",
      "\n",
      "To accept the future behavior, pass 'sort=False'.\n",
      "\n",
      "To retain the current behavior and silence the warning, pass 'sort=True'.\n",
      "\n",
      "  \"\"\"Entry point for launching an IPython kernel.\n"
     ]
    }
   ],
   "source": [
    "concatenated = pd.concat([transactions, combos, combos_test]).reset_index()"
   ]
  },
  {
   "cell_type": "code",
   "execution_count": 121,
   "metadata": {},
   "outputs": [
    {
     "name": "stderr",
     "output_type": "stream",
     "text": [
      "/opt/conda/lib/python3.6/site-packages/ipykernel_launcher.py:1: FutureWarning: Sorting because non-concatenation axis is not aligned. A future version\n",
      "of pandas will change to not sort by default.\n",
      "\n",
      "To accept the future behavior, pass 'sort=False'.\n",
      "\n",
      "To retain the current behavior and silence the warning, pass 'sort=True'.\n",
      "\n",
      "  \"\"\"Entry point for launching an IPython kernel.\n"
     ]
    }
   ],
   "source": [
    "concatenated = pd.concat([transactions, combos]).reset_index()"
   ]
  },
  {
   "cell_type": "code",
   "execution_count": 16,
   "metadata": {},
   "outputs": [
    {
     "data": {
      "text/html": [
       "<div>\n",
       "<style scoped>\n",
       "    .dataframe tbody tr th:only-of-type {\n",
       "        vertical-align: middle;\n",
       "    }\n",
       "\n",
       "    .dataframe tbody tr th {\n",
       "        vertical-align: top;\n",
       "    }\n",
       "\n",
       "    .dataframe thead th {\n",
       "        text-align: right;\n",
       "    }\n",
       "</style>\n",
       "<table border=\"1\" class=\"dataframe\">\n",
       "  <thead>\n",
       "    <tr style=\"text-align: right;\">\n",
       "      <th></th>\n",
       "      <th>index</th>\n",
       "      <th>date</th>\n",
       "      <th>date_block_num</th>\n",
       "      <th>day</th>\n",
       "      <th>item_cnt_day</th>\n",
       "      <th>item_id</th>\n",
       "      <th>item_price</th>\n",
       "      <th>month</th>\n",
       "      <th>shop_id</th>\n",
       "      <th>y</th>\n",
       "      <th>year</th>\n",
       "    </tr>\n",
       "  </thead>\n",
       "  <tbody>\n",
       "    <tr>\n",
       "      <th>18340</th>\n",
       "      <td>1304858</td>\n",
       "      <td>20.01.2014</td>\n",
       "      <td>12</td>\n",
       "      <td>20</td>\n",
       "      <td>1.0</td>\n",
       "      <td>30</td>\n",
       "      <td>169.0</td>\n",
       "      <td>1</td>\n",
       "      <td>30</td>\n",
       "      <td>1.0</td>\n",
       "      <td>2014</td>\n",
       "    </tr>\n",
       "    <tr>\n",
       "      <th>62915</th>\n",
       "      <td>1386701</td>\n",
       "      <td>05.02.2014</td>\n",
       "      <td>13</td>\n",
       "      <td>5</td>\n",
       "      <td>1.0</td>\n",
       "      <td>30</td>\n",
       "      <td>169.0</td>\n",
       "      <td>2</td>\n",
       "      <td>30</td>\n",
       "      <td>1.0</td>\n",
       "      <td>2014</td>\n",
       "    </tr>\n",
       "    <tr>\n",
       "      <th>189692</th>\n",
       "      <td>1617912</td>\n",
       "      <td>18.04.2014</td>\n",
       "      <td>15</td>\n",
       "      <td>18</td>\n",
       "      <td>1.0</td>\n",
       "      <td>30</td>\n",
       "      <td>169.0</td>\n",
       "      <td>4</td>\n",
       "      <td>30</td>\n",
       "      <td>2.0</td>\n",
       "      <td>2014</td>\n",
       "    </tr>\n",
       "    <tr>\n",
       "      <th>247274</th>\n",
       "      <td>1718226</td>\n",
       "      <td>07.06.2014</td>\n",
       "      <td>17</td>\n",
       "      <td>7</td>\n",
       "      <td>1.0</td>\n",
       "      <td>30</td>\n",
       "      <td>169.0</td>\n",
       "      <td>6</td>\n",
       "      <td>30</td>\n",
       "      <td>1.0</td>\n",
       "      <td>2014</td>\n",
       "    </tr>\n",
       "    <tr>\n",
       "      <th>404913</th>\n",
       "      <td>1999587</td>\n",
       "      <td>20.09.2014</td>\n",
       "      <td>20</td>\n",
       "      <td>20</td>\n",
       "      <td>1.0</td>\n",
       "      <td>30</td>\n",
       "      <td>169.0</td>\n",
       "      <td>9</td>\n",
       "      <td>30</td>\n",
       "      <td>1.0</td>\n",
       "      <td>2014</td>\n",
       "    </tr>\n",
       "    <tr>\n",
       "      <th>424223</th>\n",
       "      <td>2035880</td>\n",
       "      <td>28.10.2014</td>\n",
       "      <td>21</td>\n",
       "      <td>28</td>\n",
       "      <td>1.0</td>\n",
       "      <td>30</td>\n",
       "      <td>169.0</td>\n",
       "      <td>10</td>\n",
       "      <td>30</td>\n",
       "      <td>2.0</td>\n",
       "      <td>2014</td>\n",
       "    </tr>\n",
       "    <tr>\n",
       "      <th>467294</th>\n",
       "      <td>2115050</td>\n",
       "      <td>27.11.2014</td>\n",
       "      <td>22</td>\n",
       "      <td>27</td>\n",
       "      <td>1.0</td>\n",
       "      <td>30</td>\n",
       "      <td>169.0</td>\n",
       "      <td>11</td>\n",
       "      <td>30</td>\n",
       "      <td>1.0</td>\n",
       "      <td>2014</td>\n",
       "    </tr>\n",
       "    <tr>\n",
       "      <th>595763</th>\n",
       "      <td>2375516</td>\n",
       "      <td>07.01.2015</td>\n",
       "      <td>24</td>\n",
       "      <td>7</td>\n",
       "      <td>1.0</td>\n",
       "      <td>30</td>\n",
       "      <td>169.0</td>\n",
       "      <td>1</td>\n",
       "      <td>30</td>\n",
       "      <td>1.0</td>\n",
       "      <td>2015</td>\n",
       "    </tr>\n",
       "    <tr>\n",
       "      <th>3086178</th>\n",
       "      <td>2164778</td>\n",
       "      <td>0</td>\n",
       "      <td>12</td>\n",
       "      <td>0</td>\n",
       "      <td>0.0</td>\n",
       "      <td>30</td>\n",
       "      <td>0.0</td>\n",
       "      <td>1</td>\n",
       "      <td>30</td>\n",
       "      <td>0.0</td>\n",
       "      <td>2014</td>\n",
       "    </tr>\n",
       "    <tr>\n",
       "      <th>3086179</th>\n",
       "      <td>2164779</td>\n",
       "      <td>0</td>\n",
       "      <td>13</td>\n",
       "      <td>0</td>\n",
       "      <td>0.0</td>\n",
       "      <td>30</td>\n",
       "      <td>0.0</td>\n",
       "      <td>2</td>\n",
       "      <td>30</td>\n",
       "      <td>0.0</td>\n",
       "      <td>2014</td>\n",
       "    </tr>\n",
       "    <tr>\n",
       "      <th>3086180</th>\n",
       "      <td>2164780</td>\n",
       "      <td>0</td>\n",
       "      <td>14</td>\n",
       "      <td>0</td>\n",
       "      <td>0.0</td>\n",
       "      <td>30</td>\n",
       "      <td>0.0</td>\n",
       "      <td>3</td>\n",
       "      <td>30</td>\n",
       "      <td>0.0</td>\n",
       "      <td>2014</td>\n",
       "    </tr>\n",
       "    <tr>\n",
       "      <th>3086181</th>\n",
       "      <td>2164781</td>\n",
       "      <td>0</td>\n",
       "      <td>15</td>\n",
       "      <td>0</td>\n",
       "      <td>0.0</td>\n",
       "      <td>30</td>\n",
       "      <td>0.0</td>\n",
       "      <td>4</td>\n",
       "      <td>30</td>\n",
       "      <td>0.0</td>\n",
       "      <td>2014</td>\n",
       "    </tr>\n",
       "    <tr>\n",
       "      <th>3086182</th>\n",
       "      <td>2164782</td>\n",
       "      <td>0</td>\n",
       "      <td>16</td>\n",
       "      <td>0</td>\n",
       "      <td>0.0</td>\n",
       "      <td>30</td>\n",
       "      <td>0.0</td>\n",
       "      <td>5</td>\n",
       "      <td>30</td>\n",
       "      <td>0.0</td>\n",
       "      <td>2014</td>\n",
       "    </tr>\n",
       "    <tr>\n",
       "      <th>3086183</th>\n",
       "      <td>2164783</td>\n",
       "      <td>0</td>\n",
       "      <td>17</td>\n",
       "      <td>0</td>\n",
       "      <td>0.0</td>\n",
       "      <td>30</td>\n",
       "      <td>0.0</td>\n",
       "      <td>6</td>\n",
       "      <td>30</td>\n",
       "      <td>0.0</td>\n",
       "      <td>2014</td>\n",
       "    </tr>\n",
       "    <tr>\n",
       "      <th>3086184</th>\n",
       "      <td>2164784</td>\n",
       "      <td>0</td>\n",
       "      <td>18</td>\n",
       "      <td>0</td>\n",
       "      <td>0.0</td>\n",
       "      <td>30</td>\n",
       "      <td>0.0</td>\n",
       "      <td>7</td>\n",
       "      <td>30</td>\n",
       "      <td>0.0</td>\n",
       "      <td>2014</td>\n",
       "    </tr>\n",
       "    <tr>\n",
       "      <th>3086185</th>\n",
       "      <td>2164785</td>\n",
       "      <td>0</td>\n",
       "      <td>19</td>\n",
       "      <td>0</td>\n",
       "      <td>0.0</td>\n",
       "      <td>30</td>\n",
       "      <td>0.0</td>\n",
       "      <td>8</td>\n",
       "      <td>30</td>\n",
       "      <td>0.0</td>\n",
       "      <td>2014</td>\n",
       "    </tr>\n",
       "    <tr>\n",
       "      <th>3086186</th>\n",
       "      <td>2164786</td>\n",
       "      <td>0</td>\n",
       "      <td>20</td>\n",
       "      <td>0</td>\n",
       "      <td>0.0</td>\n",
       "      <td>30</td>\n",
       "      <td>0.0</td>\n",
       "      <td>9</td>\n",
       "      <td>30</td>\n",
       "      <td>0.0</td>\n",
       "      <td>2014</td>\n",
       "    </tr>\n",
       "    <tr>\n",
       "      <th>3086187</th>\n",
       "      <td>2164787</td>\n",
       "      <td>0</td>\n",
       "      <td>21</td>\n",
       "      <td>0</td>\n",
       "      <td>0.0</td>\n",
       "      <td>30</td>\n",
       "      <td>0.0</td>\n",
       "      <td>10</td>\n",
       "      <td>30</td>\n",
       "      <td>0.0</td>\n",
       "      <td>2014</td>\n",
       "    </tr>\n",
       "    <tr>\n",
       "      <th>3086188</th>\n",
       "      <td>2164788</td>\n",
       "      <td>0</td>\n",
       "      <td>22</td>\n",
       "      <td>0</td>\n",
       "      <td>0.0</td>\n",
       "      <td>30</td>\n",
       "      <td>0.0</td>\n",
       "      <td>11</td>\n",
       "      <td>30</td>\n",
       "      <td>0.0</td>\n",
       "      <td>2014</td>\n",
       "    </tr>\n",
       "    <tr>\n",
       "      <th>3086189</th>\n",
       "      <td>2164789</td>\n",
       "      <td>0</td>\n",
       "      <td>23</td>\n",
       "      <td>0</td>\n",
       "      <td>0.0</td>\n",
       "      <td>30</td>\n",
       "      <td>0.0</td>\n",
       "      <td>12</td>\n",
       "      <td>30</td>\n",
       "      <td>0.0</td>\n",
       "      <td>2014</td>\n",
       "    </tr>\n",
       "    <tr>\n",
       "      <th>3086190</th>\n",
       "      <td>2164790</td>\n",
       "      <td>0</td>\n",
       "      <td>24</td>\n",
       "      <td>0</td>\n",
       "      <td>0.0</td>\n",
       "      <td>30</td>\n",
       "      <td>0.0</td>\n",
       "      <td>1</td>\n",
       "      <td>30</td>\n",
       "      <td>0.0</td>\n",
       "      <td>2015</td>\n",
       "    </tr>\n",
       "    <tr>\n",
       "      <th>3086191</th>\n",
       "      <td>2164791</td>\n",
       "      <td>0</td>\n",
       "      <td>25</td>\n",
       "      <td>0</td>\n",
       "      <td>0.0</td>\n",
       "      <td>30</td>\n",
       "      <td>0.0</td>\n",
       "      <td>2</td>\n",
       "      <td>30</td>\n",
       "      <td>0.0</td>\n",
       "      <td>2015</td>\n",
       "    </tr>\n",
       "    <tr>\n",
       "      <th>3086192</th>\n",
       "      <td>2164792</td>\n",
       "      <td>0</td>\n",
       "      <td>26</td>\n",
       "      <td>0</td>\n",
       "      <td>0.0</td>\n",
       "      <td>30</td>\n",
       "      <td>0.0</td>\n",
       "      <td>3</td>\n",
       "      <td>30</td>\n",
       "      <td>0.0</td>\n",
       "      <td>2015</td>\n",
       "    </tr>\n",
       "    <tr>\n",
       "      <th>3086193</th>\n",
       "      <td>2164793</td>\n",
       "      <td>0</td>\n",
       "      <td>27</td>\n",
       "      <td>0</td>\n",
       "      <td>0.0</td>\n",
       "      <td>30</td>\n",
       "      <td>0.0</td>\n",
       "      <td>4</td>\n",
       "      <td>30</td>\n",
       "      <td>0.0</td>\n",
       "      <td>2015</td>\n",
       "    </tr>\n",
       "    <tr>\n",
       "      <th>3086194</th>\n",
       "      <td>2164794</td>\n",
       "      <td>0</td>\n",
       "      <td>28</td>\n",
       "      <td>0</td>\n",
       "      <td>0.0</td>\n",
       "      <td>30</td>\n",
       "      <td>0.0</td>\n",
       "      <td>5</td>\n",
       "      <td>30</td>\n",
       "      <td>0.0</td>\n",
       "      <td>2015</td>\n",
       "    </tr>\n",
       "    <tr>\n",
       "      <th>3086195</th>\n",
       "      <td>2164795</td>\n",
       "      <td>0</td>\n",
       "      <td>29</td>\n",
       "      <td>0</td>\n",
       "      <td>0.0</td>\n",
       "      <td>30</td>\n",
       "      <td>0.0</td>\n",
       "      <td>6</td>\n",
       "      <td>30</td>\n",
       "      <td>0.0</td>\n",
       "      <td>2015</td>\n",
       "    </tr>\n",
       "    <tr>\n",
       "      <th>3086196</th>\n",
       "      <td>2164796</td>\n",
       "      <td>0</td>\n",
       "      <td>30</td>\n",
       "      <td>0</td>\n",
       "      <td>0.0</td>\n",
       "      <td>30</td>\n",
       "      <td>0.0</td>\n",
       "      <td>7</td>\n",
       "      <td>30</td>\n",
       "      <td>0.0</td>\n",
       "      <td>2015</td>\n",
       "    </tr>\n",
       "    <tr>\n",
       "      <th>3086197</th>\n",
       "      <td>2164797</td>\n",
       "      <td>0</td>\n",
       "      <td>31</td>\n",
       "      <td>0</td>\n",
       "      <td>0.0</td>\n",
       "      <td>30</td>\n",
       "      <td>0.0</td>\n",
       "      <td>8</td>\n",
       "      <td>30</td>\n",
       "      <td>0.0</td>\n",
       "      <td>2015</td>\n",
       "    </tr>\n",
       "    <tr>\n",
       "      <th>3086198</th>\n",
       "      <td>2164798</td>\n",
       "      <td>0</td>\n",
       "      <td>32</td>\n",
       "      <td>0</td>\n",
       "      <td>0.0</td>\n",
       "      <td>30</td>\n",
       "      <td>0.0</td>\n",
       "      <td>9</td>\n",
       "      <td>30</td>\n",
       "      <td>0.0</td>\n",
       "      <td>2015</td>\n",
       "    </tr>\n",
       "    <tr>\n",
       "      <th>3086199</th>\n",
       "      <td>2164799</td>\n",
       "      <td>0</td>\n",
       "      <td>33</td>\n",
       "      <td>0</td>\n",
       "      <td>0.0</td>\n",
       "      <td>30</td>\n",
       "      <td>0.0</td>\n",
       "      <td>10</td>\n",
       "      <td>30</td>\n",
       "      <td>0.0</td>\n",
       "      <td>2015</td>\n",
       "    </tr>\n",
       "  </tbody>\n",
       "</table>\n",
       "</div>"
      ],
      "text/plain": [
       "           index        date  date_block_num  day  item_cnt_day  item_id  \\\n",
       "18340    1304858  20.01.2014              12   20           1.0       30   \n",
       "62915    1386701  05.02.2014              13    5           1.0       30   \n",
       "189692   1617912  18.04.2014              15   18           1.0       30   \n",
       "247274   1718226  07.06.2014              17    7           1.0       30   \n",
       "404913   1999587  20.09.2014              20   20           1.0       30   \n",
       "424223   2035880  28.10.2014              21   28           1.0       30   \n",
       "467294   2115050  27.11.2014              22   27           1.0       30   \n",
       "595763   2375516  07.01.2015              24    7           1.0       30   \n",
       "3086178  2164778           0              12    0           0.0       30   \n",
       "3086179  2164779           0              13    0           0.0       30   \n",
       "3086180  2164780           0              14    0           0.0       30   \n",
       "3086181  2164781           0              15    0           0.0       30   \n",
       "3086182  2164782           0              16    0           0.0       30   \n",
       "3086183  2164783           0              17    0           0.0       30   \n",
       "3086184  2164784           0              18    0           0.0       30   \n",
       "3086185  2164785           0              19    0           0.0       30   \n",
       "3086186  2164786           0              20    0           0.0       30   \n",
       "3086187  2164787           0              21    0           0.0       30   \n",
       "3086188  2164788           0              22    0           0.0       30   \n",
       "3086189  2164789           0              23    0           0.0       30   \n",
       "3086190  2164790           0              24    0           0.0       30   \n",
       "3086191  2164791           0              25    0           0.0       30   \n",
       "3086192  2164792           0              26    0           0.0       30   \n",
       "3086193  2164793           0              27    0           0.0       30   \n",
       "3086194  2164794           0              28    0           0.0       30   \n",
       "3086195  2164795           0              29    0           0.0       30   \n",
       "3086196  2164796           0              30    0           0.0       30   \n",
       "3086197  2164797           0              31    0           0.0       30   \n",
       "3086198  2164798           0              32    0           0.0       30   \n",
       "3086199  2164799           0              33    0           0.0       30   \n",
       "\n",
       "         item_price  month  shop_id    y  year  \n",
       "18340         169.0      1       30  1.0  2014  \n",
       "62915         169.0      2       30  1.0  2014  \n",
       "189692        169.0      4       30  2.0  2014  \n",
       "247274        169.0      6       30  1.0  2014  \n",
       "404913        169.0      9       30  1.0  2014  \n",
       "424223        169.0     10       30  2.0  2014  \n",
       "467294        169.0     11       30  1.0  2014  \n",
       "595763        169.0      1       30  1.0  2015  \n",
       "3086178         0.0      1       30  0.0  2014  \n",
       "3086179         0.0      2       30  0.0  2014  \n",
       "3086180         0.0      3       30  0.0  2014  \n",
       "3086181         0.0      4       30  0.0  2014  \n",
       "3086182         0.0      5       30  0.0  2014  \n",
       "3086183         0.0      6       30  0.0  2014  \n",
       "3086184         0.0      7       30  0.0  2014  \n",
       "3086185         0.0      8       30  0.0  2014  \n",
       "3086186         0.0      9       30  0.0  2014  \n",
       "3086187         0.0     10       30  0.0  2014  \n",
       "3086188         0.0     11       30  0.0  2014  \n",
       "3086189         0.0     12       30  0.0  2014  \n",
       "3086190         0.0      1       30  0.0  2015  \n",
       "3086191         0.0      2       30  0.0  2015  \n",
       "3086192         0.0      3       30  0.0  2015  \n",
       "3086193         0.0      4       30  0.0  2015  \n",
       "3086194         0.0      5       30  0.0  2015  \n",
       "3086195         0.0      6       30  0.0  2015  \n",
       "3086196         0.0      7       30  0.0  2015  \n",
       "3086197         0.0      8       30  0.0  2015  \n",
       "3086198         0.0      9       30  0.0  2015  \n",
       "3086199         0.0     10       30  0.0  2015  "
      ]
     },
     "execution_count": 16,
     "metadata": {},
     "output_type": "execute_result"
    }
   ],
   "source": [
    "concatenated[(concatenated['item_id'] == 30) & (concatenated['shop_id'] == 30)]"
   ]
  },
  {
   "cell_type": "code",
   "execution_count": 16,
   "metadata": {},
   "outputs": [],
   "source": [
    "import pickle as pickle\n",
    "\n",
    "pickle.dump(concatenated, open( \"concatenated\", \"wb\"))\n",
    "\n",
    "#concatenated = pickle.load( open( \"concatenated\", \"rb\" ) )"
   ]
  },
  {
   "cell_type": "code",
   "execution_count": 122,
   "metadata": {},
   "outputs": [],
   "source": [
    "concatenated = concatenated.drop_duplicates(['item_id', 'shop_id', 'month', 'year'], keep=\"first\")"
   ]
  },
  {
   "cell_type": "code",
   "execution_count": 19,
   "metadata": {},
   "outputs": [
    {
     "data": {
      "text/html": [
       "<div>\n",
       "<style scoped>\n",
       "    .dataframe tbody tr th:only-of-type {\n",
       "        vertical-align: middle;\n",
       "    }\n",
       "\n",
       "    .dataframe tbody tr th {\n",
       "        vertical-align: top;\n",
       "    }\n",
       "\n",
       "    .dataframe thead th {\n",
       "        text-align: right;\n",
       "    }\n",
       "</style>\n",
       "<table border=\"1\" class=\"dataframe\">\n",
       "  <thead>\n",
       "    <tr style=\"text-align: right;\">\n",
       "      <th></th>\n",
       "      <th>index</th>\n",
       "      <th>date</th>\n",
       "      <th>date_block_num</th>\n",
       "      <th>day</th>\n",
       "      <th>item_cnt_day</th>\n",
       "      <th>item_id</th>\n",
       "      <th>item_price</th>\n",
       "      <th>month</th>\n",
       "      <th>shop_id</th>\n",
       "      <th>y</th>\n",
       "      <th>year</th>\n",
       "    </tr>\n",
       "  </thead>\n",
       "  <tbody>\n",
       "    <tr>\n",
       "      <th>18340</th>\n",
       "      <td>1304858</td>\n",
       "      <td>20.01.2014</td>\n",
       "      <td>12</td>\n",
       "      <td>20</td>\n",
       "      <td>1.0</td>\n",
       "      <td>30</td>\n",
       "      <td>169.0</td>\n",
       "      <td>1</td>\n",
       "      <td>30</td>\n",
       "      <td>1.0</td>\n",
       "      <td>2014</td>\n",
       "    </tr>\n",
       "    <tr>\n",
       "      <th>62915</th>\n",
       "      <td>1386701</td>\n",
       "      <td>05.02.2014</td>\n",
       "      <td>13</td>\n",
       "      <td>5</td>\n",
       "      <td>1.0</td>\n",
       "      <td>30</td>\n",
       "      <td>169.0</td>\n",
       "      <td>2</td>\n",
       "      <td>30</td>\n",
       "      <td>1.0</td>\n",
       "      <td>2014</td>\n",
       "    </tr>\n",
       "    <tr>\n",
       "      <th>189692</th>\n",
       "      <td>1617912</td>\n",
       "      <td>18.04.2014</td>\n",
       "      <td>15</td>\n",
       "      <td>18</td>\n",
       "      <td>1.0</td>\n",
       "      <td>30</td>\n",
       "      <td>169.0</td>\n",
       "      <td>4</td>\n",
       "      <td>30</td>\n",
       "      <td>2.0</td>\n",
       "      <td>2014</td>\n",
       "    </tr>\n",
       "    <tr>\n",
       "      <th>247274</th>\n",
       "      <td>1718226</td>\n",
       "      <td>07.06.2014</td>\n",
       "      <td>17</td>\n",
       "      <td>7</td>\n",
       "      <td>1.0</td>\n",
       "      <td>30</td>\n",
       "      <td>169.0</td>\n",
       "      <td>6</td>\n",
       "      <td>30</td>\n",
       "      <td>1.0</td>\n",
       "      <td>2014</td>\n",
       "    </tr>\n",
       "    <tr>\n",
       "      <th>404913</th>\n",
       "      <td>1999587</td>\n",
       "      <td>20.09.2014</td>\n",
       "      <td>20</td>\n",
       "      <td>20</td>\n",
       "      <td>1.0</td>\n",
       "      <td>30</td>\n",
       "      <td>169.0</td>\n",
       "      <td>9</td>\n",
       "      <td>30</td>\n",
       "      <td>1.0</td>\n",
       "      <td>2014</td>\n",
       "    </tr>\n",
       "    <tr>\n",
       "      <th>424223</th>\n",
       "      <td>2035880</td>\n",
       "      <td>28.10.2014</td>\n",
       "      <td>21</td>\n",
       "      <td>28</td>\n",
       "      <td>1.0</td>\n",
       "      <td>30</td>\n",
       "      <td>169.0</td>\n",
       "      <td>10</td>\n",
       "      <td>30</td>\n",
       "      <td>2.0</td>\n",
       "      <td>2014</td>\n",
       "    </tr>\n",
       "    <tr>\n",
       "      <th>467294</th>\n",
       "      <td>2115050</td>\n",
       "      <td>27.11.2014</td>\n",
       "      <td>22</td>\n",
       "      <td>27</td>\n",
       "      <td>1.0</td>\n",
       "      <td>30</td>\n",
       "      <td>169.0</td>\n",
       "      <td>11</td>\n",
       "      <td>30</td>\n",
       "      <td>1.0</td>\n",
       "      <td>2014</td>\n",
       "    </tr>\n",
       "    <tr>\n",
       "      <th>595763</th>\n",
       "      <td>2375516</td>\n",
       "      <td>07.01.2015</td>\n",
       "      <td>24</td>\n",
       "      <td>7</td>\n",
       "      <td>1.0</td>\n",
       "      <td>30</td>\n",
       "      <td>169.0</td>\n",
       "      <td>1</td>\n",
       "      <td>30</td>\n",
       "      <td>1.0</td>\n",
       "      <td>2015</td>\n",
       "    </tr>\n",
       "    <tr>\n",
       "      <th>3086180</th>\n",
       "      <td>2164780</td>\n",
       "      <td>0</td>\n",
       "      <td>14</td>\n",
       "      <td>0</td>\n",
       "      <td>0.0</td>\n",
       "      <td>30</td>\n",
       "      <td>0.0</td>\n",
       "      <td>3</td>\n",
       "      <td>30</td>\n",
       "      <td>0.0</td>\n",
       "      <td>2014</td>\n",
       "    </tr>\n",
       "    <tr>\n",
       "      <th>3086182</th>\n",
       "      <td>2164782</td>\n",
       "      <td>0</td>\n",
       "      <td>16</td>\n",
       "      <td>0</td>\n",
       "      <td>0.0</td>\n",
       "      <td>30</td>\n",
       "      <td>0.0</td>\n",
       "      <td>5</td>\n",
       "      <td>30</td>\n",
       "      <td>0.0</td>\n",
       "      <td>2014</td>\n",
       "    </tr>\n",
       "    <tr>\n",
       "      <th>3086184</th>\n",
       "      <td>2164784</td>\n",
       "      <td>0</td>\n",
       "      <td>18</td>\n",
       "      <td>0</td>\n",
       "      <td>0.0</td>\n",
       "      <td>30</td>\n",
       "      <td>0.0</td>\n",
       "      <td>7</td>\n",
       "      <td>30</td>\n",
       "      <td>0.0</td>\n",
       "      <td>2014</td>\n",
       "    </tr>\n",
       "    <tr>\n",
       "      <th>3086185</th>\n",
       "      <td>2164785</td>\n",
       "      <td>0</td>\n",
       "      <td>19</td>\n",
       "      <td>0</td>\n",
       "      <td>0.0</td>\n",
       "      <td>30</td>\n",
       "      <td>0.0</td>\n",
       "      <td>8</td>\n",
       "      <td>30</td>\n",
       "      <td>0.0</td>\n",
       "      <td>2014</td>\n",
       "    </tr>\n",
       "    <tr>\n",
       "      <th>3086189</th>\n",
       "      <td>2164789</td>\n",
       "      <td>0</td>\n",
       "      <td>23</td>\n",
       "      <td>0</td>\n",
       "      <td>0.0</td>\n",
       "      <td>30</td>\n",
       "      <td>0.0</td>\n",
       "      <td>12</td>\n",
       "      <td>30</td>\n",
       "      <td>0.0</td>\n",
       "      <td>2014</td>\n",
       "    </tr>\n",
       "    <tr>\n",
       "      <th>3086191</th>\n",
       "      <td>2164791</td>\n",
       "      <td>0</td>\n",
       "      <td>25</td>\n",
       "      <td>0</td>\n",
       "      <td>0.0</td>\n",
       "      <td>30</td>\n",
       "      <td>0.0</td>\n",
       "      <td>2</td>\n",
       "      <td>30</td>\n",
       "      <td>0.0</td>\n",
       "      <td>2015</td>\n",
       "    </tr>\n",
       "    <tr>\n",
       "      <th>3086192</th>\n",
       "      <td>2164792</td>\n",
       "      <td>0</td>\n",
       "      <td>26</td>\n",
       "      <td>0</td>\n",
       "      <td>0.0</td>\n",
       "      <td>30</td>\n",
       "      <td>0.0</td>\n",
       "      <td>3</td>\n",
       "      <td>30</td>\n",
       "      <td>0.0</td>\n",
       "      <td>2015</td>\n",
       "    </tr>\n",
       "    <tr>\n",
       "      <th>3086193</th>\n",
       "      <td>2164793</td>\n",
       "      <td>0</td>\n",
       "      <td>27</td>\n",
       "      <td>0</td>\n",
       "      <td>0.0</td>\n",
       "      <td>30</td>\n",
       "      <td>0.0</td>\n",
       "      <td>4</td>\n",
       "      <td>30</td>\n",
       "      <td>0.0</td>\n",
       "      <td>2015</td>\n",
       "    </tr>\n",
       "    <tr>\n",
       "      <th>3086194</th>\n",
       "      <td>2164794</td>\n",
       "      <td>0</td>\n",
       "      <td>28</td>\n",
       "      <td>0</td>\n",
       "      <td>0.0</td>\n",
       "      <td>30</td>\n",
       "      <td>0.0</td>\n",
       "      <td>5</td>\n",
       "      <td>30</td>\n",
       "      <td>0.0</td>\n",
       "      <td>2015</td>\n",
       "    </tr>\n",
       "    <tr>\n",
       "      <th>3086195</th>\n",
       "      <td>2164795</td>\n",
       "      <td>0</td>\n",
       "      <td>29</td>\n",
       "      <td>0</td>\n",
       "      <td>0.0</td>\n",
       "      <td>30</td>\n",
       "      <td>0.0</td>\n",
       "      <td>6</td>\n",
       "      <td>30</td>\n",
       "      <td>0.0</td>\n",
       "      <td>2015</td>\n",
       "    </tr>\n",
       "    <tr>\n",
       "      <th>3086196</th>\n",
       "      <td>2164796</td>\n",
       "      <td>0</td>\n",
       "      <td>30</td>\n",
       "      <td>0</td>\n",
       "      <td>0.0</td>\n",
       "      <td>30</td>\n",
       "      <td>0.0</td>\n",
       "      <td>7</td>\n",
       "      <td>30</td>\n",
       "      <td>0.0</td>\n",
       "      <td>2015</td>\n",
       "    </tr>\n",
       "    <tr>\n",
       "      <th>3086197</th>\n",
       "      <td>2164797</td>\n",
       "      <td>0</td>\n",
       "      <td>31</td>\n",
       "      <td>0</td>\n",
       "      <td>0.0</td>\n",
       "      <td>30</td>\n",
       "      <td>0.0</td>\n",
       "      <td>8</td>\n",
       "      <td>30</td>\n",
       "      <td>0.0</td>\n",
       "      <td>2015</td>\n",
       "    </tr>\n",
       "    <tr>\n",
       "      <th>3086198</th>\n",
       "      <td>2164798</td>\n",
       "      <td>0</td>\n",
       "      <td>32</td>\n",
       "      <td>0</td>\n",
       "      <td>0.0</td>\n",
       "      <td>30</td>\n",
       "      <td>0.0</td>\n",
       "      <td>9</td>\n",
       "      <td>30</td>\n",
       "      <td>0.0</td>\n",
       "      <td>2015</td>\n",
       "    </tr>\n",
       "    <tr>\n",
       "      <th>3086199</th>\n",
       "      <td>2164799</td>\n",
       "      <td>0</td>\n",
       "      <td>33</td>\n",
       "      <td>0</td>\n",
       "      <td>0.0</td>\n",
       "      <td>30</td>\n",
       "      <td>0.0</td>\n",
       "      <td>10</td>\n",
       "      <td>30</td>\n",
       "      <td>0.0</td>\n",
       "      <td>2015</td>\n",
       "    </tr>\n",
       "  </tbody>\n",
       "</table>\n",
       "</div>"
      ],
      "text/plain": [
       "           index        date  date_block_num  day  item_cnt_day  item_id  \\\n",
       "18340    1304858  20.01.2014              12   20           1.0       30   \n",
       "62915    1386701  05.02.2014              13    5           1.0       30   \n",
       "189692   1617912  18.04.2014              15   18           1.0       30   \n",
       "247274   1718226  07.06.2014              17    7           1.0       30   \n",
       "404913   1999587  20.09.2014              20   20           1.0       30   \n",
       "424223   2035880  28.10.2014              21   28           1.0       30   \n",
       "467294   2115050  27.11.2014              22   27           1.0       30   \n",
       "595763   2375516  07.01.2015              24    7           1.0       30   \n",
       "3086180  2164780           0              14    0           0.0       30   \n",
       "3086182  2164782           0              16    0           0.0       30   \n",
       "3086184  2164784           0              18    0           0.0       30   \n",
       "3086185  2164785           0              19    0           0.0       30   \n",
       "3086189  2164789           0              23    0           0.0       30   \n",
       "3086191  2164791           0              25    0           0.0       30   \n",
       "3086192  2164792           0              26    0           0.0       30   \n",
       "3086193  2164793           0              27    0           0.0       30   \n",
       "3086194  2164794           0              28    0           0.0       30   \n",
       "3086195  2164795           0              29    0           0.0       30   \n",
       "3086196  2164796           0              30    0           0.0       30   \n",
       "3086197  2164797           0              31    0           0.0       30   \n",
       "3086198  2164798           0              32    0           0.0       30   \n",
       "3086199  2164799           0              33    0           0.0       30   \n",
       "\n",
       "         item_price  month  shop_id    y  year  \n",
       "18340         169.0      1       30  1.0  2014  \n",
       "62915         169.0      2       30  1.0  2014  \n",
       "189692        169.0      4       30  2.0  2014  \n",
       "247274        169.0      6       30  1.0  2014  \n",
       "404913        169.0      9       30  1.0  2014  \n",
       "424223        169.0     10       30  2.0  2014  \n",
       "467294        169.0     11       30  1.0  2014  \n",
       "595763        169.0      1       30  1.0  2015  \n",
       "3086180         0.0      3       30  0.0  2014  \n",
       "3086182         0.0      5       30  0.0  2014  \n",
       "3086184         0.0      7       30  0.0  2014  \n",
       "3086185         0.0      8       30  0.0  2014  \n",
       "3086189         0.0     12       30  0.0  2014  \n",
       "3086191         0.0      2       30  0.0  2015  \n",
       "3086192         0.0      3       30  0.0  2015  \n",
       "3086193         0.0      4       30  0.0  2015  \n",
       "3086194         0.0      5       30  0.0  2015  \n",
       "3086195         0.0      6       30  0.0  2015  \n",
       "3086196         0.0      7       30  0.0  2015  \n",
       "3086197         0.0      8       30  0.0  2015  \n",
       "3086198         0.0      9       30  0.0  2015  \n",
       "3086199         0.0     10       30  0.0  2015  "
      ]
     },
     "execution_count": 19,
     "metadata": {},
     "output_type": "execute_result"
    }
   ],
   "source": [
    "concatenated[(concatenated['item_id'] == 30) & (concatenated['shop_id'] == 30)]"
   ]
  },
  {
   "cell_type": "code",
   "execution_count": 20,
   "metadata": {},
   "outputs": [
    {
     "data": {
      "text/plain": [
       "8333930"
      ]
     },
     "execution_count": 20,
     "metadata": {},
     "output_type": "execute_result"
    }
   ],
   "source": [
    "len(concatenated)"
   ]
  },
  {
   "cell_type": "code",
   "execution_count": 21,
   "metadata": {},
   "outputs": [
    {
     "data": {
      "text/plain": [
       "921400"
      ]
     },
     "execution_count": 21,
     "metadata": {},
     "output_type": "execute_result"
    }
   ],
   "source": [
    "len(transactions)"
   ]
  },
  {
   "cell_type": "code",
   "execution_count": 123,
   "metadata": {},
   "outputs": [],
   "source": [
    "w_cat_ids = concatenated.set_index('item_id').join(items.set_index('item_id'))"
   ]
  },
  {
   "cell_type": "code",
   "execution_count": 124,
   "metadata": {},
   "outputs": [],
   "source": [
    "w_cat_ids['item_mean'] = w_cat_ids.groupby(['item_id'])['y'].transform('mean')\n",
    "w_cat_ids['item_mean_month'] = w_cat_ids.groupby(['item_id', 'date_block_num'])['y'].transform('mean')\n",
    "w_cat_ids['shop_mean_month'] = w_cat_ids.groupby(['shop_id', 'date_block_num'])['y'].transform('mean')\n",
    "w_cat_ids['category_mean_month'] = w_cat_ids.groupby(['item_category_id', 'date_block_num'])['y'].transform('mean')\n",
    "w_cat_ids['shop_category_mean_month'] = w_cat_ids.groupby(['shop_id','item_category_id', 'date_block_num'])['y'].transform('mean')\n",
    "w_cat_ids['item_shop_month'] = w_cat_ids.groupby(['shop_id','item_id', 'date_block_num'])['y'].transform('mean')"
   ]
  },
  {
   "cell_type": "code",
   "execution_count": 125,
   "metadata": {},
   "outputs": [],
   "source": [
    "X = w_cat_ids.reset_index()"
   ]
  },
  {
   "cell_type": "code",
   "execution_count": 126,
   "metadata": {},
   "outputs": [],
   "source": [
    "rollings = X[['item_mean_month', 'date_block_num', 'item_id']].copy()\n",
    "rollings = rollings.drop_duplicates(['item_id', 'date_block_num'])\n",
    "rollings = rollings.set_index(['date_block_num', 'item_id'])\n",
    "a = rollings.sort_values(['item_id', 'date_block_num'])\\\n",
    "        .groupby(['item_id'])['item_mean_month'].shift(1)\n",
    "aa = rollings.sort_values(['item_id', 'date_block_num'])\\\n",
    "        .groupby(['item_id'])['item_mean_month'].shift(3)\n",
    "aaa = rollings.sort_values(['item_id', 'date_block_num'])\\\n",
    "        .groupby(['item_id'])['item_mean_month'].shift(6)\n",
    "aaaa = rollings.sort_values(['item_id', 'date_block_num'])\\\n",
    "        .groupby(['item_id'])['item_mean_month'].shift(2)\n",
    "aaaaa = rollings.sort_values(['item_id', 'date_block_num'])\\\n",
    "        .groupby(['item_id'])['item_mean_month'].shift(12)"
   ]
  },
  {
   "cell_type": "code",
   "execution_count": 127,
   "metadata": {},
   "outputs": [],
   "source": [
    "b = pd.DataFrame(a)\n",
    "b.rename(columns={'item_mean_month': 'item_mean_month_minus_1'}, inplace=True)\n",
    "\n",
    "X = pd.merge(X, b, on=['item_id', 'date_block_num'], how='left')"
   ]
  },
  {
   "cell_type": "code",
   "execution_count": 128,
   "metadata": {},
   "outputs": [],
   "source": [
    "b = pd.DataFrame(aa)\n",
    "b.rename(columns={'item_mean_month': 'item_mean_month_minus_3'}, inplace=True)\n",
    "\n",
    "X = pd.merge(X, b, on=['item_id', 'date_block_num'], how='left')"
   ]
  },
  {
   "cell_type": "code",
   "execution_count": 129,
   "metadata": {},
   "outputs": [],
   "source": [
    "b = pd.DataFrame(aaa)\n",
    "b.rename(columns={'item_mean_month': 'item_mean_month_minus_6'}, inplace=True)\n",
    "\n",
    "X = pd.merge(X, b, on=['item_id', 'date_block_num'], how='left')"
   ]
  },
  {
   "cell_type": "code",
   "execution_count": 130,
   "metadata": {},
   "outputs": [],
   "source": [
    "b = pd.DataFrame(aaaa)\n",
    "b.rename(columns={'item_mean_month': 'item_mean_month_minus_2'}, inplace=True)\n",
    "\n",
    "X = pd.merge(X, b, on=['item_id', 'date_block_num'], how='left')"
   ]
  },
  {
   "cell_type": "code",
   "execution_count": 131,
   "metadata": {},
   "outputs": [],
   "source": [
    "b = pd.DataFrame(aaaaa)\n",
    "b.rename(columns={'item_mean_month': 'item_mean_month_minus_12'}, inplace=True)\n",
    "\n",
    "X = pd.merge(X, b, on=['item_id', 'date_block_num'], how='left')"
   ]
  },
  {
   "cell_type": "code",
   "execution_count": 132,
   "metadata": {},
   "outputs": [],
   "source": [
    "rollings = X[['shop_mean_month', 'date_block_num', 'shop_id']].copy()\n",
    "rollings = rollings.drop_duplicates(['shop_id', 'date_block_num'])\n",
    "rollings = rollings.set_index(['date_block_num', 'shop_id'])\n",
    "a = rollings.sort_values(['shop_id', 'date_block_num'])\\\n",
    "        .groupby(['shop_id'])['shop_mean_month'].shift(1)\n",
    "aa = rollings.sort_values(['shop_id', 'date_block_num'])\\\n",
    "        .groupby(['shop_id'])['shop_mean_month'].shift(3)\n",
    "aaa = rollings.sort_values(['shop_id', 'date_block_num'])\\\n",
    "        .groupby(['shop_id'])['shop_mean_month'].shift(6)\n",
    "aaaa = rollings.sort_values(['shop_id', 'date_block_num'])\\\n",
    "        .groupby(['shop_id'])['shop_mean_month'].shift(2)\n",
    "aaaaa = rollings.sort_values(['shop_id', 'date_block_num'])\\\n",
    "        .groupby(['shop_id'])['shop_mean_month'].shift(12)"
   ]
  },
  {
   "cell_type": "code",
   "execution_count": 133,
   "metadata": {},
   "outputs": [],
   "source": [
    "b = pd.DataFrame(a)\n",
    "b.rename(columns={'shop_mean_month': 'shop_mean_month_minus_1'}, inplace=True)\n",
    "\n",
    "X = pd.merge(X, b, on=['shop_id', 'date_block_num'], how='left')"
   ]
  },
  {
   "cell_type": "code",
   "execution_count": 134,
   "metadata": {},
   "outputs": [],
   "source": [
    "b = pd.DataFrame(aa)\n",
    "b.rename(columns={'shop_mean_month': 'shop_mean_month_minus_3'}, inplace=True)\n",
    "\n",
    "X = pd.merge(X, b, on=['shop_id', 'date_block_num'], how='left')"
   ]
  },
  {
   "cell_type": "code",
   "execution_count": 135,
   "metadata": {},
   "outputs": [],
   "source": [
    "b = pd.DataFrame(aaa)\n",
    "b.rename(columns={'shop_mean_month': 'shop_mean_month_minus_6'}, inplace=True)\n",
    "\n",
    "X = pd.merge(X, b, on=['shop_id', 'date_block_num'], how='left')"
   ]
  },
  {
   "cell_type": "code",
   "execution_count": 136,
   "metadata": {},
   "outputs": [],
   "source": [
    "b = pd.DataFrame(aaaa)\n",
    "b.rename(columns={'shop_mean_month': 'shop_mean_month_minus_2'}, inplace=True)\n",
    "\n",
    "X = pd.merge(X, b, on=['shop_id', 'date_block_num'], how='left')"
   ]
  },
  {
   "cell_type": "code",
   "execution_count": 137,
   "metadata": {},
   "outputs": [],
   "source": [
    "b = pd.DataFrame(aaaaa)\n",
    "b.rename(columns={'shop_mean_month': 'shop_mean_month_minus_12'}, inplace=True)\n",
    "\n",
    "X = pd.merge(X, b, on=['shop_id', 'date_block_num'], how='left')"
   ]
  },
  {
   "cell_type": "code",
   "execution_count": 138,
   "metadata": {},
   "outputs": [
    {
     "data": {
      "text/plain": [
       "158"
      ]
     },
     "execution_count": 138,
     "metadata": {},
     "output_type": "execute_result"
    }
   ],
   "source": [
    "gc.collect()"
   ]
  },
  {
   "cell_type": "code",
   "execution_count": 139,
   "metadata": {},
   "outputs": [],
   "source": [
    "rollings = X[['category_mean_month', 'date_block_num', 'item_category_id']].copy()\n",
    "rollings = rollings.drop_duplicates(['item_category_id', 'date_block_num'])\n",
    "rollings = rollings.set_index(['date_block_num', 'item_category_id'])\n",
    "a = rollings.sort_values(['item_category_id', 'date_block_num'])\\\n",
    "        .groupby(['item_category_id'])['category_mean_month'].shift(1)\n",
    "aa = rollings.sort_values(['item_category_id', 'date_block_num'])\\\n",
    "        .groupby(['item_category_id'])['category_mean_month'].shift(3)\n",
    "aaa = rollings.sort_values(['item_category_id', 'date_block_num'])\\\n",
    "        .groupby(['item_category_id'])['category_mean_month'].shift(6)\n",
    "aaaa = rollings.sort_values(['item_category_id', 'date_block_num'])\\\n",
    "        .groupby(['item_category_id'])['category_mean_month'].shift(2)\n",
    "aaaaa = rollings.sort_values(['item_category_id', 'date_block_num'])\\\n",
    "        .groupby(['item_category_id'])['category_mean_month'].shift(12)"
   ]
  },
  {
   "cell_type": "code",
   "execution_count": 140,
   "metadata": {},
   "outputs": [],
   "source": [
    "b = pd.DataFrame(a)\n",
    "b.rename(columns={'category_mean_month': 'category_mean_month_minus_1'}, inplace=True)\n",
    "\n",
    "X = pd.merge(X, b, on=['item_category_id', 'date_block_num'], how='left')"
   ]
  },
  {
   "cell_type": "code",
   "execution_count": 141,
   "metadata": {},
   "outputs": [],
   "source": [
    "b = pd.DataFrame(aa)\n",
    "b.rename(columns={'category_mean_month': 'category_mean_month_minus_3'}, inplace=True)\n",
    "\n",
    "X = pd.merge(X, b, on=['item_category_id', 'date_block_num'], how='left')"
   ]
  },
  {
   "cell_type": "code",
   "execution_count": 142,
   "metadata": {},
   "outputs": [],
   "source": [
    "b = pd.DataFrame(aaa)\n",
    "b.rename(columns={'category_mean_month': 'category_mean_month_minus_6'}, inplace=True)\n",
    "\n",
    "X = pd.merge(X, b, on=['item_category_id', 'date_block_num'], how='left')"
   ]
  },
  {
   "cell_type": "code",
   "execution_count": 143,
   "metadata": {},
   "outputs": [],
   "source": [
    "b = pd.DataFrame(aaaa)\n",
    "b.rename(columns={'category_mean_month': 'category_mean_month_minus_2'}, inplace=True)\n",
    "\n",
    "X = pd.merge(X, b, on=['item_category_id', 'date_block_num'], how='left')"
   ]
  },
  {
   "cell_type": "code",
   "execution_count": 144,
   "metadata": {},
   "outputs": [],
   "source": [
    "b = pd.DataFrame(aaaaa)\n",
    "b.rename(columns={'category_mean_month': 'category_mean_month_minus_12'}, inplace=True)\n",
    "\n",
    "X = pd.merge(X, b, on=['item_category_id', 'date_block_num'], how='left')"
   ]
  },
  {
   "cell_type": "code",
   "execution_count": 145,
   "metadata": {},
   "outputs": [],
   "source": [
    "rollings = X[['shop_category_mean_month', 'date_block_num', 'shop_id', 'item_category_id']].copy()\n",
    "rollings = rollings.drop_duplicates(['item_category_id', 'shop_id', 'date_block_num'])\n",
    "rollings = rollings.set_index(['date_block_num', 'item_category_id', 'shop_id'])\n",
    "a = rollings.sort_values(['item_category_id', 'shop_id', 'date_block_num'])\\\n",
    "        .groupby(['item_category_id', 'shop_id'])['shop_category_mean_month'].shift(1)\n",
    "aa = rollings.sort_values(['item_category_id', 'shop_id', 'date_block_num'])\\\n",
    "        .groupby(['item_category_id', 'shop_id'])['shop_category_mean_month'].shift(3)\n",
    "aaa = rollings.sort_values(['item_category_id', 'shop_id', 'date_block_num'])\\\n",
    "        .groupby(['item_category_id', 'shop_id'])['shop_category_mean_month'].shift(6)\n",
    "aaaa = rollings.sort_values(['item_category_id', 'shop_id', 'date_block_num'])\\\n",
    "        .groupby(['item_category_id', 'shop_id'])['shop_category_mean_month'].shift(2)\n",
    "aaaaa = rollings.sort_values(['item_category_id', 'shop_id', 'date_block_num'])\\\n",
    "        .groupby(['item_category_id', 'shop_id'])['shop_category_mean_month'].shift(12)"
   ]
  },
  {
   "cell_type": "code",
   "execution_count": 146,
   "metadata": {},
   "outputs": [],
   "source": [
    "gc.collect()\n",
    "b = pd.DataFrame(a)\n",
    "b.rename(columns={'shop_category_mean_month': 'shop_category_mean_month_minus_1'}, inplace=True)\n",
    "\n",
    "X = pd.merge(X, b, on=['item_category_id', 'shop_id', 'date_block_num'], how='left')"
   ]
  },
  {
   "cell_type": "code",
   "execution_count": 147,
   "metadata": {},
   "outputs": [],
   "source": [
    "b = pd.DataFrame(aa)\n",
    "b.rename(columns={'shop_category_mean_month': 'shop_category_mean_month_minus_3'}, inplace=True)\n",
    "\n",
    "X = pd.merge(X, b, on=['item_category_id', 'shop_id', 'date_block_num'], how='left')"
   ]
  },
  {
   "cell_type": "code",
   "execution_count": 148,
   "metadata": {},
   "outputs": [],
   "source": [
    "b = pd.DataFrame(aaa)\n",
    "b.rename(columns={'shop_category_mean_month': 'shop_category_mean_month_minus_6'}, inplace=True)\n",
    "\n",
    "X = pd.merge(X, b, on=['item_category_id', 'shop_id', 'date_block_num'], how='left')"
   ]
  },
  {
   "cell_type": "code",
   "execution_count": 149,
   "metadata": {},
   "outputs": [],
   "source": [
    "b = pd.DataFrame(aaaa)\n",
    "b.rename(columns={'shop_category_mean_month': 'shop_category_mean_month_minus_2'}, inplace=True)\n",
    "\n",
    "X = pd.merge(X, b, on=['item_category_id', 'shop_id', 'date_block_num'], how='left')"
   ]
  },
  {
   "cell_type": "code",
   "execution_count": 150,
   "metadata": {},
   "outputs": [],
   "source": [
    "b = pd.DataFrame(aaaaa)\n",
    "b.rename(columns={'shop_category_mean_month': 'shop_category_mean_month_minus_12'}, inplace=True)\n",
    "\n",
    "X = pd.merge(X, b, on=['item_category_id', 'shop_id', 'date_block_num'], how='left')"
   ]
  },
  {
   "cell_type": "code",
   "execution_count": 151,
   "metadata": {},
   "outputs": [],
   "source": [
    "rollings = X[['item_shop_month', 'date_block_num', 'shop_id', 'item_id']].copy()\n",
    "rollings = rollings.drop_duplicates(['item_id', 'shop_id', 'date_block_num'])\n",
    "rollings = rollings.set_index(['date_block_num', 'item_id', 'shop_id'])\n",
    "a = rollings.sort_values(['item_id', 'shop_id', 'date_block_num'])\\\n",
    "        .groupby(['item_id', 'shop_id'])['item_shop_month'].shift(1)\n",
    "aa = rollings.sort_values(['item_id', 'shop_id', 'date_block_num'])\\\n",
    "        .groupby(['item_id', 'shop_id'])['item_shop_month'].shift(3)\n",
    "aaa = rollings.sort_values(['item_id', 'shop_id', 'date_block_num'])\\\n",
    "        .groupby(['item_id', 'shop_id'])['item_shop_month'].shift(6)\n",
    "aaaa = rollings.sort_values(['item_id', 'shop_id', 'date_block_num'])\\\n",
    "        .groupby(['item_id', 'shop_id'])['item_shop_month'].shift(2)\n",
    "aaaaa = rollings.sort_values(['item_id', 'shop_id', 'date_block_num'])\\\n",
    "        .groupby(['item_id', 'shop_id'])['item_shop_month'].shift(12)"
   ]
  },
  {
   "cell_type": "code",
   "execution_count": 152,
   "metadata": {},
   "outputs": [],
   "source": [
    "b = pd.DataFrame(a)\n",
    "b.rename(columns={'item_shop_month': 'item_shop_month_minus_1'}, inplace=True)\n",
    "\n",
    "X = pd.merge(X, b, on=['item_id', 'shop_id', 'date_block_num'], how='left')"
   ]
  },
  {
   "cell_type": "code",
   "execution_count": 153,
   "metadata": {},
   "outputs": [],
   "source": [
    "b = pd.DataFrame(aa)\n",
    "b.rename(columns={'item_shop_month': 'item_shop_month_minus_3'}, inplace=True)\n",
    "\n",
    "X = pd.merge(X, b, on=['item_id', 'shop_id', 'date_block_num'], how='left')"
   ]
  },
  {
   "cell_type": "code",
   "execution_count": 154,
   "metadata": {},
   "outputs": [],
   "source": [
    "b = pd.DataFrame(aaa)\n",
    "b.rename(columns={'item_shop_month': 'item_shop_month_minus_6'}, inplace=True)\n",
    "\n",
    "X = pd.merge(X, b, on=['item_id', 'shop_id', 'date_block_num'], how='left')"
   ]
  },
  {
   "cell_type": "code",
   "execution_count": 155,
   "metadata": {},
   "outputs": [],
   "source": [
    "b = pd.DataFrame(aaaa)\n",
    "b.rename(columns={'item_shop_month': 'item_shop_month_minus_2'}, inplace=True)\n",
    "\n",
    "X = pd.merge(X, b, on=['item_id', 'shop_id', 'date_block_num'], how='left')"
   ]
  },
  {
   "cell_type": "code",
   "execution_count": 156,
   "metadata": {},
   "outputs": [],
   "source": [
    "b = pd.DataFrame(aaaaa)\n",
    "b.rename(columns={'item_shop_month': 'item_shop_month_minus_12'}, inplace=True)\n",
    "\n",
    "X = pd.merge(X, b, on=['item_id', 'shop_id', 'date_block_num'], how='left')"
   ]
  },
  {
   "cell_type": "code",
   "execution_count": 157,
   "metadata": {},
   "outputs": [
    {
     "name": "stdout",
     "output_type": "stream",
     "text": [
      "Average memory usage for float columns: 49.02 MB\n",
      "Average memory usage for int columns: 49.02 MB\n",
      "Average memory usage for object columns: 413.40 MB\n"
     ]
    }
   ],
   "source": [
    "for dtype in ['float','int','object']:\n",
    "    selected_dtype = X.select_dtypes(include=[dtype])\n",
    "    mean_usage_b = selected_dtype.memory_usage(deep=True).mean()\n",
    "    mean_usage_mb = mean_usage_b / 1024 ** 2\n",
    "    print(\"Average memory usage for {} columns: {:03.2f} MB\".format(dtype,mean_usage_mb))"
   ]
  },
  {
   "cell_type": "code",
   "execution_count": 158,
   "metadata": {},
   "outputs": [],
   "source": [
    "X.drop(['item_name', 'date', 'day','item_price'], axis=1, inplace=True)"
   ]
  },
  {
   "cell_type": "code",
   "execution_count": 159,
   "metadata": {},
   "outputs": [
    {
     "name": "stdout",
     "output_type": "stream",
     "text": [
      "392.16 MB\n",
      "122.55 MB\n"
     ]
    },
    {
     "data": {
      "text/html": [
       "<div>\n",
       "<style scoped>\n",
       "    .dataframe tbody tr th:only-of-type {\n",
       "        vertical-align: middle;\n",
       "    }\n",
       "\n",
       "    .dataframe tbody tr th {\n",
       "        vertical-align: top;\n",
       "    }\n",
       "\n",
       "    .dataframe thead th {\n",
       "        text-align: right;\n",
       "    }\n",
       "</style>\n",
       "<table border=\"1\" class=\"dataframe\">\n",
       "  <thead>\n",
       "    <tr style=\"text-align: right;\">\n",
       "      <th></th>\n",
       "      <th>before</th>\n",
       "      <th>after</th>\n",
       "    </tr>\n",
       "  </thead>\n",
       "  <tbody>\n",
       "    <tr>\n",
       "      <th>uint8</th>\n",
       "      <td>NaN</td>\n",
       "      <td>4.0</td>\n",
       "    </tr>\n",
       "    <tr>\n",
       "      <th>uint16</th>\n",
       "      <td>NaN</td>\n",
       "      <td>2.0</td>\n",
       "    </tr>\n",
       "    <tr>\n",
       "      <th>uint32</th>\n",
       "      <td>NaN</td>\n",
       "      <td>1.0</td>\n",
       "    </tr>\n",
       "    <tr>\n",
       "      <th>int64</th>\n",
       "      <td>7.0</td>\n",
       "      <td>NaN</td>\n",
       "    </tr>\n",
       "  </tbody>\n",
       "</table>\n",
       "</div>"
      ],
      "text/plain": [
       "        before  after\n",
       "uint8      NaN    4.0\n",
       "uint16     NaN    2.0\n",
       "uint32     NaN    1.0\n",
       "int64      7.0    NaN"
      ]
     },
     "execution_count": 159,
     "metadata": {},
     "output_type": "execute_result"
    }
   ],
   "source": [
    "def mem_usage(pandas_obj):\n",
    "    if isinstance(pandas_obj,pd.DataFrame):\n",
    "        usage_b = pandas_obj.memory_usage(deep=True).sum()\n",
    "    else: # we assume if not a df it's a series\n",
    "        usage_b = pandas_obj.memory_usage(deep=True)\n",
    "    usage_mb = usage_b / 1024 ** 2 # convert bytes to megabytes\n",
    "    return \"{:03.2f} MB\".format(usage_mb)\n",
    "\n",
    "X_int = X.select_dtypes(include=['int'])\n",
    "converted_int = X_int.apply(pd.to_numeric,downcast='unsigned')\n",
    "\n",
    "print(mem_usage(X_int))\n",
    "print(mem_usage(converted_int))\n",
    "\n",
    "compare_ints = pd.concat([X_int.dtypes,converted_int.dtypes],axis=1)\n",
    "compare_ints.columns = ['before','after']\n",
    "compare_ints.apply(pd.Series.value_counts)"
   ]
  },
  {
   "cell_type": "code",
   "execution_count": 160,
   "metadata": {},
   "outputs": [
    {
     "name": "stdout",
     "output_type": "stream",
     "text": [
      "1666.67 MB\n",
      "857.84 MB\n"
     ]
    },
    {
     "data": {
      "text/html": [
       "<div>\n",
       "<style scoped>\n",
       "    .dataframe tbody tr th:only-of-type {\n",
       "        vertical-align: middle;\n",
       "    }\n",
       "\n",
       "    .dataframe tbody tr th {\n",
       "        vertical-align: top;\n",
       "    }\n",
       "\n",
       "    .dataframe thead th {\n",
       "        text-align: right;\n",
       "    }\n",
       "</style>\n",
       "<table border=\"1\" class=\"dataframe\">\n",
       "  <thead>\n",
       "    <tr style=\"text-align: right;\">\n",
       "      <th></th>\n",
       "      <th>before</th>\n",
       "      <th>after</th>\n",
       "    </tr>\n",
       "  </thead>\n",
       "  <tbody>\n",
       "    <tr>\n",
       "      <th>float32</th>\n",
       "      <td>NaN</td>\n",
       "      <td>33.0</td>\n",
       "    </tr>\n",
       "    <tr>\n",
       "      <th>float64</th>\n",
       "      <td>33.0</td>\n",
       "      <td>NaN</td>\n",
       "    </tr>\n",
       "  </tbody>\n",
       "</table>\n",
       "</div>"
      ],
      "text/plain": [
       "         before  after\n",
       "float32     NaN   33.0\n",
       "float64    33.0    NaN"
      ]
     },
     "execution_count": 160,
     "metadata": {},
     "output_type": "execute_result"
    }
   ],
   "source": [
    "X_float = X.select_dtypes(include=['float'])\n",
    "converted_float = X_float.apply(pd.to_numeric,downcast='float')\n",
    "\n",
    "print(mem_usage(X_float))\n",
    "print(mem_usage(converted_float))\n",
    "\n",
    "compare_floats = pd.concat([X_float.dtypes,converted_float.dtypes],axis=1)\n",
    "compare_floats.columns = ['before','after']\n",
    "compare_floats.apply(pd.Series.value_counts)"
   ]
  },
  {
   "cell_type": "code",
   "execution_count": 161,
   "metadata": {},
   "outputs": [
    {
     "name": "stdout",
     "output_type": "stream",
     "text": [
      "2009.80 MB\n",
      "931.37 MB\n"
     ]
    }
   ],
   "source": [
    "optimized_X = X.copy()\n",
    "\n",
    "optimized_X[converted_int.columns] = converted_int\n",
    "optimized_X[converted_float.columns] = converted_float\n",
    "\n",
    "print(mem_usage(X))\n",
    "print(mem_usage(optimized_X))"
   ]
  },
  {
   "cell_type": "code",
   "execution_count": 162,
   "metadata": {},
   "outputs": [],
   "source": [
    "X = optimized_X"
   ]
  },
  {
   "cell_type": "code",
   "execution_count": 6,
   "metadata": {},
   "outputs": [],
   "source": [
    "#pickle.dump(X, open( \"optimized_X\", \"wb\"))\n",
    "\n",
    "X = pickle.load( open( \"optimized_X\", \"rb\" ) )"
   ]
  },
  {
   "cell_type": "code",
   "execution_count": 163,
   "metadata": {},
   "outputs": [
    {
     "data": {
      "text/plain": [
       "shop_id  item_id  date_block_num\n",
       "30       30       12                     NaN\n",
       "                  13                     NaN\n",
       "                  14                     NaN\n",
       "                  15                0.666667\n",
       "                  16                1.000000\n",
       "                  17                0.666667\n",
       "                  18                1.000000\n",
       "                  19                0.333333\n",
       "                  20                0.333333\n",
       "                  21                0.333333\n",
       "                  22                1.000000\n",
       "                  23                1.333333\n",
       "                  24                1.000000\n",
       "                  25                0.666667\n",
       "Name: item_shop_month, dtype: float64"
      ]
     },
     "execution_count": 163,
     "metadata": {},
     "output_type": "execute_result"
    }
   ],
   "source": [
    "X[(X['item_id'] == 30) & (X['shop_id'] == 30)]\\\n",
    "        .sort_values(['shop_id','item_id','date_block_num'])\\\n",
    "        .groupby(['shop_id','item_id','date_block_num'])\\\n",
    "        ['item_shop_month'].first().rolling(3).mean().shift(1)"
   ]
  },
  {
   "cell_type": "code",
   "execution_count": 164,
   "metadata": {},
   "outputs": [],
   "source": [
    "rollings = X[['item_shop_month', 'date_block_num', 'shop_id', 'item_id']].copy()\n",
    "rollings = rollings.drop_duplicates(['item_id', 'shop_id', 'date_block_num'])\n",
    "rollings = rollings.set_index(['date_block_num', 'item_id', 'shop_id'])\n",
    "a = rollings.sort_values(['item_id', 'shop_id', 'date_block_num'])\\\n",
    "        .groupby(['shop_id','item_id','date_block_num'])['item_shop_month'].first().rolling(3).mean().shift(1)\n"
   ]
  },
  {
   "cell_type": "code",
   "execution_count": 165,
   "metadata": {},
   "outputs": [],
   "source": [
    "b = pd.DataFrame(a)\n",
    "\n",
    "b.rename(columns={'item_shop_month': 'item_shop_month_rolling_3'}, inplace=True)\n",
    "\n",
    "X = pd.merge(X, b, on=['item_id', 'shop_id', 'date_block_num'], how='left')"
   ]
  },
  {
   "cell_type": "code",
   "execution_count": null,
   "metadata": {},
   "outputs": [],
   "source": [
    "X[(X['item_id'] == 30) & (X['shop_id'] == 30)].drop_duplicates(['item_id', 'shop_id', 'date_block_num'])[['item_id', 'shop_id', 'month', 'year', 'item_shop_month', 'item_shop_month_rolling_3']]"
   ]
  },
  {
   "cell_type": "code",
   "execution_count": null,
   "metadata": {},
   "outputs": [],
   "source": [
    "X.columns"
   ]
  },
  {
   "cell_type": "code",
   "execution_count": null,
   "metadata": {},
   "outputs": [],
   "source": [
    "X[(X['item_id'] == 30) & (X['shop_id'] == 30)].drop_duplicates(['item_id', 'shop_id', 'date_block_num'])[['item_id', 'shop_id', 'month', 'year', 'item_shop_month', 'item_shop_month_minus_1', 'item_shop_month_minus_3', 'item_shop_month_minus_6']]"
   ]
  },
  {
   "cell_type": "code",
   "execution_count": null,
   "metadata": {},
   "outputs": [],
   "source": [
    "X[X['item_id'] == 30].drop_duplicates(['item_id', 'date_block_num'])[['item_id', 'month', 'year', 'item_mean_month', 'item_mean_month_minus_1', 'item_mean_month_minus_3', 'item_mean_month_minus_6']]"
   ]
  },
  {
   "cell_type": "code",
   "execution_count": null,
   "metadata": {},
   "outputs": [],
   "source": [
    "X[X['shop_id'] == 30].drop_duplicates(['shop_id', 'date_block_num'])[['shop_id', 'month', 'year', 'shop_mean_month', 'shop_mean_month_minus_1', 'shop_mean_month_minus_3', 'shop_mean_month_minus_6']]"
   ]
  },
  {
   "cell_type": "code",
   "execution_count": null,
   "metadata": {},
   "outputs": [],
   "source": [
    "X[X['item_category_id'] == 30].drop_duplicates(['item_category_id', 'date_block_num'])[['item_category_id', 'month', 'year', 'category_mean_month', 'category_mean_month_minus_1']]"
   ]
  },
  {
   "cell_type": "code",
   "execution_count": null,
   "metadata": {},
   "outputs": [],
   "source": [
    "X[(X['item_category_id'] == 30) & (X['shop_id'] == 30)].drop_duplicates(['item_category_id', 'shop_id', 'date_block_num'])[['item_category_id', 'shop_id' ,  'month', 'year', 'shop_category_mean_month', 'shop_category_mean_month_minus_1']]"
   ]
  },
  {
   "cell_type": "code",
   "execution_count": null,
   "metadata": {},
   "outputs": [],
   "source": [
    "X.columns"
   ]
  },
  {
   "cell_type": "code",
   "execution_count": 141,
   "metadata": {},
   "outputs": [
    {
     "data": {
      "text/html": [
       "<div>\n",
       "<style scoped>\n",
       "    .dataframe tbody tr th:only-of-type {\n",
       "        vertical-align: middle;\n",
       "    }\n",
       "\n",
       "    .dataframe tbody tr th {\n",
       "        vertical-align: top;\n",
       "    }\n",
       "\n",
       "    .dataframe thead th {\n",
       "        text-align: right;\n",
       "    }\n",
       "</style>\n",
       "<table border=\"1\" class=\"dataframe\">\n",
       "  <thead>\n",
       "    <tr style=\"text-align: right;\">\n",
       "      <th></th>\n",
       "      <th>column_name</th>\n",
       "      <th>percent_missing</th>\n",
       "    </tr>\n",
       "  </thead>\n",
       "  <tbody>\n",
       "    <tr>\n",
       "      <th>item_id</th>\n",
       "      <td>item_id</td>\n",
       "      <td>0.000000</td>\n",
       "    </tr>\n",
       "    <tr>\n",
       "      <th>index</th>\n",
       "      <td>index</td>\n",
       "      <td>0.000000</td>\n",
       "    </tr>\n",
       "    <tr>\n",
       "      <th>date</th>\n",
       "      <td>date</td>\n",
       "      <td>0.000000</td>\n",
       "    </tr>\n",
       "    <tr>\n",
       "      <th>date_block_num</th>\n",
       "      <td>date_block_num</td>\n",
       "      <td>0.000000</td>\n",
       "    </tr>\n",
       "    <tr>\n",
       "      <th>day</th>\n",
       "      <td>day</td>\n",
       "      <td>0.000000</td>\n",
       "    </tr>\n",
       "    <tr>\n",
       "      <th>item_cnt_day</th>\n",
       "      <td>item_cnt_day</td>\n",
       "      <td>0.000000</td>\n",
       "    </tr>\n",
       "    <tr>\n",
       "      <th>item_price</th>\n",
       "      <td>item_price</td>\n",
       "      <td>0.000000</td>\n",
       "    </tr>\n",
       "    <tr>\n",
       "      <th>month</th>\n",
       "      <td>month</td>\n",
       "      <td>0.000000</td>\n",
       "    </tr>\n",
       "    <tr>\n",
       "      <th>shop_id</th>\n",
       "      <td>shop_id</td>\n",
       "      <td>0.000000</td>\n",
       "    </tr>\n",
       "    <tr>\n",
       "      <th>y</th>\n",
       "      <td>y</td>\n",
       "      <td>0.000000</td>\n",
       "    </tr>\n",
       "    <tr>\n",
       "      <th>year</th>\n",
       "      <td>year</td>\n",
       "      <td>0.000000</td>\n",
       "    </tr>\n",
       "    <tr>\n",
       "      <th>item_name</th>\n",
       "      <td>item_name</td>\n",
       "      <td>0.000000</td>\n",
       "    </tr>\n",
       "    <tr>\n",
       "      <th>item_category_id</th>\n",
       "      <td>item_category_id</td>\n",
       "      <td>0.000000</td>\n",
       "    </tr>\n",
       "    <tr>\n",
       "      <th>item_mean</th>\n",
       "      <td>item_mean</td>\n",
       "      <td>0.000000</td>\n",
       "    </tr>\n",
       "    <tr>\n",
       "      <th>item_mean_month</th>\n",
       "      <td>item_mean_month</td>\n",
       "      <td>0.000000</td>\n",
       "    </tr>\n",
       "    <tr>\n",
       "      <th>shop_mean_month</th>\n",
       "      <td>shop_mean_month</td>\n",
       "      <td>0.000000</td>\n",
       "    </tr>\n",
       "    <tr>\n",
       "      <th>category_mean_month</th>\n",
       "      <td>category_mean_month</td>\n",
       "      <td>0.000000</td>\n",
       "    </tr>\n",
       "    <tr>\n",
       "      <th>shop_category_mean_month</th>\n",
       "      <td>shop_category_mean_month</td>\n",
       "      <td>0.000000</td>\n",
       "    </tr>\n",
       "    <tr>\n",
       "      <th>item_shop_month</th>\n",
       "      <td>item_shop_month</td>\n",
       "      <td>0.000000</td>\n",
       "    </tr>\n",
       "    <tr>\n",
       "      <th>item_mean_month_minus_1</th>\n",
       "      <td>item_mean_month_minus_1</td>\n",
       "      <td>4.545455</td>\n",
       "    </tr>\n",
       "    <tr>\n",
       "      <th>item_mean_month_minus_3</th>\n",
       "      <td>item_mean_month_minus_3</td>\n",
       "      <td>13.636364</td>\n",
       "    </tr>\n",
       "    <tr>\n",
       "      <th>item_mean_month_minus_6</th>\n",
       "      <td>item_mean_month_minus_6</td>\n",
       "      <td>27.272727</td>\n",
       "    </tr>\n",
       "    <tr>\n",
       "      <th>shop_mean_month_minus_1</th>\n",
       "      <td>shop_mean_month_minus_1</td>\n",
       "      <td>4.545455</td>\n",
       "    </tr>\n",
       "    <tr>\n",
       "      <th>shop_mean_month_minus_3</th>\n",
       "      <td>shop_mean_month_minus_3</td>\n",
       "      <td>13.636364</td>\n",
       "    </tr>\n",
       "    <tr>\n",
       "      <th>shop_mean_month_minus_6</th>\n",
       "      <td>shop_mean_month_minus_6</td>\n",
       "      <td>27.272727</td>\n",
       "    </tr>\n",
       "    <tr>\n",
       "      <th>category_mean_month_minus_1</th>\n",
       "      <td>category_mean_month_minus_1</td>\n",
       "      <td>4.545455</td>\n",
       "    </tr>\n",
       "    <tr>\n",
       "      <th>category_mean_month_minus_3</th>\n",
       "      <td>category_mean_month_minus_3</td>\n",
       "      <td>13.636364</td>\n",
       "    </tr>\n",
       "    <tr>\n",
       "      <th>category_mean_month_minus_6</th>\n",
       "      <td>category_mean_month_minus_6</td>\n",
       "      <td>27.272727</td>\n",
       "    </tr>\n",
       "    <tr>\n",
       "      <th>shop_category_mean_month_minus_1</th>\n",
       "      <td>shop_category_mean_month_minus_1</td>\n",
       "      <td>4.545455</td>\n",
       "    </tr>\n",
       "    <tr>\n",
       "      <th>shop_category_mean_month_minus_3</th>\n",
       "      <td>shop_category_mean_month_minus_3</td>\n",
       "      <td>13.636364</td>\n",
       "    </tr>\n",
       "    <tr>\n",
       "      <th>shop_category_mean_month_minus_6</th>\n",
       "      <td>shop_category_mean_month_minus_6</td>\n",
       "      <td>27.272727</td>\n",
       "    </tr>\n",
       "    <tr>\n",
       "      <th>item_shop_month_minus_1</th>\n",
       "      <td>item_shop_month_minus_1</td>\n",
       "      <td>4.545455</td>\n",
       "    </tr>\n",
       "    <tr>\n",
       "      <th>item_shop_month_minus_3</th>\n",
       "      <td>item_shop_month_minus_3</td>\n",
       "      <td>13.636364</td>\n",
       "    </tr>\n",
       "    <tr>\n",
       "      <th>item_shop_month_minus_6</th>\n",
       "      <td>item_shop_month_minus_6</td>\n",
       "      <td>27.272727</td>\n",
       "    </tr>\n",
       "  </tbody>\n",
       "</table>\n",
       "</div>"
      ],
      "text/plain": [
       "                                                       column_name  \\\n",
       "item_id                                                    item_id   \n",
       "index                                                        index   \n",
       "date                                                          date   \n",
       "date_block_num                                      date_block_num   \n",
       "day                                                            day   \n",
       "item_cnt_day                                          item_cnt_day   \n",
       "item_price                                              item_price   \n",
       "month                                                        month   \n",
       "shop_id                                                    shop_id   \n",
       "y                                                                y   \n",
       "year                                                          year   \n",
       "item_name                                                item_name   \n",
       "item_category_id                                  item_category_id   \n",
       "item_mean                                                item_mean   \n",
       "item_mean_month                                    item_mean_month   \n",
       "shop_mean_month                                    shop_mean_month   \n",
       "category_mean_month                            category_mean_month   \n",
       "shop_category_mean_month                  shop_category_mean_month   \n",
       "item_shop_month                                    item_shop_month   \n",
       "item_mean_month_minus_1                    item_mean_month_minus_1   \n",
       "item_mean_month_minus_3                    item_mean_month_minus_3   \n",
       "item_mean_month_minus_6                    item_mean_month_minus_6   \n",
       "shop_mean_month_minus_1                    shop_mean_month_minus_1   \n",
       "shop_mean_month_minus_3                    shop_mean_month_minus_3   \n",
       "shop_mean_month_minus_6                    shop_mean_month_minus_6   \n",
       "category_mean_month_minus_1            category_mean_month_minus_1   \n",
       "category_mean_month_minus_3            category_mean_month_minus_3   \n",
       "category_mean_month_minus_6            category_mean_month_minus_6   \n",
       "shop_category_mean_month_minus_1  shop_category_mean_month_minus_1   \n",
       "shop_category_mean_month_minus_3  shop_category_mean_month_minus_3   \n",
       "shop_category_mean_month_minus_6  shop_category_mean_month_minus_6   \n",
       "item_shop_month_minus_1                    item_shop_month_minus_1   \n",
       "item_shop_month_minus_3                    item_shop_month_minus_3   \n",
       "item_shop_month_minus_6                    item_shop_month_minus_6   \n",
       "\n",
       "                                  percent_missing  \n",
       "item_id                                  0.000000  \n",
       "index                                    0.000000  \n",
       "date                                     0.000000  \n",
       "date_block_num                           0.000000  \n",
       "day                                      0.000000  \n",
       "item_cnt_day                             0.000000  \n",
       "item_price                               0.000000  \n",
       "month                                    0.000000  \n",
       "shop_id                                  0.000000  \n",
       "y                                        0.000000  \n",
       "year                                     0.000000  \n",
       "item_name                                0.000000  \n",
       "item_category_id                         0.000000  \n",
       "item_mean                                0.000000  \n",
       "item_mean_month                          0.000000  \n",
       "shop_mean_month                          0.000000  \n",
       "category_mean_month                      0.000000  \n",
       "shop_category_mean_month                 0.000000  \n",
       "item_shop_month                          0.000000  \n",
       "item_mean_month_minus_1                  4.545455  \n",
       "item_mean_month_minus_3                 13.636364  \n",
       "item_mean_month_minus_6                 27.272727  \n",
       "shop_mean_month_minus_1                  4.545455  \n",
       "shop_mean_month_minus_3                 13.636364  \n",
       "shop_mean_month_minus_6                 27.272727  \n",
       "category_mean_month_minus_1              4.545455  \n",
       "category_mean_month_minus_3             13.636364  \n",
       "category_mean_month_minus_6             27.272727  \n",
       "shop_category_mean_month_minus_1         4.545455  \n",
       "shop_category_mean_month_minus_3        13.636364  \n",
       "shop_category_mean_month_minus_6        27.272727  \n",
       "item_shop_month_minus_1                  4.545455  \n",
       "item_shop_month_minus_3                 13.636364  \n",
       "item_shop_month_minus_6                 27.272727  "
      ]
     },
     "execution_count": 141,
     "metadata": {},
     "output_type": "execute_result"
    }
   ],
   "source": [
    "columns = X.columns\n",
    "percent_missing = X.isna().sum() * 100 / len(X)\n",
    "pd.DataFrame({'column_name': columns,\n",
    "                                 'percent_missing': percent_missing})"
   ]
  },
  {
   "cell_type": "code",
   "execution_count": 64,
   "metadata": {},
   "outputs": [],
   "source": [
    "test_w_cat_ids = test.set_index('item_id').join(items.set_index('item_id'))\n",
    "test_w_cat_ids['item_id'] = test_w_cat_ids.index"
   ]
  },
  {
   "cell_type": "code",
   "execution_count": 166,
   "metadata": {},
   "outputs": [],
   "source": [
    "#features = ['item_id', 'date_block_num', 'shop_id', #'item_price',\n",
    "lgbm_features = [#'item_id', 'shop_id', 'item_category_id',# 'year',,  'month'\n",
    "       #'item_mean', \n",
    "       #         'item_mean_month', 'shop_mean_month','category_mean_month','shop_category_mean_month', 'item_shop_month',   \n",
    "       'item_mean_month_minus_1', 'item_mean_month_minus_3',\n",
    "       'item_mean_month_minus_6', 'item_mean_month_minus_2','item_mean_month_minus_12',\n",
    "    'shop_mean_month_minus_1',\n",
    "       'shop_mean_month_minus_3', 'shop_mean_month_minus_6','shop_mean_month_minus_2', 'shop_mean_month_minus_12',\n",
    "       'category_mean_month_minus_1', 'category_mean_month_minus_3',\n",
    "       'category_mean_month_minus_6', 'category_mean_month_minus_2', 'category_mean_month_minus_12', \n",
    "    'shop_category_mean_month_minus_1',\n",
    "       'shop_category_mean_month_minus_3', 'shop_category_mean_month_minus_6', 'shop_category_mean_month_minus_2', 'shop_category_mean_month_minus_12',\n",
    "         'item_shop_month_minus_1', 'item_shop_month_minus_3',\n",
    "      'item_shop_month_minus_6', 'item_shop_month_minus_1', 'item_shop_month_minus_12',\n",
    "    'item_shop_month_rolling_3'\n",
    "                ]\n",
    "    \n",
    "lr_features = [\n",
    "       #'item_mean', 'item_mean_month', 'shop_mean_month',\n",
    "       #'category_mean_month', 'shop_category_mean_month',\n",
    "       'item_mean_month_minus_1', \n",
    "       'shop_mean_month_minus_1',\n",
    "       'category_mean_month_minus_1',\n",
    "       'shop_category_mean_month_minus_1','item_shop_month_minus_1']\n"
   ]
  },
  {
   "cell_type": "code",
   "execution_count": 167,
   "metadata": {},
   "outputs": [],
   "source": [
    "val_indices = X[(X['year'] == 2015) & (X['month'].isin([9,10]))].index"
   ]
  },
  {
   "cell_type": "code",
   "execution_count": 168,
   "metadata": {},
   "outputs": [],
   "source": [
    "x = X\n",
    "y = X['y']\n",
    "\n",
    "\n",
    "x_train = x[~x.index.isin(val_indices)]\n",
    "y_train = y[~y.index.isin(val_indices)]\n",
    "\n",
    "x_val = x[x.index.isin(val_indices)]\n",
    "y_val = y[y.index.isin(val_indices)]"
   ]
  },
  {
   "cell_type": "code",
   "execution_count": 169,
   "metadata": {},
   "outputs": [
    {
     "data": {
      "text/plain": [
       "(5968267, 41)"
      ]
     },
     "execution_count": 169,
     "metadata": {},
     "output_type": "execute_result"
    }
   ],
   "source": [
    "x_train.shape"
   ]
  },
  {
   "cell_type": "code",
   "execution_count": 170,
   "metadata": {},
   "outputs": [
    {
     "data": {
      "text/plain": [
       "224"
      ]
     },
     "execution_count": 170,
     "metadata": {},
     "output_type": "execute_result"
    }
   ],
   "source": [
    "gc.collect()"
   ]
  },
  {
   "cell_type": "code",
   "execution_count": 171,
   "metadata": {},
   "outputs": [
    {
     "name": "stdout",
     "output_type": "stream",
     "text": [
      "Training until validation scores don't improve for 100 rounds.\n",
      "[100]\tvalid_0's rmse: 1.10448\n",
      "[200]\tvalid_0's rmse: 1.09565\n",
      "[300]\tvalid_0's rmse: 1.09443\n",
      "Early stopping, best iteration is:\n",
      "[289]\tvalid_0's rmse: 1.09413\n"
     ]
    }
   ],
   "source": [
    "gc.collect()\n",
    "lgtrain = lgbm.Dataset(x_train[lgbm_features], label=y_train)\n",
    "lgval = lgbm.Dataset(x_val[lgbm_features], label=y_val)\n",
    "\n",
    "\n",
    "\n",
    "#[0.00542047893814942, 29, 24, 0.39949465609514856, 1, 0.67943500, 10]\n",
    "params = {\n",
    "        \"num_threads\": 16,\n",
    "        \"verbosity\": -1,\n",
    "        #\"zero_as_missing\": \"true\",\n",
    "        \"boosting\":'gbdt',\n",
    "        \"objective\" : \"regression\",\n",
    "        \"metric\" : \"rmse\",\n",
    "        \"seed\": 42,\n",
    "        #\"max_bin\": 10,#default 255\n",
    "        #\"num_leaves\": 10, #default 31\n",
    "        #\"bagging_fraction\": 0.7,\n",
    "        #\"bagging_freq\": 1,\n",
    "        #\"min_data_in_leaf\": 50000,\n",
    "        #\"feature_fraction\": 0.7,\n",
    "        #\"lambda_l2\": 3,\n",
    "        #\"max_depth\": 2,\n",
    "        #\"min_gain_to_split\": 10,\n",
    "        \"learning_rate\" : 0.03,\n",
    "        \"histogram_pool_size\": 1000,\n",
    "        #\"categorical_column\": [0,1,2,3,4]\n",
    "}\n",
    "\n",
    "evals_result = {}\n",
    "model_lgb = lgbm.train(params, lgtrain, 1000, \n",
    "                      valid_sets=[lgval], \n",
    "                      early_stopping_rounds=100, \n",
    "                      verbose_eval=100, \n",
    "                      evals_result=evals_result)\n",
    "\n"
   ]
  },
  {
   "cell_type": "code",
   "execution_count": 44,
   "metadata": {},
   "outputs": [
    {
     "data": {
      "text/plain": [
       "array([20, 12, 13, 14, 15, 16, 17, 18, 19, 21, 22, 23, 24, 25, 26, 27, 28,\n",
       "       29, 30, 31, 32, 33], dtype=uint64)"
      ]
     },
     "execution_count": 44,
     "metadata": {},
     "output_type": "execute_result"
    }
   ],
   "source": [
    "X['date_block_num'].unique()"
   ]
  },
  {
   "cell_type": "code",
   "execution_count": 104,
   "metadata": {},
   "outputs": [],
   "source": [
    "#pickle.dump(model_lgb, open( \"model_lgb\", \"wb\"))\n",
    "\n",
    "model_lgb = pickle.load( open( \"model_lgb\", \"rb\" ) )"
   ]
  },
  {
   "cell_type": "code",
   "execution_count": 49,
   "metadata": {},
   "outputs": [
    {
     "name": "stdout",
     "output_type": "stream",
     "text": [
      "rmse:  0.4872290096951795\n"
     ]
    }
   ],
   "source": [
    "x_train_lr = x[~x.index.isin(val_indices)].copy()[lr_features]\n",
    "x_train_lr.fillna(x_train_lr.mean(), inplace=True)\n",
    "\n",
    "x_val_lr = x[x.index.isin(val_indices)].copy()[lr_features]\n",
    "x_val_lr.fillna(x_train_lr.mean(), inplace=True)\n",
    "\n",
    "\n",
    "lr_model = Ridge(alpha=0.5)\n",
    "lr_model.fit(x_train_lr, y_train)\n",
    "\n",
    "from sklearn.metrics import mean_squared_error\n",
    "from math import sqrt\n",
    "\n",
    "lr_val_preds = lr_model.predict(x_val_lr)\n",
    "lr_val_preds.clip(0,20,out=lr_val_preds)\n",
    "rms = sqrt(mean_squared_error(y_val, lr_val_preds))\n",
    "print(\"rmse: \", rms)"
   ]
  },
  {
   "cell_type": "code",
   "execution_count": 98,
   "metadata": {},
   "outputs": [
    {
     "data": {
      "text/plain": [
       "array([28, 29, 30, 31, 32, 33])"
      ]
     },
     "execution_count": 98,
     "metadata": {},
     "output_type": "execute_result"
    }
   ],
   "source": [
    "train_meta['date_block_num'].unique()"
   ]
  },
  {
   "cell_type": "code",
   "execution_count": 72,
   "metadata": {},
   "outputs": [],
   "source": [
    "#stacking\n",
    "blocks = [28, 29, 30, 31, 32, 33]\n",
    "\n",
    "train_meta = X.copy()\n",
    "train_meta = train_meta.sort_values(by=['date_block_num']).reset_index()"
   ]
  },
  {
   "cell_type": "code",
   "execution_count": null,
   "metadata": {},
   "outputs": [],
   "source": [
    "lr_preds = np.zeros(len(train_meta))\n",
    "\n",
    "\n",
    "for block in blocks:\n",
    "    \n",
    "    fold = train_meta[train_meta['date_block_num'] == block]\n",
    "    train = train_meta[train_meta['date_block_num'] < block]\n",
    "    y = train['y']\n",
    "    \n",
    "    #lr\n",
    "    x_lr = train[lr_features].copy()\n",
    "    x_lr.fillna(x_lr.mean(), inplace=True)\n",
    "    \n",
    "    lr_model = Ridge(alpha=0.5)\n",
    "    lr_model.fit(x_lr, y)\n",
    "    oof = fold[lr_features].copy()\n",
    "    oof.fillna(oof.mean(), inplace=True)\n",
    "    oof_pred = lr_model.predict(oof)\n",
    "    oof_pred.clip(0,20,out=oof_pred)\n",
    "\n",
    "    lr_preds[fold.index] = oof_pred\n",
    "    \n",
    "train_meta['lr_pred'] = lr_preds"
   ]
  },
  {
   "cell_type": "code",
   "execution_count": 169,
   "metadata": {},
   "outputs": [
    {
     "ename": "NameError",
     "evalue": "name 'train_meta' is not defined",
     "output_type": "error",
     "traceback": [
      "\u001b[1;31m---------------------------------------------------------------------------\u001b[0m",
      "\u001b[1;31mNameError\u001b[0m                                 Traceback (most recent call last)",
      "\u001b[1;32m<ipython-input-169-d015ecc3bdd2>\u001b[0m in \u001b[0;36m<module>\u001b[1;34m()\u001b[0m\n\u001b[1;32m----> 1\u001b[1;33m \u001b[0mlgbm_preds\u001b[0m \u001b[1;33m=\u001b[0m \u001b[0mnp\u001b[0m\u001b[1;33m.\u001b[0m\u001b[0mzeros\u001b[0m\u001b[1;33m(\u001b[0m\u001b[0mlen\u001b[0m\u001b[1;33m(\u001b[0m\u001b[0mtrain_meta\u001b[0m\u001b[1;33m)\u001b[0m\u001b[1;33m)\u001b[0m\u001b[1;33m\u001b[0m\u001b[0m\n\u001b[0m\u001b[0;32m      2\u001b[0m \u001b[1;33m\u001b[0m\u001b[0m\n\u001b[0;32m      3\u001b[0m \u001b[1;32mif\u001b[0m \u001b[1;32mFalse\u001b[0m\u001b[1;33m:\u001b[0m\u001b[1;33m\u001b[0m\u001b[0m\n\u001b[0;32m      4\u001b[0m \u001b[1;31m#for block in blocks:\u001b[0m\u001b[1;33m\u001b[0m\u001b[1;33m\u001b[0m\u001b[0m\n\u001b[0;32m      5\u001b[0m \u001b[1;33m\u001b[0m\u001b[0m\n",
      "\u001b[1;31mNameError\u001b[0m: name 'train_meta' is not defined"
     ]
    }
   ],
   "source": [
    "lgbm_preds = np.zeros(len(train_meta))\n",
    "\n",
    "if False:\n",
    "#for block in blocks:\n",
    "    \n",
    "    fold = train_meta[train_meta['date_block_num'] == block]\n",
    "    train = train_meta[train_meta['date_block_num'] < block]\n",
    "    y = train['y']\n",
    "    \n",
    "    #lgbm\n",
    "    val_len = int(10 * len(train) / 100)\n",
    "    print(val_len)\n",
    "    val_indices = sorted(train.index)[-val_len:]\n",
    "\n",
    "\n",
    "    x_train = train[~train.index.isin(val_indices)]\n",
    "    y_train = y[~y.index.isin(val_indices)]\n",
    "\n",
    "    x_val = train[train.index.isin(val_indices)]\n",
    "    y_val = y[y.index.isin(val_indices)]\n",
    "    \n",
    "    \n",
    "    \n",
    "    lgtrain = lgbm.Dataset(x_train[lgbm_features], label=y_train, categorical_feature=[0,1,2,3])\n",
    "    lgval = lgbm.Dataset(x_val[lgbm_features], label=y_val, categorical_feature=[0,1,2,3])\n",
    "    \n",
    "    \n",
    "    \n",
    "    params = {\n",
    "        \"num_threads\": 8,\n",
    "        \"verbosity\": -1,\n",
    "        #\"zero_as_missing\": \"true\",\n",
    "        \"boosting\":'gbdt',\n",
    "        \"objective\" : \"regression\",\n",
    "        \"metric\" : \"rmse\",\n",
    "        \"seed\": 42,\n",
    "        #\"max_bin\": 10,\n",
    "        #\"num_leaves\": 10,\n",
    "        \"bagging_fraction\": 0.3,\n",
    "        \"bagging_freq\": 1,\n",
    "        \"min_data_in_leaf\": 50000,\n",
    "        \"feature_fraction\": 0.5,\n",
    "        #\"lambda_l2\": 3,\n",
    "        #\"max_depth\": 2,\n",
    "        \"learning_rate\" : 0.01\n",
    "    }\n",
    "\n",
    "    evals_result = {}\n",
    "    model_lgb = lgbm.train(params, lgtrain, 50000, \n",
    "                      valid_sets=[lgval], \n",
    "                      early_stopping_rounds=100, \n",
    "                      verbose_eval=500, \n",
    "                      evals_result=evals_result)\n",
    "    \n",
    "    oof = fold[lgbm_features]\n",
    "\n",
    "    oof_preds = model_lgb.predict(oof)\n",
    "    oof_preds.clip(0,20,out=oof_preds)\n",
    "\n",
    "    lgbm_preds[fold.index] = oof_preds\n",
    "    \n",
    "train_meta['lgbm_pred'] = lgbm_preds"
   ]
  },
  {
   "cell_type": "code",
   "execution_count": 77,
   "metadata": {},
   "outputs": [],
   "source": [
    "import pickle\n",
    "\n",
    "lgbm_preds = pickle.load( open( \"lgbm_pred\", \"rb\" ) )\n",
    "train_meta['lgbm_pred'] = lgbm_preds"
   ]
  },
  {
   "cell_type": "code",
   "execution_count": 97,
   "metadata": {},
   "outputs": [
    {
     "name": "stdout",
     "output_type": "stream",
     "text": [
      "rmse:  1.5580748985261248\n"
     ]
    }
   ],
   "source": [
    "train_meta_train = train_meta[train_meta['date_block_num'].isin([28, 29, 30, 31, 32])]\n",
    "train_meta_val = train_meta[train_meta['date_block_num'].isin([33])]\n",
    "\n",
    "meta_features = ['lr_pred', 'lgbm_pred']\n",
    "\n",
    "\n",
    "meta_model = LinearRegression().fit(train_meta_train[meta_features], train_meta_train['y'])\n",
    "\n",
    "meta_preds = meta_model.predict(train_meta_val[meta_features])\n",
    "meta_preds.clip(0,20,out=meta_preds)\n",
    "rms = sqrt(mean_squared_error(train_meta_val['y'], meta_preds))\n",
    "print(\"rmse: \", rms)"
   ]
  },
  {
   "cell_type": "code",
   "execution_count": 18,
   "metadata": {},
   "outputs": [],
   "source": [
    "test_w_cat_ids = test.set_index('item_id').join(items.set_index('item_id'))\n",
    "test_w_cat_ids['item_id'] = test_w_cat_ids.index"
   ]
  },
  {
   "cell_type": "code",
   "execution_count": 19,
   "metadata": {},
   "outputs": [],
   "source": [
    "test_w_cat_ids['month'] = 11\n",
    "test_w_cat_ids['year'] = 2015"
   ]
  },
  {
   "cell_type": "code",
   "execution_count": 20,
   "metadata": {},
   "outputs": [
    {
     "name": "stderr",
     "output_type": "stream",
     "text": [
      "/opt/conda/lib/python3.6/site-packages/IPython/core/interactiveshell.py:3265: FutureWarning: 'item_id' is both an index level and a column label.\n",
      "Defaulting to column, but this will raise an ambiguity error in a future version\n",
      "  exec(code_obj, self.user_global_ns, self.user_ns)\n"
     ]
    }
   ],
   "source": [
    "item_level = X.drop_duplicates(['item_id'])[['item_id','item_mean']]\n",
    "\n",
    "test_w_cat_ids = pd.merge(test_w_cat_ids, item_level, on=['item_id'], how='left')"
   ]
  },
  {
   "cell_type": "code",
   "execution_count": 21,
   "metadata": {},
   "outputs": [],
   "source": [
    "item_month_level_ = X[(X.month == 10) & (X.year == 2015)].drop_duplicates(['item_id'])[['item_id','item_mean_month']]\\\n",
    "                                   .copy().rename(columns={'item_mean_month':'item_mean_month_minus_1'})\n",
    "\n",
    "\n",
    "test_w_cat_ids = pd.merge(test_w_cat_ids, item_month_level_, on=['item_id'], how='left')"
   ]
  },
  {
   "cell_type": "code",
   "execution_count": 22,
   "metadata": {},
   "outputs": [],
   "source": [
    "item_month_level_ = X[(X.month == 8)  & (X.year == 2015)].drop_duplicates(['item_id'])[['item_id','item_mean_month']]\\\n",
    "                                   .copy().rename(columns={'item_mean_month':'item_mean_month_minus_3'})\n",
    "\n",
    "\n",
    "test_w_cat_ids = pd.merge(test_w_cat_ids, item_month_level_, on=['item_id'], how='left')"
   ]
  },
  {
   "cell_type": "code",
   "execution_count": 23,
   "metadata": {},
   "outputs": [],
   "source": [
    "item_month_level_ = X[(X.month == 5)  & (X.year == 2015)].drop_duplicates(['item_id'])[['item_id','item_mean_month']]\\\n",
    "                                   .copy().rename(columns={'item_mean_month':'item_mean_month_minus_6'})\n",
    "\n",
    "\n",
    "test_w_cat_ids = pd.merge(test_w_cat_ids, item_month_level_, on=['item_id'], how='left')"
   ]
  },
  {
   "cell_type": "code",
   "execution_count": 24,
   "metadata": {},
   "outputs": [],
   "source": [
    "item_month_level_ = X[(X.month == 9)  & (X.year == 2015)].drop_duplicates(['item_id'])[['item_id','item_mean_month']]\\\n",
    "                                   .copy().rename(columns={'item_mean_month':'item_mean_month_minus_2'})\n",
    "\n",
    "\n",
    "test_w_cat_ids = pd.merge(test_w_cat_ids, item_month_level_, on=['item_id'], how='left')"
   ]
  },
  {
   "cell_type": "code",
   "execution_count": 25,
   "metadata": {},
   "outputs": [],
   "source": [
    "item_month_level_ = X[(X.month == 11)  & (X.year == 2014)].drop_duplicates(['item_id'])[['item_id','item_mean_month']]\\\n",
    "                                   .copy().rename(columns={'item_mean_month':'item_mean_month_minus_12'})\n",
    "\n",
    "\n",
    "test_w_cat_ids = pd.merge(test_w_cat_ids, item_month_level_, on=['item_id'], how='left')"
   ]
  },
  {
   "cell_type": "code",
   "execution_count": 26,
   "metadata": {},
   "outputs": [],
   "source": [
    "shop_month_level_ = X[(X.month == 10)  & (X.year == 2015)].drop_duplicates(['shop_id'])[['shop_id','shop_mean_month']]\\\n",
    "                                   .copy().rename(columns={'shop_mean_month':'shop_mean_month_minus_1'})\n",
    "\n",
    "\n",
    "test_w_cat_ids = pd.merge(test_w_cat_ids, shop_month_level_, on=['shop_id'], how='left')"
   ]
  },
  {
   "cell_type": "code",
   "execution_count": 27,
   "metadata": {},
   "outputs": [],
   "source": [
    "shop_month_level_ = X[(X.month == 8)  & (X.year == 2015)].drop_duplicates(['shop_id'])[['shop_id','shop_mean_month']]\\\n",
    "                                   .copy().rename(columns={'shop_mean_month':'shop_mean_month_minus_3'})\n",
    "\n",
    "\n",
    "test_w_cat_ids = pd.merge(test_w_cat_ids, shop_month_level_, on=['shop_id'], how='left')"
   ]
  },
  {
   "cell_type": "code",
   "execution_count": 28,
   "metadata": {},
   "outputs": [],
   "source": [
    "shop_month_level_ = X[(X.month == 5)  & (X.year == 2015)].drop_duplicates(['shop_id'])[['shop_id','shop_mean_month']]\\\n",
    "                                   .copy().rename(columns={'shop_mean_month':'shop_mean_month_minus_6'})\n",
    "\n",
    "\n",
    "test_w_cat_ids = pd.merge(test_w_cat_ids, shop_month_level_, on=['shop_id'], how='left')"
   ]
  },
  {
   "cell_type": "code",
   "execution_count": 29,
   "metadata": {},
   "outputs": [],
   "source": [
    "shop_month_level_ = X[(X.month == 2)  & (X.year == 2015)].drop_duplicates(['shop_id'])[['shop_id','shop_mean_month']]\\\n",
    "                                   .copy().rename(columns={'shop_mean_month':'shop_mean_month_minus_2'})\n",
    "\n",
    "\n",
    "test_w_cat_ids = pd.merge(test_w_cat_ids, shop_month_level_, on=['shop_id'], how='left')"
   ]
  },
  {
   "cell_type": "code",
   "execution_count": 30,
   "metadata": {},
   "outputs": [],
   "source": [
    "shop_month_level_ = X[(X.month == 11)  & (X.year == 2014)].drop_duplicates(['shop_id'])[['shop_id','shop_mean_month']]\\\n",
    "                                   .copy().rename(columns={'shop_mean_month':'shop_mean_month_minus_12'})\n",
    "\n",
    "\n",
    "test_w_cat_ids = pd.merge(test_w_cat_ids, shop_month_level_, on=['shop_id'], how='left')"
   ]
  },
  {
   "cell_type": "code",
   "execution_count": 31,
   "metadata": {},
   "outputs": [],
   "source": [
    "cat_month_level_ = X[(X.month == 10) & (X.year == 2015)].drop_duplicates(['item_category_id'])[['item_category_id','category_mean_month']]\\\n",
    "                                   .copy().rename(columns={'category_mean_month':'category_mean_month_minus_1'})\n",
    "\n",
    "\n",
    "test_w_cat_ids = pd.merge(test_w_cat_ids, cat_month_level_, on=['item_category_id'], how='left')"
   ]
  },
  {
   "cell_type": "code",
   "execution_count": 32,
   "metadata": {},
   "outputs": [],
   "source": [
    "cat_month_level_ = X[(X.month == 8) & (X.year == 2015)].drop_duplicates(['item_category_id'])[['item_category_id','category_mean_month']]\\\n",
    "                                   .copy().rename(columns={'category_mean_month':'category_mean_month_minus_3'})\n",
    "\n",
    "\n",
    "test_w_cat_ids = pd.merge(test_w_cat_ids, cat_month_level_, on=['item_category_id'], how='left')"
   ]
  },
  {
   "cell_type": "code",
   "execution_count": 33,
   "metadata": {},
   "outputs": [],
   "source": [
    "cat_month_level_ = X[(X.month == 5) & (X.year == 2015)].drop_duplicates(['item_category_id'])[['item_category_id','category_mean_month']]\\\n",
    "                                   .copy().rename(columns={'category_mean_month':'category_mean_month_minus_6'})\n",
    "\n",
    "\n",
    "test_w_cat_ids = pd.merge(test_w_cat_ids, cat_month_level_, on=['item_category_id'], how='left')"
   ]
  },
  {
   "cell_type": "code",
   "execution_count": 34,
   "metadata": {},
   "outputs": [],
   "source": [
    "cat_month_level_ = X[(X.month == 9) & (X.year == 2015)].drop_duplicates(['item_category_id'])[['item_category_id','category_mean_month']]\\\n",
    "                                   .copy().rename(columns={'category_mean_month':'category_mean_month_minus_2'})\n",
    "\n",
    "\n",
    "test_w_cat_ids = pd.merge(test_w_cat_ids, cat_month_level_, on=['item_category_id'], how='left')"
   ]
  },
  {
   "cell_type": "code",
   "execution_count": 35,
   "metadata": {},
   "outputs": [],
   "source": [
    "cat_month_level_ = X[(X.month == 11) & (X.year == 2014)].drop_duplicates(['item_category_id'])[['item_category_id','category_mean_month']]\\\n",
    "                                   .copy().rename(columns={'category_mean_month':'category_mean_month_minus_12'})\n",
    "\n",
    "\n",
    "test_w_cat_ids = pd.merge(test_w_cat_ids, cat_month_level_, on=['item_category_id'], how='left')"
   ]
  },
  {
   "cell_type": "code",
   "execution_count": 36,
   "metadata": {},
   "outputs": [],
   "source": [
    "shop_cat_month_level_ = X[(X.month == 10) & (X.year == 2015)].drop_duplicates(['item_category_id', 'shop_id'])[['item_category_id', 'shop_id', 'shop_category_mean_month']]\\\n",
    "                                   .copy().rename(columns={'shop_category_mean_month':'shop_category_mean_month_minus_1'})\n",
    "\n",
    "\n",
    "test_w_cat_ids = pd.merge(test_w_cat_ids, shop_cat_month_level_, on=['item_category_id', 'shop_id'], how='left')"
   ]
  },
  {
   "cell_type": "code",
   "execution_count": 37,
   "metadata": {},
   "outputs": [],
   "source": [
    "shop_cat_month_level_ = X[(X.month == 8) & (X.year == 2015)].drop_duplicates(['item_category_id', 'shop_id'])[['item_category_id', 'shop_id', 'shop_category_mean_month']]\\\n",
    "                                   .copy().rename(columns={'shop_category_mean_month':'shop_category_mean_month_minus_3'})\n",
    "\n",
    "\n",
    "test_w_cat_ids = pd.merge(test_w_cat_ids, shop_cat_month_level_, on=['item_category_id', 'shop_id'], how='left')"
   ]
  },
  {
   "cell_type": "code",
   "execution_count": 38,
   "metadata": {},
   "outputs": [],
   "source": [
    "shop_cat_month_level_ = X[(X.month == 5) & (X.year == 2015)].drop_duplicates(['item_category_id', 'shop_id'])[['item_category_id', 'shop_id', 'shop_category_mean_month']]\\\n",
    "                                   .copy().rename(columns={'shop_category_mean_month':'shop_category_mean_month_minus_6'})\n",
    "\n",
    "\n",
    "test_w_cat_ids = pd.merge(test_w_cat_ids, shop_cat_month_level_, on=['item_category_id', 'shop_id'], how='left')"
   ]
  },
  {
   "cell_type": "code",
   "execution_count": 39,
   "metadata": {},
   "outputs": [],
   "source": [
    "shop_cat_month_level_ = X[(X.month == 9) & (X.year == 2015)].drop_duplicates(['item_category_id', 'shop_id'])[['item_category_id', 'shop_id', 'shop_category_mean_month']]\\\n",
    "                                   .copy().rename(columns={'shop_category_mean_month':'shop_category_mean_month_minus_2'})\n",
    "\n",
    "\n",
    "test_w_cat_ids = pd.merge(test_w_cat_ids, shop_cat_month_level_, on=['item_category_id', 'shop_id'], how='left')"
   ]
  },
  {
   "cell_type": "code",
   "execution_count": 40,
   "metadata": {},
   "outputs": [],
   "source": [
    "shop_cat_month_level_ = X[(X.month == 11) & (X.year == 2014)].drop_duplicates(['item_category_id', 'shop_id'])[['item_category_id', 'shop_id', 'shop_category_mean_month']]\\\n",
    "                                   .copy().rename(columns={'shop_category_mean_month':'shop_category_mean_month_minus_12'})\n",
    "\n",
    "\n",
    "test_w_cat_ids = pd.merge(test_w_cat_ids, shop_cat_month_level_, on=['item_category_id', 'shop_id'], how='left')"
   ]
  },
  {
   "cell_type": "code",
   "execution_count": 41,
   "metadata": {},
   "outputs": [],
   "source": [
    "shop_item_month_level_ = X[(X.month == 10) & (X.year == 2015)].drop_duplicates(['item_id', 'shop_id'])[['item_id', 'shop_id', 'item_shop_month']]\\\n",
    "                                   .copy().rename(columns={'item_shop_month':'item_shop_month_minus_1'})\n",
    "\n",
    "\n",
    "test_w_cat_ids = pd.merge(test_w_cat_ids, shop_item_month_level_, on=['item_id', 'shop_id'], how='left')"
   ]
  },
  {
   "cell_type": "code",
   "execution_count": 42,
   "metadata": {},
   "outputs": [],
   "source": [
    "shop_item_month_level_ = X[(X.month == 8) & (X.year == 2015)].drop_duplicates(['item_id', 'shop_id'])[['item_id', 'shop_id', 'item_shop_month']]\\\n",
    "                                   .copy().rename(columns={'item_shop_month':'item_shop_month_minus_3'})\n",
    "\n",
    "\n",
    "test_w_cat_ids = pd.merge(test_w_cat_ids, shop_item_month_level_, on=['item_id', 'shop_id'], how='left')"
   ]
  },
  {
   "cell_type": "code",
   "execution_count": 43,
   "metadata": {},
   "outputs": [],
   "source": [
    "shop_item_month_level_ = X[(X.month == 5) & (X.year == 2015)].drop_duplicates(['item_id', 'shop_id'])[['item_id', 'shop_id', 'item_shop_month']]\\\n",
    "                                   .copy().rename(columns={'item_shop_month':'item_shop_month_minus_6'})\n",
    "\n",
    "\n",
    "test_w_cat_ids = pd.merge(test_w_cat_ids, shop_item_month_level_, on=['item_id', 'shop_id'], how='left')"
   ]
  },
  {
   "cell_type": "code",
   "execution_count": 44,
   "metadata": {},
   "outputs": [],
   "source": [
    "shop_item_month_level_ = X[(X.month == 11) & (X.year == 2014)].drop_duplicates(['item_id', 'shop_id'])[['item_id', 'shop_id', 'item_shop_month']]\\\n",
    "                                   .copy().rename(columns={'item_shop_month':'item_shop_month_minus_12'})\n",
    "\n",
    "\n",
    "test_w_cat_ids = pd.merge(test_w_cat_ids, shop_item_month_level_, on=['item_id', 'shop_id'], how='left')"
   ]
  },
  {
   "cell_type": "code",
   "execution_count": 45,
   "metadata": {},
   "outputs": [],
   "source": [
    "shop_item_month_level_ = X[(X.month == 10) & (X.year == 2015)].drop_duplicates(['item_id', 'shop_id'])[['item_id', 'shop_id', 'item_shop_month']]\\\n",
    "                                   .copy().rename(columns={'item_shop_month':'item_shop_month_rolling_3'})\n",
    "\n",
    "\n",
    "test_w_cat_ids = pd.merge(test_w_cat_ids, shop_item_month_level_, on=['item_id', 'shop_id'], how='left')"
   ]
  },
  {
   "cell_type": "code",
   "execution_count": 130,
   "metadata": {},
   "outputs": [
    {
     "data": {
      "text/plain": [
       "array([ 1.06749073,  1.0895982 ,  1.08557396, ...,  1.27861283,\n",
       "        1.26062962,  1.35388615])"
      ]
     },
     "execution_count": 130,
     "metadata": {},
     "output_type": "execute_result"
    }
   ],
   "source": [
    "# stacking, we have model_lgb and lr_model fit on entire training, we predict for test\n",
    "\n",
    "x_lr_test = test_w_cat_ids[lr_features].copy()\n",
    "x_lr_test.fillna(x_lr.mean(), inplace=True)\n",
    "\n",
    "test_lr_pred = lr_model.predict(x_lr_test[lr_features])\n",
    "test_lr_pred.clip(0,20,out=test_lr_pred)\n",
    "\n",
    "\n",
    "test_lgbm_preds = model_lgb.predict(test_w_cat_ids[lgbm_features])\n",
    "test_lgbm_preds.clip(0,20,out=test_lgbm_preds)\n",
    "\n"
   ]
  },
  {
   "cell_type": "code",
   "execution_count": 131,
   "metadata": {},
   "outputs": [],
   "source": [
    "test_meta = pd.DataFrame()\n",
    "test_meta['lr_pred'] = test_lr_pred\n",
    "test_meta['lgbm_pred'] = test_lgbm_preds\n",
    "\n",
    "\n",
    "final_preds = meta_model.predict(test_meta)\n",
    "\n",
    "\n",
    "submission = test.loc[:,['ID']]\n",
    "submission['item_cnt_month'] = final_preds.astype(int)\n",
    "\n",
    "submission.to_csv('submission.csv', index=False)"
   ]
  },
  {
   "cell_type": "code",
   "execution_count": 37,
   "metadata": {},
   "outputs": [
    {
     "data": {
      "text/html": [
       "<div>\n",
       "<style scoped>\n",
       "    .dataframe tbody tr th:only-of-type {\n",
       "        vertical-align: middle;\n",
       "    }\n",
       "\n",
       "    .dataframe tbody tr th {\n",
       "        vertical-align: top;\n",
       "    }\n",
       "\n",
       "    .dataframe thead th {\n",
       "        text-align: right;\n",
       "    }\n",
       "</style>\n",
       "<table border=\"1\" class=\"dataframe\">\n",
       "  <thead>\n",
       "    <tr style=\"text-align: right;\">\n",
       "      <th></th>\n",
       "      <th>item_id</th>\n",
       "      <th>shop_id</th>\n",
       "      <th>month</th>\n",
       "      <th>item_category_id</th>\n",
       "      <th>item_mean</th>\n",
       "      <th>item_mean_month_minus_1</th>\n",
       "      <th>item_mean_month_minus_3</th>\n",
       "      <th>item_mean_month_minus_6</th>\n",
       "      <th>shop_mean_month_minus_1</th>\n",
       "      <th>shop_mean_month_minus_3</th>\n",
       "      <th>shop_mean_month_minus_6</th>\n",
       "      <th>category_mean_month_minus_1</th>\n",
       "      <th>category_mean_month_minus_3</th>\n",
       "      <th>category_mean_month_minus_6</th>\n",
       "      <th>shop_category_mean_month_minus_1</th>\n",
       "      <th>shop_category_mean_month_minus_3</th>\n",
       "      <th>shop_category_mean_month_minus_6</th>\n",
       "      <th>item_shop_month_minus_1</th>\n",
       "      <th>item_shop_month_minus_3</th>\n",
       "      <th>item_shop_month_minus_6</th>\n",
       "    </tr>\n",
       "  </thead>\n",
       "  <tbody>\n",
       "    <tr>\n",
       "      <th>0</th>\n",
       "      <td>30</td>\n",
       "      <td>5</td>\n",
       "      <td>11</td>\n",
       "      <td>40</td>\n",
       "      <td>0.24876</td>\n",
       "      <td>0.018182</td>\n",
       "      <td>0.109091</td>\n",
       "      <td>0.090909</td>\n",
       "      <td>0.060338</td>\n",
       "      <td>0.073414</td>\n",
       "      <td>0.055764</td>\n",
       "      <td>0.036738</td>\n",
       "      <td>0.040658</td>\n",
       "      <td>0.043792</td>\n",
       "      <td>0.036421</td>\n",
       "      <td>0.050409</td>\n",
       "      <td>0.031407</td>\n",
       "      <td>0.0</td>\n",
       "      <td>1.0</td>\n",
       "      <td>0.0</td>\n",
       "    </tr>\n",
       "    <tr>\n",
       "      <th>1</th>\n",
       "      <td>30</td>\n",
       "      <td>4</td>\n",
       "      <td>11</td>\n",
       "      <td>40</td>\n",
       "      <td>0.24876</td>\n",
       "      <td>0.018182</td>\n",
       "      <td>0.109091</td>\n",
       "      <td>0.090909</td>\n",
       "      <td>0.043861</td>\n",
       "      <td>0.050897</td>\n",
       "      <td>0.047086</td>\n",
       "      <td>0.036738</td>\n",
       "      <td>0.040658</td>\n",
       "      <td>0.043792</td>\n",
       "      <td>0.026392</td>\n",
       "      <td>0.024809</td>\n",
       "      <td>0.028504</td>\n",
       "      <td>0.0</td>\n",
       "      <td>0.0</td>\n",
       "      <td>0.0</td>\n",
       "    </tr>\n",
       "    <tr>\n",
       "      <th>2</th>\n",
       "      <td>30</td>\n",
       "      <td>6</td>\n",
       "      <td>11</td>\n",
       "      <td>40</td>\n",
       "      <td>0.24876</td>\n",
       "      <td>0.018182</td>\n",
       "      <td>0.109091</td>\n",
       "      <td>0.090909</td>\n",
       "      <td>0.098335</td>\n",
       "      <td>0.090008</td>\n",
       "      <td>0.084144</td>\n",
       "      <td>0.036738</td>\n",
       "      <td>0.040658</td>\n",
       "      <td>0.043792</td>\n",
       "      <td>0.057007</td>\n",
       "      <td>0.044075</td>\n",
       "      <td>0.045395</td>\n",
       "      <td>0.0</td>\n",
       "      <td>0.0</td>\n",
       "      <td>0.0</td>\n",
       "    </tr>\n",
       "    <tr>\n",
       "      <th>3</th>\n",
       "      <td>30</td>\n",
       "      <td>3</td>\n",
       "      <td>11</td>\n",
       "      <td>40</td>\n",
       "      <td>0.24876</td>\n",
       "      <td>0.018182</td>\n",
       "      <td>0.109091</td>\n",
       "      <td>0.090909</td>\n",
       "      <td>0.035945</td>\n",
       "      <td>0.037880</td>\n",
       "      <td>0.041163</td>\n",
       "      <td>0.036738</td>\n",
       "      <td>0.040658</td>\n",
       "      <td>0.043792</td>\n",
       "      <td>0.020322</td>\n",
       "      <td>0.016891</td>\n",
       "      <td>0.013988</td>\n",
       "      <td>0.0</td>\n",
       "      <td>0.0</td>\n",
       "      <td>0.0</td>\n",
       "    </tr>\n",
       "    <tr>\n",
       "      <th>4</th>\n",
       "      <td>30</td>\n",
       "      <td>2</td>\n",
       "      <td>11</td>\n",
       "      <td>40</td>\n",
       "      <td>0.24876</td>\n",
       "      <td>0.018182</td>\n",
       "      <td>0.109091</td>\n",
       "      <td>0.090909</td>\n",
       "      <td>0.042043</td>\n",
       "      <td>0.055236</td>\n",
       "      <td>0.041867</td>\n",
       "      <td>0.036738</td>\n",
       "      <td>0.040658</td>\n",
       "      <td>0.043792</td>\n",
       "      <td>0.019530</td>\n",
       "      <td>0.021906</td>\n",
       "      <td>0.015307</td>\n",
       "      <td>0.0</td>\n",
       "      <td>0.0</td>\n",
       "      <td>0.0</td>\n",
       "    </tr>\n",
       "  </tbody>\n",
       "</table>\n",
       "</div>"
      ],
      "text/plain": [
       "   item_id  shop_id  month  item_category_id  item_mean  \\\n",
       "0       30        5     11                40    0.24876   \n",
       "1       30        4     11                40    0.24876   \n",
       "2       30        6     11                40    0.24876   \n",
       "3       30        3     11                40    0.24876   \n",
       "4       30        2     11                40    0.24876   \n",
       "\n",
       "   item_mean_month_minus_1  item_mean_month_minus_3  item_mean_month_minus_6  \\\n",
       "0                 0.018182                 0.109091                 0.090909   \n",
       "1                 0.018182                 0.109091                 0.090909   \n",
       "2                 0.018182                 0.109091                 0.090909   \n",
       "3                 0.018182                 0.109091                 0.090909   \n",
       "4                 0.018182                 0.109091                 0.090909   \n",
       "\n",
       "   shop_mean_month_minus_1  shop_mean_month_minus_3  shop_mean_month_minus_6  \\\n",
       "0                 0.060338                 0.073414                 0.055764   \n",
       "1                 0.043861                 0.050897                 0.047086   \n",
       "2                 0.098335                 0.090008                 0.084144   \n",
       "3                 0.035945                 0.037880                 0.041163   \n",
       "4                 0.042043                 0.055236                 0.041867   \n",
       "\n",
       "   category_mean_month_minus_1  category_mean_month_minus_3  \\\n",
       "0                     0.036738                     0.040658   \n",
       "1                     0.036738                     0.040658   \n",
       "2                     0.036738                     0.040658   \n",
       "3                     0.036738                     0.040658   \n",
       "4                     0.036738                     0.040658   \n",
       "\n",
       "   category_mean_month_minus_6  shop_category_mean_month_minus_1  \\\n",
       "0                     0.043792                          0.036421   \n",
       "1                     0.043792                          0.026392   \n",
       "2                     0.043792                          0.057007   \n",
       "3                     0.043792                          0.020322   \n",
       "4                     0.043792                          0.019530   \n",
       "\n",
       "   shop_category_mean_month_minus_3  shop_category_mean_month_minus_6  \\\n",
       "0                          0.050409                          0.031407   \n",
       "1                          0.024809                          0.028504   \n",
       "2                          0.044075                          0.045395   \n",
       "3                          0.016891                          0.013988   \n",
       "4                          0.021906                          0.015307   \n",
       "\n",
       "   item_shop_month_minus_1  item_shop_month_minus_3  item_shop_month_minus_6  \n",
       "0                      0.0                      1.0                      0.0  \n",
       "1                      0.0                      0.0                      0.0  \n",
       "2                      0.0                      0.0                      0.0  \n",
       "3                      0.0                      0.0                      0.0  \n",
       "4                      0.0                      0.0                      0.0  "
      ]
     },
     "execution_count": 37,
     "metadata": {},
     "output_type": "execute_result"
    }
   ],
   "source": [
    "test_w_cat_ids[lgbm_features].head()"
   ]
  },
  {
   "cell_type": "code",
   "execution_count": 125,
   "metadata": {},
   "outputs": [
    {
     "data": {
      "text/html": [
       "<div>\n",
       "<style scoped>\n",
       "    .dataframe tbody tr th:only-of-type {\n",
       "        vertical-align: middle;\n",
       "    }\n",
       "\n",
       "    .dataframe tbody tr th {\n",
       "        vertical-align: top;\n",
       "    }\n",
       "\n",
       "    .dataframe thead th {\n",
       "        text-align: right;\n",
       "    }\n",
       "</style>\n",
       "<table border=\"1\" class=\"dataframe\">\n",
       "  <thead>\n",
       "    <tr style=\"text-align: right;\">\n",
       "      <th></th>\n",
       "      <th>column_name</th>\n",
       "      <th>percent_missing</th>\n",
       "    </tr>\n",
       "  </thead>\n",
       "  <tbody>\n",
       "    <tr>\n",
       "      <th>item_id</th>\n",
       "      <td>item_id</td>\n",
       "      <td>0.000000</td>\n",
       "    </tr>\n",
       "    <tr>\n",
       "      <th>date</th>\n",
       "      <td>date</td>\n",
       "      <td>0.000000</td>\n",
       "    </tr>\n",
       "    <tr>\n",
       "      <th>date_block_num</th>\n",
       "      <td>date_block_num</td>\n",
       "      <td>0.000000</td>\n",
       "    </tr>\n",
       "    <tr>\n",
       "      <th>shop_id</th>\n",
       "      <td>shop_id</td>\n",
       "      <td>0.000000</td>\n",
       "    </tr>\n",
       "    <tr>\n",
       "      <th>item_price</th>\n",
       "      <td>item_price</td>\n",
       "      <td>0.000000</td>\n",
       "    </tr>\n",
       "    <tr>\n",
       "      <th>item_cnt_day</th>\n",
       "      <td>item_cnt_day</td>\n",
       "      <td>0.000000</td>\n",
       "    </tr>\n",
       "    <tr>\n",
       "      <th>day</th>\n",
       "      <td>day</td>\n",
       "      <td>0.000000</td>\n",
       "    </tr>\n",
       "    <tr>\n",
       "      <th>month</th>\n",
       "      <td>month</td>\n",
       "      <td>0.000000</td>\n",
       "    </tr>\n",
       "    <tr>\n",
       "      <th>year</th>\n",
       "      <td>year</td>\n",
       "      <td>0.000000</td>\n",
       "    </tr>\n",
       "    <tr>\n",
       "      <th>item_name</th>\n",
       "      <td>item_name</td>\n",
       "      <td>0.000000</td>\n",
       "    </tr>\n",
       "    <tr>\n",
       "      <th>item_category_id</th>\n",
       "      <td>item_category_id</td>\n",
       "      <td>0.000000</td>\n",
       "    </tr>\n",
       "    <tr>\n",
       "      <th>row_id</th>\n",
       "      <td>row_id</td>\n",
       "      <td>0.000000</td>\n",
       "    </tr>\n",
       "    <tr>\n",
       "      <th>y</th>\n",
       "      <td>y</td>\n",
       "      <td>0.000000</td>\n",
       "    </tr>\n",
       "    <tr>\n",
       "      <th>item_mean</th>\n",
       "      <td>item_mean</td>\n",
       "      <td>0.000000</td>\n",
       "    </tr>\n",
       "    <tr>\n",
       "      <th>item_mean_month</th>\n",
       "      <td>item_mean_month</td>\n",
       "      <td>0.000000</td>\n",
       "    </tr>\n",
       "    <tr>\n",
       "      <th>shop_mean_month</th>\n",
       "      <td>shop_mean_month</td>\n",
       "      <td>0.000000</td>\n",
       "    </tr>\n",
       "    <tr>\n",
       "      <th>category_mean_month</th>\n",
       "      <td>category_mean_month</td>\n",
       "      <td>0.000000</td>\n",
       "    </tr>\n",
       "    <tr>\n",
       "      <th>shop_category_mean_month</th>\n",
       "      <td>shop_category_mean_month</td>\n",
       "      <td>0.000000</td>\n",
       "    </tr>\n",
       "    <tr>\n",
       "      <th>item_mean_month_minus_1</th>\n",
       "      <td>item_mean_month_minus_1</td>\n",
       "      <td>16.482997</td>\n",
       "    </tr>\n",
       "    <tr>\n",
       "      <th>item_mean_month_minus_3</th>\n",
       "      <td>item_mean_month_minus_3</td>\n",
       "      <td>47.173257</td>\n",
       "    </tr>\n",
       "    <tr>\n",
       "      <th>item_mean_month_minus_6</th>\n",
       "      <td>item_mean_month_minus_6</td>\n",
       "      <td>73.289604</td>\n",
       "    </tr>\n",
       "    <tr>\n",
       "      <th>shop_mean_month_minus_1</th>\n",
       "      <td>shop_mean_month_minus_1</td>\n",
       "      <td>10.192532</td>\n",
       "    </tr>\n",
       "    <tr>\n",
       "      <th>shop_mean_month_minus_3</th>\n",
       "      <td>shop_mean_month_minus_3</td>\n",
       "      <td>33.387886</td>\n",
       "    </tr>\n",
       "    <tr>\n",
       "      <th>shop_mean_month_minus_6</th>\n",
       "      <td>shop_mean_month_minus_6</td>\n",
       "      <td>58.368872</td>\n",
       "    </tr>\n",
       "    <tr>\n",
       "      <th>category_mean_month_minus_1</th>\n",
       "      <td>category_mean_month_minus_1</td>\n",
       "      <td>9.985726</td>\n",
       "    </tr>\n",
       "    <tr>\n",
       "      <th>category_mean_month_minus_3</th>\n",
       "      <td>category_mean_month_minus_3</td>\n",
       "      <td>33.193720</td>\n",
       "    </tr>\n",
       "    <tr>\n",
       "      <th>category_mean_month_minus_6</th>\n",
       "      <td>category_mean_month_minus_6</td>\n",
       "      <td>58.564782</td>\n",
       "    </tr>\n",
       "    <tr>\n",
       "      <th>shop_category_mean_month_minus_1</th>\n",
       "      <td>shop_category_mean_month_minus_1</td>\n",
       "      <td>10.474738</td>\n",
       "    </tr>\n",
       "    <tr>\n",
       "      <th>shop_category_mean_month_minus_3</th>\n",
       "      <td>shop_category_mean_month_minus_3</td>\n",
       "      <td>33.829827</td>\n",
       "    </tr>\n",
       "    <tr>\n",
       "      <th>shop_category_mean_month_minus_6</th>\n",
       "      <td>shop_category_mean_month_minus_6</td>\n",
       "      <td>59.388082</td>\n",
       "    </tr>\n",
       "  </tbody>\n",
       "</table>\n",
       "</div>"
      ],
      "text/plain": [
       "                                                       column_name  \\\n",
       "item_id                                                    item_id   \n",
       "date                                                          date   \n",
       "date_block_num                                      date_block_num   \n",
       "shop_id                                                    shop_id   \n",
       "item_price                                              item_price   \n",
       "item_cnt_day                                          item_cnt_day   \n",
       "day                                                            day   \n",
       "month                                                        month   \n",
       "year                                                          year   \n",
       "item_name                                                item_name   \n",
       "item_category_id                                  item_category_id   \n",
       "row_id                                                      row_id   \n",
       "y                                                                y   \n",
       "item_mean                                                item_mean   \n",
       "item_mean_month                                    item_mean_month   \n",
       "shop_mean_month                                    shop_mean_month   \n",
       "category_mean_month                            category_mean_month   \n",
       "shop_category_mean_month                  shop_category_mean_month   \n",
       "item_mean_month_minus_1                    item_mean_month_minus_1   \n",
       "item_mean_month_minus_3                    item_mean_month_minus_3   \n",
       "item_mean_month_minus_6                    item_mean_month_minus_6   \n",
       "shop_mean_month_minus_1                    shop_mean_month_minus_1   \n",
       "shop_mean_month_minus_3                    shop_mean_month_minus_3   \n",
       "shop_mean_month_minus_6                    shop_mean_month_minus_6   \n",
       "category_mean_month_minus_1            category_mean_month_minus_1   \n",
       "category_mean_month_minus_3            category_mean_month_minus_3   \n",
       "category_mean_month_minus_6            category_mean_month_minus_6   \n",
       "shop_category_mean_month_minus_1  shop_category_mean_month_minus_1   \n",
       "shop_category_mean_month_minus_3  shop_category_mean_month_minus_3   \n",
       "shop_category_mean_month_minus_6  shop_category_mean_month_minus_6   \n",
       "\n",
       "                                  percent_missing  \n",
       "item_id                                  0.000000  \n",
       "date                                     0.000000  \n",
       "date_block_num                           0.000000  \n",
       "shop_id                                  0.000000  \n",
       "item_price                               0.000000  \n",
       "item_cnt_day                             0.000000  \n",
       "day                                      0.000000  \n",
       "month                                    0.000000  \n",
       "year                                     0.000000  \n",
       "item_name                                0.000000  \n",
       "item_category_id                         0.000000  \n",
       "row_id                                   0.000000  \n",
       "y                                        0.000000  \n",
       "item_mean                                0.000000  \n",
       "item_mean_month                          0.000000  \n",
       "shop_mean_month                          0.000000  \n",
       "category_mean_month                      0.000000  \n",
       "shop_category_mean_month                 0.000000  \n",
       "item_mean_month_minus_1                 16.482997  \n",
       "item_mean_month_minus_3                 47.173257  \n",
       "item_mean_month_minus_6                 73.289604  \n",
       "shop_mean_month_minus_1                 10.192532  \n",
       "shop_mean_month_minus_3                 33.387886  \n",
       "shop_mean_month_minus_6                 58.368872  \n",
       "category_mean_month_minus_1              9.985726  \n",
       "category_mean_month_minus_3             33.193720  \n",
       "category_mean_month_minus_6             58.564782  \n",
       "shop_category_mean_month_minus_1        10.474738  \n",
       "shop_category_mean_month_minus_3        33.829827  \n",
       "shop_category_mean_month_minus_6        59.388082  "
      ]
     },
     "execution_count": 125,
     "metadata": {},
     "output_type": "execute_result"
    }
   ],
   "source": [
    "columns = X.columns\n",
    "percent_missing = X.isna().sum() * 100 / len(X)\n",
    "pd.DataFrame({'column_name': columns,\n",
    "                                 'percent_missing': percent_missing})"
   ]
  },
  {
   "cell_type": "code",
   "execution_count": 126,
   "metadata": {},
   "outputs": [
    {
     "data": {
      "text/html": [
       "<div>\n",
       "<style scoped>\n",
       "    .dataframe tbody tr th:only-of-type {\n",
       "        vertical-align: middle;\n",
       "    }\n",
       "\n",
       "    .dataframe tbody tr th {\n",
       "        vertical-align: top;\n",
       "    }\n",
       "\n",
       "    .dataframe thead th {\n",
       "        text-align: right;\n",
       "    }\n",
       "</style>\n",
       "<table border=\"1\" class=\"dataframe\">\n",
       "  <thead>\n",
       "    <tr style=\"text-align: right;\">\n",
       "      <th></th>\n",
       "      <th>column_name</th>\n",
       "      <th>percent_missing</th>\n",
       "    </tr>\n",
       "  </thead>\n",
       "  <tbody>\n",
       "    <tr>\n",
       "      <th>ID</th>\n",
       "      <td>ID</td>\n",
       "      <td>0.000000</td>\n",
       "    </tr>\n",
       "    <tr>\n",
       "      <th>shop_id</th>\n",
       "      <td>shop_id</td>\n",
       "      <td>0.000000</td>\n",
       "    </tr>\n",
       "    <tr>\n",
       "      <th>item_name</th>\n",
       "      <td>item_name</td>\n",
       "      <td>0.000000</td>\n",
       "    </tr>\n",
       "    <tr>\n",
       "      <th>item_category_id</th>\n",
       "      <td>item_category_id</td>\n",
       "      <td>0.000000</td>\n",
       "    </tr>\n",
       "    <tr>\n",
       "      <th>item_id</th>\n",
       "      <td>item_id</td>\n",
       "      <td>0.000000</td>\n",
       "    </tr>\n",
       "    <tr>\n",
       "      <th>month</th>\n",
       "      <td>month</td>\n",
       "      <td>0.000000</td>\n",
       "    </tr>\n",
       "    <tr>\n",
       "      <th>item_mean</th>\n",
       "      <td>item_mean</td>\n",
       "      <td>8.843137</td>\n",
       "    </tr>\n",
       "    <tr>\n",
       "      <th>item_price</th>\n",
       "      <td>item_price</td>\n",
       "      <td>8.843137</td>\n",
       "    </tr>\n",
       "    <tr>\n",
       "      <th>item_mean_month</th>\n",
       "      <td>item_mean_month</td>\n",
       "      <td>51.509804</td>\n",
       "    </tr>\n",
       "    <tr>\n",
       "      <th>item_mean_month_minus_1</th>\n",
       "      <td>item_mean_month_minus_1</td>\n",
       "      <td>21.745098</td>\n",
       "    </tr>\n",
       "    <tr>\n",
       "      <th>item_mean_month_minus_3</th>\n",
       "      <td>item_mean_month_minus_3</td>\n",
       "      <td>32.235294</td>\n",
       "    </tr>\n",
       "    <tr>\n",
       "      <th>item_mean_month_minus_6</th>\n",
       "      <td>item_mean_month_minus_6</td>\n",
       "      <td>40.372549</td>\n",
       "    </tr>\n",
       "    <tr>\n",
       "      <th>shop_mean_month</th>\n",
       "      <td>shop_mean_month</td>\n",
       "      <td>2.380952</td>\n",
       "    </tr>\n",
       "    <tr>\n",
       "      <th>shop_mean_month_minus_1</th>\n",
       "      <td>shop_mean_month_minus_1</td>\n",
       "      <td>0.000000</td>\n",
       "    </tr>\n",
       "    <tr>\n",
       "      <th>shop_mean_month_minus_3</th>\n",
       "      <td>shop_mean_month_minus_3</td>\n",
       "      <td>2.380952</td>\n",
       "    </tr>\n",
       "    <tr>\n",
       "      <th>shop_mean_month_minus_6</th>\n",
       "      <td>shop_mean_month_minus_6</td>\n",
       "      <td>2.380952</td>\n",
       "    </tr>\n",
       "    <tr>\n",
       "      <th>category_mean_month</th>\n",
       "      <td>category_mean_month</td>\n",
       "      <td>3.274510</td>\n",
       "    </tr>\n",
       "    <tr>\n",
       "      <th>category_mean_month_minus_1</th>\n",
       "      <td>category_mean_month_minus_1</td>\n",
       "      <td>0.019608</td>\n",
       "    </tr>\n",
       "    <tr>\n",
       "      <th>category_mean_month_minus_3</th>\n",
       "      <td>category_mean_month_minus_3</td>\n",
       "      <td>0.019608</td>\n",
       "    </tr>\n",
       "    <tr>\n",
       "      <th>category_mean_month_minus_6</th>\n",
       "      <td>category_mean_month_minus_6</td>\n",
       "      <td>0.058824</td>\n",
       "    </tr>\n",
       "    <tr>\n",
       "      <th>shop_category_mean_month</th>\n",
       "      <td>shop_category_mean_month</td>\n",
       "      <td>20.875817</td>\n",
       "    </tr>\n",
       "    <tr>\n",
       "      <th>shop_category_mean_month_minus_1</th>\n",
       "      <td>shop_category_mean_month_minus_1</td>\n",
       "      <td>16.369281</td>\n",
       "    </tr>\n",
       "    <tr>\n",
       "      <th>shop_category_mean_month_minus_3</th>\n",
       "      <td>shop_category_mean_month_minus_3</td>\n",
       "      <td>19.365079</td>\n",
       "    </tr>\n",
       "    <tr>\n",
       "      <th>shop_category_mean_month_minus_6</th>\n",
       "      <td>shop_category_mean_month_minus_6</td>\n",
       "      <td>21.624183</td>\n",
       "    </tr>\n",
       "  </tbody>\n",
       "</table>\n",
       "</div>"
      ],
      "text/plain": [
       "                                                       column_name  \\\n",
       "ID                                                              ID   \n",
       "shop_id                                                    shop_id   \n",
       "item_name                                                item_name   \n",
       "item_category_id                                  item_category_id   \n",
       "item_id                                                    item_id   \n",
       "month                                                        month   \n",
       "item_mean                                                item_mean   \n",
       "item_price                                              item_price   \n",
       "item_mean_month                                    item_mean_month   \n",
       "item_mean_month_minus_1                    item_mean_month_minus_1   \n",
       "item_mean_month_minus_3                    item_mean_month_minus_3   \n",
       "item_mean_month_minus_6                    item_mean_month_minus_6   \n",
       "shop_mean_month                                    shop_mean_month   \n",
       "shop_mean_month_minus_1                    shop_mean_month_minus_1   \n",
       "shop_mean_month_minus_3                    shop_mean_month_minus_3   \n",
       "shop_mean_month_minus_6                    shop_mean_month_minus_6   \n",
       "category_mean_month                            category_mean_month   \n",
       "category_mean_month_minus_1            category_mean_month_minus_1   \n",
       "category_mean_month_minus_3            category_mean_month_minus_3   \n",
       "category_mean_month_minus_6            category_mean_month_minus_6   \n",
       "shop_category_mean_month                  shop_category_mean_month   \n",
       "shop_category_mean_month_minus_1  shop_category_mean_month_minus_1   \n",
       "shop_category_mean_month_minus_3  shop_category_mean_month_minus_3   \n",
       "shop_category_mean_month_minus_6  shop_category_mean_month_minus_6   \n",
       "\n",
       "                                  percent_missing  \n",
       "ID                                       0.000000  \n",
       "shop_id                                  0.000000  \n",
       "item_name                                0.000000  \n",
       "item_category_id                         0.000000  \n",
       "item_id                                  0.000000  \n",
       "month                                    0.000000  \n",
       "item_mean                                8.843137  \n",
       "item_price                               8.843137  \n",
       "item_mean_month                         51.509804  \n",
       "item_mean_month_minus_1                 21.745098  \n",
       "item_mean_month_minus_3                 32.235294  \n",
       "item_mean_month_minus_6                 40.372549  \n",
       "shop_mean_month                          2.380952  \n",
       "shop_mean_month_minus_1                  0.000000  \n",
       "shop_mean_month_minus_3                  2.380952  \n",
       "shop_mean_month_minus_6                  2.380952  \n",
       "category_mean_month                      3.274510  \n",
       "category_mean_month_minus_1              0.019608  \n",
       "category_mean_month_minus_3              0.019608  \n",
       "category_mean_month_minus_6              0.058824  \n",
       "shop_category_mean_month                20.875817  \n",
       "shop_category_mean_month_minus_1        16.369281  \n",
       "shop_category_mean_month_minus_3        19.365079  \n",
       "shop_category_mean_month_minus_6        21.624183  "
      ]
     },
     "execution_count": 126,
     "metadata": {},
     "output_type": "execute_result"
    }
   ],
   "source": [
    "columns = test_w_cat_ids.columns\n",
    "percent_missing = test_w_cat_ids.isna().sum() * 100 / len(test_w_cat_ids)\n",
    "pd.DataFrame({'column_name': columns,\n",
    "                                 'percent_missing': percent_missing})"
   ]
  },
  {
   "cell_type": "code",
   "execution_count": 52,
   "metadata": {},
   "outputs": [
    {
     "data": {
      "text/plain": [
       "array([0.01679102, 0.01182681, 0.02716022, ..., 0.15235307, 0.155364  ,\n",
       "       0.15498587])"
      ]
     },
     "execution_count": 52,
     "metadata": {},
     "output_type": "execute_result"
    }
   ],
   "source": [
    "x_lr_test = test_w_cat_ids[lr_features].copy()\n",
    "x_lr_test.fillna(x_lr_test.mean(), inplace=True)\n",
    "\n",
    "\n",
    "lr_preds = lr_model.predict(x_lr_test)\n",
    "lr_preds.clip(0,20,out=lr_preds)\n",
    "\n"
   ]
  },
  {
   "cell_type": "code",
   "execution_count": 94,
   "metadata": {},
   "outputs": [
    {
     "data": {
      "text/plain": [
       "(20635340, 17)"
      ]
     },
     "execution_count": 94,
     "metadata": {},
     "output_type": "execute_result"
    }
   ],
   "source": [
    "w_cat_ids.shape"
   ]
  },
  {
   "cell_type": "code",
   "execution_count": 172,
   "metadata": {},
   "outputs": [
    {
     "data": {
      "text/plain": [
       "array([ 0.01948448,  0.01456183,  0.02207664, ...,  0.07417426,\n",
       "        0.10402259,  0.0806465 ])"
      ]
     },
     "execution_count": 172,
     "metadata": {},
     "output_type": "execute_result"
    }
   ],
   "source": [
    "preds = model_lgb.predict(test_w_cat_ids[lgbm_features])\n",
    "preds.clip(0,20,out=preds)"
   ]
  },
  {
   "cell_type": "code",
   "execution_count": 175,
   "metadata": {},
   "outputs": [
    {
     "data": {
      "text/plain": [
       "40919.090909308601"
      ]
     },
     "execution_count": 175,
     "metadata": {},
     "output_type": "execute_result"
    }
   ],
   "source": [
    "preds.sum()"
   ]
  },
  {
   "cell_type": "code",
   "execution_count": 176,
   "metadata": {},
   "outputs": [
    {
     "data": {
      "text/plain": [
       "count    214200.000000\n",
       "mean          0.191032\n",
       "std           0.766636\n",
       "min           0.000000\n",
       "25%           0.012396\n",
       "50%           0.040408\n",
       "75%           0.123741\n",
       "max          20.000000\n",
       "dtype: float64"
      ]
     },
     "execution_count": 176,
     "metadata": {},
     "output_type": "execute_result"
    }
   ],
   "source": [
    "pd.Series(preds).describe()"
   ]
  },
  {
   "cell_type": "code",
   "execution_count": 56,
   "metadata": {},
   "outputs": [],
   "source": [
    "#ensemble\n",
    "ensemble_preds = np.mean(np.array([preds, lr_preds]), axis=0)"
   ]
  },
  {
   "cell_type": "code",
   "execution_count": 173,
   "metadata": {},
   "outputs": [],
   "source": [
    "submission = test.loc[:,['ID']]\n",
    "submission['item_cnt_month'] = preds.astype(int)\n",
    "#submission['item_cnt_month'] = ensemble_preds.astype(int)\n",
    "\n",
    "\n",
    "submission.to_csv('submission.csv', index=False)"
   ]
  },
  {
   "cell_type": "code",
   "execution_count": 174,
   "metadata": {},
   "outputs": [
    {
     "name": "stdout",
     "output_type": "stream",
     "text": [
      "Plotting feature importances...\n"
     ]
    },
    {
     "data": {
      "image/png": "[encoded data removed]",
      "text/plain": [
       "<Figure size 432x288 with 1 Axes>"
      ]
     },
     "metadata": {
      "needs_background": "light"
     },
     "output_type": "display_data"
    }
   ],
   "source": [
    "print('Plotting feature importances...')\n",
    "ax = lgbm.plot_importance(model_lgb, max_num_features=20)\n",
    "plt.show()"
   ]
  },
  {
   "cell_type": "markdown",
   "metadata": {},
   "source": [
    "3.45 val > 3.70 submit\n",
    "3.06 val > 3.65 submit"
   ]
  }
 ],
 "metadata": {
  "kernelspec": {
   "display_name": "Python 3",
   "language": "python",
   "name": "python3"
  },
  "language_info": {
   "codemirror_mode": {
    "name": "ipython",
    "version": 3
   },
   "file_extension": ".py",
   "mimetype": "text/x-python",
   "name": "python",
   "nbconvert_exporter": "python",
   "pygments_lexer": "ipython3",
   "version": "3.6.5"
  }
 },
 "nbformat": 4,
 "nbformat_minor": 2
}
