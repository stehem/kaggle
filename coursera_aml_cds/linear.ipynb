{
 "cells": [
  {
   "cell_type": "markdown",
   "metadata": {},
   "source": [
    "i was surprised to be able to get 1.11 with linear regression, which is not bad, this also ensembled well with the boosted trees submissions, i got 1.00x doing this"
   ]
  },
  {
   "cell_type": "code",
   "execution_count": 1,
   "metadata": {},
   "outputs": [
    {
     "data": {
      "text/html": [
       "<style>.container { width:100% !important; }</style>"
      ],
      "text/plain": [
       "<IPython.core.display.HTML object>"
      ]
     },
     "metadata": {},
     "output_type": "display_data"
    }
   ],
   "source": [
    "from IPython.core.display import display, HTML\n",
    "display(HTML(\"<style>.container { width:100% !important; }</style>\"))"
   ]
  },
  {
   "cell_type": "code",
   "execution_count": 2,
   "metadata": {},
   "outputs": [],
   "source": [
    "import pandas as pd\n",
    "import numpy as np\n",
    "import os\n",
    "import matplotlib.pyplot as plt\n",
    "%matplotlib inline \n",
    "from sklearn.ensemble import RandomForestRegressor\n",
    "from sklearn.tree import DecisionTreeRegressor\n",
    "from sklearn.tree import export_graphviz\n",
    "import matplotlib.pyplot as plt\n",
    "\n",
    "import gc\n",
    "import pickle as pickle\n",
    "\n",
    "\n",
    "from sklearn.model_selection import KFold\n",
    "from itertools import product\n",
    "import tensorflow as tf"
   ]
  },
  {
   "cell_type": "code",
   "execution_count": 7,
   "metadata": {},
   "outputs": [],
   "source": [
    "gc.collect()\n",
    "\n",
    "items           = pd.read_csv('items.csv',usecols=[\"item_id\", \"item_category_id\"])\n",
    "item_categories = pd.read_csv('item_categories.csv')\n",
    "shops           = pd.read_csv('shops.csv')\n",
    "sales_train     = pd.read_csv('sales_train.csv.gz')\n",
    "test            = pd.read_csv('test.csv.gz')"
   ]
  },
  {
   "cell_type": "code",
   "execution_count": 8,
   "metadata": {},
   "outputs": [],
   "source": [
    "sales_train[['day','month', 'year']] = sales_train['date'].str.split('.', expand=True).astype(int)\n",
    "#various experiments, this worked better with very fresh data\n",
    "sales_train = sales_train[sales_train['year'].isin([2013,2014]) == False]\n",
    "sales_train = sales_train.set_index('item_id').join(items.set_index('item_id'))\n",
    "sales_train.reset_index(inplace=True)"
   ]
  },
  {
   "cell_type": "code",
   "execution_count": 9,
   "metadata": {},
   "outputs": [],
   "source": [
    "train_item_ids = sales_train['item_id'].unique()\n",
    "\n",
    "train_shop_ids = sales_train['shop_id'].unique()\n",
    "test_item_ids = test['item_id'].unique()\n",
    "test_shop_ids = test['shop_id'].unique()\n",
    "train_blocks = sales_train['date_block_num'].unique()\n",
    "\n",
    "#same as the other notebooks\n",
    "all_item_ids = test_item_ids\n",
    "\n",
    "all_shop_ids = test_shop_ids\n",
    "\n"
   ]
  },
  {
   "cell_type": "code",
   "execution_count": 10,
   "metadata": {},
   "outputs": [],
   "source": [
    "\n",
    "#same as the other notebooks\n",
    "\n",
    "combinations = []\n",
    "\n",
    "for dbn in range(np.min(train_blocks), np.max(train_blocks)+1):\n",
    "    sales = sales_train[sales_train.date_block_num==dbn]\n",
    "    #item_ids = np.intersect1d(sales.item_id.unique(), test_item_ids)\n",
    "    item_ids = all_item_ids\n",
    "    #dbn_combos = list(product(sales.shop_id.unique(), item_ids, [dbn]))\n",
    "    dbn_combos = list(product(all_shop_ids, item_ids, [dbn]))\n",
    "    for combo in dbn_combos:\n",
    "        combinations.append(combo)\n",
    "        \n",
    "all_combos = pd.DataFrame(np.unique(np.vstack([combinations]), axis=0), columns=['shop_id','item_id','date_block_num'])"
   ]
  },
  {
   "cell_type": "code",
   "execution_count": 11,
   "metadata": {},
   "outputs": [],
   "source": [
    "#same as the other notebooks\n",
    "\n",
    "\n",
    "ys = sales_train.groupby(['shop_id', 'item_id', 'date_block_num'], as_index=False)['item_cnt_day']\\\n",
    "                .sum().rename(columns={\"item_cnt_day\":\"shop_item_cnt_block\"})\n",
    "\n",
    "training = all_combos.merge(ys, on=['shop_id', 'item_id', 'date_block_num'], how='left').fillna(0)\n",
    "\n",
    "\n",
    "training['shop_item_cnt_block'] = training['shop_item_cnt_block'].clip(0,20).astype('int8')\n",
    "\n",
    "training = training.set_index('item_id').join(items.set_index('item_id'))\n",
    "training.reset_index(inplace=True)\n",
    "\n",
    "for col in ['item_id', 'shop_id', 'item_category_id']:\n",
    "    training[col] = pd.to_numeric(training[col], downcast='unsigned')"
   ]
  },
  {
   "cell_type": "code",
   "execution_count": 12,
   "metadata": {},
   "outputs": [],
   "source": [
    "#same as the other notebooks\n",
    "\n",
    "\n",
    "dates = sales_train[['date_block_num', 'month', 'year']].drop_duplicates(['date_block_num', 'month', 'year'])\n",
    "\n",
    "dates_dict = {}\n",
    "\n",
    "for index,row in dates.iterrows():\n",
    "    dates_dict[row['date_block_num']] = {\"month\": row['month'], \"year\": row['year']}\n",
    "    \n",
    "training['month'] = pd.to_numeric(training['date_block_num'].apply(lambda block: dates_dict[block]['month']), downcast='unsigned')\n",
    "training['year'] = pd.to_numeric(training['date_block_num'].apply(lambda block: dates_dict[block]['year']), downcast='unsigned')\n",
    "\n"
   ]
  },
  {
   "cell_type": "code",
   "execution_count": 13,
   "metadata": {},
   "outputs": [],
   "source": [
    "#same as the other notebooks\n",
    "\n",
    "\n",
    "ys = sales_train.groupby(['item_id', 'date_block_num'], as_index=False)['item_cnt_day']\\\n",
    "                .sum().rename(columns={\"item_cnt_day\":\"item_cnt_block\"})\n",
    "\n",
    "training = training.merge(ys, on=['item_id', 'date_block_num'], how='left').fillna(0)\n",
    "\n",
    "ys = sales_train.groupby(['shop_id', 'date_block_num'], as_index=False)['item_cnt_day']\\\n",
    "                .sum().rename(columns={\"item_cnt_day\":\"shop_cnt_block\"})\n",
    "\n",
    "training = training.merge(ys, on=['shop_id', 'date_block_num'], how='left').fillna(0)\n",
    "\n",
    "\n",
    "ys = sales_train.groupby(['item_category_id', 'date_block_num'], as_index=False)['item_cnt_day']\\\n",
    "                .sum().rename(columns={\"item_cnt_day\":\"category_cnt_block\"})\n",
    "\n",
    "\n",
    "training = training.merge(ys, on=['item_category_id', 'date_block_num'], how='left').fillna(0)\n",
    "\n",
    "\n",
    "ys = sales_train.groupby(['shop_id', 'item_category_id', 'date_block_num'], as_index=False)['item_cnt_day']\\\n",
    "                .sum().rename(columns={\"item_cnt_day\":\"shop_category_cnt_block\"})\n",
    "\n",
    "training = training.merge(ys, on=['shop_id', 'item_category_id', 'date_block_num'], how='left').fillna(0)\n"
   ]
  },
  {
   "cell_type": "code",
   "execution_count": null,
   "metadata": {},
   "outputs": [],
   "source": [
    "training['item_cnt_block_mean'] = training.groupby(['date_block_num'])['item_cnt_block'].transform(np.mean)\n",
    "training['item_cnt_block_min'] = training.groupby(['date_block_num'])['item_cnt_block'].transform(np.min)\n",
    "training['item_cnt_block_max'] = training.groupby(['date_block_num'])['item_cnt_block'].transform(np.max)\n",
    "training['item_cnt_block_std'] = training.groupby(['date_block_num'])['item_cnt_block'].transform(np.std)\n",
    "training['item_cnt_block_med'] = training.groupby(['date_block_num'])['item_cnt_block'].transform(np.median)"
   ]
  },
  {
   "cell_type": "code",
   "execution_count": null,
   "metadata": {},
   "outputs": [],
   "source": [
    "training['shop_cnt_block_mean'] = training.groupby(['date_block_num'])['shop_cnt_block'].transform(np.mean)\n",
    "training['shop_cnt_block_min'] = training.groupby(['date_block_num'])['shop_cnt_block'].transform(np.min)\n",
    "training['shop_cnt_block_max'] = training.groupby(['date_block_num'])['shop_cnt_block'].transform(np.max)\n",
    "training['shop_cnt_block_std'] = training.groupby(['date_block_num'])['shop_cnt_block'].transform(np.std)\n",
    "training['shop_cnt_block_med'] = training.groupby(['date_block_num'])['shop_cnt_block'].transform(np.median)"
   ]
  },
  {
   "cell_type": "code",
   "execution_count": null,
   "metadata": {},
   "outputs": [],
   "source": [
    "training['category_cnt_block_mean'] = training.groupby(['date_block_num'])['category_cnt_block'].transform(np.mean)\n",
    "training['category_cnt_block_min'] = training.groupby(['date_block_num'])['category_cnt_block'].transform(np.min)\n",
    "training['category_cnt_block_max'] = training.groupby(['date_block_num'])['category_cnt_block'].transform(np.max)\n",
    "training['category_cnt_block_std'] = training.groupby(['date_block_num'])['category_cnt_block'].transform(np.std)\n",
    "training['category_cnt_block_med'] = training.groupby(['date_block_num'])['category_cnt_block'].transform(np.median)"
   ]
  },
  {
   "cell_type": "code",
   "execution_count": null,
   "metadata": {},
   "outputs": [],
   "source": [
    "training['shop_category_cnt_block_mean'] = training.groupby(['date_block_num'])['shop_category_cnt_block'].transform(np.mean)\n",
    "training['shop_category_cnt_block_min'] = training.groupby(['date_block_num'])['shop_category_cnt_block'].transform(np.min)\n",
    "training['shop_category_cnt_block_max'] = training.groupby(['date_block_num'])['shop_category_cnt_block'].transform(np.max)\n",
    "training['shop_category_cnt_block_std'] = training.groupby(['date_block_num'])['shop_category_cnt_block'].transform(np.std)\n",
    "training['shop_category_cnt_block_med'] = training.groupby(['date_block_num'])['shop_category_cnt_block'].transform(np.median)"
   ]
  },
  {
   "cell_type": "code",
   "execution_count": null,
   "metadata": {},
   "outputs": [],
   "source": [
    "training['shop_item_cnt_block_mean'] = training.groupby(['date_block_num'])['shop_item_cnt_block'].transform(np.mean)\n",
    "training['shop_item_cnt_block_min'] = training.groupby(['date_block_num'])['shop_item_cnt_block'].transform(np.min)\n",
    "training['shop_item_cnt_block_max'] = training.groupby(['date_block_num'])['shop_item_cnt_block'].transform(np.max)\n",
    "training['shop_item_cnt_block_std'] = training.groupby(['date_block_num'])['shop_item_cnt_block'].transform(np.std)\n",
    "training['shop_item_cnt_block_med'] = training.groupby(['date_block_num'])['shop_item_cnt_block'].transform(np.median)"
   ]
  },
  {
   "cell_type": "code",
   "execution_count": 14,
   "metadata": {},
   "outputs": [
    {
     "name": "stdout",
     "output_type": "stream",
     "text": [
      "fold 1\n",
      "fold 2\n",
      "fold 3\n",
      "fold 4\n",
      "fold 5\n"
     ]
    }
   ],
   "source": [
    "#https://maxhalford.github.io/blog/target-encoding-done-the-right-way/\n",
    "#https://www.kaggle.com/vprokopev/mean-likelihood-encodings-a-comprehensive-study\n",
    "\n",
    "#same as the other notebooks\n",
    "\n",
    "from sklearn.model_selection import StratifiedKFold\n",
    "columns = [\"item_id\", \"shop_id\", \"item_category_id\"]\n",
    "\n",
    "\n",
    "\n",
    "y_train = training[\"shop_item_cnt_block\"].values\n",
    "folds = KFold(n_splits = 5, shuffle=True).split(training)\n",
    "\n",
    "i=1\n",
    "for in_fold_index, out_of_fold_index in folds:\n",
    "    print(\"fold\", i)\n",
    "    #print(np.intersect1d(training.loc[in_fold_index][\"shop_id\"].unique(), training.loc[out_of_fold_index][\"shop_id\"].unique()))\n",
    "    #print(len(in_fold_index))\n",
    "    for column in columns:\n",
    "        means = training.iloc[in_fold_index].groupby(column)['shop_item_cnt_block'].mean()\n",
    "            #x_validation[column + \"_mean_target\"] = means\\\n",
    "        name = column + '_mean_encoding'\n",
    "        training.loc[out_of_fold_index,name] = training.loc[out_of_fold_index][column].map(means)\n",
    "    i+=1"
   ]
  },
  {
   "cell_type": "code",
   "execution_count": 16,
   "metadata": {},
   "outputs": [
    {
     "name": "stdout",
     "output_type": "stream",
     "text": [
      "1\n",
      "2\n",
      "3\n"
     ]
    }
   ],
   "source": [
    "#i use a weighted average of the data, the fresher it is the heavier the weight so that the mean skews towards\n",
    "#the most recent\n",
    "\n",
    "weights=[1/55,2/55,3/55,4/55,5/55,6/55,7/55,8/55,9/55,10/55]\n",
    "item_cnt_block_avg = training.groupby(['item_id', 'shop_id'])['item_cnt_block'].apply(np.average, weights=weights).reset_index().rename(columns={\"item_cnt_block\":\"item_cnt_block_avg\"})\n",
    "print(1)\n",
    "shop_cnt_block_avg = training.groupby(['item_id', 'shop_id'])['shop_cnt_block'].apply(np.average, weights=weights).reset_index().rename(columns={\"shop_cnt_block\":\"shop_cnt_block_avg\"})\n",
    "print(2)\n",
    "category_cnt_block_avg = training.groupby(['item_id', 'shop_id'])['category_cnt_block'].apply(np.average, weights=weights).reset_index().rename(columns={\"category_cnt_block\":\"category_cnt_block_avg\"})\n",
    "print(3)\n",
    "shop_cat_cnt_block_avg = training.groupby(['item_id', 'shop_id'])['shop_category_cnt_block'].apply(np.average, weights=weights)\\\n",
    "                    .reset_index().rename(columns={\"shop_category_cnt_block\":\"shop_category_cnt_block_avg\"})"
   ]
  },
  {
   "cell_type": "code",
   "execution_count": 17,
   "metadata": {},
   "outputs": [],
   "source": [
    "#the average data is the building block of the train data\n",
    "\n",
    "item_cnt_block_avg.head()\n",
    "consolidated = item_cnt_block_avg\n",
    "cols= [\"item_id\", \"shop_id\"]\n",
    "consolidated = consolidated.merge(shop_cnt_block_avg,on=cols,how='left')\n",
    "del item_cnt_block_avg\n",
    "del shop_cnt_block_avg\n",
    "consolidated = consolidated.merge(category_cnt_block_avg,on=cols,how='left')\n",
    "del category_cnt_block_avg\n",
    "consolidated = consolidated.merge(shop_cat_cnt_block_avg,on=cols,how='left')\n",
    "del shop_cat_cnt_block_avg"
   ]
  },
  {
   "cell_type": "code",
   "execution_count": 24,
   "metadata": {},
   "outputs": [
    {
     "data": {
      "text/plain": [
       "214200"
      ]
     },
     "execution_count": 24,
     "metadata": {},
     "output_type": "execute_result"
    }
   ],
   "source": [
    "len(consolidated)"
   ]
  },
  {
   "cell_type": "code",
   "execution_count": 18,
   "metadata": {},
   "outputs": [],
   "source": [
    "training.fillna(0,inplace=True)"
   ]
  },
  {
   "cell_type": "code",
   "execution_count": 23,
   "metadata": {},
   "outputs": [],
   "source": [
    "consolidated = consolidated.merge(training[training['date_block_num']==33][cols+['date_block_num','shop_item_cnt_block']],on=cols,how='left')"
   ]
  },
  {
   "cell_type": "code",
   "execution_count": 26,
   "metadata": {},
   "outputs": [
    {
     "data": {
      "text/plain": [
       "array(['item_id', 'shop_id', 'item_cnt_block_avg', 'shop_cnt_block_avg',\n",
       "       'category_cnt_block_avg', 'shop_category_cnt_block_avg',\n",
       "       'date_block_num', 'shop_item_cnt_block'], dtype=object)"
      ]
     },
     "execution_count": 26,
     "metadata": {},
     "output_type": "execute_result"
    }
   ],
   "source": [
    "consolidated.columns.values"
   ]
  },
  {
   "cell_type": "code",
   "execution_count": 27,
   "metadata": {},
   "outputs": [],
   "source": [
    "#also worked best with the basic feature set\n",
    "features = [\n",
    "    'item_cnt_block_avg', 'shop_cnt_block_avg',\n",
    "       'category_cnt_block_avg', 'shop_category_cnt_block_avg'\n",
    "]"
   ]
  },
  {
   "cell_type": "code",
   "execution_count": 28,
   "metadata": {},
   "outputs": [],
   "source": [
    "#lr needs scaling\n",
    "\n",
    "from sklearn.preprocessing import StandardScaler,MinMaxScaler \n",
    "\n",
    "\n",
    "consolidated[features] = MinMaxScaler().fit_transform(consolidated[features])\n",
    "\n",
    "consolidated[features] = consolidated[features].apply(pd.to_numeric, downcast='float')"
   ]
  },
  {
   "cell_type": "code",
   "execution_count": 29,
   "metadata": {},
   "outputs": [
    {
     "data": {
      "text/html": [
       "<div>\n",
       "<style scoped>\n",
       "    .dataframe tbody tr th:only-of-type {\n",
       "        vertical-align: middle;\n",
       "    }\n",
       "\n",
       "    .dataframe tbody tr th {\n",
       "        vertical-align: top;\n",
       "    }\n",
       "\n",
       "    .dataframe thead th {\n",
       "        text-align: right;\n",
       "    }\n",
       "</style>\n",
       "<table border=\"1\" class=\"dataframe\">\n",
       "  <thead>\n",
       "    <tr style=\"text-align: right;\">\n",
       "      <th></th>\n",
       "      <th>item_id</th>\n",
       "      <th>shop_id</th>\n",
       "      <th>item_cnt_block_avg</th>\n",
       "      <th>shop_cnt_block_avg</th>\n",
       "      <th>category_cnt_block_avg</th>\n",
       "      <th>shop_category_cnt_block_avg</th>\n",
       "      <th>date_block_num</th>\n",
       "      <th>shop_item_cnt_block</th>\n",
       "    </tr>\n",
       "  </thead>\n",
       "  <tbody>\n",
       "    <tr>\n",
       "      <th>113665</th>\n",
       "      <td>12020</td>\n",
       "      <td>21</td>\n",
       "      <td>0.030665</td>\n",
       "      <td>0.278043</td>\n",
       "      <td>1.000000</td>\n",
       "      <td>0.153721</td>\n",
       "      <td>33</td>\n",
       "      <td>1</td>\n",
       "    </tr>\n",
       "    <tr>\n",
       "      <th>95787</th>\n",
       "      <td>10148</td>\n",
       "      <td>42</td>\n",
       "      <td>0.002291</td>\n",
       "      <td>0.639257</td>\n",
       "      <td>0.696913</td>\n",
       "      <td>0.213149</td>\n",
       "      <td>33</td>\n",
       "      <td>0</td>\n",
       "    </tr>\n",
       "    <tr>\n",
       "      <th>39240</th>\n",
       "      <td>4049</td>\n",
       "      <td>19</td>\n",
       "      <td>0.005858</td>\n",
       "      <td>0.219493</td>\n",
       "      <td>0.336978</td>\n",
       "      <td>0.034315</td>\n",
       "      <td>33</td>\n",
       "      <td>0</td>\n",
       "    </tr>\n",
       "    <tr>\n",
       "      <th>50451</th>\n",
       "      <td>5044</td>\n",
       "      <td>15</td>\n",
       "      <td>0.002567</td>\n",
       "      <td>0.200639</td>\n",
       "      <td>0.336978</td>\n",
       "      <td>0.042265</td>\n",
       "      <td>33</td>\n",
       "      <td>1</td>\n",
       "    </tr>\n",
       "    <tr>\n",
       "      <th>141005</th>\n",
       "      <td>14362</td>\n",
       "      <td>18</td>\n",
       "      <td>0.000311</td>\n",
       "      <td>0.192290</td>\n",
       "      <td>0.042667</td>\n",
       "      <td>0.015147</td>\n",
       "      <td>33</td>\n",
       "      <td>0</td>\n",
       "    </tr>\n",
       "    <tr>\n",
       "      <th>207641</th>\n",
       "      <td>21377</td>\n",
       "      <td>52</td>\n",
       "      <td>0.004235</td>\n",
       "      <td>0.141664</td>\n",
       "      <td>1.000000</td>\n",
       "      <td>0.079680</td>\n",
       "      <td>33</td>\n",
       "      <td>0</td>\n",
       "    </tr>\n",
       "    <tr>\n",
       "      <th>119489</th>\n",
       "      <td>12697</td>\n",
       "      <td>59</td>\n",
       "      <td>0.002090</td>\n",
       "      <td>0.146951</td>\n",
       "      <td>0.106027</td>\n",
       "      <td>0.008882</td>\n",
       "      <td>33</td>\n",
       "      <td>0</td>\n",
       "    </tr>\n",
       "    <tr>\n",
       "      <th>59706</th>\n",
       "      <td>6041</td>\n",
       "      <td>38</td>\n",
       "      <td>0.000301</td>\n",
       "      <td>0.204317</td>\n",
       "      <td>0.042667</td>\n",
       "      <td>0.000702</td>\n",
       "      <td>33</td>\n",
       "      <td>0</td>\n",
       "    </tr>\n",
       "    <tr>\n",
       "      <th>72411</th>\n",
       "      <td>7459</td>\n",
       "      <td>5</td>\n",
       "      <td>0.002909</td>\n",
       "      <td>0.161951</td>\n",
       "      <td>0.696913</td>\n",
       "      <td>0.078711</td>\n",
       "      <td>33</td>\n",
       "      <td>0</td>\n",
       "    </tr>\n",
       "    <tr>\n",
       "      <th>23795</th>\n",
       "      <td>2778</td>\n",
       "      <td>37</td>\n",
       "      <td>0.001372</td>\n",
       "      <td>0.147785</td>\n",
       "      <td>0.725807</td>\n",
       "      <td>0.098184</td>\n",
       "      <td>33</td>\n",
       "      <td>0</td>\n",
       "    </tr>\n",
       "  </tbody>\n",
       "</table>\n",
       "</div>"
      ],
      "text/plain": [
       "        item_id  shop_id  item_cnt_block_avg  shop_cnt_block_avg  category_cnt_block_avg  shop_category_cnt_block_avg  date_block_num  shop_item_cnt_block\n",
       "113665  12020    21       0.030665            0.278043            1.000000                0.153721                     33              1                  \n",
       "95787   10148    42       0.002291            0.639257            0.696913                0.213149                     33              0                  \n",
       "39240   4049     19       0.005858            0.219493            0.336978                0.034315                     33              0                  \n",
       "50451   5044     15       0.002567            0.200639            0.336978                0.042265                     33              1                  \n",
       "141005  14362    18       0.000311            0.192290            0.042667                0.015147                     33              0                  \n",
       "207641  21377    52       0.004235            0.141664            1.000000                0.079680                     33              0                  \n",
       "119489  12697    59       0.002090            0.146951            0.106027                0.008882                     33              0                  \n",
       "59706   6041     38       0.000301            0.204317            0.042667                0.000702                     33              0                  \n",
       "72411   7459     5        0.002909            0.161951            0.696913                0.078711                     33              0                  \n",
       "23795   2778     37       0.001372            0.147785            0.725807                0.098184                     33              0                  "
      ]
     },
     "execution_count": 29,
     "metadata": {},
     "output_type": "execute_result"
    }
   ],
   "source": [
    "consolidated.sample(10)"
   ]
  },
  {
   "cell_type": "code",
   "execution_count": 19,
   "metadata": {},
   "outputs": [
    {
     "data": {
      "text/html": [
       "<div>\n",
       "<style scoped>\n",
       "    .dataframe tbody tr th:only-of-type {\n",
       "        vertical-align: middle;\n",
       "    }\n",
       "\n",
       "    .dataframe tbody tr th {\n",
       "        vertical-align: top;\n",
       "    }\n",
       "\n",
       "    .dataframe thead th {\n",
       "        text-align: right;\n",
       "    }\n",
       "</style>\n",
       "<table border=\"1\" class=\"dataframe\">\n",
       "  <thead>\n",
       "    <tr style=\"text-align: right;\">\n",
       "      <th></th>\n",
       "      <th>item_id</th>\n",
       "      <th>shop_id</th>\n",
       "      <th>date_block_num</th>\n",
       "      <th>shop_item_cnt_block</th>\n",
       "      <th>item_category_id</th>\n",
       "      <th>month</th>\n",
       "      <th>year</th>\n",
       "      <th>item_cnt_block</th>\n",
       "      <th>shop_cnt_block</th>\n",
       "      <th>category_cnt_block</th>\n",
       "      <th>shop_category_cnt_block</th>\n",
       "      <th>item_id_mean_encoding</th>\n",
       "      <th>shop_id_mean_encoding</th>\n",
       "      <th>item_category_id_mean_encoding</th>\n",
       "    </tr>\n",
       "  </thead>\n",
       "  <tbody>\n",
       "    <tr>\n",
       "      <th>296677</th>\n",
       "      <td>3245</td>\n",
       "      <td>24</td>\n",
       "      <td>31</td>\n",
       "      <td>0</td>\n",
       "      <td>24</td>\n",
       "      <td>8</td>\n",
       "      <td>2015</td>\n",
       "      <td>2.0</td>\n",
       "      <td>1186.0</td>\n",
       "      <td>1011.0</td>\n",
       "      <td>22.0</td>\n",
       "      <td>0.067901</td>\n",
       "      <td>0.205065</td>\n",
       "      <td>0.232087</td>\n",
       "    </tr>\n",
       "    <tr>\n",
       "      <th>1989398</th>\n",
       "      <td>20462</td>\n",
       "      <td>42</td>\n",
       "      <td>32</td>\n",
       "      <td>2</td>\n",
       "      <td>72</td>\n",
       "      <td>9</td>\n",
       "      <td>2015</td>\n",
       "      <td>7.0</td>\n",
       "      <td>4237.0</td>\n",
       "      <td>1258.0</td>\n",
       "      <td>103.0</td>\n",
       "      <td>0.173021</td>\n",
       "      <td>0.547448</td>\n",
       "      <td>0.143718</td>\n",
       "    </tr>\n",
       "    <tr>\n",
       "      <th>843651</th>\n",
       "      <td>8778</td>\n",
       "      <td>45</td>\n",
       "      <td>25</td>\n",
       "      <td>1</td>\n",
       "      <td>40</td>\n",
       "      <td>2</td>\n",
       "      <td>2015</td>\n",
       "      <td>17.0</td>\n",
       "      <td>796.0</td>\n",
       "      <td>12100.0</td>\n",
       "      <td>69.0</td>\n",
       "      <td>0.288288</td>\n",
       "      <td>0.118733</td>\n",
       "      <td>0.188009</td>\n",
       "    </tr>\n",
       "    <tr>\n",
       "      <th>1662543</th>\n",
       "      <td>16366</td>\n",
       "      <td>28</td>\n",
       "      <td>27</td>\n",
       "      <td>0</td>\n",
       "      <td>31</td>\n",
       "      <td>4</td>\n",
       "      <td>2015</td>\n",
       "      <td>0.0</td>\n",
       "      <td>3686.0</td>\n",
       "      <td>2506.0</td>\n",
       "      <td>0.0</td>\n",
       "      <td>0.021148</td>\n",
       "      <td>0.584290</td>\n",
       "      <td>0.044466</td>\n",
       "    </tr>\n",
       "    <tr>\n",
       "      <th>653644</th>\n",
       "      <td>6615</td>\n",
       "      <td>19</td>\n",
       "      <td>28</td>\n",
       "      <td>1</td>\n",
       "      <td>19</td>\n",
       "      <td>5</td>\n",
       "      <td>2015</td>\n",
       "      <td>19.0</td>\n",
       "      <td>1459.0</td>\n",
       "      <td>3392.0</td>\n",
       "      <td>78.0</td>\n",
       "      <td>0.290909</td>\n",
       "      <td>0.244068</td>\n",
       "      <td>0.534379</td>\n",
       "    </tr>\n",
       "    <tr>\n",
       "      <th>485852</th>\n",
       "      <td>4906</td>\n",
       "      <td>49</td>\n",
       "      <td>26</td>\n",
       "      <td>1</td>\n",
       "      <td>19</td>\n",
       "      <td>3</td>\n",
       "      <td>2015</td>\n",
       "      <td>40.0</td>\n",
       "      <td>679.0</td>\n",
       "      <td>3737.0</td>\n",
       "      <td>44.0</td>\n",
       "      <td>0.483965</td>\n",
       "      <td>0.129946</td>\n",
       "      <td>0.532307</td>\n",
       "    </tr>\n",
       "    <tr>\n",
       "      <th>984858</th>\n",
       "      <td>10347</td>\n",
       "      <td>55</td>\n",
       "      <td>32</td>\n",
       "      <td>0</td>\n",
       "      <td>40</td>\n",
       "      <td>9</td>\n",
       "      <td>2015</td>\n",
       "      <td>12.0</td>\n",
       "      <td>6867.0</td>\n",
       "      <td>6779.0</td>\n",
       "      <td>0.0</td>\n",
       "      <td>0.226586</td>\n",
       "      <td>0.189542</td>\n",
       "      <td>0.188009</td>\n",
       "    </tr>\n",
       "    <tr>\n",
       "      <th>1302202</th>\n",
       "      <td>13381</td>\n",
       "      <td>34</td>\n",
       "      <td>26</td>\n",
       "      <td>0</td>\n",
       "      <td>49</td>\n",
       "      <td>3</td>\n",
       "      <td>2015</td>\n",
       "      <td>14.0</td>\n",
       "      <td>431.0</td>\n",
       "      <td>818.0</td>\n",
       "      <td>19.0</td>\n",
       "      <td>0.207101</td>\n",
       "      <td>0.071451</td>\n",
       "      <td>0.148434</td>\n",
       "    </tr>\n",
       "    <tr>\n",
       "      <th>583504</th>\n",
       "      <td>5907</td>\n",
       "      <td>19</td>\n",
       "      <td>28</td>\n",
       "      <td>0</td>\n",
       "      <td>20</td>\n",
       "      <td>5</td>\n",
       "      <td>2015</td>\n",
       "      <td>0.0</td>\n",
       "      <td>1459.0</td>\n",
       "      <td>7130.0</td>\n",
       "      <td>131.0</td>\n",
       "      <td>0.071023</td>\n",
       "      <td>0.246038</td>\n",
       "      <td>0.711720</td>\n",
       "    </tr>\n",
       "    <tr>\n",
       "      <th>2004411</th>\n",
       "      <td>20604</td>\n",
       "      <td>26</td>\n",
       "      <td>25</td>\n",
       "      <td>0</td>\n",
       "      <td>72</td>\n",
       "      <td>2</td>\n",
       "      <td>2015</td>\n",
       "      <td>11.0</td>\n",
       "      <td>1339.0</td>\n",
       "      <td>1875.0</td>\n",
       "      <td>9.0</td>\n",
       "      <td>0.181009</td>\n",
       "      <td>0.204092</td>\n",
       "      <td>0.142271</td>\n",
       "    </tr>\n",
       "  </tbody>\n",
       "</table>\n",
       "</div>"
      ],
      "text/plain": [
       "         item_id  shop_id  date_block_num  shop_item_cnt_block  item_category_id  month  year  item_cnt_block  shop_cnt_block  category_cnt_block  shop_category_cnt_block  item_id_mean_encoding  shop_id_mean_encoding  item_category_id_mean_encoding\n",
       "296677   3245     24       31              0                    24                8      2015  2.0             1186.0          1011.0              22.0                     0.067901               0.205065               0.232087                      \n",
       "1989398  20462    42       32              2                    72                9      2015  7.0             4237.0          1258.0              103.0                    0.173021               0.547448               0.143718                      \n",
       "843651   8778     45       25              1                    40                2      2015  17.0            796.0           12100.0             69.0                     0.288288               0.118733               0.188009                      \n",
       "1662543  16366    28       27              0                    31                4      2015  0.0             3686.0          2506.0              0.0                      0.021148               0.584290               0.044466                      \n",
       "653644   6615     19       28              1                    19                5      2015  19.0            1459.0          3392.0              78.0                     0.290909               0.244068               0.534379                      \n",
       "485852   4906     49       26              1                    19                3      2015  40.0            679.0           3737.0              44.0                     0.483965               0.129946               0.532307                      \n",
       "984858   10347    55       32              0                    40                9      2015  12.0            6867.0          6779.0              0.0                      0.226586               0.189542               0.188009                      \n",
       "1302202  13381    34       26              0                    49                3      2015  14.0            431.0           818.0               19.0                     0.207101               0.071451               0.148434                      \n",
       "583504   5907     19       28              0                    20                5      2015  0.0             1459.0          7130.0              131.0                    0.071023               0.246038               0.711720                      \n",
       "2004411  20604    26       25              0                    72                2      2015  11.0            1339.0          1875.0              9.0                      0.181009               0.204092               0.142271                      "
      ]
     },
     "execution_count": 19,
     "metadata": {},
     "output_type": "execute_result"
    }
   ],
   "source": [
    "\n",
    "pd.set_option('display.max_columns', None)  \n",
    "pd.set_option('display.expand_frame_repr', False)\n",
    "pd.set_option('max_colwidth', -1)\n",
    "training.sample(10)"
   ]
  },
  {
   "cell_type": "code",
   "execution_count": 41,
   "metadata": {},
   "outputs": [
    {
     "name": "stdout",
     "output_type": "stream",
     "text": [
      "rmse:  0.9658089636255409\n"
     ]
    }
   ],
   "source": [
    "#did not use train/validation to save time since overfitting was much less of a concern\n",
    "\n",
    "from sklearn.linear_model import ElasticNet, Lasso, Ridge, LinearRegression,BayesianRidge, HuberRegressor\n",
    "\n",
    "features = [\n",
    "    'item_cnt_block_avg', \n",
    "    'shop_cnt_block_avg',\n",
    "    'category_cnt_block_avg',\n",
    "    'shop_category_cnt_block_avg'\n",
    "]\n",
    "\n",
    "lr_model =  LinearRegression()\n",
    "x_train = consolidated[['date_block_num']+features]\n",
    "y_train = consolidated['shop_item_cnt_block']\n",
    "lr_model.fit(x_train, y_train)\n",
    "\n",
    "from sklearn.metrics import mean_squared_error\n",
    "from math import sqrt\n",
    "\n",
    "train_preds = lr_model.predict(x_train)\n",
    "train_preds.clip(0,20,out=train_preds)\n",
    "rms = sqrt(mean_squared_error(y_train, train_preds))\n",
    "print(\"rmse: \", rms)"
   ]
  },
  {
   "cell_type": "code",
   "execution_count": 42,
   "metadata": {},
   "outputs": [
    {
     "data": {
      "text/plain": [
       "array([ 0.        , 26.9486764 ,  0.51294499, -0.17438215,  1.74442185])"
      ]
     },
     "execution_count": 42,
     "metadata": {},
     "output_type": "execute_result"
    }
   ],
   "source": [
    "lr_model.coef_"
   ]
  },
  {
   "cell_type": "code",
   "execution_count": 48,
   "metadata": {},
   "outputs": [
    {
     "data": {
      "text/html": [
       "<div>\n",
       "<style scoped>\n",
       "    .dataframe tbody tr th:only-of-type {\n",
       "        vertical-align: middle;\n",
       "    }\n",
       "\n",
       "    .dataframe tbody tr th {\n",
       "        vertical-align: top;\n",
       "    }\n",
       "\n",
       "    .dataframe thead th {\n",
       "        text-align: right;\n",
       "    }\n",
       "</style>\n",
       "<table border=\"1\" class=\"dataframe\">\n",
       "  <thead>\n",
       "    <tr style=\"text-align: right;\">\n",
       "      <th></th>\n",
       "      <th>ID</th>\n",
       "      <th>shop_id</th>\n",
       "      <th>item_id</th>\n",
       "      <th>item_cnt_block_avg</th>\n",
       "      <th>shop_cnt_block_avg</th>\n",
       "      <th>category_cnt_block_avg</th>\n",
       "      <th>shop_category_cnt_block_avg</th>\n",
       "    </tr>\n",
       "  </thead>\n",
       "  <tbody>\n",
       "    <tr>\n",
       "      <th>0</th>\n",
       "      <td>0</td>\n",
       "      <td>5</td>\n",
       "      <td>5037</td>\n",
       "      <td>0.020176</td>\n",
       "      <td>0.161951</td>\n",
       "      <td>0.394336</td>\n",
       "      <td>0.060041</td>\n",
       "    </tr>\n",
       "    <tr>\n",
       "      <th>1</th>\n",
       "      <td>1</td>\n",
       "      <td>5</td>\n",
       "      <td>5320</td>\n",
       "      <td>0.000000</td>\n",
       "      <td>0.161951</td>\n",
       "      <td>0.696913</td>\n",
       "      <td>0.078711</td>\n",
       "    </tr>\n",
       "    <tr>\n",
       "      <th>2</th>\n",
       "      <td>2</td>\n",
       "      <td>5</td>\n",
       "      <td>5233</td>\n",
       "      <td>0.018588</td>\n",
       "      <td>0.161951</td>\n",
       "      <td>0.394336</td>\n",
       "      <td>0.060041</td>\n",
       "    </tr>\n",
       "    <tr>\n",
       "      <th>3</th>\n",
       "      <td>3</td>\n",
       "      <td>5</td>\n",
       "      <td>5232</td>\n",
       "      <td>0.006189</td>\n",
       "      <td>0.161951</td>\n",
       "      <td>0.336978</td>\n",
       "      <td>0.039470</td>\n",
       "    </tr>\n",
       "    <tr>\n",
       "      <th>4</th>\n",
       "      <td>4</td>\n",
       "      <td>5</td>\n",
       "      <td>5268</td>\n",
       "      <td>0.000000</td>\n",
       "      <td>0.161951</td>\n",
       "      <td>0.625360</td>\n",
       "      <td>0.052231</td>\n",
       "    </tr>\n",
       "  </tbody>\n",
       "</table>\n",
       "</div>"
      ],
      "text/plain": [
       "   ID  shop_id  item_id  item_cnt_block_avg  shop_cnt_block_avg  category_cnt_block_avg  shop_category_cnt_block_avg\n",
       "0  0   5        5037     0.020176            0.161951            0.394336                0.060041                   \n",
       "1  1   5        5320     0.000000            0.161951            0.696913                0.078711                   \n",
       "2  2   5        5233     0.018588            0.161951            0.394336                0.060041                   \n",
       "3  3   5        5232     0.006189            0.161951            0.336978                0.039470                   \n",
       "4  4   5        5268     0.000000            0.161951            0.625360                0.052231                   "
      ]
     },
     "execution_count": 48,
     "metadata": {},
     "output_type": "execute_result"
    }
   ],
   "source": [
    "test.head()"
   ]
  },
  {
   "cell_type": "code",
   "execution_count": 47,
   "metadata": {},
   "outputs": [
    {
     "data": {
      "text/plain": [
       "214200"
      ]
     },
     "execution_count": 47,
     "metadata": {},
     "output_type": "execute_result"
    }
   ],
   "source": [
    "len(test)"
   ]
  },
  {
   "cell_type": "code",
   "execution_count": 46,
   "metadata": {},
   "outputs": [],
   "source": [
    "test = test.merge(consolidated[cols + features],on=cols,how='left')"
   ]
  },
  {
   "cell_type": "code",
   "execution_count": 49,
   "metadata": {},
   "outputs": [],
   "source": [
    "test['date_block_num'] = 34"
   ]
  },
  {
   "cell_type": "code",
   "execution_count": 50,
   "metadata": {},
   "outputs": [
    {
     "data": {
      "text/plain": [
       "array([0.67712606, 0.11322301, 0.63434437, ..., 0.08568678, 0.01568121,\n",
       "       0.08189779])"
      ]
     },
     "execution_count": 50,
     "metadata": {},
     "output_type": "execute_result"
    }
   ],
   "source": [
    "preds = lr_model.predict(test[['date_block_num']+features])\n",
    "preds.clip(0,20,out=preds)"
   ]
  },
  {
   "cell_type": "code",
   "execution_count": 51,
   "metadata": {},
   "outputs": [
    {
     "name": "stdout",
     "output_type": "stream",
     "text": [
      "0.255489309431921\n",
      "20.0\n"
     ]
    }
   ],
   "source": [
    "\n",
    "print(np.mean(preds))\n",
    "print(np.max(preds))"
   ]
  },
  {
   "cell_type": "code",
   "execution_count": 52,
   "metadata": {},
   "outputs": [],
   "source": [
    "submission = test.loc[:,['ID']]\n",
    "submission['item_cnt_month'] = preds\n",
    "\n",
    "submission.to_csv('submission.csv', index=False)"
   ]
  }
 ],
 "metadata": {
  "kernelspec": {
   "display_name": "Python 3",
   "language": "python",
   "name": "python3"
  },
  "language_info": {
   "codemirror_mode": {
    "name": "ipython",
    "version": 3
   },
   "file_extension": ".py",
   "mimetype": "text/x-python",
   "name": "python",
   "nbconvert_exporter": "python",
   "pygments_lexer": "ipython3",
   "version": "3.6.7"
  }
 },
 "nbformat": 4,
 "nbformat_minor": 2
}
